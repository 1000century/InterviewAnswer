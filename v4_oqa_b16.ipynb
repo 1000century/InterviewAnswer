{
  "cells": [
    {
      "cell_type": "markdown",
      "metadata": {
        "id": "view-in-github",
        "colab_type": "text"
      },
      "source": [
        "<a href=\"https://colab.research.google.com/github/1000century/InterviewAnswer/blob/main/v4_oqa_b16.ipynb\" target=\"_parent\"><img src=\"https://colab.research.google.com/assets/colab-badge.svg\" alt=\"Open In Colab\"/></a>"
      ]
    },
    {
      "cell_type": "code",
      "execution_count": null,
      "id": "82611183",
      "metadata": {
        "execution": {
          "iopub.execute_input": "2024-11-22T14:28:22.777296Z",
          "iopub.status.busy": "2024-11-22T14:28:22.776973Z",
          "iopub.status.idle": "2024-11-22T14:28:49.356278Z",
          "shell.execute_reply": "2024-11-22T14:28:49.354981Z"
        },
        "id": "82611183",
        "papermill": {
          "duration": 26.618431,
          "end_time": "2024-11-22T14:28:49.358724",
          "exception": false,
          "start_time": "2024-11-22T14:28:22.740293",
          "status": "completed"
        },
        "tags": []
      },
      "outputs": [],
      "source": [
        "! pip install evaluate -qq\n",
        "! pip install korouge_score -qq\n",
        "! pip install bert_score -qq"
      ]
    },
    {
      "cell_type": "code",
      "execution_count": null,
      "id": "be87b121",
      "metadata": {
        "execution": {
          "iopub.execute_input": "2024-11-22T14:28:49.428374Z",
          "iopub.status.busy": "2024-11-22T14:28:49.428061Z",
          "iopub.status.idle": "2024-11-22T14:28:50.877381Z",
          "shell.execute_reply": "2024-11-22T14:28:50.876725Z"
        },
        "id": "be87b121",
        "papermill": {
          "duration": 1.486732,
          "end_time": "2024-11-22T14:28:50.879325",
          "exception": false,
          "start_time": "2024-11-22T14:28:49.392593",
          "status": "completed"
        },
        "tags": []
      },
      "outputs": [],
      "source": [
        "from datasets import load_dataset, Dataset, DatasetDict\n",
        "import pandas as pd\n",
        "import json\n",
        "import os\n",
        "import zipfile\n",
        "from typing import List, Dict\n",
        "\n",
        "def flatten_json_data(data_list):\n",
        "    \"\"\"JSON 데이터를 평탄화하는 함수\"\"\"\n",
        "    return pd.json_normalize(\n",
        "        data_list,\n",
        "        sep='_',\n",
        "        record_path=None,\n",
        "        meta=[\n",
        "            'category',\n",
        "            'job_field',\n",
        "            'gender',\n",
        "            'experience',\n",
        "            ['version'],\n",
        "            ['dataSet', 'answer', 'raw', 'text'],\n",
        "            ['dataSet', 'answer', 'summary', 'text'],\n",
        "            ['dataSet', 'question', 'raw', 'text'],\n",
        "            ['dataSet', 'info', 'ageRange'],\n",
        "            ['dataSet', 'info', 'channel'],\n",
        "            ['dataSet', 'info', 'date'],\n",
        "            ['dataSet', 'info', 'experience'],\n",
        "            ['dataSet', 'info', 'gender'],\n",
        "            ['dataSet', 'info', 'occupation'],\n",
        "            ['dataSet', 'info', 'place'],\n",
        "            ['rawDataInfo', 'answer', 'audioPath'],\n",
        "            ['rawDataInfo', 'question', 'audioPath']\n",
        "        ]\n",
        "    )\n",
        "\n",
        "def download_and_extract(urls: List[str], base_path: str) -> None:\n",
        "    \"\"\"\n",
        "    URL 리스트에서 ZIP 파일을 다운로드하고 압축을 해제하는 함수\n",
        "    \"\"\"\n",
        "    os.makedirs(base_path, exist_ok=True)\n",
        "\n",
        "    for i, url in enumerate(urls):\n",
        "        zip_file_name = url.split(\"/\")[-1]\n",
        "        zip_file_path = os.path.join(\"/kaggle/working\", zip_file_name)\n",
        "\n",
        "        # wget을 사용하여 파일 다운로드\n",
        "        !wget -q {url} -O {zip_file_path}\n",
        "\n",
        "        # 압축 해제할 폴더 생성\n",
        "        subfolder_name = zip_file_name.replace('.zip', '')\n",
        "        subfolder_path = os.path.join(base_path, subfolder_name)\n",
        "        os.makedirs(subfolder_path, exist_ok=True)\n",
        "\n",
        "        # ZIP 파일 압축 해제\n",
        "        with zipfile.ZipFile(zip_file_path, 'r') as zip_ref:\n",
        "            zip_ref.extractall(subfolder_path)\n",
        "\n",
        "        # 다운로드한 ZIP 파일 삭제\n",
        "        os.remove(zip_file_path)\n",
        "\n",
        "def create_dataset_from_json_files(base_path: str) -> Dataset:\n",
        "    \"\"\"\n",
        "    주어진 경로에서 JSON 파일들을 읽어 Dataset으로 변환하는 함수\n",
        "    \"\"\"\n",
        "    all_data = []\n",
        "\n",
        "    for root, _, files in os.walk(base_path):\n",
        "        for file in files:\n",
        "            if file.endswith('.json'):\n",
        "                file_path = os.path.join(root, file)\n",
        "                try:\n",
        "                    with open(file_path, 'r', encoding='utf-8') as f:\n",
        "                        data = json.load(f)\n",
        "                        # 파일 경로에서 메타데이터 추출\n",
        "                        folder_name = os.path.basename(os.path.dirname(file_path))\n",
        "                        parts = folder_name.split('_')\n",
        "                        data.update({\n",
        "                            'category': parts[0],  # TL or VL\n",
        "                            'job_field': '_'.join(parts[1:-2]),\n",
        "                            'gender': parts[-2],\n",
        "                            'experience': parts[-1]\n",
        "                        })\n",
        "                        all_data.append(data)\n",
        "                except json.JSONDecodeError as e:\n",
        "                    print(f\"Error reading {file_path}: {e}\")\n",
        "\n",
        "    # JSON 데이터 평탄화\n",
        "    df = flatten_json_data(all_data)\n",
        "\n",
        "    # DataFrame을 Dataset으로 변환\n",
        "    return Dataset.from_pandas(df)\n",
        "\n",
        "def create_interview_dataset():\n",
        "    \"\"\"\n",
        "    인터뷰 데이터셋을 생성하고 DatasetDict로 반환하는 함수\n",
        "    \"\"\"\n",
        "    # 훈련 데이터 URL\n",
        "    train_urls = [\n",
        "        \"https://github.com/1000century/multi_lion/raw/main/interview/Training/TL_01.Management_Female_Experienced.zip\",\n",
        "        \"https://github.com/1000century/multi_lion/raw/main/interview/Training/TL_01.Management_Female_New.zip\",\n",
        "        \"https://github.com/1000century/multi_lion/raw/main/interview/Training/TL_01.Management_Male_Experienced.zip\",\n",
        "        \"https://github.com/1000century/multi_lion/raw/main/interview/Training/TL_01.Management_Male_New.zip\",\n",
        "        \"https://github.com/1000century/multi_lion/raw/main/interview/Training/TL_02.SalesMarketing_Female_Experienced.zip\",\n",
        "        \"https://github.com/1000century/multi_lion/raw/main/interview/Training/TL_02.SalesMarketing_Female_New.zip\",\n",
        "        \"https://github.com/1000century/multi_lion/raw/main/interview/Training/TL_02.SalesMarketing_Male_Experienced.zip\",\n",
        "        \"https://github.com/1000century/multi_lion/raw/main/interview/Training/TL_02.SalesMarketing_Male_New.zip\",\n",
        "        \"https://github.com/1000century/multi_lion/raw/main/interview/Training/TL_03.PublicService_Female_Experienced.zip\",\n",
        "        \"https://github.com/1000century/multi_lion/raw/main/interview/Training/TL_03.PublicService_Female_New.zip\",\n",
        "        \"https://github.com/1000century/multi_lion/raw/main/interview/Training/TL_03.PublicService_Male_Experienced.zip\",\n",
        "        \"https://github.com/1000century/multi_lion/raw/main/interview/Training/TL_03.PublicService_Male_New.zip\",\n",
        "        \"https://github.com/1000century/multi_lion/raw/main/interview/Training/TL_04.RND_Female_Experienced.zip\",\n",
        "        \"https://github.com/1000century/multi_lion/raw/main/interview/Training/TL_04.RND_Female_New.zip\",\n",
        "        \"https://github.com/1000century/multi_lion/raw/main/interview/Training/TL_04.RND_Male_Experienced.zip\",\n",
        "        \"https://github.com/1000century/multi_lion/raw/main/interview/Training/TL_04.RND_Male_New.zip\",\n",
        "        \"https://github.com/1000century/multi_lion/raw/main/interview/Training/TL_05.ICT_Female_Experienced.zip\",\n",
        "        \"https://github.com/1000century/multi_lion/raw/main/interview/Training/TL_05.ICT_Female_New.zip\",\n",
        "        \"https://github.com/1000century/multi_lion/raw/main/interview/Training/TL_05.ICT_Male_Experienced.zip\",\n",
        "        \"https://github.com/1000century/multi_lion/raw/main/interview/Training/TL_05.ICT_Male_New.zip\",\n",
        "        \"https://github.com/1000century/multi_lion/raw/main/interview/Training/TL_06.Design_Female_Experienced.zip\",\n",
        "        \"https://github.com/1000century/multi_lion/raw/main/interview/Training/TL_06.Design_Female_New.zip\",\n",
        "        \"https://github.com/1000century/multi_lion/raw/main/interview/Training/TL_06.Design_Male_Experienced.zip\",\n",
        "        \"https://github.com/1000century/multi_lion/raw/main/interview/Training/TL_06.Design_Male_New.zip\",\n",
        "        \"https://github.com/1000century/multi_lion/raw/main/interview/Training/TL_07.ProductionManufacturing_Female_Experienced.zip\",\n",
        "        \"https://github.com/1000century/multi_lion/raw/main/interview/Training/TL_07.ProductionManufacturing_Female_New.zip\",\n",
        "        \"https://github.com/1000century/multi_lion/raw/main/interview/Training/TL_07.ProductionManufacturing_Male_Experienced.zip\",\n",
        "        \"https://github.com/1000century/multi_lion/raw/main/interview/Training/TL_07.ProductionManufacturing_Male_New.zip\"\n",
        "    ]\n",
        "\n",
        "    # 검증 데이터 URL\n",
        "    valid_urls = [\n",
        "        \"https://github.com/1000century/multi_lion/raw/main/interview/Validation/VL_01.Management_Female_Experienced.zip\",\n",
        "        \"https://github.com/1000century/multi_lion/raw/main/interview/Validation/VL_01.Management_Female_New.zip\",\n",
        "        \"https://github.com/1000century/multi_lion/raw/main/interview/Validation/VL_01.Management_Male_Experienced.zip\",\n",
        "        \"https://github.com/1000century/multi_lion/raw/main/interview/Validation/VL_01.Management_Male_New.zip\",\n",
        "        \"https://github.com/1000century/multi_lion/raw/main/interview/Validation/VL_02.SalesMarketing_Female_Experienced.zip\",\n",
        "        \"https://github.com/1000century/multi_lion/raw/main/interview/Validation/VL_02.SalesMarketing_Female_New.zip\",\n",
        "        \"https://github.com/1000century/multi_lion/raw/main/interview/Validation/VL_02.SalesMarketing_Male_Experienced.zip\",\n",
        "        \"https://github.com/1000century/multi_lion/raw/main/interview/Validation/VL_02.SalesMarketing_Male_New.zip\",\n",
        "        \"https://github.com/1000century/multi_lion/raw/main/interview/Validation/VL_03.PublicService_Female_Experienced.zip\",\n",
        "        \"https://github.com/1000century/multi_lion/raw/main/interview/Validation/VL_03.PublicService_Female_New.zip\",\n",
        "        \"https://github.com/1000century/multi_lion/raw/main/interview/Validation/VL_03.PublicService_Male_Experienced.zip\",\n",
        "        \"https://github.com/1000century/multi_lion/raw/main/interview/Validation/VL_03.PublicService_Male_New.zip\",\n",
        "        \"https://github.com/1000century/multi_lion/raw/main/interview/Validation/VL_04.RND_Female_Experienced.zip\",\n",
        "        \"https://github.com/1000century/multi_lion/raw/main/interview/Validation/VL_04.RND_Female_New.zip\",\n",
        "        \"https://github.com/1000century/multi_lion/raw/main/interview/Validation/VL_04.RND_Male_Experienced.zip\",\n",
        "        \"https://github.com/1000century/multi_lion/raw/main/interview/Validation/VL_04.RND_Male_New.zip\",\n",
        "        \"https://github.com/1000century/multi_lion/raw/main/interview/Validation/VL_05.ICT_Female_Experienced.zip\",\n",
        "        \"https://github.com/1000century/multi_lion/raw/main/interview/Validation/VL_05.ICT_Female_New.zip\",\n",
        "        \"https://github.com/1000century/multi_lion/raw/main/interview/Validation/VL_05.ICT_Male_Experienced.zip\",\n",
        "        \"https://github.com/1000century/multi_lion/raw/main/interview/Validation/VL_05.ICT_Male_New.zip\",\n",
        "        \"https://github.com/1000century/multi_lion/raw/main/interview/Validation/VL_06.Design_Female_Experienced.zip\",\n",
        "        \"https://github.com/1000century/multi_lion/raw/main/interview/Validation/VL_06.Design_Female_New.zip\",\n",
        "        \"https://github.com/1000century/multi_lion/raw/main/interview/Validation/VL_06.Design_Male_Experienced.zip\",\n",
        "        \"https://github.com/1000century/multi_lion/raw/main/interview/Validation/VL_06.Design_Male_New.zip\",\n",
        "        \"https://github.com/1000century/multi_lion/raw/main/interview/Validation/VL_07.ProductionManufacturing_Female_Experienced.zip\",\n",
        "        \"https://github.com/1000century/multi_lion/raw/main/interview/Validation/VL_07.ProductionManufacturing_Female_New.zip\",\n",
        "        \"https://github.com/1000century/multi_lion/raw/main/interview/Validation/VL_07.ProductionManufacturing_Male_Experienced.zip\",\n",
        "        \"https://github.com/1000century/multi_lion/raw/main/interview/Validation/VL_07.ProductionManufacturing_Male_New.zip\"\n",
        "    ]\n",
        "\n",
        "    # 데이터 다운로드 및 압축 해제\n",
        "    train_path = '/kaggle/working/train_unzipped'\n",
        "    valid_path = '/kaggle/working/validation_unzipped'\n",
        "\n",
        "    download_and_extract(train_urls, train_path)\n",
        "    download_and_extract(valid_urls, valid_path)\n",
        "\n",
        "    # 데이터셋 생성\n",
        "    train_dataset = create_dataset_from_json_files(train_path)\n",
        "    valid_dataset = create_dataset_from_json_files(valid_path)\n",
        "\n",
        "    # DatasetDict 생성\n",
        "    dataset_dict = DatasetDict({\n",
        "        'train': train_dataset,\n",
        "        'validation': valid_dataset\n",
        "    })\n",
        "\n",
        "    return dataset_dict"
      ]
    },
    {
      "cell_type": "markdown",
      "id": "bc035edf",
      "metadata": {
        "id": "bc035edf",
        "papermill": {
          "duration": 0.032861,
          "end_time": "2024-11-22T14:28:50.946007",
          "exception": false,
          "start_time": "2024-11-22T14:28:50.913146",
          "status": "completed"
        },
        "tags": []
      },
      "source": [
        "# Data Preprocessing"
      ]
    },
    {
      "cell_type": "code",
      "execution_count": null,
      "id": "d2abd17b",
      "metadata": {
        "execution": {
          "iopub.execute_input": "2024-11-22T14:28:51.013324Z",
          "iopub.status.busy": "2024-11-22T14:28:51.012850Z",
          "iopub.status.idle": "2024-11-22T14:30:56.237018Z",
          "shell.execute_reply": "2024-11-22T14:30:56.236093Z"
        },
        "id": "d2abd17b",
        "papermill": {
          "duration": 125.260145,
          "end_time": "2024-11-22T14:30:56.239112",
          "exception": false,
          "start_time": "2024-11-22T14:28:50.978967",
          "status": "completed"
        },
        "tags": [],
        "outputId": "8d34b815-b70f-455f-81ca-34ef7e8a737d"
      },
      "outputs": [
        {
          "name": "stdout",
          "output_type": "stream",
          "text": [
            "Error reading /kaggle/working/train_unzipped/TL_05.ICT_Male_New/ckmk_d_ict_m_n_337139.json: Expecting property name enclosed in double quotes: line 22 column 21 (char 576)\n",
            "Error reading /kaggle/working/train_unzipped/TL_01.Management_Female_New/ckmk_d_bm_f_n_343176.json: Invalid control character at: line 23 column 433 (char 1029)\n",
            "Error reading /kaggle/working/train_unzipped/TL_01.Management_Female_New/ckmk_d_bm_f_n_269424.json: Invalid control character at: line 23 column 571 (char 1132)\n",
            "Error reading /kaggle/working/train_unzipped/TL_01.Management_Female_New/ckmk_d_bm_f_n_178194.json: Invalid control character at: line 23 column 135 (char 755)\n",
            "Error reading /kaggle/working/validation_unzipped/VL_01.Management_Female_New/ckmk_d_bm_f_n_161564.json: Invalid control character at: line 23 column 100 (char 688)\n",
            "Error reading /kaggle/working/validation_unzipped/VL_06.Design_Female_Experienced/ckmk_d_ard_f_e_66661.json: Invalid control character at: line 34 column 165 (char 1573)\n",
            "\n",
            "Dataset Info:\n",
            "DatasetDict({\n",
            "    train: Dataset({\n",
            "        features: ['version', 'category', 'job_field', 'gender', 'experience', 'dataSet_info_date', 'dataSet_info_occupation', 'dataSet_info_channel', 'dataSet_info_place', 'dataSet_info_gender', 'dataSet_info_ageRange', 'dataSet_info_experience', 'dataSet_question_raw_text', 'dataSet_question_raw_wordCount', 'dataSet_question_emotion', 'dataSet_question_intent', 'dataSet_answer_raw_text', 'dataSet_answer_raw_wordCount', 'dataSet_answer_emotion', 'dataSet_answer_intent', 'dataSet_answer_summary_text', 'dataSet_answer_summary_wordCount', 'rawDataInfo_question_fileFormat', 'rawDataInfo_question_fileSize', 'rawDataInfo_question_duration', 'rawDataInfo_question_samplingBit', 'rawDataInfo_question_channelCount', 'rawDataInfo_question_samplingRate', 'rawDataInfo_question_audioPath', 'rawDataInfo_answer_fileFormat', 'rawDataInfo_answer_fileSize', 'rawDataInfo_answer_duration', 'rawDataInfo_answer_samplingBit', 'rawDataInfo_answer_channelCount', 'rawDataInfo_answer_samplingRate', 'rawDataInfo_answer_audioPath'],\n",
            "        num_rows: 68074\n",
            "    })\n",
            "    validation: Dataset({\n",
            "        features: ['version', 'category', 'job_field', 'gender', 'experience', 'dataSet_info_date', 'dataSet_info_occupation', 'dataSet_info_channel', 'dataSet_info_place', 'dataSet_info_gender', 'dataSet_info_ageRange', 'dataSet_info_experience', 'dataSet_question_raw_text', 'dataSet_question_raw_wordCount', 'dataSet_question_emotion', 'dataSet_question_intent', 'dataSet_answer_raw_text', 'dataSet_answer_raw_wordCount', 'dataSet_answer_emotion', 'dataSet_answer_intent', 'dataSet_answer_summary_text', 'dataSet_answer_summary_wordCount', 'rawDataInfo_question_fileFormat', 'rawDataInfo_question_fileSize', 'rawDataInfo_question_duration', 'rawDataInfo_question_samplingBit', 'rawDataInfo_question_channelCount', 'rawDataInfo_question_samplingRate', 'rawDataInfo_question_audioPath', 'rawDataInfo_answer_fileFormat', 'rawDataInfo_answer_fileSize', 'rawDataInfo_answer_duration', 'rawDataInfo_answer_samplingBit', 'rawDataInfo_answer_channelCount', 'rawDataInfo_answer_samplingRate', 'rawDataInfo_answer_audioPath'],\n",
            "        num_rows: 8026\n",
            "    })\n",
            "})\n"
          ]
        }
      ],
      "source": [
        "# 데이터셋 생성\n",
        "dataset = create_interview_dataset()\n",
        "\n",
        "# 데이터셋 정보 출력\n",
        "print(\"\\nDataset Info:\")\n",
        "print(dataset)"
      ]
    },
    {
      "cell_type": "code",
      "execution_count": null,
      "id": "44caa214",
      "metadata": {
        "execution": {
          "iopub.execute_input": "2024-11-22T14:30:56.308174Z",
          "iopub.status.busy": "2024-11-22T14:30:56.307866Z",
          "iopub.status.idle": "2024-11-22T14:31:00.359541Z",
          "shell.execute_reply": "2024-11-22T14:31:00.358861Z"
        },
        "id": "44caa214",
        "papermill": {
          "duration": 4.08851,
          "end_time": "2024-11-22T14:31:00.361523",
          "exception": false,
          "start_time": "2024-11-22T14:30:56.273013",
          "status": "completed"
        },
        "tags": []
      },
      "outputs": [],
      "source": [
        "from transformers import PreTrainedTokenizerFast\n",
        "from transformers import GPT2LMHeadModel\n",
        "import torch\n"
      ]
    },
    {
      "cell_type": "code",
      "execution_count": null,
      "id": "61942728",
      "metadata": {
        "execution": {
          "iopub.execute_input": "2024-11-22T14:31:00.432052Z",
          "iopub.status.busy": "2024-11-22T14:31:00.431498Z",
          "iopub.status.idle": "2024-11-22T14:31:01.503270Z",
          "shell.execute_reply": "2024-11-22T14:31:01.502419Z"
        },
        "id": "61942728",
        "outputId": "3c0252ef-5a6c-4775-ca04-e39c6c8a2f1f",
        "papermill": {
          "duration": 1.108983,
          "end_time": "2024-11-22T14:31:01.505227",
          "exception": false,
          "start_time": "2024-11-22T14:31:00.396244",
          "status": "completed"
        },
        "tags": [],
        "colab": {
          "referenced_widgets": [
            "139a722a5d224de2b2edc9215f772217",
            "e575c26a74824fbba736e0962915efd1"
          ]
        }
      },
      "outputs": [
        {
          "data": {
            "application/vnd.jupyter.widget-view+json": {
              "model_id": "139a722a5d224de2b2edc9215f772217",
              "version_major": 2,
              "version_minor": 0
            },
            "text/plain": [
              "tokenizer.json:   0%|          | 0.00/2.83M [00:00<?, ?B/s]"
            ]
          },
          "metadata": {},
          "output_type": "display_data"
        },
        {
          "data": {
            "application/vnd.jupyter.widget-view+json": {
              "model_id": "e575c26a74824fbba736e0962915efd1",
              "version_major": 2,
              "version_minor": 0
            },
            "text/plain": [
              "config.json:   0%|          | 0.00/1.00k [00:00<?, ?B/s]"
            ]
          },
          "metadata": {},
          "output_type": "display_data"
        },
        {
          "name": "stderr",
          "output_type": "stream",
          "text": [
            "The tokenizer class you load from this checkpoint is not the same type as the class this function is called from. It may result in unexpected tokenization. \n",
            "The tokenizer class you load from this checkpoint is 'GPT2Tokenizer'. \n",
            "The class this function is called from is 'PreTrainedTokenizerFast'.\n",
            "/opt/conda/lib/python3.10/site-packages/transformers/tokenization_utils_base.py:1617: FutureWarning: `clean_up_tokenization_spaces` was not set. It will be set to `True` by default. This behavior will be deprecated in transformers v4.45, and will be then set to `False` by default. For more details check this issue: https://github.com/huggingface/transformers/issues/31884\n",
            "  warnings.warn(\n"
          ]
        }
      ],
      "source": [
        "tokenizer = PreTrainedTokenizerFast.from_pretrained(\"skt/kogpt2-base-v2\",\n",
        "bos_token='</s>', eos_token='</s>', unk_token='<unk>',\n",
        "pad_token='<pad>', mask_token='<mask>')"
      ]
    },
    {
      "cell_type": "code",
      "execution_count": null,
      "id": "5dae4e08",
      "metadata": {
        "execution": {
          "iopub.execute_input": "2024-11-22T14:31:01.575348Z",
          "iopub.status.busy": "2024-11-22T14:31:01.574510Z",
          "iopub.status.idle": "2024-11-22T14:31:24.659644Z",
          "shell.execute_reply": "2024-11-22T14:31:24.658793Z"
        },
        "id": "5dae4e08",
        "outputId": "953bc2e4-719e-4c49-e9df-c53a22fb171d",
        "papermill": {
          "duration": 23.121767,
          "end_time": "2024-11-22T14:31:24.661396",
          "exception": false,
          "start_time": "2024-11-22T14:31:01.539629",
          "status": "completed"
        },
        "tags": [],
        "colab": {
          "referenced_widgets": [
            "d79aa80974b04466a68b70a89cc1a014",
            "8a546fe86b3e46879db448345b21d2ea"
          ]
        }
      },
      "outputs": [
        {
          "data": {
            "application/vnd.jupyter.widget-view+json": {
              "model_id": "d79aa80974b04466a68b70a89cc1a014",
              "version_major": 2,
              "version_minor": 0
            },
            "text/plain": [
              "Map:   0%|          | 0/68074 [00:00<?, ? examples/s]"
            ]
          },
          "metadata": {},
          "output_type": "display_data"
        },
        {
          "data": {
            "application/vnd.jupyter.widget-view+json": {
              "model_id": "8a546fe86b3e46879db448345b21d2ea",
              "version_major": 2,
              "version_minor": 0
            },
            "text/plain": [
              "Map:   0%|          | 0/8026 [00:00<?, ? examples/s]"
            ]
          },
          "metadata": {},
          "output_type": "display_data"
        }
      ],
      "source": [
        "occupation_map = {\n",
        "    'SM': '영업마케팅',\n",
        "    'PS': '공공서비스',\n",
        "    'RND': '연구개발',\n",
        "    'ICT': '정보통신',\n",
        "    'ARD': '디자인',\n",
        "    'MM': '생산관리',\n",
        "    'BM': '경영사무'\n",
        "}\n",
        "def preprocess_training_examples(examples):\n",
        "    max_length=256\n",
        "    formatted_inputs = [\n",
        "        f\"</s> 직무: {occupation_map[occ]} 질문: {q} 답변: {a} </s>\"\n",
        "        for occ, exp, q, a in zip(\n",
        "            examples[\"dataSet_info_occupation\"],\n",
        "            examples[\"dataSet_info_experience\"],\n",
        "            examples[\"dataSet_question_raw_text\"],\n",
        "            examples[\"dataSet_answer_raw_text\"]\n",
        "        )\n",
        "    ]\n",
        "\n",
        "    tokenized = tokenizer(\n",
        "        formatted_inputs,\n",
        "        max_length=max_length,\n",
        "        truncation=True,\n",
        "        padding=\"max_length\"\n",
        "    )\n",
        "\n",
        "    return {\n",
        "        'input_ids': tokenized['input_ids'],\n",
        "        'attention_mask': tokenized['attention_mask'],\n",
        "        'labels': [-100 if token == tokenizer.pad_token_id else token for token in tokenized['input_ids']]\n",
        "    }\n",
        "\n",
        "orig_train_dataset = dataset['train'].map(\n",
        "    preprocess_training_examples,\n",
        "    batched=True,\n",
        "    remove_columns=dataset['train'].column_names,\n",
        "    load_from_cache_file=False  # 이 옵션 추가\n",
        ")\n",
        "\n",
        "orig_valid_dataset = dataset['validation'].map(\n",
        "    preprocess_training_examples,\n",
        "    batched=True,\n",
        "    remove_columns=dataset['validation'].column_names,\n",
        "    load_from_cache_file=False  # 이 옵션 추가\n",
        ")"
      ]
    },
    {
      "cell_type": "code",
      "execution_count": null,
      "id": "87c3a253",
      "metadata": {
        "papermill": {
          "duration": 0.033729,
          "end_time": "2024-11-22T14:31:24.731923",
          "exception": false,
          "start_time": "2024-11-22T14:31:24.698194",
          "status": "completed"
        },
        "tags": [],
        "id": "87c3a253"
      },
      "outputs": [],
      "source": []
    },
    {
      "cell_type": "code",
      "execution_count": null,
      "id": "c6d12d48",
      "metadata": {
        "execution": {
          "iopub.execute_input": "2024-11-22T14:31:24.801967Z",
          "iopub.status.busy": "2024-11-22T14:31:24.801629Z",
          "iopub.status.idle": "2024-11-22T14:31:24.805662Z",
          "shell.execute_reply": "2024-11-22T14:31:24.804894Z"
        },
        "id": "c6d12d48",
        "papermill": {
          "duration": 0.040802,
          "end_time": "2024-11-22T14:31:24.807180",
          "exception": false,
          "start_time": "2024-11-22T14:31:24.766378",
          "status": "completed"
        },
        "tags": []
      },
      "outputs": [],
      "source": [
        "import torch\n",
        "from torch.utils.data import Dataset, DataLoader"
      ]
    },
    {
      "cell_type": "code",
      "execution_count": null,
      "id": "73f6e750",
      "metadata": {
        "execution": {
          "iopub.execute_input": "2024-11-22T14:31:24.876702Z",
          "iopub.status.busy": "2024-11-22T14:31:24.875881Z",
          "iopub.status.idle": "2024-11-22T14:31:24.880870Z",
          "shell.execute_reply": "2024-11-22T14:31:24.880032Z"
        },
        "id": "73f6e750",
        "outputId": "37f368af-2824-4c33-987a-eb0cd1f012e8",
        "papermill": {
          "duration": 0.041355,
          "end_time": "2024-11-22T14:31:24.882490",
          "exception": false,
          "start_time": "2024-11-22T14:31:24.841135",
          "status": "completed"
        },
        "tags": []
      },
      "outputs": [
        {
          "name": "stdout",
          "output_type": "stream",
          "text": [
            "8026\n"
          ]
        }
      ],
      "source": [
        "from torch.utils.data import Subset\n",
        "\n",
        "train_dataset = orig_train_dataset\n",
        "valid_dataset = orig_valid_dataset\n",
        "# # 앞에서부터 1000개씩 선택\n",
        "# train_dataset = Subset(orig_train_dataset, range(100))\n",
        "# valid_dataset = Subset(orig_valid_dataset, range(100))\n",
        "\n",
        "print(len(valid_dataset))  # 1000"
      ]
    },
    {
      "cell_type": "code",
      "execution_count": null,
      "id": "b154d784",
      "metadata": {
        "execution": {
          "iopub.execute_input": "2024-11-22T14:31:24.953403Z",
          "iopub.status.busy": "2024-11-22T14:31:24.952618Z",
          "iopub.status.idle": "2024-11-22T14:31:25.024718Z",
          "shell.execute_reply": "2024-11-22T14:31:25.023856Z"
        },
        "id": "b154d784",
        "outputId": "06b654be-84bf-4846-c771-fcffbcc2e769",
        "papermill": {
          "duration": 0.109482,
          "end_time": "2024-11-22T14:31:25.026968",
          "exception": false,
          "start_time": "2024-11-22T14:31:24.917486",
          "status": "completed"
        },
        "tags": []
      },
      "outputs": [
        {
          "name": "stdout",
          "output_type": "stream",
          "text": [
            "Input IDs shape: torch.Size([16, 256])\n",
            "Attention mask shape: torch.Size([16, 256])\n",
            "Labels shape: torch.Size([16, 256])\n",
            "tensor([    1, 17141,   401, 12564, 25288, 24454,   401, 41031, 20845,  9068,\n",
            "         9269, 10261, 25892,  9443, 14369, 19602, 18282, 25892,  9443, 17746,\n",
            "        10055,  7426,  8102,  8745,  9044,  9863, 38083, 15918,  9217, 16203,\n",
            "         9078,  7895, 23775,  9269, 10261,  9863, 10904, 13570, 10175,  7235,\n",
            "         9304, 24117,  8711,  9046, 12450,  9117,  7377,  7172,  7182, 12817,\n",
            "         7643,   401,  9265,  7162, 25892,  9443, 14369, 19602,  9157,  9241,\n",
            "        12521, 46651,  9112,  9443, 17746, 10055,  7426,  8102,  8745, 11520,\n",
            "         9676, 12857, 10142, 10134, 10544,  6960, 10351, 11732, 11732, 25892,\n",
            "         9443, 14369,  9266,  8148,  9031,  9144, 16691, 38723, 11732, 13811,\n",
            "        41736, 26806, 13811,  9136,  7380,  7235,  9267,  9728,  9038, 37339,\n",
            "        10704,  8135, 12857, 45887,  9564, 18457, 33702,  9730,  9024, 11545,\n",
            "         9420,  7162,  9266, 12589, 10185, 10137, 31077, 30226, 10185,  8263,\n",
            "        11732, 25892,  9161, 33319,  9730,  9161, 16179,  6889,  9730, 20688,\n",
            "         9135, 12904, 10185, 20817, 25689,  9265,  6824, 17456,  9330, 46651,\n",
            "         9018,  6853, 17709,  9676, 46651,  9779, 10624,  6889,  9779, 27960,\n",
            "         9022, 12857, 10556, 15918, 13811,  9136,  7380,  9779, 27960, 12204,\n",
            "        12857, 10185, 10137,  9267,  9266,  8707,  9032,  9355, 10185,  9031,\n",
            "         9144, 16691, 10185, 10904,  8148,  9031,  9144, 16691,   739,     1,\n",
            "            3,     3,     3,     3,     3,     3,     3,     3,     3,     3,\n",
            "            3,     3,     3,     3,     3,     3,     3,     3,     3,     3,\n",
            "            3,     3,     3,     3,     3,     3,     3,     3,     3,     3,\n",
            "            3,     3,     3,     3,     3,     3,     3,     3,     3,     3,\n",
            "            3,     3,     3,     3,     3,     3,     3,     3,     3,     3,\n",
            "            3,     3,     3,     3,     3,     3,     3,     3,     3,     3,\n",
            "            3,     3,     3,     3,     3,     3,     3,     3,     3,     3,\n",
            "            3,     3,     3,     3,     3,     3])\n",
            "</s> 직무: 영업마케팅 질문: 본인이 생각할 때 본인은 남을 잘 이끄는 리더형과 남을 잘 따르는 팔로워형 중 어떤 유형에 맞는다고 생각을 하십니까 본인은 어떤 유형인지 이유도 함께 말씀해 주시기 바랍니다 답변: 저는 남을 잘 이끄는 리더 형 입니다. 뭐 남 잘 따르는 팔로워형이기도 하고 이제 상황마다 다르긴 하지만 좀 좀 남을 잘 이끄는 편인 것 같습니다. 워낙 좀 동생 선배들보다 동생들이랑도 더 친하고 그러다 보면은 이제 제가 많이 데리고 다니면서 막 사주고 이러는 편이지만 그런 게 익숙해져서 그런지 좀 남을 따라가서 막 따라다니고 막 따르고 말 듣고 그런 것보다 그냥 저가 부르고 음 뭐 이거 하자 하고 뭐 같이 놀고 같이 일하고 그 이제 마음 맞는 동생들이랑 같이 일하고 오히려 이제 그런 게 더 편함 기 때문에 그런 것 같습니다. 그런 유형인 것 같습니다. </s><pad><pad><pad><pad><pad><pad><pad><pad><pad><pad><pad><pad><pad><pad><pad><pad><pad><pad><pad><pad><pad><pad><pad><pad><pad><pad><pad><pad><pad><pad><pad><pad><pad><pad><pad><pad><pad><pad><pad><pad><pad><pad><pad><pad><pad><pad><pad><pad><pad><pad><pad><pad><pad><pad><pad><pad><pad><pad><pad><pad><pad><pad><pad><pad><pad><pad><pad><pad><pad><pad><pad><pad><pad><pad><pad><pad>\n"
          ]
        }
      ],
      "source": [
        "def collate_fn(batch):\n",
        "   input_ids = torch.stack([torch.tensor(item['input_ids']) for item in batch])\n",
        "   attention_mask = torch.stack([torch.tensor(item['attention_mask']) for item in batch])\n",
        "   labels = torch.stack([torch.tensor(item['labels']) for item in batch])\n",
        "\n",
        "   return {\n",
        "       'input_ids': input_ids,\n",
        "       'attention_mask': attention_mask,\n",
        "       'labels': labels\n",
        "   }\n",
        "\n",
        "train_dataloader = DataLoader(train_dataset, batch_size=16, shuffle=True, collate_fn=collate_fn)\n",
        "valid_dataloader = DataLoader(valid_dataset, batch_size=16, shuffle=False, collate_fn=collate_fn)\n",
        "\n",
        "# DataLoader에서 배치 샘플 확인\n",
        "for batch in train_dataloader:\n",
        "    print(\"Input IDs shape:\", batch['input_ids'].shape)\n",
        "    print(\"Attention mask shape:\", batch['attention_mask'].shape)\n",
        "    print(\"Labels shape:\", batch['labels'].shape)\n",
        "    for i in batch['input_ids']:\n",
        "        print(i)\n",
        "        print(tokenizer.decode(i))\n",
        "        break\n",
        "\n",
        "    break"
      ]
    },
    {
      "cell_type": "code",
      "execution_count": null,
      "id": "80dc40a8",
      "metadata": {
        "execution": {
          "iopub.execute_input": "2024-11-22T14:31:25.148078Z",
          "iopub.status.busy": "2024-11-22T14:31:25.147204Z",
          "iopub.status.idle": "2024-11-22T14:31:28.644539Z",
          "shell.execute_reply": "2024-11-22T14:31:28.643510Z"
        },
        "id": "80dc40a8",
        "outputId": "dd9e0ae1-b114-4d5d-a19c-c904a980c698",
        "papermill": {
          "duration": 3.53794,
          "end_time": "2024-11-22T14:31:28.646279",
          "exception": false,
          "start_time": "2024-11-22T14:31:25.108339",
          "status": "completed"
        },
        "tags": [],
        "colab": {
          "referenced_widgets": [
            "e7704d123fc14849bb0de72788a4eaab"
          ]
        }
      },
      "outputs": [
        {
          "data": {
            "application/vnd.jupyter.widget-view+json": {
              "model_id": "e7704d123fc14849bb0de72788a4eaab",
              "version_major": 2,
              "version_minor": 0
            },
            "text/plain": [
              "pytorch_model.bin:   0%|          | 0.00/513M [00:00<?, ?B/s]"
            ]
          },
          "metadata": {},
          "output_type": "display_data"
        },
        {
          "data": {
            "text/plain": [
              "GPT2LMHeadModel(\n",
              "  (transformer): GPT2Model(\n",
              "    (wte): Embedding(51200, 768)\n",
              "    (wpe): Embedding(1024, 768)\n",
              "    (drop): Dropout(p=0.1, inplace=False)\n",
              "    (h): ModuleList(\n",
              "      (0-11): 12 x GPT2Block(\n",
              "        (ln_1): LayerNorm((768,), eps=1e-05, elementwise_affine=True)\n",
              "        (attn): GPT2SdpaAttention(\n",
              "          (c_attn): Conv1D(nf=2304, nx=768)\n",
              "          (c_proj): Conv1D(nf=768, nx=768)\n",
              "          (attn_dropout): Dropout(p=0.1, inplace=False)\n",
              "          (resid_dropout): Dropout(p=0.1, inplace=False)\n",
              "        )\n",
              "        (ln_2): LayerNorm((768,), eps=1e-05, elementwise_affine=True)\n",
              "        (mlp): GPT2MLP(\n",
              "          (c_fc): Conv1D(nf=3072, nx=768)\n",
              "          (c_proj): Conv1D(nf=768, nx=3072)\n",
              "          (act): NewGELUActivation()\n",
              "          (dropout): Dropout(p=0.1, inplace=False)\n",
              "        )\n",
              "      )\n",
              "    )\n",
              "    (ln_f): LayerNorm((768,), eps=1e-05, elementwise_affine=True)\n",
              "  )\n",
              "  (lm_head): Linear(in_features=768, out_features=51200, bias=False)\n",
              ")"
            ]
          },
          "execution_count": 10,
          "metadata": {},
          "output_type": "execute_result"
        }
      ],
      "source": [
        "import torch\n",
        "from transformers import GPT2LMHeadModel\n",
        "\n",
        "model = GPT2LMHeadModel.from_pretrained('skt/kogpt2-base-v2')\n",
        "device = torch.device(\"cuda\" if torch.cuda.is_available() else \"cpu\")\n",
        "model.to(device)"
      ]
    },
    {
      "cell_type": "markdown",
      "id": "bfd6f133",
      "metadata": {
        "id": "bfd6f133",
        "papermill": {
          "duration": 0.035513,
          "end_time": "2024-11-22T14:31:28.716990",
          "exception": false,
          "start_time": "2024-11-22T14:31:28.681477",
          "status": "completed"
        },
        "tags": []
      },
      "source": [
        "## Model Train"
      ]
    },
    {
      "cell_type": "code",
      "execution_count": null,
      "id": "db3ec36d",
      "metadata": {
        "execution": {
          "iopub.execute_input": "2024-11-22T14:31:28.787423Z",
          "iopub.status.busy": "2024-11-22T14:31:28.786847Z",
          "iopub.status.idle": "2024-11-22T14:31:30.376400Z",
          "shell.execute_reply": "2024-11-22T14:31:30.375424Z"
        },
        "papermill": {
          "duration": 1.627026,
          "end_time": "2024-11-22T14:31:30.378516",
          "exception": false,
          "start_time": "2024-11-22T14:31:28.751490",
          "status": "completed"
        },
        "tags": [],
        "id": "db3ec36d"
      },
      "outputs": [],
      "source": [
        "import torch\n",
        "from torch.utils.data import DataLoader\n",
        "from transformers import AdamW, get_linear_schedule_with_warmup\n",
        "from nltk.translate.bleu_score import sentence_bleu, SmoothingFunction\n",
        "from korouge_score import rouge_scorer\n",
        "from tqdm import tqdm\n",
        "from bert_score import score  # bert-score import 추가\n",
        "import math"
      ]
    },
    {
      "cell_type": "code",
      "execution_count": null,
      "id": "5bf5ebae",
      "metadata": {
        "execution": {
          "iopub.execute_input": "2024-11-22T14:31:30.451476Z",
          "iopub.status.busy": "2024-11-22T14:31:30.450922Z",
          "iopub.status.idle": "2024-11-22T14:31:30.455155Z",
          "shell.execute_reply": "2024-11-22T14:31:30.454439Z"
        },
        "papermill": {
          "duration": 0.042397,
          "end_time": "2024-11-22T14:31:30.456741",
          "exception": false,
          "start_time": "2024-11-22T14:31:30.414344",
          "status": "completed"
        },
        "tags": [],
        "id": "5bf5ebae"
      },
      "outputs": [],
      "source": [
        "from collections import defaultdict"
      ]
    },
    {
      "cell_type": "code",
      "execution_count": null,
      "id": "5ffb28da",
      "metadata": {
        "execution": {
          "iopub.execute_input": "2024-11-22T14:31:30.527348Z",
          "iopub.status.busy": "2024-11-22T14:31:30.527054Z",
          "iopub.status.idle": "2024-11-22T14:31:30.530842Z",
          "shell.execute_reply": "2024-11-22T14:31:30.530002Z"
        },
        "papermill": {
          "duration": 0.041297,
          "end_time": "2024-11-22T14:31:30.532542",
          "exception": false,
          "start_time": "2024-11-22T14:31:30.491245",
          "status": "completed"
        },
        "tags": [],
        "id": "5ffb28da"
      },
      "outputs": [],
      "source": [
        "from collections import defaultdict\n",
        "history = defaultdict(list)"
      ]
    },
    {
      "cell_type": "code",
      "execution_count": null,
      "id": "09bbd9a4",
      "metadata": {
        "execution": {
          "iopub.execute_input": "2024-11-22T14:31:30.604978Z",
          "iopub.status.busy": "2024-11-22T14:31:30.604313Z",
          "iopub.status.idle": "2024-11-22T22:57:38.544139Z",
          "shell.execute_reply": "2024-11-22T22:57:38.543239Z"
        },
        "id": "09bbd9a4",
        "outputId": "ba77cc44-f245-4b52-f7b2-c833c6437101",
        "papermill": {
          "duration": 30367.97786,
          "end_time": "2024-11-22T22:57:38.545981",
          "exception": false,
          "start_time": "2024-11-22T14:31:30.568121",
          "status": "completed"
        },
        "tags": [],
        "colab": {
          "referenced_widgets": [
            "a47eb6dfe091453ebfe8dceda6452c7b",
            "faa7052db4e34493a448166cd585ac5f",
            "fa1d49485c6d4c13b23ca7c8a14aa3b0",
            "c16d0d838c7f4cf0a0f4b5d3882b222a",
            "2e9e0d0e9b074084b2f113262b05e244",
            "9249d416c7804fb5855d8d559bf34b37",
            "2e36b0c0fdab43a2a74042738bea6914",
            "68fdfbfc54144a829a946178e99b6c9a",
            "bf6779adb8e04d68ace6e819bb4f4804",
            "ef63f6f24c4c4031a63f1fb5a4e93a83",
            "0023cdd103974804948f2a41f32268d6",
            "fd158492b1c7466798ad6064b61b5505",
            "619e2341029d4c7b95cb382f698c3009",
            "08a5bc7f58ff4cb69dd8303b8965226b",
            "bf0116ef92004349b2def491804e1485"
          ]
        }
      },
      "outputs": [
        {
          "name": "stderr",
          "output_type": "stream",
          "text": [
            "/opt/conda/lib/python3.10/site-packages/transformers/optimization.py:591: FutureWarning: This implementation of AdamW is deprecated and will be removed in a future version. Use the PyTorch implementation torch.optim.AdamW instead, or set `no_deprecation_warning=True` to disable this warning\n",
            "  warnings.warn(\n",
            "Training Epoch 1: 100%|██████████| 4255/4255 [1:31:59<00:00,  1.30s/it, loss=2.3428]\n"
          ]
        },
        {
          "name": "stdout",
          "output_type": "stream",
          "text": [
            "\n",
            "Epoch 1 Average Training Loss: 2.4068\n"
          ]
        },
        {
          "name": "stderr",
          "output_type": "stream",
          "text": [
            "Validation Epoch 1:   0%|          | 1/502 [00:00<04:23,  1.90it/s, loss=2.3248]"
          ]
        },
        {
          "name": "stdout",
          "output_type": "stream",
          "text": [
            "\u001b[1m직무: 생산관리 질문: 지원자님께서 우리 회사에 들어오시게 된다면 지원자님께서 가장 가고 싶은 부서가 어딘지 이유와 함께 말씀해 주시기 바랍니다 답변: 저는 이 회사에 들어오게 된다면 도로 관련 부서에서 근무하고 싶습니다. 도로가 지역 사회의 발전의 기반 시설이기 때문에 도로가 우선이 되어야 산업이 발전한다고 생각합니다. 그래서 저는 현재 도로 건설에 굉장히 많은 관심을 가지고 있고 앞으로도 그 분야에 대해서 공부하고 싶습니다. 그렇기 때문에 저는 도로 관련 부서에 들어가고 싶습니다. \u001b[0m\n",
            "직무: 공공관리 질문: 지원자님께서 생각 회사에 들어오게면 된다면 가장자님께서 가장 가고 싶은 부서와 있딘지 그리고와 함께 설명해해 주시기 바랍니다 답변: 제가는 제가 회사에 들어오게 된다면 가장교통 업무를에서 일을하고 싶습니다. 왜냐하면 잘마다 중요한 중심이이기이기 때문에 저 지역선이기 한다고 발전할하는데 생각합니다. 또한 저는 도로 도로 관련 많은장히 많은 관심을 가지고 있습니다. 또도 도로 도로 대해서 더 싶습니다.  때문에 저는 도로 관련 부서서에 가장고 싶습니다. \n",
            "\u001b[1m직무: 생산관리 질문: 본인은 위기관리 경험이 있습니까 답변: 위기의 순간에 이제 관리해 드는 상황이 오는데 그 상황에는 일단 응급 상황이기 때문에 어 제가 뭐 섣불리 판단을 하기는 어려울 것 같고 제가 제가 볼 수 있는 상황에서 뭐 땜에 이런 일이 일어났는지 그리고 어떻게 해야 될지 생각을 먼저 하고 그 이외에는 먼저 위에 계시는 팀장님 분이나 아니면 선배님들께 먼저 조언을 구해 가지고 이런 이런 상황이 발생했을 습니다 하면서 조언 이 조언과 도움을 요청할 것 같아요. 그러면 말 그대로 위기 이기 때문에 이 위험한 상황을 함부로 제 마음대로 이렇게 해결할 수 있을 있지는 않을 것 같고 이렇게 도움이나 조언을 구해서 그 위기 상황을 해결해 나갈 것 같습니다. \u001b[0m\n",
            "직무: 공공관리 질문: 지원인은 팀기관리 경험이 있으 답변: 어 순간간에 제가 그자 주는 그런 발생을는데요. 순에서는 어 그 상황이라고 때문에 어 그 그 그불리 대처 할기는 어렵 것 같요. 그 그 때는 있는 가장 어 응급괜에 뭐 상황이 발생다 아니면 그 대처 되는지 이런 해 해 어 다음에 뭐 어 있는신 분장님께께 아니면 어님들께 어 보고를 구 보 어 일이 일이 발생 때니다.다 라고 어도게은 어 받을 것 같요. 어 이제 그대로 제가 상황에서 때문에 어게 상황에 어떻게 넘쳐 해결할 넘 수 있는까 않을 것 같고요. 할 요청을 이런 구할해서 어 상황을 상황을 좀 나갈 것 같습니다. \n",
            "\u001b[1m직무: 생산관리 질문: 요즘 공부를 하고 있는 것이 있는지 있으면 그걸 왜 공부하고 있는지 그리고 지금까지 하면서 무엇을 배웠는지도 설명해 주시기 바랍니다 답변: 요즘 저는 언어 공부를 하고 있습니다. 특히 중국어를 공부를 하고 있는데 중국어는 제가 고등학교 때 처음으로 학교에서 제 이 외국어로 배웠던 경험이 있습니다. 학교 선생님께서는 앞으로의 중국 시장은 무한이 넓고 무엇이든지 할 수 있어 라고 가르쳐주셨기 때문에 그때만 해도 그냥 중문과를 가서 중국어를 했었습니다. 그런데 문법만 공부했던 것이라 잘 되지 않았는데 이것을 다시 중국어를 공부를 하고 중국어 회화를 하고 있습니다. 중국 시장을 가서 바이어를 만나고 그 바이어에게 그 물건을 팔면 그 내 물건은 정말 몇 십억 인구에게 전해지는 아주 좋은 획기적인 그런 일이 생길 수 있습니다. 제일 먼저 그걸 해야 해야 되는 이유 중의 하나가 바로 언어 공부입니다. 언어를 해서 상대방 바이어들에게 그것이 어떤 건지를 잘 가르켜 주고 그리고 그것이 잘 할 수 있도록 해주는 것이 언어이기 때문에 우리는 확실하게 언어를 해야 된다고 생각하고 있습니다. 뭐든지 열심히 하면 잘 될 수 있고 그리고 회화를 하려면 중국 드라마도 많이 보고 있고 중국 회화도 계속 이어폰을 끼고 들어서 내 입에서 계속 중국어가 나올 수 있게끔 성조가 잘 익혀지게끔 하는 것을 하고 있습니다. \u001b[0m\n",
            "직무: 공공관리 질문: 지원 고령 하고 있는 것이 있 궁금 어떤 공부를 왜 공부하고 있는지 말씀 지금까지 무엇을 무엇을 배웠는지도 말씀 주세시기 바랍니다 답변: 요즘 공부하고는 어 공부를 하고 있습니다. 어 영어어를 공부하고 하고 있는데요.어를 제가 어렸을 때 배웠 배웠 배웠 전공 외국어를 수업을던 언어 있습니다. 그때에서는님께서 중국 미래 사회에 어떻게대로다 무궁든 할 수 있는 라고 말씀 주셨는데 때문에 저 당시에 해도 중국 막만 나왔 중국어어를 배우습니다.습니다. 하지만 제가이나 잘하다 것이서 이해가 않았습니다.요. 공부 한어로 공부 하게 있습니다. 공부를화를 공부 있습니다. 중국어를 공략도어를 만나고 또 바이이어와 중국 바 판매고 좋을 바 물건은 중국 잘 가지 년 원에에 팔데 큰 물건 물건 물건 될 거 있다고 그래서 먼저 중국 물건을 공부 하는 하는 이유는도 하나가 바로 중국이기라고 저 공부 그 바이어에게 물건을 얼마나 식으로지 알려 알려켜 줄 그리고 그 어떻게 전달 수 있는 도와 것이 바로 공부 때문에 저 중국 중국 공부 된다고 생각 있습니다. 든지 할 해야 할 할 수 있다고 잘 잘화가 잘다 언어어를나 봐 봐 중국 중국 문화도 많이 보고가야을 끼고 하고 하고 물건맛 입으로 중국어를 나오고 수 있도록끔 하는심 되어 되어야끔 하는 것이 저 있습니다. \n"
          ]
        },
        {
          "name": "stderr",
          "output_type": "stream",
          "text": [
            "Validation Epoch 1: 100%|██████████| 502/502 [04:17<00:00,  1.95it/s, loss=1.7937]\n"
          ]
        },
        {
          "data": {
            "application/vnd.jupyter.widget-view+json": {
              "model_id": "a47eb6dfe091453ebfe8dceda6452c7b",
              "version_major": 2,
              "version_minor": 0
            },
            "text/plain": [
              "tokenizer_config.json:   0%|          | 0.00/49.0 [00:00<?, ?B/s]"
            ]
          },
          "metadata": {},
          "output_type": "display_data"
        },
        {
          "data": {
            "application/vnd.jupyter.widget-view+json": {
              "model_id": "faa7052db4e34493a448166cd585ac5f",
              "version_major": 2,
              "version_minor": 0
            },
            "text/plain": [
              "config.json:   0%|          | 0.00/625 [00:00<?, ?B/s]"
            ]
          },
          "metadata": {},
          "output_type": "display_data"
        },
        {
          "data": {
            "application/vnd.jupyter.widget-view+json": {
              "model_id": "fa1d49485c6d4c13b23ca7c8a14aa3b0",
              "version_major": 2,
              "version_minor": 0
            },
            "text/plain": [
              "vocab.txt:   0%|          | 0.00/996k [00:00<?, ?B/s]"
            ]
          },
          "metadata": {},
          "output_type": "display_data"
        },
        {
          "data": {
            "application/vnd.jupyter.widget-view+json": {
              "model_id": "c16d0d838c7f4cf0a0f4b5d3882b222a",
              "version_major": 2,
              "version_minor": 0
            },
            "text/plain": [
              "tokenizer.json:   0%|          | 0.00/1.96M [00:00<?, ?B/s]"
            ]
          },
          "metadata": {},
          "output_type": "display_data"
        },
        {
          "data": {
            "application/vnd.jupyter.widget-view+json": {
              "model_id": "2e9e0d0e9b074084b2f113262b05e244",
              "version_major": 2,
              "version_minor": 0
            },
            "text/plain": [
              "model.safetensors:   0%|          | 0.00/714M [00:00<?, ?B/s]"
            ]
          },
          "metadata": {},
          "output_type": "display_data"
        },
        {
          "name": "stdout",
          "output_type": "stream",
          "text": [
            "calculating scores...\n",
            "computing bert embedding.\n"
          ]
        },
        {
          "data": {
            "application/vnd.jupyter.widget-view+json": {
              "model_id": "9249d416c7804fb5855d8d559bf34b37",
              "version_major": 2,
              "version_minor": 0
            },
            "text/plain": [
              "  0%|          | 0/251 [00:00<?, ?it/s]"
            ]
          },
          "metadata": {},
          "output_type": "display_data"
        },
        {
          "name": "stdout",
          "output_type": "stream",
          "text": [
            "computing greedy matching.\n"
          ]
        },
        {
          "data": {
            "application/vnd.jupyter.widget-view+json": {
              "model_id": "2e36b0c0fdab43a2a74042738bea6914",
              "version_major": 2,
              "version_minor": 0
            },
            "text/plain": [
              "  0%|          | 0/126 [00:00<?, ?it/s]"
            ]
          },
          "metadata": {},
          "output_type": "display_data"
        },
        {
          "name": "stdout",
          "output_type": "stream",
          "text": [
            "done in 285.63 seconds, 28.10 sentences/sec\n",
            "Epoch 1 Average Validation Loss: 2.1846\n",
            "Epoch 1 Validation Perplexity: 8.8875\n",
            "Epoch 1 Average Validation BLEU: 0.8239\n",
            "Epoch 1 Average Validation ROUGE: {'rouge1': 0.3501191522528966, 'rouge2': 0.09295205635669314, 'rougeL': 0.2775769440441111}\n",
            "Epoch 1 BERTScore Precision: 0.7775\n",
            "Epoch 1 BERTScore Recall: 0.7669\n",
            "Epoch 1 BERTScore F1: 0.7722\n",
            "Saving best model with validation loss: 2.1846\n"
          ]
        },
        {
          "name": "stderr",
          "output_type": "stream",
          "text": [
            "Training Epoch 2: 100%|██████████| 4255/4255 [1:32:06<00:00,  1.30s/it, loss=2.4109]\n"
          ]
        },
        {
          "name": "stdout",
          "output_type": "stream",
          "text": [
            "\n",
            "Epoch 2 Average Training Loss: 2.2133\n"
          ]
        },
        {
          "name": "stderr",
          "output_type": "stream",
          "text": [
            "Validation Epoch 2:   0%|          | 1/502 [00:00<04:15,  1.96it/s, loss=2.2865]"
          ]
        },
        {
          "name": "stdout",
          "output_type": "stream",
          "text": [
            "\u001b[1m직무: 생산관리 질문: 지원자님께서 우리 회사에 들어오시게 된다면 지원자님께서 가장 가고 싶은 부서가 어딘지 이유와 함께 말씀해 주시기 바랍니다 답변: 저는 이 회사에 들어오게 된다면 도로 관련 부서에서 근무하고 싶습니다. 도로가 지역 사회의 발전의 기반 시설이기 때문에 도로가 우선이 되어야 산업이 발전한다고 생각합니다. 그래서 저는 현재 도로 건설에 굉장히 많은 관심을 가지고 있고 앞으로도 그 분야에 대해서 공부하고 싶습니다. 그렇기 때문에 저는 도로 관련 부서에 들어가고 싶습니다. \u001b[0m\n",
            "직무: 공공관리 질문: 지원자님께서는 생각 회사에 들어오게면 된다면 가장자님께서 가장 가고 싶은 부서와 있딘지 그리고와 함께 말씀해 주시시기 바랍니다 답변: 제가는 생산 회사에 들어오게 된다면 가장 관리 업무를에서 일을하고 싶습니다. 저 왜 주민 기반 발이기이기 때문에 저 잘선이기 한다고 발전할한다고 생각합니다. 그래서 저는 이 도로 관련 관련된장히 관심이 관심을 가지고 있고 이도 이 부분에 대해서 더 싶습니다. 그래서 때문에 저는 이 관련 부서서에 들어가고 싶습니다. \n",
            "\u001b[1m직무: 생산관리 질문: 본인은 위기관리 경험이 있습니까 답변: 위기의 순간에 이제 관리해 드는 상황이 오는데 그 상황에는 일단 응급 상황이기 때문에 어 제가 뭐 섣불리 판단을 하기는 어려울 것 같고 제가 제가 볼 수 있는 상황에서 뭐 땜에 이런 일이 일어났는지 그리고 어떻게 해야 될지 생각을 먼저 하고 그 이외에는 먼저 위에 계시는 팀장님 분이나 아니면 선배님들께 먼저 조언을 구해 가지고 이런 이런 상황이 발생했을 습니다 하면서 조언 이 조언과 도움을 요청할 것 같아요. 그러면 말 그대로 위기 이기 때문에 이 위험한 상황을 함부로 제 마음대로 이렇게 해결할 수 있을 있지는 않을 것 같고 이렇게 도움이나 조언을 구해서 그 위기 상황을 해결해 나갈 것 같습니다. \u001b[0m\n",
            "직무: 공공관리 질문: 지원인은 교기관리 경험이 있으 답변: 어식을간에 위기 위기자 나가는 그런 발생을면은요. 위기에서는 어 그 상황입니다. 때문에 어 제가 그 응급불리 판단 할기에는 어렵 것 같요. 이제 그 때는 있는 그런 어 응급뭔에 어 상황이 생겼다 아니면 이 대처 되는지 이런 해 해 어 상황을 이제 해야 있는신 분장님께께 아니면 이제님들께 어 여 구 보 어 일이 일이 발생 때니다.다 라고 어도걸들을 이런 구 것 같요. 그래서 이제 그대로 이제 상황 때문에 어럴 순 어떻게 판단쳐 판단 대처 수 있는까 않 것 같고요. 해서 요청을 이런 구했을 어 상황을 상황을 잘 나가 것 같습니다. \n",
            "\u001b[1m직무: 생산관리 질문: 요즘 공부를 하고 있는 것이 있는지 있으면 그걸 왜 공부하고 있는지 그리고 지금까지 하면서 무엇을 배웠는지도 설명해 주시기 바랍니다 답변: 요즘 저는 언어 공부를 하고 있습니다. 특히 중국어를 공부를 하고 있는데 중국어는 제가 고등학교 때 처음으로 학교에서 제 이 외국어로 배웠던 경험이 있습니다. 학교 선생님께서는 앞으로의 중국 시장은 무한이 넓고 무엇이든지 할 수 있어 라고 가르쳐주셨기 때문에 그때만 해도 그냥 중문과를 가서 중국어를 했었습니다. 그런데 문법만 공부했던 것이라 잘 되지 않았는데 이것을 다시 중국어를 공부를 하고 중국어 회화를 하고 있습니다. 중국 시장을 가서 바이어를 만나고 그 바이어에게 그 물건을 팔면 그 내 물건은 정말 몇 십억 인구에게 전해지는 아주 좋은 획기적인 그런 일이 생길 수 있습니다. 제일 먼저 그걸 해야 해야 되는 이유 중의 하나가 바로 언어 공부입니다. 언어를 해서 상대방 바이어들에게 그것이 어떤 건지를 잘 가르켜 주고 그리고 그것이 잘 할 수 있도록 해주는 것이 언어이기 때문에 우리는 확실하게 언어를 해야 된다고 생각하고 있습니다. 뭐든지 열심히 하면 잘 될 수 있고 그리고 회화를 하려면 중국 드라마도 많이 보고 있고 중국 회화도 계속 이어폰을 끼고 들어서 내 입에서 계속 중국어가 나올 수 있게끔 성조가 잘 익혀지게끔 하는 것을 하고 있습니다. \u001b[0m\n",
            "직무: 공공관리 질문: 지원 공부하고 하고 있는 것이 있 궁금 왜 공부를 왜 공부 있는지 그리고 지금까지 무엇을 무엇을 배웠는지도 말씀 주세시기 바랍니다 답변: 저 공부하고는 어 공부를 하고 있습니다. 어나어를 공부하고 하고 있는데요.어를 제가 중국 때 배웠 공부를 배웠 이 외국어로 수업을던 언어 있습니다. 그때에서는님께서 중국 미래어를 무궁하다고다 무궁든 할 수 있는 라고 말씀 주셨는데 때문에 저 배웠 해도 중국 중국만 나왔 중국어어를 배웠었습니다. 하지만 중국이나 공부하다 것이서 이해가 않았습니다.요. 공부 공부를어로 공부 하게 싶 공부를화를 공부 싶 그래서어를 개척도어를 만나고 바이 바이이어들과 물건을 바 팔고 되는 바이 물건은 팔 팔 십 년 원에 팔데 큰 물건 물건 물건 될 거 있을 그래서 먼저 중국 바 공부 하는 할 게 중의 하나가 중국 중국이기라고 중국 공부 그한테이어에게 물건을 어떤 식으로지 알려 전달할치게 줄 그 그 실제로 전달 수 있는 하는 것이 바로 공부 때문에 저 중국 중국 공부 된다고 생각 있습니다. 든지 할 해야 할 할 수 있는 잘 그화를 잘다 중국어를나 봐 봐 중국 중국어를도 많이 공부를가야을 끼고 다니면서 중국 말을맛 내 내어를 나오고 수 있도록끔 하는의를 있게 되는야끔 하는 것이 배웠 있습니다. \n"
          ]
        },
        {
          "name": "stderr",
          "output_type": "stream",
          "text": [
            "Validation Epoch 2: 100%|██████████| 502/502 [04:18<00:00,  1.94it/s, loss=1.7327]\n"
          ]
        },
        {
          "name": "stdout",
          "output_type": "stream",
          "text": [
            "calculating scores...\n",
            "computing bert embedding.\n"
          ]
        },
        {
          "data": {
            "application/vnd.jupyter.widget-view+json": {
              "model_id": "68fdfbfc54144a829a946178e99b6c9a",
              "version_major": 2,
              "version_minor": 0
            },
            "text/plain": [
              "  0%|          | 0/251 [00:00<?, ?it/s]"
            ]
          },
          "metadata": {},
          "output_type": "display_data"
        },
        {
          "name": "stdout",
          "output_type": "stream",
          "text": [
            "computing greedy matching.\n"
          ]
        },
        {
          "data": {
            "application/vnd.jupyter.widget-view+json": {
              "model_id": "bf6779adb8e04d68ace6e819bb4f4804",
              "version_major": 2,
              "version_minor": 0
            },
            "text/plain": [
              "  0%|          | 0/126 [00:00<?, ?it/s]"
            ]
          },
          "metadata": {},
          "output_type": "display_data"
        },
        {
          "name": "stdout",
          "output_type": "stream",
          "text": [
            "done in 287.82 seconds, 27.89 sentences/sec\n",
            "Epoch 2 Average Validation Loss: 2.1420\n",
            "Epoch 2 Validation Perplexity: 8.5167\n",
            "Epoch 2 Average Validation BLEU: 0.8832\n",
            "Epoch 2 Average Validation ROUGE: {'rouge1': 0.35648908573718957, 'rouge2': 0.09735387612751291, 'rougeL': 0.28261364648702636}\n",
            "Epoch 2 BERTScore Precision: 0.7814\n",
            "Epoch 2 BERTScore Recall: 0.7719\n",
            "Epoch 2 BERTScore F1: 0.7766\n",
            "Saving best model with validation loss: 2.1420\n"
          ]
        },
        {
          "name": "stderr",
          "output_type": "stream",
          "text": [
            "Training Epoch 3: 100%|██████████| 4255/4255 [1:32:04<00:00,  1.30s/it, loss=2.4813]\n"
          ]
        },
        {
          "name": "stdout",
          "output_type": "stream",
          "text": [
            "\n",
            "Epoch 3 Average Training Loss: 2.1087\n"
          ]
        },
        {
          "name": "stderr",
          "output_type": "stream",
          "text": [
            "Validation Epoch 3:   0%|          | 1/502 [00:00<04:14,  1.97it/s, loss=2.2740]"
          ]
        },
        {
          "name": "stdout",
          "output_type": "stream",
          "text": [
            "\u001b[1m직무: 생산관리 질문: 지원자님께서 우리 회사에 들어오시게 된다면 지원자님께서 가장 가고 싶은 부서가 어딘지 이유와 함께 말씀해 주시기 바랍니다 답변: 저는 이 회사에 들어오게 된다면 도로 관련 부서에서 근무하고 싶습니다. 도로가 지역 사회의 발전의 기반 시설이기 때문에 도로가 우선이 되어야 산업이 발전한다고 생각합니다. 그래서 저는 현재 도로 건설에 굉장히 많은 관심을 가지고 있고 앞으로도 그 분야에 대해서 공부하고 싶습니다. 그렇기 때문에 저는 도로 관련 부서에 들어가고 싶습니다. \u001b[0m\n",
            "직무: 공공관리 질문: 지원자님께서 생각 회사에 들어오게게 된다면 가장자님이께서 가장 가고 싶은 부서와 있딘지 그리고와 함께 말씀해 주시기 바랍니다 답변: 제가는 생산 회사에 들어오게 된다면 가장 안전 업무를에서 일을하고 싶습니다. 저 잘적으로 중심 중심이 시설이기 때문에 저 잘선이기 한다고 발전할한다고 생각합니다. 그래서 저는 이 많은 관련 관련된장히 많은 관심을 가지고 있고 이도 이 분야에 대해서 많은 싶습니다. 그래서 때문에 저는 이 관련 부서서에 들어가고 싶습니다. \n",
            "\u001b[1m직무: 생산관리 질문: 본인은 위기관리 경험이 있습니까 답변: 위기의 순간에 이제 관리해 드는 상황이 오는데 그 상황에는 일단 응급 상황이기 때문에 어 제가 뭐 섣불리 판단을 하기는 어려울 것 같고 제가 제가 볼 수 있는 상황에서 뭐 땜에 이런 일이 일어났는지 그리고 어떻게 해야 될지 생각을 먼저 하고 그 이외에는 먼저 위에 계시는 팀장님 분이나 아니면 선배님들께 먼저 조언을 구해 가지고 이런 이런 상황이 발생했을 습니다 하면서 조언 이 조언과 도움을 요청할 것 같아요. 그러면 말 그대로 위기 이기 때문에 이 위험한 상황을 함부로 제 마음대로 이렇게 해결할 수 있을 있지는 않을 것 같고 이렇게 도움이나 조언을 구해서 그 위기 상황을 해결해 나갈 것 같습니다. \u001b[0m\n",
            "직무: 공공관리 질문: 지원인은 협기관리 경험이 있으 답변: 네식을간이 위기 그자의 나가는 그런죠기요. 위기에서는 어 그 상황인 때문에 어 그 그 응급불리 판단 해서기에는 어렵 것 같요. 그 그 때는 있는 가장 어 응급괜에 그 위기 생겼다 아니면 그 대처 되는지 어 해 해 어 상황에 뭐 어 보고를신 분장님께께 아니면 어님들께 어 보고를 구 볼 어 일이 일이 발생 때니다.다 라고 어도게은 어 구 것 같요. 어 그 그대로 이 상황 때문에 어걸 순 잘 판단쳐 판단 어 수 있는까 않 것 같요. 어 요청을 이런 구했을 어 상황을 상황을 잘 나갈 것 같습니다. \n",
            "\u001b[1m직무: 생산관리 질문: 요즘 공부를 하고 있는 것이 있는지 있으면 그걸 왜 공부하고 있는지 그리고 지금까지 하면서 무엇을 배웠는지도 설명해 주시기 바랍니다 답변: 요즘 저는 언어 공부를 하고 있습니다. 특히 중국어를 공부를 하고 있는데 중국어는 제가 고등학교 때 처음으로 학교에서 제 이 외국어로 배웠던 경험이 있습니다. 학교 선생님께서는 앞으로의 중국 시장은 무한이 넓고 무엇이든지 할 수 있어 라고 가르쳐주셨기 때문에 그때만 해도 그냥 중문과를 가서 중국어를 했었습니다. 그런데 문법만 공부했던 것이라 잘 되지 않았는데 이것을 다시 중국어를 공부를 하고 중국어 회화를 하고 있습니다. 중국 시장을 가서 바이어를 만나고 그 바이어에게 그 물건을 팔면 그 내 물건은 정말 몇 십억 인구에게 전해지는 아주 좋은 획기적인 그런 일이 생길 수 있습니다. 제일 먼저 그걸 해야 해야 되는 이유 중의 하나가 바로 언어 공부입니다. 언어를 해서 상대방 바이어들에게 그것이 어떤 건지를 잘 가르켜 주고 그리고 그것이 잘 할 수 있도록 해주는 것이 언어이기 때문에 우리는 확실하게 언어를 해야 된다고 생각하고 있습니다. 뭐든지 열심히 하면 잘 될 수 있고 그리고 회화를 하려면 중국 드라마도 많이 보고 있고 중국 회화도 계속 이어폰을 끼고 들어서 내 입에서 계속 중국어가 나올 수 있게끔 성조가 잘 익혀지게끔 하는 것을 하고 있습니다. \u001b[0m\n",
            "직무: 공공관리 질문: 지원 고령 하고 있는 것이 있 궁금 왜 공부를 왜 공부 있는지 말씀 지금까지 무엇을 무엇을 배웠는지도 말씀 주세시기 바랍니다 답변: 저 공부하고는 영어 공부를 하고 있습니다. 어 영어를 공부하고 하고 있는데요.어를 제가 어렸을 때 중국 접 배웠 전공 외국어로 중국던 언어 있습니다. 그때에서는님께서 중국 미래 사회에 무궁정다 무한든 간에 수 있는 보인 말씀 주셨는데 때문에 저부터는 해도 중국 중국만 나왔 중국어를 배우었습니다. 하지만 중국이나 잘하다 것이서 이해가 않았습니다.요. 공부 공부어로 공부 하게 보니 공부를화를 공부 싶 그래서어를 공략도어를 만나고 중국 바이이어들과 물건을 바 팔고 좋을 바이 물건은 팔 팔 백 프로이에 팔지 큰 물건 물건 물건 될 것이라고 있을 그래서 중요한 중국 물건을로만 하는 것이도 하나는 중국 중국이기이기 그래서 공부 그한테이어에게 물건을 얼마나 식으로지 잘 전달할켜 주고 그 그 실제로 먹 수 있도록 도와주는 것이 바로 공부 때문에 저 중국 중국 공부 된 생각 있습니다.  중국 할 해야 할 할 수 있다고 잘 그화가 잘다 중국어를나 보고 봐 중국 그리고어를도 많이 하고 나가고을 끼고 다니면서 중국 물건맛 중국 중국어를 나오고 수 있도록끔 하는심 있게 되어야끔 하는 것이 목표로 있습니다. \n"
          ]
        },
        {
          "name": "stderr",
          "output_type": "stream",
          "text": [
            "Validation Epoch 3: 100%|██████████| 502/502 [04:17<00:00,  1.95it/s, loss=1.7308]\n"
          ]
        },
        {
          "name": "stdout",
          "output_type": "stream",
          "text": [
            "calculating scores...\n",
            "computing bert embedding.\n"
          ]
        },
        {
          "data": {
            "application/vnd.jupyter.widget-view+json": {
              "model_id": "ef63f6f24c4c4031a63f1fb5a4e93a83",
              "version_major": 2,
              "version_minor": 0
            },
            "text/plain": [
              "  0%|          | 0/251 [00:00<?, ?it/s]"
            ]
          },
          "metadata": {},
          "output_type": "display_data"
        },
        {
          "name": "stdout",
          "output_type": "stream",
          "text": [
            "computing greedy matching.\n"
          ]
        },
        {
          "data": {
            "application/vnd.jupyter.widget-view+json": {
              "model_id": "0023cdd103974804948f2a41f32268d6",
              "version_major": 2,
              "version_minor": 0
            },
            "text/plain": [
              "  0%|          | 0/126 [00:00<?, ?it/s]"
            ]
          },
          "metadata": {},
          "output_type": "display_data"
        },
        {
          "name": "stdout",
          "output_type": "stream",
          "text": [
            "done in 287.48 seconds, 27.92 sentences/sec\n",
            "Epoch 3 Average Validation Loss: 2.1247\n",
            "Epoch 3 Validation Perplexity: 8.3705\n",
            "Epoch 3 Average Validation BLEU: 0.9306\n",
            "Epoch 3 Average Validation ROUGE: {'rouge1': 0.36037953718478805, 'rouge2': 0.10078224189193254, 'rougeL': 0.2867360058460477}\n",
            "Epoch 3 BERTScore Precision: 0.7834\n",
            "Epoch 3 BERTScore Recall: 0.7739\n",
            "Epoch 3 BERTScore F1: 0.7786\n",
            "Saving best model with validation loss: 2.1247\n"
          ]
        },
        {
          "name": "stderr",
          "output_type": "stream",
          "text": [
            "Training Epoch 4: 100%|██████████| 4255/4255 [1:32:08<00:00,  1.30s/it, loss=1.9285]\n"
          ]
        },
        {
          "name": "stdout",
          "output_type": "stream",
          "text": [
            "\n",
            "Epoch 4 Average Training Loss: 2.0301\n"
          ]
        },
        {
          "name": "stderr",
          "output_type": "stream",
          "text": [
            "Validation Epoch 4:   0%|          | 1/502 [00:00<04:17,  1.95it/s, loss=2.2639]"
          ]
        },
        {
          "name": "stdout",
          "output_type": "stream",
          "text": [
            "\u001b[1m직무: 생산관리 질문: 지원자님께서 우리 회사에 들어오시게 된다면 지원자님께서 가장 가고 싶은 부서가 어딘지 이유와 함께 말씀해 주시기 바랍니다 답변: 저는 이 회사에 들어오게 된다면 도로 관련 부서에서 근무하고 싶습니다. 도로가 지역 사회의 발전의 기반 시설이기 때문에 도로가 우선이 되어야 산업이 발전한다고 생각합니다. 그래서 저는 현재 도로 건설에 굉장히 많은 관심을 가지고 있고 앞으로도 그 분야에 대해서 공부하고 싶습니다. 그렇기 때문에 저는 도로 관련 부서에 들어가고 싶습니다. \u001b[0m\n",
            "직무: 공공관리 질문: 지원자님께서는 생각 회사에 들어오게게 된다면 가장자님이께서 가장 가고 싶은 부서와 있딘지 그리고와 함께 말씀해 주시기 바랍니다 답변: 저는 생산 회사에 들어오게 된다면 생산 관리 업무를에서 일을하고 싶습니다. 저 어떻게 주민들의 기반 중요한 시설이기 때문에 저 잘선이기 한다고 발전할한다고 생각합니다. 또한 저는 이 많은 관련 많은장히 많은 관심을 가지고 있고 이도 이 분야에 대해서 많은 또습니다. 그래서 때문에 저는 이 건설 부서서에 들어가고 싶습니다. \n",
            "\u001b[1m직무: 생산관리 질문: 본인은 위기관리 경험이 있습니까 답변: 위기의 순간에 이제 관리해 드는 상황이 오는데 그 상황에는 일단 응급 상황이기 때문에 어 제가 뭐 섣불리 판단을 하기는 어려울 것 같고 제가 제가 볼 수 있는 상황에서 뭐 땜에 이런 일이 일어났는지 그리고 어떻게 해야 될지 생각을 먼저 하고 그 이외에는 먼저 위에 계시는 팀장님 분이나 아니면 선배님들께 먼저 조언을 구해 가지고 이런 이런 상황이 발생했을 습니다 하면서 조언 이 조언과 도움을 요청할 것 같아요. 그러면 말 그대로 위기 이기 때문에 이 위험한 상황을 함부로 제 마음대로 이렇게 해결할 수 있을 있지는 않을 것 같고 이렇게 도움이나 조언을 구해서 그 위기 상황을 해결해 나갈 것 같습니다. \u001b[0m\n",
            "직무: 공공관리 질문: 지원인은 팀기관리 경험이 있으 답변: 저 관리간이 위기 위기자의 나가 그런 발생을기요. 위기에서는 어 그 상황입니다. 때문에 어 그 그 응급불리 판단 할기는 어렵 것 같요. 그 그 때는 있는 가장 어 응급괜에 그런 위기 생겼다 아니면 그 대처 되는지 어 해 해 어 상황에 뭐 할 있는신 분장님께들 아니면 뭐님들께 어 보고를 구 볼 어 일이 일이 발생 때니다.다 라고 어도게은 그리고 청 것 같요. 그래서 그 그대로 제가 상황 때문에 어걸 순 먼저 판단쳐 판단 어 수 있는까 않 것 같요. 위기 요청을 이런 구했을 어 상황을 상황을 잘 나갈 것 같습니다. \n",
            "\u001b[1m직무: 생산관리 질문: 요즘 공부를 하고 있는 것이 있는지 있으면 그걸 왜 공부하고 있는지 그리고 지금까지 하면서 무엇을 배웠는지도 설명해 주시기 바랍니다 답변: 요즘 저는 언어 공부를 하고 있습니다. 특히 중국어를 공부를 하고 있는데 중국어는 제가 고등학교 때 처음으로 학교에서 제 이 외국어로 배웠던 경험이 있습니다. 학교 선생님께서는 앞으로의 중국 시장은 무한이 넓고 무엇이든지 할 수 있어 라고 가르쳐주셨기 때문에 그때만 해도 그냥 중문과를 가서 중국어를 했었습니다. 그런데 문법만 공부했던 것이라 잘 되지 않았는데 이것을 다시 중국어를 공부를 하고 중국어 회화를 하고 있습니다. 중국 시장을 가서 바이어를 만나고 그 바이어에게 그 물건을 팔면 그 내 물건은 정말 몇 십억 인구에게 전해지는 아주 좋은 획기적인 그런 일이 생길 수 있습니다. 제일 먼저 그걸 해야 해야 되는 이유 중의 하나가 바로 언어 공부입니다. 언어를 해서 상대방 바이어들에게 그것이 어떤 건지를 잘 가르켜 주고 그리고 그것이 잘 할 수 있도록 해주는 것이 언어이기 때문에 우리는 확실하게 언어를 해야 된다고 생각하고 있습니다. 뭐든지 열심히 하면 잘 될 수 있고 그리고 회화를 하려면 중국 드라마도 많이 보고 있고 중국 회화도 계속 이어폰을 끼고 들어서 내 입에서 계속 중국어가 나올 수 있게끔 성조가 잘 익혀지게끔 하는 것을 하고 있습니다. \u001b[0m\n",
            "직무: 공공관리 질문: 지원 공부하고 하고 있는 것이 있 궁금 왜 공부를 왜 공부하고 있는지 지금까지 지금까지 무엇을 무엇을 배웠는지 말씀 주세시기 바랍니다 답변: 저 공부하고는 영어 공부를 하고 있습니다. 어 영어를 공부하고 하고 있는데요.어를 제가 어렸을 때 중국 접 배웠 이 외국어로 수업을던 언어 있습니다. 그때 다닐님께서 중국 제 사회에 무궁정다 무궁든 할 수 있는 보인 말씀 주셨는데 때문에 저 배운 해도 중국 중국만 나왔 중국어를 배우었습니다. 하지만 제가이나 공부하다 것이서 이해가 않았습니다.요. 공부 공부를어로 공부 하면서 있습니다. 공부를화를 공부 있습니다. 중국어를 겨냥 물건을어를 만나고 그 바이이어들과 물건을 바 팔고 되는 바이 물건은 어떻게 팔 년 년이에 팔지 큰 물건 물건 물건 될 것이라고 있을 그래서 중요한 중국 물건을로 되는 되는 게도 하나가 바로 중국이기이기 저 공부 그한테이어에게 물건을 전달 식으로지 알려 전달할켜주고 그 그 나중에 먹 수 있도록 도와주는 것이 바로 공부 때문에 저 중국 중국 할 된 생각 있습니다.  중국 할 해야 할 할 수 있다고 잘 그화가 잘다 그어를나 봐 봐 있습니다. 중국어를도 많이 공부하고가야을 끼고 다니면서 중국 물건을맛 내 중국어를 나오고 수 있도록끔 하는화를 있어야 되는야끔 하는 것이 저 있습니다. \n"
          ]
        },
        {
          "name": "stderr",
          "output_type": "stream",
          "text": [
            "Validation Epoch 4: 100%|██████████| 502/502 [04:18<00:00,  1.94it/s, loss=1.7146]\n"
          ]
        },
        {
          "name": "stdout",
          "output_type": "stream",
          "text": [
            "calculating scores...\n",
            "computing bert embedding.\n"
          ]
        },
        {
          "data": {
            "application/vnd.jupyter.widget-view+json": {
              "model_id": "fd158492b1c7466798ad6064b61b5505",
              "version_major": 2,
              "version_minor": 0
            },
            "text/plain": [
              "  0%|          | 0/251 [00:00<?, ?it/s]"
            ]
          },
          "metadata": {},
          "output_type": "display_data"
        },
        {
          "name": "stdout",
          "output_type": "stream",
          "text": [
            "computing greedy matching.\n"
          ]
        },
        {
          "data": {
            "application/vnd.jupyter.widget-view+json": {
              "model_id": "619e2341029d4c7b95cb382f698c3009",
              "version_major": 2,
              "version_minor": 0
            },
            "text/plain": [
              "  0%|          | 0/126 [00:00<?, ?it/s]"
            ]
          },
          "metadata": {},
          "output_type": "display_data"
        },
        {
          "name": "stdout",
          "output_type": "stream",
          "text": [
            "done in 288.20 seconds, 27.85 sentences/sec\n",
            "Epoch 4 Average Validation Loss: 2.1109\n",
            "Epoch 4 Validation Perplexity: 8.2561\n",
            "Epoch 4 Average Validation BLEU: 0.9508\n",
            "Epoch 4 Average Validation ROUGE: {'rouge1': 0.3639332820227668, 'rouge2': 0.10264859397614363, 'rougeL': 0.2892602484504745}\n",
            "Epoch 4 BERTScore Precision: 0.7839\n",
            "Epoch 4 BERTScore Recall: 0.7752\n",
            "Epoch 4 BERTScore F1: 0.7795\n",
            "Saving best model with validation loss: 2.1109\n"
          ]
        },
        {
          "name": "stderr",
          "output_type": "stream",
          "text": [
            "Training Epoch 5: 100%|██████████| 4255/4255 [1:32:09<00:00,  1.30s/it, loss=1.5868]\n"
          ]
        },
        {
          "name": "stdout",
          "output_type": "stream",
          "text": [
            "\n",
            "Epoch 5 Average Training Loss: 1.9717\n"
          ]
        },
        {
          "name": "stderr",
          "output_type": "stream",
          "text": [
            "Validation Epoch 5:   0%|          | 1/502 [00:00<04:17,  1.94it/s, loss=2.2719]"
          ]
        },
        {
          "name": "stdout",
          "output_type": "stream",
          "text": [
            "\u001b[1m직무: 생산관리 질문: 지원자님께서 우리 회사에 들어오시게 된다면 지원자님께서 가장 가고 싶은 부서가 어딘지 이유와 함께 말씀해 주시기 바랍니다 답변: 저는 이 회사에 들어오게 된다면 도로 관련 부서에서 근무하고 싶습니다. 도로가 지역 사회의 발전의 기반 시설이기 때문에 도로가 우선이 되어야 산업이 발전한다고 생각합니다. 그래서 저는 현재 도로 건설에 굉장히 많은 관심을 가지고 있고 앞으로도 그 분야에 대해서 공부하고 싶습니다. 그렇기 때문에 저는 도로 관련 부서에 들어가고 싶습니다. \u001b[0m\n",
            "직무: 공공관리 질문: 지원자님께서 생각 회사에 들어오게게 된다면 가장자님이께서 가장 가고 싶은 부서와 있딘지 그리고와 함께 말씀해 주시기 바랍니다 답변: 저는 생산 회사에 들어오게 된다면 생산 안전 업무를에서 일을하고 싶습니다. 저 왜적으로 기반 중요한 시설이기 때문에 저 잘선이기 한다고 발전할한다고 생각합니다. 또한 저는 이 많은 관련 관련된장히 많은 관심을 가지고 있고 이도 많은 분야에 대해서 많은 또습니다. 그래서 때문에 저는 이 건설 부서서에 들어가고 싶습니다. \n",
            "\u001b[1m직무: 생산관리 질문: 본인은 위기관리 경험이 있습니까 답변: 위기의 순간에 이제 관리해 드는 상황이 오는데 그 상황에는 일단 응급 상황이기 때문에 어 제가 뭐 섣불리 판단을 하기는 어려울 것 같고 제가 제가 볼 수 있는 상황에서 뭐 땜에 이런 일이 일어났는지 그리고 어떻게 해야 될지 생각을 먼저 하고 그 이외에는 먼저 위에 계시는 팀장님 분이나 아니면 선배님들께 먼저 조언을 구해 가지고 이런 이런 상황이 발생했을 습니다 하면서 조언 이 조언과 도움을 요청할 것 같아요. 그러면 말 그대로 위기 이기 때문에 이 위험한 상황을 함부로 제 마음대로 이렇게 해결할 수 있을 있지는 않을 것 같고 이렇게 도움이나 조언을 구해서 그 위기 상황을 해결해 나갈 것 같습니다. \u001b[0m\n",
            "직무: 공공관리 질문: 지원인은 팀기관리 경험이 있으 답변: 네 관리간이 제가 위기자 나가는 그런 발생을기요. 위기에서는 어 그 상황입니다. 때문에 어 그 그 응급불리 판단 해서기에는 어렵 것 같요. 그 그 때는 있는 선 어 응급괜에 그런 위기 생겼다 아니면 그 대처 되는지 어 해 해 어 상황에 뭐는 있는시는 분장님께들 아니면 상사님들께 어 여 구 볼 어 일이 일이 발생 때니다.다 라고 어도게은 그리고 청 것 같요. 그래서 그 그대로 제가 상황 때문에 어걸 순 먼저 판단쳐 판단 어 수 있는까 않 것 같요. 위기 요청을 이런 구했을 어 상황을 상황을 잘 나갈 것 같습니다. \n",
            "\u001b[1m직무: 생산관리 질문: 요즘 공부를 하고 있는 것이 있는지 있으면 그걸 왜 공부하고 있는지 그리고 지금까지 하면서 무엇을 배웠는지도 설명해 주시기 바랍니다 답변: 요즘 저는 언어 공부를 하고 있습니다. 특히 중국어를 공부를 하고 있는데 중국어는 제가 고등학교 때 처음으로 학교에서 제 이 외국어로 배웠던 경험이 있습니다. 학교 선생님께서는 앞으로의 중국 시장은 무한이 넓고 무엇이든지 할 수 있어 라고 가르쳐주셨기 때문에 그때만 해도 그냥 중문과를 가서 중국어를 했었습니다. 그런데 문법만 공부했던 것이라 잘 되지 않았는데 이것을 다시 중국어를 공부를 하고 중국어 회화를 하고 있습니다. 중국 시장을 가서 바이어를 만나고 그 바이어에게 그 물건을 팔면 그 내 물건은 정말 몇 십억 인구에게 전해지는 아주 좋은 획기적인 그런 일이 생길 수 있습니다. 제일 먼저 그걸 해야 해야 되는 이유 중의 하나가 바로 언어 공부입니다. 언어를 해서 상대방 바이어들에게 그것이 어떤 건지를 잘 가르켜 주고 그리고 그것이 잘 할 수 있도록 해주는 것이 언어이기 때문에 우리는 확실하게 언어를 해야 된다고 생각하고 있습니다. 뭐든지 열심히 하면 잘 될 수 있고 그리고 회화를 하려면 중국 드라마도 많이 보고 있고 중국 회화도 계속 이어폰을 끼고 들어서 내 입에서 계속 중국어가 나올 수 있게끔 성조가 잘 익혀지게끔 하는 것을 하고 있습니다. \u001b[0m\n",
            "직무: 공공관리 질문: 지원 고령 하고 있는 것이 있 궁금 왜 공부를 왜 공부하고 있는지 지금까지 지금까지 무엇을 무엇을 배웠는지 말씀 주세시기 바랍니다 답변: 저 공부하고는 어 공부를 하고 있습니다. 어 영어를 공부하고 하고 있는데요.어를 제가 어렸을 때 중국 접 배웠 이 외국어로 중국던 언어 있습니다. 그때 다닐님께서 중국 제 사회에 무한한정다 무한한든 간에 수 있는 보인 말씀 주셨는데 때문에 저 배운 해도 중국 중국만 나왔 중국어를 배우었습니다. 하지만 제가이나 잘하다 것이서 이해가 않았습니다.요. 공부 공부어로 공부 하면서 보니 공부를화를 공부 싶 중국어를 겨냥 물건을어를 만나고 계약을 바이이어들과 물건을 바 팔고 되는 바이 물건을은 팔 팔 백 프로 짜에 팔구나 큰 물건 물건 물건기 것이라고 있다고 그래서 중요한 중국 물건을로 되는 되는 게도 하나는 중국 중국이기이기 중국 공부 그한테이어에게 물건을 얼마나 식으로지 파악 전달할켜주고 그 그 나중에 먹 수 있는 도와주는 것이 바로 공부 때문에 저 중국 중국 할 된 생각 있습니다. 든지 할 해야 할 할 수 있다고 잘 그화가 잘다 중국어를나 봐 봐 중국 중국어를도 많이 공부하고가고을 끼고 하면서 중국 물건을맛 내 중국어로 나오고 수 있도록끔 하는화를 있어야 되는야끔 하는 것이 저 있습니다. \n"
          ]
        },
        {
          "name": "stderr",
          "output_type": "stream",
          "text": [
            "Validation Epoch 5: 100%|██████████| 502/502 [04:18<00:00,  1.95it/s, loss=1.7179]\n"
          ]
        },
        {
          "name": "stdout",
          "output_type": "stream",
          "text": [
            "calculating scores...\n",
            "computing bert embedding.\n"
          ]
        },
        {
          "data": {
            "application/vnd.jupyter.widget-view+json": {
              "model_id": "08a5bc7f58ff4cb69dd8303b8965226b",
              "version_major": 2,
              "version_minor": 0
            },
            "text/plain": [
              "  0%|          | 0/251 [00:00<?, ?it/s]"
            ]
          },
          "metadata": {},
          "output_type": "display_data"
        },
        {
          "name": "stdout",
          "output_type": "stream",
          "text": [
            "computing greedy matching.\n"
          ]
        },
        {
          "data": {
            "application/vnd.jupyter.widget-view+json": {
              "model_id": "bf0116ef92004349b2def491804e1485",
              "version_major": 2,
              "version_minor": 0
            },
            "text/plain": [
              "  0%|          | 0/126 [00:00<?, ?it/s]"
            ]
          },
          "metadata": {},
          "output_type": "display_data"
        },
        {
          "name": "stdout",
          "output_type": "stream",
          "text": [
            "done in 287.27 seconds, 27.94 sentences/sec\n",
            "Epoch 5 Average Validation Loss: 2.1134\n",
            "Epoch 5 Validation Perplexity: 8.2763\n",
            "Epoch 5 Average Validation BLEU: 0.9598\n",
            "Epoch 5 Average Validation ROUGE: {'rouge1': 0.3643321826561722, 'rouge2': 0.1029666816304212, 'rougeL': 0.2896531688722702}\n",
            "Epoch 5 BERTScore Precision: 0.7844\n",
            "Epoch 5 BERTScore Recall: 0.7761\n",
            "Epoch 5 BERTScore F1: 0.7802\n",
            "\n",
            "Training completed!\n"
          ]
        }
      ],
      "source": [
        "# SmoothingFunction 설정\n",
        "smoothing = SmoothingFunction().method1\n",
        "\n",
        "# 모델 학습 설정\n",
        "num_epochs = 5\n",
        "device = torch.device(\"cuda\" if torch.cuda.is_available() else \"cpu\")\n",
        "model = model.to(device)\n",
        "\n",
        "# 옵티마이저 및 스케줄러 정의\n",
        "optimizer = AdamW(model.parameters(), lr=5e-5)  # 옵티마이저 정의\n",
        "total_steps = len(train_dataloader) * num_epochs\n",
        "scheduler = get_linear_schedule_with_warmup(optimizer,\n",
        "                                            num_warmup_steps=0,\n",
        "                                            num_training_steps=total_steps)  # 스케줄러 정의\n",
        "\n",
        "# ROUGE 계산기\n",
        "scorer = rouge_scorer.RougeScorer(['rouge1', 'rouge2', 'rougeL'], use_stemmer=True)\n",
        "best_valid_loss = float('inf')\n",
        "\n",
        "# 학습 및 검증 루프\n",
        "for epoch in range(num_epochs):\n",
        "    # 학습 단계\n",
        "    model.train()\n",
        "    total_train_loss = 0\n",
        "    train_steps = 0\n",
        "    total_train_bleu = 0\n",
        "    total_train_rouge = {'rouge1': 0, 'rouge2': 0, 'rougeL': 0}\n",
        "    num_train_samples = 0\n",
        "\n",
        "    train_pbar = tqdm(train_dataloader, desc=f'Training Epoch {epoch+1}')\n",
        "    for batch in train_pbar:\n",
        "        # 입력 데이터 준비\n",
        "        input_ids = batch['input_ids'].to(device)\n",
        "        attention_mask = batch['attention_mask'].to(device)\n",
        "        labels = batch['labels'].to(device)\n",
        "\n",
        "        # 모델 출력\n",
        "        outputs = model(input_ids=input_ids, attention_mask=attention_mask, labels=labels)\n",
        "        loss = outputs.loss\n",
        "\n",
        "        # 역전파 및 최적화\n",
        "        loss.backward()\n",
        "        torch.nn.utils.clip_grad_norm_(model.parameters(), 1.0)\n",
        "        optimizer.step()  # 옵티마이저 업데이트\n",
        "        scheduler.step()  # 스케줄러 업데이트\n",
        "        optimizer.zero_grad()\n",
        "        torch.cuda.empty_cache()  # 여기 추가\n",
        "\n",
        "        # 손실 누적\n",
        "        total_train_loss += loss.item()\n",
        "        train_steps += 1\n",
        "\n",
        "        train_pbar.set_postfix({'loss': f'{loss.item():.4f}'})\n",
        "\n",
        "    # 평균 점수 계산\n",
        "    avg_train_loss = total_train_loss / train_steps\n",
        "\n",
        "    print(f\"\\nEpoch {epoch+1} Average Training Loss: {avg_train_loss:.4f}\")\n",
        "\n",
        "    # 검증 단계\n",
        "    model.eval()\n",
        "    total_valid_loss = 0\n",
        "    valid_steps = 0\n",
        "    total_valid_bleu = 0\n",
        "    total_valid_rouge = {'rouge1': 0, 'rouge2': 0, 'rougeL': 0}\n",
        "    num_valid_samples = 0\n",
        "\n",
        "    all_generated_texts = []  # BERTScore를 계산하기 위한 생성 텍스트 리스트\n",
        "    all_reference_texts = []  # BERTScore를 계산하기 위한 참조 텍스트 리스트\n",
        "\n",
        "    with torch.no_grad():\n",
        "        valid_pbar = tqdm(valid_dataloader, desc=f'Validation Epoch {epoch+1}')\n",
        "        for i, batch in enumerate(valid_pbar):\n",
        "            input_ids = batch['input_ids'].to(device)\n",
        "            attention_mask = batch['attention_mask'].to(device)\n",
        "            labels = batch['labels'].to(device)\n",
        "\n",
        "            outputs = model(input_ids=input_ids, attention_mask=attention_mask, labels=labels)\n",
        "            loss = outputs.loss\n",
        "\n",
        "            # 손실 누적\n",
        "            total_valid_loss += loss.item()\n",
        "            valid_steps += 1\n",
        "\n",
        "            # BLEU 및 ROUGE 계산\n",
        "            generated_ids = outputs.logits.argmax(dim=-1)\n",
        "            generated_texts = tokenizer.batch_decode(generated_ids, skip_special_tokens=True)\n",
        "            labels_for_decoding = labels.masked_fill(labels == -100, tokenizer.pad_token_id)\n",
        "            reference_texts = tokenizer.batch_decode(labels_for_decoding, skip_special_tokens=True)\n",
        "            if i ==0:\n",
        "                for zi,(r,g) in enumerate(zip(reference_texts,generated_texts)):\n",
        "                    if zi <3:\n",
        "                        print(\"\\033[1m\" + r + \"\\033[0m\")  # 참조 텍스트를 볼드체로 출력\n",
        "                        print(g)\n",
        "\n",
        "            all_generated_texts.extend(generated_texts)\n",
        "            all_reference_texts.extend(reference_texts)\n",
        "\n",
        "            for ref, gen in zip(reference_texts, generated_texts):\n",
        "                bleu_score = sentence_bleu([ref.split()], gen.split(), smoothing_function=smoothing)\n",
        "                total_valid_bleu += bleu_score\n",
        "\n",
        "                rouge_scores = scorer.score(ref, gen)\n",
        "                for key in total_valid_rouge.keys():\n",
        "                    total_valid_rouge[key] += rouge_scores[key].fmeasure\n",
        "                num_valid_samples +=1\n",
        "\n",
        "            valid_pbar.set_postfix({'loss': f'{loss.item():.4f}'})\n",
        "            torch.cuda.empty_cache()  # 여기 추가\n",
        "\n",
        "    # 평균 점수 계산\n",
        "    avg_valid_loss = total_valid_loss / valid_steps\n",
        "    valid_perplexity = math.exp(avg_valid_loss)\n",
        "\n",
        "    avg_valid_bleu = total_valid_bleu / valid_steps\n",
        "    avg_valid_rouge = {k: v / num_valid_samples for k, v in total_valid_rouge.items()}\n",
        "\n",
        "    # BERTScore 계산\n",
        "    P, R, F1 = score(all_generated_texts, all_reference_texts, lang=\"ko\", verbose=True)  # lang=\"ko\"는 한국어 기준\n",
        "\n",
        "    print(f\"Epoch {epoch+1} Average Validation Loss: {avg_valid_loss:.4f}\")\n",
        "    print(f\"Epoch {epoch+1} Validation Perplexity: {valid_perplexity:.4f}\")\n",
        "    print(f\"Epoch {epoch+1} Average Validation BLEU: {avg_valid_bleu:.4f}\")\n",
        "    print(f\"Epoch {epoch+1} Average Validation ROUGE: {avg_valid_rouge}\")\n",
        "    print(f\"Epoch {epoch+1} BERTScore Precision: {P.mean():.4f}\")\n",
        "    print(f\"Epoch {epoch+1} BERTScore Recall: {R.mean():.4f}\")\n",
        "    print(f\"Epoch {epoch+1} BERTScore F1: {F1.mean():.4f}\")\n",
        "\n",
        "    history['avg_train_loss'].append(avg_train_loss)\n",
        "    history['avg_valid_loss'].append(avg_valid_loss)\n",
        "    history['valid_perplexity'].append(valid_perplexity)\n",
        "    history['avg_valid_bleu'].append(avg_valid_bleu)\n",
        "    history['avg_valid_rouge1'].append(avg_valid_rouge['rouge1'])\n",
        "    history['avg_valid_rouge2'].append(avg_valid_rouge['rouge2'])\n",
        "    history['avg_valid_rougeL'].append(avg_valid_rouge['rougeL'])\n",
        "    history['bertscore_precision'].append(P.mean().item())\n",
        "    history['bertscore_recall'].append(R.mean().item())\n",
        "    history['bertscore_f1'].append(F1.mean().item())\n",
        "\n",
        "    # 최적의 모델 저장\n",
        "    if avg_valid_loss < best_valid_loss:\n",
        "        best_valid_loss = avg_valid_loss\n",
        "        print(f\"Saving best model with validation loss: {best_valid_loss:.4f}\")\n",
        "        torch.save(model.state_dict(), './best_model.pt')  # 현재 디렉토리에 저장\n",
        "\n",
        "print(\"\\nTraining completed!\")\n"
      ]
    },
    {
      "cell_type": "code",
      "execution_count": null,
      "id": "bb499aea",
      "metadata": {
        "execution": {
          "iopub.execute_input": "2024-11-22T22:57:43.198769Z",
          "iopub.status.busy": "2024-11-22T22:57:43.197844Z",
          "iopub.status.idle": "2024-11-22T22:57:43.248411Z",
          "shell.execute_reply": "2024-11-22T22:57:43.247488Z"
        },
        "papermill": {
          "duration": 2.3702,
          "end_time": "2024-11-22T22:57:43.250336",
          "exception": false,
          "start_time": "2024-11-22T22:57:40.880136",
          "status": "completed"
        },
        "tags": [],
        "id": "bb499aea",
        "outputId": "8018cbbb-f68c-49f7-8c52-0aff784d2711"
      },
      "outputs": [
        {
          "name": "stdout",
          "output_type": "stream",
          "text": [
            "GPU 0 메모리 리셋 완료!\n",
            "  전체 메모리: 15095.06 MB\n",
            "  예약된 메모리: 2760.00 MB\n",
            "  사용 중인 메모리: 2248.62 MB\n",
            "  사용 가능 메모리: 511.38 MB\n",
            "GPU 1 메모리 리셋 완료!\n",
            "  전체 메모리: 15095.06 MB\n",
            "  예약된 메모리: 0.00 MB\n",
            "  사용 중인 메모리: 0.00 MB\n",
            "  사용 가능 메모리: 0.00 MB\n"
          ]
        },
        {
          "name": "stderr",
          "output_type": "stream",
          "text": [
            "/opt/conda/lib/python3.10/site-packages/torch/cuda/memory.py:343: FutureWarning: torch.cuda.reset_max_memory_allocated now calls torch.cuda.reset_peak_memory_stats, which resets /all/ peak memory stats.\n",
            "  warnings.warn(\n"
          ]
        }
      ],
      "source": [
        "import torch\n",
        "import gc\n",
        "\n",
        "# GPU 상태 초기화 및 남은 메모리 확인\n",
        "for i in range(torch.cuda.device_count()):\n",
        "    device = torch.device(f\"cuda:{i}\")\n",
        "\n",
        "    # 메모리 초기화\n",
        "    torch.cuda.empty_cache()  # GPU 캐시 비우기\n",
        "    torch.cuda.ipc_collect()  # GPU 메모리에서 누수된 객체 수집\n",
        "\n",
        "    # 메모리 통계 초기화\n",
        "    torch.cuda.reset_max_memory_allocated(device)\n",
        "    torch.cuda.reset_peak_memory_stats(device)\n",
        "\n",
        "    # GPU 메모리 상태 확인\n",
        "    total_memory = torch.cuda.get_device_properties(device).total_memory  # 전체 메모리\n",
        "    reserved_memory = torch.cuda.memory_reserved(device)  # 예약된 메모리\n",
        "    allocated_memory = torch.cuda.memory_allocated(device)  # 사용 중인 메모리\n",
        "    free_memory = reserved_memory - allocated_memory  # 예약된 메모리 중 사용 가능 메모리\n",
        "\n",
        "    print(f\"GPU {i} 메모리 리셋 완료!\")\n",
        "    print(f\"  전체 메모리: {total_memory / 1024 ** 2:.2f} MB\")\n",
        "    print(f\"  예약된 메모리: {reserved_memory / 1024 ** 2:.2f} MB\")\n",
        "    print(f\"  사용 중인 메모리: {allocated_memory / 1024 ** 2:.2f} MB\")\n",
        "    print(f\"  사용 가능 메모리: {free_memory / 1024 ** 2:.2f} MB\")\n",
        "#gc.collect()"
      ]
    },
    {
      "cell_type": "code",
      "execution_count": null,
      "id": "dab3a0b4",
      "metadata": {
        "execution": {
          "iopub.execute_input": "2024-11-22T22:57:47.937344Z",
          "iopub.status.busy": "2024-11-22T22:57:47.937014Z",
          "iopub.status.idle": "2024-11-22T22:57:47.941889Z",
          "shell.execute_reply": "2024-11-22T22:57:47.941078Z"
        },
        "papermill": {
          "duration": 2.366644,
          "end_time": "2024-11-22T22:57:47.943659",
          "exception": false,
          "start_time": "2024-11-22T22:57:45.577015",
          "status": "completed"
        },
        "tags": [],
        "id": "dab3a0b4",
        "outputId": "0b6b1475-3c58-4a6b-e8ea-df2109c48f9c"
      },
      "outputs": [
        {
          "name": "stdout",
          "output_type": "stream",
          "text": [
            "GPU 메모리 사용량 (할당): 2248.62 MB\n",
            "GPU 메모리 사용량 (예약): 2760.00 MB\n"
          ]
        }
      ],
      "source": [
        "print(f\"GPU 메모리 사용량 (할당): {torch.cuda.memory_allocated() / 1024**2:.2f} MB\")\n",
        "print(f\"GPU 메모리 사용량 (예약): {torch.cuda.memory_reserved() / 1024**2:.2f} MB\")\n"
      ]
    },
    {
      "cell_type": "code",
      "execution_count": null,
      "id": "98205638",
      "metadata": {
        "execution": {
          "iopub.execute_input": "2024-11-22T22:57:52.525192Z",
          "iopub.status.busy": "2024-11-22T22:57:52.524859Z",
          "iopub.status.idle": "2024-11-22T22:57:52.723385Z",
          "shell.execute_reply": "2024-11-22T22:57:52.722521Z"
        },
        "papermill": {
          "duration": 2.50031,
          "end_time": "2024-11-22T22:57:52.724950",
          "exception": false,
          "start_time": "2024-11-22T22:57:50.224640",
          "status": "completed"
        },
        "tags": [],
        "id": "98205638",
        "outputId": "1eec5a80-5624-43f6-fe67-cdefca18c115"
      },
      "outputs": [
        {
          "data": {
            "text/plain": [
              "831"
            ]
          },
          "execution_count": 17,
          "metadata": {},
          "output_type": "execute_result"
        }
      ],
      "source": [
        "import gc\n",
        "gc.collect()"
      ]
    },
    {
      "cell_type": "markdown",
      "id": "c5c36739",
      "metadata": {
        "papermill": {
          "duration": 2.262396,
          "end_time": "2024-11-22T22:57:57.320087",
          "exception": false,
          "start_time": "2024-11-22T22:57:55.057691",
          "status": "completed"
        },
        "tags": [],
        "id": "c5c36739"
      },
      "source": [
        "# Test with some example"
      ]
    },
    {
      "cell_type": "code",
      "execution_count": null,
      "id": "33f1673b",
      "metadata": {
        "execution": {
          "iopub.execute_input": "2024-11-22T22:58:01.969121Z",
          "iopub.status.busy": "2024-11-22T22:58:01.968332Z",
          "iopub.status.idle": "2024-11-22T22:58:07.424586Z",
          "shell.execute_reply": "2024-11-22T22:58:07.423661Z"
        },
        "id": "33f1673b",
        "outputId": "1bae925b-9842-4f2c-f949-19e5249bed0f",
        "papermill": {
          "duration": 7.770116,
          "end_time": "2024-11-22T22:58:07.426248",
          "exception": false,
          "start_time": "2024-11-22T22:57:59.656132",
          "status": "completed"
        },
        "tags": []
      },
      "outputs": [
        {
          "name": "stderr",
          "output_type": "stream",
          "text": [
            "/opt/conda/lib/python3.10/site-packages/transformers/tokenization_utils_base.py:1617: FutureWarning: `clean_up_tokenization_spaces` was not set. It will be set to `True` by default. This behavior will be deprecated in transformers v4.45, and will be then set to `False` by default. For more details check this issue: https://github.com/huggingface/transformers/issues/31884\n",
            "  warnings.warn(\n"
          ]
        },
        {
          "name": "stdout",
          "output_type": "stream",
          "text": [
            "Prompt: <s> 질문: 자신의 강점은 무엇이라고 생각합니까? 답변:\n",
            "\n",
            "--- Response with Pretrained Weights ---\n",
            ": 잘 모르겠어요,\n",
            "이런 질문을 던졌는데 대답이 걸작이야. '나는 강하지 않아'라는 대답을 들어봤는데 내 강점을 알아주는 대답인 것 같더라구. 그래서 내가 다른 사람들을 위해 봉사한다는 마음으로 사는 사람이 되길 바랬는데 강하다는 이유로 다른 사람들의 마음을 사로잡지 못해 답이 안 나왔어. 그럼 다른 사람들은 어떻게 하느냐고 물었지.\n",
            "또 다른 질문 : 우리 모두 강하지는 않지?\n",
            "난 강하지도 않아.\n",
            "그렇지만 난 강하다고 생각했지. 이젠 좀 더 쉬는 시간을 갖고 싶지 않은가!\n",
            "어두운 공원에서\n",
            "신나는 음악에 빠져보자.\n",
            "우린 #라이브 _ the_official .\n",
            "#헬로 썸머 | ? ?\n",
            "#Repost 까지 봤다.\n",
            "#무비스타그램 에서도 구매 가능\n",
            "#여행 에서는 뭔\n"
          ]
        },
        {
          "name": "stderr",
          "output_type": "stream",
          "text": [
            "/tmp/ipykernel_23/585525791.py:47: FutureWarning: You are using `torch.load` with `weights_only=False` (the current default value), which uses the default pickle module implicitly. It is possible to construct malicious pickle data which will execute arbitrary code during unpickling (See https://github.com/pytorch/pytorch/blob/main/SECURITY.md#untrusted-models for more details). In a future release, the default value for `weights_only` will be flipped to `True`. This limits the functions that could be executed during unpickling. Arbitrary objects will no longer be allowed to be loaded via this mode unless they are explicitly allowlisted by the user via `torch.serialization.add_safe_globals`. We recommend you start setting `weights_only=True` for any use case where you don't have full control of the loaded file. Please open an issue on GitHub for any issues related to this experimental feature.\n",
            "  model.load_state_dict(torch.load('./best_model.pt', map_location=torch.device('cpu')))\n"
          ]
        },
        {
          "name": "stdout",
          "output_type": "stream",
          "text": [
            "\n",
            "--- Response with Custom Weights (best_model.pt) ---\n",
            ": 저의 강점이자 단점은 조금은 즉흥적이라는 점입니다. 제가 대학교 시절 동아리에서 활동하면서 친구들과의 연애 문제는 생각하지 않고 저에게 주어진 일만 열심히 했습니다. 친구들은 저를 그렇게 보길 원하지만 저는 항상 그렇게 하길 바랬습니다. 저도 그렇게 하기 위해서 다양한 연애 고민들을 했었습니다. 친구들과 사귀는 순간에는 제가 왜 그렇게 하고 싶은지 먼저 말을 걸었었고 그렇게 생각을 하고 나서 저 또한 답답해 하며 그 친구에게 더 이상 말을 걸고 싶지 않다는 생각이 들었었구요. 하지만 생각보다 친구들도 저와 다른 생각을 갖고 있고 저 역시도 저보다 연배가 오래하신 분들이 많습니다. 그렇기 때문에 저희 강점을 더욱더 살려서 저만의 시간을 가지고 있고 또 그 친구들과 어울리면서 어 저 친구와 어울리는 시간이 더욱 많아졌습니다. 그래서 저희는 서로 어 다가가서 더 친해지고 더 가까워지기 위해 노력했습니다. \n"
          ]
        }
      ],
      "source": [
        "import torch\n",
        "from transformers import GPT2LMHeadModel, GPT2TokenizerFast\n",
        "\n",
        "# Load the tokenizer\n",
        "tokenizer = GPT2TokenizerFast.from_pretrained(\"skt/kogpt2-base-v2\",\n",
        "                                              bos_token='</s>',\n",
        "                                              eos_token='</s>',\n",
        "                                              unk_token='<unk>',\n",
        "                                              pad_token='<pad>',\n",
        "                                              mask_token='<mask>')\n",
        "\n",
        "# Load the pretrained model\n",
        "model = GPT2LMHeadModel.from_pretrained(\"skt/kogpt2-base-v2\")\n",
        "model.eval()\n",
        "\n",
        "# Move model to the appropriate device\n",
        "device = torch.device(\"cuda\" if torch.cuda.is_available() else \"cpu\")\n",
        "model.to(device)\n",
        "\n",
        "# Function to generate a response\n",
        "def generate_response(prompt, max_length=200):\n",
        "    input_ids = tokenizer.encode(prompt, return_tensors=\"pt\").to(device)\n",
        "    output = model.generate(\n",
        "        input_ids,\n",
        "        max_length=max_length,\n",
        "        num_return_sequences=1,\n",
        "        no_repeat_ngram_size=2,\n",
        "        top_k=50,\n",
        "        top_p=0.95,\n",
        "        temperature=0.8,\n",
        "        do_sample=True,\n",
        "        eos_token_id=tokenizer.eos_token_id\n",
        "    )\n",
        "    response = tokenizer.decode(output[0], skip_special_tokens=True)\n",
        "    return response\n",
        "\n",
        "# Example prompt\n",
        "prompt = \"<s> 질문: 자신의 강점은 무엇이라고 생각합니까? 답변:\"\n",
        "print(\"Prompt:\", prompt)\n",
        "\n",
        "# 1. Generate response with pretrained weights only\n",
        "print(\"\\n--- Response with Pretrained Weights ---\")\n",
        "response_pretrained = generate_response(prompt)\n",
        "print(response_pretrained.split('답변')[1])\n",
        "\n",
        "# 2. Load custom weights and generate response again\n",
        "model.load_state_dict(torch.load('./best_model.pt', map_location=torch.device('cpu')))\n",
        "model.eval()\n",
        "\n",
        "print(\"\\n--- Response with Custom Weights (best_model.pt) ---\")\n",
        "response_custom = generate_response(prompt)\n",
        "print(response_custom.split('답변')[1])\n"
      ]
    },
    {
      "cell_type": "code",
      "execution_count": null,
      "id": "715857cc",
      "metadata": {
        "execution": {
          "iopub.execute_input": "2024-11-22T22:58:12.016598Z",
          "iopub.status.busy": "2024-11-22T22:58:12.015914Z",
          "iopub.status.idle": "2024-11-22T22:58:16.575517Z",
          "shell.execute_reply": "2024-11-22T22:58:16.574608Z"
        },
        "id": "715857cc",
        "outputId": "23fc3a44-bf74-4a3f-d331-33203eb825a9",
        "papermill": {
          "duration": 6.879262,
          "end_time": "2024-11-22T22:58:16.577240",
          "exception": false,
          "start_time": "2024-11-22T22:58:09.697978",
          "status": "completed"
        },
        "tags": []
      },
      "outputs": [
        {
          "name": "stdout",
          "output_type": "stream",
          "text": [
            "Prompt: <s> 질문: 자신의 강점은 무엇이라고 생각합니까? 경력: 경력 직업: 경영관리 답변:\n",
            "\n",
            "--- Response with Pretrained Weights ---\n",
            ":\n",
            "인턴: 인턴은 어떻게 해야 할까요? ??\n",
            ": 월급은 어떻게 책정하는 것이 좋을까요\n",
            ": 어떻게 할까?\n",
            ": 급여는 어떻게 산정할까?\n",
            "인턴은 어떤 종류의 급여가 적당한가를 살펴보고 급여를 책정할 것입니다.\n",
            "인턴이 급여의 기준을 어떻게 설정할지에 대한 질문 :\n",
            ": 기본급이 얼마인가에 대한 \n"
          ]
        },
        {
          "name": "stderr",
          "output_type": "stream",
          "text": [
            "/tmp/ipykernel_23/814914237.py:47: FutureWarning: You are using `torch.load` with `weights_only=False` (the current default value), which uses the default pickle module implicitly. It is possible to construct malicious pickle data which will execute arbitrary code during unpickling (See https://github.com/pytorch/pytorch/blob/main/SECURITY.md#untrusted-models for more details). In a future release, the default value for `weights_only` will be flipped to `True`. This limits the functions that could be executed during unpickling. Arbitrary objects will no longer be allowed to be loaded via this mode unless they are explicitly allowlisted by the user via `torch.serialization.add_safe_globals`. We recommend you start setting `weights_only=True` for any use case where you don't have full control of the loaded file. Please open an issue on GitHub for any issues related to this experimental feature.\n",
            "  model.load_state_dict(torch.load('./best_model.pt', map_location=torch.device('cpu')))\n"
          ]
        },
        {
          "name": "stdout",
          "output_type": "stream",
          "text": [
            "\n",
            "--- Response with Custom Weights (best_model.pt) ---\n",
            ": 저는 경력직으로 지원한 만큼 제 경력을 살려서 좋은 인재가 되겠습니다. 저의 강점이 있다면 저희 회사가 갖고 있는 인프라나 저희가 가지고 있는 시설에 대해서 그 누구보다도 잘 알고 있습니다. 그리고 저 또한 이 회사에 지원을 했기 때문에 그 어느 누구 못지않게 저한테 있어서 강점을 가지고 있다고 생각합니다. 하지만 저에 강점과 저 저에게 제가 가진 강점에 대해서 다른 분들보다도 더 잘 아실 수 있습니다. 그래서 저 같은 경우는 저만의 강점에서 장점이 있다고 판단하고요. 그리고 제 장점은 저보다 나이가 어린 사람들을 많이 챙기려고 하는 거에 대한 그런 장점을 가지고 있습니다. \n"
          ]
        }
      ],
      "source": [
        "import torch\n",
        "from transformers import GPT2LMHeadModel, GPT2TokenizerFast\n",
        "\n",
        "# Load the tokenizer\n",
        "tokenizer = GPT2TokenizerFast.from_pretrained(\"skt/kogpt2-base-v2\",\n",
        "                                              bos_token='</s>',\n",
        "                                              eos_token='</s>',\n",
        "                                              unk_token='<unk>',\n",
        "                                              pad_token='<pad>',\n",
        "                                              mask_token='<mask>')\n",
        "\n",
        "# Load the pretrained model\n",
        "model = GPT2LMHeadModel.from_pretrained(\"skt/kogpt2-base-v2\")\n",
        "model.eval()\n",
        "\n",
        "# Move model to the appropriate device\n",
        "device = torch.device(\"cuda\" if torch.cuda.is_available() else \"cpu\")\n",
        "model.to(device)\n",
        "\n",
        "# Function to generate a response\n",
        "def generate_response(prompt, max_length=200):\n",
        "    input_ids = tokenizer.encode(prompt, return_tensors=\"pt\").to(device)\n",
        "    output = model.generate(\n",
        "        input_ids,\n",
        "        max_length=max_length,\n",
        "        num_return_sequences=1,\n",
        "        no_repeat_ngram_size=2,\n",
        "        top_k=50,\n",
        "        top_p=0.95,\n",
        "        temperature=0.8,\n",
        "        do_sample=True,\n",
        "        eos_token_id=tokenizer.eos_token_id\n",
        "    )\n",
        "    response = tokenizer.decode(output[0], skip_special_tokens=True)\n",
        "    return response\n",
        "\n",
        "# Example prompt\n",
        "prompt = \"<s> 질문: 자신의 강점은 무엇이라고 생각합니까? 경력: 경력 직업: 경영관리 답변:\"\n",
        "print(\"Prompt:\", prompt)\n",
        "\n",
        "# 1. Generate response with pretrained weights only\n",
        "print(\"\\n--- Response with Pretrained Weights ---\")\n",
        "response_pretrained = generate_response(prompt)\n",
        "print(response_pretrained.split('답변')[1])\n",
        "\n",
        "# 2. Load custom weights and generate response again\n",
        "model.load_state_dict(torch.load('./best_model.pt', map_location=torch.device('cpu')))\n",
        "model.eval()\n",
        "\n",
        "print(\"\\n--- Response with Custom Weights (best_model.pt) ---\")\n",
        "response_custom = generate_response(prompt)\n",
        "print(response_custom.split('답변')[1])"
      ]
    },
    {
      "cell_type": "code",
      "execution_count": null,
      "id": "e5dd8f4c",
      "metadata": {
        "id": "e5dd8f4c",
        "papermill": {
          "duration": 2.238338,
          "end_time": "2024-11-22T22:58:21.193134",
          "exception": false,
          "start_time": "2024-11-22T22:58:18.954796",
          "status": "completed"
        },
        "tags": []
      },
      "outputs": [],
      "source": []
    },
    {
      "cell_type": "code",
      "execution_count": null,
      "id": "49911a17",
      "metadata": {
        "id": "49911a17",
        "papermill": {
          "duration": 2.324529,
          "end_time": "2024-11-22T22:58:25.832435",
          "exception": false,
          "start_time": "2024-11-22T22:58:23.507906",
          "status": "completed"
        },
        "tags": []
      },
      "outputs": [],
      "source": []
    },
    {
      "cell_type": "markdown",
      "id": "f67d42e0",
      "metadata": {
        "papermill": {
          "duration": 2.336017,
          "end_time": "2024-11-22T22:58:30.436208",
          "exception": false,
          "start_time": "2024-11-22T22:58:28.100191",
          "status": "completed"
        },
        "tags": [],
        "id": "f67d42e0"
      },
      "source": [
        "# Final Metrics"
      ]
    },
    {
      "cell_type": "code",
      "execution_count": null,
      "id": "dbde812e",
      "metadata": {
        "execution": {
          "iopub.execute_input": "2024-11-22T22:58:34.978026Z",
          "iopub.status.busy": "2024-11-22T22:58:34.977705Z",
          "iopub.status.idle": "2024-11-22T22:58:34.995344Z",
          "shell.execute_reply": "2024-11-22T22:58:34.994435Z"
        },
        "papermill": {
          "duration": 2.251458,
          "end_time": "2024-11-22T22:58:34.997286",
          "exception": false,
          "start_time": "2024-11-22T22:58:32.745828",
          "status": "completed"
        },
        "tags": [],
        "id": "dbde812e",
        "outputId": "f56c142d-787c-4090-d5eb-928dab93b26c"
      },
      "outputs": [
        {
          "data": {
            "text/html": [
              "<div>\n",
              "<style scoped>\n",
              "    .dataframe tbody tr th:only-of-type {\n",
              "        vertical-align: middle;\n",
              "    }\n",
              "\n",
              "    .dataframe tbody tr th {\n",
              "        vertical-align: top;\n",
              "    }\n",
              "\n",
              "    .dataframe thead th {\n",
              "        text-align: right;\n",
              "    }\n",
              "</style>\n",
              "<table border=\"1\" class=\"dataframe\">\n",
              "  <thead>\n",
              "    <tr style=\"text-align: right;\">\n",
              "      <th></th>\n",
              "      <th>avg_train_loss</th>\n",
              "      <th>avg_valid_loss</th>\n",
              "      <th>valid_perplexity</th>\n",
              "      <th>avg_valid_bleu</th>\n",
              "      <th>avg_valid_rouge1</th>\n",
              "      <th>avg_valid_rouge2</th>\n",
              "      <th>avg_valid_rougeL</th>\n",
              "      <th>bertscore_precision</th>\n",
              "      <th>bertscore_recall</th>\n",
              "      <th>bertscore_f1</th>\n",
              "    </tr>\n",
              "  </thead>\n",
              "  <tbody>\n",
              "    <tr>\n",
              "      <th>0</th>\n",
              "      <td>2.406791</td>\n",
              "      <td>2.184649</td>\n",
              "      <td>8.887530</td>\n",
              "      <td>0.823880</td>\n",
              "      <td>0.350119</td>\n",
              "      <td>0.092952</td>\n",
              "      <td>0.277577</td>\n",
              "      <td>0.777546</td>\n",
              "      <td>0.766934</td>\n",
              "      <td>0.772175</td>\n",
              "    </tr>\n",
              "    <tr>\n",
              "      <th>1</th>\n",
              "      <td>2.213323</td>\n",
              "      <td>2.142031</td>\n",
              "      <td>8.516714</td>\n",
              "      <td>0.883235</td>\n",
              "      <td>0.356489</td>\n",
              "      <td>0.097354</td>\n",
              "      <td>0.282614</td>\n",
              "      <td>0.781384</td>\n",
              "      <td>0.771877</td>\n",
              "      <td>0.776573</td>\n",
              "    </tr>\n",
              "    <tr>\n",
              "      <th>2</th>\n",
              "      <td>2.108710</td>\n",
              "      <td>2.124711</td>\n",
              "      <td>8.370477</td>\n",
              "      <td>0.930610</td>\n",
              "      <td>0.360380</td>\n",
              "      <td>0.100782</td>\n",
              "      <td>0.286736</td>\n",
              "      <td>0.783370</td>\n",
              "      <td>0.773873</td>\n",
              "      <td>0.778564</td>\n",
              "    </tr>\n",
              "    <tr>\n",
              "      <th>3</th>\n",
              "      <td>2.030118</td>\n",
              "      <td>2.110946</td>\n",
              "      <td>8.256051</td>\n",
              "      <td>0.950841</td>\n",
              "      <td>0.363933</td>\n",
              "      <td>0.102649</td>\n",
              "      <td>0.289260</td>\n",
              "      <td>0.783901</td>\n",
              "      <td>0.775225</td>\n",
              "      <td>0.779512</td>\n",
              "    </tr>\n",
              "    <tr>\n",
              "      <th>4</th>\n",
              "      <td>1.971672</td>\n",
              "      <td>2.113392</td>\n",
              "      <td>8.276266</td>\n",
              "      <td>0.959811</td>\n",
              "      <td>0.364332</td>\n",
              "      <td>0.102967</td>\n",
              "      <td>0.289653</td>\n",
              "      <td>0.784356</td>\n",
              "      <td>0.776067</td>\n",
              "      <td>0.780163</td>\n",
              "    </tr>\n",
              "  </tbody>\n",
              "</table>\n",
              "</div>"
            ],
            "text/plain": [
              "   avg_train_loss  avg_valid_loss  valid_perplexity  avg_valid_bleu  \\\n",
              "0        2.406791        2.184649          8.887530        0.823880   \n",
              "1        2.213323        2.142031          8.516714        0.883235   \n",
              "2        2.108710        2.124711          8.370477        0.930610   \n",
              "3        2.030118        2.110946          8.256051        0.950841   \n",
              "4        1.971672        2.113392          8.276266        0.959811   \n",
              "\n",
              "   avg_valid_rouge1  avg_valid_rouge2  avg_valid_rougeL  bertscore_precision  \\\n",
              "0          0.350119          0.092952          0.277577             0.777546   \n",
              "1          0.356489          0.097354          0.282614             0.781384   \n",
              "2          0.360380          0.100782          0.286736             0.783370   \n",
              "3          0.363933          0.102649          0.289260             0.783901   \n",
              "4          0.364332          0.102967          0.289653             0.784356   \n",
              "\n",
              "   bertscore_recall  bertscore_f1  \n",
              "0          0.766934      0.772175  \n",
              "1          0.771877      0.776573  \n",
              "2          0.773873      0.778564  \n",
              "3          0.775225      0.779512  \n",
              "4          0.776067      0.780163  "
            ]
          },
          "execution_count": 20,
          "metadata": {},
          "output_type": "execute_result"
        }
      ],
      "source": [
        "history_df = pd.DataFrame(history)\n",
        "history_df.head()"
      ]
    },
    {
      "cell_type": "code",
      "execution_count": null,
      "id": "eb8c010b",
      "metadata": {
        "execution": {
          "iopub.execute_input": "2024-11-22T22:58:39.646914Z",
          "iopub.status.busy": "2024-11-22T22:58:39.646171Z",
          "iopub.status.idle": "2024-11-22T22:58:41.613325Z",
          "shell.execute_reply": "2024-11-22T22:58:41.612545Z"
        },
        "papermill": {
          "duration": 4.2986,
          "end_time": "2024-11-22T22:58:41.617199",
          "exception": false,
          "start_time": "2024-11-22T22:58:37.318599",
          "status": "completed"
        },
        "tags": [],
        "id": "eb8c010b",
        "outputId": "c729ee4e-155c-4936-b7f0-fa2d8e9081bf"
      },
      "outputs": [
        {
          "data": {
            "image/png": "[encoded data removed]",
            "text/plain": [
              "<Figure size 1600x1200 with 12 Axes>"
            ]
          },
          "metadata": {},
          "output_type": "display_data"
        }
      ],
      "source": [
        "import matplotlib.pyplot as plt\n",
        "\n",
        "# 서브플롯 수 설정 (한 줄에 2개씩 배치)\n",
        "num_metrics = len(history_df.columns)\n",
        "ncols = 4\n",
        "nrows = (num_metrics + ncols - 1) // ncols  # 필요한 행의 수 계산\n",
        "fig, axes = plt.subplots(nrows, ncols, figsize=(16, 4 * nrows))\n",
        "\n",
        "# axes를 1차원 배열로 변환 (서브플롯이 여러 줄일 경우)\n",
        "axes = axes.flatten()\n",
        "\n",
        "# 각 메트릭을 서브플롯에 그리기\n",
        "for ax, (metric_name, metric_values) in zip(axes, history_df.items()):\n",
        "    ax.plot(history_df.index, metric_values, marker='o', label=metric_name)\n",
        "    ax.set_title(metric_name)\n",
        "    ax.set_xlabel('Epochs')\n",
        "    ax.set_ylabel(metric_name)\n",
        "    ax.grid(True)\n",
        "    ax.legend()\n",
        "\n",
        "# 남은 빈 서브플롯 숨기기\n",
        "for ax in axes[len(history_df.columns):]:\n",
        "    ax.axis('off')\n",
        "\n",
        "plt.tight_layout()\n",
        "plt.show()"
      ]
    },
    {
      "cell_type": "code",
      "execution_count": null,
      "id": "42027197",
      "metadata": {
        "papermill": {
          "duration": 2.274312,
          "end_time": "2024-11-22T22:58:46.246082",
          "exception": false,
          "start_time": "2024-11-22T22:58:43.971770",
          "status": "completed"
        },
        "tags": [],
        "id": "42027197"
      },
      "outputs": [],
      "source": []
    }
  ],
  "metadata": {
    "accelerator": "GPU",
    "colab": {
      "gpuType": "A100",
      "machine_shape": "hm",
      "provenance": [],
      "include_colab_link": true
    },
    "kaggle": {
      "accelerator": "nvidiaTeslaT4",
      "dataSources": [],
      "dockerImageVersionId": 30787,
      "isGpuEnabled": true,
      "isInternetEnabled": true,
      "language": "python",
      "sourceType": "notebook"
    },
    "kernelspec": {
      "display_name": "Python 3",
      "language": "python",
      "name": "python3"
    },
    "language_info": {
      "codemirror_mode": {
        "name": "ipython",
        "version": 3
      },
      "file_extension": ".py",
      "mimetype": "text/x-python",
      "name": "python",
      "nbconvert_exporter": "python",
      "pygments_lexer": "ipython3",
      "version": "3.10.14"
    },
    "papermill": {
      "default_parameters": {},
      "duration": 30630.813592,
      "end_time": "2024-11-22T22:58:51.309460",
      "environment_variables": {},
      "exception": null,
      "input_path": "__notebook__.ipynb",
      "output_path": "__notebook__.ipynb",
      "parameters": {},
      "start_time": "2024-11-22T14:28:20.495868",
      "version": "2.6.0"
    },
    "widgets": {
      "application/vnd.jupyter.widget-state+json": {}
    }
  },
  "nbformat": 4,
  "nbformat_minor": 5
}