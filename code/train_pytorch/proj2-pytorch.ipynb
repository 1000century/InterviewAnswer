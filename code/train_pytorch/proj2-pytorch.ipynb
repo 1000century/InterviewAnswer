{
  "cells": [
    {
      "cell_type": "code",
      "execution_count": null,
      "id": "b6b1b881",
      "metadata": {
        "execution": {
          "iopub.execute_input": "2024-11-22T01:48:41.363866Z",
          "iopub.status.busy": "2024-11-22T01:48:41.363402Z",
          "iopub.status.idle": "2024-11-22T01:49:08.622068Z",
          "shell.execute_reply": "2024-11-22T01:49:08.620960Z"
        },
        "id": "b6b1b881",
        "papermill": {
          "duration": 27.298602,
          "end_time": "2024-11-22T01:49:08.624353",
          "exception": false,
          "start_time": "2024-11-22T01:48:41.325751",
          "status": "completed"
        },
        "tags": []
      },
      "outputs": [],
      "source": [
        "! pip install evaluate -qq\n",
        "! pip install korouge_score -qq\n",
        "! pip install bert_score -qq"
      ]
    },
    {
      "cell_type": "code",
      "execution_count": null,
      "id": "852b93d6",
      "metadata": {
        "execution": {
          "iopub.execute_input": "2024-11-22T01:49:08.698859Z",
          "iopub.status.busy": "2024-11-22T01:49:08.698496Z",
          "iopub.status.idle": "2024-11-22T01:49:10.502636Z",
          "shell.execute_reply": "2024-11-22T01:49:10.501863Z"
        },
        "id": "852b93d6",
        "papermill": {
          "duration": 1.844389,
          "end_time": "2024-11-22T01:49:10.504712",
          "exception": false,
          "start_time": "2024-11-22T01:49:08.660323",
          "status": "completed"
        },
        "tags": []
      },
      "outputs": [],
      "source": [
        "from datasets import load_dataset, Dataset, DatasetDict\n",
        "import pandas as pd\n",
        "import json\n",
        "import os\n",
        "import zipfile\n",
        "from typing import List, Dict\n",
        "\n",
        "def flatten_json_data(data_list):\n",
        "    \"\"\"JSON 데이터를 평탄화하는 함수\"\"\"\n",
        "    return pd.json_normalize(\n",
        "        data_list,\n",
        "        sep='_',\n",
        "        record_path=None,\n",
        "        meta=[\n",
        "            'category',\n",
        "            'job_field',\n",
        "            'gender',\n",
        "            'experience',\n",
        "            ['version'],\n",
        "            ['dataSet', 'answer', 'raw', 'text'],\n",
        "            ['dataSet', 'answer', 'summary', 'text'],\n",
        "            ['dataSet', 'question', 'raw', 'text'],\n",
        "            ['dataSet', 'info', 'ageRange'],\n",
        "            ['dataSet', 'info', 'channel'],\n",
        "            ['dataSet', 'info', 'date'],\n",
        "            ['dataSet', 'info', 'experience'],\n",
        "            ['dataSet', 'info', 'gender'],\n",
        "            ['dataSet', 'info', 'occupation'],\n",
        "            ['dataSet', 'info', 'place'],\n",
        "            ['rawDataInfo', 'answer', 'audioPath'],\n",
        "            ['rawDataInfo', 'question', 'audioPath']\n",
        "        ]\n",
        "    )\n",
        "\n",
        "def download_and_extract(urls: List[str], base_path: str) -> None:\n",
        "    \"\"\"\n",
        "    URL 리스트에서 ZIP 파일을 다운로드하고 압축을 해제하는 함수\n",
        "    \"\"\"\n",
        "    os.makedirs(base_path, exist_ok=True)\n",
        "\n",
        "    for i, url in enumerate(urls):\n",
        "        zip_file_name = url.split(\"/\")[-1]\n",
        "        zip_file_path = os.path.join(\"/kaggle/working\", zip_file_name)\n",
        "        print(f'처리중... {i+1}: {zip_file_name}')\n",
        "\n",
        "        # wget을 사용하여 파일 다운로드\n",
        "        !wget -q {url} -O {zip_file_path}\n",
        "\n",
        "        # 압축 해제할 폴더 생성\n",
        "        subfolder_name = zip_file_name.replace('.zip', '')\n",
        "        subfolder_path = os.path.join(base_path, subfolder_name)\n",
        "        os.makedirs(subfolder_path, exist_ok=True)\n",
        "\n",
        "        # ZIP 파일 압축 해제\n",
        "        with zipfile.ZipFile(zip_file_path, 'r') as zip_ref:\n",
        "            zip_ref.extractall(subfolder_path)\n",
        "\n",
        "        # 다운로드한 ZIP 파일 삭제\n",
        "        os.remove(zip_file_path)\n",
        "\n",
        "def create_dataset_from_json_files(base_path: str) -> Dataset:\n",
        "    \"\"\"\n",
        "    주어진 경로에서 JSON 파일들을 읽어 Dataset으로 변환하는 함수\n",
        "    \"\"\"\n",
        "    all_data = []\n",
        "\n",
        "    for root, _, files in os.walk(base_path):\n",
        "        for file in files:\n",
        "            if file.endswith('.json'):\n",
        "                file_path = os.path.join(root, file)\n",
        "                try:\n",
        "                    with open(file_path, 'r', encoding='utf-8') as f:\n",
        "                        data = json.load(f)\n",
        "                        # 파일 경로에서 메타데이터 추출\n",
        "                        folder_name = os.path.basename(os.path.dirname(file_path))\n",
        "                        parts = folder_name.split('_')\n",
        "                        data.update({\n",
        "                            'category': parts[0],  # TL or VL\n",
        "                            'job_field': '_'.join(parts[1:-2]),\n",
        "                            'gender': parts[-2],\n",
        "                            'experience': parts[-1]\n",
        "                        })\n",
        "                        all_data.append(data)\n",
        "                except json.JSONDecodeError as e:\n",
        "                    print(f\"Error reading {file_path}: {e}\")\n",
        "\n",
        "    # JSON 데이터 평탄화\n",
        "    df = flatten_json_data(all_data)\n",
        "\n",
        "    # DataFrame을 Dataset으로 변환\n",
        "    return Dataset.from_pandas(df)\n",
        "\n",
        "def create_interview_dataset():\n",
        "    \"\"\"\n",
        "    인터뷰 데이터셋을 생성하고 DatasetDict로 반환하는 함수\n",
        "    \"\"\"\n",
        "    # 훈련 데이터 URL\n",
        "    train_urls = [\n",
        "        \"https://github.com/1000century/multi_lion/raw/main/interview/Training/TL_01.Management_Female_Experienced.zip\",\n",
        "        \"https://github.com/1000century/multi_lion/raw/main/interview/Training/TL_01.Management_Female_New.zip\",\n",
        "        \"https://github.com/1000century/multi_lion/raw/main/interview/Training/TL_01.Management_Male_Experienced.zip\",\n",
        "        \"https://github.com/1000century/multi_lion/raw/main/interview/Training/TL_01.Management_Male_New.zip\",\n",
        "        \"https://github.com/1000century/multi_lion/raw/main/interview/Training/TL_02.SalesMarketing_Female_Experienced.zip\",\n",
        "        \"https://github.com/1000century/multi_lion/raw/main/interview/Training/TL_02.SalesMarketing_Female_New.zip\",\n",
        "        \"https://github.com/1000century/multi_lion/raw/main/interview/Training/TL_02.SalesMarketing_Male_Experienced.zip\",\n",
        "        \"https://github.com/1000century/multi_lion/raw/main/interview/Training/TL_02.SalesMarketing_Male_New.zip\",\n",
        "        \"https://github.com/1000century/multi_lion/raw/main/interview/Training/TL_03.PublicService_Female_Experienced.zip\",\n",
        "        \"https://github.com/1000century/multi_lion/raw/main/interview/Training/TL_03.PublicService_Female_New.zip\",\n",
        "        \"https://github.com/1000century/multi_lion/raw/main/interview/Training/TL_03.PublicService_Male_Experienced.zip\",\n",
        "        \"https://github.com/1000century/multi_lion/raw/main/interview/Training/TL_03.PublicService_Male_New.zip\",\n",
        "        \"https://github.com/1000century/multi_lion/raw/main/interview/Training/TL_04.RND_Female_Experienced.zip\",\n",
        "        \"https://github.com/1000century/multi_lion/raw/main/interview/Training/TL_04.RND_Female_New.zip\",\n",
        "        \"https://github.com/1000century/multi_lion/raw/main/interview/Training/TL_04.RND_Male_Experienced.zip\",\n",
        "        \"https://github.com/1000century/multi_lion/raw/main/interview/Training/TL_04.RND_Male_New.zip\",\n",
        "        \"https://github.com/1000century/multi_lion/raw/main/interview/Training/TL_05.ICT_Female_Experienced.zip\",\n",
        "        \"https://github.com/1000century/multi_lion/raw/main/interview/Training/TL_05.ICT_Female_New.zip\",\n",
        "        \"https://github.com/1000century/multi_lion/raw/main/interview/Training/TL_05.ICT_Male_Experienced.zip\",\n",
        "        \"https://github.com/1000century/multi_lion/raw/main/interview/Training/TL_05.ICT_Male_New.zip\",\n",
        "        \"https://github.com/1000century/multi_lion/raw/main/interview/Training/TL_06.Design_Female_Experienced.zip\",\n",
        "        \"https://github.com/1000century/multi_lion/raw/main/interview/Training/TL_06.Design_Female_New.zip\",\n",
        "        \"https://github.com/1000century/multi_lion/raw/main/interview/Training/TL_06.Design_Male_Experienced.zip\",\n",
        "        \"https://github.com/1000century/multi_lion/raw/main/interview/Training/TL_06.Design_Male_New.zip\",\n",
        "        \"https://github.com/1000century/multi_lion/raw/main/interview/Training/TL_07.ProductionManufacturing_Female_Experienced.zip\",\n",
        "        \"https://github.com/1000century/multi_lion/raw/main/interview/Training/TL_07.ProductionManufacturing_Female_New.zip\",\n",
        "        \"https://github.com/1000century/multi_lion/raw/main/interview/Training/TL_07.ProductionManufacturing_Male_Experienced.zip\",\n",
        "        \"https://github.com/1000century/multi_lion/raw/main/interview/Training/TL_07.ProductionManufacturing_Male_New.zip\"\n",
        "    ]\n",
        "\n",
        "    # 검증 데이터 URL\n",
        "    valid_urls = [\n",
        "        \"https://github.com/1000century/multi_lion/raw/main/interview/Validation/VL_01.Management_Female_Experienced.zip\",\n",
        "        \"https://github.com/1000century/multi_lion/raw/main/interview/Validation/VL_01.Management_Female_New.zip\",\n",
        "        \"https://github.com/1000century/multi_lion/raw/main/interview/Validation/VL_01.Management_Male_Experienced.zip\",\n",
        "        \"https://github.com/1000century/multi_lion/raw/main/interview/Validation/VL_01.Management_Male_New.zip\",\n",
        "        \"https://github.com/1000century/multi_lion/raw/main/interview/Validation/VL_02.SalesMarketing_Female_Experienced.zip\",\n",
        "        \"https://github.com/1000century/multi_lion/raw/main/interview/Validation/VL_02.SalesMarketing_Female_New.zip\",\n",
        "        \"https://github.com/1000century/multi_lion/raw/main/interview/Validation/VL_02.SalesMarketing_Male_Experienced.zip\",\n",
        "        \"https://github.com/1000century/multi_lion/raw/main/interview/Validation/VL_02.SalesMarketing_Male_New.zip\",\n",
        "        \"https://github.com/1000century/multi_lion/raw/main/interview/Validation/VL_03.PublicService_Female_Experienced.zip\",\n",
        "        \"https://github.com/1000century/multi_lion/raw/main/interview/Validation/VL_03.PublicService_Female_New.zip\",\n",
        "        \"https://github.com/1000century/multi_lion/raw/main/interview/Validation/VL_03.PublicService_Male_Experienced.zip\",\n",
        "        \"https://github.com/1000century/multi_lion/raw/main/interview/Validation/VL_03.PublicService_Male_New.zip\",\n",
        "        \"https://github.com/1000century/multi_lion/raw/main/interview/Validation/VL_04.RND_Female_Experienced.zip\",\n",
        "        \"https://github.com/1000century/multi_lion/raw/main/interview/Validation/VL_04.RND_Female_New.zip\",\n",
        "        \"https://github.com/1000century/multi_lion/raw/main/interview/Validation/VL_04.RND_Male_Experienced.zip\",\n",
        "        \"https://github.com/1000century/multi_lion/raw/main/interview/Validation/VL_04.RND_Male_New.zip\",\n",
        "        \"https://github.com/1000century/multi_lion/raw/main/interview/Validation/VL_05.ICT_Female_Experienced.zip\",\n",
        "        \"https://github.com/1000century/multi_lion/raw/main/interview/Validation/VL_05.ICT_Female_New.zip\",\n",
        "        \"https://github.com/1000century/multi_lion/raw/main/interview/Validation/VL_05.ICT_Male_Experienced.zip\",\n",
        "        \"https://github.com/1000century/multi_lion/raw/main/interview/Validation/VL_05.ICT_Male_New.zip\",\n",
        "        \"https://github.com/1000century/multi_lion/raw/main/interview/Validation/VL_06.Design_Female_Experienced.zip\",\n",
        "        \"https://github.com/1000century/multi_lion/raw/main/interview/Validation/VL_06.Design_Female_New.zip\",\n",
        "        \"https://github.com/1000century/multi_lion/raw/main/interview/Validation/VL_06.Design_Male_Experienced.zip\",\n",
        "        \"https://github.com/1000century/multi_lion/raw/main/interview/Validation/VL_06.Design_Male_New.zip\",\n",
        "        \"https://github.com/1000century/multi_lion/raw/main/interview/Validation/VL_07.ProductionManufacturing_Female_Experienced.zip\",\n",
        "        \"https://github.com/1000century/multi_lion/raw/main/interview/Validation/VL_07.ProductionManufacturing_Female_New.zip\",\n",
        "        \"https://github.com/1000century/multi_lion/raw/main/interview/Validation/VL_07.ProductionManufacturing_Male_Experienced.zip\",\n",
        "        \"https://github.com/1000century/multi_lion/raw/main/interview/Validation/VL_07.ProductionManufacturing_Male_New.zip\"\n",
        "    ]\n",
        "\n",
        "    # 데이터 다운로드 및 압축 해제\n",
        "    train_path = '/kaggle/working/train_unzipped'\n",
        "    valid_path = '/kaggle/working/validation_unzipped'\n",
        "\n",
        "    download_and_extract(train_urls, train_path)\n",
        "    download_and_extract(valid_urls, valid_path)\n",
        "\n",
        "    # 데이터셋 생성\n",
        "    train_dataset = create_dataset_from_json_files(train_path)\n",
        "    valid_dataset = create_dataset_from_json_files(valid_path)\n",
        "\n",
        "    # DatasetDict 생성\n",
        "    dataset_dict = DatasetDict({\n",
        "        'train': train_dataset,\n",
        "        'validation': valid_dataset\n",
        "    })\n",
        "\n",
        "    return dataset_dict"
      ]
    },
    {
      "cell_type": "markdown",
      "id": "9fc1caae",
      "metadata": {
        "id": "9fc1caae",
        "papermill": {
          "duration": 0.037812,
          "end_time": "2024-11-22T01:49:10.581524",
          "exception": false,
          "start_time": "2024-11-22T01:49:10.543712",
          "status": "completed"
        },
        "tags": []
      },
      "source": [
        "# Data Preprocessing"
      ]
    },
    {
      "cell_type": "code",
      "execution_count": null,
      "id": "6a9712ed",
      "metadata": {
        "execution": {
          "iopub.execute_input": "2024-11-22T01:49:10.659126Z",
          "iopub.status.busy": "2024-11-22T01:49:10.658580Z",
          "iopub.status.idle": "2024-11-22T01:51:16.016229Z",
          "shell.execute_reply": "2024-11-22T01:51:16.015260Z"
        },
        "id": "6a9712ed",
        "papermill": {
          "duration": 125.398877,
          "end_time": "2024-11-22T01:51:16.018435",
          "exception": false,
          "start_time": "2024-11-22T01:49:10.619558",
          "status": "completed"
        },
        "tags": [],
        "outputId": "fc1fdb14-24f9-424c-b562-dfb0af55d20e"
      },
      "outputs": [
        {
          "name": "stdout",
          "output_type": "stream",
          "text": [
            "처리중... 1: TL_01.Management_Female_Experienced.zip\n",
            "처리중... 2: TL_01.Management_Female_New.zip\n",
            "처리중... 3: TL_01.Management_Male_Experienced.zip\n",
            "처리중... 4: TL_01.Management_Male_New.zip\n",
            "처리중... 5: TL_02.SalesMarketing_Female_Experienced.zip\n",
            "처리중... 6: TL_02.SalesMarketing_Female_New.zip\n",
            "처리중... 7: TL_02.SalesMarketing_Male_Experienced.zip\n",
            "처리중... 8: TL_02.SalesMarketing_Male_New.zip\n",
            "처리중... 9: TL_03.PublicService_Female_Experienced.zip\n",
            "처리중... 10: TL_03.PublicService_Female_New.zip\n",
            "처리중... 11: TL_03.PublicService_Male_Experienced.zip\n",
            "처리중... 12: TL_03.PublicService_Male_New.zip\n",
            "처리중... 13: TL_04.RND_Female_Experienced.zip\n",
            "처리중... 14: TL_04.RND_Female_New.zip\n",
            "처리중... 15: TL_04.RND_Male_Experienced.zip\n",
            "처리중... 16: TL_04.RND_Male_New.zip\n",
            "처리중... 17: TL_05.ICT_Female_Experienced.zip\n",
            "처리중... 18: TL_05.ICT_Female_New.zip\n",
            "처리중... 19: TL_05.ICT_Male_Experienced.zip\n",
            "처리중... 20: TL_05.ICT_Male_New.zip\n",
            "처리중... 21: TL_06.Design_Female_Experienced.zip\n",
            "처리중... 22: TL_06.Design_Female_New.zip\n",
            "처리중... 23: TL_06.Design_Male_Experienced.zip\n",
            "처리중... 24: TL_06.Design_Male_New.zip\n",
            "처리중... 25: TL_07.ProductionManufacturing_Female_Experienced.zip\n",
            "처리중... 26: TL_07.ProductionManufacturing_Female_New.zip\n",
            "처리중... 27: TL_07.ProductionManufacturing_Male_Experienced.zip\n",
            "처리중... 28: TL_07.ProductionManufacturing_Male_New.zip\n",
            "처리중... 1: VL_01.Management_Female_Experienced.zip\n",
            "처리중... 2: VL_01.Management_Female_New.zip\n",
            "처리중... 3: VL_01.Management_Male_Experienced.zip\n",
            "처리중... 4: VL_01.Management_Male_New.zip\n",
            "처리중... 5: VL_02.SalesMarketing_Female_Experienced.zip\n",
            "처리중... 6: VL_02.SalesMarketing_Female_New.zip\n",
            "처리중... 7: VL_02.SalesMarketing_Male_Experienced.zip\n",
            "처리중... 8: VL_02.SalesMarketing_Male_New.zip\n",
            "처리중... 9: VL_03.PublicService_Female_Experienced.zip\n",
            "처리중... 10: VL_03.PublicService_Female_New.zip\n",
            "처리중... 11: VL_03.PublicService_Male_Experienced.zip\n",
            "처리중... 12: VL_03.PublicService_Male_New.zip\n",
            "처리중... 13: VL_04.RND_Female_Experienced.zip\n",
            "처리중... 14: VL_04.RND_Female_New.zip\n",
            "처리중... 15: VL_04.RND_Male_Experienced.zip\n",
            "처리중... 16: VL_04.RND_Male_New.zip\n",
            "처리중... 17: VL_05.ICT_Female_Experienced.zip\n",
            "처리중... 18: VL_05.ICT_Female_New.zip\n",
            "처리중... 19: VL_05.ICT_Male_Experienced.zip\n",
            "처리중... 20: VL_05.ICT_Male_New.zip\n",
            "처리중... 21: VL_06.Design_Female_Experienced.zip\n",
            "처리중... 22: VL_06.Design_Female_New.zip\n",
            "처리중... 23: VL_06.Design_Male_Experienced.zip\n",
            "처리중... 24: VL_06.Design_Male_New.zip\n",
            "처리중... 25: VL_07.ProductionManufacturing_Female_Experienced.zip\n",
            "처리중... 26: VL_07.ProductionManufacturing_Female_New.zip\n",
            "처리중... 27: VL_07.ProductionManufacturing_Male_Experienced.zip\n",
            "처리중... 28: VL_07.ProductionManufacturing_Male_New.zip\n",
            "Error reading /kaggle/working/train_unzipped/TL_05.ICT_Male_New/ckmk_d_ict_m_n_337139.json: Expecting property name enclosed in double quotes: line 22 column 21 (char 576)\n",
            "Error reading /kaggle/working/train_unzipped/TL_01.Management_Female_New/ckmk_d_bm_f_n_343176.json: Invalid control character at: line 23 column 433 (char 1029)\n",
            "Error reading /kaggle/working/train_unzipped/TL_01.Management_Female_New/ckmk_d_bm_f_n_178194.json: Invalid control character at: line 23 column 135 (char 755)\n",
            "Error reading /kaggle/working/train_unzipped/TL_01.Management_Female_New/ckmk_d_bm_f_n_269424.json: Invalid control character at: line 23 column 571 (char 1132)\n",
            "Error reading /kaggle/working/validation_unzipped/VL_06.Design_Female_Experienced/ckmk_d_ard_f_e_66661.json: Invalid control character at: line 34 column 165 (char 1573)\n",
            "Error reading /kaggle/working/validation_unzipped/VL_01.Management_Female_New/ckmk_d_bm_f_n_161564.json: Invalid control character at: line 23 column 100 (char 688)\n",
            "\n",
            "Dataset Info:\n",
            "DatasetDict({\n",
            "    train: Dataset({\n",
            "        features: ['version', 'category', 'job_field', 'gender', 'experience', 'dataSet_info_date', 'dataSet_info_occupation', 'dataSet_info_channel', 'dataSet_info_place', 'dataSet_info_gender', 'dataSet_info_ageRange', 'dataSet_info_experience', 'dataSet_question_raw_text', 'dataSet_question_raw_wordCount', 'dataSet_question_emotion', 'dataSet_question_intent', 'dataSet_answer_raw_text', 'dataSet_answer_raw_wordCount', 'dataSet_answer_emotion', 'dataSet_answer_intent', 'dataSet_answer_summary_text', 'dataSet_answer_summary_wordCount', 'rawDataInfo_question_fileFormat', 'rawDataInfo_question_fileSize', 'rawDataInfo_question_duration', 'rawDataInfo_question_samplingBit', 'rawDataInfo_question_channelCount', 'rawDataInfo_question_samplingRate', 'rawDataInfo_question_audioPath', 'rawDataInfo_answer_fileFormat', 'rawDataInfo_answer_fileSize', 'rawDataInfo_answer_duration', 'rawDataInfo_answer_samplingBit', 'rawDataInfo_answer_channelCount', 'rawDataInfo_answer_samplingRate', 'rawDataInfo_answer_audioPath'],\n",
            "        num_rows: 68074\n",
            "    })\n",
            "    validation: Dataset({\n",
            "        features: ['version', 'category', 'job_field', 'gender', 'experience', 'dataSet_info_date', 'dataSet_info_occupation', 'dataSet_info_channel', 'dataSet_info_place', 'dataSet_info_gender', 'dataSet_info_ageRange', 'dataSet_info_experience', 'dataSet_question_raw_text', 'dataSet_question_raw_wordCount', 'dataSet_question_emotion', 'dataSet_question_intent', 'dataSet_answer_raw_text', 'dataSet_answer_raw_wordCount', 'dataSet_answer_emotion', 'dataSet_answer_intent', 'dataSet_answer_summary_text', 'dataSet_answer_summary_wordCount', 'rawDataInfo_question_fileFormat', 'rawDataInfo_question_fileSize', 'rawDataInfo_question_duration', 'rawDataInfo_question_samplingBit', 'rawDataInfo_question_channelCount', 'rawDataInfo_question_samplingRate', 'rawDataInfo_question_audioPath', 'rawDataInfo_answer_fileFormat', 'rawDataInfo_answer_fileSize', 'rawDataInfo_answer_duration', 'rawDataInfo_answer_samplingBit', 'rawDataInfo_answer_channelCount', 'rawDataInfo_answer_samplingRate', 'rawDataInfo_answer_audioPath'],\n",
            "        num_rows: 8026\n",
            "    })\n",
            "})\n",
            "\n",
            "Training Data Sample:\n",
            "{'version': '1.0', 'category': 'TL', 'job_field': '01.Management', 'gender': 'Male', 'experience': 'New', 'dataSet_info_date': '20230116', 'dataSet_info_occupation': 'BM', 'dataSet_info_channel': 'MOCK', 'dataSet_info_place': 'ONLINE', 'dataSet_info_gender': 'MALE', 'dataSet_info_ageRange': '35-44', 'dataSet_info_experience': 'NEW', 'dataSet_question_raw_text': '만약 일을 하다가 직무가 적성에 맞지 않는다는 것을 깨닫게 되었습니다 이때 어떻게 하실 건지 상황을 한번 가정하고 말씀해 주세요', 'dataSet_question_raw_wordCount': 19, 'dataSet_question_emotion': [], 'dataSet_question_intent': [], 'dataSet_answer_raw_text': '적성에 맞지 않더라도 꾸준히 계속해서 적응하려고 노력한다면은 적성에 맞지 않던 직무도 적응할 수 있을 것이라고 생각합니다. 이렇게 되기 위하여는 어느 정도의 시간과 인내가 필요하다고 생각합니다. 그래서 적성에 맞는 업무가 곧 적합해지도록 적응하기 위해서 약간의 시간을 들여서 조금만 참고 견디고 일하다 보면은 곧 적성에 맞는 업무로 바뀔 것이라고 생각합니다. 그렇게까지 했는데도 적성에 맞지 않는 업무가 계속된다면은 그때는 업무를 바뀌 바꾸기 위해서 책임자에게 업무를 바꿔줄 것을 요청하겠습니다.', 'dataSet_answer_raw_wordCount': 65, 'dataSet_answer_emotion': [], 'dataSet_answer_intent': [{'category': 'attitude', 'expression': '', 'text': ''}], 'dataSet_answer_summary_text': '적성에 맞는 업무가 곧 적합해지도록 적응하려고 노력하면서 적성에 맞지 않는 업무가 계속되면 책임자에게 업무를 바꿔줄 것을 요청하겠습니다.', 'dataSet_answer_summary_wordCount': 17, 'rawDataInfo_question_fileFormat': 'wav', 'rawDataInfo_question_fileSize': 339598, 'rawDataInfo_question_duration': 10610, 'rawDataInfo_question_samplingBit': 16, 'rawDataInfo_question_channelCount': 1, 'rawDataInfo_question_samplingRate': '16kHz', 'rawDataInfo_question_audioPath': '/Mock/01.Management/Male/New/ckmk_q_bm_m_n_261715.wav', 'rawDataInfo_answer_fileFormat': 'wav', 'rawDataInfo_answer_fileSize': 1611598, 'rawDataInfo_answer_duration': 50360, 'rawDataInfo_answer_samplingBit': 16, 'rawDataInfo_answer_channelCount': 1, 'rawDataInfo_answer_samplingRate': '16kHz', 'rawDataInfo_answer_audioPath': '/Mock/01.Management/Male/New/ckmk_a_bm_m_n_261715.wav'}\n",
            "\n",
            "Validation Data Sample:\n",
            "{'version': '1.0', 'category': 'VL', 'job_field': '06.Design', 'gender': 'Female', 'experience': 'Experienced', 'dataSet_info_date': '20230116', 'dataSet_info_occupation': 'ARD', 'dataSet_info_channel': 'MOCK', 'dataSet_info_place': 'ONLINE', 'dataSet_info_gender': 'FEMALE', 'dataSet_info_ageRange': '55-', 'dataSet_info_experience': 'EXPERIENCED', 'dataSet_question_raw_text': '타 부서와 갈등 상황이 생겼을 때 어떻게 해결하겠는가요', 'dataSet_question_raw_wordCount': 8, 'dataSet_question_emotion': [], 'dataSet_question_intent': [], 'dataSet_answer_raw_text': '음 타 부서와 갈등 상황이 생겼을 때 어떻게 해결하겠는가 라고 말씀해주셨는데요. 살다 보면 우리가 부딪치지 않는 일은 없을 것 같습니다. 항상 부딪치고 해결하고 또 살아가고 또 부딪치고 해결하고 또 살아가고 하는 것들이 이 인생인 것 같고 삶인데 타 부서와 갈등 상황이 생겼을 때는 일단 어떤 것이 잘잘못인가를 일단은 어 판단을 해야 될 것이고 그리고 내가 잘못한 일이 있다라면 정중하게 사과하고 미안하다 하고 미안하다 라고 하고 그리고 금방 화해를 할 것 같습니다 .하지만 상대방이 잘못된 일이 있다라고 하면 꼭 그것은 그 이해를 시키고 납득을 시키고 그리고 잘못된 부분은 이런 이렇게 잘못된 부분은 고쳐 나갈 수 있는 거 바꿔 나갈 수 있는 거 이런 거를 유도하고 그래서 그렇게 할 것 같습니다. 그 잘 뭐든지 잘 해결하고 그렇게 살 살아 갑니다 제 성격이. 감사합니다.', 'dataSet_answer_raw_wordCount': 121, 'dataSet_answer_emotion': [], 'dataSet_answer_intent': [{'category': 'personality', 'expression': 'c_confl_mg', 'text': '항상 부딪치고 해결하고 또 살아가고 또 부딪치고 해결하고 또 살아가고 하는 것들이 이 인생인 것 같고 삶인데 타 부서와 갈등   상황이 생겼을 때는 일단 어떤 것이 잘잘못인가를 일단은 어 판단을 해야 될 것이고   그리고 내가 잘못한 일이 있다라면 정중하게 사과하고 미안하다.'}], 'dataSet_answer_summary_text': '타 부서와 갈등 상황이 생겼을 때 어떻게 해결하는가 라고 말씀하셨습니다. 일단 잘잘못을 판단을 해야 될 것이고, 잘못이 있다면 정중하게 사과하고 사랑한다 라고 하고 금방 화해를 할 것 같습니다. 하지만 상대방이 잘못있다면 이해를 시키고 바꿔 나갈 수 있도록 유도해야 합니다.', 'dataSet_answer_summary_wordCount': 39, 'rawDataInfo_question_fileFormat': 'wav', 'rawDataInfo_question_fileSize': 272078, 'rawDataInfo_question_duration': 8500, 'rawDataInfo_question_samplingBit': 16, 'rawDataInfo_question_channelCount': 1, 'rawDataInfo_question_samplingRate': '16kHz', 'rawDataInfo_question_audioPath': '/Mock/06.Design/Female/Experienced/ckmk_q_ard_f_e_14781.wav', 'rawDataInfo_answer_fileFormat': 'wav', 'rawDataInfo_answer_fileSize': 2837838, 'rawDataInfo_answer_duration': 88680, 'rawDataInfo_answer_samplingBit': 16, 'rawDataInfo_answer_channelCount': 1, 'rawDataInfo_answer_samplingRate': '16kHz', 'rawDataInfo_answer_audioPath': '/Mock/06.Design/Female/Experienced/ckmk_a_ard_f_e_14781.wav'}\n"
          ]
        }
      ],
      "source": [
        "# 데이터셋 생성\n",
        "dataset = create_interview_dataset()\n",
        "\n",
        "# 데이터셋 정보 출력\n",
        "print(\"\\nDataset Info:\")\n",
        "print(dataset)\n",
        "\n",
        "# 훈련 데이터 샘플 확인\n",
        "print(\"\\nTraining Data Sample:\")\n",
        "print(dataset['train'][0])\n",
        "\n",
        "# 검증 데이터 샘플 확인\n",
        "print(\"\\nValidation Data Sample:\")\n",
        "print(dataset['validation'][0])"
      ]
    },
    {
      "cell_type": "code",
      "execution_count": null,
      "id": "b03d46b3",
      "metadata": {
        "execution": {
          "iopub.execute_input": "2024-11-22T01:51:16.090729Z",
          "iopub.status.busy": "2024-11-22T01:51:16.090462Z",
          "iopub.status.idle": "2024-11-22T01:51:21.501439Z",
          "shell.execute_reply": "2024-11-22T01:51:21.500522Z"
        },
        "id": "b03d46b3",
        "papermill": {
          "duration": 5.448983,
          "end_time": "2024-11-22T01:51:21.503504",
          "exception": false,
          "start_time": "2024-11-22T01:51:16.054521",
          "status": "completed"
        },
        "tags": []
      },
      "outputs": [],
      "source": [
        "from transformers import PreTrainedTokenizerFast\n",
        "from transformers import GPT2LMHeadModel\n",
        "import torch\n"
      ]
    },
    {
      "cell_type": "code",
      "execution_count": null,
      "id": "727cd349",
      "metadata": {
        "execution": {
          "iopub.execute_input": "2024-11-22T01:51:21.579056Z",
          "iopub.status.busy": "2024-11-22T01:51:21.578564Z",
          "iopub.status.idle": "2024-11-22T01:51:23.237152Z",
          "shell.execute_reply": "2024-11-22T01:51:23.236326Z"
        },
        "id": "727cd349",
        "outputId": "3c0252ef-5a6c-4775-ca04-e39c6c8a2f1f",
        "papermill": {
          "duration": 1.697215,
          "end_time": "2024-11-22T01:51:23.239001",
          "exception": false,
          "start_time": "2024-11-22T01:51:21.541786",
          "status": "completed"
        },
        "tags": [],
        "colab": {
          "referenced_widgets": [
            "a8cdbd9e7a1d496fb58a33dd1641388c",
            "496538e2931c46dd8652a7454a8a0182"
          ]
        }
      },
      "outputs": [
        {
          "data": {
            "application/vnd.jupyter.widget-view+json": {
              "model_id": "a8cdbd9e7a1d496fb58a33dd1641388c",
              "version_major": 2,
              "version_minor": 0
            },
            "text/plain": [
              "tokenizer.json:   0%|          | 0.00/2.83M [00:00<?, ?B/s]"
            ]
          },
          "metadata": {},
          "output_type": "display_data"
        },
        {
          "data": {
            "application/vnd.jupyter.widget-view+json": {
              "model_id": "496538e2931c46dd8652a7454a8a0182",
              "version_major": 2,
              "version_minor": 0
            },
            "text/plain": [
              "config.json:   0%|          | 0.00/1.00k [00:00<?, ?B/s]"
            ]
          },
          "metadata": {},
          "output_type": "display_data"
        },
        {
          "name": "stderr",
          "output_type": "stream",
          "text": [
            "The tokenizer class you load from this checkpoint is not the same type as the class this function is called from. It may result in unexpected tokenization. \n",
            "The tokenizer class you load from this checkpoint is 'GPT2Tokenizer'. \n",
            "The class this function is called from is 'PreTrainedTokenizerFast'.\n",
            "/opt/conda/lib/python3.10/site-packages/transformers/tokenization_utils_base.py:1617: FutureWarning: `clean_up_tokenization_spaces` was not set. It will be set to `True` by default. This behavior will be deprecated in transformers v4.45, and will be then set to `False` by default. For more details check this issue: https://github.com/huggingface/transformers/issues/31884\n",
            "  warnings.warn(\n"
          ]
        }
      ],
      "source": [
        "tokenizer = PreTrainedTokenizerFast.from_pretrained(\"skt/kogpt2-base-v2\",\n",
        "bos_token='</s>', eos_token='</s>', unk_token='<unk>',\n",
        "pad_token='<pad>', mask_token='<mask>')"
      ]
    },
    {
      "cell_type": "code",
      "execution_count": null,
      "id": "309b604e",
      "metadata": {
        "execution": {
          "iopub.execute_input": "2024-11-22T01:51:23.311530Z",
          "iopub.status.busy": "2024-11-22T01:51:23.311245Z",
          "iopub.status.idle": "2024-11-22T01:51:46.063325Z",
          "shell.execute_reply": "2024-11-22T01:51:46.062462Z"
        },
        "id": "309b604e",
        "outputId": "953bc2e4-719e-4c49-e9df-c53a22fb171d",
        "papermill": {
          "duration": 22.790193,
          "end_time": "2024-11-22T01:51:46.065129",
          "exception": false,
          "start_time": "2024-11-22T01:51:23.274936",
          "status": "completed"
        },
        "tags": [],
        "colab": {
          "referenced_widgets": [
            "2fec3173a18449c7887af4679061bc43",
            "aad0eac634314089a30a46eb886acc6f"
          ]
        }
      },
      "outputs": [
        {
          "data": {
            "application/vnd.jupyter.widget-view+json": {
              "model_id": "2fec3173a18449c7887af4679061bc43",
              "version_major": 2,
              "version_minor": 0
            },
            "text/plain": [
              "Map:   0%|          | 0/68074 [00:00<?, ? examples/s]"
            ]
          },
          "metadata": {},
          "output_type": "display_data"
        },
        {
          "data": {
            "application/vnd.jupyter.widget-view+json": {
              "model_id": "aad0eac634314089a30a46eb886acc6f",
              "version_major": 2,
              "version_minor": 0
            },
            "text/plain": [
              "Map:   0%|          | 0/8026 [00:00<?, ? examples/s]"
            ]
          },
          "metadata": {},
          "output_type": "display_data"
        }
      ],
      "source": [
        "occupation_map = {\n",
        "    'SM': '영업마케팅',\n",
        "    'PS': '공공서비스',\n",
        "    'RND': '연구개발',\n",
        "    'ICT': '정보통신',\n",
        "    'ARD': '디자인',\n",
        "    'MM': '생산관리',\n",
        "    'BM': '경영사무'\n",
        "}\n",
        "def preprocess_training_examples(examples):\n",
        "    max_length=256\n",
        "    formatted_inputs = [\n",
        "        f\"</s> 직무: {occupation_map[occ]} 경력상태: {'신입' if exp == 'NEW' else '경력직'} 질문: {q} 답변: {a} </s>\"\n",
        "        for occ, exp, q, a in zip(\n",
        "            examples[\"dataSet_info_occupation\"],\n",
        "            examples[\"dataSet_info_experience\"],\n",
        "            examples[\"dataSet_question_raw_text\"],\n",
        "            examples[\"dataSet_answer_raw_text\"]\n",
        "        )\n",
        "    ]\n",
        "\n",
        "    tokenized = tokenizer(\n",
        "        formatted_inputs,\n",
        "        max_length=max_length,\n",
        "        truncation=True,\n",
        "        padding=\"max_length\"\n",
        "    )\n",
        "\n",
        "    return {\n",
        "        'input_ids': tokenized['input_ids'],\n",
        "        'attention_mask': tokenized['attention_mask'],\n",
        "        'labels': [-100 if token == tokenizer.pad_token_id else token for token in tokenized['input_ids']]\n",
        "    }\n",
        "\n",
        "orig_train_dataset = dataset['train'].map(\n",
        "    preprocess_training_examples,\n",
        "    batched=True,\n",
        "    remove_columns=dataset['train'].column_names,\n",
        "    load_from_cache_file=False  # 이 옵션 추가\n",
        ")\n",
        "\n",
        "orig_valid_dataset = dataset['validation'].map(\n",
        "    preprocess_training_examples,\n",
        "    batched=True,\n",
        "    remove_columns=dataset['validation'].column_names,\n",
        "    load_from_cache_file=False  # 이 옵션 추가\n",
        ")"
      ]
    },
    {
      "cell_type": "code",
      "execution_count": null,
      "id": "bfb7b79e",
      "metadata": {
        "papermill": {
          "duration": 0.035623,
          "end_time": "2024-11-22T01:51:46.137579",
          "exception": false,
          "start_time": "2024-11-22T01:51:46.101956",
          "status": "completed"
        },
        "tags": [],
        "id": "bfb7b79e"
      },
      "outputs": [],
      "source": []
    },
    {
      "cell_type": "code",
      "execution_count": null,
      "id": "40db6fe3",
      "metadata": {
        "execution": {
          "iopub.execute_input": "2024-11-22T01:51:46.212899Z",
          "iopub.status.busy": "2024-11-22T01:51:46.212588Z",
          "iopub.status.idle": "2024-11-22T01:51:46.216417Z",
          "shell.execute_reply": "2024-11-22T01:51:46.215689Z"
        },
        "id": "40db6fe3",
        "papermill": {
          "duration": 0.044063,
          "end_time": "2024-11-22T01:51:46.217924",
          "exception": false,
          "start_time": "2024-11-22T01:51:46.173861",
          "status": "completed"
        },
        "tags": []
      },
      "outputs": [],
      "source": [
        "import torch\n",
        "from torch.utils.data import Dataset, DataLoader"
      ]
    },
    {
      "cell_type": "code",
      "execution_count": null,
      "id": "22d05a3a",
      "metadata": {
        "execution": {
          "iopub.execute_input": "2024-11-22T01:51:46.329609Z",
          "iopub.status.busy": "2024-11-22T01:51:46.329314Z",
          "iopub.status.idle": "2024-11-22T01:51:46.333878Z",
          "shell.execute_reply": "2024-11-22T01:51:46.333107Z"
        },
        "id": "22d05a3a",
        "outputId": "37f368af-2824-4c33-987a-eb0cd1f012e8",
        "papermill": {
          "duration": 0.080284,
          "end_time": "2024-11-22T01:51:46.335548",
          "exception": false,
          "start_time": "2024-11-22T01:51:46.255264",
          "status": "completed"
        },
        "tags": []
      },
      "outputs": [
        {
          "name": "stdout",
          "output_type": "stream",
          "text": [
            "8026\n"
          ]
        }
      ],
      "source": [
        "from torch.utils.data import Subset\n",
        "\n",
        "train_dataset = orig_train_dataset\n",
        "valid_dataset = orig_valid_dataset\n",
        "# # 앞에서부터 1000개씩 선택\n",
        "# train_dataset = Subset(orig_train_dataset, range(100))\n",
        "# valid_dataset = Subset(orig_valid_dataset, range(100))\n",
        "\n",
        "print(len(valid_dataset))  # 1000"
      ]
    },
    {
      "cell_type": "code",
      "execution_count": null,
      "id": "f6c21191",
      "metadata": {
        "execution": {
          "iopub.execute_input": "2024-11-22T01:51:46.407170Z",
          "iopub.status.busy": "2024-11-22T01:51:46.406899Z",
          "iopub.status.idle": "2024-11-22T01:51:46.492086Z",
          "shell.execute_reply": "2024-11-22T01:51:46.491178Z"
        },
        "id": "f6c21191",
        "outputId": "06b654be-84bf-4846-c771-fcffbcc2e769",
        "papermill": {
          "duration": 0.123021,
          "end_time": "2024-11-22T01:51:46.493873",
          "exception": false,
          "start_time": "2024-11-22T01:51:46.370852",
          "status": "completed"
        },
        "tags": []
      },
      "outputs": [
        {
          "name": "stdout",
          "output_type": "stream",
          "text": [
            "Input IDs shape: torch.Size([16, 256])\n",
            "Attention mask shape: torch.Size([16, 256])\n",
            "Labels shape: torch.Size([16, 256])\n",
            "tensor([    1, 17141,   401, 11599, 16371, 12170, 11626,   401, 12170,  8264,\n",
            "        24454,   401,  9105, 32617,  9230,  8539, 38289, 38604, 11018,  8705,\n",
            "         9025, 10566, 29735,  9098, 35795, 11011,  8159,  7177, 43057,  9863,\n",
            "        13091, 32075, 13358,  8133,  7890,  6824,  8084,  9394,  9022, 13091,\n",
            "        32075, 13358,  8133,  7890, 10175,  7235,  9304, 24117,  8711, 36658,\n",
            "         6962,  9117,  7377,  7172,  7182, 12817,  7643,   401,  9024, 14116,\n",
            "         9230,  8539, 38289,  9659, 11018,  8705,  9025, 21159,  9863,  9290,\n",
            "        32075, 22386,  8263,  9050, 10175,  7235, 24117,  8711, 29266,  9078,\n",
            "         7816,  9668, 25856,  9265,  7162, 45887, 24107, 16210,  9080,  9362,\n",
            "         9877, 13079, 14135, 14633,  9466, 25856,  9174, 40604,  9721,  9230,\n",
            "         8539,  7293, 21154, 15063,  9265,  7162, 14135, 14633,  9230,  8539,\n",
            "        38289, 13185, 22386,  7220, 25856, 10162,  9105, 38850, 13342, 12175,\n",
            "         9177, 14135, 14633,  9230,  8539, 36094,  9080,  9031, 27511, 25856,\n",
            "        10351,  9050,  9265,  7162, 11732,  9267,  9105, 20395, 17524, 15212,\n",
            "        11194,  8137, 36330, 12368,  9025,  9080, 14135, 14633,  9230,  8539,\n",
            "        38289, 38604,  9050, 17969,  9185,  9320, 11227, 12857, 25767, 13671,\n",
            "         9133,  7055,  9320, 11227,  9046, 12271, 11667,  7788,  9863, 11108,\n",
            "        11689,  9919, 11725, 10108,  9566,  9025,  9080, 10185, 14135, 14633,\n",
            "         9230,  8539,  7293,  9721,  9320, 11227, 11194, 17524, 15212,  9022,\n",
            "         9863, 11009, 11355,  8270, 10185, 11725,  7470,  9277, 14135, 14633,\n",
            "         9230,  8539, 38289, 13185, 13358, 16691,  9265,  7162, 11355,  8270,\n",
            "         7235, 12011,  9038, 25856,  9863, 14533, 11194,  9033, 10599, 12371,\n",
            "         9059,  7489, 12011,  8708,  7172,  7182, 11403, 10769,  9721, 21347,\n",
            "        17320,  9277, 23498, 12521, 13878, 35453, 18096, 11355,  8270,  7235,\n",
            "        10401, 16157,  6889,  9320, 11227,  9022, 21538,  6824, 46651,  6824,\n",
            "         9843,  9038,  9108,  9863,  9580, 23127])\n",
            "</s> 직무: 공공서비스 경력상태: 경력직 질문: 어 사내 스터디를 만들어서 공부할 수 있다고 가정을 해 본다면 지원자님께서는 어떤 부분을 공부하고 싶으신가요 그리고 그 부분을 공부하고 싶으신 이유도 함께 말씀해 주시길 바랍니다 답변: 사내에 스터디를 만들어 공부할 수 있다면 어떤 것을 공부하고 싶은지 아 이유도 말씀해 달라고 하셨는데요. 저는 제가 되게 관심이 있는 것은 첫 번째 영어 회화이고요. 두 번째는 역사 스터디입니다. 일단 저는 영어 회화 스터디를 만들고 싶은데요. 보통 어 웬만한 회사들은 영어 회화 스터디가 있는 것 같아요. 하지만 아 저는 좀 더 어 역사와 그다음에 관광을 접목시킬 수 있는 영어 회화 스터디를 만들어서 아 저녁이나 아니면은 이제 업무가 끝난 후나 아니면은 주말에 만나서 어떤 지역에 가서 서로 소개시켜 줄 수 있는 그런 영어 회화 스터디 역사 아니면은 관광 그다음에 그 어떤 지역의 맛집 그런 소개를 하는 영어 회화 스터디를 만들고 싶습니다. 저는 맛집도 좋아하고요. 어떤 지역이 관광하는 것도 너무 조만 좋아합니다 그래서 물론 역사 공부를 기본적으로 하는 겁니다. 역사를 알아야 거기에 맛집도 왜 생겼고 아니면은 그 동네가 뭐가 유명하고 또 어떤 볼거리가\n"
          ]
        }
      ],
      "source": [
        "def collate_fn(batch):\n",
        "   input_ids = torch.stack([torch.tensor(item['input_ids']) for item in batch])\n",
        "   attention_mask = torch.stack([torch.tensor(item['attention_mask']) for item in batch])\n",
        "   labels = torch.stack([torch.tensor(item['labels']) for item in batch])\n",
        "\n",
        "   return {\n",
        "       'input_ids': input_ids,\n",
        "       'attention_mask': attention_mask,\n",
        "       'labels': labels\n",
        "   }\n",
        "\n",
        "train_dataloader = DataLoader(train_dataset, batch_size=16, shuffle=True, collate_fn=collate_fn)\n",
        "valid_dataloader = DataLoader(valid_dataset, batch_size=16, shuffle=False, collate_fn=collate_fn)\n",
        "\n",
        "# DataLoader에서 배치 샘플 확인\n",
        "for batch in train_dataloader:\n",
        "    print(\"Input IDs shape:\", batch['input_ids'].shape)\n",
        "    print(\"Attention mask shape:\", batch['attention_mask'].shape)\n",
        "    print(\"Labels shape:\", batch['labels'].shape)\n",
        "    for i in batch['input_ids']:\n",
        "        print(i)\n",
        "        print(tokenizer.decode(i))\n",
        "        break\n",
        "\n",
        "    break"
      ]
    },
    {
      "cell_type": "code",
      "execution_count": null,
      "id": "8778e688",
      "metadata": {
        "execution": {
          "iopub.execute_input": "2024-11-22T01:51:46.570610Z",
          "iopub.status.busy": "2024-11-22T01:51:46.569903Z",
          "iopub.status.idle": "2024-11-22T01:51:51.552370Z",
          "shell.execute_reply": "2024-11-22T01:51:51.551474Z"
        },
        "id": "8778e688",
        "outputId": "dd9e0ae1-b114-4d5d-a19c-c904a980c698",
        "papermill": {
          "duration": 5.024559,
          "end_time": "2024-11-22T01:51:51.554568",
          "exception": false,
          "start_time": "2024-11-22T01:51:46.530009",
          "status": "completed"
        },
        "tags": [],
        "colab": {
          "referenced_widgets": [
            "04482f96e07244369b3502d73b436357"
          ]
        }
      },
      "outputs": [
        {
          "data": {
            "application/vnd.jupyter.widget-view+json": {
              "model_id": "04482f96e07244369b3502d73b436357",
              "version_major": 2,
              "version_minor": 0
            },
            "text/plain": [
              "pytorch_model.bin:   0%|          | 0.00/513M [00:00<?, ?B/s]"
            ]
          },
          "metadata": {},
          "output_type": "display_data"
        },
        {
          "data": {
            "text/plain": [
              "GPT2LMHeadModel(\n",
              "  (transformer): GPT2Model(\n",
              "    (wte): Embedding(51200, 768)\n",
              "    (wpe): Embedding(1024, 768)\n",
              "    (drop): Dropout(p=0.1, inplace=False)\n",
              "    (h): ModuleList(\n",
              "      (0-11): 12 x GPT2Block(\n",
              "        (ln_1): LayerNorm((768,), eps=1e-05, elementwise_affine=True)\n",
              "        (attn): GPT2SdpaAttention(\n",
              "          (c_attn): Conv1D(nf=2304, nx=768)\n",
              "          (c_proj): Conv1D(nf=768, nx=768)\n",
              "          (attn_dropout): Dropout(p=0.1, inplace=False)\n",
              "          (resid_dropout): Dropout(p=0.1, inplace=False)\n",
              "        )\n",
              "        (ln_2): LayerNorm((768,), eps=1e-05, elementwise_affine=True)\n",
              "        (mlp): GPT2MLP(\n",
              "          (c_fc): Conv1D(nf=3072, nx=768)\n",
              "          (c_proj): Conv1D(nf=768, nx=3072)\n",
              "          (act): NewGELUActivation()\n",
              "          (dropout): Dropout(p=0.1, inplace=False)\n",
              "        )\n",
              "      )\n",
              "    )\n",
              "    (ln_f): LayerNorm((768,), eps=1e-05, elementwise_affine=True)\n",
              "  )\n",
              "  (lm_head): Linear(in_features=768, out_features=51200, bias=False)\n",
              ")"
            ]
          },
          "execution_count": 10,
          "metadata": {},
          "output_type": "execute_result"
        }
      ],
      "source": [
        "import torch\n",
        "from transformers import GPT2LMHeadModel\n",
        "\n",
        "model = GPT2LMHeadModel.from_pretrained('skt/kogpt2-base-v2')\n",
        "device = torch.device(\"cuda\" if torch.cuda.is_available() else \"cpu\")\n",
        "model.to(device)"
      ]
    },
    {
      "cell_type": "markdown",
      "id": "e64eee69",
      "metadata": {
        "id": "e64eee69",
        "papermill": {
          "duration": 0.044455,
          "end_time": "2024-11-22T01:51:51.644056",
          "exception": false,
          "start_time": "2024-11-22T01:51:51.599601",
          "status": "completed"
        },
        "tags": []
      },
      "source": [
        "## Model Train"
      ]
    },
    {
      "cell_type": "code",
      "execution_count": null,
      "id": "9b0f0b81",
      "metadata": {
        "execution": {
          "iopub.execute_input": "2024-11-22T01:51:51.718328Z",
          "iopub.status.busy": "2024-11-22T01:51:51.717447Z",
          "iopub.status.idle": "2024-11-22T01:51:53.762977Z",
          "shell.execute_reply": "2024-11-22T01:51:53.762088Z"
        },
        "papermill": {
          "duration": 2.084733,
          "end_time": "2024-11-22T01:51:53.764948",
          "exception": false,
          "start_time": "2024-11-22T01:51:51.680215",
          "status": "completed"
        },
        "tags": [],
        "id": "9b0f0b81"
      },
      "outputs": [],
      "source": [
        "import torch\n",
        "from torch.utils.data import DataLoader\n",
        "from transformers import AdamW, get_linear_schedule_with_warmup\n",
        "from nltk.translate.bleu_score import sentence_bleu, SmoothingFunction\n",
        "from korouge_score import rouge_scorer\n",
        "from tqdm import tqdm\n",
        "from bert_score import score  # bert-score import 추가"
      ]
    },
    {
      "cell_type": "code",
      "execution_count": null,
      "id": "39b0412a",
      "metadata": {
        "execution": {
          "iopub.execute_input": "2024-11-22T01:51:53.839151Z",
          "iopub.status.busy": "2024-11-22T01:51:53.838657Z",
          "iopub.status.idle": "2024-11-22T10:37:12.736840Z",
          "shell.execute_reply": "2024-11-22T10:37:12.735910Z"
        },
        "id": "39b0412a",
        "outputId": "ba77cc44-f245-4b52-f7b2-c833c6437101",
        "papermill": {
          "duration": 31518.936939,
          "end_time": "2024-11-22T10:37:12.738730",
          "exception": false,
          "start_time": "2024-11-22T01:51:53.801791",
          "status": "completed"
        },
        "tags": [],
        "colab": {
          "referenced_widgets": [
            "2000100ed04c41b3983638856aaecb45",
            "dd0289d4605d4e1aac0693f3443770d4",
            "b20f4e9c7b0444e4be68576263c61c6e",
            "5dc6ec182776411092a55e31a19ebfbe",
            "4703bc827512454b9d77407af22fbc22",
            "9c5586db71d34cb49c9dda8eeb7e68e8",
            "c4388ce4b3f74a5391ed719e3793d100",
            "467115830c5044958bec226d868f1dcd",
            "440185394a1240ebb2b8865b2c6a3158",
            "b49dfabfc3594c3b9dc9bc64958b3789",
            "c1054a5be14744f78191a71c5b297f32",
            "22b6339dc5574389942a155777b6e5c5",
            "e264529ae58945f196cb17b53188e219",
            "da6f00fc155e4323884ee6be0a57c92b",
            "7abedff128be4d1da8a6fac9c372d87d"
          ]
        }
      },
      "outputs": [
        {
          "name": "stderr",
          "output_type": "stream",
          "text": [
            "/opt/conda/lib/python3.10/site-packages/transformers/optimization.py:591: FutureWarning: This implementation of AdamW is deprecated and will be removed in a future version. Use the PyTorch implementation torch.optim.AdamW instead, or set `no_deprecation_warning=True` to disable this warning\n",
            "  warnings.warn(\n",
            "Training Epoch 1: 100%|██████████| 4255/4255 [1:34:57<00:00,  1.34s/it, loss=2.2281]\n"
          ]
        },
        {
          "name": "stdout",
          "output_type": "stream",
          "text": [
            "\n",
            "Epoch 1 Average Training Loss: 2.3968\n"
          ]
        },
        {
          "name": "stderr",
          "output_type": "stream",
          "text": [
            "Validation Epoch 1:   0%|          | 1/502 [00:00<04:39,  1.79it/s, loss=2.3902]"
          ]
        },
        {
          "name": "stdout",
          "output_type": "stream",
          "text": [
            "직무: 디자인 경력상태: 경력직 질문: 타 부서와 갈등 상황이 생겼을 때 어떻게 해결하겠는가요 답변: 음 타 부서와 갈등 상황이 생겼을 때 어떻게 해결하겠는가 라고 말씀해주셨는데요. 살다 보면 우리가 부딪치지 않는 일은 없을 것 같습니다. 항상 부딪치고 해결하고 또 살아가고 또 부딪치고 해결하고 또 살아가고 하는 것들이 이 인생인 것 같고 삶인데 타 부서와 갈등 상황이 생겼을 때는 일단 어떤 것이 잘잘못인가를 일단은 어 판단을 해야 될 것이고 그리고 내가 잘못한 일이 있다라면 정중하게 사과하고 미안하다 하고 미안하다 라고 하고 그리고 금방 화해를 할 것 같습니다 .하지만 상대방이 잘못된 일이 있다라고 하면 꼭 그것은 그 이해를 시키고 납득을 시키고 그리고 잘못된 부분은 이런 이렇게 잘못된 부분은 고쳐 나갈 수 있는 거 바꿔 나갈 수 있는 거 이런 거를 유도하고 그래서 그렇게 할 것 같습니다. 그 잘 뭐든지 잘 해결하고 그렇게 살 살아 갑니다 제 성격이. 감사합니다. \n",
            "직무: 경영 경력상태: 신입직 질문: 지원인이서와 갈등 상황이 발생 때 어떻게 해결하습니까요 상황을변: 타 타 부서와 갈등이 상황이 생겼을 때 저 해결하냐 라고 질문을을신는데요. 어 보면은 어떤치는 않는 부분이 없을 것 같습니다. 어 부딪치는 부딪해야 부딪 부딪면서 있는 부딪치는 또하고 하는 부딪다 하는 과정에서 다게에서 것 같요.인 그런 부서와 갈등이 상황이 생겼을 때 어 그 문제가 문제 해결못인지 먼저단은 파악 먼저 해야 될 것요. 그 이한 부분이 있다면 라고 어하게 사하고 또안하다 라고 또안하다 하고 하는 또 그방 사해를 할 것 같습니다.다 라고그리고 그 잘못 부분이 있다 라고 하면 그 사 고쳐 사람의 해야고 또득을 시켜고 또 그 부분이 어 식으로 고쳐 부분을 고쳐 나가 수 있도록 그런라고 나가 수 있는 그런를 것들을를 먼저할 또 그 해결 것 같습니다. 게잘 잘못 잘 해결하고 또 해서 수왔니다.다 라고 생각. 합니다. \n",
            "직무: 디자인 경력상태: 경력직 질문: 지금까지 인생을 살면서 가장 후회되는 일이 무엇이었는지 한 가지만 말씀해 주실 수 있습니까 답변: 저는 성격이 긍정적이라서 조금 후회하는 걸 별로 많이 느껴보지 못했는데요. 그래도 그중에서 하나 아쉬운 부분을 꼽자면 제가 대학교 사 학년 쯤 취업 준비를 할 때 다른 친구들에 비해서 좀 스스로 취업 준비가 잘 안되고 있다고 판단을 했던 것 같습니다. 그래서 부모님께 예민하게 굴었던 적이 좀 후회가 되는데요. 그건 나중에 스스로도 충분히 깨달았던 부분이라 부모님께 자리를 마련해서 너무 철없이 굴었던 것 같다고 죄송하다는 말씀을 함께 드리면서 어 용서를 구했던 경험이 가장 기억에 남습니다. \n",
            "직무: 경영 경력상태: 신입직 질문: 지원 살아 살면서 가장 후회되는 일이 있다면이었는지 한 가지만 골라해 주시기 수 있을나 한변: 제가는 인생을 매우입니다.서 항상 더되는 부분이 많이 좋아 못지지 못했했는데요. 어 저 가장 골라운 게 말씀자면 저 지금 때 학년 때쯤에 되었을 준비를 하면서 때였 친구들이 비해서 좀 늦게 좀 준비를 좀 되어 되어 좀 느꼈 했 것 같습니다. 그래서 저님께서도하게 좀었 것 있는데 많이회가 됩요. 그래서 친구 제가 제가 좀 후 인지을 부분이라고서님께도 양보할 취업 좋없 살았던었던 것 같 생각이송한 말씀을 드 드겠 좀 좀기가 구하고했 것 있습니다. 후회에 남습니다. \n",
            "직무: 디자인 경력상태: 경력직 질문: 팀으로 일하는 것이 있구요 혼자 일하는 것이 있다면 그 둘 중에 내가 팀이 맞는지 혼자 일하는 게 맞는지 어느 것을 선호하는지 말씀해 보세요 답변: 팀으로 일하는 것과 혼자 일하는 것 중 어느 것을 선호하는가 라고 질문을 해 주셨는데요. 팀으로 일하는 것은 여러 사람들의 의견과 하나가 되 되고 유치를 해야 되고 또 그 어 팀 웍이라는 조직을 조직이 있어야 하지만 혼자는 누구하고 의견 충돌이 있 있 음 안 일어나도 되고 나만의 개성을 살려서 어 얼마든지 어 혼자 하는 것을 혼자 하는 것이 더 어 좋다 라고 저는 생각하지만 언제까지 혼자 일할 수는 없는 것입니다. 어 언제까지 혼자 일할 수 없기 때문에 저는 팀원으로서 또 이 조직으로서 일을 하는 것을 더 선호하고 어 같은 조합과 조직 그 배합을 서로 간에 배합을 잘 맞춰서 그렇게 이끌어 나갈 것 같습니다. 그래서 팀으로 일하는 것과 혼자 일하는 것 즉 어느 것을 선호하는가는 저는 팀으로 일하는 것을 어 선택할 것 같습니다. 그리고 어 그들에게도 또 희망을 불어넣어줘서 희망을 갖게 할 것입니다. 감사합니다. \n",
            "직무: 경영 경력상태: 신입직 질문: 지원으로 일하는 것과 더습니요 혼자 일하는 것과 아니라 팀 팀 중에 무엇을 더 더을 팀 일하는 것이 맞는지 그 쪽이 더하는지 그해 주세세요 답변: 저으로 일하는 것과 혼자 일하는 것 중 무엇을 것을 더지요 여 하 주셨는데요. 어으로 일하는 것과 어 사람이 의견을과 의견을 되어서겠 또관 하고 되기 또 그 팀 그원웍이 것이 통해서 잘 되고 그자가 어보다도 충돌이 있을잖잖 그런 될야 되는 또 혼자 어 가지고릴 어 팀든지 어 팀 하는 것이 어 하는 것을 더 어 효율다 라고 생각을는 생각을합니다. 팀까지나 하는 수 없기 그런 어 팀까지 해야 할 수 있는 때문에 어는 팀으로 어 팀 팀 안에서 어 해야 것이 선호 선호 있습니다. 팀 팀 안에서 같은으로서 안에서분을 통해서 어 어합을 해서 해야서 어 일을 나가는 수 같습니다.  어으로 일하는 것은 혼자 일하는 것 중에 팀 것을 더가 어는 팀으로 일하는 것을 더 더 것 같습니다.  팀 팀 어 어 어 줄을 줄서 어 줄 해 수 합니다. \n",
            "직무: 디자인 경력상태: 경력직 질문: 만약 자신이 게임 속에 있다면 어떤 역할을 할 것인가 답변: 만약 자신이 게임 속에 있다면 어떤 역할을 할 것인가 말씀해 보시겠습니까 라고 질문을 주셨는데요. 저라면 게임 속에서 저는 음 유명한 어 씨이오가 한 번쯤은 되보고 싶습니다. 그 씨이오가 된다는 것은 음 씨이오 가 된다는 것은 어떤 그 리더 리더로서의 자격이 있어야 되고 그 씨이오가 된다는 것은 음 그 어떤 자질에 또 문제가 있을 것이고 어 그리고 그 그 씨 자기 자신만의 어 자기 자신만의 어떤 특성 특성과 어떤 개성적인 어떤 그런 그 노하우 어 노하우 같은 걸 가지고 어 참 이렇게 좋은 그 어 대표가 될 것 같습니다. 어 나는 제가 그런 대표가 한 번쯤은 되보고 싶은 그런 역할을 해보고 싶습니다. 단지 게임 속이지만 게임 속에서라도 그런 걸 해보고 싶습니다. 감사합니다. 이상입니다. \n",
            "직무: 경영 경력상태: 신입직 질문: 지원 지원 하고 속 캐릭 어떤 게임 맡 수요변: 제가에 게임 속 있다면 저 역할을 맡 것인가요.해 주세세겠습니까. 질 하셨는데요. 어는 어 속 어떤는 캐릭 캐릭 캐릭 캐릭드 역할을 되고 명 어은 해겠 싶습니다. 어 씨이오가 한 것은 어 제가이오가 되기 것은 어 게임 게임가가 역할을 되는 되고 또 리더이오가 리더 것은 어 리더 리더 리더질이 대한 어떤 있을 수도 또 그 그 리더 리더이오만의 어떤 어떤만의 어떤 어이나 어 어 어떤 그런 어 어하나 그런하우 이런 것들이 가지고 있는 그 좋은 어 어 어 그런 될 수 같습니다. 어 그런 리더 리더 역할을 될 번쯤은 돼보고 싶데 어 할보고 싶습니다.  그 속에 캐릭 어 속 어 어 리더 가지고보고 싶습니다. 합니다. 입니다. \n",
            "직무: 디자인 경력상태: 경력직 질문: 만약 자신이 게임 속에 있다면 어떤 역할을 할 것인가 답변: 만약 자신이 게임 속에 있다면 어떤 역할을 할 것인가 라고 질문을 주셨는데요. 저는 내가 게임 속에 있다면 음 한 번쯤 여왕이 되는 어 역할을 한 번 해보고 싶습니다. 그냥 평범하게 이 한 가정을 위해서 또 자식을 낳고 자식을 키우면서 우리 한 가정을 지키기 위해서 정말로 앞만 내다보고 열심히 달려서 그리고 진짜 일도 열심히 어 그리고 이렇게 열심히 살았던 것 같습니다. 내 자신을 한 번도 돌아보지 못한 그런 안타까운 시간들을 어 게임 속에서나마 내가 최고의 자리인 여왕이 한번 돼서 어 좀 더 아름답게 멋지게 그 그런 삶을 한번 겪어보고 싶습니다. 한번 경험해 보고 그리고 내가 꼭 하겠다라고 생각한 거 이루겠다라고 생각해 한 거 그 모든 것들을 내 스스로가 해낼 수 있는 그런 그 역할을 한번 해보고 싶습니다. 예 \n",
            "직무: 경영 경력상태: 신입직 질문: 지원 지원 하고 속 캐릭 어떤 게임 맡 수요변: 제가에 게임 속 있다면 저 역할을 맡 것인가요. 질 하셨는데요. 어는 게임 게임 속 있다면 어떤 어떤 번쯤은 돼 그런 그런 해 번 해보고 싶습니다. 어 게임하게 어 게임을 번 꾸 어 어 위해서 또 낳고우고 어를 사람의 위해서 위해서 어말로 어으로는 보고다보고 어 하는가는 어 또로 열심히 하고 하고 어 열심히 해서 그런 같습니다. 어일 위해서 번 돌아보지 않고 그런 어운 부분들이 보냈 정말 속에서 어 어 한 왕이까지 그런 될쯤보고 어 그런 더 어 어지게 어 게임을 역할을 살고 살아어보고 싶습니다. 쯤해 보고 싶 나서 한 해야다 라는 하는 그런는었던다 라고 생각한보면 번는게 것들을 다 스스로 한보고 수 있는 그런 어 어 해 해보고 싶습니다.  제가\n",
            "직무: 디자인 경력상태: 경력직 질문: 이직을 생각하는 동료에게 뭐라고 할 것인가 답변: 이직을 생각하는 동료에게 뭐라고 할 것인가 라고 말씀을 해 주셨는데요. 아 한 번쯤 잘 생각해 보라고 일단은 조언을 해 줄 것이고 그리고 또 이직을 생각 생각했다 라고 한다면 지금 직장보다는 더 나은 곳으로 갈려고 하기 때문에 격려도 해줄 것 같습니다. 그리고 그 동료가 잘 됐으면 좋겠고 또 어디 가서든지 인정 받았으면 좋겠고 그 동료가 하는 그 일 그 자리에서 그 동료도 어 최고의 어 자리가 그 최고의 그 인재가 되기를 바라고 됐으면 좋겠고 그리고 어 잘 됐으면 좋겠습니다. 잘 됐으면 좋겠고 어 화이팅 하라고 제가 어 그 그 축복의 에너지를 어 보내고 싶습니다. 어 그리고 저도 만약에 어 더 좋은 자리가 있다 라고 생각하면 저도 한 번쯤은 생각해 보지 않을까 라는 그런 생각도 합니다. 어 잘 생각해보겠습니다 이상입니다. 감사합니다. \n",
            "직무: 경영 경력상태: 신입직 질문: 지원 직무 생각하는 동에게 뭐라고 말씀까요변 부탁 이직을 생각하는 동에게 뭐라고 말할 것인가요. 물어을 하 주셨는데요. 어 이 번 생각해은 해보고셨요.단은 그 해 주 것요. 그 그직을 생각하는 중인한다면으면 라고 하면 어 이도 이 나은 삶을 이 수 노력을 때문에 어를 해 줄 것이고 같습니다. 아 또 동료가 이 할으면 좋겠다 또 이를도 잘해으면 좋겠고 또 동료가 이 일이 일에들이 동료 최 동료가 잘 저 사람이 최고의 될 자리에 자리에 자리에재가 될 바라라고요.으면 좋겠습니다.요. 그 그 됐으면 좋겠고  됐으면 좋겠고 또 그이팅을라고 말씀 말씀 말씀 동료 동료하를 말씀 어 좀 싶습니다.  그 또는 그에 그 이 좋은 곳으로 있다면 라고 한다면 어는 그 번쯤은 그 볼 않을까 라고 생각을 생각을도   그리고 됐 봐라고습니다.다 라고입니다. 합니다. \n",
            "직무: 디자인 경력상태: 경력직 질문: 최근 유망하게 뜨는 기업들이 있습니다. 당신은 어 전공을 불문하고 지금 제일 가고 싶은 회사는 어떤 분야이고 왜 그 회사를 가고 싶은지 그 이유를 말씀해 주십시오. 답변: 제 지금 제일 가고 싶은 회사는 이라고 질문을 주셨는데요. 어 우선은 지금 제가 지원한 이 회사가 가 가고 싶었기 때문에 여기를 지원을 하게 됐구요. 또 복지도 좋고 또 연봉 체계도 좋고 그리고 일단은 내가 하고 싶은 일을 할 수 있는 어 그런 배려를 많이 해줘서 해줄 수 있는 회사고 그리고 또 해외 지사도 많고 제 저에게는 이곳에 이곳에 합격을 해 주신다라고 하면 제가 해 하고 싶은 일은 참 많을 것 같고 해낼 수 있는 일들도 참 많을 것 같습니다. 음 그래서 저는 이 회사가 어 제일 좋습니다. 그리고 이곳에서 꼭 어 일하고 싶고 이곳에서 제가 인정받고 싶고 또 이곳에서 어 외국 지사도 꼭 가보고 싶고 그렇게 많은 그 잘하고 싶습니다 . 저를 선택해 주신다면 정말로 감사를 드리겠습니다. 감사합니다. 이상입니다. \n",
            "직무: 경영 경력상태: 신입직 질문: 지원 고령튜하다고 떠오르는 아이 있 그신은 왜 이 제외하고 어 유 유 싶은 회사가 어디 회사인가 왜 그 회사를 가고 싶은지 이유 이유 말씀해 주세시기 답 어변: 저 전공 가장 가고 싶은 회사는 바로쪽 생각 하셨는데요. 어 저 저 제가 제가 하고한 이 회사가 어고자 싶은습니다. 때문에 어태 지원 했고 됐습니다.요. 어 제가지가 굉 또 어도도 좋고 또 어 년 제가 이 싶은 일을 할 수 있는 그런 그런 회사가도 좀 해 주고야 어주고 수 있는 그런라고 또 또 제가에서도사가 많이 또 이의 어 지원 지원격을 해서 주신다면 라고 하 저 이줄 싶은 일 어 많 것 같요.보고 수 있는 일들이 많을 많을 것 같습니다. 그래서 제가 저는 이 회사에 저 저 가고다  또 제가 일을 일을 싶습니다. 또 꼭 하고 또고 또 제가 제가 제가인과사를 많이 가고보고 싶습니다. 또 해서 노력을 기회를 해 싶은습니다.다 라고그리고는 뽑아해 주신다면 저말로 감사 드겠습니다. 합니다. 입니다. \n",
            "직무: 디자인 경력상태: 경력직 질문: 입사했는데 원하는 선배의 모습이 어떤 선배의 모습일까 생각해보셨나요 무엇이 무엇이라고 생각하십니까 답변: 입사해서 원하는 선배의 모 모습이 무엇인가요 어 라고 질문을 해주셨는데요. 입사해서 원하는 선배의 모습이라는 것은 일단은 의사소통이 잘되고 어 그리고 어 지하 직원들에게는 어 그 뭐 배려와 어떤 이해심이 있다라면 더 좋겠구요. 독설적이고 어 그 그 박박한 성격인 보다 어 그런거보다 어 화합하고 어 상생하고 어 한 가족 같은 그런 모습을 가졌더라면은 더 좋을 것 같고 이것이 욕심이라면은 제가 또 적응을 해야 되겠지만 기왕이면 한 식구다 보니까 이미 한 식구가 됐다 보니까 그런 분들과 같이 일을 하면 더 좋을 것 같습니다. 기왕이면 선배님이니까 그렇 그 중에서도 또 저도 또 그렇게 노력할 것입니다, 이상입니다. 감사합니다. \n",
            "직무: 경영 경력상태: 신입직 질문: 지원 후에 업무 만큼배의 모습은 있 모습배의 모습이었까요 보신나요 답 가장인 생각하시는니까 답변: 제가 후 선 선배의 모습은토가 있다면요. 라고 저 질 하셨는데요. 어 후에 원하는 선배의 모습은이라고 것은 어단은 제가통이 잘 되고 어 또 어 그에서들이 어 좀 어떤 어떤라 어 어 이런 어 라는 어 좋은겠지만요. 어선가 어 뭐까까자 그런이라 것 좀 좀 어 같 어 좀을 어 서로부상하는 어 서로 번처럼 그런 선 어졌으면라면구 어 좋 것 같요. 어심이이라고서 어 뭐 어을 해야 될겠지만 어분면 어 번구 한 라는까 어 다 식구 되어으니 라고까 어 부분이 함께 어 할 더 좋을 것 같습니다. 어왕이면 어님 어 어다분 어 어도 그런 그런 어할 것 같니다 입니다. 합니다. \n",
            "직무: 디자인 경력상태: 경력직 질문: 본인은 리더형인지 아니면 팔로워 형인지 설명해 주세요 답변: 본인은 리더형인지 팔로우 형인지 설명하세요 라고 하셨는데요. 저는 장담 있게 저는 리더형이라고 말할 수 있습니다. 저는 대충 대충 대충 대충 하는 거를 못 봅니다. 어 어떤 일이든 무슨 일이든 누구든 간에 대충 대충이 아니라 항상 어 최선 최선으로 해야 되고 우선으로 해야 되고 그리고 꼭 해 해 내야 되고 해결이 돼야 되고 라는 어떤 그런 성격이 있다 보니 어 저는 리더형이라고 말할 수 있겠습니다. 하지만 뭐 잘난 척을 하던가 잘난 체를 하던가 그런 거는 아닙니다. 하지만 어떤 조직이든 간에 어떤 어 그 지인이든 간에 그냥 어 어 불 불목 불목하고 불목하고 서로 의견 충돌하고 그런 거를 저는 못 봅니다. 항상 중간에서 그런 것들을 이해시키고 납득시키고 설득시켜서 꼭 해결하고 화합하게 만드는 그런 성격입니다. 그리고 항상 긍정적이고 감사하고 어 행복해 한 성격입니다. 감사합니다. \n",
            "직무: 경영 경력상태: 신입직 질문: 지원인은 평소에형인지 아니면 팔로워형인지 어떤 주요 답변: 저인은 리더형인지 팔로워형인지 잘하자실요. 라고 질셨는데요. 어는 리더녀합니다. 말씀는 리더형이라고 말씀 수 있습니다. 저는 어렸을학교를대충하는충 하는충 하는 스타일를 좋아합니다.봤니다. 그래서 리더 일을든 리더 일이든 리더든 리더 리더충하는충 잘 그냥 대 대선을 다선을 최 된다고 최순 해야 되고 어 그 해야내내 되는 해야해야 안야 되고 해야 그런 그런 책임 있습니다. 보니까 리더는 리더형이라고 말할 수 있습니다.습니다.  저 리더 모르겠 척을 하거나 간에 아니면난 척를 하던가 이런 거를 저니다. 어 저 일을든 간에 리더 조직이 리더 리더장이든 간에 그 그 저 저의를의를불의를불 불성불 불 불 충돌이하고 뭐 거는 잘는 잘 봅니다. 그래서 리더 중간 어 거 잘해 어득하고 어하고 어 해야해야 어을 하는 그런 리더입니다.  저 리더적으로 어하고 어 항상하고 하는 그런입니다. 합니다. \n",
            "직무: 디자인 경력상태: 경력직 질문: 공동체로서 무형 문화유산의 보호에 있어 적용되는 사회적 관념은 무엇이라 생각하나요 답변: 개성과 전통이 어우러져서 그 가치를 알아보고 보존하는 것이라고 생각합니다. 그 무형으로서의 그 문화유산을 보호하고 지정해서 보호한다는 것 자체가 어쨌든 그것들이 지니고 있는 가치나 개성을 잃지 않고자 하는 마음이라고 생각하고 있어요. 그래서 우리가 그것들을 어쩌면 개인의 시작일 수도 있었겠지만 우리가 이것을 다 같이 지켜주자 라는 의미가 녹아있는 거라고 생각이 들고 그것들이 분명히 후대에도 가치가 있을 거고 우리 외에 다른 공동체에서 봤을 때도 아 이것은 정말 뛰어나다 라고 느낄 수 있게끔 하기 위해서 하는 것이라고 생각이 들기 때문에 우리는 그거를 지켜야 할 의무가 있고 그 가치를 알아볼 수 있어야 한다고 생각을 하고 있습니다. 그리고 그러한 시선은 어쨌든 그 개성과 그것을 지키고자 하는 마음이 같이 공존해야 한다고 생각합니다. \n",
            "직무: 경영 경력상태: 신입직 질문: 지원 가치에 무형 문화유산의 보호에 있어 적용되는 사회적 관념은 무엇이라고 생각하요 답변: 무개인의 다양 있는러져서 무 공동 지켜가는자 데 생각합니다. 무 공동체의형 문화유 문화유 가치를산은 보호하는 보존하고 보호하는해야 것은 자체가 어 그들을 우리 있는 가치관 그 잘 않고 보존 하는 그런에서 생각요.요. 그래서 그 그들을 잘 우리가 어떤이 수도 있고겠지만 그 그것을 통해서 같이 공유나가 라는 마음 아닐있는 것라고 생각 요.들을 우리 우리에도 계승 있고 거라고 또 후손 다른 사람들도들도 우리가봤을 때 그 이 우리 우리다 라는 생각 수 있는끔 만들어 위해서 우리가 것이 생각  때문에 그런 그것을 무 보호 한다고 의무가 있다고 그것을거에 지켜 수 있는 한다고 생각 합니다. 있습니다.  그 것들이너지 꼭 우리 공동체성과 전통이 보존려는 하는 마음 있어야 있어야하는 한다고 생각합니다. \n",
            "직무: 디자인 경력상태: 경력직 질문: 오늘 면접 준비하느라 고생 많이 하셨을 텐데 면접자님은 어떤 방식으로 면접을 준비하셨는지 말씀해 주실 수 있나요 답변: 저는 어 사람들과 어떤 소통을 하는 걸 좋아합니다. 그래서 제가 지금 뭐 작은 점포를 운영하면서 자영업을 하고 있는데요. 그 자영업을 하면서 제가 예술 분야와 연결시켜서 할 수 있는 그런 능력들을 키워나갈려고 상당히 부단하고 부단하게 노력했습니다. 예술 분야는 저의 삶을 특히 정서적인 부분을 고무시키고 저의 삶을 윤택하게 하는 그리고 저의 어떤 어 마음가짐의 변화에 상당히 도움을 주는 힘을 주는 원천이 되기도 합니다. 그리고 이런 것들에 대한 어 이 예술 분야와 저의 지금 갖고 있는 직업 지금 제가 하고 있는 어 건강에 관련된 그리고 채소를 주제로 한 그런 삶을 윤택하게 하는 건강한 음료하고 연관시켜서 모든 부분을 창의적으로 개발하고 설계하며 노력해 왔습니다. 끊임없이 주변 어 소비자들에게 만족도를 어 조사하고 거기에 대한 피드백을 탄탄히 하여 기록해 왔습니다. \n",
            "직무: 경영 경력상태: 신입직 질문: 지원 면접 준비하느라 고생 많이 하셨습니 텐데요을님 어떤 방식으로 면접을 준비하셨는지 말씀해 주실 수 있을나요 답변: 저는 면접 면접 만나 대화를통을 할 것을 좋아합니다. 어 사람들과 면접 면접 면접 면접심 하나한다 어영업업을 하고 있는데요. 어 가게영업을 하면서 어 어떤적으로라 관련된이 어 수 있는 부분 부분들을 많이왔 수 노력을 노력을단히하게 노력을단한하게 노력을했습니다. 그래서 분야 제가는 전공 굉나적으로 부분에 많이적으로 또의 삶을 풍요택하게 만들어 그런 저의 삶을 삶을 삶을가짐과 변화를 저 큰 주는 그런 주는 분야천이 되기도 합니다. 그래서 저 부분들에 있어서 어떤 저 어 분야와 관련된의 어떤 이 있는 이의 현재 가지고 있는 이 이 관련된 부분 저 가꾸 해서 그런 어 어택하게 하는 그런 삶을나 그리고시켜서 어 사람들이 어적으로 어 어하고 어했 왔습니다.  새로운 환경 사람들을자들에게 어을 높이고 높이고하고 또 대한 어백을 받고탄히 하고서 놓는습니다. \n",
            "직무: 디자인 경력상태: 경력직 질문: 커뮤니케이션을 잘할 수 있는 본인만의 스킬이 있으신가요 있다면 한번 소개해 주시겠어요 직접 한번 보여주셔도 좋습니다 답변: 저는 어 상대방과 커뮤니케이션 즉 의사소통을 할 때 서로 말 그대로 소통에 집중합니다. 소통이라 함은 저의 의사와 상대방의 의사를 서로 주고받는 것인데요. 저의 의사만을 고집하거나 상대방이 상대방의 고집만 고집을 굽히지 않을 때는 이런 소통이 어렵다고 생각합니다. 따라서 이렇게 갈등이 빚어질 수도 있고 소통이 원활하지 않을 수 있는데요. 이럴 때는 어 우선은 상대방이 무슨 말을 하는지 그 상대방의 말에 경청을 합니다. 경청을 해서 상대방이 가장 중요하게 생각하는 부분을 어 도출해 내구요. 그 으 상대방이 중요하게 생각하는 부분에 대해서 다시 한번 확인을 한 다음에 그 확인이 맞다면 상대방의 입장을 공감하고 공감을 형성할 수 있는 그리고 같은 편으로서 어 공 교 교 교감 할 수 있는 그런 것들을 서로 주고받습니다. 그렇게 서로 분위기가 어 좀 유연해지면 서로에게 서로의 주장을 하면서도 어느 정도 상대방의 의견을 어 들어 줄 수 있는 그런 공간을 만들어서 서로 소통할 수 있는 기회를 확보합니다. \n",
            "직무: 경영 경력상태: 신입직 질문: 지원을 잘 할 수 있는 본인만의 스킬이 있다면으신가요 있다면 한번 소개해 주겠어요 직접 한번 보여주셔도 좋습니다 답변: 커뮤니케이션는 커뮤니케이션 커뮤니케이션방과 커뮤니케이션을 커뮤니케이션통을 잘 때 어 간에하기 공감통을 대한을 어이라는 함은 어의 말을 상관없이 의사를 잘 잘 것인데요. 저는 의사를 표현을 고집하는 상대방의 원하는 의사를하는 부집을 한다면 않는다면 때 저 커뮤니케이션통이 잘습니다. 생각합니다. 그래서 저 소 있는졌을 때 있고 서로통이 잘하지 않을 수도 있습니다.요. 저럴 때 저 저 상대방의 상대방의 어떤 말을 하는지 먼저 사람의 의사를 집중청 합니다. 그리고청을 통해서 상대방이 원하는 원하는 생각하는 것이 먼저필해 내는요. 그리고 다음에 그 원하는 생각하는 부분을 대해서 어 한 어 하고 후에 그 부분을신이 된다면 그 의견을 이해하고 그 해 수 있도록 그런 그 생각을이라고 어 소감의감을감을하는 수 있는 그런 어 어 어습니다.  하 소 좋아 좋아 좋아하고 커뮤니케이션 커뮤니케이션 어 의견을 어 어 정도 어 의견을 존중 수용줄 수 있고 그런 기회가 마련 서로 커뮤니케이션할 수 있는 그런 많이합니다. \n",
            "직무: 디자인 경력상태: 경력직 질문: 대학 생활 가장 힘들었던 경험은 무엇인가요 답변: 어 대학 생활 중에서 가장 힘들었던 경험은 무엇인가요 라고 하셨는데요. 저는 방송통신대학교를 나와서 그 사람을 직접 만나서 이렇게 커뮤니케이션이 돼야지만 더 이해력도 되고 더 빨리 습득이 될 텐데 방송으로 공부를 하다 보니까 음 약간 그 질문도 할 수 없고 이해성이 떨어지는 바람에 조금 그런 면이 어려웠었다라고 생각을 합니다. 어 시간이 난다면 공개 강의 같은 것 어 이런 것들이 큰 도움이 될 거라고 생각을 하는데 원체 지금 삶 속에서 시간이 없기 때문에 그 없는 시간을 쪼개서 그리고 나름대로 공부를 하고 있는 거기 때문에 그 방송을 통해서 공부를 하지만 그렇지만 그것이 힘들다 라고 생각을 합니다. 그래서 그냥 일반 대학교 다니는 게 참 좋다고 생각합니다. 그리고 부럽습니다. 그리고 나중에는 꼭 다닐 겁니다. 네 감사합니다. \n",
            "직무: 경영 경력상태: 신입직 질문: 지원 생활을 중 힘들었던 경험은 무엇요 그것을변: 대학 대학 생활을 가장 가장 힘들었던 경험은 어요 어 질문을셨는데요. 어는 대학학과를대학교 나왔서 방송 방송 만나 만나서 어 인터을 안야 되는이 좋은도가 더 또 좋은 배울할 될 수데요.통신 인 해야다 보니까 어 그 그 사람의 자체가 많이 수 없고 또도 부족 그런 어 힘들 부분이 좀습니다.습니다. 라고 말씀 합니다. 그래서 그래서 좀다면은적인도 것도에도 그런 것들을 좀 도움이 되지 것라고 생각을 합니다.요.하 그까지는에서 어 많이 때문에 어게 시간 어떻게서 공부를 어 어 해야 또 것 때문에 어게 통해서 어 하고 그 그 어다 라고 하 하  저 그인들이에서 것 아니라 힘들 생각을합니다.  또끄럽습니다.  또 제가 제가 수니다.  합니다. \n",
            "직무: 디자인 경력상태: 경력직 질문: 본인이 하고 싶은 업무가 있다면 어떤 것이 있을까요 답변: 본인이 하고 싶은 업무가 있다면 말씀해 보세요 라고 질문을 주셨는데요. 음 내가 하고 싶은 일은 어 저는 성격이 음 저 어 긍정적인 사람이다 보니깐 어 더 사람들의 심리 파악을 잘하고 사람들의 마음을 잘 읽어서 어 그 마음이 전달을 잘하고 있습니다. 그래서 어 제가 어떤 그 사 상담 사 심리 심리학 상담 뭐 이런 업무를 한다라면 저는 잘 할 것 같습니다. 어 사람들의 심리 어 심리 테스트 어 심리 연구 뭐 이런 것들을 잘 하기 때문에 저한테는 그 업무가 어 맞다 라고 생각합니다. 혹시 만약에 저한테 그런 업무가 주어진다면 저는 어 정말로 재미있게 어 열심히 잘 할 것 같습니다. 그래서 꼭 저한테 그런 업무가 주어지기를 간절히 바랍니다. 이상입니다. 감사합니다. \n",
            "직무: 경영 경력상태: 신입직 질문: 지원 생각할 싶은 직무 있 그 업무 있는지까요 이유변: 제가 하고 싶은 업무는 있다면 저해 주세세요. 라고 질 하셨는데요. 어 제가 하고 싶은 업무가 어 제가는 디자인 좀 좀는색 마인 되고 라는까 어 좀 긍정 마음을나을 잘 할 어 마음을 잘 어어서 어 그 사람들이 어이 잘 할 어 그래서 어 그 하고 일을 어안에이나 어 상담사사 이런 것들을 하고 라고 어는 어 할 수 같습니다. 어 그래서 마음을 파악 파악 파악스트를라 그런 상담 이런 이런 것들을 잘 하기 때문에 어는테는 어 어 어 저을 라고 생각을합니다. 어시라도에 제가한테 그런 일이 주어다면 저는 어 그말로 어있게 어 그 어 할 것 같습니다. 어 어 제가한테 맡겨 업무가 주어지 바절히 바랍니다. 입니다. 합니다. \n",
            "직무: 디자인 경력상태: 경력직 질문: 업무 시 분쟁이 발생했을 때 본인만의 대처법이 있나 답변: 업무 시 분쟁이 발생 했을 때 본인만의 대처법이 있나요 라고 말씀을 해 주셨는데요. 업무를 하다 보면 의견이 안 맞고 또한 의견이 안 맞다 보면 분쟁이 일어나게 되어 있습니다. 어 무슨 일을 하든 간에 어 그 일에 있어서 의견이 안 맞는다면 상대방을 잘 이해를 시키고 설득을 시키고 어 그리고 어 알아들을 수 있게 혹시 혹시 입장이 내 입장이라면 한 번쯤은 어 이렇게 생각해볼 수 있지 않겠나 라는 어떤 그 이해력을 가지고 이해를 시켜서 어 화해를 하고 어 그래서 더 돈독하고 가까운 그런 어 그 사이가 될 수 있도록 저는 중간에서 중간 역할을 잘 할 것이고 음 그래서 어 이 내가 하고 있는 이 업무를 어 조금 더 발전시키는 데 공헌하는 데 이바지가 되도록 저는 그렇게 최선을 다할 것입니다. 감사합니다. 이상입니다. \n",
            "직무: 경영 경력상태: 신입직 질문: 지원 중 분쟁이 발생할 때를 지원만의 대처법이 있으요변: 업무 시 분쟁이 발생할한다면 때 저만의 대처법이 있는지나요 있다면 여해 하 주셨는데요. 어 하다 보면은 맞지 맞 또 그 맞지 맞아서 라고은 발생할 되는데 있습니다. 그래서 저 일을 하든 간에 그 그 의견 대한 어 안 맞다은 설득 설득 해야고 또을 해야고 어 그 그 그듣 수 있도록 어시라도시라도 안 입장이이라면 어 번 더은 어 그 이야기를 보 수 있을 않을까습니까 라는 생각을 생각을 생각을의 어 있습니다. 시키야 어 그해를 할 어 그 그 좋은독하게 어 그런 관계를 그런 관계를 될 수 있도록 어는 노력을에서 어에서 하고 해 수요. 그 어 그 분쟁이 이 싶은 일이 일에 잘 잘 더 어 데 있어서할 그런 도움이 역할을지를 될 노력을는 노력을 노력을선을 다할 것입니다. 합니다. 입니다. \n",
            "직무: 디자인 경력상태: 경력직 질문: 일을 하시면서 여러 가지 갈등 상황을 겪어보셨을 텐데요 만약 구성원들과 갈등을 겪게 됐을 때 어떻게 해결을 하실 건가요 답변: 조직에서의 갈등은 일상입니다. 다른 사람들이 모여 일을 하다 보면 갈등이라는 것은 갈등은 수시로 발생하며 그 형태도 다양합니다. 갈등은 좋다 나쁘다를 논하는 것보다 발생한 갈등으로 인해 불필요한 에너지를 사용을 하고 자원을 사용하는 상황들이 발생할 수 있기 때문입니다. 그래서 미연에 방지하는 것이 필요합니다. 문제는 이런 갈등을 사전에 방지하는 것이 쉽지 않은데요. 갈등을 해결하지 않거나 관리하지 않게 된다면 그것은 점점 증폭되어 구성원들의 조직적 목적보다 갈등 그 자체에 대한 더욱 염려이기 때문에 조직의 성장은 멈추게 되어 있습니다. 그래서 조직에서 갈등이 발생하면 비 온 뒤에 땅이 굳는다는 말처럼 더 단단한 관계를 발전시키는 시간이 필요하다는 것을 잊지 않는 것이 가장 중요합니다. 갈등은 크게 업무 갈등과 관계 갈등으로 나눌 수 있는데요. 업무 갈등은 말을 통 일을 통해 성과를 내고 변화를 위해서 꼭 필요한 갈등이라고 합니다. 관계 갈등은 구성원 간의 정서적인 이슈가 연결되어 협업의 장애가 될 수 있습니다. 사례 속에 최대리와 김대리는 어떤 갈등을 겪고 있는지 한번 이야기해 보겠습니다. 꼭 중재를 해야 하나 물어보실 수도 있지만 지금 상황에서는 해주셔야 합니다. 왜냐하면 다른 한 사람이 그 갈등에 대해서 요청을 원했기 때문에 요청을 할\n",
            "직무: 경영 경력상태: 신입직 질문: 지원 하게 가장 가지 스트레스 상황이 겪으 보셨을 텐데요 그에들 갈등이 빚 된을 때 지원 해결 하셨지가요 답변: 일을 내에서 갈등은 구성원에서 그 구성원 함께있는 하는다 보면 갈등이 상황이 것이 굉 피할 발생합니다. 그 갈등을 다양합니다. 예를 항상든 나쁘다 떠나서할 것이 그 원인에에 인한 발생하는 오 소모 하고 있는 낭비 경우가입니다. 많 수 있습니다. 때문입니다. 그래서 저연에 방지 것이 중요합니다.  구성원 갈등 최소 방지하기 것이 가장 않기데요. 예를 사전에하려면 않고 갈등이하지 않는다면 되면다면 그 결국 더될 더들 사기를 생활에 갈등이이나 더으로 자체에 더 책임을더를 때문 갈등이 목표를과에 더게 됩 있습니다.  저 갈등이 발생했을 구성원생산다는 땅이 굳는 말이처럼 비 큰 조직을 유지 것이 필요하다고 것을 알게 말아야 것이 중요 중요하다고합니다.  항상 두적인 업무적인으로 나눌 수 있습니다.요. 업무 갈등은 업무 하지하거나 하는 해결할 내는 성과를 통해 노력하는 필요한 과정입니다. 생각 란 서로들 갈등적인 문제가 아니라 있기업을 결과로 되기도 수 있습니다. 그렇기로 있는 갈등 최리가 갈등을 일을 겪 있었 알 말씀해 보겠습니다.  필요한재를 해야 하는 라는보셨 수 있겠 그 당장에서는 가장지도 할  구성원 구성원 사람이 먼저 갈등을에 대해 관심을 하고하기 때문 그 했기 수도\n"
          ]
        },
        {
          "name": "stderr",
          "output_type": "stream",
          "text": [
            "Validation Epoch 1: 100%|██████████| 502/502 [04:19<00:00,  1.93it/s, loss=2.3751]\n"
          ]
        },
        {
          "data": {
            "application/vnd.jupyter.widget-view+json": {
              "model_id": "2000100ed04c41b3983638856aaecb45",
              "version_major": 2,
              "version_minor": 0
            },
            "text/plain": [
              "tokenizer_config.json:   0%|          | 0.00/49.0 [00:00<?, ?B/s]"
            ]
          },
          "metadata": {},
          "output_type": "display_data"
        },
        {
          "data": {
            "application/vnd.jupyter.widget-view+json": {
              "model_id": "dd0289d4605d4e1aac0693f3443770d4",
              "version_major": 2,
              "version_minor": 0
            },
            "text/plain": [
              "config.json:   0%|          | 0.00/625 [00:00<?, ?B/s]"
            ]
          },
          "metadata": {},
          "output_type": "display_data"
        },
        {
          "data": {
            "application/vnd.jupyter.widget-view+json": {
              "model_id": "b20f4e9c7b0444e4be68576263c61c6e",
              "version_major": 2,
              "version_minor": 0
            },
            "text/plain": [
              "vocab.txt:   0%|          | 0.00/996k [00:00<?, ?B/s]"
            ]
          },
          "metadata": {},
          "output_type": "display_data"
        },
        {
          "data": {
            "application/vnd.jupyter.widget-view+json": {
              "model_id": "5dc6ec182776411092a55e31a19ebfbe",
              "version_major": 2,
              "version_minor": 0
            },
            "text/plain": [
              "tokenizer.json:   0%|          | 0.00/1.96M [00:00<?, ?B/s]"
            ]
          },
          "metadata": {},
          "output_type": "display_data"
        },
        {
          "data": {
            "application/vnd.jupyter.widget-view+json": {
              "model_id": "4703bc827512454b9d77407af22fbc22",
              "version_major": 2,
              "version_minor": 0
            },
            "text/plain": [
              "model.safetensors:   0%|          | 0.00/714M [00:00<?, ?B/s]"
            ]
          },
          "metadata": {},
          "output_type": "display_data"
        },
        {
          "name": "stdout",
          "output_type": "stream",
          "text": [
            "calculating scores...\n",
            "computing bert embedding.\n"
          ]
        },
        {
          "data": {
            "application/vnd.jupyter.widget-view+json": {
              "model_id": "9c5586db71d34cb49c9dda8eeb7e68e8",
              "version_major": 2,
              "version_minor": 0
            },
            "text/plain": [
              "  0%|          | 0/251 [00:00<?, ?it/s]"
            ]
          },
          "metadata": {},
          "output_type": "display_data"
        },
        {
          "name": "stdout",
          "output_type": "stream",
          "text": [
            "computing greedy matching.\n"
          ]
        },
        {
          "data": {
            "application/vnd.jupyter.widget-view+json": {
              "model_id": "c4388ce4b3f74a5391ed719e3793d100",
              "version_major": 2,
              "version_minor": 0
            },
            "text/plain": [
              "  0%|          | 0/126 [00:00<?, ?it/s]"
            ]
          },
          "metadata": {},
          "output_type": "display_data"
        },
        {
          "name": "stdout",
          "output_type": "stream",
          "text": [
            "done in 294.12 seconds, 27.29 sentences/sec\n",
            "Epoch 1 Average Validation Loss: 2.1848\n",
            "Epoch 1 Average Validation BLEU: 0.9907\n",
            "Epoch 1 Average Validation ROUGE: {'rouge1': 0.36113226537367676, 'rouge2': 0.10655334916276298, 'rougeL': 0.28845259678907886}\n",
            "Epoch 1 BERTScore Precision: 0.7849\n",
            "Epoch 1 BERTScore Recall: 0.7743\n",
            "Epoch 1 BERTScore F1: 0.7795\n",
            "Saving best model with validation loss: 2.1848\n"
          ]
        },
        {
          "name": "stderr",
          "output_type": "stream",
          "text": [
            "Training Epoch 2: 100%|██████████| 4255/4255 [1:36:02<00:00,  1.35s/it, loss=2.2212]\n"
          ]
        },
        {
          "name": "stdout",
          "output_type": "stream",
          "text": [
            "\n",
            "Epoch 2 Average Training Loss: 2.2046\n"
          ]
        },
        {
          "name": "stderr",
          "output_type": "stream",
          "text": [
            "Validation Epoch 2:   0%|          | 1/502 [00:00<04:37,  1.81it/s, loss=2.3562]"
          ]
        },
        {
          "name": "stdout",
          "output_type": "stream",
          "text": [
            "직무: 디자인 경력상태: 경력직 질문: 타 부서와 갈등 상황이 생겼을 때 어떻게 해결하겠는가요 답변: 음 타 부서와 갈등 상황이 생겼을 때 어떻게 해결하겠는가 라고 말씀해주셨는데요. 살다 보면 우리가 부딪치지 않는 일은 없을 것 같습니다. 항상 부딪치고 해결하고 또 살아가고 또 부딪치고 해결하고 또 살아가고 하는 것들이 이 인생인 것 같고 삶인데 타 부서와 갈등 상황이 생겼을 때는 일단 어떤 것이 잘잘못인가를 일단은 어 판단을 해야 될 것이고 그리고 내가 잘못한 일이 있다라면 정중하게 사과하고 미안하다 하고 미안하다 라고 하고 그리고 금방 화해를 할 것 같습니다 .하지만 상대방이 잘못된 일이 있다라고 하면 꼭 그것은 그 이해를 시키고 납득을 시키고 그리고 잘못된 부분은 이런 이렇게 잘못된 부분은 고쳐 나갈 수 있는 거 바꿔 나갈 수 있는 거 이런 거를 유도하고 그래서 그렇게 할 것 같습니다. 그 잘 뭐든지 잘 해결하고 그렇게 살 살아 갑니다 제 성격이. 감사합니다. \n",
            "직무: 공공 경력상태: 신입직 질문: 지원인이서와 갈등 상황이 발생 때 어떻게 해결하습니까요 상황을변: 네 타 부서와 갈등 상황이 생겼을 때 저 해결하냐 라고 질문을을셨는데요. 어 보면은 서로치는 않는 일 없 것 같습니다. 왜냐하면 부딪치는 부딪해야 부딪 해결다 있는데 그런치는 또하고 이런 부딪다 있는데 그런 있는데 부에서 것 같요.인요. 부서와 갈등 상황이 생겼을 때 어 그 문제가 문제 해결못인지 먼저단은 파악 먼저 해야 될 것요. 그 잘못한 것이 있다면 라고 그하게 사하고 또안하다 라고 사과안하다 하고 하는 또 또방 사해를 해야 것 같습니다.다 라고그리고 그 잘못 일이 있다 라고 하면 그 사 사 부 해야고 또득을 시켜고 또 그 일이 어 식으로 해결을 부분을 이렇게서 수 있도록 그런를 나가 수 있는 거를 것들을를 좀해서 또 그 해결을 것 같습니다. 게잘 잘못 잘 해결하고 또 해서면왔니다.다 라고 인생. 합니다. \n",
            "직무: 디자인 경력상태: 경력직 질문: 지금까지 인생을 살면서 가장 후회되는 일이 무엇이었는지 한 가지만 말씀해 주실 수 있습니까 답변: 저는 성격이 긍정적이라서 조금 후회하는 걸 별로 많이 느껴보지 못했는데요. 그래도 그중에서 하나 아쉬운 부분을 꼽자면 제가 대학교 사 학년 쯤 취업 준비를 할 때 다른 친구들에 비해서 좀 스스로 취업 준비가 잘 안되고 있다고 판단을 했던 것 같습니다. 그래서 부모님께 예민하게 굴었던 적이 좀 후회가 되는데요. 그건 나중에 스스로도 충분히 깨달았던 부분이라 부모님께 자리를 마련해서 너무 철없이 굴었던 것 같다고 죄송하다는 말씀을 함께 드리면서 어 용서를 구했던 경험이 가장 기억에 남습니다. \n",
            "직무: 공공 경력상태: 신입직 질문: 지원 살아 살면서 가장 후회되는 일이 있다면이었나 한 가지만 골라해 주세시고 수 있나 답변: 지금까지는 인생을 매우입니다.서 어 더되는 일이 많이 좋아 안보지 않았했는데요. 어 제가 가장 골라운 게 말씀자면 어 고등학교 때 학년 때쯤에 되었을 준비를 할 때 어 친구들이 비해 좀 늦게 좀 준비를 좀 안 됐 좀 느꼈 해서 것 같습니다. 그래서 그님께 좀한 좀어서 것 있었는데 있습니다.회가 됩요. 어게 제가 제가 좀 좀 인지았 부분이라고서님께도 양보할 좀 죄두 좀던 것 같 생각이송하다고 말씀을 드 드겠 좀 좀서를 빌했 것 있습니다. 후회에 남습니다. \n",
            "직무: 디자인 경력상태: 경력직 질문: 팀으로 일하는 것이 있구요 혼자 일하는 것이 있다면 그 둘 중에 내가 팀이 맞는지 혼자 일하는 게 맞는지 어느 것을 선호하는지 말씀해 보세요 답변: 팀으로 일하는 것과 혼자 일하는 것 중 어느 것을 선호하는가 라고 질문을 해 주셨는데요. 팀으로 일하는 것은 여러 사람들의 의견과 하나가 되 되고 유치를 해야 되고 또 그 어 팀 웍이라는 조직을 조직이 있어야 하지만 혼자는 누구하고 의견 충돌이 있 있 음 안 일어나도 되고 나만의 개성을 살려서 어 얼마든지 어 혼자 하는 것을 혼자 하는 것이 더 어 좋다 라고 저는 생각하지만 언제까지 혼자 일할 수는 없는 것입니다. 어 언제까지 혼자 일할 수 없기 때문에 저는 팀원으로서 또 이 조직으로서 일을 하는 것을 더 선호하고 어 같은 조합과 조직 그 배합을 서로 간에 배합을 잘 맞춰서 그렇게 이끌어 나갈 것 같습니다. 그래서 팀으로 일하는 것과 혼자 일하는 것 즉 어느 것을 선호하는가는 저는 팀으로 일하는 것을 어 선택할 것 같습니다. 그리고 어 그들에게도 또 희망을 불어넣어줘서 희망을 갖게 할 것입니다. 감사합니다. \n",
            "직무: 공공 경력상태: 신입직 질문: 지원으로 일하는 것과 좋습니요 혼자 일하는 것도 있 팀 둘 중에서 어떤 더 더을 팀 일하는 것이 맞는지 그 쪽이 더하는지 그해 주세세요 답변: 저으로 일하는 것과 혼자 일하는 것 중 저 것을 더지요. 말씀 하 주셨는데요. 어으로 일하는 것과 어 사람이 의견을과 의견을 모여서겠 그지가 하고 되는 또 그 안에서 그으로웍이 것이 통해서 잘 되고 그자가 할보다도 충돌이 있을잖잖 그런 생길야 되는 어 혼자 의견 가지고려서 어 팀든지 어 팀 할 것이 어 하는 것을 더 좋은 좋은다 라고 생각을는 생각을합니다. 팀 어디나 하는 수 없 것 왜냐하면 팀까지 혼자 할 수는 있는 때문에 어는 팀으로 어 팀 팀원 어 하는 것이 어 선호 있습니다. 팀 팀으로 같은 안에서 안에서합을 통해서 잘 어합을 해서 해서서 어 일을 갈 수 같습니다. 어 팀으로 일하는 것은 혼자 일하는 것 중에 팀 것을 더가 어는 팀으로 일하는 것을 더 더 것 같습니다.  팀 팀 어 어 어 주고어 줄야 어 줄 해 수 합니다. \n",
            "직무: 디자인 경력상태: 경력직 질문: 만약 자신이 게임 속에 있다면 어떤 역할을 할 것인가 답변: 만약 자신이 게임 속에 있다면 어떤 역할을 할 것인가 말씀해 보시겠습니까 라고 질문을 주셨는데요. 저라면 게임 속에서 저는 음 유명한 어 씨이오가 한 번쯤은 되보고 싶습니다. 그 씨이오가 된다는 것은 음 씨이오 가 된다는 것은 어떤 그 리더 리더로서의 자격이 있어야 되고 그 씨이오가 된다는 것은 음 그 어떤 자질에 또 문제가 있을 것이고 어 그리고 그 그 씨 자기 자신만의 어 자기 자신만의 어떤 특성 특성과 어떤 개성적인 어떤 그런 그 노하우 어 노하우 같은 걸 가지고 어 참 이렇게 좋은 그 어 대표가 될 것 같습니다. 어 나는 제가 그런 대표가 한 번쯤은 되보고 싶은 그런 역할을 해보고 싶습니다. 단지 게임 속이지만 게임 속에서라도 그런 걸 해보고 싶습니다. 감사합니다. 이상입니다. \n",
            "직무: 공공 경력상태: 신입직 질문: 지원 지원 하고 속 캐릭 어떤 게임 맡 수요변: 네 제가 게임 속 있다면 어떤 역할을 맡 것인지요.해 주세겠겠습니까. 질 하셨는데요. 어는 저 속 어떤는 힐 뭐 캐릭 캐릭드 역할을 되고 번 해은 해겠 싶습니다. 어 씨이오가 한 것은 어 제가이오가 되고 것은 어 그 게임의의 역할을 되는 되고 또 리더이오가 어떤 것은 어 그 리더 그질이 대해서 그 있다고 수 그 그 그 리더 리더이오만의 어떤 어떤만의 어떤 그 또 어 그 어떤 그 어 어떤하 이런 그런하우 이런 것들이 가지고 어 어떤고를 어 어 리더 리더 될 수 같습니다. 어 저 어 리더 리더 되고 번쯤은 돼보고 싶데 어 한보고 싶습니다. 어 그 속에에서는 어 속 어 어 역할을 가지고보고 싶고 어합니다. 입니다. \n",
            "직무: 디자인 경력상태: 경력직 질문: 만약 자신이 게임 속에 있다면 어떤 역할을 할 것인가 답변: 만약 자신이 게임 속에 있다면 어떤 역할을 할 것인가 라고 질문을 주셨는데요. 저는 내가 게임 속에 있다면 음 한 번쯤 여왕이 되는 어 역할을 한 번 해보고 싶습니다. 그냥 평범하게 이 한 가정을 위해서 또 자식을 낳고 자식을 키우면서 우리 한 가정을 지키기 위해서 정말로 앞만 내다보고 열심히 달려서 그리고 진짜 일도 열심히 어 그리고 이렇게 열심히 살았던 것 같습니다. 내 자신을 한 번도 돌아보지 못한 그런 안타까운 시간들을 어 게임 속에서나마 내가 최고의 자리인 여왕이 한번 돼서 어 좀 더 아름답게 멋지게 그 그런 삶을 한번 겪어보고 싶습니다. 한번 경험해 보고 그리고 내가 꼭 하겠다라고 생각한 거 이루겠다라고 생각해 한 거 그 모든 것들을 내 스스로가 해낼 수 있는 그런 그 역할을 한번 해보고 싶습니다. 예 \n",
            "직무: 공공 경력상태: 신입직 질문: 지원 지원 하고 속 캐릭 어떤 게임 맡 수요변: 네 제가 게임 속 있다면 어떤 역할을 맡 것인지요. 질문 하셨는데요. 어는 게임 게임 속에 있다면 어떤 어떤 번 해은 돼 그런 그런 해 번 해보고 싶습니다. 어 게임하게 어 게임을 번 이루고 어 어 위해서 또 낳고우면서 어 가정을 가정의 위해서 위해서 어말로 많은만 보고다보고 어 하는가는 어 또 어 열심히 하고 열심히 어 열심히 어 그런 같습니다. 어 안에 위해서 번 돌아보지 않고 그런 어운 마음들이 보냈 한 속에서 어 어 한 왕이까지 여왕 되어서 해보고 어 정말 더 어 어지게 어 한 모습을 살 살아어보고 싶습니다. 쯤해 보고 싶 또 한 해야다 라는 하는 그런는었던다 라는 했던보면 번는게 것들을 다 자신을 한보고 수 있는 그런 어 어 한번 해보고 싶습니다.  이상\n",
            "직무: 디자인 경력상태: 경력직 질문: 이직을 생각하는 동료에게 뭐라고 할 것인가 답변: 이직을 생각하는 동료에게 뭐라고 할 것인가 라고 말씀을 해 주셨는데요. 아 한 번쯤 잘 생각해 보라고 일단은 조언을 해 줄 것이고 그리고 또 이직을 생각 생각했다 라고 한다면 지금 직장보다는 더 나은 곳으로 갈려고 하기 때문에 격려도 해줄 것 같습니다. 그리고 그 동료가 잘 됐으면 좋겠고 또 어디 가서든지 인정 받았으면 좋겠고 그 동료가 하는 그 일 그 자리에서 그 동료도 어 최고의 어 자리가 그 최고의 그 인재가 되기를 바라고 됐으면 좋겠고 그리고 어 잘 됐으면 좋겠습니다. 잘 됐으면 좋겠고 어 화이팅 하라고 제가 어 그 그 축복의 에너지를 어 보내고 싶습니다. 어 그리고 저도 만약에 어 더 좋은 자리가 있다 라고 생각하면 저도 한 번쯤은 생각해 보지 않을까 라는 그런 생각도 합니다. 어 잘 생각해보겠습니다 이상입니다. 감사합니다. \n",
            "직무: 공공 경력상태: 신입직 질문: 지원 직무 생각하는 동가 지원라고 말씀까요변: 이직을 생각하는 동에게 뭐라고 말씀 것인가요. 물어을 하 주셨는데요. 어 네 번 생각해은 생각해 보셨 말씀단은 그 해 보 것요. 그 그직을 생각하는했을했을으면 라는 하면 어 현재도 다른 나은 미래를 가 수 하는 때문에 어를 해주고 것이고 같습니다. 아 또 동료가 이 할을 좋겠고 또 그서도 잘도으면 좋겠고요. 동료가 잘 일이 일이들이 일이 최 동료가 잘 잘 디자이너 최고의 될 동료 자리에 자리에재가 될 바라고 또으면 좋겠습니다.요. 또 그 됐으면 좋겠고 아 됐으면 좋겠고요. 잘이팅을라고 얘 말씀 응 동료 동료구를 말을 쏟 좀 싶습니다.  그리고 또도 그에 그 이 좋은 곳으로 있다면 라고 하면 어도 그 번 더은 어 볼 않을까요. 생각을 생각을도  아 저 됐 봐라고습니다.다 라고입니다. 합니다. \n",
            "직무: 디자인 경력상태: 경력직 질문: 최근 유망하게 뜨는 기업들이 있습니다. 당신은 어 전공을 불문하고 지금 제일 가고 싶은 회사는 어떤 분야이고 왜 그 회사를 가고 싶은지 그 이유를 말씀해 주십시오. 답변: 제 지금 제일 가고 싶은 회사는 이라고 질문을 주셨는데요. 어 우선은 지금 제가 지원한 이 회사가 가 가고 싶었기 때문에 여기를 지원을 하게 됐구요. 또 복지도 좋고 또 연봉 체계도 좋고 그리고 일단은 내가 하고 싶은 일을 할 수 있는 어 그런 배려를 많이 해줘서 해줄 수 있는 회사고 그리고 또 해외 지사도 많고 제 저에게는 이곳에 이곳에 합격을 해 주신다라고 하면 제가 해 하고 싶은 일은 참 많을 것 같고 해낼 수 있는 일들도 참 많을 것 같습니다. 음 그래서 저는 이 회사가 어 제일 좋습니다. 그리고 이곳에서 꼭 어 일하고 싶고 이곳에서 제가 인정받고 싶고 또 이곳에서 어 외국 지사도 꼭 가보고 싶고 그렇게 많은 그 잘하고 싶습니다 . 저를 선택해 주신다면 정말로 감사를 드리겠습니다. 감사합니다. 이상입니다. \n",
            "직무: 공공 경력상태: 신입직 질문: 지원 디자인튜하다고 떠오르는 아이 있 그신은 유 유 살 유 유 유 싶은 회사가 어떤 회사인가 왜 그 회사를 가고 싶은지 그 이유를 말씀해 주세십시오 답 답변: 제가 전공 유 가고 싶은 회사는 어쪽 생각 주셨는데요. 어 저 제가 제가 제가 하고한 이 회사가 어고자 싶은습니다. 때문에 어태 가고 하게 됐습니다.요. 어 제가지가 굉 어 어도도 좋고 또 어단은 제가 이 싶은 일을 할 수 있는 그런 그런 환경이심이 좀 해주고서 어줄 수 있는 그런라고 또 또 제가에서도사가 많이 또 이의 어 대한 어격을 해서 가지고신다면 라고 하면 어 이줄 싶은 일을 어 좋 것 같 또보고 수 있는 일이이고 많을 많을 것 같습니다. 그래서 제가 제가는 이 회사에 저 제가 가고아서 어 또 일을 일을 일을 싶고 또 꼭 하고 또고 어 제가 어 제가인과사로 많이 가고보고 싶습니다. 또 해서 사람들이 기회를 해 싶은습니다.다 라고그래는 뽑아해 주신다면 저말로 감사 드겠습니다. 합니다. 입니다. \n",
            "직무: 디자인 경력상태: 경력직 질문: 입사했는데 원하는 선배의 모습이 어떤 선배의 모습일까 생각해보셨나요 무엇이 무엇이라고 생각하십니까 답변: 입사해서 원하는 선배의 모 모습이 무엇인가요 어 라고 질문을 해주셨는데요. 입사해서 원하는 선배의 모습이라는 것은 일단은 의사소통이 잘되고 어 그리고 어 지하 직원들에게는 어 그 뭐 배려와 어떤 이해심이 있다라면 더 좋겠구요. 독설적이고 어 그 그 박박한 성격인 보다 어 그런거보다 어 화합하고 어 상생하고 어 한 가족 같은 그런 모습을 가졌더라면은 더 좋을 것 같고 이것이 욕심이라면은 제가 또 적응을 해야 되겠지만 기왕이면 한 식구다 보니까 이미 한 식구가 됐다 보니까 그런 분들과 같이 일을 하면 더 좋을 것 같습니다. 기왕이면 선배님이니까 그렇 그 중에서도 또 저도 또 그렇게 노력할 것입니다, 이상입니다. 감사합니다. \n",
            "직무: 공공 경력상태: 신입직 질문: 지원 후에 업무 디자배의 모습이 있 모습배의 모습인지까요 보셨나요 답든인 생각하는하시는니까 답변: 제가 후 원하는 선배의 모습은임이 있다면요. 라고 제가 이렇게 하셨는데요. 어 후에 원하는 선배의 모습은이라고 것은 어단은 제가통이 잘 되는 어 좀 어 좀철에으로서 어 좀분 어하는 어 그심이 좀 라고 어 좋을겠지만요. 어선가 어 좀까까식 그런이라 것 좀 좀 어랑 어 좀하고 어 좀부상하는 어 서로 발 같은 그런 선 어졌으면라면구 어 좋 것 같요. 저심이이라고던 어 뭐 어을 잘 될겠지만 어분면 어 번구 한 보니까 어지가 식구 된고 보니까 어 부분들이도 어 할 더 좋을 것 같고습니다. 어왕이면 어님랑 어다분 어 어랑 한 그런 어해서 것 같고니다 어입니다. 합니다. \n",
            "직무: 디자인 경력상태: 경력직 질문: 본인은 리더형인지 아니면 팔로워 형인지 설명해 주세요 답변: 본인은 리더형인지 팔로우 형인지 설명하세요 라고 하셨는데요. 저는 장담 있게 저는 리더형이라고 말할 수 있습니다. 저는 대충 대충 대충 대충 하는 거를 못 봅니다. 어 어떤 일이든 무슨 일이든 누구든 간에 대충 대충이 아니라 항상 어 최선 최선으로 해야 되고 우선으로 해야 되고 그리고 꼭 해 해 내야 되고 해결이 돼야 되고 라는 어떤 그런 성격이 있다 보니 어 저는 리더형이라고 말할 수 있겠습니다. 하지만 뭐 잘난 척을 하던가 잘난 체를 하던가 그런 거는 아닙니다. 하지만 어떤 조직이든 간에 어떤 어 그 지인이든 간에 그냥 어 어 불 불목 불목하고 불목하고 서로 의견 충돌하고 그런 거를 저는 못 봅니다. 항상 중간에서 그런 것들을 이해시키고 납득시키고 설득시켜서 꼭 해결하고 화합하게 만드는 그런 성격입니다. 그리고 항상 긍정적이고 감사하고 어 행복해 한 성격입니다. 감사합니다. \n",
            "직무: 공공 경력상태: 신입직 질문: 지원인은 팀형과인지 팔 팔로워형인지 궁금 주요 답변: 저인은 리더형인지 팔로워 형인지 물어 부탁셨요. 라고 질셨는데요. 저는 리더녀할 말씀의 리더형에이라고 말씀 수 있습니다. 어는 리더학교를 어떤충 하는충 하는충 하는 편은를 좋아합니다.봤니다. 왜냐하면 저 일을든 제가 일이든 제가든 간에 저충하는충 되는면 대 대선을 다선을 대 된다고 어순 해야 되는 어 그 해야내내 되는 그리고해야 돼야 되고 그리고 그런 책임 책임 있습니다. 보니까 리더는 리더형이라고 말할 수 있습니다.습니다.  저 리더 모르겠 척하거나 하거나 아니면 아니면난 척질을 하던가 이런 거를 저니다. 어 저 일을든 어떤 저 조직이 어떤 조직적을든 간에 저 그 리더 리더쌍쌍불의를불 불의를불 불 불 충돌이이나 어 거를 잘는 잘 참봅니다. 그래서 불에서 어 거 잘하려고 어득이하고 어하고 어 해해야 어하고 하는 그런 리더이기  저 어적이고 어하고 어 그리고하고 하는 번이기 합니다. \n",
            "직무: 디자인 경력상태: 경력직 질문: 공동체로서 무형 문화유산의 보호에 있어 적용되는 사회적 관념은 무엇이라 생각하나요 답변: 개성과 전통이 어우러져서 그 가치를 알아보고 보존하는 것이라고 생각합니다. 그 무형으로서의 그 문화유산을 보호하고 지정해서 보호한다는 것 자체가 어쨌든 그것들이 지니고 있는 가치나 개성을 잃지 않고자 하는 마음이라고 생각하고 있어요. 그래서 우리가 그것들을 어쩌면 개인의 시작일 수도 있었겠지만 우리가 이것을 다 같이 지켜주자 라는 의미가 녹아있는 거라고 생각이 들고 그것들이 분명히 후대에도 가치가 있을 거고 우리 외에 다른 공동체에서 봤을 때도 아 이것은 정말 뛰어나다 라고 느낄 수 있게끔 하기 위해서 하는 것이라고 생각이 들기 때문에 우리는 그거를 지켜야 할 의무가 있고 그 가치를 알아볼 수 있어야 한다고 생각을 하고 있습니다. 그리고 그러한 시선은 어쨌든 그 개성과 그것을 지키고자 하는 마음이 같이 공존해야 한다고 생각합니다. \n",
            "직무: 공공 경력상태: 신입직 질문: 지원 가치에 무형문화산의 보호에 있어 적용되는 사회적 관념은 무엇이라고 생각하요 답변: 무개인의 다양 있는러져서 무 무 실현가는자 것은 생각합니다. 무 무형 문화유 문화유 가치를산은 보호 보존하고 보존해야 것은 자체가 그 그들을 우리 있는 가치이기 그 존중 않고 보존 하는 것이기에서 생각요.요. 그래서 그 그들을 보존 그 어떤이라고 수도 있고겠지만 그 그것을 보존 보존 공유나가 라는 마음 아니라들어 것잖 생각 요.들을 우리 우리에도 계승 있고 거라고 또도 다른 사람들도들도 우리가봤을 때 그 이 우리 우리다 라는 생각 수 있는끔 만들어 위해서 보존 것이라고 생각  때문에 무 그것을 무 보호 된 의무가 있다고 그것을거를 지켜 수 있는 한다고 생각 합니다. 있습니다.  그 것들이야를 그 그 무성과 전통이 보존려는 하는 마음 있어야 공존해서 한다고 생각합니다. \n",
            "직무: 디자인 경력상태: 경력직 질문: 오늘 면접 준비하느라 고생 많이 하셨을 텐데 면접자님은 어떤 방식으로 면접을 준비하셨는지 말씀해 주실 수 있나요 답변: 저는 어 사람들과 어떤 소통을 하는 걸 좋아합니다. 그래서 제가 지금 뭐 작은 점포를 운영하면서 자영업을 하고 있는데요. 그 자영업을 하면서 제가 예술 분야와 연결시켜서 할 수 있는 그런 능력들을 키워나갈려고 상당히 부단하고 부단하게 노력했습니다. 예술 분야는 저의 삶을 특히 정서적인 부분을 고무시키고 저의 삶을 윤택하게 하는 그리고 저의 어떤 어 마음가짐의 변화에 상당히 도움을 주는 힘을 주는 원천이 되기도 합니다. 그리고 이런 것들에 대한 어 이 예술 분야와 저의 지금 갖고 있는 직업 지금 제가 하고 있는 어 건강에 관련된 그리고 채소를 주제로 한 그런 삶을 윤택하게 하는 건강한 음료하고 연관시켜서 모든 부분을 창의적으로 개발하고 설계하며 노력해 왔습니다. 끊임없이 주변 어 소비자들에게 만족도를 어 조사하고 거기에 대한 피드백을 탄탄히 하여 기록해 왔습니다. \n",
            "직무: 공공 경력상태: 신입직 질문: 지원 면접 준비하느라 고생 많이 하셨습니 텐데요을님 어떤 방식으로 오늘을 준비하셨는지 말씀해 주실 수 있나요 답변: 네는 면접 면접의 대화를통을 할 데 좋아합니다. 어 어 어떤 면접 면접 모임심 하나하 어영업업을 하고 있는데요. 어 가게영업을 하면서 어 어 쪽와 관련된이 어 수 있는 그런 어들을 많이왔 수 노력을 노력을단히하게 노력을단한하게 노력을했습니다. 그래서 분야 제가는 어떤 굉나적으로 부분에 많이적으로 또의 삶을 풍요택하게 만들어 그런 저의 삶을 어 어떤가짐을과 변화를 대해서 민감 많이 분야 가지고 분야천이 되는 합니다. 그래서 또 부분들에 대해서 어떤 저 면접 분야와 관련된의 어떤 이 있는 어떤에 가지고 가지고 있는 이 이 대한 부분 저 재배하는 해서 그런 어 어택하게 하는 그런 삶을나 그리고돼 어 사람들에게 어적으로 어 어하는 어할 보는습니다.  새로운 사람들과 사람들과자들에게 어을 높이고 높이고하고 또 대한 피드백을 받고탄하게 해서 놓는습니다. \n",
            "직무: 디자인 경력상태: 경력직 질문: 커뮤니케이션을 잘할 수 있는 본인만의 스킬이 있으신가요 있다면 한번 소개해 주시겠어요 직접 한번 보여주셔도 좋습니다 답변: 저는 어 상대방과 커뮤니케이션 즉 의사소통을 할 때 서로 말 그대로 소통에 집중합니다. 소통이라 함은 저의 의사와 상대방의 의사를 서로 주고받는 것인데요. 저의 의사만을 고집하거나 상대방이 상대방의 고집만 고집을 굽히지 않을 때는 이런 소통이 어렵다고 생각합니다. 따라서 이렇게 갈등이 빚어질 수도 있고 소통이 원활하지 않을 수 있는데요. 이럴 때는 어 우선은 상대방이 무슨 말을 하는지 그 상대방의 말에 경청을 합니다. 경청을 해서 상대방이 가장 중요하게 생각하는 부분을 어 도출해 내구요. 그 으 상대방이 중요하게 생각하는 부분에 대해서 다시 한번 확인을 한 다음에 그 확인이 맞다면 상대방의 입장을 공감하고 공감을 형성할 수 있는 그리고 같은 편으로서 어 공 교 교 교감 할 수 있는 그런 것들을 서로 주고받습니다. 그렇게 서로 분위기가 어 좀 유연해지면 서로에게 서로의 주장을 하면서도 어느 정도 상대방의 의견을 어 들어 줄 수 있는 그런 공간을 만들어서 서로 소통할 수 있는 기회를 확보합니다. \n",
            "직무: 공공 경력상태: 신입직 질문: 지원을 잘 할 수 있는 지원만의 스킬이 있다면으신가요 있다면 한번 소개해 주길습니까요 직접 한번 보여주셔도 좋습니다 답변: 커뮤니케이션는 커뮤니케이션 커뮤니케이션방과 커뮤니케이션을 커뮤니케이션통을 잘 때 어 간에하기 경통을 대한을 어이라는 하면 서로희가 말을 상대방의 의사를 존중 교환 것이요. 저는 의사만 일방적으로하는 상대방의 원하는 의사를이나 고집집을 한다면 않는다면 경우에는 저 커뮤니케이션통이 잘습니다. 생각합니다. 그래서 저 소 있는졌을 때는 있는 서로통이 잘하지 않을 수도 있습니다.요. 저럴 때는 저 상대방의 상대방의 상대방의 어떤 말을 하는지 상대방의 사람의 의사를 귀를청 합니다. 그리고청을 하고 상대방의 원하는 원하는 생각하는 것이 먼저 얘해 낼요. 그러면 다음에 그 원하는 생각하는 부분을 대해서 제가 한 생각을 합니다. 번 그 부분에신을 된다면 그 말을 고려해해 그 해 수 있는 그런 상대방의 말을이라고 어 서로감의감을감을하는 수 있는 그런 어 어 공유습니다. 그렇게 되면 소 좋아 좋아 좋아해지고 어 소 어 의견을 어 어 정도 어 의견을 존중 수용줄 수 있는 그런 상황이 마련 서로가하는 수 있는 그런 많이합니다. \n",
            "직무: 디자인 경력상태: 경력직 질문: 대학 생활 가장 힘들었던 경험은 무엇인가요 답변: 어 대학 생활 중에서 가장 힘들었던 경험은 무엇인가요 라고 하셨는데요. 저는 방송통신대학교를 나와서 그 사람을 직접 만나서 이렇게 커뮤니케이션이 돼야지만 더 이해력도 되고 더 빨리 습득이 될 텐데 방송으로 공부를 하다 보니까 음 약간 그 질문도 할 수 없고 이해성이 떨어지는 바람에 조금 그런 면이 어려웠었다라고 생각을 합니다. 어 시간이 난다면 공개 강의 같은 것 어 이런 것들이 큰 도움이 될 거라고 생각을 하는데 원체 지금 삶 속에서 시간이 없기 때문에 그 없는 시간을 쪼개서 그리고 나름대로 공부를 하고 있는 거기 때문에 그 방송을 통해서 공부를 하지만 그렇지만 그것이 힘들다 라고 생각을 합니다. 그래서 그냥 일반 대학교 다니는 게 참 좋다고 생각합니다. 그리고 부럽습니다. 그리고 나중에는 꼭 다닐 겁니다. 네 감사합니다. \n",
            "직무: 공공 경력상태: 신입직 질문: 지원 생활을 중 힘들었던 경험은 무엇인가요 또한변: 대학 대학 생활을 가장 가장 힘들었던 경험은 어요 그리고 말씀셨는데요. 어는 대학통신대학교 나왔서 방송 방송 만나 만나서 인터 인터을 안서 되는이 좋은도가 더 더 좋은 더할 될 수데요.통신 사람을 하다 보니까 어 그 그 사람의 자체가 많고 수 있고 어력도 좀 그런 어 힘들 부분이 좀습니다.습니다. 라고 말씀 합니다. 그래서 그래서 지나고다면 그때적인도 것도 같은 그런 것도 있을 도움이 될 것라고 생각을 하는데요.하 어 제가에서 어 많이 때문에 어 시간을 시간 어떻게서라도 또 시간을 해야 또 상황 때문에 어 시간을 통해서 어 하고 그 그 또다 라고 하 하고 어 그 그인들이에 것 아니라 힘들 생각을합니다.  또끄럽습니다.  또 어 방송 수니다.  그합니다. \n",
            "직무: 디자인 경력상태: 경력직 질문: 본인이 하고 싶은 업무가 있다면 어떤 것이 있을까요 답변: 본인이 하고 싶은 업무가 있다면 말씀해 보세요 라고 질문을 주셨는데요. 음 내가 하고 싶은 일은 어 저는 성격이 음 저 어 긍정적인 사람이다 보니깐 어 더 사람들의 심리 파악을 잘하고 사람들의 마음을 잘 읽어서 어 그 마음이 전달을 잘하고 있습니다. 그래서 어 제가 어떤 그 사 상담 사 심리 심리학 상담 뭐 이런 업무를 한다라면 저는 잘 할 것 같습니다. 어 사람들의 심리 어 심리 테스트 어 심리 연구 뭐 이런 것들을 잘 하기 때문에 저한테는 그 업무가 어 맞다 라고 생각합니다. 혹시 만약에 저한테 그런 업무가 주어진다면 저는 어 정말로 재미있게 어 열심히 잘 할 것 같습니다. 그래서 꼭 저한테 그런 업무가 주어지기를 간절히 바랍니다. 이상입니다. 감사합니다. \n",
            "직무: 공공 경력상태: 신입직 질문: 지원 직접 싶은 직무 있 왜 업무 좋까요 답변: 제가 하고 싶은 업무가 있다면 저을 주겠요. 라고 질 주셨는데요. 어 제가 하고 싶은 업무는 어 제가는 어 굉 좀랑 좀 마인기 보니까 어 좀 긍정 마음을나을 잘 할 어 어 잘 헤아어서 어 좀 사람의 어이 잘 할 어 그래서 어 저 하고 일을 어안에이나 상담 상담 쪽사 이런 쪽에 하고 라고 어는 어 할 수 같습니다. 어 왜냐하면 마음을 파악 파악 파악스트를도 이런 상담 이런 이런 것들을 잘 할 때문에 어는테는 어게 어 저다고 라고 생각을합니다. 어시라도에 제가한테 어 업무를 주어다면 어는 어 좀말로 어있게 어 일을 어 할 것 같습니다. 어 어 제가한테 어 업무를 주어진졌 바절히 바랍니다. 입니다. 합니다. \n",
            "직무: 디자인 경력상태: 경력직 질문: 업무 시 분쟁이 발생했을 때 본인만의 대처법이 있나 답변: 업무 시 분쟁이 발생 했을 때 본인만의 대처법이 있나요 라고 말씀을 해 주셨는데요. 업무를 하다 보면 의견이 안 맞고 또한 의견이 안 맞다 보면 분쟁이 일어나게 되어 있습니다. 어 무슨 일을 하든 간에 어 그 일에 있어서 의견이 안 맞는다면 상대방을 잘 이해를 시키고 설득을 시키고 어 그리고 어 알아들을 수 있게 혹시 혹시 입장이 내 입장이라면 한 번쯤은 어 이렇게 생각해볼 수 있지 않겠나 라는 어떤 그 이해력을 가지고 이해를 시켜서 어 화해를 하고 어 그래서 더 돈독하고 가까운 그런 어 그 사이가 될 수 있도록 저는 중간에서 중간 역할을 잘 할 것이고 음 그래서 어 이 내가 하고 있는 이 업무를 어 조금 더 발전시키는 데 공헌하는 데 이바지가 되도록 저는 그렇게 최선을 다할 것입니다. 감사합니다. 이상입니다. \n",
            "직무: 공공 경력상태: 신입직 질문: 지원 중에 분쟁이 발생할 때를 지원만의 대처법이 있으요변: 업무시 분쟁이 발생했을한다면 때 저만의 대처법이 있다면나요 있다면 질을 하 주셨는데요. 어 하다 보면 분쟁이 다를 맞 또 그 안 맞아서 라고은 발생할 되는 있습니다. 그래서 저 일이 하든 간에 그 저 분쟁이 대해서 어 안 맞다은 설득 설득 하고고 또을 시키고 어 그 그 그들을 수 있도록끔시라도시라도 안 입장인지 어 번 더은 어 그 어 보 수 있는 않을까습니까 라는 생각을 그런 생각을의 좀 어 시키서 어 그해를 시키 어 그 그 좋은독하게 어 사이가 관계를 그런 관계를 될 수 있도록 어는 노력을에서 어에서 하는 하고 수요. 그 어 분쟁이 분쟁이 이 있는 일이 일이 잘 잘 더 잘 데 있어서할 그런 어 일을지를 될 하겠는 노력을 노력을선을 다할 것입니다. 합니다. 입니다. \n",
            "직무: 디자인 경력상태: 경력직 질문: 일을 하시면서 여러 가지 갈등 상황을 겪어보셨을 텐데요 만약 구성원들과 갈등을 겪게 됐을 때 어떻게 해결을 하실 건가요 답변: 조직에서의 갈등은 일상입니다. 다른 사람들이 모여 일을 하다 보면 갈등이라는 것은 갈등은 수시로 발생하며 그 형태도 다양합니다. 갈등은 좋다 나쁘다를 논하는 것보다 발생한 갈등으로 인해 불필요한 에너지를 사용을 하고 자원을 사용하는 상황들이 발생할 수 있기 때문입니다. 그래서 미연에 방지하는 것이 필요합니다. 문제는 이런 갈등을 사전에 방지하는 것이 쉽지 않은데요. 갈등을 해결하지 않거나 관리하지 않게 된다면 그것은 점점 증폭되어 구성원들의 조직적 목적보다 갈등 그 자체에 대한 더욱 염려이기 때문에 조직의 성장은 멈추게 되어 있습니다. 그래서 조직에서 갈등이 발생하면 비 온 뒤에 땅이 굳는다는 말처럼 더 단단한 관계를 발전시키는 시간이 필요하다는 것을 잊지 않는 것이 가장 중요합니다. 갈등은 크게 업무 갈등과 관계 갈등으로 나눌 수 있는데요. 업무 갈등은 말을 통 일을 통해 성과를 내고 변화를 위해서 꼭 필요한 갈등이라고 합니다. 관계 갈등은 구성원 간의 정서적인 이슈가 연결되어 협업의 장애가 될 수 있습니다. 사례 속에 최대리와 김대리는 어떤 갈등을 겪고 있는지 한번 이야기해 보겠습니다. 꼭 중재를 해야 하나 물어보실 수도 있지만 지금 상황에서는 해주셔야 합니다. 왜냐하면 다른 한 사람이 그 갈등에 대해서 요청을 원했기 때문에 요청을 할\n",
            "직무: 공공 경력상태: 신입직 질문: 지원 하게 가장 가지 어려운 상황이 마주으 보셨을 텐데요 그에들과 갈등이 겪게 된을 때 지원 해결 하셨지가요 답변: 어 내에서 갈등은 어 생활에서 조직 사람과 함께있는 하는다 보면 갈등이 상황이 것은 피할 피할 생길합니다. 그 갈등의 다양합니다. 예를 항상든 나쁘다 떠나서할 것이 그 원인에에 인한 발생한 오 소모 하거나 그 낭비 경우가입니다. 많 수 있습니다. 때문에입니다. 저 저연에 방지하기 것이 가장합니다.  서로 경우 미 방지하기 것이 가장 않데요. 예를 예방하려면 않고 미하지 않는다면 되면다면 그 회사 더되어서들 불만이 생활에 갈등이성에 더으로 자체를만 책임을 큰와 때문 저 목표를과로 더게 됩 있습니다. 그래서 저 갈등이 발생했을 그생산다는 땅이 굳는 속담이처럼 비 큰 조직으로 만들어 것이 필요 것을 알게 말아야 것이 중요 중요하다고합니다.  서로 두적인 업무적인으로 나눌 수 있습니다.요. 업무 갈등은 업무 하지하거나 하는 해결 만들어 성과를 꾀 서로 필요한 과정입니다. 생각  갈등은 서로 간의 갈등적인 문제가 아니라서업을 결과로 되기도 수 있습니다. 그렇기로 있는 갈등 최대리는 갈등을 갈등을 겪 있었 그 생각해해 보겠습니다.  해결재를 해야 하는 아니면보겠 수 있 중 당장에서는 중실야 할  중 구성원 사람의 중 갈등을에 대해 책임을 하고하고 때문 그 하는 수\n"
          ]
        },
        {
          "name": "stderr",
          "output_type": "stream",
          "text": [
            "Validation Epoch 2: 100%|██████████| 502/502 [04:19<00:00,  1.93it/s, loss=2.3250]\n"
          ]
        },
        {
          "name": "stdout",
          "output_type": "stream",
          "text": [
            "calculating scores...\n",
            "computing bert embedding.\n"
          ]
        },
        {
          "data": {
            "application/vnd.jupyter.widget-view+json": {
              "model_id": "467115830c5044958bec226d868f1dcd",
              "version_major": 2,
              "version_minor": 0
            },
            "text/plain": [
              "  0%|          | 0/251 [00:00<?, ?it/s]"
            ]
          },
          "metadata": {},
          "output_type": "display_data"
        },
        {
          "name": "stdout",
          "output_type": "stream",
          "text": [
            "computing greedy matching.\n"
          ]
        },
        {
          "data": {
            "application/vnd.jupyter.widget-view+json": {
              "model_id": "440185394a1240ebb2b8865b2c6a3158",
              "version_major": 2,
              "version_minor": 0
            },
            "text/plain": [
              "  0%|          | 0/126 [00:00<?, ?it/s]"
            ]
          },
          "metadata": {},
          "output_type": "display_data"
        },
        {
          "name": "stdout",
          "output_type": "stream",
          "text": [
            "done in 295.05 seconds, 27.20 sentences/sec\n",
            "Epoch 2 Average Validation Loss: 2.1438\n",
            "Epoch 2 Average Validation BLEU: 1.0808\n",
            "Epoch 2 Average Validation ROUGE: {'rouge1': 0.36888556371655756, 'rouge2': 0.11201027214611432, 'rougeL': 0.29523582738445275}\n",
            "Epoch 2 BERTScore Precision: 0.7868\n",
            "Epoch 2 BERTScore Recall: 0.7764\n",
            "Epoch 2 BERTScore F1: 0.7816\n",
            "Saving best model with validation loss: 2.1438\n"
          ]
        },
        {
          "name": "stderr",
          "output_type": "stream",
          "text": [
            "Training Epoch 3: 100%|██████████| 4255/4255 [1:35:32<00:00,  1.35s/it, loss=2.0134]\n"
          ]
        },
        {
          "name": "stdout",
          "output_type": "stream",
          "text": [
            "\n",
            "Epoch 3 Average Training Loss: 2.1004\n"
          ]
        },
        {
          "name": "stderr",
          "output_type": "stream",
          "text": [
            "Validation Epoch 3:   0%|          | 1/502 [00:00<04:48,  1.74it/s, loss=2.3334]"
          ]
        },
        {
          "name": "stdout",
          "output_type": "stream",
          "text": [
            "직무: 디자인 경력상태: 경력직 질문: 타 부서와 갈등 상황이 생겼을 때 어떻게 해결하겠는가요 답변: 음 타 부서와 갈등 상황이 생겼을 때 어떻게 해결하겠는가 라고 말씀해주셨는데요. 살다 보면 우리가 부딪치지 않는 일은 없을 것 같습니다. 항상 부딪치고 해결하고 또 살아가고 또 부딪치고 해결하고 또 살아가고 하는 것들이 이 인생인 것 같고 삶인데 타 부서와 갈등 상황이 생겼을 때는 일단 어떤 것이 잘잘못인가를 일단은 어 판단을 해야 될 것이고 그리고 내가 잘못한 일이 있다라면 정중하게 사과하고 미안하다 하고 미안하다 라고 하고 그리고 금방 화해를 할 것 같습니다 .하지만 상대방이 잘못된 일이 있다라고 하면 꼭 그것은 그 이해를 시키고 납득을 시키고 그리고 잘못된 부분은 이런 이렇게 잘못된 부분은 고쳐 나갈 수 있는 거 바꿔 나갈 수 있는 거 이런 거를 유도하고 그래서 그렇게 할 것 같습니다. 그 잘 뭐든지 잘 해결하고 그렇게 살 살아 갑니다 제 성격이. 감사합니다. \n",
            "직무: 공공 경력상태: 신입직 질문: 지원 부서와 갈등 상황이 발생 때 어떻게 해결하습니까요 상황을변: 네 타 부서와 갈등 상황이 생긴 때 어 해결하겠냐 라고 질문을을셨는데요. 어 보면은 갈등치는 않는 일이 없 거 같습니다. 왜냐하면 부딪치는 부딪해야 부딪 부딪야 있는데 부딪치는 또하고 이런 부딪고 있는데 그런 있는데게에서 것 같요.인요. 부서와 갈등 상황이 생긴 때 어 그 부분이 가장 풀못인지 먼저단은 잘 따져 해야 될 것요. 그 잘못한 것이 있다면 라고 어하게 사하고 어안하다 라고 사안하다 하고 하는 어 어방 해결해를 하고 것 같습니다.다 라고그리고 그 잘못 부분이 있다면 라고 하면 그 사 사 사람의 하고고 또득을 시키고 또 그 것이 어 식으로 해결해 부분을 이렇게서 수 있도록 그런를 나갈 수 있는 거를 것들을를 먼저해서 또 그 해결을 것 같습니다. 게잘 잘 잘 해결하고 또 해서면왔니다.다 라고 인생. 합니다. \n",
            "직무: 디자인 경력상태: 경력직 질문: 지금까지 인생을 살면서 가장 후회되는 일이 무엇이었는지 한 가지만 말씀해 주실 수 있습니까 답변: 저는 성격이 긍정적이라서 조금 후회하는 걸 별로 많이 느껴보지 못했는데요. 그래도 그중에서 하나 아쉬운 부분을 꼽자면 제가 대학교 사 학년 쯤 취업 준비를 할 때 다른 친구들에 비해서 좀 스스로 취업 준비가 잘 안되고 있다고 판단을 했던 것 같습니다. 그래서 부모님께 예민하게 굴었던 적이 좀 후회가 되는데요. 그건 나중에 스스로도 충분히 깨달았던 부분이라 부모님께 자리를 마련해서 너무 철없이 굴었던 것 같다고 죄송하다는 말씀을 함께 드리면서 어 용서를 구했던 경험이 가장 기억에 남습니다. \n",
            "직무: 공공 경력상태: 신입직 질문: 지원 살아 살면서 가장 후회되는 일이 있다면이었습니까 한 가지만 골라해 주세실 수 있으 답변: 네는 인생을 좀입니다.서 어 더되는 일이 많이 좋아 하는본 않았합니다.요. 어 제가 가장 골라운 게 말씀자면 어 고등학교 때 학년 때쯤에 됐 준비를 하면서 때 어 친구들이 비해 제가 늦게 많이 준비를 좀 되어 됐 좀 느꼈 해서 것 같습니다. 그래서 저님께 말씀하게 좀기도 것 있었는데 많이회가 됩요. 그때 친구 제가 제가 좀 좀 인지았 부분이고서님께도 마련해서 취업 힘들두 살았던던 것 같 생각이송하다고 말씀을 드 드겠 좀 좀기가 빌했 것 있습니다. 후회에 남습니다. \n",
            "직무: 디자인 경력상태: 경력직 질문: 팀으로 일하는 것이 있구요 혼자 일하는 것이 있다면 그 둘 중에 내가 팀이 맞는지 혼자 일하는 게 맞는지 어느 것을 선호하는지 말씀해 보세요 답변: 팀으로 일하는 것과 혼자 일하는 것 중 어느 것을 선호하는가 라고 질문을 해 주셨는데요. 팀으로 일하는 것은 여러 사람들의 의견과 하나가 되 되고 유치를 해야 되고 또 그 어 팀 웍이라는 조직을 조직이 있어야 하지만 혼자는 누구하고 의견 충돌이 있 있 음 안 일어나도 되고 나만의 개성을 살려서 어 얼마든지 어 혼자 하는 것을 혼자 하는 것이 더 어 좋다 라고 저는 생각하지만 언제까지 혼자 일할 수는 없는 것입니다. 어 언제까지 혼자 일할 수 없기 때문에 저는 팀원으로서 또 이 조직으로서 일을 하는 것을 더 선호하고 어 같은 조합과 조직 그 배합을 서로 간에 배합을 잘 맞춰서 그렇게 이끌어 나갈 것 같습니다. 그래서 팀으로 일하는 것과 혼자 일하는 것 즉 어느 것을 선호하는가는 저는 팀으로 일하는 것을 어 선택할 것 같습니다. 그리고 어 그들에게도 또 희망을 불어넣어줘서 희망을 갖게 할 것입니다. 감사합니다. \n",
            "직무: 공공 경력상태: 신입직 질문: 지원으로 일하는 것과 더습니요 혼자 일하는 것이 있 팀 둘 중에서 어떤 더 더을 팀 일하는 것이 맞는지 그 쪽이 더하는지 그해 주세요 답변: 저으로 일하는 것과 혼자 일하는 것 중 저 것을 더지에요 말씀 하 주셨는데요. 어으로 일하는 것과 어 사람이 의견을과 의견을 돼다 또관 해야 하는 또 팀 안에서 팀으로웍이 것이 통해서 잘지 그자가 할 하나도 충돌이 있을잖잖 안 되야 되는 어 혼자 의견을 가지고릴 어 팀든지 어 팀 하는 것보다 어 하는 것을 더 좋다고 좋은다 라고 생각을는 생각을합니다. 팀 어디나 하는 수 없 것 어 팀까지 팀 할 수 있는 때문에 어는 팀으로 어 팀 팀 안에서 어 할 것이 선호 선호 어 팀 팀으로 같은 안에서 안에서합을 통해서 잘 어합을 해서 해서서 어 일을 갈 수 같습니다.  저으로 일하는 것이 혼자 일하는 것 중에 팀 것을 더가 어는 뭐으로 일하는 것이 더 더 것 같습니다.  팀 팀 어 어 어 줄어 줄야 어 줄 하고 수 합니다. \n",
            "직무: 디자인 경력상태: 경력직 질문: 만약 자신이 게임 속에 있다면 어떤 역할을 할 것인가 답변: 만약 자신이 게임 속에 있다면 어떤 역할을 할 것인가 말씀해 보시겠습니까 라고 질문을 주셨는데요. 저라면 게임 속에서 저는 음 유명한 어 씨이오가 한 번쯤은 되보고 싶습니다. 그 씨이오가 된다는 것은 음 씨이오 가 된다는 것은 어떤 그 리더 리더로서의 자격이 있어야 되고 그 씨이오가 된다는 것은 음 그 어떤 자질에 또 문제가 있을 것이고 어 그리고 그 그 씨 자기 자신만의 어 자기 자신만의 어떤 특성 특성과 어떤 개성적인 어떤 그런 그 노하우 어 노하우 같은 걸 가지고 어 참 이렇게 좋은 그 어 대표가 될 것 같습니다. 어 나는 제가 그런 대표가 한 번쯤은 되보고 싶은 그런 역할을 해보고 싶습니다. 단지 게임 속이지만 게임 속에서라도 그런 걸 해보고 싶습니다. 감사합니다. 이상입니다. \n",
            "직무: 공공 경력상태: 신입직 질문: 지원 지원 하고 속 캐릭 어떤 게임 맡 수요변: 네에 게임 속 있다면 어떤 역할을 맡 것인가요.해 주세세겠습니까. 질 하셨는데요. 어는 어 속 어떤는 어 어 캐릭 캐릭피 역할을 되고 역할을 어은 해겠 싶습니다. 어분은이오가 한 것은 어 뭐이오가 돼 것은 어 게임 게임가가 역할을 있는 되고 어 리더이오가 돼 것은 어 그 리더 그질이 대한 어 있다고 수 어 그런 그 씨 리더이오 자신의 어떤 그런만의 어 어이나 어 그 그런 그런 어 어하 이런 그런하 이런 것들이 가지고 있는 그고를 어 어 리더 좋은 될 수 같습니다. 어 그런 어 리더 씨 되고 번쯤은 돼보고 싶데 어 한보고 싶습니다.  그 속에 캐릭 어 속 어 어 역할을 가지고보고 싶습니다. 합니다. 입니다. \n",
            "직무: 디자인 경력상태: 경력직 질문: 만약 자신이 게임 속에 있다면 어떤 역할을 할 것인가 답변: 만약 자신이 게임 속에 있다면 어떤 역할을 할 것인가 라고 질문을 주셨는데요. 저는 내가 게임 속에 있다면 음 한 번쯤 여왕이 되는 어 역할을 한 번 해보고 싶습니다. 그냥 평범하게 이 한 가정을 위해서 또 자식을 낳고 자식을 키우면서 우리 한 가정을 지키기 위해서 정말로 앞만 내다보고 열심히 달려서 그리고 진짜 일도 열심히 어 그리고 이렇게 열심히 살았던 것 같습니다. 내 자신을 한 번도 돌아보지 못한 그런 안타까운 시간들을 어 게임 속에서나마 내가 최고의 자리인 여왕이 한번 돼서 어 좀 더 아름답게 멋지게 그 그런 삶을 한번 겪어보고 싶습니다. 한번 경험해 보고 그리고 내가 꼭 하겠다라고 생각한 거 이루겠다라고 생각해 한 거 그 모든 것들을 내 스스로가 해낼 수 있는 그런 그 역할을 한번 해보고 싶습니다. 예 \n",
            "직무: 공공 경력상태: 신입직 질문: 지원 지원 하고 속 캐릭 어떤 게임 맡 수요변: 네에 게임 속 있다면 어떤 역할을 맡 것인가요. 여 하셨는데요. 어는 게임 게임 속 있다면 어 어 번 해은 돼 그런 그런 해 번 해보고 싶습니다. 어 게임하게 어 게임을 나라를 꾸 어 어 위해서 또 낳고우고 어를 가정의 위해서 위해서 어말로 어만 보고다보고 어 어가는 어 어 어 열심히 하고 열심히 어 어 어 그런 같습니다. 어 자신이 위해서 번 돌아보지 않고 그런 어운 마음들이 보냈 그런 속에서 어 어 한 왕이까지 여왕 될쯤보고 어 그런 더 어 어지게 어 한 역할을 살고 살아어보고 싶습니다. 쯤해 보고 싶 어 한 해야다 라는 했던 그런는었던다 라는 했던보면 번는게 것들이 다 스스로 한내 수 있는 그런 어 어 한 해보고 싶습니다.  이상\n",
            "직무: 디자인 경력상태: 경력직 질문: 이직을 생각하는 동료에게 뭐라고 할 것인가 답변: 이직을 생각하는 동료에게 뭐라고 할 것인가 라고 말씀을 해 주셨는데요. 아 한 번쯤 잘 생각해 보라고 일단은 조언을 해 줄 것이고 그리고 또 이직을 생각 생각했다 라고 한다면 지금 직장보다는 더 나은 곳으로 갈려고 하기 때문에 격려도 해줄 것 같습니다. 그리고 그 동료가 잘 됐으면 좋겠고 또 어디 가서든지 인정 받았으면 좋겠고 그 동료가 하는 그 일 그 자리에서 그 동료도 어 최고의 어 자리가 그 최고의 그 인재가 되기를 바라고 됐으면 좋겠고 그리고 어 잘 됐으면 좋겠습니다. 잘 됐으면 좋겠고 어 화이팅 하라고 제가 어 그 그 축복의 에너지를 어 보내고 싶습니다. 어 그리고 저도 만약에 어 더 좋은 자리가 있다 라고 생각하면 저도 한 번쯤은 생각해 보지 않을까 라는 그런 생각도 합니다. 어 잘 생각해보겠습니다 이상입니다. 감사합니다. \n",
            "직무: 공공 경력상태: 신입직 질문: 지원 직무 생각하는 동가 뭐라고 말씀까요변: 이직을 생각하는 동가 뭐라고 할 것인가요. 물어을 하 주셨는데요. 어 이 번쯤은 생각해 보라고 말씀단은 그 해 주 것요. 그 그직을 생각하는한다고한다면으면 라고 하면 어 현재도 이 나은 미래를 갈 수 하는 때문에 어를 해주고 것이고 같습니다. 아 또 동료가 이 할으면 좋겠고 또 이를도 잘도으면 좋겠고 또 동료가 잘 일이 일에들이 동료 잘 동료가 잘 잘 디자이너 최고의 될 동료 자리에 직재가 될 바랍 또으면 좋겠습니다.요. 그 그 됐으면 좋겠고 아 됐으면 좋겠고 잘 그이팅을라고 얘 말씀 말씀 동료 동료구를 말씀 어  싶습니다.  그리고 또도 그에 이 이 좋은 곳으로 있다면 라고 하면 어도 그 번쯤은 그 보 않을까 싶 생각을 생각을도 해  그리고 됐 봐라고습니다.다 라고입니다. 합니다. \n",
            "직무: 디자인 경력상태: 경력직 질문: 최근 유망하게 뜨는 기업들이 있습니다. 당신은 어 전공을 불문하고 지금 제일 가고 싶은 회사는 어떤 분야이고 왜 그 회사를 가고 싶은지 그 이유를 말씀해 주십시오. 답변: 제 지금 제일 가고 싶은 회사는 이라고 질문을 주셨는데요. 어 우선은 지금 제가 지원한 이 회사가 가 가고 싶었기 때문에 여기를 지원을 하게 됐구요. 또 복지도 좋고 또 연봉 체계도 좋고 그리고 일단은 내가 하고 싶은 일을 할 수 있는 어 그런 배려를 많이 해줘서 해줄 수 있는 회사고 그리고 또 해외 지사도 많고 제 저에게는 이곳에 이곳에 합격을 해 주신다라고 하면 제가 해 하고 싶은 일은 참 많을 것 같고 해낼 수 있는 일들도 참 많을 것 같습니다. 음 그래서 저는 이 회사가 어 제일 좋습니다. 그리고 이곳에서 꼭 어 일하고 싶고 이곳에서 제가 인정받고 싶고 또 이곳에서 어 외국 지사도 꼭 가보고 싶고 그렇게 많은 그 잘하고 싶습니다 . 저를 선택해 주신다면 정말로 감사를 드리겠습니다. 감사합니다. 이상입니다. \n",
            "직무: 공공 경력상태: 신입직 질문: 지원 공부하고튜하다고 떠오르는 아이 있 그신은 유 유 디자인 어 현재 유 싶은 회사가 어떤 회사인가 왜 그 회사를 가고 싶은지 그 이유 말씀해 주십시오 답 답변: 네 전공 현재 가고 싶은 회사는 어쪽 하는 주셨는데요. 어 저 저 제가 제가 이한 이 회사는 어고자 싶은습니다. 때문에 어태 지원 하게 됐습니다.요. 어 이지가 굉 어 어도도 좋고 어 어단은 제가 이 싶은 일을 할 수 있는 그런 그런 회사심이 좀 해 주서 어줄 수 있는 그런라고 또 또 제가에서도사에 많이 또 이의 어 취 취격을 해서 가지고신다면 라고 하면 어 이줄 싶은 일을 어 많 것 같요.보고 수 있는 일이들이 많을 많을 것 같습니다. 그래서 저 저는 이 회사에 저 저 가고아서  또 일을 일을 일을 싶습니다. 또 어 하고 또고 어 어 어 제가인과사에 많이 가고보고 싶습니다. 어 해서 사람들을 기회를 할 싶은습니다.다 라고그래는 뽑아해 주신다면 저말로 감사 드겠습니다. 합니다. 입니다. \n",
            "직무: 디자인 경력상태: 경력직 질문: 입사했는데 원하는 선배의 모습이 어떤 선배의 모습일까 생각해보셨나요 무엇이 무엇이라고 생각하십니까 답변: 입사해서 원하는 선배의 모 모습이 무엇인가요 어 라고 질문을 해주셨는데요. 입사해서 원하는 선배의 모습이라는 것은 일단은 의사소통이 잘되고 어 그리고 어 지하 직원들에게는 어 그 뭐 배려와 어떤 이해심이 있다라면 더 좋겠구요. 독설적이고 어 그 그 박박한 성격인 보다 어 그런거보다 어 화합하고 어 상생하고 어 한 가족 같은 그런 모습을 가졌더라면은 더 좋을 것 같고 이것이 욕심이라면은 제가 또 적응을 해야 되겠지만 기왕이면 한 식구다 보니까 이미 한 식구가 됐다 보니까 그런 분들과 같이 일을 하면 더 좋을 것 같습니다. 기왕이면 선배님이니까 그렇 그 중에서도 또 저도 또 그렇게 노력할 것입니다, 이상입니다. 감사합니다. \n",
            "직무: 공공 경력상태: 신입직 질문: 지원 후에 업무 디자배의 모습이 있 모습배의 모습인지까요 보신나요 답 가장인 생각하시는니까 답변: 제가 후 선 선배의 모습은토는 있다면요. 라고 제가 이렇게 하셨는데요. 어 후 원하는 선배의 모습은이라고 것은 어단은 어통이 잘 되고 어 좀 어 좀실에서들이 어 좀분 어와 어 어심이 굉 라는 어 좋은겠지만요. 어선도 뭐 좀까까학 그런이라 사람이 좀 좀 분보다는 어 좀하고 어 좀부상하고 어 서로 배를처럼 그런 선 어졌으면라면구 어 좋 것 같요. 제가심이이라고던 어 뭐 어을 잘 될겠죠 어왕이면 어 번구 한 라는까 어지가 식구 된든 보니까 어 모습을들과도 어 할 더 좋을 것 같습니다. 어왕이면 어님랑 어습니다.분 어 어도 한 그런 생각을해서 것 같니다 어입니다. 합니다. \n",
            "직무: 디자인 경력상태: 경력직 질문: 본인은 리더형인지 아니면 팔로워 형인지 설명해 주세요 답변: 본인은 리더형인지 팔로우 형인지 설명하세요 라고 하셨는데요. 저는 장담 있게 저는 리더형이라고 말할 수 있습니다. 저는 대충 대충 대충 대충 하는 거를 못 봅니다. 어 어떤 일이든 무슨 일이든 누구든 간에 대충 대충이 아니라 항상 어 최선 최선으로 해야 되고 우선으로 해야 되고 그리고 꼭 해 해 내야 되고 해결이 돼야 되고 라는 어떤 그런 성격이 있다 보니 어 저는 리더형이라고 말할 수 있겠습니다. 하지만 뭐 잘난 척을 하던가 잘난 체를 하던가 그런 거는 아닙니다. 하지만 어떤 조직이든 간에 어떤 어 그 지인이든 간에 그냥 어 어 불 불목 불목하고 불목하고 서로 의견 충돌하고 그런 거를 저는 못 봅니다. 항상 중간에서 그런 것들을 이해시키고 납득시키고 설득시켜서 꼭 해결하고 화합하게 만드는 그런 성격입니다. 그리고 항상 긍정적이고 감사하고 어 행복해 한 성격입니다. 감사합니다. \n",
            "직무: 공공 경력상태: 신입직 질문: 지원인은 창의형인지 아니면 팔로우형인지 어떤 주요 답변: 저인은 팔형인지 팔로우 형인지 저 부탁셨요. 라고 질셨는데요. 저는 팔녀할 말씀는 팔형입니다. 말씀 수 있습니다. 저는 어렸을학교를 충 대충 하는충 하는 편은는 좋아합니다.봅니다. 그래서 저 일을든지 간에 일이든 저든 간에 저충 대충 돼면 대 대선을 다선을 최 된다고 어순 해야 되고 어 그 해야내내 되는 그리고해야 돼야 되고 그리고 그런 책임 책임 있습니다. 보니까 저는 팔형이라고 말할 수 있습니다.습니다.  저 팔 모르겠 척하거나 하거나 아니면 아니면난 척를 하던가 이런 거는 저니다. 어 어 일을든 간에 저 조직이 어떤 조직시가든 간에 저 그 저 저의를의를불의를불 불의를불 불 간에 충돌이하고 이런 거는 잘는 잘 봅니다. 그래서 어에서 중간 거 잘해 어득하고 어하고 어 해해야 어하고 하는 그런 역할을이기  저 어떤적이고 어한 그리고 항상하게 하는 그런입니다. 합니다. \n",
            "직무: 디자인 경력상태: 경력직 질문: 공동체로서 무형 문화유산의 보호에 있어 적용되는 사회적 관념은 무엇이라 생각하나요 답변: 개성과 전통이 어우러져서 그 가치를 알아보고 보존하는 것이라고 생각합니다. 그 무형으로서의 그 문화유산을 보호하고 지정해서 보호한다는 것 자체가 어쨌든 그것들이 지니고 있는 가치나 개성을 잃지 않고자 하는 마음이라고 생각하고 있어요. 그래서 우리가 그것들을 어쩌면 개인의 시작일 수도 있었겠지만 우리가 이것을 다 같이 지켜주자 라는 의미가 녹아있는 거라고 생각이 들고 그것들이 분명히 후대에도 가치가 있을 거고 우리 외에 다른 공동체에서 봤을 때도 아 이것은 정말 뛰어나다 라고 느낄 수 있게끔 하기 위해서 하는 것이라고 생각이 들기 때문에 우리는 그거를 지켜야 할 의무가 있고 그 가치를 알아볼 수 있어야 한다고 생각을 하고 있습니다. 그리고 그러한 시선은 어쨌든 그 개성과 그것을 지키고자 하는 마음이 같이 공존해야 한다고 생각합니다. \n",
            "직무: 공공 경력상태: 신입직 질문: 지원 가치에 무형문화산의 보호에 있어 적용되는 사회적 관념은 무엇이라고 생각하요 답변: 무개인의 다양 깃러져서 무 무 지켜주는자 것은 생각합니다. 무 가치를형 문화유 가치가 가치를산은 보호 그하고 보호해야 것은 자체가 어 그들을 계승 있는 가치관 그 존중 않고 그 하는 것이라고에서 생각요.요. 그래서 무 무들을 잘 그 어떤점이 수도 있고겠지만 그 그것을 통해서 지켜 공유나가 라는 마음으로 아니라있는 것잖 생각 요.들을 가지고 우리에도 계승 있고 거라고 또 후손 다른 사람들도들도 또봤을 때 그 이 우리 우리다 라는 생각이 수 있는끔 하는 위해서 우리가 것이라고 생각  때문에 무 그것 무 지켜 한다고 의무가 있다고 그것을거를 지켜 수 있는 한다고 생각 합니다. 있습니다.  그 것들이너 그 그 무성과 전통이 보존려는 하는 마음 있어야 있어야하는 한다고 생각합니다. \n",
            "직무: 디자인 경력상태: 경력직 질문: 오늘 면접 준비하느라 고생 많이 하셨을 텐데 면접자님은 어떤 방식으로 면접을 준비하셨는지 말씀해 주실 수 있나요 답변: 저는 어 사람들과 어떤 소통을 하는 걸 좋아합니다. 그래서 제가 지금 뭐 작은 점포를 운영하면서 자영업을 하고 있는데요. 그 자영업을 하면서 제가 예술 분야와 연결시켜서 할 수 있는 그런 능력들을 키워나갈려고 상당히 부단하고 부단하게 노력했습니다. 예술 분야는 저의 삶을 특히 정서적인 부분을 고무시키고 저의 삶을 윤택하게 하는 그리고 저의 어떤 어 마음가짐의 변화에 상당히 도움을 주는 힘을 주는 원천이 되기도 합니다. 그리고 이런 것들에 대한 어 이 예술 분야와 저의 지금 갖고 있는 직업 지금 제가 하고 있는 어 건강에 관련된 그리고 채소를 주제로 한 그런 삶을 윤택하게 하는 건강한 음료하고 연관시켜서 모든 부분을 창의적으로 개발하고 설계하며 노력해 왔습니다. 끊임없이 주변 어 소비자들에게 만족도를 어 조사하고 거기에 대한 피드백을 탄탄히 하여 기록해 왔습니다. \n",
            "직무: 공공 경력상태: 신입직 질문: 지원 면접 준비하느 고생 많이 하셨습니 텐데요을님 어떤 방식으로 면접을 준비하셨는지 말씀해 주실 수 있으요 답변: 네는 면접 면접의 방식으로통을 하는 데 좋아하고 그래서 어 면접 면접 면접 모임심 하나하 어영업업을 하고 있는데요. 어 자영업을 하면서 어 어 디자인와 관련된이 어 수 있는 그런 부분들을 많이왔 수 어 많은단히하게 노력을단히하게 노력을했습니다. 그래서 분야 제가는 전공 굉나적으로 부분에 많이시키는 또의 예술적 풍요택하게 해 그런 저의 삶을 그 삶의가짐을과 변화를 대해서 큰 많이 분야 가지고 분야천이 될 합니다. 그래서 저 부분들에 대해서 어떤 저력을 분야와 관련된의 어떤 이 있는 어떤에 가지고 가지고 있는 이 이 대한 부분 저 재배하는 해서 그런 어 살고택하게 하는 그런 삶을 그리고 그리고돼 어 사람들이 어적으로 어 싶하고 어했 왔습니다.  자기 사람들과 주변자와 어을 높이고 높이고하고 또 대한 피드백을 받고탄하게 해서 놓는고 \n",
            "직무: 디자인 경력상태: 경력직 질문: 커뮤니케이션을 잘할 수 있는 본인만의 스킬이 있으신가요 있다면 한번 소개해 주시겠어요 직접 한번 보여주셔도 좋습니다 답변: 저는 어 상대방과 커뮤니케이션 즉 의사소통을 할 때 서로 말 그대로 소통에 집중합니다. 소통이라 함은 저의 의사와 상대방의 의사를 서로 주고받는 것인데요. 저의 의사만을 고집하거나 상대방이 상대방의 고집만 고집을 굽히지 않을 때는 이런 소통이 어렵다고 생각합니다. 따라서 이렇게 갈등이 빚어질 수도 있고 소통이 원활하지 않을 수 있는데요. 이럴 때는 어 우선은 상대방이 무슨 말을 하는지 그 상대방의 말에 경청을 합니다. 경청을 해서 상대방이 가장 중요하게 생각하는 부분을 어 도출해 내구요. 그 으 상대방이 중요하게 생각하는 부분에 대해서 다시 한번 확인을 한 다음에 그 확인이 맞다면 상대방의 입장을 공감하고 공감을 형성할 수 있는 그리고 같은 편으로서 어 공 교 교 교감 할 수 있는 그런 것들을 서로 주고받습니다. 그렇게 서로 분위기가 어 좀 유연해지면 서로에게 서로의 주장을 하면서도 어느 정도 상대방의 의견을 어 들어 줄 수 있는 그런 공간을 만들어서 서로 소통할 수 있는 기회를 확보합니다. \n",
            "직무: 공공 경력상태: 신입직 질문: 지원을 잘 할 수 있는 본인만의 스킬이 있다면으신가요 있다면 한번 소개해 주겠습니까요 직접 한번 보여주셔도 좋습니다 답변: 커뮤니케이션는 커뮤니케이션 커뮤니케이션방과 커뮤니케이션을 소통을 잘 때 어 간에하기 경통을 대한을 어이라는 함은 서로희가 생각 상관없이 의사를 잘 잘 것인데요. 저는 의사 표현을 일방적으로한다면 상대방의 원하는 의사를하는 부집을 한다면 않는다면 때 저 커뮤니케이션통을 잘습니다. 생각합니다. 그래서 저 소 심졌을 때 있는 또통이 잘하지 않을 수도 있습니다.요. 저럴 때는 저 저 상대방의 상대방의 어떤 말을 하는지 어떤 사람의 의사를 귀를청 합니다. 그리고청을 하 그 원하는 원하는 생각하는 것이 먼저 얘해 낼요. 그러면 다음에 그 원하는 생각하는 부분을 대해서 어 한 어 하고 다음에 어 부분을신이 된다면 어 의견을 고려해하고 또 해 수 있는 그런 상대방의 말을이라고 어 소감의감을감을할 수 있는 그런 시간을 어 어습니다.  되면 소 좋아 좋아 더해지고 어 간에 어 의견을 어 어 정도 어 의견을 존중 수용줄 수 있는 그런 어 마련 어가할 수 있는 그런 많이합니다. \n",
            "직무: 디자인 경력상태: 경력직 질문: 대학 생활 가장 힘들었던 경험은 무엇인가요 답변: 어 대학 생활 중에서 가장 힘들었던 경험은 무엇인가요 라고 하셨는데요. 저는 방송통신대학교를 나와서 그 사람을 직접 만나서 이렇게 커뮤니케이션이 돼야지만 더 이해력도 되고 더 빨리 습득이 될 텐데 방송으로 공부를 하다 보니까 음 약간 그 질문도 할 수 없고 이해성이 떨어지는 바람에 조금 그런 면이 어려웠었다라고 생각을 합니다. 어 시간이 난다면 공개 강의 같은 것 어 이런 것들이 큰 도움이 될 거라고 생각을 하는데 원체 지금 삶 속에서 시간이 없기 때문에 그 없는 시간을 쪼개서 그리고 나름대로 공부를 하고 있는 거기 때문에 그 방송을 통해서 공부를 하지만 그렇지만 그것이 힘들다 라고 생각을 합니다. 그래서 그냥 일반 대학교 다니는 게 참 좋다고 생각합니다. 그리고 부럽습니다. 그리고 나중에는 꼭 다닐 겁니다. 네 감사합니다. \n",
            "직무: 공공 경력상태: 신입직 질문: 지원 생활을 중 힘들었던 경험은 무엇요 또한변: 대학 대학 생활을 중에 가장 힘들었던 경험은 어요 어 이렇게셨는데요. 어는 대학통신대학교 나왔서 어 방송 만나 만나서 인터 인터을 안서 되는이 좋은도가 더 더 잘 이해할할 될 수데 어통신 인해 하다 보니까 어 그 그 사람의 자체가 많고 수 있고 또도도 좀 그런 어 더 부분이 힘들습니다.습니다. 라고 말씀 합니다. 그래서 그래서 지나고다면은적인도 거 같은 그런 것도 있을 도움이 되지 것라고 생각을 하는데요.하 어 제가에서 어 많이 때문에 어걸 시간 어떻게서라도 또 어 하고 또 중 때문에 어게 통해서 어 하고 그 그 또었던 라고 하 하면  저 그인에 거 아니라 힘들 생각을합니다.  또끄럽습니다.  또 어 방송 수니다. .합니다. \n",
            "직무: 디자인 경력상태: 경력직 질문: 본인이 하고 싶은 업무가 있다면 어떤 것이 있을까요 답변: 본인이 하고 싶은 업무가 있다면 말씀해 보세요 라고 질문을 주셨는데요. 음 내가 하고 싶은 일은 어 저는 성격이 음 저 어 긍정적인 사람이다 보니깐 어 더 사람들의 심리 파악을 잘하고 사람들의 마음을 잘 읽어서 어 그 마음이 전달을 잘하고 있습니다. 그래서 어 제가 어떤 그 사 상담 사 심리 심리학 상담 뭐 이런 업무를 한다라면 저는 잘 할 것 같습니다. 어 사람들의 심리 어 심리 테스트 어 심리 연구 뭐 이런 것들을 잘 하기 때문에 저한테는 그 업무가 어 맞다 라고 생각합니다. 혹시 만약에 저한테 그런 업무가 주어진다면 저는 어 정말로 재미있게 어 열심히 잘 할 것 같습니다. 그래서 꼭 저한테 그런 업무가 주어지기를 간절히 바랍니다. 이상입니다. 감사합니다. \n",
            "직무: 공공 경력상태: 신입직 질문: 지원 생각 싶은 직무 있 그 업무 있는지까요 답변: 네 하고 싶은 업무는 있다면 저해 주세요. 라고 질 하셨는데요. 어 제가 하고 싶은 업무는 어 일단는 어 좀 좀는 좀 마인기 보니까 어 좀 어 마음을나을 잘 할 어 어 잘 헤아어서 어 좀 사람들이 어될 잘 할 어 그래서 어 사람들이 하고 일을 어안에이나 어 상담사사 이런 쪽에 하고 라고 어는 어 할 수 같습니다. 어 왜냐하면 마음을 파악 그 파악스트를도 그런 상담 이런 이런 것들을 좀 하기 때문에 어는테는 어게 어 저다고 라고 생각을합니다. 어시 어에 제가한테 어 업무를 주어진다면 어는 어 좀말로 어있게 어 할 어 할 것 같습니다. 어 어 해한테 어 업무가 주어진지 바절히 바랍니다. 입니다. 합니다. \n",
            "직무: 디자인 경력상태: 경력직 질문: 업무 시 분쟁이 발생했을 때 본인만의 대처법이 있나 답변: 업무 시 분쟁이 발생 했을 때 본인만의 대처법이 있나요 라고 말씀을 해 주셨는데요. 업무를 하다 보면 의견이 안 맞고 또한 의견이 안 맞다 보면 분쟁이 일어나게 되어 있습니다. 어 무슨 일을 하든 간에 어 그 일에 있어서 의견이 안 맞는다면 상대방을 잘 이해를 시키고 설득을 시키고 어 그리고 어 알아들을 수 있게 혹시 혹시 입장이 내 입장이라면 한 번쯤은 어 이렇게 생각해볼 수 있지 않겠나 라는 어떤 그 이해력을 가지고 이해를 시켜서 어 화해를 하고 어 그래서 더 돈독하고 가까운 그런 어 그 사이가 될 수 있도록 저는 중간에서 중간 역할을 잘 할 것이고 음 그래서 어 이 내가 하고 있는 이 업무를 어 조금 더 발전시키는 데 공헌하는 데 이바지가 되도록 저는 그렇게 최선을 다할 것입니다. 감사합니다. 이상입니다. \n",
            "직무: 공공 경력상태: 신입직 질문: 지원 시 분쟁이 발생할 때를 지원만의 대처법이 있으요변: 업무 시 분쟁이 발생했을한다면 때 저만의 대처법이 있는지나요 있다면 질해 하 주셨는데요. 어 하다 보면은 충돌 맞 또 의견이 안 맞아서 라고은 발생할 됩 있습니다. 그래서 저 일이 하든 간에 어 저 의견 대해서 어 안 맞 경우가은 설득 설득 하고고 또을 시키고 어 그 그 그들을 수 있도록끔시라도시라도 된 입장인지 어 번 더은 어 그 생각을 주 수 있는 않을까습니까 라는 생각을 그런 어도를 좀 어 시키서 어 그해를 시키 어 그 어 좋은독하게 어 사이가 어 그런 관계를 될 수 있도록 어는 어에서 어에서 하는 하고 수요. 또 어 분쟁이 분쟁이 이 싶은 일에 일에 잘 잘 더 잘 데 있어서할 그런 어 일을지가 될 하겠는 최 할선을 다할 것입니다. 합니다. 입니다. \n",
            "직무: 디자인 경력상태: 경력직 질문: 일을 하시면서 여러 가지 갈등 상황을 겪어보셨을 텐데요 만약 구성원들과 갈등을 겪게 됐을 때 어떻게 해결을 하실 건가요 답변: 조직에서의 갈등은 일상입니다. 다른 사람들이 모여 일을 하다 보면 갈등이라는 것은 갈등은 수시로 발생하며 그 형태도 다양합니다. 갈등은 좋다 나쁘다를 논하는 것보다 발생한 갈등으로 인해 불필요한 에너지를 사용을 하고 자원을 사용하는 상황들이 발생할 수 있기 때문입니다. 그래서 미연에 방지하는 것이 필요합니다. 문제는 이런 갈등을 사전에 방지하는 것이 쉽지 않은데요. 갈등을 해결하지 않거나 관리하지 않게 된다면 그것은 점점 증폭되어 구성원들의 조직적 목적보다 갈등 그 자체에 대한 더욱 염려이기 때문에 조직의 성장은 멈추게 되어 있습니다. 그래서 조직에서 갈등이 발생하면 비 온 뒤에 땅이 굳는다는 말처럼 더 단단한 관계를 발전시키는 시간이 필요하다는 것을 잊지 않는 것이 가장 중요합니다. 갈등은 크게 업무 갈등과 관계 갈등으로 나눌 수 있는데요. 업무 갈등은 말을 통 일을 통해 성과를 내고 변화를 위해서 꼭 필요한 갈등이라고 합니다. 관계 갈등은 구성원 간의 정서적인 이슈가 연결되어 협업의 장애가 될 수 있습니다. 사례 속에 최대리와 김대리는 어떤 갈등을 겪고 있는지 한번 이야기해 보겠습니다. 꼭 중재를 해야 하나 물어보실 수도 있지만 지금 상황에서는 해주셔야 합니다. 왜냐하면 다른 한 사람이 그 갈등에 대해서 요청을 원했기 때문에 요청을 할\n",
            "직무: 공공 경력상태: 신입직 질문: 지원 하게 가장 가지 어려운 상황이 마주으 보셨을 텐데요 그에들과 갈등이 겪게 된을 때 지원 해결 하셨 건가요 답변: 어 내에서 갈등은 어적으로 그 부 함께있는 하다 보면 갈등이 상황이 게 생길 피할 발생합니다. 그 갈등을 다양합니다. 저 항상지만 나쁘다 떠나서할 것이 서로 원인을에 인해 발생한 오 소모 하게 더 낭비 경우가도 많 수 있습니다. 때문에입니다. 저 저연에 방지 것이 가장합니다. 미 갈등이 경우 미 방지하는 것이 가장 않데요. 갈등이 예방하지 않고 갈등을하지 않는다면 되면다면 오히려 결국 더되어 나중에는들 사기를 생활에 스트레스 의식에 더으로 자체를만 책임을 큰와 때문 갈등이 목표과에 물론이고게 됩 있습니다. 그렇기 저 갈등이 발생했을 그효 뒤에 땅이 굳는 말이처럼 갈등 큰 조직으로 유지 것이 필요 것을 깨달 말아야 것이 중요 중요하다고합니다.  서로 두적인 업무적인으로 나눌 수 있습니다.요. 이 갈등은 서로 하지하거나 하는 해결 내는 그 꾀 노력하는 필요한 과정입니다. 생각  갈등은 서로 간의 갈등적인 문제가 아니라서업을 결과로 되기도 수 있습니다. 그렇기로 있는 갈등을 최리가 갈등을 갈등을 겪 있었 이야기 더해 보겠습니다.  필요한재를 해 하는요.보겠 수 있 저 당장에서는 중실야 할  갈등이 구성원 사람의 갈등을 갈등을에 대해 깊게 하고한다면 때문 그 하는 수도\n"
          ]
        },
        {
          "name": "stderr",
          "output_type": "stream",
          "text": [
            "Validation Epoch 3: 100%|██████████| 502/502 [04:47<00:00,  1.75it/s, loss=2.3076]\n"
          ]
        },
        {
          "name": "stdout",
          "output_type": "stream",
          "text": [
            "calculating scores...\n",
            "computing bert embedding.\n"
          ]
        },
        {
          "data": {
            "application/vnd.jupyter.widget-view+json": {
              "model_id": "b49dfabfc3594c3b9dc9bc64958b3789",
              "version_major": 2,
              "version_minor": 0
            },
            "text/plain": [
              "  0%|          | 0/251 [00:00<?, ?it/s]"
            ]
          },
          "metadata": {},
          "output_type": "display_data"
        },
        {
          "name": "stdout",
          "output_type": "stream",
          "text": [
            "computing greedy matching.\n"
          ]
        },
        {
          "data": {
            "application/vnd.jupyter.widget-view+json": {
              "model_id": "c1054a5be14744f78191a71c5b297f32",
              "version_major": 2,
              "version_minor": 0
            },
            "text/plain": [
              "  0%|          | 0/126 [00:00<?, ?it/s]"
            ]
          },
          "metadata": {},
          "output_type": "display_data"
        },
        {
          "name": "stdout",
          "output_type": "stream",
          "text": [
            "done in 303.20 seconds, 26.47 sentences/sec\n",
            "Epoch 3 Average Validation Loss: 2.1272\n",
            "Epoch 3 Average Validation BLEU: 1.0979\n",
            "Epoch 3 Average Validation ROUGE: {'rouge1': 0.3685831537012728, 'rouge2': 0.11308935924333709, 'rougeL': 0.29737097199500273}\n",
            "Epoch 3 BERTScore Precision: 0.7864\n",
            "Epoch 3 BERTScore Recall: 0.7769\n",
            "Epoch 3 BERTScore F1: 0.7816\n",
            "Saving best model with validation loss: 2.1272\n"
          ]
        },
        {
          "name": "stderr",
          "output_type": "stream",
          "text": [
            "Training Epoch 4: 100%|██████████| 4255/4255 [1:35:10<00:00,  1.34s/it, loss=1.8359]\n"
          ]
        },
        {
          "name": "stdout",
          "output_type": "stream",
          "text": [
            "\n",
            "Epoch 4 Average Training Loss: 2.0221\n"
          ]
        },
        {
          "name": "stderr",
          "output_type": "stream",
          "text": [
            "Validation Epoch 4:   0%|          | 1/502 [00:00<04:28,  1.86it/s, loss=2.3285]"
          ]
        },
        {
          "name": "stdout",
          "output_type": "stream",
          "text": [
            "직무: 디자인 경력상태: 경력직 질문: 타 부서와 갈등 상황이 생겼을 때 어떻게 해결하겠는가요 답변: 음 타 부서와 갈등 상황이 생겼을 때 어떻게 해결하겠는가 라고 말씀해주셨는데요. 살다 보면 우리가 부딪치지 않는 일은 없을 것 같습니다. 항상 부딪치고 해결하고 또 살아가고 또 부딪치고 해결하고 또 살아가고 하는 것들이 이 인생인 것 같고 삶인데 타 부서와 갈등 상황이 생겼을 때는 일단 어떤 것이 잘잘못인가를 일단은 어 판단을 해야 될 것이고 그리고 내가 잘못한 일이 있다라면 정중하게 사과하고 미안하다 하고 미안하다 라고 하고 그리고 금방 화해를 할 것 같습니다 .하지만 상대방이 잘못된 일이 있다라고 하면 꼭 그것은 그 이해를 시키고 납득을 시키고 그리고 잘못된 부분은 이런 이렇게 잘못된 부분은 고쳐 나갈 수 있는 거 바꿔 나갈 수 있는 거 이런 거를 유도하고 그래서 그렇게 할 것 같습니다. 그 잘 뭐든지 잘 해결하고 그렇게 살 살아 갑니다 제 성격이. 감사합니다. \n",
            "직무: 공공 경력상태: 신입직 질문: 지원 지원서와 갈등 상황이 발생 때 어떻게 해결하습니까요 상황을변: 네 타 부서와 갈등 상황이 생겼을 때 저 해결하겠냐 라고 질문을을셨는데 음 어 보면은 갈등치는 않는 일 없 거 같습니다. 왜냐하면 부딪치는 부딪해야 부딪 부딪야 있는데 부딪치는 또하고 이런 부딪고 있는데 것들이 있는데게에서 것 같요.인요. 부서와 갈등 상황이 생겼을 때 어 그 부분에서 문제 해결못인지 먼저단은 파악 따져 해야 될 것요. 그 잘못한 것이 있다면 라고 그하게 사하고 그리고안하다 라고 사안하다 하고 하는 사 그방 다시해를 할 것 같습니다.다 라고그리고 그 잘못 부분이 있다면 라고 하면 그 사 사 사람의 하고고 또득을 시키고 또 그 것이 다시 식으로 해결해 부분을 이렇게 나가 수 있도록 그런를 나가 수 있는 거를 것들을를 먼저해서 그리고 그 해결을 것 같습니다. 게잘 잘못 잘 해결하고 또 해서면왔니다.다 라고 생각. 합니다. \n",
            "직무: 디자인 경력상태: 경력직 질문: 지금까지 인생을 살면서 가장 후회되는 일이 무엇이었는지 한 가지만 말씀해 주실 수 있습니까 답변: 저는 성격이 긍정적이라서 조금 후회하는 걸 별로 많이 느껴보지 못했는데요. 그래도 그중에서 하나 아쉬운 부분을 꼽자면 제가 대학교 사 학년 쯤 취업 준비를 할 때 다른 친구들에 비해서 좀 스스로 취업 준비가 잘 안되고 있다고 판단을 했던 것 같습니다. 그래서 부모님께 예민하게 굴었던 적이 좀 후회가 되는데요. 그건 나중에 스스로도 충분히 깨달았던 부분이라 부모님께 자리를 마련해서 너무 철없이 굴었던 것 같다고 죄송하다는 말씀을 함께 드리면서 어 용서를 구했던 경험이 가장 기억에 남습니다. \n",
            "직무: 공공 경력상태: 신입직 질문: 지원 살아 살면서 가장 후회되는 일이 있다면입습니까 한 가지만 골라해 주실 수 있나 답변: 네는 인생을 조금입니다.서 어 더되는 일이 많이 좋아 하지본 않았했는데요. 어 제가 가장 골라운 게 말씀자면 저 고등학교 때 학년 때쯤에 됐 준비를 하면서 때 어 친구들 비해 조금 늦게 좀 준비를 좀 안 됐 좀 느꼈 해서 것 같습니다. 그래서 그님께 좀하게 좀었 것 있었는데 많이회가 됩요. 어 친구 제가 제가 좀 좀 인지았 부분이고서님께도 빌해서 취업 힘들없 살았던지 것 같 생각이송하다고 말씀을 드 드면서 그 좀서를 빌했 것 있습니다. 후회에 남습니다. \n",
            "직무: 디자인 경력상태: 경력직 질문: 팀으로 일하는 것이 있구요 혼자 일하는 것이 있다면 그 둘 중에 내가 팀이 맞는지 혼자 일하는 게 맞는지 어느 것을 선호하는지 말씀해 보세요 답변: 팀으로 일하는 것과 혼자 일하는 것 중 어느 것을 선호하는가 라고 질문을 해 주셨는데요. 팀으로 일하는 것은 여러 사람들의 의견과 하나가 되 되고 유치를 해야 되고 또 그 어 팀 웍이라는 조직을 조직이 있어야 하지만 혼자는 누구하고 의견 충돌이 있 있 음 안 일어나도 되고 나만의 개성을 살려서 어 얼마든지 어 혼자 하는 것을 혼자 하는 것이 더 어 좋다 라고 저는 생각하지만 언제까지 혼자 일할 수는 없는 것입니다. 어 언제까지 혼자 일할 수 없기 때문에 저는 팀원으로서 또 이 조직으로서 일을 하는 것을 더 선호하고 어 같은 조합과 조직 그 배합을 서로 간에 배합을 잘 맞춰서 그렇게 이끌어 나갈 것 같습니다. 그래서 팀으로 일하는 것과 혼자 일하는 것 즉 어느 것을 선호하는가는 저는 팀으로 일하는 것을 어 선택할 것 같습니다. 그리고 어 그들에게도 또 희망을 불어넣어줘서 희망을 갖게 할 것입니다. 감사합니다. \n",
            "직무: 공공 경력상태: 신입직 질문: 지원으로 일하는 것과 가장습니요 혼자 일하는 것이 있 팀 팀 중에서 어떤 더 더다고 팀 일하는 것이 맞는지 그 쪽이 더하는지 그해 주세요 답변: 저으로 일하는 것과 혼자 일하는 것 중 저 것을 더지요 말씀 하 주셨는데요. 어으로 일하는 것과 어 사람이 의견을과 의견을 돼다 그익을 해야 하기 또 그 안에서 그으로웍이 것이 통해서 잘 되고 그자가 할 하나 같이 충돌이 있을잖잖 안 생길야 되는 어 혼자 의견이 가지고릴 어 팀든지 어 팀 하는 것이 선호 하는 것을 더 좋다고 좋다고다 라고 생각을는 생각을합니다. 팀든나 하는 수 없다고 것 왜냐하면 팀까지 팀 할 수는 있는 때문에 팀는 팀으로 팀 팀 팀 안에서 어 해야 것이 선호 선호 있습니다. 팀 팀으로 같은 안에서 안에서합을 통해서 잘 잘합을 해서 해서서 어 일을 나가는 수 같습니다.  팀으로 일하는 것은 혼자 일하는 것 중에 팀 것을 선호가 어는 뭐으로 일하는 것을 더 선호 것 같습니다.  팀 팀 어 어 어 줄어 줄야 어 줄 해 수 합니다. \n",
            "직무: 디자인 경력상태: 경력직 질문: 만약 자신이 게임 속에 있다면 어떤 역할을 할 것인가 답변: 만약 자신이 게임 속에 있다면 어떤 역할을 할 것인가 말씀해 보시겠습니까 라고 질문을 주셨는데요. 저라면 게임 속에서 저는 음 유명한 어 씨이오가 한 번쯤은 되보고 싶습니다. 그 씨이오가 된다는 것은 음 씨이오 가 된다는 것은 어떤 그 리더 리더로서의 자격이 있어야 되고 그 씨이오가 된다는 것은 음 그 어떤 자질에 또 문제가 있을 것이고 어 그리고 그 그 씨 자기 자신만의 어 자기 자신만의 어떤 특성 특성과 어떤 개성적인 어떤 그런 그 노하우 어 노하우 같은 걸 가지고 어 참 이렇게 좋은 그 어 대표가 될 것 같습니다. 어 나는 제가 그런 대표가 한 번쯤은 되보고 싶은 그런 역할을 해보고 싶습니다. 단지 게임 속이지만 게임 속에서라도 그런 걸 해보고 싶습니다. 감사합니다. 이상입니다. \n",
            "직무: 공공 경력상태: 신입직 질문: 지원 지원 게임 속 캐릭 어떤 게임 맡 것인지요변: 네에 게임 속 있다면 어떤 역할을 맡 것인가 라고해 주세세겠습니까. 질 하셨는데요. 어는 어 속에 어떤는 힐 뭐 캐릭 캐릭피 역할을 되고 명 해은 해보고 싶습니다. 어분은이오가 하는 것은 어 뭐이오가 돼 것은 어 게임 게임의의 역할을 있고 된다고 그 리더이오가 돼 것은 그 그 리더 리더질이 대해서 어 있다고 수 그 그 그 리더 리더이오만의 어떤 그만의 어 그이나 어 그 그런 그런 어 캐릭하들을 그런하우 이런 것들이 가지고 어 그고를 어 리더 리더 리더 될 수 같고습니다. 어 그런 리더 리더 역할을 되고 번쯤은 돼보고 싶 그런 어 한보고 싶습니다.  그 속에 캐릭 어 속에서만 어 역할을 가지고보고 싶습니다. 합니다. 입니다. \n",
            "직무: 디자인 경력상태: 경력직 질문: 만약 자신이 게임 속에 있다면 어떤 역할을 할 것인가 답변: 만약 자신이 게임 속에 있다면 어떤 역할을 할 것인가 라고 질문을 주셨는데요. 저는 내가 게임 속에 있다면 음 한 번쯤 여왕이 되는 어 역할을 한 번 해보고 싶습니다. 그냥 평범하게 이 한 가정을 위해서 또 자식을 낳고 자식을 키우면서 우리 한 가정을 지키기 위해서 정말로 앞만 내다보고 열심히 달려서 그리고 진짜 일도 열심히 어 그리고 이렇게 열심히 살았던 것 같습니다. 내 자신을 한 번도 돌아보지 못한 그런 안타까운 시간들을 어 게임 속에서나마 내가 최고의 자리인 여왕이 한번 돼서 어 좀 더 아름답게 멋지게 그 그런 삶을 한번 겪어보고 싶습니다. 한번 경험해 보고 그리고 내가 꼭 하겠다라고 생각한 거 이루겠다라고 생각해 한 거 그 모든 것들을 내 스스로가 해낼 수 있는 그런 그 역할을 한번 해보고 싶습니다. 예 \n",
            "직무: 공공 경력상태: 신입직 질문: 지원 지원 게임 속 캐릭 어떤 게임 맡 것인지요변: 네에 게임 속 있다면 어떤 역할을 맡 것인가 라고 여 하셨는데요. 어는 어 게임 속에 있다면 어떤 뭐 번 해은 돼 역할을 그런 해 번 해보고 싶습니다. 어 어하게 어 게임 나라를 꾸 어 어 위해서 또 낳고우고 어를 가족을 위해서 위해서 어말로 어만 보고다보고 어 하는가는 어 어 어 열심히 하고 하고 어 어 해서 그런 같습니다. 어 자신이 위해서 번 돌아보지 않고 그런 어운 상황들이 보냈 그런 속에서 한 어 한 왕이까지 여왕 되어서 해보고 어 그런 더 어 어지게 어 역할을 역할을 살고 살아어보고 싶습니다. 쯤해 보고 싶 또 정말 해야다 라는 하는 그런는었던다 라는 했던보면 번를게 것들이 다 스스로 한보고 수 있는 그런 어 게임 한번 해보고 싶습니다.  이상\n",
            "직무: 디자인 경력상태: 경력직 질문: 이직을 생각하는 동료에게 뭐라고 할 것인가 답변: 이직을 생각하는 동료에게 뭐라고 할 것인가 라고 말씀을 해 주셨는데요. 아 한 번쯤 잘 생각해 보라고 일단은 조언을 해 줄 것이고 그리고 또 이직을 생각 생각했다 라고 한다면 지금 직장보다는 더 나은 곳으로 갈려고 하기 때문에 격려도 해줄 것 같습니다. 그리고 그 동료가 잘 됐으면 좋겠고 또 어디 가서든지 인정 받았으면 좋겠고 그 동료가 하는 그 일 그 자리에서 그 동료도 어 최고의 어 자리가 그 최고의 그 인재가 되기를 바라고 됐으면 좋겠고 그리고 어 잘 됐으면 좋겠습니다. 잘 됐으면 좋겠고 어 화이팅 하라고 제가 어 그 그 축복의 에너지를 어 보내고 싶습니다. 어 그리고 저도 만약에 어 더 좋은 자리가 있다 라고 생각하면 저도 한 번쯤은 생각해 보지 않을까 라는 그런 생각도 합니다. 어 잘 생각해보겠습니다 이상입니다. 감사합니다. \n",
            "직무: 공공 경력상태: 신입직 질문: 지원 직무 생각하는 동가 뭐라고 말씀까요변: 이직을 생각하는 동에게 뭐라고 할 것인가요. 물어을 하 주셨는데요. 어 네 번쯤은 생각해보고라고 말씀단은 그 해 주 것요. 그 그직을 생각하는한다면한다면으면 라고 하면 그 현재도 다른 나은 곳으로 이 수 하는 때문에 어를 해 줄 것이고 같습니다. 아 또 동료가 이 할으면 좋겠다 또 이를도 잘이으면 좋겠고 또 동료가 이 일이 일에들이 동료 최 동료가 잘 잘 디자이너 최고의 될 동료 자리에 자리에재가 될 바라고 또기 좋겠습니다.요. 그 그 됐으면 좋겠고 그리고 됐으면 좋겠고 잘 그이팅을라고 얘 말을 말을 동료 동료구를 축   싶습니다.  그리고 그는 그에 이 이 나은 곳으로 있다면 라고 하면 어도 그 번쯤은 그 볼 않을까 싶 생각을 생각을도 해  그리고 됐 봐라고습니다.다 라고입니다. 합니다. \n",
            "직무: 디자인 경력상태: 경력직 질문: 최근 유망하게 뜨는 기업들이 있습니다. 당신은 어 전공을 불문하고 지금 제일 가고 싶은 회사는 어떤 분야이고 왜 그 회사를 가고 싶은지 그 이유를 말씀해 주십시오. 답변: 제 지금 제일 가고 싶은 회사는 이라고 질문을 주셨는데요. 어 우선은 지금 제가 지원한 이 회사가 가 가고 싶었기 때문에 여기를 지원을 하게 됐구요. 또 복지도 좋고 또 연봉 체계도 좋고 그리고 일단은 내가 하고 싶은 일을 할 수 있는 어 그런 배려를 많이 해줘서 해줄 수 있는 회사고 그리고 또 해외 지사도 많고 제 저에게는 이곳에 이곳에 합격을 해 주신다라고 하면 제가 해 하고 싶은 일은 참 많을 것 같고 해낼 수 있는 일들도 참 많을 것 같습니다. 음 그래서 저는 이 회사가 어 제일 좋습니다. 그리고 이곳에서 꼭 어 일하고 싶고 이곳에서 제가 인정받고 싶고 또 이곳에서 어 외국 지사도 꼭 가보고 싶고 그렇게 많은 그 잘하고 싶습니다 . 저를 선택해 주신다면 정말로 감사를 드리겠습니다. 감사합니다. 이상입니다. \n",
            "직무: 공공 경력상태: 신입직 질문: 지원 고령엑하다고 떠오르는 아이 있 그신은 유 이 어떻게 유 현재 유 싶은 회사가 어떤 회사인가 왜 그 회사를 가고 싶은지 그 이유 말씀해 주세십시오 답 답변: 네 생각 현재 가고 싶은 회사는 어커 생각 주셨는데요. 어 저 저 제가 제가 이한 이 회사는 어고자 싶은습니다. 때문에 어기가 가고 하게 됐고요. 어 이지도 굉 어 어도도 좋고 또 어 년 제가 이 싶은 일을 할 수 있는 그런 그런 환경이심이 좀 해줘서 어줄 수 있는 그런라고요. 또 제가에서도사가 많이 또 이의 기회가 취 취격을 해서 가지고신다면 라 하면 어 이줄 싶은 일을 어 많 것 같요.보고 수 있을 일이들이 많을 많을 것 같습니다. 그래서 그리고 저는 이 회사에 저 저 가고다  또 일을 일을 일을 싶습니다.요. 꼭 하고 싶고 어 제가 어 제가인과사에 많이 가고보고 싶습니다.요. 해서 사람들을 기회를 할 싶은습니다.다 라고그래는 뽑아해 주신다면 저말로 감사 드겠습니다. 합니다. 입니다. \n",
            "직무: 디자인 경력상태: 경력직 질문: 입사했는데 원하는 선배의 모습이 어떤 선배의 모습일까 생각해보셨나요 무엇이 무엇이라고 생각하십니까 답변: 입사해서 원하는 선배의 모 모습이 무엇인가요 어 라고 질문을 해주셨는데요. 입사해서 원하는 선배의 모습이라는 것은 일단은 의사소통이 잘되고 어 그리고 어 지하 직원들에게는 어 그 뭐 배려와 어떤 이해심이 있다라면 더 좋겠구요. 독설적이고 어 그 그 박박한 성격인 보다 어 그런거보다 어 화합하고 어 상생하고 어 한 가족 같은 그런 모습을 가졌더라면은 더 좋을 것 같고 이것이 욕심이라면은 제가 또 적응을 해야 되겠지만 기왕이면 한 식구다 보니까 이미 한 식구가 됐다 보니까 그런 분들과 같이 일을 하면 더 좋을 것 같습니다. 기왕이면 선배님이니까 그렇 그 중에서도 또 저도 또 그렇게 노력할 것입니다, 이상입니다. 감사합니다. \n",
            "직무: 공공 경력상태: 신입직 질문: 지원 후에 업무 디자배의 모습이 있 모습배의 모습인지까요 보신나요 답든인 생각하시는니까 답변: 제가 후에 선 선배의 모습은티브 있다면요. 라고 저 질문을 하셨는데요. 어 후에 원하는 선배의 모습은이라고 것은 일단단은 제가통이 잘 되고 어 좀 어 좀철에들이 어 좀분랄심이 어 그심이 많고 라는 어 좋은겠지만요. 어선도 뭐 뭐까까학 그런이라 사람이 좀 좀 분 같 어 좀하고 어 서로부상하는 어 서로 배를처럼 그런 선 원졌으면라면구 더 좋 것 같요. 제가심이이라고든지 어 뭐 그을 잘 될겠죠 어왕이면 어 번구 같이 이렇게까 어지가 식구 된을 보니까 어 것들이들이도 어울 할 더 좋을 것 같습니다. 어왕이면 어님랑 어습니다.분 어 어랑 한 배울 생각을해서 것 같니다 입니다. 합니다. \n",
            "직무: 디자인 경력상태: 경력직 질문: 본인은 리더형인지 아니면 팔로워 형인지 설명해 주세요 답변: 본인은 리더형인지 팔로우 형인지 설명하세요 라고 하셨는데요. 저는 장담 있게 저는 리더형이라고 말할 수 있습니다. 저는 대충 대충 대충 대충 하는 거를 못 봅니다. 어 어떤 일이든 무슨 일이든 누구든 간에 대충 대충이 아니라 항상 어 최선 최선으로 해야 되고 우선으로 해야 되고 그리고 꼭 해 해 내야 되고 해결이 돼야 되고 라는 어떤 그런 성격이 있다 보니 어 저는 리더형이라고 말할 수 있겠습니다. 하지만 뭐 잘난 척을 하던가 잘난 체를 하던가 그런 거는 아닙니다. 하지만 어떤 조직이든 간에 어떤 어 그 지인이든 간에 그냥 어 어 불 불목 불목하고 불목하고 서로 의견 충돌하고 그런 거를 저는 못 봅니다. 항상 중간에서 그런 것들을 이해시키고 납득시키고 설득시켜서 꼭 해결하고 화합하게 만드는 그런 성격입니다. 그리고 항상 긍정적이고 감사하고 어 행복해 한 성격입니다. 감사합니다. \n",
            "직무: 공공 경력상태: 신입직 질문: 지원인은 창의형인지 아니면 팔로워형인지 어떤 주요 답변: 저인은 리더형인지 팔로워형인지 저 부탁셨요. 라고 질셨는데요. 저는 리더녀할 말씀는 리더형이라고 말씀 수 있습니다. 저는 리더학교를 충 대충 하는충 하는 편은를 좋아합니다.봤니다. 왜냐하면 리더 일을든 리더 일이든 제가든 리더 리더충 대충 돼면 대 대선을이라고선을 최 된다고 그리고순 해야 되고 그리고 그 해야내내 되고 그리고해야 돼야 되고 해 그런 책임 책임 있기 보니까 리더는 리더형이라고 말할 수 있습니다.습니다.  저 팔 모르겠 척을 하거나 아니면 아니면난 척를 하던가 이런 거를 리더니다. 저 저 일을든 어떤 리더 조직이 리더 리더시가든 간에 저 그 리더 리더의를의를불화가불 불의를불 불 간에 충돌이하고 서로 거는 잘는 리더 봅니다. 그래서 리더에서 어 거 잘해 어득이하고 납하고 어 해해야 어하는 하는 그런 역할을이기  저 리더적이고 어하고 그리고 그리고하게 하는 그런입니다. 합니다. \n",
            "직무: 디자인 경력상태: 경력직 질문: 공동체로서 무형 문화유산의 보호에 있어 적용되는 사회적 관념은 무엇이라 생각하나요 답변: 개성과 전통이 어우러져서 그 가치를 알아보고 보존하는 것이라고 생각합니다. 그 무형으로서의 그 문화유산을 보호하고 지정해서 보호한다는 것 자체가 어쨌든 그것들이 지니고 있는 가치나 개성을 잃지 않고자 하는 마음이라고 생각하고 있어요. 그래서 우리가 그것들을 어쩌면 개인의 시작일 수도 있었겠지만 우리가 이것을 다 같이 지켜주자 라는 의미가 녹아있는 거라고 생각이 들고 그것들이 분명히 후대에도 가치가 있을 거고 우리 외에 다른 공동체에서 봤을 때도 아 이것은 정말 뛰어나다 라고 느낄 수 있게끔 하기 위해서 하는 것이라고 생각이 들기 때문에 우리는 그거를 지켜야 할 의무가 있고 그 가치를 알아볼 수 있어야 한다고 생각을 하고 있습니다. 그리고 그러한 시선은 어쨌든 그 개성과 그것을 지키고자 하는 마음이 같이 공존해야 한다고 생각합니다. \n",
            "직무: 공공 경력상태: 신입직 질문: 지원 가치에 무형문화산의 보호에 있어 적용되는 사회적 관념은 무엇이라고 생각하요 답변: 무개인의 다양 깃러져서 무 공동 지켜가는자 것이 생각합니다. 무 가치를형 문화유 가치를 가치를산을 보호하는 보존하는해 보존하는해야 것은 자체가 그 그들을 우리 있는 가치를관 그 존중 않고 그 하는 그런에서 생각요.요. 그래서 그 그들을 잘 그 어떤이라고 수도 있고겠지만 그 그것을 통해서 지켜 공유나가 라는 마음으로 아닐있는 것잖 생각 요.들을 가지고 우리에도 계승 있고 거라고 또도 다른 사람들도에도 우리가봤을 때도 그 이 우리 우리다 라는 생각 수 있는끔 하는 위해서 우리가 것이라고 생각  때문에 그런 그것 가치를 보호 한다고 의무가 있다고 그것을거를 지켜 수 있는 한다고 생각 합니다. 있습니다.  그 것들이야를 그 그 무성과 전통이 보존려는 하는 마음 있어야 있어야하는 한다고 생각합니다. \n",
            "직무: 디자인 경력상태: 경력직 질문: 오늘 면접 준비하느라 고생 많이 하셨을 텐데 면접자님은 어떤 방식으로 면접을 준비하셨는지 말씀해 주실 수 있나요 답변: 저는 어 사람들과 어떤 소통을 하는 걸 좋아합니다. 그래서 제가 지금 뭐 작은 점포를 운영하면서 자영업을 하고 있는데요. 그 자영업을 하면서 제가 예술 분야와 연결시켜서 할 수 있는 그런 능력들을 키워나갈려고 상당히 부단하고 부단하게 노력했습니다. 예술 분야는 저의 삶을 특히 정서적인 부분을 고무시키고 저의 삶을 윤택하게 하는 그리고 저의 어떤 어 마음가짐의 변화에 상당히 도움을 주는 힘을 주는 원천이 되기도 합니다. 그리고 이런 것들에 대한 어 이 예술 분야와 저의 지금 갖고 있는 직업 지금 제가 하고 있는 어 건강에 관련된 그리고 채소를 주제로 한 그런 삶을 윤택하게 하는 건강한 음료하고 연관시켜서 모든 부분을 창의적으로 개발하고 설계하며 노력해 왔습니다. 끊임없이 주변 어 소비자들에게 만족도를 어 조사하고 거기에 대한 피드백을 탄탄히 하여 기록해 왔습니다. \n",
            "직무: 공공 경력상태: 신입직 질문: 지원 면접 준비하느라 고생 많이 하셨습니 텐데요을님 어떤 방식으로 면접을 준비하셨는지 말씀해 주실 수 있나요 답변: 네는 면접 면접의 방식으로통을 할 데 좋아하고 그래서 어 면접 면접 면접 모임심 하나하면서 어영업업을 하고 있는데요. 어 자영업을 하면서 어 어떤 디자인와 관련된이 어 수 있는 그런 소들을 많이나가 수 노력을 노력을단히하게 노력을단히하게 노력을했습니다. 그래서 분야 제가는 전공 굉 많이적으로 부분에 많이적으로 또의 어떤 풍요택하게 해 그런 저의 삶을 그 그가짐을과 변화를 대해서 큰 많이 분야 가지고 분야천이 되는 합니다. 그래서 저 부분들에 대해서 어떤 저력을 분야와 관련된의 어떤 현재 있는 어떤에 가지고 가지고 있는 이 이 대한 부분 저 재배하는 해서 그런 어 사는택하게 하는 그런 삶을들을 그리고돼 어 사람들이 어적으로 어 싶하고 어했 왔습니다.  새로운 사람들과 주변자들에게 어을 높이고 높여하고 또 대한 피드백을 받고탄하게 하고서 놓는고 \n",
            "직무: 디자인 경력상태: 경력직 질문: 커뮤니케이션을 잘할 수 있는 본인만의 스킬이 있으신가요 있다면 한번 소개해 주시겠어요 직접 한번 보여주셔도 좋습니다 답변: 저는 어 상대방과 커뮤니케이션 즉 의사소통을 할 때 서로 말 그대로 소통에 집중합니다. 소통이라 함은 저의 의사와 상대방의 의사를 서로 주고받는 것인데요. 저의 의사만을 고집하거나 상대방이 상대방의 고집만 고집을 굽히지 않을 때는 이런 소통이 어렵다고 생각합니다. 따라서 이렇게 갈등이 빚어질 수도 있고 소통이 원활하지 않을 수 있는데요. 이럴 때는 어 우선은 상대방이 무슨 말을 하는지 그 상대방의 말에 경청을 합니다. 경청을 해서 상대방이 가장 중요하게 생각하는 부분을 어 도출해 내구요. 그 으 상대방이 중요하게 생각하는 부분에 대해서 다시 한번 확인을 한 다음에 그 확인이 맞다면 상대방의 입장을 공감하고 공감을 형성할 수 있는 그리고 같은 편으로서 어 공 교 교 교감 할 수 있는 그런 것들을 서로 주고받습니다. 그렇게 서로 분위기가 어 좀 유연해지면 서로에게 서로의 주장을 하면서도 어느 정도 상대방의 의견을 어 들어 줄 수 있는 그런 공간을 만들어서 서로 소통할 수 있는 기회를 확보합니다. \n",
            "직무: 공공 경력상태: 신입직 질문: 지원을 잘 할 수 있는 본인만의 스킬이 있다면으신가요 있다면 한번 소개해 주시겠습니까요 직접 한번 보여주셔도 좋습니다 답변: 커뮤니케이션는 커뮤니케이션 커뮤니케이션방과 커뮤니케이션을 소통을 잘 때 어 간에하고자 경통을 있어서을 어이라는 함은 서로희가 생각 상대방의 의사를 잘 잘 것인데요. 저는 의사 표현을 일방적으로하는 상대방의 말하는 의사를하는 부집을 한다면 않는다면 때 저 커뮤니케이션통이 잘습니다. 생각합니다. 그래서 저 소 있는졌을 때 있는 서로통이 안하지 않을 수도 있습니다.요. 저럴 때 저 저 상대방의 상대방의 어떤 말을 하는지 먼저 사람의 말을 귀를청 합니다. 그리고청을 하 그 원하는 원하는 생각하는 것이 먼저 얘해 내요. 그러면 다음에 그 원하는 생각하는 부분을 대해서 어 한 어 하고 다음에 그 부분을률을 된다면 그 말을 고려해해 그 해 수 있는 그런 그 말을이라고 어 소감의감을감을하는 수 있는 그런 시간을 어 어습니다. 그렇게 되면 소 좋아 우호 우호해지고 어 소 호 의견을 어 어 정도 어 의견을 수용 수용줄 수 있는 그런 상황이 마련 서로가하는 수 있는 그런 많이합니다. \n",
            "직무: 디자인 경력상태: 경력직 질문: 대학 생활 가장 힘들었던 경험은 무엇인가요 답변: 어 대학 생활 중에서 가장 힘들었던 경험은 무엇인가요 라고 하셨는데요. 저는 방송통신대학교를 나와서 그 사람을 직접 만나서 이렇게 커뮤니케이션이 돼야지만 더 이해력도 되고 더 빨리 습득이 될 텐데 방송으로 공부를 하다 보니까 음 약간 그 질문도 할 수 없고 이해성이 떨어지는 바람에 조금 그런 면이 어려웠었다라고 생각을 합니다. 어 시간이 난다면 공개 강의 같은 것 어 이런 것들이 큰 도움이 될 거라고 생각을 하는데 원체 지금 삶 속에서 시간이 없기 때문에 그 없는 시간을 쪼개서 그리고 나름대로 공부를 하고 있는 거기 때문에 그 방송을 통해서 공부를 하지만 그렇지만 그것이 힘들다 라고 생각을 합니다. 그래서 그냥 일반 대학교 다니는 게 참 좋다고 생각합니다. 그리고 부럽습니다. 그리고 나중에는 꼭 다닐 겁니다. 네 감사합니다. \n",
            "직무: 공공 경력상태: 신입직 질문: 지원 생활을 중 힘들었던 경험은 무엇요 또한변: 대학 대학 생활을 가장 가장 힘들었던 경험은 어요 그것을 말씀셨는데요. 어는 대학학과를대학교 나왔서 방송 방송 만나 만나서 인터 인터을 안야 되는이 좋은도가 더 또 잘 이해할할 될 수데 그통신 사람을 하다 보니까 어 그 그 사람의 자체가 많고 수 있고 또력도 좀 그런 어 힘들 부분이 힘들습니다.습니다. 라고 말씀 합니다. 그래서 그래서 지나고다면 그때적인도 것도에도 그런 것들을 있을 도움이 되지 것라고 생각을 하는데요.체 그 현재에서 어 많이 때문에 어 시간을 시간 어떻게서라도 또 시간을 해야 또 중 때문에 어 시간을 통해서 어 하고 그 그 또다 라고 하 하면  그 그인에 것 아니라 힘들 생각을합니다.  또끄럽습니다.  또 또 방송 수니다. .합니다. \n",
            "직무: 디자인 경력상태: 경력직 질문: 본인이 하고 싶은 업무가 있다면 어떤 것이 있을까요 답변: 본인이 하고 싶은 업무가 있다면 말씀해 보세요 라고 질문을 주셨는데요. 음 내가 하고 싶은 일은 어 저는 성격이 음 저 어 긍정적인 사람이다 보니깐 어 더 사람들의 심리 파악을 잘하고 사람들의 마음을 잘 읽어서 어 그 마음이 전달을 잘하고 있습니다. 그래서 어 제가 어떤 그 사 상담 사 심리 심리학 상담 뭐 이런 업무를 한다라면 저는 잘 할 것 같습니다. 어 사람들의 심리 어 심리 테스트 어 심리 연구 뭐 이런 것들을 잘 하기 때문에 저한테는 그 업무가 어 맞다 라고 생각합니다. 혹시 만약에 저한테 그런 업무가 주어진다면 저는 어 정말로 재미있게 어 열심히 잘 할 것 같습니다. 그래서 꼭 저한테 그런 업무가 주어지기를 간절히 바랍니다. 이상입니다. 감사합니다. \n",
            "직무: 공공 경력상태: 신입직 질문: 지원 생각 싶은 직무 있 말씀 업무 있는지까요 답변: 네 하고 싶은 업무가 있다면 저해 주세요. 하고 질 하셨는데요. 어 제가 하고 싶은 업무는 어 일단는 이제 좀 좀는 좀 마인기 보니까 어 좀 어 마음을나을 잘 할 어 말을 잘 헤아어서 어 그 사람이 어떤이 잘 할 어 그래서 어 그 하고 업무를 일을안에이나 상담사 공부를사 이런 쪽에 하고 라고 어는 어 할 수 같습니다. 어 왜냐하면 마음을 파악 파악 파악스트를도 그런 상담 이런 이런 것들을 좀 할 때문에 어는테는 어게 어 저다고 라고 생각을합니다. 시라도에 제가한테 어 업무를 주어진다면 저는 어 그말로 어있게 할 그 어 할 것 같습니다.  어 해한테 어 업무가 주어진지 바절히 바랍니다. 입니다. 합니다. \n",
            "직무: 디자인 경력상태: 경력직 질문: 업무 시 분쟁이 발생했을 때 본인만의 대처법이 있나 답변: 업무 시 분쟁이 발생 했을 때 본인만의 대처법이 있나요 라고 말씀을 해 주셨는데요. 업무를 하다 보면 의견이 안 맞고 또한 의견이 안 맞다 보면 분쟁이 일어나게 되어 있습니다. 어 무슨 일을 하든 간에 어 그 일에 있어서 의견이 안 맞는다면 상대방을 잘 이해를 시키고 설득을 시키고 어 그리고 어 알아들을 수 있게 혹시 혹시 입장이 내 입장이라면 한 번쯤은 어 이렇게 생각해볼 수 있지 않겠나 라는 어떤 그 이해력을 가지고 이해를 시켜서 어 화해를 하고 어 그래서 더 돈독하고 가까운 그런 어 그 사이가 될 수 있도록 저는 중간에서 중간 역할을 잘 할 것이고 음 그래서 어 이 내가 하고 있는 이 업무를 어 조금 더 발전시키는 데 공헌하는 데 이바지가 되도록 저는 그렇게 최선을 다할 것입니다. 감사합니다. 이상입니다. \n",
            "직무: 공공 경력상태: 신입직 질문: 지원 중 분쟁이 발생할 때를 지원만의 대처법이 있으요변: 업무 시 분쟁이 발생했을한다면 때 저만의 대처법이 있는지나요 있다면 질문을해 하 주셨는데요. 어 하다 보면은 다를 맞 서로 서로 안 맞아서 라고은 발생할 됩 있습니다. 저 저 일이 하든 간에 그 그 의견 대해서 어 안 맞다은 설득 설득 하고고 그을 시키고 어 그 그 그들을 수 있도록끔시라도시라도 안 입장인지 어 번 더은 어 그 생각을 보 수 있는 않을까습니까 라고 생각을 그런 어의 가지고 어 시키서 어 그해를 시키 어 그 그 좋은독하게 어 사이가 관계를 그런 관계를 될 수 있도록 어는 노력을에서 어에서 하는 할 수요. 그 어 분쟁이 분쟁이 이 싶은 일이 일이 잘 잘 더 어 데 있어서할 그런 어 역할을지가 될 노력을는 노력을 할선을 다할 것입니다. 합니다. 입니다. \n",
            "직무: 디자인 경력상태: 경력직 질문: 일을 하시면서 여러 가지 갈등 상황을 겪어보셨을 텐데요 만약 구성원들과 갈등을 겪게 됐을 때 어떻게 해결을 하실 건가요 답변: 조직에서의 갈등은 일상입니다. 다른 사람들이 모여 일을 하다 보면 갈등이라는 것은 갈등은 수시로 발생하며 그 형태도 다양합니다. 갈등은 좋다 나쁘다를 논하는 것보다 발생한 갈등으로 인해 불필요한 에너지를 사용을 하고 자원을 사용하는 상황들이 발생할 수 있기 때문입니다. 그래서 미연에 방지하는 것이 필요합니다. 문제는 이런 갈등을 사전에 방지하는 것이 쉽지 않은데요. 갈등을 해결하지 않거나 관리하지 않게 된다면 그것은 점점 증폭되어 구성원들의 조직적 목적보다 갈등 그 자체에 대한 더욱 염려이기 때문에 조직의 성장은 멈추게 되어 있습니다. 그래서 조직에서 갈등이 발생하면 비 온 뒤에 땅이 굳는다는 말처럼 더 단단한 관계를 발전시키는 시간이 필요하다는 것을 잊지 않는 것이 가장 중요합니다. 갈등은 크게 업무 갈등과 관계 갈등으로 나눌 수 있는데요. 업무 갈등은 말을 통 일을 통해 성과를 내고 변화를 위해서 꼭 필요한 갈등이라고 합니다. 관계 갈등은 구성원 간의 정서적인 이슈가 연결되어 협업의 장애가 될 수 있습니다. 사례 속에 최대리와 김대리는 어떤 갈등을 겪고 있는지 한번 이야기해 보겠습니다. 꼭 중재를 해야 하나 물어보실 수도 있지만 지금 상황에서는 해주셔야 합니다. 왜냐하면 다른 한 사람이 그 갈등에 대해서 요청을 원했기 때문에 요청을 할\n",
            "직무: 공공 경력상태: 신입직 질문: 지원 하면서 가장 가지 어려운 상황이 마주으 보셨을 텐데요 그에들과 갈등이 겪게 된다면 때 어떻게 해결 하셨지가요 답변: 어 생활을 갈등은 어적으로 그 부랑있는 하다 보면 갈등이 상황이 것이 피할 피할 발생합니다. 그 갈등을 다양합니다. 저 서로지만 나쁘다 떠나서할 것이 그 원인을에 인해 발생한 오 소모 하게 그 낭비 경우가도 많 수 있습니다. 때문에입니다. 저 저연에 방지 것이 가장합니다. 갈등 갈등 갈등 미 방지하는 것이 가장 않데요. 저 미리하지 않고 갈등을하지 않는다면 되면다면 결국 결국 더되어 결국들 사기를 생활에 갈등이 의식에 더으로 자체를만 책임을 큰와 때문 갈등이 목표를과로 물론이고게 됩 있습니다. 그래서 저 갈등이 발생하면 그효 뒤에 땅이 굳듯이 말이처럼 갈등 큰 조직을 유지 것이 필요 것을 깨달 말아야 것이 중요 중요하다고합니다.  서로 두적인 업무적인으로 나눌 수 있습니다.요. 업무 갈등은 서로 하지하거나 하는 해결 내는 그 꾀 노력하는 필요한 과정입니다. 생각 란 서로들 갈등적인 문제가 아니라서업을 과정에서 되기도 수 있습니다. 그래서로 있는 갈등 갈등을리가 갈등을 갈등을 겪 있었 알 더해 보겠습니다.  해결재를 해 하는요.보겠 수 있 중 당장에서는 중실야 할  중 구성원 사람이 다른 갈등을에 대해 깊게 하고할 때문 그 하는 수\n"
          ]
        },
        {
          "name": "stderr",
          "output_type": "stream",
          "text": [
            "Validation Epoch 4: 100%|██████████| 502/502 [04:20<00:00,  1.93it/s, loss=2.2940]\n"
          ]
        },
        {
          "name": "stdout",
          "output_type": "stream",
          "text": [
            "calculating scores...\n",
            "computing bert embedding.\n"
          ]
        },
        {
          "data": {
            "application/vnd.jupyter.widget-view+json": {
              "model_id": "22b6339dc5574389942a155777b6e5c5",
              "version_major": 2,
              "version_minor": 0
            },
            "text/plain": [
              "  0%|          | 0/251 [00:00<?, ?it/s]"
            ]
          },
          "metadata": {},
          "output_type": "display_data"
        },
        {
          "name": "stdout",
          "output_type": "stream",
          "text": [
            "computing greedy matching.\n"
          ]
        },
        {
          "data": {
            "application/vnd.jupyter.widget-view+json": {
              "model_id": "e264529ae58945f196cb17b53188e219",
              "version_major": 2,
              "version_minor": 0
            },
            "text/plain": [
              "  0%|          | 0/126 [00:00<?, ?it/s]"
            ]
          },
          "metadata": {},
          "output_type": "display_data"
        },
        {
          "name": "stdout",
          "output_type": "stream",
          "text": [
            "done in 319.90 seconds, 25.09 sentences/sec\n",
            "Epoch 4 Average Validation Loss: 2.1161\n",
            "Epoch 4 Average Validation BLEU: 1.1363\n",
            "Epoch 4 Average Validation ROUGE: {'rouge1': 0.3733726912575121, 'rouge2': 0.11597023654426206, 'rougeL': 0.3004440518497631}\n",
            "Epoch 4 BERTScore Precision: 0.7888\n",
            "Epoch 4 BERTScore Recall: 0.7800\n",
            "Epoch 4 BERTScore F1: 0.7843\n",
            "Saving best model with validation loss: 2.1161\n"
          ]
        },
        {
          "name": "stderr",
          "output_type": "stream",
          "text": [
            "Training Epoch 5: 100%|██████████| 4255/4255 [1:36:06<00:00,  1.36s/it, loss=1.5819]\n"
          ]
        },
        {
          "name": "stdout",
          "output_type": "stream",
          "text": [
            "\n",
            "Epoch 5 Average Training Loss: 1.9635\n"
          ]
        },
        {
          "name": "stderr",
          "output_type": "stream",
          "text": [
            "Validation Epoch 5:   0%|          | 1/502 [00:00<04:25,  1.89it/s, loss=2.3255]"
          ]
        },
        {
          "name": "stdout",
          "output_type": "stream",
          "text": [
            "직무: 디자인 경력상태: 경력직 질문: 타 부서와 갈등 상황이 생겼을 때 어떻게 해결하겠는가요 답변: 음 타 부서와 갈등 상황이 생겼을 때 어떻게 해결하겠는가 라고 말씀해주셨는데요. 살다 보면 우리가 부딪치지 않는 일은 없을 것 같습니다. 항상 부딪치고 해결하고 또 살아가고 또 부딪치고 해결하고 또 살아가고 하는 것들이 이 인생인 것 같고 삶인데 타 부서와 갈등 상황이 생겼을 때는 일단 어떤 것이 잘잘못인가를 일단은 어 판단을 해야 될 것이고 그리고 내가 잘못한 일이 있다라면 정중하게 사과하고 미안하다 하고 미안하다 라고 하고 그리고 금방 화해를 할 것 같습니다 .하지만 상대방이 잘못된 일이 있다라고 하면 꼭 그것은 그 이해를 시키고 납득을 시키고 그리고 잘못된 부분은 이런 이렇게 잘못된 부분은 고쳐 나갈 수 있는 거 바꿔 나갈 수 있는 거 이런 거를 유도하고 그래서 그렇게 할 것 같습니다. 그 잘 뭐든지 잘 해결하고 그렇게 살 살아 갑니다 제 성격이. 감사합니다. \n",
            "직무: 공공 경력상태: 신입직 질문: 지원인이서와 갈등 상황이 발생 때 어떻게 해결하습니까요 상황을변: 네 타 부서와 갈등 상황이 생겼을 때 저 해결하겠냐 라고 물어을신는데요. 어 보면은 갈등치는 않는 일 없 거 같습니다. 왜냐하면 부딪치는 부딪해야 부딪 부딪야 있는데 부딪치고 또하고 이런 부딪고 있는데 게 있는데게에서 것 같요.인요. 부서와 갈등 상황이 생겼을 때 어 그 부분에서 문제 해결못인지 먼저단은 파악 파악 해야 될 것요. 그 잘못한 것이 있다면 라고 그하게 사하고 어안하다 라고 사안하다 하고 하는 어 내가방 사해를 해야 것 같습니다.다 라고그리고 그 잘못 부분이 있다면 라고 하면 그 사 사 사람의 하고고 또득을 시키고 또 그 것이 어 식으로 해결해 부분을 이렇게 나가 수 있도록 그런를 나가 수 있는 거를 것들을를 먼저해서 설득 그 해결을 것 같습니다. 게잘 잘못 잘 해결하고 잘 해서면왔니다.다 라고 인생. 합니다. \n",
            "직무: 디자인 경력상태: 경력직 질문: 지금까지 인생을 살면서 가장 후회되는 일이 무엇이었는지 한 가지만 말씀해 주실 수 있습니까 답변: 저는 성격이 긍정적이라서 조금 후회하는 걸 별로 많이 느껴보지 못했는데요. 그래도 그중에서 하나 아쉬운 부분을 꼽자면 제가 대학교 사 학년 쯤 취업 준비를 할 때 다른 친구들에 비해서 좀 스스로 취업 준비가 잘 안되고 있다고 판단을 했던 것 같습니다. 그래서 부모님께 예민하게 굴었던 적이 좀 후회가 되는데요. 그건 나중에 스스로도 충분히 깨달았던 부분이라 부모님께 자리를 마련해서 너무 철없이 굴었던 것 같다고 죄송하다는 말씀을 함께 드리면서 어 용서를 구했던 경험이 가장 기억에 남습니다. \n",
            "직무: 공공 경력상태: 신입직 질문: 지원 살아 살면서 가장 후회되는 일이 있다면입나 한 가지만 골라해 주세실 수 있나 답변: 어는 인생을 매우입니다.서 어 더되는 일이 많이 좋아 하는본 않았했는데요. 어 제가 가장 골라운 게 말씀자면 제가 고등학교 때 학년 때쯤에 되었을 준비를 하면서 때 어 친구들이 비해 조금 늦게 많이 준비를 좀 안 됐 좀 느꼈 해서 것 같습니다. 그래서 그님께 좀하게 좀었던 것 있었는데 많이회가 됩요. 어게 제가 제가 좀 좀 인지았 부분이고서님께도 마련해서 취업 힘들없 살았던지 것 같 생각이송하다고 말씀을 드 드면서 그 좀서를 빌했 것 있습니다. 후회에 남습니다. \n",
            "직무: 디자인 경력상태: 경력직 질문: 팀으로 일하는 것이 있구요 혼자 일하는 것이 있다면 그 둘 중에 내가 팀이 맞는지 혼자 일하는 게 맞는지 어느 것을 선호하는지 말씀해 보세요 답변: 팀으로 일하는 것과 혼자 일하는 것 중 어느 것을 선호하는가 라고 질문을 해 주셨는데요. 팀으로 일하는 것은 여러 사람들의 의견과 하나가 되 되고 유치를 해야 되고 또 그 어 팀 웍이라는 조직을 조직이 있어야 하지만 혼자는 누구하고 의견 충돌이 있 있 음 안 일어나도 되고 나만의 개성을 살려서 어 얼마든지 어 혼자 하는 것을 혼자 하는 것이 더 어 좋다 라고 저는 생각하지만 언제까지 혼자 일할 수는 없는 것입니다. 어 언제까지 혼자 일할 수 없기 때문에 저는 팀원으로서 또 이 조직으로서 일을 하는 것을 더 선호하고 어 같은 조합과 조직 그 배합을 서로 간에 배합을 잘 맞춰서 그렇게 이끌어 나갈 것 같습니다. 그래서 팀으로 일하는 것과 혼자 일하는 것 즉 어느 것을 선호하는가는 저는 팀으로 일하는 것을 어 선택할 것 같습니다. 그리고 어 그들에게도 또 희망을 불어넣어줘서 희망을 갖게 할 것입니다. 감사합니다. \n",
            "직무: 공공 경력상태: 신입직 질문: 지원으로 일하는 것과 더습니요 혼자 일하는 것이 있 팀 둘 중에서 어떤 더 더다고 팀 일하는 것이 맞는지 그 쪽이 더하는지 그해 주세요 답변: 팀으로 일하는 것과 혼자 일하는 것 중 저 것을 더지요 말씀 하 주셨는데요. 어으로 일하는 것과 어 사람이 의견을과 의견을 돼다 그익을 해야 하는 또 그 안에서 그으로웍이 것이 통해서 잘 되고 그자가 할 하나도 충돌이 있을든든 없고 생길야 되는 어 혼자 의견 가지고릴 어 팀든지 어 팀 하는 것보다 선호 하는 것을 더 좋다고 좋은다 라고 생각을는 생각을합니다. 팀든나 할 수 없다고 것 팀 팀까지 팀 할 수는 있는 때문에 팀는 팀으로 어 팀 팀 안에서 어 해야 것이 선호 선호 있습니다. 팀 팀으로 같은 안에서 안에서합을 통해서 맞춰 잘합을 해서 해서서 어 일을 갈 수 같습니다.  팀으로 일하는 것은 혼자 일하는 것 중에 팀 것을 더가 어는 뭐으로 일하는 것을 더 선호 것 같습니다.  팀 팀 어 어 어 줄어 줄야 어 줄 해 수 합니다. \n",
            "직무: 디자인 경력상태: 경력직 질문: 만약 자신이 게임 속에 있다면 어떤 역할을 할 것인가 답변: 만약 자신이 게임 속에 있다면 어떤 역할을 할 것인가 말씀해 보시겠습니까 라고 질문을 주셨는데요. 저라면 게임 속에서 저는 음 유명한 어 씨이오가 한 번쯤은 되보고 싶습니다. 그 씨이오가 된다는 것은 음 씨이오 가 된다는 것은 어떤 그 리더 리더로서의 자격이 있어야 되고 그 씨이오가 된다는 것은 음 그 어떤 자질에 또 문제가 있을 것이고 어 그리고 그 그 씨 자기 자신만의 어 자기 자신만의 어떤 특성 특성과 어떤 개성적인 어떤 그런 그 노하우 어 노하우 같은 걸 가지고 어 참 이렇게 좋은 그 어 대표가 될 것 같습니다. 어 나는 제가 그런 대표가 한 번쯤은 되보고 싶은 그런 역할을 해보고 싶습니다. 단지 게임 속이지만 게임 속에서라도 그런 걸 해보고 싶습니다. 감사합니다. 이상입니다. \n",
            "직무: 공공 경력상태: 신입직 질문: 지원 지원 하고 속 캐릭 어떤 게임 맡 것인지요변: 저 제가 게임 속 있다면 어떤 역할을 맡 것인가 라고해 주세세겠습니까. 질 하셨는데요. 어는 어 속에 어떤는 어 뭐 캐릭 마피 역할을 되고 역할을 해은 해보고 싶습니다. 어분은이오가 한 것은 어 뭐이오가 돼 것은 어 게임 게임의의 역할을 있고 되고 그 리더이오가 돼 것은 그 그 리더 그질이 대한 어 있다고 수 그 그 그 리더 리더이오 자신의 어떤 그만의 어 그이나 어 그 그런 그런 어 어하들이 이런하우 이런 것들이 가지고 어 어떤 좋은 어 리더 리더 리더 될 수 같고습니다. 어 그런 어 리더 역할을 되고 번쯤은 돼보고 싶 그런 어 한보고 싶습니다.  그 속에 캐릭 어 속만 어 씨 가지고보고 싶습니다. 합니다. 입니다. \n",
            "직무: 디자인 경력상태: 경력직 질문: 만약 자신이 게임 속에 있다면 어떤 역할을 할 것인가 답변: 만약 자신이 게임 속에 있다면 어떤 역할을 할 것인가 라고 질문을 주셨는데요. 저는 내가 게임 속에 있다면 음 한 번쯤 여왕이 되는 어 역할을 한 번 해보고 싶습니다. 그냥 평범하게 이 한 가정을 위해서 또 자식을 낳고 자식을 키우면서 우리 한 가정을 지키기 위해서 정말로 앞만 내다보고 열심히 달려서 그리고 진짜 일도 열심히 어 그리고 이렇게 열심히 살았던 것 같습니다. 내 자신을 한 번도 돌아보지 못한 그런 안타까운 시간들을 어 게임 속에서나마 내가 최고의 자리인 여왕이 한번 돼서 어 좀 더 아름답게 멋지게 그 그런 삶을 한번 겪어보고 싶습니다. 한번 경험해 보고 그리고 내가 꼭 하겠다라고 생각한 거 이루겠다라고 생각해 한 거 그 모든 것들을 내 스스로가 해낼 수 있는 그런 그 역할을 한번 해보고 싶습니다. 예 \n",
            "직무: 공공 경력상태: 신입직 질문: 지원 지원 하고 속 캐릭 어떤 게임 맡 것인지요변: 저 제가 게임 속 있다면 어떤 역할을 맡 것인가 라고 말씀 하셨는데요. 어는 어 게임 속에 있다면 어떤 뭐 가지 해은 돼 역할을 그런 해 번 해보고 싶습니다. 어 어하게 어 게임을 나라를 꾸 어 어 위해서 또 낳고우고 어를 가정을 위해서 위해서 어말로 어만 보고다보고 어 하는가는 어 어 어 열심히 하고 열심히 어 열심히 해서 그런 같습니다. 어 자신이 위해서 번 돌아보지 않고 그런 어운 상황들이 보냈 그런 속에서라도 어 한 왕이까지 여왕 되어서쯤보고 어 그런 더 어 어지게 어 한 역할을 살고 살아어보고 싶습니다. 쯤해 보고 싶 또 한 해야다 라고 했던 그런는었던다 라는 했던보는 번에게 것들을 다 스스로 한내 수 있는 그런 어 어 한번 해보고 싶습니다.  이상\n",
            "직무: 디자인 경력상태: 경력직 질문: 이직을 생각하는 동료에게 뭐라고 할 것인가 답변: 이직을 생각하는 동료에게 뭐라고 할 것인가 라고 말씀을 해 주셨는데요. 아 한 번쯤 잘 생각해 보라고 일단은 조언을 해 줄 것이고 그리고 또 이직을 생각 생각했다 라고 한다면 지금 직장보다는 더 나은 곳으로 갈려고 하기 때문에 격려도 해줄 것 같습니다. 그리고 그 동료가 잘 됐으면 좋겠고 또 어디 가서든지 인정 받았으면 좋겠고 그 동료가 하는 그 일 그 자리에서 그 동료도 어 최고의 어 자리가 그 최고의 그 인재가 되기를 바라고 됐으면 좋겠고 그리고 어 잘 됐으면 좋겠습니다. 잘 됐으면 좋겠고 어 화이팅 하라고 제가 어 그 그 축복의 에너지를 어 보내고 싶습니다. 어 그리고 저도 만약에 어 더 좋은 자리가 있다 라고 생각하면 저도 한 번쯤은 생각해 보지 않을까 라는 그런 생각도 합니다. 어 잘 생각해보겠습니다 이상입니다. 감사합니다. \n",
            "직무: 공공 경력상태: 신입직 질문: 지원 직무 생각하는 동가 뭐라고 말씀까요변: 이직을 생각하는 동에게 뭐라고 말씀 것인가요. 물어을 하 주셨는데요. 어 그 번쯤은 생각해 보라고 말씀단은 그 해주고 것요. 그 그직을 생각하는한다면한다면으면 라고 하면 어 이도 다른 나은 곳으로 갈 수 하는 때문에 어를 해 줄 것이고 같습니다. 아 또 동료가 이 할으면 좋겠다 또 이를도 잘받는으면 좋겠고 어 동료가 이 일이 일이들이 동료 최 동료가 잘 잘 디자이너 최고의 될 동료 자리에 자리에재가 될 바라고 또기 좋겠습니다.요. 그 그 됐으면 좋겠고 어 됐으면 좋겠고 잘 그이팅을라고 얘 말을 말을 말을 동료구를 말을   싶습니다.  그리고 또는 그에 이 이 좋은 곳으로 있다면 라고 하면 어도 그 번쯤은 그 볼 않을까요. 생각이 생각을도 해  그 됐 봐라고습니다.다 라고입니다. 합니다. \n",
            "직무: 디자인 경력상태: 경력직 질문: 최근 유망하게 뜨는 기업들이 있습니다. 당신은 어 전공을 불문하고 지금 제일 가고 싶은 회사는 어떤 분야이고 왜 그 회사를 가고 싶은지 그 이유를 말씀해 주십시오. 답변: 제 지금 제일 가고 싶은 회사는 이라고 질문을 주셨는데요. 어 우선은 지금 제가 지원한 이 회사가 가 가고 싶었기 때문에 여기를 지원을 하게 됐구요. 또 복지도 좋고 또 연봉 체계도 좋고 그리고 일단은 내가 하고 싶은 일을 할 수 있는 어 그런 배려를 많이 해줘서 해줄 수 있는 회사고 그리고 또 해외 지사도 많고 제 저에게는 이곳에 이곳에 합격을 해 주신다라고 하면 제가 해 하고 싶은 일은 참 많을 것 같고 해낼 수 있는 일들도 참 많을 것 같습니다. 음 그래서 저는 이 회사가 어 제일 좋습니다. 그리고 이곳에서 꼭 어 일하고 싶고 이곳에서 제가 인정받고 싶고 또 이곳에서 어 외국 지사도 꼭 가보고 싶고 그렇게 많은 그 잘하고 싶습니다 . 저를 선택해 주신다면 정말로 감사를 드리겠습니다. 감사합니다. 이상입니다. \n",
            "직무: 공공 경력상태: 신입직 질문: 지원 고령엑하다고 떠오르는 아이 많이 그신은 유 유 전공한 유 현재 유 싶은 회사가 어떤 회사인가 왜 그 회사를 가고 싶은지 그 이유를 말씀해 주세십시오 답 답변: 저 전공 현재 가고 싶은 회사는 어쪽 하는 주셨는데요. 어 저 저 제가 제가 이한 이 회사는 어고자 싶은습니다. 때문에 어기가 지원 하게 됐습니다.요. 어 이지가 굉 어 어도도 좋고 어 어 년 제가 이 싶은 일을 할 수 있는 그런 그런 환경이도 좀 해줘서 어줄 수 있는 그런라고요. 제가 제가에서도사가 많이 또 이의 기회가 취 취격을 해서 가지고신다면 라 하면 어 이줄 싶은 일을 어 많 것 같요.보고 수 있을 일이들이 많을 많을 것 같습니다. 그래서 저 저는 이 회사에 저 저 가고다  또 일을 일을 일을 싶고요. 꼭 하고 싶고 어 제가 어 제가인과사에 많이 가고보고 싶습니다.요. 해서 사람들과 기회를 할 싶은습니다.다 라고그래는 뽑아해 주신다면 저말로 감사 드겠습니다. 감사합니다. 입니다. \n",
            "직무: 디자인 경력상태: 경력직 질문: 입사했는데 원하는 선배의 모습이 어떤 선배의 모습일까 생각해보셨나요 무엇이 무엇이라고 생각하십니까 답변: 입사해서 원하는 선배의 모 모습이 무엇인가요 어 라고 질문을 해주셨는데요. 입사해서 원하는 선배의 모습이라는 것은 일단은 의사소통이 잘되고 어 그리고 어 지하 직원들에게는 어 그 뭐 배려와 어떤 이해심이 있다라면 더 좋겠구요. 독설적이고 어 그 그 박박한 성격인 보다 어 그런거보다 어 화합하고 어 상생하고 어 한 가족 같은 그런 모습을 가졌더라면은 더 좋을 것 같고 이것이 욕심이라면은 제가 또 적응을 해야 되겠지만 기왕이면 한 식구다 보니까 이미 한 식구가 됐다 보니까 그런 분들과 같이 일을 하면 더 좋을 것 같습니다. 기왕이면 선배님이니까 그렇 그 중에서도 또 저도 또 그렇게 노력할 것입니다, 이상입니다. 감사합니다. \n",
            "직무: 공공 경력상태: 신입직 질문: 지원 후에 업무 만큼배의 모습이 있 모습배의 모습이었까요 보신나요 답든인 생각하시는니까 답변: 제가 후 선 선배의 모습은티브 있다면요. 라고 제가 이렇게 하셨는데요. 어 후에 원하는 선배의 모습은이라고 것은 일단단은 제가통이 잘 되고 어 좀 어 좀철에들이 어 좀분랄심이 어 그심이 많고 라는 어 좋은겠지만요. 어선도 뭐 좀까까식 그런이라 사람이 좀 좀 선 같 어 좀하고 어 서로부상하는 어 서로 배를 같은 그런 선 원졌으면라면구 어 좋 것 같요. 저심이이라고든지 어 뭐 어을 못 될겠죠 어왕이면 어 번구 같이 이렇게까 어지가 식구 된으니 보니까 어 부분에들과도 있으면 할 더 좋 것 같습니다. 어왕이면 어님랑 어습니다.분 어 어도 한 배울 될해서 것 같니다 어입니다. 합니다. \n",
            "직무: 디자인 경력상태: 경력직 질문: 본인은 리더형인지 아니면 팔로워 형인지 설명해 주세요 답변: 본인은 리더형인지 팔로우 형인지 설명하세요 라고 하셨는데요. 저는 장담 있게 저는 리더형이라고 말할 수 있습니다. 저는 대충 대충 대충 대충 하는 거를 못 봅니다. 어 어떤 일이든 무슨 일이든 누구든 간에 대충 대충이 아니라 항상 어 최선 최선으로 해야 되고 우선으로 해야 되고 그리고 꼭 해 해 내야 되고 해결이 돼야 되고 라는 어떤 그런 성격이 있다 보니 어 저는 리더형이라고 말할 수 있겠습니다. 하지만 뭐 잘난 척을 하던가 잘난 체를 하던가 그런 거는 아닙니다. 하지만 어떤 조직이든 간에 어떤 어 그 지인이든 간에 그냥 어 어 불 불목 불목하고 불목하고 서로 의견 충돌하고 그런 거를 저는 못 봅니다. 항상 중간에서 그런 것들을 이해시키고 납득시키고 설득시켜서 꼭 해결하고 화합하게 만드는 그런 성격입니다. 그리고 항상 긍정적이고 감사하고 어 행복해 한 성격입니다. 감사합니다. \n",
            "직무: 공공 경력상태: 신입직 질문: 지원인은 팀형인지 팔 팔로워형인지 궁금 주요 답변: 저인은 리더형인지 팔로워형인지 저 부탁셨요. 라고 질셨는데요. 저는 팔녀합니다. 말씀는 리더형이라고 말씀 수 있습니다. 저는 어렸을학교를 충 하는충 하는충 하는 편은를 좋아합니다.봅니다. 왜냐하면 저 일을든지 제가 일이든 제가든 리더 저충 대충 돼면 대 대선을 최선을 최 된다고 최순 해야 되고 그리고 그 해야내내 되는 그리고해야 돼야 되고 해 그런 책임 책임 있기 보니까 저는 리더형이라고 말할 수 있습니다.습니다.  저 팔 모르겠 척 한다 하거나 아니면 아니면난 척를 하던가 이런 거를 저니다. 저 저 일을든 어떤 저 조직이 팀 리더엽든 간에 저 그 리더 리더의를의를불의를불 불의를불 뭐 간에 충돌이하고 서로 거는 안는 잘 참봅니다. 그래서 어에서 어 거 잘해 어득시키고 납하고 어 해해야 어하는 하는 그런 역할을이기  저 어적이고 어하고 그리고 그리고하게 하는 그런입니다. 합니다. \n",
            "직무: 디자인 경력상태: 경력직 질문: 공동체로서 무형 문화유산의 보호에 있어 적용되는 사회적 관념은 무엇이라 생각하나요 답변: 개성과 전통이 어우러져서 그 가치를 알아보고 보존하는 것이라고 생각합니다. 그 무형으로서의 그 문화유산을 보호하고 지정해서 보호한다는 것 자체가 어쨌든 그것들이 지니고 있는 가치나 개성을 잃지 않고자 하는 마음이라고 생각하고 있어요. 그래서 우리가 그것들을 어쩌면 개인의 시작일 수도 있었겠지만 우리가 이것을 다 같이 지켜주자 라는 의미가 녹아있는 거라고 생각이 들고 그것들이 분명히 후대에도 가치가 있을 거고 우리 외에 다른 공동체에서 봤을 때도 아 이것은 정말 뛰어나다 라고 느낄 수 있게끔 하기 위해서 하는 것이라고 생각이 들기 때문에 우리는 그거를 지켜야 할 의무가 있고 그 가치를 알아볼 수 있어야 한다고 생각을 하고 있습니다. 그리고 그러한 시선은 어쨌든 그 개성과 그것을 지키고자 하는 마음이 같이 공존해야 한다고 생각합니다. \n",
            "직무: 공공 경력상태: 신입직 질문: 지원 가치에 무형문화산의 보호에 있어 적용되는 사회적 관념은 무엇이라고 생각하요 답변: 무개인의 다양 깃러져서 무 공동 지켜주는자 것이 생각합니다. 무 가치를형 문화유 가치를 가치를산을 보호하는 보존하는해 보존하는해야 것은 자체가 어 그들을 보존 있는 가치를이기 그 존중 않고 보존 하는 것이라고에서 생각요.요. 그래서 그 그들을 보존 보존 문화유이라고 수도 있고겠지만 그 그것을 통해서 보존 공유나가 라는 마음으로 아닐있는 것잖 생각 요.들을 보존 우리에도 계승 있고 거라고 또도 다른 사람들도에도 우리가봤을 때도 그 이 우리 보존다 라는 생각할 수 있는끔 보존 위해서 보존 것이라고 생각  때문에 그런 그것 무 보호 한다고 의무가 있다고 그거를 지켜 수 있는 한다고 생각 합니다. 있습니다.  그 것들이야 그 그 무성과 전통이 보존려는 하는 마음 있어야 있어야하는 하는 생각합니다. \n",
            "직무: 디자인 경력상태: 경력직 질문: 오늘 면접 준비하느라 고생 많이 하셨을 텐데 면접자님은 어떤 방식으로 면접을 준비하셨는지 말씀해 주실 수 있나요 답변: 저는 어 사람들과 어떤 소통을 하는 걸 좋아합니다. 그래서 제가 지금 뭐 작은 점포를 운영하면서 자영업을 하고 있는데요. 그 자영업을 하면서 제가 예술 분야와 연결시켜서 할 수 있는 그런 능력들을 키워나갈려고 상당히 부단하고 부단하게 노력했습니다. 예술 분야는 저의 삶을 특히 정서적인 부분을 고무시키고 저의 삶을 윤택하게 하는 그리고 저의 어떤 어 마음가짐의 변화에 상당히 도움을 주는 힘을 주는 원천이 되기도 합니다. 그리고 이런 것들에 대한 어 이 예술 분야와 저의 지금 갖고 있는 직업 지금 제가 하고 있는 어 건강에 관련된 그리고 채소를 주제로 한 그런 삶을 윤택하게 하는 건강한 음료하고 연관시켜서 모든 부분을 창의적으로 개발하고 설계하며 노력해 왔습니다. 끊임없이 주변 어 소비자들에게 만족도를 어 조사하고 거기에 대한 피드백을 탄탄히 하여 기록해 왔습니다. \n",
            "직무: 공공 경력상태: 신입직 질문: 지원 면접 준비하느 고생 많이 하셨습니 텐데요을님 어떤 방식으로 면접을 준비하셨는지 말씀해 주실 수 있나요 답변: 네는 면접 면접의 방식으로통을 할 데 좋아하고 그래서 어 면접 지원하는 면접 모임심 하나하면서 어영업업을 하고 있는데요. 어 자영업을 하면서 어 어 디자인도 관련된이 어 수 있는 부분 부분들을 많이나가 수 노력을 노력을단히하게 노력을단히하게 노력을했습니다. 그래서 분야 사실는 전공 굉나적으로 부분에 많이적으로 또의 가치를 풍요택하게 해 그런 저의 삶을 자아 자아가짐을과 변화를 대해서 큰 많이 분야 가지고 분야천이 되기 합니다. 그래서 저 예술들에 대해서 어떤 저력을 분야와 관련된의 어떤 현재 있는 저에 가지고 가지고 있는 이 이 대한 부분 저 재배하는 해서 그런 어 살고택하게 하는 그런 삶을 그리고 그리고돼 어 사람들이 어적으로 어 싶하고 어했 왔습니다.  새로운 사람들과 주변자들에게 어을 높이고 높이는하고 또 대한 피드백을 받고탄하게 하고서 놓는고 \n",
            "직무: 디자인 경력상태: 경력직 질문: 커뮤니케이션을 잘할 수 있는 본인만의 스킬이 있으신가요 있다면 한번 소개해 주시겠어요 직접 한번 보여주셔도 좋습니다 답변: 저는 어 상대방과 커뮤니케이션 즉 의사소통을 할 때 서로 말 그대로 소통에 집중합니다. 소통이라 함은 저의 의사와 상대방의 의사를 서로 주고받는 것인데요. 저의 의사만을 고집하거나 상대방이 상대방의 고집만 고집을 굽히지 않을 때는 이런 소통이 어렵다고 생각합니다. 따라서 이렇게 갈등이 빚어질 수도 있고 소통이 원활하지 않을 수 있는데요. 이럴 때는 어 우선은 상대방이 무슨 말을 하는지 그 상대방의 말에 경청을 합니다. 경청을 해서 상대방이 가장 중요하게 생각하는 부분을 어 도출해 내구요. 그 으 상대방이 중요하게 생각하는 부분에 대해서 다시 한번 확인을 한 다음에 그 확인이 맞다면 상대방의 입장을 공감하고 공감을 형성할 수 있는 그리고 같은 편으로서 어 공 교 교 교감 할 수 있는 그런 것들을 서로 주고받습니다. 그렇게 서로 분위기가 어 좀 유연해지면 서로에게 서로의 주장을 하면서도 어느 정도 상대방의 의견을 어 들어 줄 수 있는 그런 공간을 만들어서 서로 소통할 수 있는 기회를 확보합니다. \n",
            "직무: 공공 경력상태: 신입직 질문: 지원을 잘 할 수 있는 본인만의 스킬이 있다면으신가요 있다면 한번 소개해 주겠습니까요 직접 한번 보여주셔도 좋습니다 답변: 커뮤니케이션는 커뮤니케이션 커뮤니케이션방과 커뮤니케이션을 소통을 잘 때 어 간에하고자 경통을 대한을 어이라는 하면 서로희가 생각 상대방의 의사를 잘 잘 것인데요. 저는 의사 표현을 일방적으로하는 상대방의 저 의사를하는 부집을 한다면 않는다면 때 저 커뮤니케이션통이 잘습니다. 생각합니다. 그래서 저 상대방의 있는졌을 때 있는 서로통이 잘하지 않을 수도 있습니다.요. 저럴 때 저 저 상대방의 상대방의 어떤 말을 하는지 어떤 사람의 의사를 경청 합니다. 그리고청을 하 그 원하는 원하는 생각하는 것이 파악 얘해 낼요. 그러면 다음에 그 원하는 생각하는 부분을 대해서 제가 한 어 하고 다음에 그 부분을신을 된다면 어 의견을 고려해해 그 합니다. 수 있는 그런 그 말을이라고 어 소감의감을감을할 수 있는 그런 시간을 어 어습니다. 그렇게 되면 소 좋아 좋아 우호해지고 어 소 어 의견을 어 어 정도 어 의견을 수용 수용줄 수 있는 그런 상황이 마련 소 소하는 수 있는 그런 많이합니다. \n",
            "직무: 디자인 경력상태: 경력직 질문: 대학 생활 가장 힘들었던 경험은 무엇인가요 답변: 어 대학 생활 중에서 가장 힘들었던 경험은 무엇인가요 라고 하셨는데요. 저는 방송통신대학교를 나와서 그 사람을 직접 만나서 이렇게 커뮤니케이션이 돼야지만 더 이해력도 되고 더 빨리 습득이 될 텐데 방송으로 공부를 하다 보니까 음 약간 그 질문도 할 수 없고 이해성이 떨어지는 바람에 조금 그런 면이 어려웠었다라고 생각을 합니다. 어 시간이 난다면 공개 강의 같은 것 어 이런 것들이 큰 도움이 될 거라고 생각을 하는데 원체 지금 삶 속에서 시간이 없기 때문에 그 없는 시간을 쪼개서 그리고 나름대로 공부를 하고 있는 거기 때문에 그 방송을 통해서 공부를 하지만 그렇지만 그것이 힘들다 라고 생각을 합니다. 그래서 그냥 일반 대학교 다니는 게 참 좋다고 생각합니다. 그리고 부럽습니다. 그리고 나중에는 꼭 다닐 겁니다. 네 감사합니다. \n",
            "직무: 공공 경력상태: 신입직 질문: 지원 생활을 중 힘들었던 경험은 무엇요 또한변: 대학 대학 생활을 중에 가장 힘들었던 경험은 어요 어 말씀셨는데요. 어는 대학통신대학교 나왔서 방송 방송 만나 인터서 인터 인터을 안야 되는이 좋은도가 생기고 더 잘 이해할할 될 수데 그통신 사람을 하다 보니까 어 그 그 사람의 자체가 많고 수 있고 또력도 좀 그런 어 더 부분이 힘들습니다.습니다. 라고 말씀 합니다. 그래서 그래서 지나고다면 그때 수업도 것도에도 좀 것도 있을 도움이 될 것라고 생각을 하는데요.체 그 제가에서 어 많이 때문에 어 시간을 시간 어떻게서라도 또 공부를 해야 또 중 때문에 어게 통해서 어 하 그 그 또었던 라고 하 하면  그 그인에 것 아니라 힘들 생각을합니다.  또디습니다.  또 방송 방송 수니다. .합니다. \n",
            "직무: 디자인 경력상태: 경력직 질문: 본인이 하고 싶은 업무가 있다면 어떤 것이 있을까요 답변: 본인이 하고 싶은 업무가 있다면 말씀해 보세요 라고 질문을 주셨는데요. 음 내가 하고 싶은 일은 어 저는 성격이 음 저 어 긍정적인 사람이다 보니깐 어 더 사람들의 심리 파악을 잘하고 사람들의 마음을 잘 읽어서 어 그 마음이 전달을 잘하고 있습니다. 그래서 어 제가 어떤 그 사 상담 사 심리 심리학 상담 뭐 이런 업무를 한다라면 저는 잘 할 것 같습니다. 어 사람들의 심리 어 심리 테스트 어 심리 연구 뭐 이런 것들을 잘 하기 때문에 저한테는 그 업무가 어 맞다 라고 생각합니다. 혹시 만약에 저한테 그런 업무가 주어진다면 저는 어 정말로 재미있게 어 열심히 잘 할 것 같습니다. 그래서 꼭 저한테 그런 업무가 주어지기를 간절히 바랍니다. 이상입니다. 감사합니다. \n",
            "직무: 공공 경력상태: 신입직 질문: 지원 생각 싶은 직무 있 말씀 업무 있는지까요 답변: 제가 하고 싶은 업무가 있다면 저해 주세요. 하고 질 주셨는데요. 어 제가 하고 싶은 업무는 어 일단는 이제 좀 좀는 좀 마인기 보니까 어 좀 어 마음을나을 잘 할 어 마음을 잘 헤아어서 어 좀 사람이 어떤이 잘하고 어 그래서 어 그 하고 일을 어안에이나 그사 쪽에사 이런 쪽에 하고 라고 어는 어 할 수 같고습니다. 왜냐하면 왜냐하면 마음을 파악 파악 파악스트를도 이런 상담 이런 이런 것들을 좀 하기 때문에 어는테는 어게 잘 저다고 라고 생각을합니다. 어시라도에 제가한테 어 업무를 주어진다면 어는 어 좀말로 어있게 할 할 할 할 것 같습니다. 왜냐하면 어 해한테 어 업무가 주어진지지 바절히 바랍니다. 감사입니다. 합니다. \n",
            "직무: 디자인 경력상태: 경력직 질문: 업무 시 분쟁이 발생했을 때 본인만의 대처법이 있나 답변: 업무 시 분쟁이 발생 했을 때 본인만의 대처법이 있나요 라고 말씀을 해 주셨는데요. 업무를 하다 보면 의견이 안 맞고 또한 의견이 안 맞다 보면 분쟁이 일어나게 되어 있습니다. 어 무슨 일을 하든 간에 어 그 일에 있어서 의견이 안 맞는다면 상대방을 잘 이해를 시키고 설득을 시키고 어 그리고 어 알아들을 수 있게 혹시 혹시 입장이 내 입장이라면 한 번쯤은 어 이렇게 생각해볼 수 있지 않겠나 라는 어떤 그 이해력을 가지고 이해를 시켜서 어 화해를 하고 어 그래서 더 돈독하고 가까운 그런 어 그 사이가 될 수 있도록 저는 중간에서 중간 역할을 잘 할 것이고 음 그래서 어 이 내가 하고 있는 이 업무를 어 조금 더 발전시키는 데 공헌하는 데 이바지가 되도록 저는 그렇게 최선을 다할 것입니다. 감사합니다. 이상입니다. \n",
            "직무: 공공 경력상태: 신입직 질문: 지원 중 분쟁이 발생할 때를 지원만의 대처법이 있으요변: 업무 시 분쟁이 발생했을한다면 때 저만의 대처법이 있는지나요 있다면 질문을해 하 주셨는데요. 어 하다 보면은 충돌 맞 서로 그 안 맞을 라고은 발생할 됩 있습니다. 그럴 저 일이 하든 간에 그 저 의견 대해서 어 안 맞다은 설득 설득 하고고 어을 시키고 어 그 그 그들을 수 있도록끔시라도시라도 안 입장인지 어 번 더은 어 그 생각을 보 수 있는 않을까습니까 라고 생각을 그런 어의 좀 어 시키서 어 그해를 시키 어 그 그 좋은독하게 어 사이가 관계를 관계를 관계를 될 수 있도록 어는 노력을에서 어에서 하는 하고 수요. 그 어 분쟁이 분쟁이 이 있는 일이 일이 잘 잘 더 어 데 있어서할 그런 있어서 역할을지가 될 노력을는 노력을 할선을 다할 것입니다. 합니다. 입니다. \n",
            "직무: 디자인 경력상태: 경력직 질문: 일을 하시면서 여러 가지 갈등 상황을 겪어보셨을 텐데요 만약 구성원들과 갈등을 겪게 됐을 때 어떻게 해결을 하실 건가요 답변: 조직에서의 갈등은 일상입니다. 다른 사람들이 모여 일을 하다 보면 갈등이라는 것은 갈등은 수시로 발생하며 그 형태도 다양합니다. 갈등은 좋다 나쁘다를 논하는 것보다 발생한 갈등으로 인해 불필요한 에너지를 사용을 하고 자원을 사용하는 상황들이 발생할 수 있기 때문입니다. 그래서 미연에 방지하는 것이 필요합니다. 문제는 이런 갈등을 사전에 방지하는 것이 쉽지 않은데요. 갈등을 해결하지 않거나 관리하지 않게 된다면 그것은 점점 증폭되어 구성원들의 조직적 목적보다 갈등 그 자체에 대한 더욱 염려이기 때문에 조직의 성장은 멈추게 되어 있습니다. 그래서 조직에서 갈등이 발생하면 비 온 뒤에 땅이 굳는다는 말처럼 더 단단한 관계를 발전시키는 시간이 필요하다는 것을 잊지 않는 것이 가장 중요합니다. 갈등은 크게 업무 갈등과 관계 갈등으로 나눌 수 있는데요. 업무 갈등은 말을 통 일을 통해 성과를 내고 변화를 위해서 꼭 필요한 갈등이라고 합니다. 관계 갈등은 구성원 간의 정서적인 이슈가 연결되어 협업의 장애가 될 수 있습니다. 사례 속에 최대리와 김대리는 어떤 갈등을 겪고 있는지 한번 이야기해 보겠습니다. 꼭 중재를 해야 하나 물어보실 수도 있지만 지금 상황에서는 해주셔야 합니다. 왜냐하면 다른 한 사람이 그 갈등에 대해서 요청을 원했기 때문에 요청을 할\n",
            "직무: 공공 경력상태: 신입직 질문: 지원 하게 가장 가지 어려운 상황이 마주으 보셨을 텐데요 그에들과 갈등이 빚 된다면 때 지원 해결 하셨지가요 답변: 어 내에서 갈등은 어에서 그 부랑있는 하다 보면 갈등이 상황이 것이 피할 피할 발생합니다. 그 갈등을 다양합니다. 저 서로지만 나쁘다 떠나서할 것이 그 원인을에 인해 발생한 감정 낭비 하거나 불필요한 낭비 경우가도 많 수 있습니다. 때문입니다. 저 저연에 방지 것이 가장합니다. 갈등이 갈등 경우 미 방지하는 것이 가장 않데요. 예를 미리하지 않고 갈등을하지 않는다면 되면다면 결국 결국 더되어 결국들 사기를 생활에 해 의식에 더에만 자체에만 책임을 큰와 때문 갈등이 목표를과로 물론이고게 됩 있습니다. 그렇기 저 갈등이 발생하면 구성원생산 뒤에 땅이 굳듯이 말이처럼 갈등 큰 조직으로 유지 것이 필요 것을 깨달 말아야 것이 중요 중요하다고합니다.  서로 두적인 업무 갈등으로 나눌 수 있습니다.요. 업무 갈등은 서로 하지하거나 하는 해결 내는 그 꾀 노력하는 필요한 과정입니다. 생각  갈등은 서로들 갈등적인 문제가 아니라서업을 과정에서 되기도 수 있습니다. 그래서로 있는 갈등을 갈등을리가 갈등을 갈등을 겪 있었 알 언급해 보겠습니다.  필요한재를 통해 하는요.보겠 수 있 저 당장에서는 중실야 할  저 구성원 사람이 중 갈등을에 대해 깊게 하고하고 때문 그 하는 수\n"
          ]
        },
        {
          "name": "stderr",
          "output_type": "stream",
          "text": [
            "Validation Epoch 5: 100%|██████████| 502/502 [04:20<00:00,  1.93it/s, loss=2.2979]\n"
          ]
        },
        {
          "name": "stdout",
          "output_type": "stream",
          "text": [
            "calculating scores...\n",
            "computing bert embedding.\n"
          ]
        },
        {
          "data": {
            "application/vnd.jupyter.widget-view+json": {
              "model_id": "da6f00fc155e4323884ee6be0a57c92b",
              "version_major": 2,
              "version_minor": 0
            },
            "text/plain": [
              "  0%|          | 0/251 [00:00<?, ?it/s]"
            ]
          },
          "metadata": {},
          "output_type": "display_data"
        },
        {
          "name": "stdout",
          "output_type": "stream",
          "text": [
            "computing greedy matching.\n"
          ]
        },
        {
          "data": {
            "application/vnd.jupyter.widget-view+json": {
              "model_id": "7abedff128be4d1da8a6fac9c372d87d",
              "version_major": 2,
              "version_minor": 0
            },
            "text/plain": [
              "  0%|          | 0/126 [00:00<?, ?it/s]"
            ]
          },
          "metadata": {},
          "output_type": "display_data"
        },
        {
          "name": "stdout",
          "output_type": "stream",
          "text": [
            "done in 294.96 seconds, 27.21 sentences/sec\n",
            "Epoch 5 Average Validation Loss: 2.1141\n",
            "Epoch 5 Average Validation BLEU: 1.1472\n",
            "Epoch 5 Average Validation ROUGE: {'rouge1': 0.37426584343034, 'rouge2': 0.1165167686302273, 'rougeL': 0.3008576294358529}\n",
            "Epoch 5 BERTScore Precision: 0.7888\n",
            "Epoch 5 BERTScore Recall: 0.7806\n",
            "Epoch 5 BERTScore F1: 0.7847\n",
            "Saving best model with validation loss: 2.1141\n",
            "\n",
            "Training completed!\n"
          ]
        }
      ],
      "source": [
        "# SmoothingFunction 설정\n",
        "smoothing = SmoothingFunction().method1\n",
        "\n",
        "# 모델 학습 설정\n",
        "num_epochs = 5\n",
        "device = torch.device(\"cuda\" if torch.cuda.is_available() else \"cpu\")\n",
        "model = model.to(device)\n",
        "\n",
        "# 옵티마이저 및 스케줄러 정의\n",
        "optimizer = AdamW(model.parameters(), lr=5e-5)  # 옵티마이저 정의\n",
        "total_steps = len(train_dataloader) * num_epochs\n",
        "scheduler = get_linear_schedule_with_warmup(optimizer,\n",
        "                                            num_warmup_steps=0,\n",
        "                                            num_training_steps=total_steps)  # 스케줄러 정의\n",
        "\n",
        "# ROUGE 계산기\n",
        "scorer = rouge_scorer.RougeScorer(['rouge1', 'rouge2', 'rougeL'], use_stemmer=True)\n",
        "best_valid_loss = float('inf')\n",
        "\n",
        "# 학습 및 검증 루프\n",
        "for epoch in range(num_epochs):\n",
        "    # 학습 단계\n",
        "    model.train()\n",
        "    total_train_loss = 0\n",
        "    train_steps = 0\n",
        "    total_train_bleu = 0\n",
        "    total_train_rouge = {'rouge1': 0, 'rouge2': 0, 'rougeL': 0}\n",
        "    num_train_samples = 0\n",
        "\n",
        "    train_pbar = tqdm(train_dataloader, desc=f'Training Epoch {epoch+1}')\n",
        "    for batch in train_pbar:\n",
        "        # 입력 데이터 준비\n",
        "        input_ids = batch['input_ids'].to(device)\n",
        "        attention_mask = batch['attention_mask'].to(device)\n",
        "        labels = batch['labels'].to(device)\n",
        "\n",
        "        # 모델 출력\n",
        "        outputs = model(input_ids=input_ids, attention_mask=attention_mask, labels=labels)\n",
        "        loss = outputs.loss\n",
        "\n",
        "        # 역전파 및 최적화\n",
        "        loss.backward()\n",
        "        torch.nn.utils.clip_grad_norm_(model.parameters(), 1.0)\n",
        "        optimizer.step()  # 옵티마이저 업데이트\n",
        "        scheduler.step()  # 스케줄러 업데이트\n",
        "        optimizer.zero_grad()\n",
        "        torch.cuda.empty_cache()  # 여기 추가\n",
        "\n",
        "        # 손실 누적\n",
        "        total_train_loss += loss.item()\n",
        "        train_steps += 1\n",
        "\n",
        "        train_pbar.set_postfix({'loss': f'{loss.item():.4f}'})\n",
        "\n",
        "    # 평균 점수 계산\n",
        "    avg_train_loss = total_train_loss / train_steps\n",
        "\n",
        "    print(f\"\\nEpoch {epoch+1} Average Training Loss: {avg_train_loss:.4f}\")\n",
        "\n",
        "    # 검증 단계\n",
        "    model.eval()\n",
        "    total_valid_loss = 0\n",
        "    valid_steps = 0\n",
        "    total_valid_bleu = 0\n",
        "    total_valid_rouge = {'rouge1': 0, 'rouge2': 0, 'rougeL': 0}\n",
        "    num_valid_samples = 0\n",
        "\n",
        "    all_generated_texts = []  # BERTScore를 계산하기 위한 생성 텍스트 리스트\n",
        "    all_reference_texts = []  # BERTScore를 계산하기 위한 참조 텍스트 리스트\n",
        "\n",
        "    with torch.no_grad():\n",
        "        valid_pbar = tqdm(valid_dataloader, desc=f'Validation Epoch {epoch+1}')\n",
        "        for i, batch in enumerate(valid_pbar):\n",
        "            input_ids = batch['input_ids'].to(device)\n",
        "            attention_mask = batch['attention_mask'].to(device)\n",
        "            labels = batch['labels'].to(device)\n",
        "\n",
        "            outputs = model(input_ids=input_ids, attention_mask=attention_mask, labels=labels)\n",
        "            loss = outputs.loss\n",
        "\n",
        "            # 손실 누적\n",
        "            total_valid_loss += loss.item()\n",
        "            valid_steps += 1\n",
        "\n",
        "            # BLEU 및 ROUGE 계산\n",
        "            generated_ids = outputs.logits.argmax(dim=-1)\n",
        "            generated_texts = tokenizer.batch_decode(generated_ids, skip_special_tokens=True)\n",
        "            labels_for_decoding = labels.masked_fill(labels == -100, tokenizer.pad_token_id)\n",
        "            reference_texts = tokenizer.batch_decode(labels_for_decoding, skip_special_tokens=True)\n",
        "            if i ==0:\n",
        "                for r,g in zip(reference_texts,generated_texts):\n",
        "                    print(r)\n",
        "                    print(g)\n",
        "\n",
        "            all_generated_texts.extend(generated_texts)\n",
        "            all_reference_texts.extend(reference_texts)\n",
        "\n",
        "            for ref, gen in zip(reference_texts, generated_texts):\n",
        "                bleu_score = sentence_bleu([ref.split()], gen.split(), smoothing_function=smoothing)\n",
        "                total_valid_bleu += bleu_score\n",
        "\n",
        "                rouge_scores = scorer.score(ref, gen)\n",
        "                for key in total_valid_rouge.keys():\n",
        "                    total_valid_rouge[key] += rouge_scores[key].fmeasure\n",
        "                num_valid_samples +=1\n",
        "\n",
        "            valid_pbar.set_postfix({'loss': f'{loss.item():.4f}'})\n",
        "            torch.cuda.empty_cache()  # 여기 추가\n",
        "\n",
        "    # 평균 점수 계산\n",
        "    avg_valid_loss = total_valid_loss / valid_steps\n",
        "    avg_valid_bleu = total_valid_bleu / valid_steps\n",
        "    avg_valid_rouge = {k: v / num_valid_samples for k, v in total_valid_rouge.items()}\n",
        "\n",
        "    # BERTScore 계산\n",
        "    P, R, F1 = score(all_generated_texts, all_reference_texts, lang=\"ko\", verbose=True)  # lang=\"ko\"는 한국어 기준\n",
        "\n",
        "    print(f\"Epoch {epoch+1} Average Validation Loss: {avg_valid_loss:.4f}\")\n",
        "    print(f\"Epoch {epoch+1} Average Validation BLEU: {avg_valid_bleu:.4f}\")\n",
        "    print(f\"Epoch {epoch+1} Average Validation ROUGE: {avg_valid_rouge}\")\n",
        "    print(f\"Epoch {epoch+1} BERTScore Precision: {P.mean():.4f}\")\n",
        "    print(f\"Epoch {epoch+1} BERTScore Recall: {R.mean():.4f}\")\n",
        "    print(f\"Epoch {epoch+1} BERTScore F1: {F1.mean():.4f}\")\n",
        "\n",
        "    # 최적의 모델 저장\n",
        "    if avg_valid_loss < best_valid_loss:\n",
        "        best_valid_loss = avg_valid_loss\n",
        "        print(f\"Saving best model with validation loss: {best_valid_loss:.4f}\")\n",
        "        torch.save(model.state_dict(), './best_model.pt')  # 현재 디렉토리에 저장\n",
        "\n",
        "print(\"\\nTraining completed!\")\n"
      ]
    },
    {
      "cell_type": "code",
      "execution_count": null,
      "id": "007584e6",
      "metadata": {
        "execution": {
          "iopub.execute_input": "2024-11-22T10:37:17.277670Z",
          "iopub.status.busy": "2024-11-22T10:37:17.276266Z",
          "iopub.status.idle": "2024-11-22T10:37:17.329813Z",
          "shell.execute_reply": "2024-11-22T10:37:17.328922Z"
        },
        "papermill": {
          "duration": 2.307652,
          "end_time": "2024-11-22T10:37:17.332441",
          "exception": false,
          "start_time": "2024-11-22T10:37:15.024789",
          "status": "completed"
        },
        "tags": [],
        "id": "007584e6",
        "outputId": "1557187a-0fdd-42c2-bb3e-2a6c052c33b0"
      },
      "outputs": [
        {
          "name": "stdout",
          "output_type": "stream",
          "text": [
            "GPU 0 메모리 리셋 완료!\n",
            "  전체 메모리: 15095.06 MB\n",
            "  예약된 메모리: 2760.00 MB\n",
            "  사용 중인 메모리: 2248.62 MB\n",
            "  사용 가능 메모리: 511.38 MB\n",
            "GPU 1 메모리 리셋 완료!\n",
            "  전체 메모리: 15095.06 MB\n",
            "  예약된 메모리: 0.00 MB\n",
            "  사용 중인 메모리: 0.00 MB\n",
            "  사용 가능 메모리: 0.00 MB\n"
          ]
        },
        {
          "name": "stderr",
          "output_type": "stream",
          "text": [
            "/opt/conda/lib/python3.10/site-packages/torch/cuda/memory.py:343: FutureWarning: torch.cuda.reset_max_memory_allocated now calls torch.cuda.reset_peak_memory_stats, which resets /all/ peak memory stats.\n",
            "  warnings.warn(\n"
          ]
        }
      ],
      "source": [
        "import torch\n",
        "import gc\n",
        "\n",
        "# GPU 상태 초기화 및 남은 메모리 확인\n",
        "for i in range(torch.cuda.device_count()):\n",
        "    device = torch.device(f\"cuda:{i}\")\n",
        "\n",
        "    # 메모리 초기화\n",
        "    torch.cuda.empty_cache()  # GPU 캐시 비우기\n",
        "    torch.cuda.ipc_collect()  # GPU 메모리에서 누수된 객체 수집\n",
        "\n",
        "    # 메모리 통계 초기화\n",
        "    torch.cuda.reset_max_memory_allocated(device)\n",
        "    torch.cuda.reset_peak_memory_stats(device)\n",
        "\n",
        "    # GPU 메모리 상태 확인\n",
        "    total_memory = torch.cuda.get_device_properties(device).total_memory  # 전체 메모리\n",
        "    reserved_memory = torch.cuda.memory_reserved(device)  # 예약된 메모리\n",
        "    allocated_memory = torch.cuda.memory_allocated(device)  # 사용 중인 메모리\n",
        "    free_memory = reserved_memory - allocated_memory  # 예약된 메모리 중 사용 가능 메모리\n",
        "\n",
        "    print(f\"GPU {i} 메모리 리셋 완료!\")\n",
        "    print(f\"  전체 메모리: {total_memory / 1024 ** 2:.2f} MB\")\n",
        "    print(f\"  예약된 메모리: {reserved_memory / 1024 ** 2:.2f} MB\")\n",
        "    print(f\"  사용 중인 메모리: {allocated_memory / 1024 ** 2:.2f} MB\")\n",
        "    print(f\"  사용 가능 메모리: {free_memory / 1024 ** 2:.2f} MB\")\n",
        "#gc.collect()"
      ]
    },
    {
      "cell_type": "code",
      "execution_count": null,
      "id": "36d39b98",
      "metadata": {
        "execution": {
          "iopub.execute_input": "2024-11-22T10:37:21.956620Z",
          "iopub.status.busy": "2024-11-22T10:37:21.955945Z",
          "iopub.status.idle": "2024-11-22T10:37:21.961051Z",
          "shell.execute_reply": "2024-11-22T10:37:21.960112Z"
        },
        "papermill": {
          "duration": 2.30676,
          "end_time": "2024-11-22T10:37:21.963078",
          "exception": false,
          "start_time": "2024-11-22T10:37:19.656318",
          "status": "completed"
        },
        "tags": [],
        "id": "36d39b98",
        "outputId": "3f390f53-95ac-44b5-a3b1-ed3b89de9886"
      },
      "outputs": [
        {
          "name": "stdout",
          "output_type": "stream",
          "text": [
            "GPU 메모리 사용량 (할당): 2248.62 MB\n",
            "GPU 메모리 사용량 (예약): 2760.00 MB\n"
          ]
        }
      ],
      "source": [
        "print(f\"GPU 메모리 사용량 (할당): {torch.cuda.memory_allocated() / 1024**2:.2f} MB\")\n",
        "print(f\"GPU 메모리 사용량 (예약): {torch.cuda.memory_reserved() / 1024**2:.2f} MB\")\n"
      ]
    },
    {
      "cell_type": "code",
      "execution_count": null,
      "id": "6ea958e0",
      "metadata": {
        "execution": {
          "iopub.execute_input": "2024-11-22T10:37:26.524443Z",
          "iopub.status.busy": "2024-11-22T10:37:26.524087Z",
          "iopub.status.idle": "2024-11-22T10:37:26.709153Z",
          "shell.execute_reply": "2024-11-22T10:37:26.708304Z"
        },
        "papermill": {
          "duration": 2.521603,
          "end_time": "2024-11-22T10:37:26.710875",
          "exception": false,
          "start_time": "2024-11-22T10:37:24.189272",
          "status": "completed"
        },
        "tags": [],
        "id": "6ea958e0",
        "outputId": "5c58c752-eff7-4ca8-c3a7-80b6bf41fbfe"
      },
      "outputs": [
        {
          "data": {
            "text/plain": [
              "831"
            ]
          },
          "execution_count": 15,
          "metadata": {},
          "output_type": "execute_result"
        }
      ],
      "source": [
        "import gc\n",
        "gc.collect()"
      ]
    },
    {
      "cell_type": "code",
      "execution_count": null,
      "id": "eb660bb1",
      "metadata": {
        "execution": {
          "iopub.execute_input": "2024-11-22T10:37:31.238293Z",
          "iopub.status.busy": "2024-11-22T10:37:31.237734Z",
          "iopub.status.idle": "2024-11-22T10:37:36.085608Z",
          "shell.execute_reply": "2024-11-22T10:37:36.084669Z"
        },
        "id": "eb660bb1",
        "outputId": "1bae925b-9842-4f2c-f949-19e5249bed0f",
        "papermill": {
          "duration": 7.068694,
          "end_time": "2024-11-22T10:37:36.087409",
          "exception": false,
          "start_time": "2024-11-22T10:37:29.018715",
          "status": "completed"
        },
        "tags": []
      },
      "outputs": [
        {
          "name": "stderr",
          "output_type": "stream",
          "text": [
            "/opt/conda/lib/python3.10/site-packages/transformers/tokenization_utils_base.py:1617: FutureWarning: `clean_up_tokenization_spaces` was not set. It will be set to `True` by default. This behavior will be deprecated in transformers v4.45, and will be then set to `False` by default. For more details check this issue: https://github.com/huggingface/transformers/issues/31884\n",
            "  warnings.warn(\n"
          ]
        },
        {
          "name": "stdout",
          "output_type": "stream",
          "text": [
            "Prompt: <s> 질문: 자신의 강점은 무엇이라고 생각합니까? 답변:\n",
            "\n",
            "--- Response with Pretrained Weights ---\n",
            ": 지금껏 본 바에 의하면, 현재 이 나라는 다른 나라에 비해 굉장히 훌륭한 조건을 갖추고 있다고 생각하십니까?\n",
            "그럼, 그 점에 대해선 어떤 \n"
          ]
        },
        {
          "name": "stderr",
          "output_type": "stream",
          "text": [
            "/tmp/ipykernel_23/585525791.py:47: FutureWarning: You are using `torch.load` with `weights_only=False` (the current default value), which uses the default pickle module implicitly. It is possible to construct malicious pickle data which will execute arbitrary code during unpickling (See https://github.com/pytorch/pytorch/blob/main/SECURITY.md#untrusted-models for more details). In a future release, the default value for `weights_only` will be flipped to `True`. This limits the functions that could be executed during unpickling. Arbitrary objects will no longer be allowed to be loaded via this mode unless they are explicitly allowlisted by the user via `torch.serialization.add_safe_globals`. We recommend you start setting `weights_only=True` for any use case where you don't have full control of the loaded file. Please open an issue on GitHub for any issues related to this experimental feature.\n",
            "  model.load_state_dict(torch.load('./best_model.pt', map_location=torch.device('cpu')))\n"
          ]
        },
        {
          "name": "stdout",
          "output_type": "stream",
          "text": [
            "\n",
            "--- Response with Custom Weights (best_model.pt) ---\n",
            ": 저의 장점은 긍정적인 사고방식을 가지고 있다는 것입니다. 어떤 어려운 일이 닥치거나 난관에 봉착했을 때는 저는 그 일을 저 혼자서 해결하려고 하지 않고 주변 사람들에게 도움을 요청해서 그 어려움을 극복해 내는 편입니다. 어 어려운 일이나 난관이 닥쳤을 때 주변 사람들은 저에게 저를 도와준 사람이라고 말합니다. 저에게는 항상 긍정적인 생각과 긍정적인 에너지가 충만되어 있습니다. 저 또한 제가 어려운 일을 닥쳤다고 해서 저 혼자 그것을 헤쳐 나갈 수 없다고 생각합니다. 하지만 저만의 어 긍정적인 사고를 가지고 저에게도 긍정적인 사고가 주어진다면 항상 어려운 문제를 잘 헤치 헤치고 이겨내면서 제가 발전할 수 있는 계기가 될 수 있다고 생각하기 때문에 저도 이 긍정적인 사고와 긍정적인 마인드를 가지고 일을 해 나가려고 노력합니다. \n"
          ]
        }
      ],
      "source": [
        "import torch\n",
        "from transformers import GPT2LMHeadModel, GPT2TokenizerFast\n",
        "\n",
        "# Load the tokenizer\n",
        "tokenizer = GPT2TokenizerFast.from_pretrained(\"skt/kogpt2-base-v2\",\n",
        "                                              bos_token='</s>',\n",
        "                                              eos_token='</s>',\n",
        "                                              unk_token='<unk>',\n",
        "                                              pad_token='<pad>',\n",
        "                                              mask_token='<mask>')\n",
        "\n",
        "# Load the pretrained model\n",
        "model = GPT2LMHeadModel.from_pretrained(\"skt/kogpt2-base-v2\")\n",
        "model.eval()\n",
        "\n",
        "# Move model to the appropriate device\n",
        "device = torch.device(\"cuda\" if torch.cuda.is_available() else \"cpu\")\n",
        "model.to(device)\n",
        "\n",
        "# Function to generate a response\n",
        "def generate_response(prompt, max_length=200):\n",
        "    input_ids = tokenizer.encode(prompt, return_tensors=\"pt\").to(device)\n",
        "    output = model.generate(\n",
        "        input_ids,\n",
        "        max_length=max_length,\n",
        "        num_return_sequences=1,\n",
        "        no_repeat_ngram_size=2,\n",
        "        top_k=50,\n",
        "        top_p=0.95,\n",
        "        temperature=0.8,\n",
        "        do_sample=True,\n",
        "        eos_token_id=tokenizer.eos_token_id\n",
        "    )\n",
        "    response = tokenizer.decode(output[0], skip_special_tokens=True)\n",
        "    return response\n",
        "\n",
        "# Example prompt\n",
        "prompt = \"<s> 질문: 자신의 강점은 무엇이라고 생각합니까? 답변:\"\n",
        "print(\"Prompt:\", prompt)\n",
        "\n",
        "# 1. Generate response with pretrained weights only\n",
        "print(\"\\n--- Response with Pretrained Weights ---\")\n",
        "response_pretrained = generate_response(prompt)\n",
        "print(response_pretrained.split('답변')[1])\n",
        "\n",
        "# 2. Load custom weights and generate response again\n",
        "model.load_state_dict(torch.load('./best_model.pt', map_location=torch.device('cpu')))\n",
        "model.eval()\n",
        "\n",
        "print(\"\\n--- Response with Custom Weights (best_model.pt) ---\")\n",
        "response_custom = generate_response(prompt)\n",
        "print(response_custom.split('답변')[1])\n"
      ]
    },
    {
      "cell_type": "code",
      "execution_count": null,
      "id": "7c7446e3",
      "metadata": {
        "execution": {
          "iopub.execute_input": "2024-11-22T10:37:40.656747Z",
          "iopub.status.busy": "2024-11-22T10:37:40.655969Z",
          "iopub.status.idle": "2024-11-22T10:37:45.125061Z",
          "shell.execute_reply": "2024-11-22T10:37:45.124286Z"
        },
        "id": "7c7446e3",
        "outputId": "23fc3a44-bf74-4a3f-d331-33203eb825a9",
        "papermill": {
          "duration": 6.748291,
          "end_time": "2024-11-22T10:37:45.126858",
          "exception": false,
          "start_time": "2024-11-22T10:37:38.378567",
          "status": "completed"
        },
        "tags": []
      },
      "outputs": [
        {
          "name": "stdout",
          "output_type": "stream",
          "text": [
            "Prompt: <s> 질문: 자신의 강점은 무엇이라고 생각합니까? 경력: 경력 직업: 경영관리 답변:\n",
            "\n",
            "--- Response with Pretrained Weights ---\n",
            ": 어떻게 생각하세요?\n",
            "연봉: 3억원? 연봉: 5,000만원? 3억원은? 4억은? 5억원은?\n",
            "경력: 4억원! 5억원이? 2억원은... 4억원, 4000만원... 2억.... 4원, 3억원, 3000만, 4천, 4천이 3원입니다.\n",
            "4억, 4천만원은.... 5억은... 5억, 3천, 3천의\n",
            "경력 : 4200만원, 400만원.... 300만원, 5억! 3천을... 1억! 1억... 3천은... 억, 2억... 2천,3천, 5억... 5천, 6천은..... 3천에, 5억.... 5천은.... 2천에서 5천으로., 5천에... 6천을.... 6천에.. 6천, 5천을.. 7천을..... 7천, 7천으로.... 8천으로... 8천에.... 9천, 9천에..... 6천이.. 8천을.\n",
            "10천에. 6천으로..\n"
          ]
        },
        {
          "name": "stderr",
          "output_type": "stream",
          "text": [
            "/tmp/ipykernel_23/814914237.py:47: FutureWarning: You are using `torch.load` with `weights_only=False` (the current default value), which uses the default pickle module implicitly. It is possible to construct malicious pickle data which will execute arbitrary code during unpickling (See https://github.com/pytorch/pytorch/blob/main/SECURITY.md#untrusted-models for more details). In a future release, the default value for `weights_only` will be flipped to `True`. This limits the functions that could be executed during unpickling. Arbitrary objects will no longer be allowed to be loaded via this mode unless they are explicitly allowlisted by the user via `torch.serialization.add_safe_globals`. We recommend you start setting `weights_only=True` for any use case where you don't have full control of the loaded file. Please open an issue on GitHub for any issues related to this experimental feature.\n",
            "  model.load_state_dict(torch.load('./best_model.pt', map_location=torch.device('cpu')))\n"
          ]
        },
        {
          "name": "stdout",
          "output_type": "stream",
          "text": [
            "\n",
            "--- Response with Custom Weights (best_model.pt) ---\n",
            ": 제가 어 회사에 들어와서 제가 하고 싶은 역할은 어 경영 관리 팀에서 일을 하고 싶습니다. 어 저는 경영팀에 들어가서 어 관리자로서 어 팀의 전반적인 그 업무를 보고 어 총괄하고 또 경영 목표를 어떻게 어 이룰 것인지에 대한 그런 계획이나 어 계획을 어 짜고 또 그것을 어 실행하고 그런 일들을 어 잘 하고 싶어요. 왜냐하면 저희 팀원들도 어 경영에 대한 지식이나 경험 같은 것들이 많이 있는데 경영 관리를 하는 사람들이 어 그런 것을 가지고 어떤 목표를 달성하고 어떻게 그 목표를 달성할 것인지에 대해서 많은 연구를 하는 것을 어 보았거든요. 그래서 저 또한 그런 업무를 하고 있고요. 그리고 그것을 실행하는 사람들이 어떤 마인드가 있고 또 어떤 어 성과에 대해서 어떻게 성과를 냈는지에 대한 어 이런 것들이 참 흥미롭습니다. 그래서 그런 경영 관리가 제 업무의 어 핵심이기 때문에 제가 그 일을 맡을 수 있으면 어 참 좋겠습니다. \n"
          ]
        }
      ],
      "source": [
        "import torch\n",
        "from transformers import GPT2LMHeadModel, GPT2TokenizerFast\n",
        "\n",
        "# Load the tokenizer\n",
        "tokenizer = GPT2TokenizerFast.from_pretrained(\"skt/kogpt2-base-v2\",\n",
        "                                              bos_token='</s>',\n",
        "                                              eos_token='</s>',\n",
        "                                              unk_token='<unk>',\n",
        "                                              pad_token='<pad>',\n",
        "                                              mask_token='<mask>')\n",
        "\n",
        "# Load the pretrained model\n",
        "model = GPT2LMHeadModel.from_pretrained(\"skt/kogpt2-base-v2\")\n",
        "model.eval()\n",
        "\n",
        "# Move model to the appropriate device\n",
        "device = torch.device(\"cuda\" if torch.cuda.is_available() else \"cpu\")\n",
        "model.to(device)\n",
        "\n",
        "# Function to generate a response\n",
        "def generate_response(prompt, max_length=200):\n",
        "    input_ids = tokenizer.encode(prompt, return_tensors=\"pt\").to(device)\n",
        "    output = model.generate(\n",
        "        input_ids,\n",
        "        max_length=max_length,\n",
        "        num_return_sequences=1,\n",
        "        no_repeat_ngram_size=2,\n",
        "        top_k=50,\n",
        "        top_p=0.95,\n",
        "        temperature=0.8,\n",
        "        do_sample=True,\n",
        "        eos_token_id=tokenizer.eos_token_id\n",
        "    )\n",
        "    response = tokenizer.decode(output[0], skip_special_tokens=True)\n",
        "    return response\n",
        "\n",
        "# Example prompt\n",
        "prompt = \"<s> 질문: 자신의 강점은 무엇이라고 생각합니까? 경력: 경력 직업: 경영관리 답변:\"\n",
        "print(\"Prompt:\", prompt)\n",
        "\n",
        "# 1. Generate response with pretrained weights only\n",
        "print(\"\\n--- Response with Pretrained Weights ---\")\n",
        "response_pretrained = generate_response(prompt)\n",
        "print(response_pretrained.split('답변')[1])\n",
        "\n",
        "# 2. Load custom weights and generate response again\n",
        "model.load_state_dict(torch.load('./best_model.pt', map_location=torch.device('cpu')))\n",
        "model.eval()\n",
        "\n",
        "print(\"\\n--- Response with Custom Weights (best_model.pt) ---\")\n",
        "response_custom = generate_response(prompt)\n",
        "print(response_custom.split('답변')[1])"
      ]
    },
    {
      "cell_type": "code",
      "execution_count": null,
      "id": "c6fc3e8b",
      "metadata": {
        "id": "c6fc3e8b",
        "papermill": {
          "duration": 2.247552,
          "end_time": "2024-11-22T10:37:49.669999",
          "exception": false,
          "start_time": "2024-11-22T10:37:47.422447",
          "status": "completed"
        },
        "tags": []
      },
      "outputs": [],
      "source": []
    },
    {
      "cell_type": "code",
      "execution_count": null,
      "id": "cfd82f5c",
      "metadata": {
        "execution": {
          "iopub.execute_input": "2024-11-22T10:37:54.249645Z",
          "iopub.status.busy": "2024-11-22T10:37:54.248953Z",
          "iopub.status.idle": "2024-11-22T10:37:54.254305Z",
          "shell.execute_reply": "2024-11-22T10:37:54.253557Z"
        },
        "id": "cfd82f5c",
        "outputId": "c24678aa-ca4d-4e35-f618-61a032aa07b0",
        "papermill": {
          "duration": 2.306635,
          "end_time": "2024-11-22T10:37:54.256056",
          "exception": false,
          "start_time": "2024-11-22T10:37:51.949421",
          "status": "completed"
        },
        "tags": []
      },
      "outputs": [
        {
          "data": {
            "text/plain": [
              "{'rouge1': Score(precision=0.3162393162393162, recall=0.30833333333333335, fmeasure=0.31223628691983124),\n",
              " 'rouge2': Score(precision=0.04310344827586207, recall=0.04201680672268908, fmeasure=0.0425531914893617),\n",
              " 'rougeL': Score(precision=0.2564102564102564, recall=0.25, fmeasure=0.2531645569620253)}"
            ]
          },
          "execution_count": 18,
          "metadata": {},
          "output_type": "execute_result"
        }
      ],
      "source": [
        "rouge_scores"
      ]
    },
    {
      "cell_type": "code",
      "execution_count": null,
      "id": "3c178204",
      "metadata": {
        "papermill": {
          "duration": 2.304815,
          "end_time": "2024-11-22T10:37:58.796754",
          "exception": false,
          "start_time": "2024-11-22T10:37:56.491939",
          "status": "completed"
        },
        "tags": [],
        "id": "3c178204"
      },
      "outputs": [],
      "source": []
    },
    {
      "cell_type": "code",
      "execution_count": null,
      "id": "d13412b9",
      "metadata": {
        "papermill": {
          "duration": 2.247024,
          "end_time": "2024-11-22T10:38:03.349492",
          "exception": false,
          "start_time": "2024-11-22T10:38:01.102468",
          "status": "completed"
        },
        "tags": [],
        "id": "d13412b9"
      },
      "outputs": [],
      "source": []
    },
    {
      "cell_type": "markdown",
      "source": [
        "| Epoch | Training Loss | Validation Loss | BLEU | ROUGE-1 | ROUGE-2 | ROUGE-L | BERTScore-P | BERTScore-R | BERTScore-F1 | Notes |\n",
        "|--------|---------------|----------------|------|----------|----------|----------|-------------|-------------|--------------|--------|\n",
        "| 1 | 2.3968 | 2.1848 | 0.9907 | 0.3611 | 0.1066 | 0.2885 | 0.7849 | 0.7743 | 0.7795 | - |\n",
        "| 2 | 2.2046 | 2.1438 | 1.0808 | 0.3689 | 0.1120 | 0.2952 | 0.7868 | 0.7764 | 0.7816 | - |\n",
        "| 3 | 2.1004 | 2.1272 | 1.0979 | 0.3686 | 0.1131 | 0.2974 | 0.7864 | 0.7769 | 0.7816 | Best model saved |\n",
        "| 4 | 2.0221 | 2.1161 | 1.1363 | 0.3734 | 0.1160 | 0.3004 | 0.7888 | 0.7800 | 0.7843 | Best model saved |\n",
        "| 5 | 1.9635 | 2.1141 | 1.1472 | 0.3743 | 0.1165 | 0.3009 | 0.7888 | 0.7806 | 0.7847 | Best model saved |"
      ],
      "metadata": {
        "id": "_qFCLXiwifMN"
      },
      "id": "_qFCLXiwifMN"
    },
    {
      "cell_type": "code",
      "source": [
        "import matplotlib.pyplot as plt\n",
        "import numpy as np\n",
        "\n",
        "# 데이터 준비\n",
        "epochs = np.arange(1, 6)\n",
        "metrics = {\n",
        "    'Training Loss': [2.3968, 2.2046, 2.1004, 2.0221, 1.9635],\n",
        "    'Validation Loss': [2.1848, 2.1438, 2.1272, 2.1161, 2.1141],\n",
        "    'BLEU': [0.9907, 1.0808, 1.0979, 1.1363, 1.1472],\n",
        "    'ROUGE-1': [0.3611, 0.3689, 0.3686, 0.3734, 0.3743],\n",
        "    'ROUGE-2': [0.1066, 0.1120, 0.1131, 0.1160, 0.1165],\n",
        "    'ROUGE-L': [0.2885, 0.2952, 0.2974, 0.3004, 0.3009],\n",
        "    'BERTScore-P': [0.7849, 0.7868, 0.7864, 0.7888, 0.7888],\n",
        "    'BERTScore-R': [0.7743, 0.7764, 0.7769, 0.7800, 0.7806],\n",
        "    'BERTScore-F1': [0.7795, 0.7816, 0.7816, 0.7843, 0.7847]\n",
        "}\n",
        "\n",
        "# 그래프 스타일 설정\n",
        "fig, axes = plt.subplots(2, 2, figsize=(15, 12))\n",
        "fig.suptitle('Training Metrics Over Epochs', size=16, weight='bold', y=0.95)\n",
        "\n",
        "# 1. Loss 그래프\n",
        "ax = axes[0,0]\n",
        "ax.plot(epochs, metrics['Training Loss'], 'b-o', label='Training Loss')\n",
        "ax.plot(epochs, metrics['Validation Loss'], 'r-o', label='Validation Loss')\n",
        "ax.set_title('Loss Curves')\n",
        "ax.set_xlabel('Epoch')\n",
        "ax.set_ylabel('Loss')\n",
        "ax.legend()\n",
        "ax.grid(True)\n",
        "\n",
        "# 2. BLEU 점수 그래프\n",
        "ax = axes[0,1]\n",
        "ax.plot(epochs, metrics['BLEU'], 'g-o')\n",
        "ax.set_title('BLEU Score')\n",
        "ax.set_xlabel('Epoch')\n",
        "ax.set_ylabel('BLEU')\n",
        "ax.grid(True)\n",
        "\n",
        "# 3. ROUGE 점수 그래프\n",
        "ax = axes[1,0]\n",
        "ax.plot(epochs, metrics['ROUGE-1'], 'b-o', label='ROUGE-1')\n",
        "ax.plot(epochs, metrics['ROUGE-2'], 'r-o', label='ROUGE-2')\n",
        "ax.plot(epochs, metrics['ROUGE-L'], 'g-o', label='ROUGE-L')\n",
        "ax.set_title('ROUGE Scores')\n",
        "ax.set_xlabel('Epoch')\n",
        "ax.set_ylabel('Score')\n",
        "ax.legend()\n",
        "ax.grid(True)\n",
        "\n",
        "# 4. BERTScore 그래프\n",
        "ax = axes[1,1]\n",
        "ax.plot(epochs, metrics['BERTScore-P'], 'b-o', label='Precision')\n",
        "ax.plot(epochs, metrics['BERTScore-R'], 'r-o', label='Recall')\n",
        "ax.plot(epochs, metrics['BERTScore-F1'], 'g-o', label='F1')\n",
        "ax.set_title('BERTScore')\n",
        "ax.set_xlabel('Epoch')\n",
        "ax.set_ylabel('Score')\n",
        "ax.legend()\n",
        "ax.grid(True)\n",
        "\n",
        "# 레이아웃 조정\n",
        "plt.tight_layout()\n",
        "plt.show()"
      ],
      "metadata": {
        "id": "bcn7DNlrjEKy",
        "outputId": "46167648-0814-4aca-e787-afedfb717da8",
        "colab": {
          "base_uri": "https://localhost:8080/",
          "height": 1000
        }
      },
      "id": "bcn7DNlrjEKy",
      "execution_count": 2,
      "outputs": [
        {
          "output_type": "display_data",
          "data": {
            "text/plain": [
              "<Figure size 1500x1200 with 4 Axes>"
            ],
            "image/png": "[encoded data removed]"
          },
          "metadata": {}
        }
      ]
    }
  ],
  "metadata": {
    "accelerator": "GPU",
    "colab": {
      "gpuType": "A100",
      "machine_shape": "hm",
      "provenance": []
    },
    "kaggle": {
      "accelerator": "nvidiaTeslaT4",
      "dataSources": [],
      "dockerImageVersionId": 30787,
      "isGpuEnabled": true,
      "isInternetEnabled": true,
      "language": "python",
      "sourceType": "notebook"
    },
    "kernelspec": {
      "display_name": "Python 3",
      "language": "python",
      "name": "python3"
    },
    "language_info": {
      "codemirror_mode": {
        "name": "ipython",
        "version": 3
      },
      "file_extension": ".py",
      "mimetype": "text/x-python",
      "name": "python",
      "nbconvert_exporter": "python",
      "pygments_lexer": "ipython3",
      "version": "3.10.14"
    },
    "papermill": {
      "default_parameters": {},
      "duration": 31769.749778,
      "end_time": "2024-11-22T10:38:08.377952",
      "environment_variables": {},
      "exception": null,
      "input_path": "__notebook__.ipynb",
      "output_path": "__notebook__.ipynb",
      "parameters": {},
      "start_time": "2024-11-22T01:48:38.628174",
      "version": "2.6.0"
    },
    "widgets": {
      "application/vnd.jupyter.widget-state+json": {}
    }
  },
  "nbformat": 4,
  "nbformat_minor": 5
}