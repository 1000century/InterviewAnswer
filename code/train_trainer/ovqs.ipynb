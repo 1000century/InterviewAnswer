{
  "cells": [
    {
      "cell_type": "markdown",
      "metadata": {
        "id": "view-in-github",
        "colab_type": "text"
      },
      "source": [
        "<a href=\"https://colab.research.google.com/github/1000century/likelion_proj2/blob/main/train/code/v11_occ_vet_q_sum.ipynb\" target=\"_parent\"><img src=\"https://colab.research.google.com/assets/colab-badge.svg\" alt=\"Open In Colab\"/></a>"
      ]
    },
    {
      "cell_type": "code",
      "execution_count": null,
      "id": "37432ee9",
      "metadata": {
        "execution": {
          "iopub.execute_input": "2024-11-17T08:59:07.173342Z",
          "iopub.status.busy": "2024-11-17T08:59:07.172916Z",
          "iopub.status.idle": "2024-11-17T09:00:10.478678Z",
          "shell.execute_reply": "2024-11-17T09:00:10.477585Z"
        },
        "id": "37432ee9",
        "outputId": "1e17f280-3007-482b-fc49-d2ba7d5df7ef",
        "papermill": {
          "duration": 63.354882,
          "end_time": "2024-11-17T09:00:10.481318",
          "exception": false,
          "start_time": "2024-11-17T08:59:07.126436",
          "status": "completed"
        },
        "tags": []
      },
      "outputs": [
        {
          "name": "stdout",
          "output_type": "stream",
          "text": [
            "Requirement already satisfied: nltk in /opt/conda/lib/python3.10/site-packages (3.2.4)\r\n",
            "Collecting nltk\r\n",
            "  Downloading nltk-3.9.1-py3-none-any.whl.metadata (2.9 kB)\r\n",
            "Requirement already satisfied: click in /opt/conda/lib/python3.10/site-packages (from nltk) (8.1.7)\r\n",
            "Requirement already satisfied: joblib in /opt/conda/lib/python3.10/site-packages (from nltk) (1.4.2)\r\n",
            "Requirement already satisfied: regex>=2021.8.3 in /opt/conda/lib/python3.10/site-packages (from nltk) (2024.5.15)\r\n",
            "Requirement already satisfied: tqdm in /opt/conda/lib/python3.10/site-packages (from nltk) (4.66.4)\r\n",
            "Downloading nltk-3.9.1-py3-none-any.whl (1.5 MB)\r\n",
            "\u001b[2K   \u001b[90m━━━━━━━━━━━━━━━━━━━━━━━━━━━━━━━━━━━━━━━━\u001b[0m \u001b[32m1.5/1.5 MB\u001b[0m \u001b[31m36.8 MB/s\u001b[0m eta \u001b[36m0:00:00\u001b[0m\r\n",
            "\u001b[?25hInstalling collected packages: nltk\r\n",
            "  Attempting uninstall: nltk\r\n",
            "    Found existing installation: nltk 3.2.4\r\n",
            "    Uninstalling nltk-3.2.4:\r\n",
            "      Successfully uninstalled nltk-3.2.4\r\n",
            "\u001b[31mERROR: pip's dependency resolver does not currently take into account all the packages that are installed. This behaviour is the source of the following dependency conflicts.\r\n",
            "preprocessing 0.1.13 requires nltk==3.2.4, but you have nltk 3.9.1 which is incompatible.\u001b[0m\u001b[31m\r\n",
            "\u001b[0mSuccessfully installed nltk-3.9.1\r\n"
          ]
        }
      ],
      "source": [
        "! pip install evaluate -qq\n",
        "! pip install datasets -qq\n",
        "! pip install bert_score -qq\n",
        "! pip install rouge-score -qq\n",
        "! pip install --upgrade nltk\n"
      ]
    },
    {
      "cell_type": "code",
      "execution_count": null,
      "id": "e8aaef0c",
      "metadata": {
        "execution": {
          "iopub.execute_input": "2024-11-17T09:00:10.574078Z",
          "iopub.status.busy": "2024-11-17T09:00:10.573706Z",
          "iopub.status.idle": "2024-11-17T09:00:10.578269Z",
          "shell.execute_reply": "2024-11-17T09:00:10.577392Z"
        },
        "id": "e8aaef0c",
        "papermill": {
          "duration": 0.053583,
          "end_time": "2024-11-17T09:00:10.580292",
          "exception": false,
          "start_time": "2024-11-17T09:00:10.526709",
          "status": "completed"
        },
        "tags": []
      },
      "outputs": [],
      "source": [
        "import gc"
      ]
    },
    {
      "cell_type": "code",
      "execution_count": null,
      "id": "a26e11f1",
      "metadata": {
        "execution": {
          "iopub.execute_input": "2024-11-17T09:00:10.670492Z",
          "iopub.status.busy": "2024-11-17T09:00:10.670171Z",
          "iopub.status.idle": "2024-11-17T09:00:12.293782Z",
          "shell.execute_reply": "2024-11-17T09:00:12.293015Z"
        },
        "id": "a26e11f1",
        "papermill": {
          "duration": 1.671778,
          "end_time": "2024-11-17T09:00:12.296071",
          "exception": false,
          "start_time": "2024-11-17T09:00:10.624293",
          "status": "completed"
        },
        "tags": []
      },
      "outputs": [],
      "source": [
        "from datasets import load_dataset, Dataset, DatasetDict\n",
        "import pandas as pd\n",
        "import json\n",
        "import os\n",
        "import zipfile\n",
        "from typing import List, Dict\n",
        "\n",
        "def flatten_json_data(data_list):\n",
        "    \"\"\"JSON 데이터를 평탄화하는 함수\"\"\"\n",
        "    return pd.json_normalize(\n",
        "        data_list,\n",
        "        sep='_',\n",
        "        record_path=None,\n",
        "        meta=[\n",
        "            'category',\n",
        "            'job_field',\n",
        "            'gender',\n",
        "            'experience',\n",
        "            ['version'],\n",
        "            ['dataSet', 'answer', 'raw', 'text'],\n",
        "            ['dataSet', 'answer', 'summary', 'text'],\n",
        "            ['dataSet', 'question', 'raw', 'text'],\n",
        "            ['dataSet', 'info', 'ageRange'],\n",
        "            ['dataSet', 'info', 'channel'],\n",
        "            ['dataSet', 'info', 'date'],\n",
        "            ['dataSet', 'info', 'experience'],\n",
        "            ['dataSet', 'info', 'gender'],\n",
        "            ['dataSet', 'info', 'occupation'],\n",
        "            ['dataSet', 'info', 'place'],\n",
        "            ['rawDataInfo', 'answer', 'audioPath'],\n",
        "            ['rawDataInfo', 'question', 'audioPath']\n",
        "        ]\n",
        "    )\n",
        "\n",
        "def download_and_extract(urls: List[str], base_path: str) -> None:\n",
        "    \"\"\"\n",
        "    URL 리스트에서 ZIP 파일을 다운로드하고 압축을 해제하는 함수\n",
        "    \"\"\"\n",
        "    os.makedirs(base_path, exist_ok=True)\n",
        "\n",
        "    for i, url in enumerate(urls):\n",
        "        zip_file_name = url.split(\"/\")[-1]\n",
        "        zip_file_path = os.path.join(\"/kaggle/working\", zip_file_name)\n",
        "        print(f'처리중... {i+1}: {zip_file_name}')\n",
        "\n",
        "        # wget을 사용하여 파일 다운로드\n",
        "        !wget -q {url} -O {zip_file_path}\n",
        "\n",
        "        # 압축 해제할 폴더 생성\n",
        "        subfolder_name = zip_file_name.replace('.zip', '')\n",
        "        subfolder_path = os.path.join(base_path, subfolder_name)\n",
        "        os.makedirs(subfolder_path, exist_ok=True)\n",
        "\n",
        "        # ZIP 파일 압축 해제\n",
        "        with zipfile.ZipFile(zip_file_path, 'r') as zip_ref:\n",
        "            zip_ref.extractall(subfolder_path)\n",
        "\n",
        "        # 다운로드한 ZIP 파일 삭제\n",
        "        os.remove(zip_file_path)\n",
        "\n",
        "def create_dataset_from_json_files(base_path: str) -> Dataset:\n",
        "    \"\"\"\n",
        "    주어진 경로에서 JSON 파일들을 읽어 Dataset으로 변환하는 함수\n",
        "    \"\"\"\n",
        "    all_data = []\n",
        "\n",
        "    for root, _, files in os.walk(base_path):\n",
        "        for file in files:\n",
        "            if file.endswith('.json'):\n",
        "                file_path = os.path.join(root, file)\n",
        "                try:\n",
        "                    with open(file_path, 'r', encoding='utf-8') as f:\n",
        "                        data = json.load(f)\n",
        "                        # 파일 경로에서 메타데이터 추출\n",
        "                        folder_name = os.path.basename(os.path.dirname(file_path))\n",
        "                        parts = folder_name.split('_')\n",
        "                        data.update({\n",
        "                            'category': parts[0],  # TL or VL\n",
        "                            'job_field': '_'.join(parts[1:-2]),\n",
        "                            'gender': parts[-2],\n",
        "                            'experience': parts[-1]\n",
        "                        })\n",
        "                        all_data.append(data)\n",
        "                except json.JSONDecodeError as e:\n",
        "                    print(f\"Error reading {file_path}: {e}\")\n",
        "\n",
        "    # JSON 데이터 평탄화\n",
        "    df = flatten_json_data(all_data)\n",
        "\n",
        "    # DataFrame을 Dataset으로 변환\n",
        "    return Dataset.from_pandas(df)\n",
        "\n",
        "def create_interview_dataset():\n",
        "    \"\"\"\n",
        "    인터뷰 데이터셋을 생성하고 DatasetDict로 반환하는 함수\n",
        "    \"\"\"\n",
        "    # 훈련 데이터 URL\n",
        "    train_urls = [\n",
        "        \"https://github.com/1000century/multi_lion/raw/main/interview/Training/TL_01.Management_Female_Experienced.zip\",\n",
        "        \"https://github.com/1000century/multi_lion/raw/main/interview/Training/TL_01.Management_Female_New.zip\",\n",
        "        \"https://github.com/1000century/multi_lion/raw/main/interview/Training/TL_01.Management_Male_Experienced.zip\",\n",
        "        \"https://github.com/1000century/multi_lion/raw/main/interview/Training/TL_01.Management_Male_New.zip\",\n",
        "        \"https://github.com/1000century/multi_lion/raw/main/interview/Training/TL_02.SalesMarketing_Female_Experienced.zip\",\n",
        "        \"https://github.com/1000century/multi_lion/raw/main/interview/Training/TL_02.SalesMarketing_Female_New.zip\",\n",
        "        \"https://github.com/1000century/multi_lion/raw/main/interview/Training/TL_02.SalesMarketing_Male_Experienced.zip\",\n",
        "        \"https://github.com/1000century/multi_lion/raw/main/interview/Training/TL_02.SalesMarketing_Male_New.zip\",\n",
        "        \"https://github.com/1000century/multi_lion/raw/main/interview/Training/TL_03.PublicService_Female_Experienced.zip\",\n",
        "        \"https://github.com/1000century/multi_lion/raw/main/interview/Training/TL_03.PublicService_Female_New.zip\",\n",
        "        \"https://github.com/1000century/multi_lion/raw/main/interview/Training/TL_03.PublicService_Male_Experienced.zip\",\n",
        "        \"https://github.com/1000century/multi_lion/raw/main/interview/Training/TL_03.PublicService_Male_New.zip\",\n",
        "        \"https://github.com/1000century/multi_lion/raw/main/interview/Training/TL_04.RND_Female_Experienced.zip\",\n",
        "        \"https://github.com/1000century/multi_lion/raw/main/interview/Training/TL_04.RND_Female_New.zip\",\n",
        "        \"https://github.com/1000century/multi_lion/raw/main/interview/Training/TL_04.RND_Male_Experienced.zip\",\n",
        "        \"https://github.com/1000century/multi_lion/raw/main/interview/Training/TL_04.RND_Male_New.zip\",\n",
        "        \"https://github.com/1000century/multi_lion/raw/main/interview/Training/TL_05.ICT_Female_Experienced.zip\",\n",
        "        \"https://github.com/1000century/multi_lion/raw/main/interview/Training/TL_05.ICT_Female_New.zip\",\n",
        "        \"https://github.com/1000century/multi_lion/raw/main/interview/Training/TL_05.ICT_Male_Experienced.zip\",\n",
        "        \"https://github.com/1000century/multi_lion/raw/main/interview/Training/TL_05.ICT_Male_New.zip\",\n",
        "        \"https://github.com/1000century/multi_lion/raw/main/interview/Training/TL_06.Design_Female_Experienced.zip\",\n",
        "        \"https://github.com/1000century/multi_lion/raw/main/interview/Training/TL_06.Design_Female_New.zip\",\n",
        "        \"https://github.com/1000century/multi_lion/raw/main/interview/Training/TL_06.Design_Male_Experienced.zip\",\n",
        "        \"https://github.com/1000century/multi_lion/raw/main/interview/Training/TL_06.Design_Male_New.zip\",\n",
        "        \"https://github.com/1000century/multi_lion/raw/main/interview/Training/TL_07.ProductionManufacturing_Female_Experienced.zip\",\n",
        "        \"https://github.com/1000century/multi_lion/raw/main/interview/Training/TL_07.ProductionManufacturing_Female_New.zip\",\n",
        "        \"https://github.com/1000century/multi_lion/raw/main/interview/Training/TL_07.ProductionManufacturing_Male_Experienced.zip\",\n",
        "        \"https://github.com/1000century/multi_lion/raw/main/interview/Training/TL_07.ProductionManufacturing_Male_New.zip\"\n",
        "    ]\n",
        "\n",
        "    # 검증 데이터 URL\n",
        "    valid_urls = [\n",
        "        \"https://github.com/1000century/multi_lion/raw/main/interview/Validation/VL_01.Management_Female_Experienced.zip\",\n",
        "        \"https://github.com/1000century/multi_lion/raw/main/interview/Validation/VL_01.Management_Female_New.zip\",\n",
        "        \"https://github.com/1000century/multi_lion/raw/main/interview/Validation/VL_01.Management_Male_Experienced.zip\",\n",
        "        \"https://github.com/1000century/multi_lion/raw/main/interview/Validation/VL_01.Management_Male_New.zip\",\n",
        "        \"https://github.com/1000century/multi_lion/raw/main/interview/Validation/VL_02.SalesMarketing_Female_Experienced.zip\",\n",
        "        \"https://github.com/1000century/multi_lion/raw/main/interview/Validation/VL_02.SalesMarketing_Female_New.zip\",\n",
        "        \"https://github.com/1000century/multi_lion/raw/main/interview/Validation/VL_02.SalesMarketing_Male_Experienced.zip\",\n",
        "        \"https://github.com/1000century/multi_lion/raw/main/interview/Validation/VL_02.SalesMarketing_Male_New.zip\",\n",
        "        \"https://github.com/1000century/multi_lion/raw/main/interview/Validation/VL_03.PublicService_Female_Experienced.zip\",\n",
        "        \"https://github.com/1000century/multi_lion/raw/main/interview/Validation/VL_03.PublicService_Female_New.zip\",\n",
        "        \"https://github.com/1000century/multi_lion/raw/main/interview/Validation/VL_03.PublicService_Male_Experienced.zip\",\n",
        "        \"https://github.com/1000century/multi_lion/raw/main/interview/Validation/VL_03.PublicService_Male_New.zip\",\n",
        "        \"https://github.com/1000century/multi_lion/raw/main/interview/Validation/VL_04.RND_Female_Experienced.zip\",\n",
        "        \"https://github.com/1000century/multi_lion/raw/main/interview/Validation/VL_04.RND_Female_New.zip\",\n",
        "        \"https://github.com/1000century/multi_lion/raw/main/interview/Validation/VL_04.RND_Male_Experienced.zip\",\n",
        "        \"https://github.com/1000century/multi_lion/raw/main/interview/Validation/VL_04.RND_Male_New.zip\",\n",
        "        \"https://github.com/1000century/multi_lion/raw/main/interview/Validation/VL_05.ICT_Female_Experienced.zip\",\n",
        "        \"https://github.com/1000century/multi_lion/raw/main/interview/Validation/VL_05.ICT_Female_New.zip\",\n",
        "        \"https://github.com/1000century/multi_lion/raw/main/interview/Validation/VL_05.ICT_Male_Experienced.zip\",\n",
        "        \"https://github.com/1000century/multi_lion/raw/main/interview/Validation/VL_05.ICT_Male_New.zip\",\n",
        "        \"https://github.com/1000century/multi_lion/raw/main/interview/Validation/VL_06.Design_Female_Experienced.zip\",\n",
        "        \"https://github.com/1000century/multi_lion/raw/main/interview/Validation/VL_06.Design_Female_New.zip\",\n",
        "        \"https://github.com/1000century/multi_lion/raw/main/interview/Validation/VL_06.Design_Male_Experienced.zip\",\n",
        "        \"https://github.com/1000century/multi_lion/raw/main/interview/Validation/VL_06.Design_Male_New.zip\",\n",
        "        \"https://github.com/1000century/multi_lion/raw/main/interview/Validation/VL_07.ProductionManufacturing_Female_Experienced.zip\",\n",
        "        \"https://github.com/1000century/multi_lion/raw/main/interview/Validation/VL_07.ProductionManufacturing_Female_New.zip\",\n",
        "        \"https://github.com/1000century/multi_lion/raw/main/interview/Validation/VL_07.ProductionManufacturing_Male_Experienced.zip\",\n",
        "        \"https://github.com/1000century/multi_lion/raw/main/interview/Validation/VL_07.ProductionManufacturing_Male_New.zip\"\n",
        "    ]\n",
        "\n",
        "    # 데이터 다운로드 및 압축 해제\n",
        "    train_path = '/kaggle/working/train_unzipped'\n",
        "    valid_path = '/kaggle/working/validation_unzipped'\n",
        "\n",
        "    download_and_extract(train_urls, train_path)\n",
        "    download_and_extract(valid_urls, valid_path)\n",
        "\n",
        "    # 데이터셋 생성\n",
        "    train_dataset = create_dataset_from_json_files(train_path)\n",
        "    valid_dataset = create_dataset_from_json_files(valid_path)\n",
        "\n",
        "    # DatasetDict 생성\n",
        "    dataset_dict = DatasetDict({\n",
        "        'train': train_dataset,\n",
        "        'validation': valid_dataset\n",
        "    })\n",
        "\n",
        "    return dataset_dict"
      ]
    },
    {
      "cell_type": "code",
      "execution_count": null,
      "id": "046abfaa",
      "metadata": {
        "execution": {
          "iopub.execute_input": "2024-11-17T09:00:12.389814Z",
          "iopub.status.busy": "2024-11-17T09:00:12.389033Z",
          "iopub.status.idle": "2024-11-17T09:02:29.449962Z",
          "shell.execute_reply": "2024-11-17T09:02:29.448957Z"
        },
        "id": "046abfaa",
        "outputId": "82aaf9cb-85fe-4809-f6d0-a24b13364119",
        "papermill": {
          "duration": 137.10791,
          "end_time": "2024-11-17T09:02:29.452083",
          "exception": false,
          "start_time": "2024-11-17T09:00:12.344173",
          "status": "completed"
        },
        "tags": []
      },
      "outputs": [
        {
          "name": "stdout",
          "output_type": "stream",
          "text": [
            "처리중... 1: TL_01.Management_Female_Experienced.zip\n",
            "처리중... 2: TL_01.Management_Female_New.zip\n",
            "처리중... 3: TL_01.Management_Male_Experienced.zip\n",
            "처리중... 4: TL_01.Management_Male_New.zip\n",
            "처리중... 5: TL_02.SalesMarketing_Female_Experienced.zip\n",
            "처리중... 6: TL_02.SalesMarketing_Female_New.zip\n",
            "처리중... 7: TL_02.SalesMarketing_Male_Experienced.zip\n",
            "처리중... 8: TL_02.SalesMarketing_Male_New.zip\n",
            "처리중... 9: TL_03.PublicService_Female_Experienced.zip\n",
            "처리중... 10: TL_03.PublicService_Female_New.zip\n",
            "처리중... 11: TL_03.PublicService_Male_Experienced.zip\n",
            "처리중... 12: TL_03.PublicService_Male_New.zip\n",
            "처리중... 13: TL_04.RND_Female_Experienced.zip\n",
            "처리중... 14: TL_04.RND_Female_New.zip\n",
            "처리중... 15: TL_04.RND_Male_Experienced.zip\n",
            "처리중... 16: TL_04.RND_Male_New.zip\n",
            "처리중... 17: TL_05.ICT_Female_Experienced.zip\n",
            "처리중... 18: TL_05.ICT_Female_New.zip\n",
            "처리중... 19: TL_05.ICT_Male_Experienced.zip\n",
            "처리중... 20: TL_05.ICT_Male_New.zip\n",
            "처리중... 21: TL_06.Design_Female_Experienced.zip\n",
            "처리중... 22: TL_06.Design_Female_New.zip\n",
            "처리중... 23: TL_06.Design_Male_Experienced.zip\n",
            "처리중... 24: TL_06.Design_Male_New.zip\n",
            "처리중... 25: TL_07.ProductionManufacturing_Female_Experienced.zip\n",
            "처리중... 26: TL_07.ProductionManufacturing_Female_New.zip\n",
            "처리중... 27: TL_07.ProductionManufacturing_Male_Experienced.zip\n",
            "처리중... 28: TL_07.ProductionManufacturing_Male_New.zip\n",
            "처리중... 1: VL_01.Management_Female_Experienced.zip\n",
            "처리중... 2: VL_01.Management_Female_New.zip\n",
            "처리중... 3: VL_01.Management_Male_Experienced.zip\n",
            "처리중... 4: VL_01.Management_Male_New.zip\n",
            "처리중... 5: VL_02.SalesMarketing_Female_Experienced.zip\n",
            "처리중... 6: VL_02.SalesMarketing_Female_New.zip\n",
            "처리중... 7: VL_02.SalesMarketing_Male_Experienced.zip\n",
            "처리중... 8: VL_02.SalesMarketing_Male_New.zip\n",
            "처리중... 9: VL_03.PublicService_Female_Experienced.zip\n",
            "처리중... 10: VL_03.PublicService_Female_New.zip\n",
            "처리중... 11: VL_03.PublicService_Male_Experienced.zip\n",
            "처리중... 12: VL_03.PublicService_Male_New.zip\n",
            "처리중... 13: VL_04.RND_Female_Experienced.zip\n",
            "처리중... 14: VL_04.RND_Female_New.zip\n",
            "처리중... 15: VL_04.RND_Male_Experienced.zip\n",
            "처리중... 16: VL_04.RND_Male_New.zip\n",
            "처리중... 17: VL_05.ICT_Female_Experienced.zip\n",
            "처리중... 18: VL_05.ICT_Female_New.zip\n",
            "처리중... 19: VL_05.ICT_Male_Experienced.zip\n",
            "처리중... 20: VL_05.ICT_Male_New.zip\n",
            "처리중... 21: VL_06.Design_Female_Experienced.zip\n",
            "처리중... 22: VL_06.Design_Female_New.zip\n",
            "처리중... 23: VL_06.Design_Male_Experienced.zip\n",
            "처리중... 24: VL_06.Design_Male_New.zip\n",
            "처리중... 25: VL_07.ProductionManufacturing_Female_Experienced.zip\n",
            "처리중... 26: VL_07.ProductionManufacturing_Female_New.zip\n",
            "처리중... 27: VL_07.ProductionManufacturing_Male_Experienced.zip\n",
            "처리중... 28: VL_07.ProductionManufacturing_Male_New.zip\n",
            "Error reading /kaggle/working/train_unzipped/TL_01.Management_Female_New/ckmk_d_bm_f_n_269424.json: Invalid control character at: line 23 column 571 (char 1132)\n",
            "Error reading /kaggle/working/train_unzipped/TL_01.Management_Female_New/ckmk_d_bm_f_n_178194.json: Invalid control character at: line 23 column 135 (char 755)\n",
            "Error reading /kaggle/working/train_unzipped/TL_01.Management_Female_New/ckmk_d_bm_f_n_343176.json: Invalid control character at: line 23 column 433 (char 1029)\n",
            "Error reading /kaggle/working/train_unzipped/TL_05.ICT_Male_New/ckmk_d_ict_m_n_337139.json: Expecting property name enclosed in double quotes: line 22 column 21 (char 576)\n",
            "Error reading /kaggle/working/validation_unzipped/VL_01.Management_Female_New/ckmk_d_bm_f_n_161564.json: Invalid control character at: line 23 column 100 (char 688)\n",
            "Error reading /kaggle/working/validation_unzipped/VL_06.Design_Female_Experienced/ckmk_d_ard_f_e_66661.json: Invalid control character at: line 34 column 165 (char 1573)\n",
            "\n",
            "Dataset Info:\n",
            "DatasetDict({\n",
            "    train: Dataset({\n",
            "        features: ['version', 'category', 'job_field', 'gender', 'experience', 'dataSet_info_date', 'dataSet_info_occupation', 'dataSet_info_channel', 'dataSet_info_place', 'dataSet_info_gender', 'dataSet_info_ageRange', 'dataSet_info_experience', 'dataSet_question_raw_text', 'dataSet_question_raw_wordCount', 'dataSet_question_emotion', 'dataSet_question_intent', 'dataSet_answer_raw_text', 'dataSet_answer_raw_wordCount', 'dataSet_answer_emotion', 'dataSet_answer_intent', 'dataSet_answer_summary_text', 'dataSet_answer_summary_wordCount', 'rawDataInfo_question_fileFormat', 'rawDataInfo_question_fileSize', 'rawDataInfo_question_duration', 'rawDataInfo_question_samplingBit', 'rawDataInfo_question_channelCount', 'rawDataInfo_question_samplingRate', 'rawDataInfo_question_audioPath', 'rawDataInfo_answer_fileFormat', 'rawDataInfo_answer_fileSize', 'rawDataInfo_answer_duration', 'rawDataInfo_answer_samplingBit', 'rawDataInfo_answer_channelCount', 'rawDataInfo_answer_samplingRate', 'rawDataInfo_answer_audioPath'],\n",
            "        num_rows: 68074\n",
            "    })\n",
            "    validation: Dataset({\n",
            "        features: ['version', 'category', 'job_field', 'gender', 'experience', 'dataSet_info_date', 'dataSet_info_occupation', 'dataSet_info_channel', 'dataSet_info_place', 'dataSet_info_gender', 'dataSet_info_ageRange', 'dataSet_info_experience', 'dataSet_question_raw_text', 'dataSet_question_raw_wordCount', 'dataSet_question_emotion', 'dataSet_question_intent', 'dataSet_answer_raw_text', 'dataSet_answer_raw_wordCount', 'dataSet_answer_emotion', 'dataSet_answer_intent', 'dataSet_answer_summary_text', 'dataSet_answer_summary_wordCount', 'rawDataInfo_question_fileFormat', 'rawDataInfo_question_fileSize', 'rawDataInfo_question_duration', 'rawDataInfo_question_samplingBit', 'rawDataInfo_question_channelCount', 'rawDataInfo_question_samplingRate', 'rawDataInfo_question_audioPath', 'rawDataInfo_answer_fileFormat', 'rawDataInfo_answer_fileSize', 'rawDataInfo_answer_duration', 'rawDataInfo_answer_samplingBit', 'rawDataInfo_answer_channelCount', 'rawDataInfo_answer_samplingRate', 'rawDataInfo_answer_audioPath'],\n",
            "        num_rows: 8026\n",
            "    })\n",
            "})\n",
            "\n",
            "Training Data Sample:\n",
            "{'version': '1.0', 'category': 'TL', 'job_field': '02.SalesMarketing', 'gender': 'Female', 'experience': 'New', 'dataSet_info_date': '20230116', 'dataSet_info_occupation': 'SM', 'dataSet_info_channel': 'MOCK', 'dataSet_info_place': 'ONLINE', 'dataSet_info_gender': 'FEMALE', 'dataSet_info_ageRange': '45-54', 'dataSet_info_experience': 'NEW', 'dataSet_question_raw_text': '지원자님께서 대학 생활을 보내면서 가장 힘들었던 경험은 무엇이었습니까 그리고 지원자님께서는 그것을 어떻게 극복했는지도 말해 주시기 바랍니다', 'dataSet_question_raw_wordCount': 16, 'dataSet_question_emotion': [], 'dataSet_question_intent': [], 'dataSet_answer_raw_text': '대학 생활에서 가장 힘들었던 경험은 어 제가 언어를 전공했는데요. 그 외국어를 전공하다 보니 어 그것을 말하는 사람들과 직접적으로 소통하고 어 어 그 배워야 하는데 그런 기회가 좀 적었어요. 어 경제적 여유가 없었기 때문에 어 그 사람들에게 어 음 그 가르침을 받을 기회를 갖지 못했구요. 또 그 그 당시에는 사실 외국인들이 서울을 제외하고는 어 지방에 많이 거주하지도 않았어요. 그래서 제가 한 방법은 어 그 외국에서 온 선교사들 어 그 선교사들을 어 개인적으로 좀 그 친숙한 관계를 유지해서 그들에게서 어 영어를 좀 배웠어요. 어 어떤 의미에서는 제가 그들을 이용했다는 느낌이 드는데요. 어 종교적으로 동화되지 않고 그 영어만을 배울고자 하는 어 그 열망을 분명히 그들에게 전했고요. 그들 또한 그 사실을 알면서도 혹시나 선교 핫 할 수 있지 않을까 해서 기꺼이 가르쳐 주었어요.', 'dataSet_answer_raw_wordCount': 119, 'dataSet_answer_emotion': [], 'dataSet_answer_intent': [{'category': 'attitude', 'expression': '', 'text': ''}], 'dataSet_answer_summary_text': '대학 생활에서 가장 힘들었던 경험은 언어를 전공했습니다. 경제적 여유가 없었기 때문에 가르침을 받을 기회가 적었고, 그래서 외국에서 온 선교사들에게서 영어를 좀 배웠는데, 그들에게 영어만을 배우고자 하는 열망을 전했고, 그들이 선교 핫할 수 있을까 가르쳐 주었어요.', 'dataSet_answer_summary_wordCount': 35, 'rawDataInfo_question_fileFormat': 'wav', 'rawDataInfo_question_fileSize': 628238, 'rawDataInfo_question_duration': 19630, 'rawDataInfo_question_samplingBit': 16, 'rawDataInfo_question_channelCount': 1, 'rawDataInfo_question_samplingRate': '16kHz', 'rawDataInfo_question_audioPath': '/Mock/02.SalesMarketing/Female/New/ckmk_q_sm_f_n_314066.wav', 'rawDataInfo_answer_fileFormat': 'wav', 'rawDataInfo_answer_fileSize': 3629518, 'rawDataInfo_answer_duration': 113420, 'rawDataInfo_answer_samplingBit': 16, 'rawDataInfo_answer_channelCount': 1, 'rawDataInfo_answer_samplingRate': '16kHz', 'rawDataInfo_answer_audioPath': '/Mock/02.SalesMarketing/Female/New/ckmk_a_sm_f_n_314066.wav'}\n",
            "\n",
            "Validation Data Sample:\n",
            "{'version': '1.0', 'category': 'VL', 'job_field': '05.ICT', 'gender': 'Male', 'experience': 'Experienced', 'dataSet_info_date': '20230116', 'dataSet_info_occupation': 'ICT', 'dataSet_info_channel': 'MOCK', 'dataSet_info_place': 'ONLINE', 'dataSet_info_gender': 'MALE', 'dataSet_info_ageRange': '45-54', 'dataSet_info_experience': 'EXPERIENCED', 'dataSet_question_raw_text': '제가 봤을 때는 요즘 젊은 층에서는 국내 브랜드보다는 아이폰을 선호하는 경향이 많은 거 같습니다 본인이 봤을 때 왜 젊은 사람들이 아이폰을 선호하는지 한번 개인적인 의견을 묻고 싶은데요 부탁드립니다', 'dataSet_question_raw_wordCount': 28, 'dataSet_question_emotion': [], 'dataSet_question_intent': [], 'dataSet_answer_raw_text': '아이폰는 일종의 패션으로 자리를 잡은 것 같습니다. 특히 예를 들면 국내 어떤 휴대폰 제조 상품과 비교를 했을 때 익숙한 사람들이 상대적으로 국내 상품을 선호 하기도 하지만 여전히 나이가 있는 분들은 도 아이폰으로 이렇게 전향을 하는 경우를 주변에서 많이 보는 것 같습니다. 그런 관점에서는 아이폰이 가지고 있는 뭐 상징성이 있는 것 같습니다. 처음으로 스마트폰을 개발을 했고 스마트폰 시장을 그 리더 리드 해 왔다는 점이 있는데 그런 관점에서 소비자들도 그러한 상품을 자기가 쓴다는 거에 대한 어떤 자부심이 있는 것 같다는 생각이 듭니다. 그런 관점에서 아이폰을 앞질러 가기 위해서는 아이폰이 초기 단계에서 어떤 소비자들에게 어필했던 부분이 무엇이었는지를 다시 한 번 파악을 해보고 그걸 캐치를 하는 게 무엇보다 중요하지 않나 생각을 합니다.', 'dataSet_answer_raw_wordCount': 108, 'dataSet_answer_emotion': [], 'dataSet_answer_intent': [{'category': 'attitude', 'expression': '', 'text': ''}], 'dataSet_answer_summary_text': '아이폰은 처음으로 스마트폰을 개발을 했고 스마트폰 시장을 리더 해 왔다는 점에서 소비자들에게 상징성이 있습니다. 그런 관점에서 아이폰을 앞질러 가기 위해서는 초기 단계에서 어떤 소비자들에게 어필했던 부분이 무엇인지 파악 해보고 캐치를 하는 게 중요합니다.', 'dataSet_answer_summary_wordCount': 33, 'rawDataInfo_question_fileFormat': 'wav', 'rawDataInfo_question_fileSize': 652878, 'rawDataInfo_question_duration': 20400, 'rawDataInfo_question_samplingBit': 16, 'rawDataInfo_question_channelCount': 1, 'rawDataInfo_question_samplingRate': '16kHz', 'rawDataInfo_question_audioPath': '/Mock/05.ICT/Male/Experienced/ckmk_q_ict_m_e_19287.wav', 'rawDataInfo_answer_fileFormat': 'wav', 'rawDataInfo_answer_fileSize': 2371918, 'rawDataInfo_answer_duration': 74120, 'rawDataInfo_answer_samplingBit': 16, 'rawDataInfo_answer_channelCount': 1, 'rawDataInfo_answer_samplingRate': '16kHz', 'rawDataInfo_answer_audioPath': '/Mock/05.ICT/Male/Experienced/ckmk_a_ict_m_e_19287.wav'}\n"
          ]
        }
      ],
      "source": [
        "# 데이터셋 생성\n",
        "dataset = create_interview_dataset()\n",
        "\n",
        "# 데이터셋 정보 출력\n",
        "print(\"\\nDataset Info:\")\n",
        "print(dataset)\n",
        "\n",
        "# 훈련 데이터 샘플 확인\n",
        "print(\"\\nTraining Data Sample:\")\n",
        "print(dataset['train'][0])\n",
        "\n",
        "# 검증 데이터 샘플 확인\n",
        "print(\"\\nValidation Data Sample:\")\n",
        "print(dataset['validation'][0])\n",
        "\n",
        "# 데이터셋을 로컬이나 HuggingFace Hub에 저장하기\n",
        "# dataset.save_to_disk(\"path/to/local/directory\")  # 로컬에 저장\n",
        "# dataset.push_to_hub(\"username/dataset-name\")     # HuggingFace Hub에 업로드"
      ]
    },
    {
      "cell_type": "code",
      "execution_count": null,
      "id": "b8a17217",
      "metadata": {
        "execution": {
          "iopub.execute_input": "2024-11-17T09:02:29.552022Z",
          "iopub.status.busy": "2024-11-17T09:02:29.551678Z",
          "iopub.status.idle": "2024-11-17T09:02:47.687489Z",
          "shell.execute_reply": "2024-11-17T09:02:47.686509Z"
        },
        "id": "b8a17217",
        "papermill": {
          "duration": 18.188486,
          "end_time": "2024-11-17T09:02:47.689915",
          "exception": false,
          "start_time": "2024-11-17T09:02:29.501429",
          "status": "completed"
        },
        "tags": []
      },
      "outputs": [],
      "source": [
        "from transformers import (\n",
        "    AutoTokenizer,\n",
        "    AutoModelForSequenceClassification,\n",
        "    TrainingArguments,\n",
        "    Trainer,\n",
        "    DataCollatorWithPadding\n",
        ")\n",
        "from datasets import load_dataset\n",
        "import numpy as np"
      ]
    },
    {
      "cell_type": "code",
      "execution_count": null,
      "id": "e68bbd06",
      "metadata": {
        "execution": {
          "iopub.execute_input": "2024-11-17T09:02:47.789855Z",
          "iopub.status.busy": "2024-11-17T09:02:47.789150Z",
          "iopub.status.idle": "2024-11-17T09:02:49.332644Z",
          "shell.execute_reply": "2024-11-17T09:02:49.331659Z"
        },
        "id": "e68bbd06",
        "outputId": "8b8974d5-e26d-441c-da9d-cb059c89b8a4",
        "papermill": {
          "duration": 1.595316,
          "end_time": "2024-11-17T09:02:49.334825",
          "exception": false,
          "start_time": "2024-11-17T09:02:47.739509",
          "status": "completed"
        },
        "tags": [],
        "colab": {
          "referenced_widgets": [
            "f436ebbb9b7442d980df378278f0ede3",
            "b481aae3bed14563890ee7b4458ba201"
          ]
        }
      },
      "outputs": [
        {
          "data": {
            "application/vnd.jupyter.widget-view+json": {
              "model_id": "f436ebbb9b7442d980df378278f0ede3",
              "version_major": 2,
              "version_minor": 0
            },
            "text/plain": [
              "tokenizer.json:   0%|          | 0.00/2.83M [00:00<?, ?B/s]"
            ]
          },
          "metadata": {},
          "output_type": "display_data"
        },
        {
          "data": {
            "application/vnd.jupyter.widget-view+json": {
              "model_id": "b481aae3bed14563890ee7b4458ba201",
              "version_major": 2,
              "version_minor": 0
            },
            "text/plain": [
              "config.json:   0%|          | 0.00/1.00k [00:00<?, ?B/s]"
            ]
          },
          "metadata": {},
          "output_type": "display_data"
        },
        {
          "name": "stderr",
          "output_type": "stream",
          "text": [
            "The tokenizer class you load from this checkpoint is not the same type as the class this function is called from. It may result in unexpected tokenization. \n",
            "The tokenizer class you load from this checkpoint is 'GPT2Tokenizer'. \n",
            "The class this function is called from is 'PreTrainedTokenizerFast'.\n",
            "/opt/conda/lib/python3.10/site-packages/transformers/tokenization_utils_base.py:1617: FutureWarning: `clean_up_tokenization_spaces` was not set. It will be set to `True` by default. This behavior will be deprecated in transformers v4.45, and will be then set to `False` by default. For more details check this issue: https://github.com/huggingface/transformers/issues/31884\n",
            "  warnings.warn(\n"
          ]
        }
      ],
      "source": [
        "from transformers import PreTrainedTokenizerFast\n",
        "tokenizer = PreTrainedTokenizerFast.from_pretrained(\n",
        "    \"skt/kogpt2-base-v2\",\n",
        "    bos_token='</s>',\n",
        "    eos_token='</s>',\n",
        "    unk_token='<unk>',\n",
        "    pad_token='<pad>',\n",
        "    mask_token='<mask>'\n",
        ")"
      ]
    },
    {
      "cell_type": "code",
      "execution_count": null,
      "id": "a6c557e4",
      "metadata": {
        "execution": {
          "iopub.execute_input": "2024-11-17T09:02:49.435787Z",
          "iopub.status.busy": "2024-11-17T09:02:49.435057Z",
          "iopub.status.idle": "2024-11-17T09:02:49.444516Z",
          "shell.execute_reply": "2024-11-17T09:02:49.443630Z"
        },
        "id": "a6c557e4",
        "outputId": "4e5c787e-83c3-4b3e-e557-03bc2e11a5ac",
        "papermill": {
          "duration": 0.061583,
          "end_time": "2024-11-17T09:02:49.446343",
          "exception": false,
          "start_time": "2024-11-17T09:02:49.384760",
          "status": "completed"
        },
        "tags": []
      },
      "outputs": [
        {
          "data": {
            "text/plain": [
              "{'version': '1.0',\n",
              " 'category': 'TL',\n",
              " 'job_field': '02.SalesMarketing',\n",
              " 'gender': 'Female',\n",
              " 'experience': 'New',\n",
              " 'dataSet_info_date': '20230116',\n",
              " 'dataSet_info_occupation': 'SM',\n",
              " 'dataSet_info_channel': 'MOCK',\n",
              " 'dataSet_info_place': 'ONLINE',\n",
              " 'dataSet_info_gender': 'FEMALE',\n",
              " 'dataSet_info_ageRange': '45-54',\n",
              " 'dataSet_info_experience': 'NEW',\n",
              " 'dataSet_question_raw_text': '지원자님께서 대학 생활을 보내면서 가장 힘들었던 경험은 무엇이었습니까 그리고 지원자님께서는 그것을 어떻게 극복했는지도 말해 주시기 바랍니다',\n",
              " 'dataSet_question_raw_wordCount': 16,\n",
              " 'dataSet_question_emotion': [],\n",
              " 'dataSet_question_intent': [],\n",
              " 'dataSet_answer_raw_text': '대학 생활에서 가장 힘들었던 경험은 어 제가 언어를 전공했는데요. 그 외국어를 전공하다 보니 어 그것을 말하는 사람들과 직접적으로 소통하고 어 어 그 배워야 하는데 그런 기회가 좀 적었어요. 어 경제적 여유가 없었기 때문에 어 그 사람들에게 어 음 그 가르침을 받을 기회를 갖지 못했구요. 또 그 그 당시에는 사실 외국인들이 서울을 제외하고는 어 지방에 많이 거주하지도 않았어요. 그래서 제가 한 방법은 어 그 외국에서 온 선교사들 어 그 선교사들을 어 개인적으로 좀 그 친숙한 관계를 유지해서 그들에게서 어 영어를 좀 배웠어요. 어 어떤 의미에서는 제가 그들을 이용했다는 느낌이 드는데요. 어 종교적으로 동화되지 않고 그 영어만을 배울고자 하는 어 그 열망을 분명히 그들에게 전했고요. 그들 또한 그 사실을 알면서도 혹시나 선교 핫 할 수 있지 않을까 해서 기꺼이 가르쳐 주었어요.',\n",
              " 'dataSet_answer_raw_wordCount': 119,\n",
              " 'dataSet_answer_emotion': [],\n",
              " 'dataSet_answer_intent': [{'category': 'attitude',\n",
              "   'expression': '',\n",
              "   'text': ''}],\n",
              " 'dataSet_answer_summary_text': '대학 생활에서 가장 힘들었던 경험은 언어를 전공했습니다. 경제적 여유가 없었기 때문에 가르침을 받을 기회가 적었고, 그래서 외국에서 온 선교사들에게서 영어를 좀 배웠는데, 그들에게 영어만을 배우고자 하는 열망을 전했고, 그들이 선교 핫할 수 있을까 가르쳐 주었어요.',\n",
              " 'dataSet_answer_summary_wordCount': 35,\n",
              " 'rawDataInfo_question_fileFormat': 'wav',\n",
              " 'rawDataInfo_question_fileSize': 628238,\n",
              " 'rawDataInfo_question_duration': 19630,\n",
              " 'rawDataInfo_question_samplingBit': 16,\n",
              " 'rawDataInfo_question_channelCount': 1,\n",
              " 'rawDataInfo_question_samplingRate': '16kHz',\n",
              " 'rawDataInfo_question_audioPath': '/Mock/02.SalesMarketing/Female/New/ckmk_q_sm_f_n_314066.wav',\n",
              " 'rawDataInfo_answer_fileFormat': 'wav',\n",
              " 'rawDataInfo_answer_fileSize': 3629518,\n",
              " 'rawDataInfo_answer_duration': 113420,\n",
              " 'rawDataInfo_answer_samplingBit': 16,\n",
              " 'rawDataInfo_answer_channelCount': 1,\n",
              " 'rawDataInfo_answer_samplingRate': '16kHz',\n",
              " 'rawDataInfo_answer_audioPath': '/Mock/02.SalesMarketing/Female/New/ckmk_a_sm_f_n_314066.wav'}"
            ]
          },
          "execution_count": 7,
          "metadata": {},
          "output_type": "execute_result"
        }
      ],
      "source": [
        "dataset['train'][0]"
      ]
    },
    {
      "cell_type": "code",
      "execution_count": null,
      "id": "c2ee4be0",
      "metadata": {
        "execution": {
          "iopub.execute_input": "2024-11-17T09:02:49.546837Z",
          "iopub.status.busy": "2024-11-17T09:02:49.546518Z",
          "iopub.status.idle": "2024-11-17T09:02:49.551094Z",
          "shell.execute_reply": "2024-11-17T09:02:49.550258Z"
        },
        "papermill": {
          "duration": 0.056872,
          "end_time": "2024-11-17T09:02:49.552922",
          "exception": false,
          "start_time": "2024-11-17T09:02:49.496050",
          "status": "completed"
        },
        "tags": [],
        "id": "c2ee4be0"
      },
      "outputs": [],
      "source": [
        "# 직무 코드를 실제 직무명으로 변환하는 딕셔너리\n",
        "occupation_map = {\n",
        "    'SM': '영업마케팅',\n",
        "    'PS': '공공서비스',\n",
        "    'RND': '연구개발',\n",
        "    'ICT': '정보통신',\n",
        "    'ARD': '디자인',\n",
        "    'MM': '생산관리',\n",
        "    'BM': '경영사무'\n",
        "}\n",
        "\n"
      ]
    },
    {
      "cell_type": "code",
      "execution_count": null,
      "id": "b8e72284",
      "metadata": {
        "execution": {
          "iopub.execute_input": "2024-11-17T09:02:49.652264Z",
          "iopub.status.busy": "2024-11-17T09:02:49.651925Z",
          "iopub.status.idle": "2024-11-17T09:03:23.477097Z",
          "shell.execute_reply": "2024-11-17T09:03:23.476053Z"
        },
        "id": "b8e72284",
        "outputId": "68c0f12a-d319-484d-8dae-dd9a7481e035",
        "papermill": {
          "duration": 33.877258,
          "end_time": "2024-11-17T09:03:23.479152",
          "exception": false,
          "start_time": "2024-11-17T09:02:49.601894",
          "status": "completed"
        },
        "tags": [],
        "colab": {
          "referenced_widgets": [
            "9152af76102a4f57be852fad3cc42c29",
            "45a7b0fa29a24592b4604bb41b3473ee"
          ]
        }
      },
      "outputs": [
        {
          "data": {
            "application/vnd.jupyter.widget-view+json": {
              "model_id": "9152af76102a4f57be852fad3cc42c29",
              "version_major": 2,
              "version_minor": 0
            },
            "text/plain": [
              "Map:   0%|          | 0/68074 [00:00<?, ? examples/s]"
            ]
          },
          "metadata": {},
          "output_type": "display_data"
        },
        {
          "data": {
            "application/vnd.jupyter.widget-view+json": {
              "model_id": "45a7b0fa29a24592b4604bb41b3473ee",
              "version_major": 2,
              "version_minor": 0
            },
            "text/plain": [
              "Map:   0%|          | 0/8026 [00:00<?, ? examples/s]"
            ]
          },
          "metadata": {},
          "output_type": "display_data"
        }
      ],
      "source": [
        "def preprocess_training_examples(examples):\n",
        "    max_length=256\n",
        "    formatted_inputs = [\n",
        "        f\"</s> 직무: {occupation_map[occ]} 경력상태: {'신입' if exp == 'NEW' else '경력직'} 질문: {q} 답변: {a} </s>\"\n",
        "        for occ, exp, q, a in zip(\n",
        "            examples[\"dataSet_info_occupation\"],\n",
        "            examples[\"dataSet_info_experience\"],\n",
        "            examples[\"dataSet_question_raw_text\"],\n",
        "            examples[\"dataSet_answer_summary_text\"]\n",
        "        )\n",
        "    ]\n",
        "    inputs = tokenizer(\n",
        "        formatted_inputs,\n",
        "        max_length=max_length,\n",
        "        truncation= True,\n",
        "        padding=\"max_length\",\n",
        "        return_tensors=\"pt\"\n",
        "    )\n",
        "\n",
        "    labels = inputs['input_ids'].clone()\n",
        "    labels[labels==tokenizer.pad_token_id] = -100\n",
        "    inputs['labels'] = labels\n",
        "    return inputs\n",
        "\n",
        "\n",
        "train_dataset = dataset['train'].map(\n",
        "    preprocess_training_examples,\n",
        "    batched=True,\n",
        "    remove_columns=dataset['train'].column_names,\n",
        "    load_from_cache_file=False  # 이 옵션 추가\n",
        ")\n",
        "\n",
        "val_dataset = dataset['validation'].map(\n",
        "    preprocess_training_examples,\n",
        "    batched=True,\n",
        "    remove_columns=dataset['validation'].column_names,\n",
        "    load_from_cache_file=False  # 이 옵션 추가\n",
        ")"
      ]
    },
    {
      "cell_type": "code",
      "execution_count": null,
      "id": "4fe0449d",
      "metadata": {
        "id": "4fe0449d",
        "papermill": {
          "duration": 0.050122,
          "end_time": "2024-11-17T09:03:23.585478",
          "exception": false,
          "start_time": "2024-11-17T09:03:23.535356",
          "status": "completed"
        },
        "tags": []
      },
      "outputs": [],
      "source": []
    },
    {
      "cell_type": "code",
      "execution_count": null,
      "id": "7e122c66",
      "metadata": {
        "execution": {
          "iopub.execute_input": "2024-11-17T09:03:23.686050Z",
          "iopub.status.busy": "2024-11-17T09:03:23.685720Z",
          "iopub.status.idle": "2024-11-17T09:03:23.690962Z",
          "shell.execute_reply": "2024-11-17T09:03:23.690086Z"
        },
        "id": "7e122c66",
        "outputId": "633a5b10-490b-4492-dae4-6028ac26e3db",
        "papermill": {
          "duration": 0.057617,
          "end_time": "2024-11-17T09:03:23.693162",
          "exception": false,
          "start_time": "2024-11-17T09:03:23.635545",
          "status": "completed"
        },
        "tags": []
      },
      "outputs": [
        {
          "name": "stdout",
          "output_type": "stream",
          "text": [
            "68074\n",
            "68074\n",
            "8026\n"
          ]
        }
      ],
      "source": [
        "print(len(train_dataset))\n",
        "# # 코드 잘 돌아가는지 확인 위해 train_dataset 임의로 매우 적은 개수로 샘플링\n",
        "# from torch.utils.data import Subset\n",
        "# train_dataset = Subset(train_dataset, indices=range(40))\n",
        "# val_dataset = Subset(val_dataset, indices=range(80))\n",
        "print(len(train_dataset))\n",
        "print(len(val_dataset))"
      ]
    },
    {
      "cell_type": "markdown",
      "id": "4f0f6c50",
      "metadata": {
        "id": "4f0f6c50",
        "papermill": {
          "duration": 0.049314,
          "end_time": "2024-11-17T09:03:23.792083",
          "exception": false,
          "start_time": "2024-11-17T09:03:23.742769",
          "status": "completed"
        },
        "tags": []
      },
      "source": [
        "# Model"
      ]
    },
    {
      "cell_type": "code",
      "execution_count": null,
      "id": "7c0c5f0c",
      "metadata": {
        "id": "7c0c5f0c",
        "papermill": {
          "duration": 0.049618,
          "end_time": "2024-11-17T09:03:23.891666",
          "exception": false,
          "start_time": "2024-11-17T09:03:23.842048",
          "status": "completed"
        },
        "tags": []
      },
      "outputs": [],
      "source": []
    },
    {
      "cell_type": "code",
      "execution_count": null,
      "id": "8375413c",
      "metadata": {
        "execution": {
          "iopub.execute_input": "2024-11-17T09:03:23.993139Z",
          "iopub.status.busy": "2024-11-17T09:03:23.992347Z",
          "iopub.status.idle": "2024-11-17T09:03:27.896854Z",
          "shell.execute_reply": "2024-11-17T09:03:27.895972Z"
        },
        "id": "8375413c",
        "outputId": "19a599a2-309c-4547-85e9-d2456a32a0b4",
        "papermill": {
          "duration": 3.957254,
          "end_time": "2024-11-17T09:03:27.898922",
          "exception": false,
          "start_time": "2024-11-17T09:03:23.941668",
          "status": "completed"
        },
        "tags": [],
        "colab": {
          "referenced_widgets": [
            "3c8d24195f634b7480a86d96ad3d8cf1"
          ]
        }
      },
      "outputs": [
        {
          "data": {
            "application/vnd.jupyter.widget-view+json": {
              "model_id": "3c8d24195f634b7480a86d96ad3d8cf1",
              "version_major": 2,
              "version_minor": 0
            },
            "text/plain": [
              "pytorch_model.bin:   0%|          | 0.00/513M [00:00<?, ?B/s]"
            ]
          },
          "metadata": {},
          "output_type": "display_data"
        },
        {
          "data": {
            "text/plain": [
              "GPT2LMHeadModel(\n",
              "  (transformer): GPT2Model(\n",
              "    (wte): Embedding(51200, 768)\n",
              "    (wpe): Embedding(1024, 768)\n",
              "    (drop): Dropout(p=0.1, inplace=False)\n",
              "    (h): ModuleList(\n",
              "      (0-11): 12 x GPT2Block(\n",
              "        (ln_1): LayerNorm((768,), eps=1e-05, elementwise_affine=True)\n",
              "        (attn): GPT2SdpaAttention(\n",
              "          (c_attn): Conv1D(nf=2304, nx=768)\n",
              "          (c_proj): Conv1D(nf=768, nx=768)\n",
              "          (attn_dropout): Dropout(p=0.1, inplace=False)\n",
              "          (resid_dropout): Dropout(p=0.1, inplace=False)\n",
              "        )\n",
              "        (ln_2): LayerNorm((768,), eps=1e-05, elementwise_affine=True)\n",
              "        (mlp): GPT2MLP(\n",
              "          (c_fc): Conv1D(nf=3072, nx=768)\n",
              "          (c_proj): Conv1D(nf=768, nx=3072)\n",
              "          (act): NewGELUActivation()\n",
              "          (dropout): Dropout(p=0.1, inplace=False)\n",
              "        )\n",
              "      )\n",
              "    )\n",
              "    (ln_f): LayerNorm((768,), eps=1e-05, elementwise_affine=True)\n",
              "  )\n",
              "  (lm_head): Linear(in_features=768, out_features=51200, bias=False)\n",
              ")"
            ]
          },
          "execution_count": 11,
          "metadata": {},
          "output_type": "execute_result"
        }
      ],
      "source": [
        "import torch\n",
        "from transformers import GPT2LMHeadModel, PreTrainedTokenizerFast\n",
        "\n",
        "model = GPT2LMHeadModel.from_pretrained('skt/kogpt2-base-v2')\n",
        "device = torch.device('cuda' if torch.cuda.is_available() else 'cpu')\n",
        "model.to(device)"
      ]
    },
    {
      "cell_type": "code",
      "execution_count": null,
      "id": "483e948e",
      "metadata": {
        "execution": {
          "iopub.execute_input": "2024-11-17T09:03:28.001543Z",
          "iopub.status.busy": "2024-11-17T09:03:28.001190Z",
          "iopub.status.idle": "2024-11-17T09:03:28.006057Z",
          "shell.execute_reply": "2024-11-17T09:03:28.005178Z"
        },
        "id": "483e948e",
        "papermill": {
          "duration": 0.058155,
          "end_time": "2024-11-17T09:03:28.007988",
          "exception": false,
          "start_time": "2024-11-17T09:03:27.949833",
          "status": "completed"
        },
        "tags": []
      },
      "outputs": [],
      "source": [
        "import psutil\n",
        "import os\n",
        "\n",
        "def log_memory_usage():\n",
        "    process = psutil.Process(os.getpid())\n",
        "    print(f\"Current memory usage: {process.memory_info().rss / 1e6} MB\")\n"
      ]
    },
    {
      "cell_type": "code",
      "execution_count": null,
      "id": "a17206c3",
      "metadata": {
        "execution": {
          "iopub.execute_input": "2024-11-17T09:03:28.109280Z",
          "iopub.status.busy": "2024-11-17T09:03:28.108813Z",
          "iopub.status.idle": "2024-11-17T09:03:29.583722Z",
          "shell.execute_reply": "2024-11-17T09:03:29.582915Z"
        },
        "id": "a17206c3",
        "papermill": {
          "duration": 1.527903,
          "end_time": "2024-11-17T09:03:29.585928",
          "exception": false,
          "start_time": "2024-11-17T09:03:28.058025",
          "status": "completed"
        },
        "tags": []
      },
      "outputs": [],
      "source": [
        "from transformers import Trainer\n",
        "import evaluate"
      ]
    },
    {
      "cell_type": "code",
      "execution_count": null,
      "id": "fbadac52",
      "metadata": {
        "execution": {
          "iopub.execute_input": "2024-11-17T09:03:29.689169Z",
          "iopub.status.busy": "2024-11-17T09:03:29.688824Z",
          "iopub.status.idle": "2024-11-17T09:03:33.191125Z",
          "shell.execute_reply": "2024-11-17T09:03:33.190422Z"
        },
        "id": "fbadac52",
        "papermill": {
          "duration": 3.556407,
          "end_time": "2024-11-17T09:03:33.192992",
          "exception": false,
          "start_time": "2024-11-17T09:03:29.636585",
          "status": "completed"
        },
        "tags": [],
        "colab": {
          "referenced_widgets": [
            "b133f4cc87864f028c2cbaf0c9b6e3c2",
            "d3c431b6f26f4b79971debbecbe4f33d",
            "9cd6e2382ab1470397de92906c35aa62",
            "8f3dac2884ce410887db19f9ecde03fe",
            "2675051d56484ed9bdba75d8b0b28ea8"
          ]
        },
        "outputId": "5f277b22-7b8d-4e35-f8a1-e5b28a66d6bf"
      },
      "outputs": [
        {
          "data": {
            "application/vnd.jupyter.widget-view+json": {
              "model_id": "b133f4cc87864f028c2cbaf0c9b6e3c2",
              "version_major": 2,
              "version_minor": 0
            },
            "text/plain": [
              "Downloading builder script:   0%|          | 0.00/7.02k [00:00<?, ?B/s]"
            ]
          },
          "metadata": {},
          "output_type": "display_data"
        },
        {
          "name": "stderr",
          "output_type": "stream",
          "text": [
            "[nltk_data] Downloading package wordnet to /usr/share/nltk_data...\n",
            "[nltk_data]   Package wordnet is already up-to-date!\n",
            "[nltk_data] Downloading package punkt_tab to /usr/share/nltk_data...\n",
            "[nltk_data]   Unzipping tokenizers/punkt_tab.zip.\n",
            "[nltk_data] Downloading package omw-1.4 to /usr/share/nltk_data...\n"
          ]
        },
        {
          "data": {
            "application/vnd.jupyter.widget-view+json": {
              "model_id": "d3c431b6f26f4b79971debbecbe4f33d",
              "version_major": 2,
              "version_minor": 0
            },
            "text/plain": [
              "Downloading builder script:   0%|          | 0.00/7.95k [00:00<?, ?B/s]"
            ]
          },
          "metadata": {},
          "output_type": "display_data"
        },
        {
          "data": {
            "application/vnd.jupyter.widget-view+json": {
              "model_id": "9cd6e2382ab1470397de92906c35aa62",
              "version_major": 2,
              "version_minor": 0
            },
            "text/plain": [
              "Downloading builder script:   0%|          | 0.00/5.94k [00:00<?, ?B/s]"
            ]
          },
          "metadata": {},
          "output_type": "display_data"
        },
        {
          "data": {
            "application/vnd.jupyter.widget-view+json": {
              "model_id": "8f3dac2884ce410887db19f9ecde03fe",
              "version_major": 2,
              "version_minor": 0
            },
            "text/plain": [
              "Downloading extra modules:   0%|          | 0.00/1.55k [00:00<?, ?B/s]"
            ]
          },
          "metadata": {},
          "output_type": "display_data"
        },
        {
          "data": {
            "application/vnd.jupyter.widget-view+json": {
              "model_id": "2675051d56484ed9bdba75d8b0b28ea8",
              "version_major": 2,
              "version_minor": 0
            },
            "text/plain": [
              "Downloading extra modules:   0%|          | 0.00/3.34k [00:00<?, ?B/s]"
            ]
          },
          "metadata": {},
          "output_type": "display_data"
        }
      ],
      "source": [
        "import evaluate\n",
        "import numpy as np\n",
        "import torch\n",
        "from rouge_score import rouge_scorer\n",
        "meteor = evaluate.load('meteor')\n",
        "bertscore = evaluate.load('bertscore')\n",
        "bleu = evaluate.load('bleu')\n",
        "\n",
        "def preprocess_logits_for_metrics(logits, labels):\n",
        "    if isinstance(logits, tuple):\n",
        "        logits = logits[0]\n",
        "    pred_ids = torch.argmax(logits, dim=-1)\n",
        "    return pred_ids, labels\n",
        "\n",
        "def compute_metrics(eval_pred):\n",
        "    predictions, labels = eval_pred\n",
        "    # Predictions 튜플 처리\n",
        "    print(\"\\n\", '='*50,\"\\nPredictions type:\", type(predictions))\n",
        "    if isinstance(predictions, tuple):\n",
        "        predictions = predictions[0]\n",
        "    # Predictions와 Labels를 numpy 배열로 변환\n",
        "    if isinstance(predictions, torch.Tensor):\n",
        "        print(\"Converting Predictions to numpy...\")\n",
        "        predictions = predictions.cpu().numpy()\n",
        "    if isinstance(labels, torch.Tensor):\n",
        "        print(\"Converting Labels to numpy...\")\n",
        "        labels = labels.cpu().numpy()\n",
        "\n",
        "    # Decode predictions and labels\n",
        "    print(\"Decoding predictions and labels...\")\n",
        "    labels = np.where(labels != -100, labels, tokenizer.pad_token_id if tokenizer.pad_token_id is not None else 0)\n",
        "    decoded_preds = tokenizer.batch_decode(predictions, skip_special_tokens=False)\n",
        "    decoded_labels = tokenizer.batch_decode(labels, skip_special_tokens=False)\n",
        "\n",
        "    # Post-processing\n",
        "    decoded_preds = [pred.strip() for pred in decoded_preds]\n",
        "    decoded_labels = [label.strip() for label in decoded_labels]\n",
        "    print(\"Decoded Predictions Sample:\\n\", decoded_preds[:3])\n",
        "    print(\"Decoded Labels Sample:\\n\", decoded_labels[:3])\n",
        "\n",
        "    # Calculate ROUGE metrics using rouge-score\n",
        "    print(\"Calculating ROUGE...\")\n",
        "    scorer = rouge_scorer.RougeScorer(['rouge1', 'rouge2', 'rougeL'], use_stemmer=True)\n",
        "    rouge_scores = {\n",
        "        'rouge1': [],\n",
        "        'rouge2': [],\n",
        "        'rougeL': []\n",
        "    }\n",
        "\n",
        "    for pred, label in zip(decoded_preds, decoded_labels):\n",
        "        if pred and label:  # 둘 다 비어있지 않은 경우만 계산\n",
        "            scores = scorer.score(label, pred)\n",
        "            rouge_scores['rouge1'].append(scores['rouge1'].fmeasure)\n",
        "            rouge_scores['rouge2'].append(scores['rouge2'].fmeasure)\n",
        "            rouge_scores['rougeL'].append(scores['rougeL'].fmeasure)\n",
        "\n",
        "    print(\"\\nROUGE scores details:\")\n",
        "    print(f\"Number of valid pairs: {len(rouge_scores['rouge1'])}\")\n",
        "    if rouge_scores['rouge1']:\n",
        "        print(f\"Sample ROUGE-1 scores: {rouge_scores['rouge1'][:5]}\")\n",
        "\n",
        "    rouge_result = {\n",
        "        'rouge1': np.mean(rouge_scores['rouge1']) * 100 if rouge_scores['rouge1'] else 0,\n",
        "        'rouge2': np.mean(rouge_scores['rouge2']) * 100 if rouge_scores['rouge2'] else 0,\n",
        "        'rougeL': np.mean(rouge_scores['rougeL']) * 100 if rouge_scores['rougeL'] else 0\n",
        "    }\n",
        "\n",
        "    # Calculate other metrics\n",
        "    print(\"Calculating METEOR...\")\n",
        "    meteor_result = meteor.compute(predictions=decoded_preds, references=decoded_labels)\n",
        "    print(\"METEOR result:\", meteor_result)\n",
        "\n",
        "    print(\"Calculating BERTScore...\")\n",
        "    bertscore_result = bertscore.compute(predictions=decoded_preds, references=decoded_labels, lang=\"ko\", device='cuda' if torch.cuda.is_available() else 'cpu')\n",
        "    print(\"BERTScore finished\")\n",
        "\n",
        "    print(\"Calculating BLEU...\")\n",
        "    bleu_result = bleu.compute(predictions=decoded_preds, references=decoded_labels)\n",
        "    print(\"BLEU result:\", bleu_result)\n",
        "\n",
        "    # Combine results\n",
        "    result = {\n",
        "        **rouge_result,\n",
        "        \"meteor\": round(meteor_result[\"meteor\"] * 100, 4),\n",
        "        \"bertscore_f1\": round(np.mean(bertscore_result[\"f1\"]) * 100, 4),\n",
        "        \"bleu\": round(bleu_result[\"bleu\"] * 100, 4)\n",
        "    }\n",
        "\n",
        "    print(\"Calculating generated length...\")\n",
        "    result['gen_len'] = np.mean([len(pred.split()) for pred in decoded_preds])\n",
        "    print(\"Final Metrics:\", result)\n",
        "\n",
        "    return result"
      ]
    },
    {
      "cell_type": "code",
      "execution_count": null,
      "id": "a12a9c1d",
      "metadata": {
        "execution": {
          "iopub.execute_input": "2024-11-17T09:03:33.340253Z",
          "iopub.status.busy": "2024-11-17T09:03:33.339840Z",
          "iopub.status.idle": "2024-11-17T09:03:33.381179Z",
          "shell.execute_reply": "2024-11-17T09:03:33.380253Z"
        },
        "id": "a12a9c1d",
        "outputId": "99acdf8c-d047-43d4-bb0b-4894abbec01c",
        "papermill": {
          "duration": 0.13707,
          "end_time": "2024-11-17T09:03:33.383315",
          "exception": false,
          "start_time": "2024-11-17T09:03:33.246245",
          "status": "completed"
        },
        "tags": []
      },
      "outputs": [
        {
          "name": "stderr",
          "output_type": "stream",
          "text": [
            "/opt/conda/lib/python3.10/site-packages/transformers/training_args.py:1545: FutureWarning: `evaluation_strategy` is deprecated and will be removed in version 4.46 of 🤗 Transformers. Use `eval_strategy` instead\n",
            "  warnings.warn(\n"
          ]
        }
      ],
      "source": [
        "from transformers import Trainer, TrainingArguments\n",
        "\n",
        "# Training arguments 설정\n",
        "training_args = TrainingArguments(\n",
        "    output_dir='./results',          # 모델이 저장될 경로\n",
        "    evaluation_strategy=\"epoch\",    # 매 에포크마다 평가\n",
        "    save_strategy=\"epoch\",          # 매 에포크마다 저장\n",
        "    learning_rate=5e-5,             # 기본 학습률\n",
        "    per_device_train_batch_size=16,  # 각 디바이스에서의 배치 사이즈\n",
        "    per_device_eval_batch_size=32,   # 평가 시의 배치 사이즈\n",
        "    eval_accumulation_steps=8,      # 평가 시 gradient accumulation steps\n",
        "    num_train_epochs=6,             # 에포크 수\n",
        "    weight_decay=0.01,              # 가중치 감쇠\n",
        "    save_total_limit=2,             # 저장할 체크포인트 개수 제한\n",
        "    logging_dir='./logs',           # 로깅 파일 저장 위치\n",
        "    logging_steps=500,              # 로깅 빈도\n",
        "    load_best_model_at_end=True,    # 가장 좋은 모델을 끝에서 로드\n",
        "    eval_steps=1000,                # 평가 빈도\n",
        "    fp16=True,                      # Mixed Precision (FP16) 사용\n",
        "    dataloader_num_workers=4,       # DataLoader에서 사용할 워커 수\n",
        "    deepspeed=None,                 # DeepSpeed는 사용하지 않음\n",
        "    report_to=\"none\",               # 로깅 서비스 (TensorBoard 등 사용하지 않음)\n",
        ")"
      ]
    },
    {
      "cell_type": "code",
      "execution_count": null,
      "id": "0b07ced1",
      "metadata": {
        "execution": {
          "iopub.execute_input": "2024-11-17T09:03:33.488612Z",
          "iopub.status.busy": "2024-11-17T09:03:33.488058Z",
          "iopub.status.idle": "2024-11-17T09:03:33.521541Z",
          "shell.execute_reply": "2024-11-17T09:03:33.520571Z"
        },
        "id": "0b07ced1",
        "outputId": "7f9abdf4-7bdb-4e6b-e6da-82ef9ad4ada3",
        "papermill": {
          "duration": 0.088262,
          "end_time": "2024-11-17T09:03:33.523882",
          "exception": false,
          "start_time": "2024-11-17T09:03:33.435620",
          "status": "completed"
        },
        "tags": []
      },
      "outputs": [
        {
          "name": "stdout",
          "output_type": "stream",
          "text": [
            "Total train batches: 2128\n",
            "Total eval batches: 126\n",
            "Batch size train: 16\n",
            "Batch size eval: 32\n",
            "Eval accumulation steps: 8\n"
          ]
        },
        {
          "name": "stderr",
          "output_type": "stream",
          "text": [
            "/opt/conda/lib/python3.10/site-packages/accelerate/accelerator.py:494: FutureWarning: `torch.cuda.amp.GradScaler(args...)` is deprecated. Please use `torch.amp.GradScaler('cuda', args...)` instead.\n",
            "  self.scaler = torch.cuda.amp.GradScaler(**kwargs)\n"
          ]
        }
      ],
      "source": [
        "from transformers import Trainer\n",
        "import numpy as np\n",
        "\n",
        "trainer = Trainer(\n",
        "    model=model,\n",
        "    args=training_args,\n",
        "    train_dataset=train_dataset,\n",
        "    eval_dataset=val_dataset,\n",
        "    tokenizer=tokenizer,\n",
        "    preprocess_logits_for_metrics=preprocess_logits_for_metrics,\n",
        "    compute_metrics=compute_metrics,\n",
        ")\n",
        "\n",
        "# DataLoader 확인 및 메모리 상태 출력\n",
        "print(f\"Total train batches: {len(trainer.get_train_dataloader())}\")\n",
        "print(f\"Total eval batches: {len(trainer.get_eval_dataloader())}\")\n",
        "print(f\"Batch size train: {training_args.per_device_train_batch_size}\")\n",
        "print(f\"Batch size eval: {training_args.per_device_eval_batch_size}\")\n",
        "print(f\"Eval accumulation steps: {training_args.eval_accumulation_steps}\")"
      ]
    },
    {
      "cell_type": "code",
      "execution_count": null,
      "id": "096817ea",
      "metadata": {
        "execution": {
          "iopub.execute_input": "2024-11-17T09:03:33.628936Z",
          "iopub.status.busy": "2024-11-17T09:03:33.628603Z",
          "iopub.status.idle": "2024-11-17T09:03:33.634106Z",
          "shell.execute_reply": "2024-11-17T09:03:33.633279Z"
        },
        "papermill": {
          "duration": 0.060073,
          "end_time": "2024-11-17T09:03:33.636050",
          "exception": false,
          "start_time": "2024-11-17T09:03:33.575977",
          "status": "completed"
        },
        "tags": [],
        "id": "096817ea"
      },
      "outputs": [],
      "source": [
        "import warnings\n",
        "import os\n",
        "\n",
        "# fork 관련 경고 제거\n",
        "warnings.filterwarnings('ignore', message=\"os.fork()\")\n",
        "\n",
        "# tokenizer 경고 제거\n",
        "os.environ[\"TOKENIZERS_PARALLELISM\"] = \"false\"\n",
        "\n",
        "# autocast 경고 제거\n",
        "warnings.filterwarnings('ignore', message=\"`torch.cuda.amp.autocast\")\n",
        "\n",
        "# gather 경고 제거\n",
        "warnings.filterwarnings('ignore', message=\"Was asked to gather along dimension 0\")"
      ]
    },
    {
      "cell_type": "code",
      "execution_count": null,
      "id": "49170287",
      "metadata": {
        "execution": {
          "iopub.execute_input": "2024-11-17T09:03:33.740731Z",
          "iopub.status.busy": "2024-11-17T09:03:33.740406Z",
          "iopub.status.idle": "2024-11-17T15:08:09.573239Z",
          "shell.execute_reply": "2024-11-17T15:08:09.572281Z"
        },
        "id": "49170287",
        "outputId": "e9dd9fcf-2e8e-4db4-dbde-203ca51cc05a",
        "papermill": {
          "duration": 21875.888475,
          "end_time": "2024-11-17T15:08:09.576439",
          "exception": false,
          "start_time": "2024-11-17T09:03:33.687964",
          "status": "completed"
        },
        "tags": [],
        "colab": {
          "referenced_widgets": [
            "e268896223e04f41bd34ed69ca0f6cb7",
            "075ec364ae1740bb9cf2b593275eb7da",
            "80ddfe0b272543a6ab3ea9eaea98a63f",
            "167163d83c0347408fea5784c88441fa",
            "677e0cee1d604fdb9267e8cc11a05e57"
          ]
        }
      },
      "outputs": [
        {
          "data": {
            "text/html": [
              "\n",
              "    <div>\n",
              "      \n",
              "      <progress value='12768' max='12768' style='width:300px; height:20px; vertical-align: middle;'></progress>\n",
              "      [12768/12768 6:04:32, Epoch 6/6]\n",
              "    </div>\n",
              "    <table border=\"1\" class=\"dataframe\">\n",
              "  <thead>\n",
              " <tr style=\"text-align: left;\">\n",
              "      <th>Epoch</th>\n",
              "      <th>Training Loss</th>\n",
              "      <th>Validation Loss</th>\n",
              "      <th>Rouge1</th>\n",
              "      <th>Rouge2</th>\n",
              "      <th>Rougel</th>\n",
              "      <th>Meteor</th>\n",
              "      <th>Bertscore F1</th>\n",
              "      <th>Bleu</th>\n",
              "      <th>Gen Len</th>\n",
              "    </tr>\n",
              "  </thead>\n",
              "  <tbody>\n",
              "    <tr>\n",
              "      <td>1</td>\n",
              "      <td>2.360200</td>\n",
              "      <td>2.632428</td>\n",
              "      <td>1.183579</td>\n",
              "      <td>0.009760</td>\n",
              "      <td>1.183579</td>\n",
              "      <td>4.785800</td>\n",
              "      <td>64.123200</td>\n",
              "      <td>0.183800</td>\n",
              "      <td>100.973461</td>\n",
              "    </tr>\n",
              "    <tr>\n",
              "      <td>2</td>\n",
              "      <td>2.191800</td>\n",
              "      <td>2.578747</td>\n",
              "      <td>1.183394</td>\n",
              "      <td>0.009700</td>\n",
              "      <td>1.183394</td>\n",
              "      <td>4.853100</td>\n",
              "      <td>63.647800</td>\n",
              "      <td>0.307700</td>\n",
              "      <td>116.595564</td>\n",
              "    </tr>\n",
              "    <tr>\n",
              "      <td>3</td>\n",
              "      <td>2.081300</td>\n",
              "      <td>2.570018</td>\n",
              "      <td>1.183208</td>\n",
              "      <td>0.009505</td>\n",
              "      <td>1.183208</td>\n",
              "      <td>4.913200</td>\n",
              "      <td>64.748000</td>\n",
              "      <td>0.069400</td>\n",
              "      <td>79.803514</td>\n",
              "    </tr>\n",
              "    <tr>\n",
              "      <td>4</td>\n",
              "      <td>1.970700</td>\n",
              "      <td>2.559250</td>\n",
              "      <td>1.182955</td>\n",
              "      <td>0.009374</td>\n",
              "      <td>1.182955</td>\n",
              "      <td>4.956000</td>\n",
              "      <td>64.948800</td>\n",
              "      <td>0.057600</td>\n",
              "      <td>76.885996</td>\n",
              "    </tr>\n",
              "    <tr>\n",
              "      <td>5</td>\n",
              "      <td>1.904200</td>\n",
              "      <td>2.567800</td>\n",
              "      <td>1.181456</td>\n",
              "      <td>0.009371</td>\n",
              "      <td>1.181456</td>\n",
              "      <td>4.963200</td>\n",
              "      <td>65.104300</td>\n",
              "      <td>0.037400</td>\n",
              "      <td>70.689011</td>\n",
              "    </tr>\n",
              "    <tr>\n",
              "      <td>6</td>\n",
              "      <td>1.835900</td>\n",
              "      <td>2.572062</td>\n",
              "      <td>1.182884</td>\n",
              "      <td>0.009527</td>\n",
              "      <td>1.182884</td>\n",
              "      <td>4.978500</td>\n",
              "      <td>65.067000</td>\n",
              "      <td>0.039500</td>\n",
              "      <td>71.301022</td>\n",
              "    </tr>\n",
              "  </tbody>\n",
              "</table><p>"
            ],
            "text/plain": [
              "<IPython.core.display.HTML object>"
            ]
          },
          "metadata": {},
          "output_type": "display_data"
        },
        {
          "name": "stdout",
          "output_type": "stream",
          "text": [
            "\n",
            " ================================================== \n",
            "Predictions type: <class 'tuple'>\n",
            "Decoding predictions and labels...\n",
            "Decoded Predictions Sample:\n",
            " ['직무: 경영 경력상태: 신입직 질문: 지원 지원께을 때 지원 고령 사람들이들이 아이 아이를 해외폰을 선호하는 경향이 많 것 같습니다 그렇다면 생각하는봤을 때 아이 그 층 아이폰을 선호하는하는지 그 말씀 생각을 말씀 싶데요 답드리립니다 답변: 젊은폰은 젊은 접을 접 할 그의 선도로 왔기 점에서 아이자들에게 많은성이 있고 그래서 점에서 아이폰을 선호하는으로는야 위해서는 젊은화 아이 아이자들이 어떤필할 것들이 가장 그리고해야 보고 싶치 해야 것이 중요합니다. </s>', '직무: 경영 경력상태: 신입직 질문: 지원 제외하고 살에 활용할 수 있을까요변: 저 전공은 경영입니다. 전공학을 제가 높이기하고 그에 있어 많은 할이 하는습니다. 그래서</s>                                                                                                                     전공     전공                     전공    전공', '직무: 경영 경력상태: 신입직 질문: 지원 소통롤 작든를 받는데다 지원 스트레스를 때 어떻게 혼자 스트레스 스트레스 스트레스법이 말씀 말씀 계 것이 있나 답변: 저를법은 혼자를에서 주변 큰 스트레스 스트레스 그 형태로 스트레스 집중 타인에게 자신을 사람들에게 이야기를 영향을 주는 것을 해소 경험 것입니다. 가장 생각합니다. 그래서레스는 제가 조금씩 것이고라 그 그 속에서 스트레스 하면 대처해야가 더 생각 합니다. </s>     스트레스 스트레스  스트레스    스트레스 스트레스 스트레스 스트레스 스트레스 스트레스  스트레스 스트레스  스트레스 스트레스 스트레스 스트레스 스트레스 스트레스 스트레스 스트레스 스트레스  스트레스 스트레스 스트레스 스트레스 스트레스 스트레스 스트레스 스트레스 스트레스 스트레스 스트레스  스트레스  스트레스 스트레스 스트레스 스트레스 스트레스  스트레스  스트레스 스트레스    스트레스   스트레스 스트레스 스트레스   스트레스 스트레스 스트레스 스트레스 스트레스 스트레스 스트레스 스트레스 스트레스 스트레스 스트레스 스트레스 스트레스 스트레스 스트레스 스트레스 스트레스 스트레스 스트레스 스트레스 스트레스 스트레스 스트레스 스트레스 스트레스 스트레스 스트레스 스트레스 스트레스 스트레스 스트레스 스트레스 스트레스 스트레스 스트레스 스트레스 스트레스 스트레스 스트레스 스트레스 스트레스 스트레스 스트레스 스트레스 스트레스 스트레스 스트레스 스트레스 스트레스 스트레스 스트레스 스트레스 스트레스 스트레스 스트레스 스트레스 스트레스 스트레스 스트레스 스트레스 스트레스 스트레스 스트레스 스트레스 스트레스 스트레스 스트레스 스트레스 스트레스 스트레스 스트레스 스트레스 스트레스 스트레스 스트레스 스트레스 스트레스 스트레스 스트레스 스트레스 스트레스 스트레스 스트레스 스트레스 스트레스 스트레스 스트레스 스트레스 스트레스 스트레스 스트레스 스트레스 스트레스 스트레스 스트레스 스트레스 스트레스 스트레스 스트레스 스트레스 스트레스 스트레스 스트레스 스트레스 스트레스 스트레스']\n",
            "Decoded Labels Sample:\n",
            " ['</s> 직무: 정보통신 경력상태: 경력직 질문: 제가 봤을 때는 요즘 젊은 층에서는 국내 브랜드보다는 아이폰을 선호하는 경향이 많은 거 같습니다 본인이 봤을 때 왜 젊은 사람들이 아이폰을 선호하는지 한번 개인적인 의견을 묻고 싶은데요 부탁드립니다 답변: 아이폰은 처음으로 스마트폰을 개발을 했고 스마트폰 시장을 리더 해 왔다는 점에서 소비자들에게 상징성이 있습니다. 그런 관점에서 아이폰을 앞질러 가기 위해서는 초기 단계에서 어떤 소비자들에게 어필했던 부분이 무엇인지 파악 해보고 캐치를 하는 게 중요합니다. </s><pad><pad><pad><pad><pad><pad><pad><pad><pad><pad><pad><pad><pad><pad><pad><pad><pad><pad><pad><pad><pad><pad><pad><pad><pad><pad><pad><pad><pad><pad><pad><pad><pad><pad><pad><pad><pad><pad><pad><pad><pad><pad><pad><pad><pad><pad><pad><pad><pad><pad><pad><pad><pad><pad><pad><pad><pad><pad><pad><pad><pad><pad><pad><pad><pad><pad><pad><pad><pad><pad><pad><pad><pad><pad><pad><pad><pad><pad><pad><pad><pad><pad><pad><pad><pad><pad><pad><pad><pad><pad><pad><pad><pad><pad><pad><pad><pad><pad><pad><pad><pad><pad><pad><pad><pad><pad><pad><pad><pad><pad><pad><pad><pad><pad><pad><pad><pad><pad><pad><pad><pad><pad><pad><pad><pad><pad><pad><pad><pad><pad><pad><pad><pad><pad><pad><pad><pad><pad><pad><pad><pad><pad><pad><pad><pad>', '</s> 직무: 정보통신 경력상태: 경력직 질문: 전공을 어떻게 직무에 활용할 수 있을까 답변: 제 전공은 경제학입니다. 경제학은 효율성을 중시하는데 직무 수행에 있어서도 원활히 진행되도록 하겠습니다. </s><pad><pad><pad><pad><pad><pad><pad><pad><pad><pad><pad><pad><pad><pad><pad><pad><pad><pad><pad><pad><pad><pad><pad><pad><pad><pad><pad><pad><pad><pad><pad><pad><pad><pad><pad><pad><pad><pad><pad><pad><pad><pad><pad><pad><pad><pad><pad><pad><pad><pad><pad><pad><pad><pad><pad><pad><pad><pad><pad><pad><pad><pad><pad><pad><pad><pad><pad><pad><pad><pad><pad><pad><pad><pad><pad><pad><pad><pad><pad><pad><pad><pad><pad><pad><pad><pad><pad><pad><pad><pad><pad><pad><pad><pad><pad><pad><pad><pad><pad><pad><pad><pad><pad><pad><pad><pad><pad><pad><pad><pad><pad><pad><pad><pad><pad><pad><pad><pad><pad><pad><pad><pad><pad><pad><pad><pad><pad><pad><pad><pad><pad><pad><pad><pad><pad><pad><pad><pad><pad><pad><pad><pad><pad><pad><pad><pad><pad><pad><pad><pad><pad><pad><pad><pad><pad><pad><pad><pad><pad><pad><pad><pad><pad><pad><pad><pad><pad><pad><pad><pad><pad><pad><pad><pad><pad><pad><pad><pad><pad><pad><pad><pad><pad><pad><pad><pad><pad><pad><pad><pad><pad><pad><pad><pad><pad><pad><pad><pad><pad><pad><pad><pad><pad><pad><pad><pad><pad><pad><pad><pad><pad><pad><pad><pad>', '</s> 직무: 정보통신 경력상태: 경력직 질문: 우리는 크든 작은 스트레스를 받습니다 큰 스트레스 받았을 때 나만의 어 그 해소법을 따로 가지고 있는 게 있습니까 답변: 스트레스 해소법은 스트레스 자체보다 더 확대된 형태로 또는 과장된 형태로 나에게 또는 제 주변에게 부정적인 영향을 미치는 것을 미리 예방하는 게 중요하다고 생각합니다. 스트레스는 매일 오는 거라면 매일 일상생활 속에서 어떻게 인식하고 접근하느냐가 중요하다고 생각을 합니다. </s><pad><pad><pad><pad><pad><pad><pad><pad><pad><pad><pad><pad><pad><pad><pad><pad><pad><pad><pad><pad><pad><pad><pad><pad><pad><pad><pad><pad><pad><pad><pad><pad><pad><pad><pad><pad><pad><pad><pad><pad><pad><pad><pad><pad><pad><pad><pad><pad><pad><pad><pad><pad><pad><pad><pad><pad><pad><pad><pad><pad><pad><pad><pad><pad><pad><pad><pad><pad><pad><pad><pad><pad><pad><pad><pad><pad><pad><pad><pad><pad><pad><pad><pad><pad><pad><pad><pad><pad><pad><pad><pad><pad><pad><pad><pad><pad><pad><pad><pad><pad><pad><pad><pad><pad><pad><pad><pad><pad><pad><pad><pad><pad><pad><pad><pad><pad><pad><pad><pad><pad><pad><pad><pad><pad><pad><pad><pad><pad><pad><pad><pad><pad><pad><pad><pad><pad><pad><pad><pad><pad><pad><pad><pad><pad><pad><pad><pad><pad><pad><pad><pad><pad><pad><pad><pad><pad><pad><pad><pad><pad><pad><pad><pad><pad><pad><pad><pad><pad><pad><pad><pad>']\n",
            "Calculating ROUGE...\n",
            "\n",
            "ROUGE scores details:\n",
            "Number of valid pairs: 8026\n",
            "Sample ROUGE-1 scores: [0.013513513513513513, 0.009216589861751152, 0.011494252873563216, 0.013071895424836602, 0.010752688172043012]\n",
            "Calculating METEOR...\n",
            "METEOR result: {'meteor': 0.047858389596052486}\n",
            "Calculating BERTScore...\n"
          ]
        },
        {
          "data": {
            "application/vnd.jupyter.widget-view+json": {
              "model_id": "e268896223e04f41bd34ed69ca0f6cb7",
              "version_major": 2,
              "version_minor": 0
            },
            "text/plain": [
              "tokenizer_config.json:   0%|          | 0.00/49.0 [00:00<?, ?B/s]"
            ]
          },
          "metadata": {},
          "output_type": "display_data"
        },
        {
          "data": {
            "application/vnd.jupyter.widget-view+json": {
              "model_id": "075ec364ae1740bb9cf2b593275eb7da",
              "version_major": 2,
              "version_minor": 0
            },
            "text/plain": [
              "config.json:   0%|          | 0.00/625 [00:00<?, ?B/s]"
            ]
          },
          "metadata": {},
          "output_type": "display_data"
        },
        {
          "data": {
            "application/vnd.jupyter.widget-view+json": {
              "model_id": "80ddfe0b272543a6ab3ea9eaea98a63f",
              "version_major": 2,
              "version_minor": 0
            },
            "text/plain": [
              "vocab.txt:   0%|          | 0.00/996k [00:00<?, ?B/s]"
            ]
          },
          "metadata": {},
          "output_type": "display_data"
        },
        {
          "data": {
            "application/vnd.jupyter.widget-view+json": {
              "model_id": "167163d83c0347408fea5784c88441fa",
              "version_major": 2,
              "version_minor": 0
            },
            "text/plain": [
              "tokenizer.json:   0%|          | 0.00/1.96M [00:00<?, ?B/s]"
            ]
          },
          "metadata": {},
          "output_type": "display_data"
        },
        {
          "data": {
            "application/vnd.jupyter.widget-view+json": {
              "model_id": "677e0cee1d604fdb9267e8cc11a05e57",
              "version_major": 2,
              "version_minor": 0
            },
            "text/plain": [
              "model.safetensors:   0%|          | 0.00/714M [00:00<?, ?B/s]"
            ]
          },
          "metadata": {},
          "output_type": "display_data"
        },
        {
          "name": "stdout",
          "output_type": "stream",
          "text": [
            "BERTScore finished\n",
            "Calculating BLEU...\n",
            "BLEU result: {'bleu': 0.001838295155073424, 'precisions': [0.2695258745108043, 0.1478457599335281, 0.08878146923653564, 0.058710919175473934], 'brevity_penalty': 0.015312729341416769, 'length_ratio': 0.1930848285399879, 'translation_length': 893814, 'reference_length': 4629126}\n",
            "Calculating generated length...\n",
            "Final Metrics: {'rouge1': 1.183579463626756, 'rouge2': 0.00976013290403059, 'rougeL': 1.183579463626756, 'meteor': 4.7858, 'bertscore_f1': 64.1232, 'bleu': 0.1838, 'gen_len': 100.97346125093446}\n",
            "\n",
            " ================================================== \n",
            "Predictions type: <class 'tuple'>\n",
            "Decoding predictions and labels...\n",
            "Decoded Predictions Sample:\n",
            " ['직무: 경영 경력상태: 신입직 질문: 지원 지원께을 때 지원 고령 사람들이들이 아이 아이가 해외폰을 선호하는 경향이 있는데 것 같습니다 그렇다면 생각하는봤을 때 젊은 그렇게 층 아이폰을 선호하는하는지 그 말씀 생각을 말씀 싶데요 그드리립니다 답변: 젊은폰은 젊은 나온을 접 하게 그을 선도하게 왔기 점에서 가장자들에게 많은성이 있고 아이 점에서 아이폰을 선호하는으로는야 위해서는 젊은 아이 아이 아이자들이 어떤필할 것이 가장 그리고을 봐 싶치 해 것이 중요하다고합니다. </s>', '직무: 경영 경력상태: 신입직 질문: 지원 제외하고 선택에 활용할 수 있는지까요변: 저 전공은 컴퓨터입니다. 전공학을 제가 극대하기 그에 있어 가장 할될 하는습니다. 전공</s>                    경제       경제     경제            경제    경제   경제 경제  경제 경제 경제  경제 경제 경제 경제 경제 경제  경제 경제 경제  경제 경제 경제  경제  경제 경제 경제  경제 경제 경제 경제 경제 경제 경제  경제   경제   경제 경제 경제  경제 경제 경제   경제  경제 경제 경제 경제  경제 경제 경제  경제 경제 경제 경제 경제 경제 경제 경제  경제 경제 경제 경제 경제 경제 경제 경제 경제 경제 경제 경제 경제 경제 경제 경제 경제 경제 경제 경제 경제 경제 경제 경제 경제 경제 경제 경제 경제 경제 경제 경제 경제 경제 경제 경제 경제 경제 경제 경제 경제 경제 경제 경제 경제 경제 경제 경제 경제 경제 경제 경제 경제 경제 경제 경제 경제 경제 경제 경제 경제 경제 경제 경제 경제 경제 경제 경제 경제 경제 경제 경제 경제 경제 경제 경제 경제 경제 경제 경제 경제 경제 경제 경제 경제 경제 경제 경제 경제 경제 경제 경제 경제 경제', '직무: 경영 경력상태: 신입직 질문: 지원 소통롤 작든를 많이는데다 지원 스트레스를 때 어떻게만의 스트레스 스트레스 스트레스법이 가지고 가지고 계 것이 있으 있다면변: 저를법은 크게를에서 더 큰 스트레스 스트레스 더 형태로 스트레스 집중 타인에게 주변에 사람들에게 스트레스 영향을 끼 것이 해소 예방하는 것이 가장 생각합니다. 레 제가 조금씩 게라 그 조금씩 속에서 스트레스 해소 있는지해야가 중요 생각 합니다. </s>                          스트레스                                                스트레스     스트레스       스트레스']\n",
            "Decoded Labels Sample:\n",
            " ['</s> 직무: 정보통신 경력상태: 경력직 질문: 제가 봤을 때는 요즘 젊은 층에서는 국내 브랜드보다는 아이폰을 선호하는 경향이 많은 거 같습니다 본인이 봤을 때 왜 젊은 사람들이 아이폰을 선호하는지 한번 개인적인 의견을 묻고 싶은데요 부탁드립니다 답변: 아이폰은 처음으로 스마트폰을 개발을 했고 스마트폰 시장을 리더 해 왔다는 점에서 소비자들에게 상징성이 있습니다. 그런 관점에서 아이폰을 앞질러 가기 위해서는 초기 단계에서 어떤 소비자들에게 어필했던 부분이 무엇인지 파악 해보고 캐치를 하는 게 중요합니다. </s><pad><pad><pad><pad><pad><pad><pad><pad><pad><pad><pad><pad><pad><pad><pad><pad><pad><pad><pad><pad><pad><pad><pad><pad><pad><pad><pad><pad><pad><pad><pad><pad><pad><pad><pad><pad><pad><pad><pad><pad><pad><pad><pad><pad><pad><pad><pad><pad><pad><pad><pad><pad><pad><pad><pad><pad><pad><pad><pad><pad><pad><pad><pad><pad><pad><pad><pad><pad><pad><pad><pad><pad><pad><pad><pad><pad><pad><pad><pad><pad><pad><pad><pad><pad><pad><pad><pad><pad><pad><pad><pad><pad><pad><pad><pad><pad><pad><pad><pad><pad><pad><pad><pad><pad><pad><pad><pad><pad><pad><pad><pad><pad><pad><pad><pad><pad><pad><pad><pad><pad><pad><pad><pad><pad><pad><pad><pad><pad><pad><pad><pad><pad><pad><pad><pad><pad><pad><pad><pad><pad><pad><pad><pad><pad><pad>', '</s> 직무: 정보통신 경력상태: 경력직 질문: 전공을 어떻게 직무에 활용할 수 있을까 답변: 제 전공은 경제학입니다. 경제학은 효율성을 중시하는데 직무 수행에 있어서도 원활히 진행되도록 하겠습니다. </s><pad><pad><pad><pad><pad><pad><pad><pad><pad><pad><pad><pad><pad><pad><pad><pad><pad><pad><pad><pad><pad><pad><pad><pad><pad><pad><pad><pad><pad><pad><pad><pad><pad><pad><pad><pad><pad><pad><pad><pad><pad><pad><pad><pad><pad><pad><pad><pad><pad><pad><pad><pad><pad><pad><pad><pad><pad><pad><pad><pad><pad><pad><pad><pad><pad><pad><pad><pad><pad><pad><pad><pad><pad><pad><pad><pad><pad><pad><pad><pad><pad><pad><pad><pad><pad><pad><pad><pad><pad><pad><pad><pad><pad><pad><pad><pad><pad><pad><pad><pad><pad><pad><pad><pad><pad><pad><pad><pad><pad><pad><pad><pad><pad><pad><pad><pad><pad><pad><pad><pad><pad><pad><pad><pad><pad><pad><pad><pad><pad><pad><pad><pad><pad><pad><pad><pad><pad><pad><pad><pad><pad><pad><pad><pad><pad><pad><pad><pad><pad><pad><pad><pad><pad><pad><pad><pad><pad><pad><pad><pad><pad><pad><pad><pad><pad><pad><pad><pad><pad><pad><pad><pad><pad><pad><pad><pad><pad><pad><pad><pad><pad><pad><pad><pad><pad><pad><pad><pad><pad><pad><pad><pad><pad><pad><pad><pad><pad><pad><pad><pad><pad><pad><pad><pad><pad><pad><pad><pad><pad><pad><pad><pad><pad><pad>', '</s> 직무: 정보통신 경력상태: 경력직 질문: 우리는 크든 작은 스트레스를 받습니다 큰 스트레스 받았을 때 나만의 어 그 해소법을 따로 가지고 있는 게 있습니까 답변: 스트레스 해소법은 스트레스 자체보다 더 확대된 형태로 또는 과장된 형태로 나에게 또는 제 주변에게 부정적인 영향을 미치는 것을 미리 예방하는 게 중요하다고 생각합니다. 스트레스는 매일 오는 거라면 매일 일상생활 속에서 어떻게 인식하고 접근하느냐가 중요하다고 생각을 합니다. </s><pad><pad><pad><pad><pad><pad><pad><pad><pad><pad><pad><pad><pad><pad><pad><pad><pad><pad><pad><pad><pad><pad><pad><pad><pad><pad><pad><pad><pad><pad><pad><pad><pad><pad><pad><pad><pad><pad><pad><pad><pad><pad><pad><pad><pad><pad><pad><pad><pad><pad><pad><pad><pad><pad><pad><pad><pad><pad><pad><pad><pad><pad><pad><pad><pad><pad><pad><pad><pad><pad><pad><pad><pad><pad><pad><pad><pad><pad><pad><pad><pad><pad><pad><pad><pad><pad><pad><pad><pad><pad><pad><pad><pad><pad><pad><pad><pad><pad><pad><pad><pad><pad><pad><pad><pad><pad><pad><pad><pad><pad><pad><pad><pad><pad><pad><pad><pad><pad><pad><pad><pad><pad><pad><pad><pad><pad><pad><pad><pad><pad><pad><pad><pad><pad><pad><pad><pad><pad><pad><pad><pad><pad><pad><pad><pad><pad><pad><pad><pad><pad><pad><pad><pad><pad><pad><pad><pad><pad><pad><pad><pad><pad><pad><pad><pad><pad><pad><pad><pad><pad><pad>']\n",
            "Calculating ROUGE...\n",
            "\n",
            "ROUGE scores details:\n",
            "Number of valid pairs: 8026\n",
            "Sample ROUGE-1 scores: [0.013513513513513513, 0.009216589861751152, 0.011494252873563216, 0.013071895424836602, 0.010752688172043012]\n",
            "Calculating METEOR...\n",
            "METEOR result: {'meteor': 0.04853129328800425}\n",
            "Calculating BERTScore...\n",
            "BERTScore finished\n",
            "Calculating BLEU...\n",
            "BLEU result: {'bleu': 0.0030769620164006134, 'precisions': [0.23960439819591428, 0.13177453093306288, 0.0793150818958546, 0.0522950608487015], 'brevity_penalty': 0.028763150689234313, 'length_ratio': 0.21984495561365147, 'translation_length': 1017690, 'reference_length': 4629126}\n",
            "Calculating generated length...\n",
            "Final Metrics: {'rouge1': 1.1833944159297352, 'rouge2': 0.009699973834407889, 'rougeL': 1.1833944159297352, 'meteor': 4.8531, 'bertscore_f1': 63.6478, 'bleu': 0.3077, 'gen_len': 116.59556441564914}\n",
            "\n",
            " ================================================== \n",
            "Predictions type: <class 'tuple'>\n",
            "Decoding predictions and labels...\n",
            "Decoded Predictions Sample:\n",
            " ['직무: 공공 경력상태: 신입직 질문: 지원 지원봤을 때 개발에 사람들이이 아이 아이를 해외티을 더 경향이 많 것 같습니다 그렇다면 생각하는봤을 때 아이 아이 층 아이폰을 선호하는하는지 그 말씀 생각을 말씀 싶데요 그드리립니다 답변: 젊은폰은 젊은 아이을 접 했을 그을 선도하게 왔고 점에서 아이자들에게 많은성이 있다고 아이 점에서 아이폰을 선호하는서는야 위해서 젊은화 아이 마케팅자들의 어필할 마케팅 잘 잘해야 봐 싶치 해 것이 중요합니다. </s>', '직무: 공공 경력상태: 신입직 질문: 지원 제외하고 직무에 활용할 수 있는지까요변: 저 전공은 컴퓨터입니다. 전공학을 제가 따하기 그에 있어 가장 할될 하는습니다. 전공</s>', '직무: 공공 경력상태: 신입직 질문: 지원 소통롤 작든를 많이는데다 지원 스트레스를 때 그만의 스트레스 스트레스 스트레스법이 가지고 가지고 계 것이 있으 있다면변: 저를법은 스트레스를에서 더 큰 것 스트레스 더 형태로 스트레스 스트레스 나 주변에 사람들에게 스트레스 영향을 끼 것을 해소 예방 것이 중요하다고 생각합니다. 스트레스레스는 항상 같이 것이라 그 해소 속에서 스트레스 해소 대처하느냐에가 더 생각 합니다. </s>     해소      해소 해소 해소  해소  해소   해소      해소 해소 해소     해소      해소   해소                    해소      해소      해소     해소          해소           해소  해소']\n",
            "Decoded Labels Sample:\n",
            " ['</s> 직무: 정보통신 경력상태: 경력직 질문: 제가 봤을 때는 요즘 젊은 층에서는 국내 브랜드보다는 아이폰을 선호하는 경향이 많은 거 같습니다 본인이 봤을 때 왜 젊은 사람들이 아이폰을 선호하는지 한번 개인적인 의견을 묻고 싶은데요 부탁드립니다 답변: 아이폰은 처음으로 스마트폰을 개발을 했고 스마트폰 시장을 리더 해 왔다는 점에서 소비자들에게 상징성이 있습니다. 그런 관점에서 아이폰을 앞질러 가기 위해서는 초기 단계에서 어떤 소비자들에게 어필했던 부분이 무엇인지 파악 해보고 캐치를 하는 게 중요합니다. </s><pad><pad><pad><pad><pad><pad><pad><pad><pad><pad><pad><pad><pad><pad><pad><pad><pad><pad><pad><pad><pad><pad><pad><pad><pad><pad><pad><pad><pad><pad><pad><pad><pad><pad><pad><pad><pad><pad><pad><pad><pad><pad><pad><pad><pad><pad><pad><pad><pad><pad><pad><pad><pad><pad><pad><pad><pad><pad><pad><pad><pad><pad><pad><pad><pad><pad><pad><pad><pad><pad><pad><pad><pad><pad><pad><pad><pad><pad><pad><pad><pad><pad><pad><pad><pad><pad><pad><pad><pad><pad><pad><pad><pad><pad><pad><pad><pad><pad><pad><pad><pad><pad><pad><pad><pad><pad><pad><pad><pad><pad><pad><pad><pad><pad><pad><pad><pad><pad><pad><pad><pad><pad><pad><pad><pad><pad><pad><pad><pad><pad><pad><pad><pad><pad><pad><pad><pad><pad><pad><pad><pad><pad><pad><pad><pad>', '</s> 직무: 정보통신 경력상태: 경력직 질문: 전공을 어떻게 직무에 활용할 수 있을까 답변: 제 전공은 경제학입니다. 경제학은 효율성을 중시하는데 직무 수행에 있어서도 원활히 진행되도록 하겠습니다. </s><pad><pad><pad><pad><pad><pad><pad><pad><pad><pad><pad><pad><pad><pad><pad><pad><pad><pad><pad><pad><pad><pad><pad><pad><pad><pad><pad><pad><pad><pad><pad><pad><pad><pad><pad><pad><pad><pad><pad><pad><pad><pad><pad><pad><pad><pad><pad><pad><pad><pad><pad><pad><pad><pad><pad><pad><pad><pad><pad><pad><pad><pad><pad><pad><pad><pad><pad><pad><pad><pad><pad><pad><pad><pad><pad><pad><pad><pad><pad><pad><pad><pad><pad><pad><pad><pad><pad><pad><pad><pad><pad><pad><pad><pad><pad><pad><pad><pad><pad><pad><pad><pad><pad><pad><pad><pad><pad><pad><pad><pad><pad><pad><pad><pad><pad><pad><pad><pad><pad><pad><pad><pad><pad><pad><pad><pad><pad><pad><pad><pad><pad><pad><pad><pad><pad><pad><pad><pad><pad><pad><pad><pad><pad><pad><pad><pad><pad><pad><pad><pad><pad><pad><pad><pad><pad><pad><pad><pad><pad><pad><pad><pad><pad><pad><pad><pad><pad><pad><pad><pad><pad><pad><pad><pad><pad><pad><pad><pad><pad><pad><pad><pad><pad><pad><pad><pad><pad><pad><pad><pad><pad><pad><pad><pad><pad><pad><pad><pad><pad><pad><pad><pad><pad><pad><pad><pad><pad><pad><pad><pad><pad><pad><pad><pad>', '</s> 직무: 정보통신 경력상태: 경력직 질문: 우리는 크든 작은 스트레스를 받습니다 큰 스트레스 받았을 때 나만의 어 그 해소법을 따로 가지고 있는 게 있습니까 답변: 스트레스 해소법은 스트레스 자체보다 더 확대된 형태로 또는 과장된 형태로 나에게 또는 제 주변에게 부정적인 영향을 미치는 것을 미리 예방하는 게 중요하다고 생각합니다. 스트레스는 매일 오는 거라면 매일 일상생활 속에서 어떻게 인식하고 접근하느냐가 중요하다고 생각을 합니다. </s><pad><pad><pad><pad><pad><pad><pad><pad><pad><pad><pad><pad><pad><pad><pad><pad><pad><pad><pad><pad><pad><pad><pad><pad><pad><pad><pad><pad><pad><pad><pad><pad><pad><pad><pad><pad><pad><pad><pad><pad><pad><pad><pad><pad><pad><pad><pad><pad><pad><pad><pad><pad><pad><pad><pad><pad><pad><pad><pad><pad><pad><pad><pad><pad><pad><pad><pad><pad><pad><pad><pad><pad><pad><pad><pad><pad><pad><pad><pad><pad><pad><pad><pad><pad><pad><pad><pad><pad><pad><pad><pad><pad><pad><pad><pad><pad><pad><pad><pad><pad><pad><pad><pad><pad><pad><pad><pad><pad><pad><pad><pad><pad><pad><pad><pad><pad><pad><pad><pad><pad><pad><pad><pad><pad><pad><pad><pad><pad><pad><pad><pad><pad><pad><pad><pad><pad><pad><pad><pad><pad><pad><pad><pad><pad><pad><pad><pad><pad><pad><pad><pad><pad><pad><pad><pad><pad><pad><pad><pad><pad><pad><pad><pad><pad><pad><pad><pad><pad><pad><pad><pad>']\n",
            "Calculating ROUGE...\n",
            "\n",
            "ROUGE scores details:\n",
            "Number of valid pairs: 8026\n",
            "Sample ROUGE-1 scores: [0.013513513513513513, 0.009216589861751152, 0.011494252873563216, 0.013071895424836602, 0.010752688172043012]\n",
            "Calculating METEOR...\n",
            "METEOR result: {'meteor': 0.0491316000554765}\n",
            "Calculating BERTScore...\n",
            "BERTScore finished\n",
            "Calculating BLEU...\n",
            "BLEU result: {'bleu': 0.0006939819465802915, 'precisions': [0.3386018287545293, 0.18872742077421684, 0.11539686020927221, 0.07697338949405261], 'brevity_penalty': 0.00449607395139774, 'length_ratio': 0.15613897742251992, 'translation_length': 722787, 'reference_length': 4629126}\n",
            "Calculating generated length...\n",
            "Final Metrics: {'rouge1': 1.183208142186141, 'rouge2': 0.009505456210789508, 'rougeL': 1.183208142186141, 'meteor': 4.9132, 'bertscore_f1': 64.748, 'bleu': 0.0694, 'gen_len': 79.8035135808622}\n",
            "\n",
            " ================================================== \n",
            "Predictions type: <class 'tuple'>\n",
            "Decoding predictions and labels...\n",
            "Decoded Predictions Sample:\n",
            " ['직무: 공공 경력상태: 신입직 질문: 지원 생각하는봤을 때 개발에 사람들이들이 아이 아이를 해외티을 더 경향이 많 것 같거든다 그렇다면 생각하는봤을 때 아이 그렇게 층 아이폰을 선호하는하는지 그 말씀 생각을 말씀 싶데요 답드리립니다 답변: 젊은폰은 젊은 보는을 접 했을 그을 개척할 왔고 점에서 큰자들에게 많은성이 있고 아이 점에서 아이폰은 선호하는서는야 위해서 젊은 개발 아이 아이자들의 어떤필할 마케팅 가장 잘을 봐 싶치 해 것이 중요합니다. </s>', '직무: 공공 경력상태: 신입직 질문: 지원 제외하고 직무에 활용할 수 있을까요변: 저 전공은 컴퓨터입니다. 전공학을 제가 추구하는하기 그에 있어 효율 수행할될 하는습니다. 전공</s>', '직무: 공공 경력상태: 신입직 질문: 지원 소통롤 작든를 받는데다 지원 스트레스를 때 그만의 스트레스 스트레스 스트레스법이 가지고 가지고 계 게 있으 있다면변: 저를법은 크게를에서 스스로 큰 스트레스 스트레스 더 형태로 스트레스 집중 나 주변에 사람들에게 스트레스 영향을 끼 것들을 해소 예방 것이 가장 생각합니다. 스트레스레스는 항상 같이 게라 그 해소 속에서 해소 해야 어떻게하느냐에가 중요 생각 합니다. </s>                          스트레스 스트레스            스트레스   스트레스                    스트레스            스트레스     스트레스       스트레스']\n",
            "Decoded Labels Sample:\n",
            " ['</s> 직무: 정보통신 경력상태: 경력직 질문: 제가 봤을 때는 요즘 젊은 층에서는 국내 브랜드보다는 아이폰을 선호하는 경향이 많은 거 같습니다 본인이 봤을 때 왜 젊은 사람들이 아이폰을 선호하는지 한번 개인적인 의견을 묻고 싶은데요 부탁드립니다 답변: 아이폰은 처음으로 스마트폰을 개발을 했고 스마트폰 시장을 리더 해 왔다는 점에서 소비자들에게 상징성이 있습니다. 그런 관점에서 아이폰을 앞질러 가기 위해서는 초기 단계에서 어떤 소비자들에게 어필했던 부분이 무엇인지 파악 해보고 캐치를 하는 게 중요합니다. </s><pad><pad><pad><pad><pad><pad><pad><pad><pad><pad><pad><pad><pad><pad><pad><pad><pad><pad><pad><pad><pad><pad><pad><pad><pad><pad><pad><pad><pad><pad><pad><pad><pad><pad><pad><pad><pad><pad><pad><pad><pad><pad><pad><pad><pad><pad><pad><pad><pad><pad><pad><pad><pad><pad><pad><pad><pad><pad><pad><pad><pad><pad><pad><pad><pad><pad><pad><pad><pad><pad><pad><pad><pad><pad><pad><pad><pad><pad><pad><pad><pad><pad><pad><pad><pad><pad><pad><pad><pad><pad><pad><pad><pad><pad><pad><pad><pad><pad><pad><pad><pad><pad><pad><pad><pad><pad><pad><pad><pad><pad><pad><pad><pad><pad><pad><pad><pad><pad><pad><pad><pad><pad><pad><pad><pad><pad><pad><pad><pad><pad><pad><pad><pad><pad><pad><pad><pad><pad><pad><pad><pad><pad><pad><pad><pad>', '</s> 직무: 정보통신 경력상태: 경력직 질문: 전공을 어떻게 직무에 활용할 수 있을까 답변: 제 전공은 경제학입니다. 경제학은 효율성을 중시하는데 직무 수행에 있어서도 원활히 진행되도록 하겠습니다. </s><pad><pad><pad><pad><pad><pad><pad><pad><pad><pad><pad><pad><pad><pad><pad><pad><pad><pad><pad><pad><pad><pad><pad><pad><pad><pad><pad><pad><pad><pad><pad><pad><pad><pad><pad><pad><pad><pad><pad><pad><pad><pad><pad><pad><pad><pad><pad><pad><pad><pad><pad><pad><pad><pad><pad><pad><pad><pad><pad><pad><pad><pad><pad><pad><pad><pad><pad><pad><pad><pad><pad><pad><pad><pad><pad><pad><pad><pad><pad><pad><pad><pad><pad><pad><pad><pad><pad><pad><pad><pad><pad><pad><pad><pad><pad><pad><pad><pad><pad><pad><pad><pad><pad><pad><pad><pad><pad><pad><pad><pad><pad><pad><pad><pad><pad><pad><pad><pad><pad><pad><pad><pad><pad><pad><pad><pad><pad><pad><pad><pad><pad><pad><pad><pad><pad><pad><pad><pad><pad><pad><pad><pad><pad><pad><pad><pad><pad><pad><pad><pad><pad><pad><pad><pad><pad><pad><pad><pad><pad><pad><pad><pad><pad><pad><pad><pad><pad><pad><pad><pad><pad><pad><pad><pad><pad><pad><pad><pad><pad><pad><pad><pad><pad><pad><pad><pad><pad><pad><pad><pad><pad><pad><pad><pad><pad><pad><pad><pad><pad><pad><pad><pad><pad><pad><pad><pad><pad><pad><pad><pad><pad><pad><pad><pad>', '</s> 직무: 정보통신 경력상태: 경력직 질문: 우리는 크든 작은 스트레스를 받습니다 큰 스트레스 받았을 때 나만의 어 그 해소법을 따로 가지고 있는 게 있습니까 답변: 스트레스 해소법은 스트레스 자체보다 더 확대된 형태로 또는 과장된 형태로 나에게 또는 제 주변에게 부정적인 영향을 미치는 것을 미리 예방하는 게 중요하다고 생각합니다. 스트레스는 매일 오는 거라면 매일 일상생활 속에서 어떻게 인식하고 접근하느냐가 중요하다고 생각을 합니다. </s><pad><pad><pad><pad><pad><pad><pad><pad><pad><pad><pad><pad><pad><pad><pad><pad><pad><pad><pad><pad><pad><pad><pad><pad><pad><pad><pad><pad><pad><pad><pad><pad><pad><pad><pad><pad><pad><pad><pad><pad><pad><pad><pad><pad><pad><pad><pad><pad><pad><pad><pad><pad><pad><pad><pad><pad><pad><pad><pad><pad><pad><pad><pad><pad><pad><pad><pad><pad><pad><pad><pad><pad><pad><pad><pad><pad><pad><pad><pad><pad><pad><pad><pad><pad><pad><pad><pad><pad><pad><pad><pad><pad><pad><pad><pad><pad><pad><pad><pad><pad><pad><pad><pad><pad><pad><pad><pad><pad><pad><pad><pad><pad><pad><pad><pad><pad><pad><pad><pad><pad><pad><pad><pad><pad><pad><pad><pad><pad><pad><pad><pad><pad><pad><pad><pad><pad><pad><pad><pad><pad><pad><pad><pad><pad><pad><pad><pad><pad><pad><pad><pad><pad><pad><pad><pad><pad><pad><pad><pad><pad><pad><pad><pad><pad><pad><pad><pad><pad><pad><pad><pad>']\n",
            "Calculating ROUGE...\n",
            "\n",
            "ROUGE scores details:\n",
            "Number of valid pairs: 8026\n",
            "Sample ROUGE-1 scores: [0.013513513513513513, 0.009216589861751152, 0.011494252873563216, 0.013071895424836602, 0.010752688172043012]\n",
            "Calculating METEOR...\n",
            "METEOR result: {'meteor': 0.04955968090677433}\n",
            "Calculating BERTScore...\n",
            "BERTScore finished\n",
            "Calculating BLEU...\n",
            "BLEU result: {'bleu': 0.0005755297584437789, 'precisions': [0.35210287300271104, 0.1964930682827393, 0.11988443390349264, 0.07961215163287011], 'brevity_penalty': 0.00359027771907972, 'length_ratio': 0.1508403530169626, 'translation_length': 698259, 'reference_length': 4629126}\n",
            "Calculating generated length...\n",
            "Final Metrics: {'rouge1': 1.1829547689749456, 'rouge2': 0.009374276585565371, 'rougeL': 1.1829547689749456, 'meteor': 4.956, 'bertscore_f1': 64.9488, 'bleu': 0.0576, 'gen_len': 76.88599551457763}\n",
            "\n",
            " ================================================== \n",
            "Predictions type: <class 'tuple'>\n",
            "Decoding predictions and labels...\n",
            "Decoded Predictions Sample:\n",
            " ['직무: 공공 경력상태: 신입직 질문: 지원 지원께을 때 개발에 사람들이에서 아이 아이가 해외티을 선호하는 경향이 많 것 같애다 그렇다면 생각봤을 때 젊은 아이 층 아이폰을 선호하는하는지 그 말씀 생각을 말씀 싶데요 답드리립니다 답변: 젊은폰은 젊은 보는을 접 했을 그을 평정로 왔고 점에서 저자들에게 많은성이 있고 아이 점에서 아이폰을 선호하는서는야 위해서는 젊은 마케팅 아이 마케팅자들의 어필할 마케팅 가장 그리고을 봐 싶치 해 것이 중요하다고합니다. </s>', '직무: 공공 경력상태: 신입직 질문: 지원 제외하고 직무에 활용할 수 있는지까요변: 저 전공은 컴퓨터입니다. 전공학을 제가 따하기 그에 있어 효율 수행할될 하는습니다. 전공</s>', '직무: 공공 경력상태: 신입직 질문: 지원 소통롤 작든를 많이는데다 지원 스트레스를 때 지원만의 스트레스 스트레스 스트레스법이 가지고 가지고 계 게 있으 답변: 저를법은 주로를에서 밖에서 큰 스트레스 스트레스 더 형태로 스트레스 스트레스 나 주변에 사람들에게 스트레스 영향을 끼 것들을 해소 예방 것이 가장 생각합니다. 레스는 누구나 조금씩 것이고라 그 해소 속에서 스트레스 하면 어떻게하느냐에가 더 생각 합니다. </s>     스트레스   스트레스   스트레스 스트레스 스트레스 스트레스 스트레스  스트레스  스트레스 스트레스   스트레스 스트레스  스트레스 스트레스 스트레스    스트레스 스트레스 스트레스    스트레스 스트레스   스트레스  스트레스  스트레스   스트레스 스트레스         스트레스   스트레스  스트레스   스트레스 스트레스      스트레스     스트레스 스트레스 스트레스     스트레스   스트레스 스트레스   스트레스 스트레스 스트레스 스트레스  스트레스  스트레스  스트레스  스트레스  스트레스   스트레스  스트레스   스트레스 스트레스  스트레스 스트레스      스트레스      스트레스']\n",
            "Decoded Labels Sample:\n",
            " ['</s> 직무: 정보통신 경력상태: 경력직 질문: 제가 봤을 때는 요즘 젊은 층에서는 국내 브랜드보다는 아이폰을 선호하는 경향이 많은 거 같습니다 본인이 봤을 때 왜 젊은 사람들이 아이폰을 선호하는지 한번 개인적인 의견을 묻고 싶은데요 부탁드립니다 답변: 아이폰은 처음으로 스마트폰을 개발을 했고 스마트폰 시장을 리더 해 왔다는 점에서 소비자들에게 상징성이 있습니다. 그런 관점에서 아이폰을 앞질러 가기 위해서는 초기 단계에서 어떤 소비자들에게 어필했던 부분이 무엇인지 파악 해보고 캐치를 하는 게 중요합니다. </s><pad><pad><pad><pad><pad><pad><pad><pad><pad><pad><pad><pad><pad><pad><pad><pad><pad><pad><pad><pad><pad><pad><pad><pad><pad><pad><pad><pad><pad><pad><pad><pad><pad><pad><pad><pad><pad><pad><pad><pad><pad><pad><pad><pad><pad><pad><pad><pad><pad><pad><pad><pad><pad><pad><pad><pad><pad><pad><pad><pad><pad><pad><pad><pad><pad><pad><pad><pad><pad><pad><pad><pad><pad><pad><pad><pad><pad><pad><pad><pad><pad><pad><pad><pad><pad><pad><pad><pad><pad><pad><pad><pad><pad><pad><pad><pad><pad><pad><pad><pad><pad><pad><pad><pad><pad><pad><pad><pad><pad><pad><pad><pad><pad><pad><pad><pad><pad><pad><pad><pad><pad><pad><pad><pad><pad><pad><pad><pad><pad><pad><pad><pad><pad><pad><pad><pad><pad><pad><pad><pad><pad><pad><pad><pad><pad>', '</s> 직무: 정보통신 경력상태: 경력직 질문: 전공을 어떻게 직무에 활용할 수 있을까 답변: 제 전공은 경제학입니다. 경제학은 효율성을 중시하는데 직무 수행에 있어서도 원활히 진행되도록 하겠습니다. </s><pad><pad><pad><pad><pad><pad><pad><pad><pad><pad><pad><pad><pad><pad><pad><pad><pad><pad><pad><pad><pad><pad><pad><pad><pad><pad><pad><pad><pad><pad><pad><pad><pad><pad><pad><pad><pad><pad><pad><pad><pad><pad><pad><pad><pad><pad><pad><pad><pad><pad><pad><pad><pad><pad><pad><pad><pad><pad><pad><pad><pad><pad><pad><pad><pad><pad><pad><pad><pad><pad><pad><pad><pad><pad><pad><pad><pad><pad><pad><pad><pad><pad><pad><pad><pad><pad><pad><pad><pad><pad><pad><pad><pad><pad><pad><pad><pad><pad><pad><pad><pad><pad><pad><pad><pad><pad><pad><pad><pad><pad><pad><pad><pad><pad><pad><pad><pad><pad><pad><pad><pad><pad><pad><pad><pad><pad><pad><pad><pad><pad><pad><pad><pad><pad><pad><pad><pad><pad><pad><pad><pad><pad><pad><pad><pad><pad><pad><pad><pad><pad><pad><pad><pad><pad><pad><pad><pad><pad><pad><pad><pad><pad><pad><pad><pad><pad><pad><pad><pad><pad><pad><pad><pad><pad><pad><pad><pad><pad><pad><pad><pad><pad><pad><pad><pad><pad><pad><pad><pad><pad><pad><pad><pad><pad><pad><pad><pad><pad><pad><pad><pad><pad><pad><pad><pad><pad><pad><pad><pad><pad><pad><pad><pad><pad>', '</s> 직무: 정보통신 경력상태: 경력직 질문: 우리는 크든 작은 스트레스를 받습니다 큰 스트레스 받았을 때 나만의 어 그 해소법을 따로 가지고 있는 게 있습니까 답변: 스트레스 해소법은 스트레스 자체보다 더 확대된 형태로 또는 과장된 형태로 나에게 또는 제 주변에게 부정적인 영향을 미치는 것을 미리 예방하는 게 중요하다고 생각합니다. 스트레스는 매일 오는 거라면 매일 일상생활 속에서 어떻게 인식하고 접근하느냐가 중요하다고 생각을 합니다. </s><pad><pad><pad><pad><pad><pad><pad><pad><pad><pad><pad><pad><pad><pad><pad><pad><pad><pad><pad><pad><pad><pad><pad><pad><pad><pad><pad><pad><pad><pad><pad><pad><pad><pad><pad><pad><pad><pad><pad><pad><pad><pad><pad><pad><pad><pad><pad><pad><pad><pad><pad><pad><pad><pad><pad><pad><pad><pad><pad><pad><pad><pad><pad><pad><pad><pad><pad><pad><pad><pad><pad><pad><pad><pad><pad><pad><pad><pad><pad><pad><pad><pad><pad><pad><pad><pad><pad><pad><pad><pad><pad><pad><pad><pad><pad><pad><pad><pad><pad><pad><pad><pad><pad><pad><pad><pad><pad><pad><pad><pad><pad><pad><pad><pad><pad><pad><pad><pad><pad><pad><pad><pad><pad><pad><pad><pad><pad><pad><pad><pad><pad><pad><pad><pad><pad><pad><pad><pad><pad><pad><pad><pad><pad><pad><pad><pad><pad><pad><pad><pad><pad><pad><pad><pad><pad><pad><pad><pad><pad><pad><pad><pad><pad><pad><pad><pad><pad><pad><pad><pad><pad>']\n",
            "Calculating ROUGE...\n",
            "\n",
            "ROUGE scores details:\n",
            "Number of valid pairs: 8026\n",
            "Sample ROUGE-1 scores: [0.013513513513513513, 0.009216589861751152, 0.011494252873563216, 0.013071895424836602, 0.010752688172043012]\n",
            "Calculating METEOR...\n",
            "METEOR result: {'meteor': 0.04963153558700391}\n",
            "Calculating BERTScore...\n",
            "BERTScore finished\n",
            "Calculating BLEU...\n",
            "BLEU result: {'bleu': 0.00037430635183605875, 'precisions': [0.37910238839977367, 0.21195471481352562, 0.1294384508990318, 0.08622171985545926], 'brevity_penalty': 0.0021630038845905906, 'length_ratio': 0.14012947584490032, 'translation_length': 648677, 'reference_length': 4629126}\n",
            "Calculating generated length...\n",
            "Final Metrics: {'rouge1': 1.1814560969404526, 'rouge2': 0.009370566782219735, 'rougeL': 1.1814560969404526, 'meteor': 4.9632, 'bertscore_f1': 65.1043, 'bleu': 0.0374, 'gen_len': 70.68901071517568}\n",
            "\n",
            " ================================================== \n",
            "Predictions type: <class 'tuple'>\n",
            "Decoding predictions and labels...\n",
            "Decoded Predictions Sample:\n",
            " ['직무: 공공 경력상태: 신입직 질문: 지원 지원봤을 때 지원에 사람들이에서 아이 아이가 해외폰을 선호하는 경향이 많 것 같애다 그렇다면 생각봤을 때 젊은 아이 층 아이폰을 선호하는하는지 그 말씀 생각을 말씀 싶데요 답드리립니다 답변: 젊은폰은 젊은 보는을 접 했을 그을 평정로 왔고 점에서 저자들에게 많은성이 있다고 아이 점에서 아이폰을 선호하는서는야 위해서는 젊은 마케팅 아이 아이자들의 어필할 마케팅 가장 그리고을 봐 싶치 해 것이 중요하다고합니다. </s>', '직무: 공공 경력상태: 신입직 질문: 지원 제외하고 직무에 활용할 수 있는지까요변: 저 전공은 경영입니다. 전공학을 제가 따하기 그에 있어 효율 수행할될 하는습니다. 전공</s>', '직무: 공공 경력상태: 신입직 질문: 지원 소통롤 작든를 많이는데다 지원 스트레스를 때 그만의 스트레스 스트레스 스트레스법이 가지고 가지고 계 게 있으 답변: 저 받으면법은 크게를에서 밖에서 큰 것 스트레스 더 형태로 스트레스 스트레스 나 주변에 사람들에게 스트레스 영향을 끼 것들을 해소 경험 것이 가장 생각합니다. 레스는 누구나 조금씩 것이고라 하루 해소 속에서 스트레스 하면 어떻게하느냐에가 더 생각 합니다. </s>                    스트레스      스트레스 스트레스            스트레스   스트레스                    스트레스            스트레스     스트레스       스트레스']\n",
            "Decoded Labels Sample:\n",
            " ['</s> 직무: 정보통신 경력상태: 경력직 질문: 제가 봤을 때는 요즘 젊은 층에서는 국내 브랜드보다는 아이폰을 선호하는 경향이 많은 거 같습니다 본인이 봤을 때 왜 젊은 사람들이 아이폰을 선호하는지 한번 개인적인 의견을 묻고 싶은데요 부탁드립니다 답변: 아이폰은 처음으로 스마트폰을 개발을 했고 스마트폰 시장을 리더 해 왔다는 점에서 소비자들에게 상징성이 있습니다. 그런 관점에서 아이폰을 앞질러 가기 위해서는 초기 단계에서 어떤 소비자들에게 어필했던 부분이 무엇인지 파악 해보고 캐치를 하는 게 중요합니다. </s><pad><pad><pad><pad><pad><pad><pad><pad><pad><pad><pad><pad><pad><pad><pad><pad><pad><pad><pad><pad><pad><pad><pad><pad><pad><pad><pad><pad><pad><pad><pad><pad><pad><pad><pad><pad><pad><pad><pad><pad><pad><pad><pad><pad><pad><pad><pad><pad><pad><pad><pad><pad><pad><pad><pad><pad><pad><pad><pad><pad><pad><pad><pad><pad><pad><pad><pad><pad><pad><pad><pad><pad><pad><pad><pad><pad><pad><pad><pad><pad><pad><pad><pad><pad><pad><pad><pad><pad><pad><pad><pad><pad><pad><pad><pad><pad><pad><pad><pad><pad><pad><pad><pad><pad><pad><pad><pad><pad><pad><pad><pad><pad><pad><pad><pad><pad><pad><pad><pad><pad><pad><pad><pad><pad><pad><pad><pad><pad><pad><pad><pad><pad><pad><pad><pad><pad><pad><pad><pad><pad><pad><pad><pad><pad><pad>', '</s> 직무: 정보통신 경력상태: 경력직 질문: 전공을 어떻게 직무에 활용할 수 있을까 답변: 제 전공은 경제학입니다. 경제학은 효율성을 중시하는데 직무 수행에 있어서도 원활히 진행되도록 하겠습니다. </s><pad><pad><pad><pad><pad><pad><pad><pad><pad><pad><pad><pad><pad><pad><pad><pad><pad><pad><pad><pad><pad><pad><pad><pad><pad><pad><pad><pad><pad><pad><pad><pad><pad><pad><pad><pad><pad><pad><pad><pad><pad><pad><pad><pad><pad><pad><pad><pad><pad><pad><pad><pad><pad><pad><pad><pad><pad><pad><pad><pad><pad><pad><pad><pad><pad><pad><pad><pad><pad><pad><pad><pad><pad><pad><pad><pad><pad><pad><pad><pad><pad><pad><pad><pad><pad><pad><pad><pad><pad><pad><pad><pad><pad><pad><pad><pad><pad><pad><pad><pad><pad><pad><pad><pad><pad><pad><pad><pad><pad><pad><pad><pad><pad><pad><pad><pad><pad><pad><pad><pad><pad><pad><pad><pad><pad><pad><pad><pad><pad><pad><pad><pad><pad><pad><pad><pad><pad><pad><pad><pad><pad><pad><pad><pad><pad><pad><pad><pad><pad><pad><pad><pad><pad><pad><pad><pad><pad><pad><pad><pad><pad><pad><pad><pad><pad><pad><pad><pad><pad><pad><pad><pad><pad><pad><pad><pad><pad><pad><pad><pad><pad><pad><pad><pad><pad><pad><pad><pad><pad><pad><pad><pad><pad><pad><pad><pad><pad><pad><pad><pad><pad><pad><pad><pad><pad><pad><pad><pad><pad><pad><pad><pad><pad><pad>', '</s> 직무: 정보통신 경력상태: 경력직 질문: 우리는 크든 작은 스트레스를 받습니다 큰 스트레스 받았을 때 나만의 어 그 해소법을 따로 가지고 있는 게 있습니까 답변: 스트레스 해소법은 스트레스 자체보다 더 확대된 형태로 또는 과장된 형태로 나에게 또는 제 주변에게 부정적인 영향을 미치는 것을 미리 예방하는 게 중요하다고 생각합니다. 스트레스는 매일 오는 거라면 매일 일상생활 속에서 어떻게 인식하고 접근하느냐가 중요하다고 생각을 합니다. </s><pad><pad><pad><pad><pad><pad><pad><pad><pad><pad><pad><pad><pad><pad><pad><pad><pad><pad><pad><pad><pad><pad><pad><pad><pad><pad><pad><pad><pad><pad><pad><pad><pad><pad><pad><pad><pad><pad><pad><pad><pad><pad><pad><pad><pad><pad><pad><pad><pad><pad><pad><pad><pad><pad><pad><pad><pad><pad><pad><pad><pad><pad><pad><pad><pad><pad><pad><pad><pad><pad><pad><pad><pad><pad><pad><pad><pad><pad><pad><pad><pad><pad><pad><pad><pad><pad><pad><pad><pad><pad><pad><pad><pad><pad><pad><pad><pad><pad><pad><pad><pad><pad><pad><pad><pad><pad><pad><pad><pad><pad><pad><pad><pad><pad><pad><pad><pad><pad><pad><pad><pad><pad><pad><pad><pad><pad><pad><pad><pad><pad><pad><pad><pad><pad><pad><pad><pad><pad><pad><pad><pad><pad><pad><pad><pad><pad><pad><pad><pad><pad><pad><pad><pad><pad><pad><pad><pad><pad><pad><pad><pad><pad><pad><pad><pad><pad><pad><pad><pad><pad><pad>']\n",
            "Calculating ROUGE...\n",
            "\n",
            "ROUGE scores details:\n",
            "Number of valid pairs: 8026\n",
            "Sample ROUGE-1 scores: [0.013513513513513513, 0.009216589861751152, 0.011494252873563216, 0.013071895424836602, 0.010752688172043012]\n",
            "Calculating METEOR...\n",
            "METEOR result: {'meteor': 0.049784826504265384}\n",
            "Calculating BERTScore...\n",
            "BERTScore finished\n",
            "Calculating BLEU...\n",
            "BLEU result: {'bleu': 0.0003945126186176152, 'precisions': [0.3768418058185311, 0.21115457034201693, 0.12918672290252278, 0.08592266309284113], 'brevity_penalty': 0.002288440396961631, 'length_ratio': 0.14124523722188595, 'translation_length': 653842, 'reference_length': 4629126}\n",
            "Calculating generated length...\n",
            "Final Metrics: {'rouge1': 1.1828837183489556, 'rouge2': 0.009526901298660741, 'rougeL': 1.1828837183489556, 'meteor': 4.9785, 'bertscore_f1': 65.067, 'bleu': 0.0395, 'gen_len': 71.30102167954149}\n"
          ]
        },
        {
          "name": "stderr",
          "output_type": "stream",
          "text": [
            "There were missing keys in the checkpoint model loaded: ['lm_head.weight'].\n"
          ]
        },
        {
          "data": {
            "text/plain": [
              "TrainOutput(global_step=12768, training_loss=2.0701396507129335, metrics={'train_runtime': 21875.2624, 'train_samples_per_second': 18.672, 'train_steps_per_second': 0.584, 'total_flos': 5.3361581359104e+16, 'train_loss': 2.0701396507129335, 'epoch': 6.0})"
            ]
          },
          "execution_count": 18,
          "metadata": {},
          "output_type": "execute_result"
        }
      ],
      "source": [
        "# 학습 시작\n",
        "trainer.train()\n"
      ]
    },
    {
      "cell_type": "code",
      "execution_count": null,
      "id": "8e946912",
      "metadata": {
        "execution": {
          "iopub.execute_input": "2024-11-17T15:08:09.697821Z",
          "iopub.status.busy": "2024-11-17T15:08:09.697448Z",
          "iopub.status.idle": "2024-11-17T15:08:10.850083Z",
          "shell.execute_reply": "2024-11-17T15:08:10.849259Z"
        },
        "id": "8e946912",
        "papermill": {
          "duration": 1.215693,
          "end_time": "2024-11-17T15:08:10.852245",
          "exception": false,
          "start_time": "2024-11-17T15:08:09.636552",
          "status": "completed"
        },
        "tags": []
      },
      "outputs": [],
      "source": [
        "import os\n",
        "import shutil\n",
        "\n",
        "# 모델 가중치와 설정 저장\n",
        "trainer.save_model(\"./results/best_model\")\n",
        "\n",
        "# 학습 상태 저장\n",
        "trainer.save_state()"
      ]
    },
    {
      "cell_type": "code",
      "execution_count": null,
      "id": "0b47249e",
      "metadata": {
        "id": "0b47249e",
        "papermill": {
          "duration": 0.056626,
          "end_time": "2024-11-17T15:08:10.969542",
          "exception": false,
          "start_time": "2024-11-17T15:08:10.912916",
          "status": "completed"
        },
        "tags": []
      },
      "outputs": [],
      "source": []
    },
    {
      "cell_type": "code",
      "execution_count": null,
      "id": "3127649a",
      "metadata": {
        "execution": {
          "iopub.execute_input": "2024-11-17T15:08:11.087802Z",
          "iopub.status.busy": "2024-11-17T15:08:11.087421Z",
          "iopub.status.idle": "2024-11-17T15:08:11.193894Z",
          "shell.execute_reply": "2024-11-17T15:08:11.192609Z"
        },
        "id": "3127649a",
        "outputId": "afd83b27-ea83-4993-f620-76c87e96afbe",
        "papermill": {
          "duration": 0.167081,
          "end_time": "2024-11-17T15:08:11.195868",
          "exception": false,
          "start_time": "2024-11-17T15:08:11.028787",
          "status": "completed"
        },
        "tags": []
      },
      "outputs": [
        {
          "name": "stdout",
          "output_type": "stream",
          "text": [
            "GPU 0 메모리 리셋 완료!\n",
            "  전체 메모리: 15095.06 MB\n",
            "  예약된 메모리: 4028.00 MB\n",
            "  사용 중인 메모리: 2102.13 MB\n",
            "  사용 가능 메모리: 1925.87 MB\n",
            "GPU 1 메모리 리셋 완료!\n",
            "  전체 메모리: 15095.06 MB\n",
            "  예약된 메모리: 32.00 MB\n",
            "  사용 중인 메모리: 16.25 MB\n",
            "  사용 가능 메모리: 15.75 MB\n"
          ]
        },
        {
          "name": "stderr",
          "output_type": "stream",
          "text": [
            "/opt/conda/lib/python3.10/site-packages/torch/cuda/memory.py:343: FutureWarning: torch.cuda.reset_max_memory_allocated now calls torch.cuda.reset_peak_memory_stats, which resets /all/ peak memory stats.\n",
            "  warnings.warn(\n"
          ]
        }
      ],
      "source": [
        "import torch\n",
        "\n",
        "# GPU 상태 초기화 및 남은 메모리 확인\n",
        "for i in range(torch.cuda.device_count()):\n",
        "    device = torch.device(f\"cuda:{i}\")\n",
        "\n",
        "    # 메모리 초기화\n",
        "    torch.cuda.empty_cache()  # GPU 캐시 비우기\n",
        "    torch.cuda.ipc_collect()  # GPU 메모리에서 누수된 객체 수집\n",
        "\n",
        "    # 메모리 통계 초기화\n",
        "    torch.cuda.reset_max_memory_allocated(device)\n",
        "    torch.cuda.reset_peak_memory_stats(device)\n",
        "\n",
        "    # GPU 메모리 상태 확인\n",
        "    total_memory = torch.cuda.get_device_properties(device).total_memory  # 전체 메모리\n",
        "    reserved_memory = torch.cuda.memory_reserved(device)  # 예약된 메모리\n",
        "    allocated_memory = torch.cuda.memory_allocated(device)  # 사용 중인 메모리\n",
        "    free_memory = reserved_memory - allocated_memory  # 예약된 메모리 중 사용 가능 메모리\n",
        "\n",
        "    print(f\"GPU {i} 메모리 리셋 완료!\")\n",
        "    print(f\"  전체 메모리: {total_memory / 1024 ** 2:.2f} MB\")\n",
        "    print(f\"  예약된 메모리: {reserved_memory / 1024 ** 2:.2f} MB\")\n",
        "    print(f\"  사용 중인 메모리: {allocated_memory / 1024 ** 2:.2f} MB\")\n",
        "    print(f\"  사용 가능 메모리: {free_memory / 1024 ** 2:.2f} MB\")\n"
      ]
    },
    {
      "cell_type": "code",
      "execution_count": null,
      "id": "01b886c1",
      "metadata": {
        "execution": {
          "iopub.execute_input": "2024-11-17T15:08:11.318893Z",
          "iopub.status.busy": "2024-11-17T15:08:11.318310Z",
          "iopub.status.idle": "2024-11-17T15:08:12.605720Z",
          "shell.execute_reply": "2024-11-17T15:08:12.604646Z"
        },
        "id": "01b886c1",
        "outputId": "b955b48c-0c95-41a9-ad3a-e6b273eaf61f",
        "papermill": {
          "duration": 1.350077,
          "end_time": "2024-11-17T15:08:12.607838",
          "exception": false,
          "start_time": "2024-11-17T15:08:11.257761",
          "status": "completed"
        },
        "tags": []
      },
      "outputs": [
        {
          "name": "stderr",
          "output_type": "stream",
          "text": [
            "/opt/conda/lib/python3.10/site-packages/transformers/generation/configuration_utils.py:601: UserWarning: `do_sample` is set to `False`. However, `temperature` is set to `0.7` -- this flag is only used in sample-based generation modes. You should set `do_sample=True` or unset `temperature`.\n",
            "  warnings.warn(\n"
          ]
        },
        {
          "name": "stdout",
          "output_type": "stream",
          "text": [
            "Generated Text:\n",
            "본인의 강점이 무엇이라고 생각하시나요 또 그렇게 생각하시는 이유도 함께 말씀해 주시길 바랍니다 답변: 저는 성격이 내성적이지만 사람들과 만나는 걸 좋아하고 사람들과 어울릴 수 있는 장점을 가지고 있습니다. 그래서 사람들과 어울리는 걸 굉장히 좋아하는 편입니다. \n"
          ]
        }
      ],
      "source": [
        "from transformers import AutoModelForCausalLM, AutoTokenizer\n",
        "\n",
        "# Best Model 로드\n",
        "best_model = AutoModelForCausalLM.from_pretrained(\"./results/best_model\")\n",
        "\n",
        "# GPU 설정\n",
        "import torch\n",
        "device = torch.device(\"cuda\" if torch.cuda.is_available() else \"cpu\")\n",
        "model.to(device)\n",
        "\n",
        "# 입력 프롬프트\n",
        "prompt =\"본인의 강점이 무엇이라고 생각하시나요\"  # 텍스트 생성 시작 문장\n",
        "input_ids = tokenizer.encode(prompt, return_tensors=\"pt\").to(device)\n",
        "\n",
        "# 텍스트 생성\n",
        "output = model.generate(\n",
        "    input_ids,\n",
        "    max_length=250,            # 생성할 최대 길이\n",
        "    num_beams=5,               # 빔 서치 크기\n",
        "    no_repeat_ngram_size=2,    # 반복 방지\n",
        "    early_stopping=True,       # 적절히 멈춤\n",
        "    temperature=0.7            # 생성 다양성 제어 (0.7~1.0 추천)\n",
        ")\n",
        "\n",
        "# 결과 디코딩\n",
        "generated_text = tokenizer.decode(output[0], skip_special_tokens=True)\n",
        "print(\"Generated Text:\")\n",
        "print(generated_text)"
      ]
    },
    {
      "cell_type": "code",
      "execution_count": null,
      "id": "3dfc2f8a",
      "metadata": {
        "execution": {
          "iopub.execute_input": "2024-11-17T15:08:12.729708Z",
          "iopub.status.busy": "2024-11-17T15:08:12.729335Z",
          "iopub.status.idle": "2024-11-17T15:08:13.674071Z",
          "shell.execute_reply": "2024-11-17T15:08:13.673069Z"
        },
        "id": "3dfc2f8a",
        "outputId": "87694c50-05af-455c-e8f2-9ffd752e7eaa",
        "papermill": {
          "duration": 1.007455,
          "end_time": "2024-11-17T15:08:13.676103",
          "exception": false,
          "start_time": "2024-11-17T15:08:12.668648",
          "status": "completed"
        },
        "tags": []
      },
      "outputs": [
        {
          "name": "stdout",
          "output_type": "stream",
          "text": [
            "Generated Text:\n",
            "저희 회사가 당신을 뽑아야 하는 이유를 설명하세요 답변: 우리 회사가 해외 무대로 진출하게 된다면 저는 미국으로 진출하는 것이 좋다고 생각합니다. 그 이유는 미국이라는 거대한 시장이 있기 때문입니다. 그래서 해외 진출 시 가장 중요한 것은 미국으로의 진출입니다. \n"
          ]
        }
      ],
      "source": [
        "from transformers import AutoModelForCausalLM, AutoTokenizer\n",
        "\n",
        "# Best Model 로드\n",
        "best_model = AutoModelForCausalLM.from_pretrained(\"./results/best_model\")\n",
        "\n",
        "# GPU 설정\n",
        "import torch\n",
        "device = torch.device(\"cuda\" if torch.cuda.is_available() else \"cpu\")\n",
        "model.to(device)\n",
        "\n",
        "# 입력 프롬프트\n",
        "prompt =\"저희 회사가 당신을 뽑아야 하는 이유를 설명하세요\"  # 텍스트 생성 시작 문장\n",
        "input_ids = tokenizer.encode(prompt, return_tensors=\"pt\").to(device)\n",
        "\n",
        "# 텍스트 생성\n",
        "output = model.generate(\n",
        "    input_ids,\n",
        "    max_length=250,             # 생성할 최대 길이\n",
        "    num_beams=5,               # 빔 서치 크기\n",
        "    no_repeat_ngram_size=2,    # 반복 방지\n",
        "    early_stopping=True,       # 적절히 멈춤\n",
        "    temperature=0.7            # 생성 다양성 제어 (0.7~1.0 추천)\n",
        ")\n",
        "\n",
        "# 결과 디코딩\n",
        "generated_text = tokenizer.decode(output[0], skip_special_tokens=True)\n",
        "print(\"Generated Text:\")\n",
        "print(generated_text)"
      ]
    },
    {
      "cell_type": "code",
      "execution_count": null,
      "id": "0cad0126",
      "metadata": {
        "id": "0cad0126",
        "papermill": {
          "duration": 0.064738,
          "end_time": "2024-11-17T15:08:13.809220",
          "exception": false,
          "start_time": "2024-11-17T15:08:13.744482",
          "status": "completed"
        },
        "tags": []
      },
      "outputs": [],
      "source": []
    },
    {
      "cell_type": "markdown",
      "id": "bd33bf70",
      "metadata": {
        "id": "bd33bf70",
        "papermill": {
          "duration": 0.058831,
          "end_time": "2024-11-17T15:08:13.931987",
          "exception": false,
          "start_time": "2024-11-17T15:08:13.873156",
          "status": "completed"
        },
        "tags": []
      },
      "source": []
    },
    {
      "cell_type": "code",
      "source": [
        "import pandas as pd\n",
        "\n",
        "def text_to_df(text):\n",
        "    # 문자열을 StringIO로 변환하여 read_csv로 읽기\n",
        "    from io import StringIO\n",
        "    df = pd.read_csv(StringIO(text), sep='\\t', index_col='Epoch')\n",
        "    return df\n",
        "\n",
        "# 사용 예시\n",
        "text = \"\"\"Epoch\tTraining Loss\tValidation Loss\tRouge1\tRouge2\tRougel\tMeteor\tBertscore F1\tBleu\tGen Len\n",
        "1\t2.360200\t2.632428\t1.183579\t0.009760\t1.183579\t4.785800\t64.123200\t0.183800\t100.973461\n",
        "2\t2.191800\t2.578747\t1.183394\t0.009700\t1.183394\t4.853100\t63.647800\t0.307700\t116.595564\n",
        "3\t2.081300\t2.570018\t1.183208\t0.009505\t1.183208\t4.913200\t64.748000\t0.069400\t79.803514\n",
        "4\t1.970700\t2.559250\t1.182955\t0.009374\t1.182955\t4.956000\t64.948800\t0.057600\t76.885996\n",
        "5\t1.904200\t2.567800\t1.181456\t0.009371\t1.181456\t4.963200\t65.104300\t0.037400\t70.689011\n",
        "6\t1.835900\t2.572062\t1.182884\t0.009527\t1.182884\t4.978500\t65.067000\t0.039500\t71.301022\"\"\"\n",
        "\n",
        "history_df = text_to_df(text)\n",
        "print(history_df)"
      ],
      "metadata": {
        "colab": {
          "base_uri": "https://localhost:8080/"
        },
        "id": "5OGVGK0XvG_6",
        "outputId": "9bf2e44f-ef0a-4b15-fcf6-ba5f6f062eec"
      },
      "id": "5OGVGK0XvG_6",
      "execution_count": null,
      "outputs": [
        {
          "output_type": "stream",
          "name": "stdout",
          "text": [
            "       Training Loss  Validation Loss    Rouge1    Rouge2    Rougel  Meteor  \\\n",
            "Epoch                                                                         \n",
            "1             2.3602         2.632428  1.183579  0.009760  1.183579  4.7858   \n",
            "2             2.1918         2.578747  1.183394  0.009700  1.183394  4.8531   \n",
            "3             2.0813         2.570018  1.183208  0.009505  1.183208  4.9132   \n",
            "4             1.9707         2.559250  1.182955  0.009374  1.182955  4.9560   \n",
            "5             1.9042         2.567800  1.181456  0.009371  1.181456  4.9632   \n",
            "6             1.8359         2.572062  1.182884  0.009527  1.182884  4.9785   \n",
            "\n",
            "       Bertscore F1    Bleu     Gen Len  \n",
            "Epoch                                    \n",
            "1           64.1232  0.1838  100.973461  \n",
            "2           63.6478  0.3077  116.595564  \n",
            "3           64.7480  0.0694   79.803514  \n",
            "4           64.9488  0.0576   76.885996  \n",
            "5           65.1043  0.0374   70.689011  \n",
            "6           65.0670  0.0395   71.301022  \n"
          ]
        }
      ]
    },
    {
      "cell_type": "code",
      "execution_count": null,
      "id": "b83358ce",
      "metadata": {
        "execution": {
          "iopub.execute_input": "2024-11-17T15:08:14.054903Z",
          "iopub.status.busy": "2024-11-17T15:08:14.054490Z",
          "iopub.status.idle": "2024-11-17T15:08:14.503416Z",
          "shell.execute_reply": "2024-11-17T15:08:14.502020Z"
        },
        "id": "b83358ce",
        "outputId": "a6160175-a154-4782-e032-c9946190a061",
        "papermill": {
          "duration": 0.513921,
          "end_time": "2024-11-17T15:08:14.505284",
          "exception": true,
          "start_time": "2024-11-17T15:08:13.991363",
          "status": "failed"
        },
        "tags": []
      },
      "outputs": [
        {
          "ename": "AttributeError",
          "evalue": "module 'torch' has no attribute 'cache'",
          "output_type": "error",
          "traceback": [
            "\u001b[0;31m---------------------------------------------------------------------------\u001b[0m",
            "\u001b[0;31mAttributeError\u001b[0m                            Traceback (most recent call last)",
            "Cell \u001b[0;32mIn[23], line 1\u001b[0m\n\u001b[0;32m----> 1\u001b[0m \u001b[43mtorch\u001b[49m\u001b[38;5;241;43m.\u001b[39;49m\u001b[43mcache\u001b[49m()\n",
            "File \u001b[0;32m/opt/conda/lib/python3.10/site-packages/torch/__init__.py:2216\u001b[0m, in \u001b[0;36m__getattr__\u001b[0;34m(name)\u001b[0m\n\u001b[1;32m   2213\u001b[0m     \u001b[38;5;28;01mimport\u001b[39;00m \u001b[38;5;21;01mimportlib\u001b[39;00m\n\u001b[1;32m   2214\u001b[0m     \u001b[38;5;28;01mreturn\u001b[39;00m importlib\u001b[38;5;241m.\u001b[39mimport_module(\u001b[38;5;124mf\u001b[39m\u001b[38;5;124m\"\u001b[39m\u001b[38;5;124m.\u001b[39m\u001b[38;5;132;01m{\u001b[39;00mname\u001b[38;5;132;01m}\u001b[39;00m\u001b[38;5;124m\"\u001b[39m, \u001b[38;5;18m__name__\u001b[39m)\n\u001b[0;32m-> 2216\u001b[0m \u001b[38;5;28;01mraise\u001b[39;00m \u001b[38;5;167;01mAttributeError\u001b[39;00m(\u001b[38;5;124mf\u001b[39m\u001b[38;5;124m\"\u001b[39m\u001b[38;5;124mmodule \u001b[39m\u001b[38;5;124m'\u001b[39m\u001b[38;5;132;01m{\u001b[39;00m\u001b[38;5;18m__name__\u001b[39m\u001b[38;5;132;01m}\u001b[39;00m\u001b[38;5;124m'\u001b[39m\u001b[38;5;124m has no attribute \u001b[39m\u001b[38;5;124m'\u001b[39m\u001b[38;5;132;01m{\u001b[39;00mname\u001b[38;5;132;01m}\u001b[39;00m\u001b[38;5;124m'\u001b[39m\u001b[38;5;124m\"\u001b[39m)\n",
            "\u001b[0;31mAttributeError\u001b[0m: module 'torch' has no attribute 'cache'"
          ]
        }
      ],
      "source": [
        "torch.cache()"
      ]
    },
    {
      "cell_type": "code",
      "execution_count": null,
      "id": "1c4e9f50",
      "metadata": {
        "execution": {
          "iopub.status.busy": "2024-11-17T03:29:07.280554Z",
          "iopub.status.idle": "2024-11-17T03:29:07.281178Z",
          "shell.execute_reply": "2024-11-17T03:29:07.280931Z",
          "shell.execute_reply.started": "2024-11-17T03:29:07.280904Z"
        },
        "papermill": {
          "duration": null,
          "end_time": null,
          "exception": null,
          "start_time": null,
          "status": "pending"
        },
        "tags": [],
        "id": "1c4e9f50"
      },
      "outputs": [],
      "source": [
        "# # 기존 trainer에서 학습 로그 가져오기\n",
        "# training_logs = trainer.state.log_history\n",
        "\n",
        "# # DataFrame으로 변환하여 보기 좋게 표시\n",
        "# import pandas as pd\n",
        "# history_df = pd.DataFrame(training_logs).reset_index()\n",
        "# print(\"\\nTraining history:\")\n",
        "# display(history_df)"
      ]
    },
    {
      "cell_type": "code",
      "execution_count": null,
      "id": "12149edc",
      "metadata": {
        "execution": {
          "iopub.status.busy": "2024-11-17T03:29:07.282582Z",
          "iopub.status.idle": "2024-11-17T03:29:07.283076Z",
          "shell.execute_reply": "2024-11-17T03:29:07.282839Z",
          "shell.execute_reply.started": "2024-11-17T03:29:07.282813Z"
        },
        "id": "12149edc",
        "outputId": "e58d8c52-ed30-4190-e2fa-33e0a4867654",
        "papermill": {
          "duration": null,
          "end_time": null,
          "exception": null,
          "start_time": null,
          "status": "pending"
        },
        "tags": [],
        "colab": {
          "base_uri": "https://localhost:8080/",
          "height": 1000
        }
      },
      "outputs": [
        {
          "output_type": "display_data",
          "data": {
            "text/plain": [
              "<Figure size 1500x1200 with 4 Axes>"
            ],
            "image/png": "[encoded data removed]"
          },
          "metadata": {}
        },
        {
          "output_type": "stream",
          "name": "stdout",
          "text": [
            "\n",
            "Final Metrics:\n",
            "Train Loss: 1.8359\n",
            "Validation Loss: 2.5721\n",
            "ROUGE-1: 1.1829\n",
            "ROUGE-2: 0.0095\n",
            "ROUGE-L: 1.1829\n",
            "METEOR: 4.9785\n",
            "BERTScore: 65.0670\n",
            "BLEU: 0.0395\n",
            "Generation Length: 71.3010\n"
          ]
        }
      ],
      "source": [
        "import matplotlib.pyplot as plt\n",
        "import numpy as np\n",
        "\n",
        "# nan 값을 제외하고 데이터 추출\n",
        "train_loss = history_df['Training Loss'].dropna().values\n",
        "eval_loss = history_df['Validation Loss'].dropna().values\n",
        "rouge1 = history_df['Rouge1'].dropna().values\n",
        "rouge2 = history_df['Rouge2'].dropna().values\n",
        "rougeL = history_df['Rougel'].dropna().values\n",
        "meteor = history_df['Meteor'].dropna().values\n",
        "bertscore = history_df['Bertscore F1'].dropna().values\n",
        "bleu = history_df['Bleu'].dropna().values\n",
        "gen_len = history_df['Gen Len'].dropna().values\n",
        "\n",
        "# 실제 데이터 개수에 맞춰 epochs 배열 생성\n",
        "epochs = np.arange(len(eval_loss))\n",
        "\n",
        "# 그래프 생성\n",
        "fig, ((ax1, ax2), (ax3, ax4)) = plt.subplots(2, 2, figsize=(15, 12))\n",
        "fig.suptitle('Training Metrics Overview', fontsize=16, y=1.02)\n",
        "\n",
        "# Loss plot\n",
        "ax1.plot(epochs, train_loss, 'b-', label='Training Loss', marker='o')\n",
        "ax1.plot(epochs, eval_loss, 'r-', label='Validation Loss', marker='o')\n",
        "ax1.set_title('Training and Validation Loss')\n",
        "ax1.set_xlabel('Epoch')\n",
        "ax1.set_ylabel('Loss')\n",
        "ax1.legend()\n",
        "ax1.grid(True, linestyle='--', alpha=0.7)\n",
        "\n",
        "# ROUGE scores over time\n",
        "ax2.plot(epochs, rouge1, 'b-', label='ROUGE-1', marker='o')\n",
        "ax2.plot(epochs, rouge2, 'r-', label='ROUGE-2', marker='o')\n",
        "ax2.plot(epochs, rougeL, 'g-', label='ROUGE-L', marker='o')\n",
        "ax2.set_title('ROUGE Scores')\n",
        "ax2.set_xlabel('Epoch')\n",
        "ax2.set_ylabel('Score')\n",
        "ax2.legend()\n",
        "ax2.grid(True, linestyle='--', alpha=0.7)\n",
        "\n",
        "# Other metrics\n",
        "ax3.plot(epochs, meteor, 'b-', label='METEOR', marker='o')\n",
        "ax3.plot(epochs, bertscore, 'r-', label='BERTScore F1', marker='o')\n",
        "ax3.plot(epochs, bleu, 'g-', label='BLEU', marker='o')\n",
        "ax3.set_title('Other Metrics')\n",
        "ax3.set_xlabel('Epoch')\n",
        "ax3.set_ylabel('Score')\n",
        "ax3.legend()\n",
        "ax3.grid(True, linestyle='--', alpha=0.7)\n",
        "\n",
        "# Generation length\n",
        "ax4.plot(epochs, gen_len, 'b-', label='Generation Length', marker='o')\n",
        "ax4.set_title('Generation Length')\n",
        "ax4.set_xlabel('Epoch')\n",
        "ax4.set_ylabel('Length')\n",
        "ax4.legend()\n",
        "ax4.grid(True, linestyle='--', alpha=0.7)\n",
        "\n",
        "plt.tight_layout()\n",
        "\n",
        "# 그래프 저장\n",
        "plt.savefig('training_metrics.png', dpi=300, bbox_inches='tight')\n",
        "plt.show()\n",
        "\n",
        "# 최종 결과값들 출력\n",
        "print(\"\\nFinal Metrics:\")\n",
        "print(f\"Train Loss: {train_loss[-1]:.4f}\")\n",
        "print(f\"Validation Loss: {eval_loss[-1]:.4f}\")\n",
        "print(f\"ROUGE-1: {rouge1[-1]:.4f}\")\n",
        "print(f\"ROUGE-2: {rouge2[-1]:.4f}\")\n",
        "print(f\"ROUGE-L: {rougeL[-1]:.4f}\")\n",
        "print(f\"METEOR: {meteor[-1]:.4f}\")\n",
        "print(f\"BERTScore: {bertscore[-1]:.4f}\")\n",
        "print(f\"BLEU: {bleu[-1]:.4f}\")\n",
        "print(f\"Generation Length: {gen_len[-1]:.4f}\")"
      ]
    },
    {
      "cell_type": "markdown",
      "id": "1e47a22f",
      "metadata": {
        "id": "1e47a22f",
        "papermill": {
          "duration": null,
          "end_time": null,
          "exception": null,
          "start_time": null,
          "status": "pending"
        },
        "tags": []
      },
      "source": []
    }
  ],
  "metadata": {
    "colab": {
      "provenance": [],
      "include_colab_link": true
    },
    "kaggle": {
      "accelerator": "nvidiaTeslaT4",
      "dataSources": [],
      "dockerImageVersionId": 30787,
      "isGpuEnabled": true,
      "isInternetEnabled": true,
      "language": "python",
      "sourceType": "notebook"
    },
    "kernelspec": {
      "display_name": "Python 3",
      "name": "python3"
    },
    "language_info": {
      "codemirror_mode": {
        "name": "ipython",
        "version": 3
      },
      "file_extension": ".py",
      "mimetype": "text/x-python",
      "name": "python",
      "nbconvert_exporter": "python",
      "pygments_lexer": "ipython3",
      "version": "3.10.14"
    },
    "papermill": {
      "default_parameters": {},
      "duration": 22153.986458,
      "end_time": "2024-11-17T15:08:18.352639",
      "environment_variables": {},
      "exception": true,
      "input_path": "__notebook__.ipynb",
      "output_path": "__notebook__.ipynb",
      "parameters": {},
      "start_time": "2024-11-17T08:59:04.366181",
      "version": "2.6.0"
    }
  },
  "nbformat": 4,
  "nbformat_minor": 5
}
