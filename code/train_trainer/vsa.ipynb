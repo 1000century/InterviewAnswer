{
  "cells": [
    {
      "cell_type": "markdown",
      "metadata": {
        "id": "view-in-github",
        "colab_type": "text"
      },
      "source": [
        "<a href=\"https://colab.research.google.com/github/1000century/likelion_proj2/blob/main/code/train/v9_veter_sum_ans.ipynb\" target=\"_parent\"><img src=\"https://colab.research.google.com/assets/colab-badge.svg\" alt=\"Open In Colab\"/></a>"
      ]
    },
    {
      "cell_type": "code",
      "execution_count": null,
      "id": "63a4e89f",
      "metadata": {
        "execution": {
          "iopub.execute_input": "2024-11-17T03:50:44.249516Z",
          "iopub.status.busy": "2024-11-17T03:50:44.248897Z",
          "iopub.status.idle": "2024-11-17T03:51:47.357175Z",
          "shell.execute_reply": "2024-11-17T03:51:47.356024Z"
        },
        "id": "63a4e89f",
        "outputId": "1e17f280-3007-482b-fc49-d2ba7d5df7ef",
        "papermill": {
          "duration": 63.157645,
          "end_time": "2024-11-17T03:51:47.359568",
          "exception": false,
          "start_time": "2024-11-17T03:50:44.201923",
          "status": "completed"
        },
        "tags": []
      },
      "outputs": [
        {
          "name": "stdout",
          "output_type": "stream",
          "text": [
            "Requirement already satisfied: nltk in /opt/conda/lib/python3.10/site-packages (3.2.4)\r\n",
            "Collecting nltk\r\n",
            "  Downloading nltk-3.9.1-py3-none-any.whl.metadata (2.9 kB)\r\n",
            "Requirement already satisfied: click in /opt/conda/lib/python3.10/site-packages (from nltk) (8.1.7)\r\n",
            "Requirement already satisfied: joblib in /opt/conda/lib/python3.10/site-packages (from nltk) (1.4.2)\r\n",
            "Requirement already satisfied: regex>=2021.8.3 in /opt/conda/lib/python3.10/site-packages (from nltk) (2024.5.15)\r\n",
            "Requirement already satisfied: tqdm in /opt/conda/lib/python3.10/site-packages (from nltk) (4.66.4)\r\n",
            "Downloading nltk-3.9.1-py3-none-any.whl (1.5 MB)\r\n",
            "\u001b[2K   \u001b[90m━━━━━━━━━━━━━━━━━━━━━━━━━━━━━━━━━━━━━━━━\u001b[0m \u001b[32m1.5/1.5 MB\u001b[0m \u001b[31m19.9 MB/s\u001b[0m eta \u001b[36m0:00:00\u001b[0m\r\n",
            "\u001b[?25hInstalling collected packages: nltk\r\n",
            "  Attempting uninstall: nltk\r\n",
            "    Found existing installation: nltk 3.2.4\r\n",
            "    Uninstalling nltk-3.2.4:\r\n",
            "      Successfully uninstalled nltk-3.2.4\r\n",
            "\u001b[31mERROR: pip's dependency resolver does not currently take into account all the packages that are installed. This behaviour is the source of the following dependency conflicts.\r\n",
            "preprocessing 0.1.13 requires nltk==3.2.4, but you have nltk 3.9.1 which is incompatible.\u001b[0m\u001b[31m\r\n",
            "\u001b[0mSuccessfully installed nltk-3.9.1\r\n"
          ]
        }
      ],
      "source": [
        "! pip install evaluate -qq\n",
        "! pip install datasets -qq\n",
        "! pip install bert_score -qq\n",
        "! pip install rouge-score -qq\n",
        "! pip install --upgrade nltk\n"
      ]
    },
    {
      "cell_type": "code",
      "execution_count": null,
      "id": "997eb67d",
      "metadata": {
        "execution": {
          "iopub.execute_input": "2024-11-17T03:51:47.449932Z",
          "iopub.status.busy": "2024-11-17T03:51:47.449547Z",
          "iopub.status.idle": "2024-11-17T03:51:47.454014Z",
          "shell.execute_reply": "2024-11-17T03:51:47.453211Z"
        },
        "id": "997eb67d",
        "papermill": {
          "duration": 0.051846,
          "end_time": "2024-11-17T03:51:47.455954",
          "exception": false,
          "start_time": "2024-11-17T03:51:47.404108",
          "status": "completed"
        },
        "tags": []
      },
      "outputs": [],
      "source": [
        "import gc"
      ]
    },
    {
      "cell_type": "code",
      "execution_count": null,
      "id": "86cdc1e6",
      "metadata": {
        "execution": {
          "iopub.execute_input": "2024-11-17T03:51:47.545265Z",
          "iopub.status.busy": "2024-11-17T03:51:47.544992Z",
          "iopub.status.idle": "2024-11-17T03:51:49.092939Z",
          "shell.execute_reply": "2024-11-17T03:51:49.092150Z"
        },
        "id": "86cdc1e6",
        "papermill": {
          "duration": 1.595629,
          "end_time": "2024-11-17T03:51:49.095274",
          "exception": false,
          "start_time": "2024-11-17T03:51:47.499645",
          "status": "completed"
        },
        "tags": []
      },
      "outputs": [],
      "source": [
        "from datasets import load_dataset, Dataset, DatasetDict\n",
        "import pandas as pd\n",
        "import json\n",
        "import os\n",
        "import zipfile\n",
        "from typing import List, Dict\n",
        "\n",
        "def flatten_json_data(data_list):\n",
        "    \"\"\"JSON 데이터를 평탄화하는 함수\"\"\"\n",
        "    return pd.json_normalize(\n",
        "        data_list,\n",
        "        sep='_',\n",
        "        record_path=None,\n",
        "        meta=[\n",
        "            'category',\n",
        "            'job_field',\n",
        "            'gender',\n",
        "            'experience',\n",
        "            ['version'],\n",
        "            ['dataSet', 'answer', 'raw', 'text'],\n",
        "            ['dataSet', 'answer', 'summary', 'text'],\n",
        "            ['dataSet', 'question', 'raw', 'text'],\n",
        "            ['dataSet', 'info', 'ageRange'],\n",
        "            ['dataSet', 'info', 'channel'],\n",
        "            ['dataSet', 'info', 'date'],\n",
        "            ['dataSet', 'info', 'experience'],\n",
        "            ['dataSet', 'info', 'gender'],\n",
        "            ['dataSet', 'info', 'occupation'],\n",
        "            ['dataSet', 'info', 'place'],\n",
        "            ['rawDataInfo', 'answer', 'audioPath'],\n",
        "            ['rawDataInfo', 'question', 'audioPath']\n",
        "        ]\n",
        "    )\n",
        "\n",
        "def download_and_extract(urls: List[str], base_path: str) -> None:\n",
        "    \"\"\"\n",
        "    URL 리스트에서 ZIP 파일을 다운로드하고 압축을 해제하는 함수\n",
        "    \"\"\"\n",
        "    os.makedirs(base_path, exist_ok=True)\n",
        "\n",
        "    for i, url in enumerate(urls):\n",
        "        zip_file_name = url.split(\"/\")[-1]\n",
        "        zip_file_path = os.path.join(\"/kaggle/working\", zip_file_name)\n",
        "        print(f'처리중... {i+1}: {zip_file_name}')\n",
        "\n",
        "        # wget을 사용하여 파일 다운로드\n",
        "        !wget -q {url} -O {zip_file_path}\n",
        "\n",
        "        # 압축 해제할 폴더 생성\n",
        "        subfolder_name = zip_file_name.replace('.zip', '')\n",
        "        subfolder_path = os.path.join(base_path, subfolder_name)\n",
        "        os.makedirs(subfolder_path, exist_ok=True)\n",
        "\n",
        "        # ZIP 파일 압축 해제\n",
        "        with zipfile.ZipFile(zip_file_path, 'r') as zip_ref:\n",
        "            zip_ref.extractall(subfolder_path)\n",
        "\n",
        "        # 다운로드한 ZIP 파일 삭제\n",
        "        os.remove(zip_file_path)\n",
        "\n",
        "def create_dataset_from_json_files(base_path: str) -> Dataset:\n",
        "    \"\"\"\n",
        "    주어진 경로에서 JSON 파일들을 읽어 Dataset으로 변환하는 함수\n",
        "    \"\"\"\n",
        "    all_data = []\n",
        "\n",
        "    for root, _, files in os.walk(base_path):\n",
        "        for file in files:\n",
        "            if file.endswith('.json'):\n",
        "                file_path = os.path.join(root, file)\n",
        "                try:\n",
        "                    with open(file_path, 'r', encoding='utf-8') as f:\n",
        "                        data = json.load(f)\n",
        "                        # 파일 경로에서 메타데이터 추출\n",
        "                        folder_name = os.path.basename(os.path.dirname(file_path))\n",
        "                        parts = folder_name.split('_')\n",
        "                        data.update({\n",
        "                            'category': parts[0],  # TL or VL\n",
        "                            'job_field': '_'.join(parts[1:-2]),\n",
        "                            'gender': parts[-2],\n",
        "                            'experience': parts[-1]\n",
        "                        })\n",
        "                        all_data.append(data)\n",
        "                except json.JSONDecodeError as e:\n",
        "                    print(f\"Error reading {file_path}: {e}\")\n",
        "\n",
        "    # JSON 데이터 평탄화\n",
        "    df = flatten_json_data(all_data)\n",
        "\n",
        "    # DataFrame을 Dataset으로 변환\n",
        "    return Dataset.from_pandas(df)\n",
        "\n",
        "def create_interview_dataset():\n",
        "    \"\"\"\n",
        "    인터뷰 데이터셋을 생성하고 DatasetDict로 반환하는 함수\n",
        "    \"\"\"\n",
        "    # 훈련 데이터 URL\n",
        "    train_urls = [\n",
        "        \"https://github.com/1000century/multi_lion/raw/main/interview/Training/TL_01.Management_Female_Experienced.zip\",\n",
        "        \"https://github.com/1000century/multi_lion/raw/main/interview/Training/TL_01.Management_Female_New.zip\",\n",
        "        \"https://github.com/1000century/multi_lion/raw/main/interview/Training/TL_01.Management_Male_Experienced.zip\",\n",
        "        \"https://github.com/1000century/multi_lion/raw/main/interview/Training/TL_01.Management_Male_New.zip\",\n",
        "        \"https://github.com/1000century/multi_lion/raw/main/interview/Training/TL_02.SalesMarketing_Female_Experienced.zip\",\n",
        "        \"https://github.com/1000century/multi_lion/raw/main/interview/Training/TL_02.SalesMarketing_Female_New.zip\",\n",
        "        \"https://github.com/1000century/multi_lion/raw/main/interview/Training/TL_02.SalesMarketing_Male_Experienced.zip\",\n",
        "        \"https://github.com/1000century/multi_lion/raw/main/interview/Training/TL_02.SalesMarketing_Male_New.zip\",\n",
        "        \"https://github.com/1000century/multi_lion/raw/main/interview/Training/TL_03.PublicService_Female_Experienced.zip\",\n",
        "        \"https://github.com/1000century/multi_lion/raw/main/interview/Training/TL_03.PublicService_Female_New.zip\",\n",
        "        \"https://github.com/1000century/multi_lion/raw/main/interview/Training/TL_03.PublicService_Male_Experienced.zip\",\n",
        "        \"https://github.com/1000century/multi_lion/raw/main/interview/Training/TL_03.PublicService_Male_New.zip\",\n",
        "        \"https://github.com/1000century/multi_lion/raw/main/interview/Training/TL_04.RND_Female_Experienced.zip\",\n",
        "        \"https://github.com/1000century/multi_lion/raw/main/interview/Training/TL_04.RND_Female_New.zip\",\n",
        "        \"https://github.com/1000century/multi_lion/raw/main/interview/Training/TL_04.RND_Male_Experienced.zip\",\n",
        "        \"https://github.com/1000century/multi_lion/raw/main/interview/Training/TL_04.RND_Male_New.zip\",\n",
        "        \"https://github.com/1000century/multi_lion/raw/main/interview/Training/TL_05.ICT_Female_Experienced.zip\",\n",
        "        \"https://github.com/1000century/multi_lion/raw/main/interview/Training/TL_05.ICT_Female_New.zip\",\n",
        "        \"https://github.com/1000century/multi_lion/raw/main/interview/Training/TL_05.ICT_Male_Experienced.zip\",\n",
        "        \"https://github.com/1000century/multi_lion/raw/main/interview/Training/TL_05.ICT_Male_New.zip\",\n",
        "        \"https://github.com/1000century/multi_lion/raw/main/interview/Training/TL_06.Design_Female_Experienced.zip\",\n",
        "        \"https://github.com/1000century/multi_lion/raw/main/interview/Training/TL_06.Design_Female_New.zip\",\n",
        "        \"https://github.com/1000century/multi_lion/raw/main/interview/Training/TL_06.Design_Male_Experienced.zip\",\n",
        "        \"https://github.com/1000century/multi_lion/raw/main/interview/Training/TL_06.Design_Male_New.zip\",\n",
        "        \"https://github.com/1000century/multi_lion/raw/main/interview/Training/TL_07.ProductionManufacturing_Female_Experienced.zip\",\n",
        "        \"https://github.com/1000century/multi_lion/raw/main/interview/Training/TL_07.ProductionManufacturing_Female_New.zip\",\n",
        "        \"https://github.com/1000century/multi_lion/raw/main/interview/Training/TL_07.ProductionManufacturing_Male_Experienced.zip\",\n",
        "        \"https://github.com/1000century/multi_lion/raw/main/interview/Training/TL_07.ProductionManufacturing_Male_New.zip\"\n",
        "    ]\n",
        "\n",
        "    # 검증 데이터 URL\n",
        "    valid_urls = [\n",
        "        \"https://github.com/1000century/multi_lion/raw/main/interview/Validation/VL_01.Management_Female_Experienced.zip\",\n",
        "        \"https://github.com/1000century/multi_lion/raw/main/interview/Validation/VL_01.Management_Female_New.zip\",\n",
        "        \"https://github.com/1000century/multi_lion/raw/main/interview/Validation/VL_01.Management_Male_Experienced.zip\",\n",
        "        \"https://github.com/1000century/multi_lion/raw/main/interview/Validation/VL_01.Management_Male_New.zip\",\n",
        "        \"https://github.com/1000century/multi_lion/raw/main/interview/Validation/VL_02.SalesMarketing_Female_Experienced.zip\",\n",
        "        \"https://github.com/1000century/multi_lion/raw/main/interview/Validation/VL_02.SalesMarketing_Female_New.zip\",\n",
        "        \"https://github.com/1000century/multi_lion/raw/main/interview/Validation/VL_02.SalesMarketing_Male_Experienced.zip\",\n",
        "        \"https://github.com/1000century/multi_lion/raw/main/interview/Validation/VL_02.SalesMarketing_Male_New.zip\",\n",
        "        \"https://github.com/1000century/multi_lion/raw/main/interview/Validation/VL_03.PublicService_Female_Experienced.zip\",\n",
        "        \"https://github.com/1000century/multi_lion/raw/main/interview/Validation/VL_03.PublicService_Female_New.zip\",\n",
        "        \"https://github.com/1000century/multi_lion/raw/main/interview/Validation/VL_03.PublicService_Male_Experienced.zip\",\n",
        "        \"https://github.com/1000century/multi_lion/raw/main/interview/Validation/VL_03.PublicService_Male_New.zip\",\n",
        "        \"https://github.com/1000century/multi_lion/raw/main/interview/Validation/VL_04.RND_Female_Experienced.zip\",\n",
        "        \"https://github.com/1000century/multi_lion/raw/main/interview/Validation/VL_04.RND_Female_New.zip\",\n",
        "        \"https://github.com/1000century/multi_lion/raw/main/interview/Validation/VL_04.RND_Male_Experienced.zip\",\n",
        "        \"https://github.com/1000century/multi_lion/raw/main/interview/Validation/VL_04.RND_Male_New.zip\",\n",
        "        \"https://github.com/1000century/multi_lion/raw/main/interview/Validation/VL_05.ICT_Female_Experienced.zip\",\n",
        "        \"https://github.com/1000century/multi_lion/raw/main/interview/Validation/VL_05.ICT_Female_New.zip\",\n",
        "        \"https://github.com/1000century/multi_lion/raw/main/interview/Validation/VL_05.ICT_Male_Experienced.zip\",\n",
        "        \"https://github.com/1000century/multi_lion/raw/main/interview/Validation/VL_05.ICT_Male_New.zip\",\n",
        "        \"https://github.com/1000century/multi_lion/raw/main/interview/Validation/VL_06.Design_Female_Experienced.zip\",\n",
        "        \"https://github.com/1000century/multi_lion/raw/main/interview/Validation/VL_06.Design_Female_New.zip\",\n",
        "        \"https://github.com/1000century/multi_lion/raw/main/interview/Validation/VL_06.Design_Male_Experienced.zip\",\n",
        "        \"https://github.com/1000century/multi_lion/raw/main/interview/Validation/VL_06.Design_Male_New.zip\",\n",
        "        \"https://github.com/1000century/multi_lion/raw/main/interview/Validation/VL_07.ProductionManufacturing_Female_Experienced.zip\",\n",
        "        \"https://github.com/1000century/multi_lion/raw/main/interview/Validation/VL_07.ProductionManufacturing_Female_New.zip\",\n",
        "        \"https://github.com/1000century/multi_lion/raw/main/interview/Validation/VL_07.ProductionManufacturing_Male_Experienced.zip\",\n",
        "        \"https://github.com/1000century/multi_lion/raw/main/interview/Validation/VL_07.ProductionManufacturing_Male_New.zip\"\n",
        "    ]\n",
        "\n",
        "    # 데이터 다운로드 및 압축 해제\n",
        "    train_path = '/kaggle/working/train_unzipped'\n",
        "    valid_path = '/kaggle/working/validation_unzipped'\n",
        "\n",
        "    download_and_extract(train_urls, train_path)\n",
        "    download_and_extract(valid_urls, valid_path)\n",
        "\n",
        "    # 데이터셋 생성\n",
        "    train_dataset = create_dataset_from_json_files(train_path)\n",
        "    valid_dataset = create_dataset_from_json_files(valid_path)\n",
        "\n",
        "    # DatasetDict 생성\n",
        "    dataset_dict = DatasetDict({\n",
        "        'train': train_dataset,\n",
        "        'validation': valid_dataset\n",
        "    })\n",
        "\n",
        "    return dataset_dict"
      ]
    },
    {
      "cell_type": "code",
      "execution_count": null,
      "id": "ebb3596c",
      "metadata": {
        "execution": {
          "iopub.execute_input": "2024-11-17T03:51:49.184953Z",
          "iopub.status.busy": "2024-11-17T03:51:49.184507Z",
          "iopub.status.idle": "2024-11-17T03:54:00.607860Z",
          "shell.execute_reply": "2024-11-17T03:54:00.606844Z"
        },
        "id": "ebb3596c",
        "outputId": "82aaf9cb-85fe-4809-f6d0-a24b13364119",
        "papermill": {
          "duration": 131.470344,
          "end_time": "2024-11-17T03:54:00.609985",
          "exception": false,
          "start_time": "2024-11-17T03:51:49.139641",
          "status": "completed"
        },
        "tags": []
      },
      "outputs": [
        {
          "name": "stdout",
          "output_type": "stream",
          "text": [
            "처리중... 1: TL_01.Management_Female_Experienced.zip\n",
            "처리중... 2: TL_01.Management_Female_New.zip\n",
            "처리중... 3: TL_01.Management_Male_Experienced.zip\n",
            "처리중... 4: TL_01.Management_Male_New.zip\n",
            "처리중... 5: TL_02.SalesMarketing_Female_Experienced.zip\n",
            "처리중... 6: TL_02.SalesMarketing_Female_New.zip\n",
            "처리중... 7: TL_02.SalesMarketing_Male_Experienced.zip\n",
            "처리중... 8: TL_02.SalesMarketing_Male_New.zip\n",
            "처리중... 9: TL_03.PublicService_Female_Experienced.zip\n",
            "처리중... 10: TL_03.PublicService_Female_New.zip\n",
            "처리중... 11: TL_03.PublicService_Male_Experienced.zip\n",
            "처리중... 12: TL_03.PublicService_Male_New.zip\n",
            "처리중... 13: TL_04.RND_Female_Experienced.zip\n",
            "처리중... 14: TL_04.RND_Female_New.zip\n",
            "처리중... 15: TL_04.RND_Male_Experienced.zip\n",
            "처리중... 16: TL_04.RND_Male_New.zip\n",
            "처리중... 17: TL_05.ICT_Female_Experienced.zip\n",
            "처리중... 18: TL_05.ICT_Female_New.zip\n",
            "처리중... 19: TL_05.ICT_Male_Experienced.zip\n",
            "처리중... 20: TL_05.ICT_Male_New.zip\n",
            "처리중... 21: TL_06.Design_Female_Experienced.zip\n",
            "처리중... 22: TL_06.Design_Female_New.zip\n",
            "처리중... 23: TL_06.Design_Male_Experienced.zip\n",
            "처리중... 24: TL_06.Design_Male_New.zip\n",
            "처리중... 25: TL_07.ProductionManufacturing_Female_Experienced.zip\n",
            "처리중... 26: TL_07.ProductionManufacturing_Female_New.zip\n",
            "처리중... 27: TL_07.ProductionManufacturing_Male_Experienced.zip\n",
            "처리중... 28: TL_07.ProductionManufacturing_Male_New.zip\n",
            "처리중... 1: VL_01.Management_Female_Experienced.zip\n",
            "처리중... 2: VL_01.Management_Female_New.zip\n",
            "처리중... 3: VL_01.Management_Male_Experienced.zip\n",
            "처리중... 4: VL_01.Management_Male_New.zip\n",
            "처리중... 5: VL_02.SalesMarketing_Female_Experienced.zip\n",
            "처리중... 6: VL_02.SalesMarketing_Female_New.zip\n",
            "처리중... 7: VL_02.SalesMarketing_Male_Experienced.zip\n",
            "처리중... 8: VL_02.SalesMarketing_Male_New.zip\n",
            "처리중... 9: VL_03.PublicService_Female_Experienced.zip\n",
            "처리중... 10: VL_03.PublicService_Female_New.zip\n",
            "처리중... 11: VL_03.PublicService_Male_Experienced.zip\n",
            "처리중... 12: VL_03.PublicService_Male_New.zip\n",
            "처리중... 13: VL_04.RND_Female_Experienced.zip\n",
            "처리중... 14: VL_04.RND_Female_New.zip\n",
            "처리중... 15: VL_04.RND_Male_Experienced.zip\n",
            "처리중... 16: VL_04.RND_Male_New.zip\n",
            "처리중... 17: VL_05.ICT_Female_Experienced.zip\n",
            "처리중... 18: VL_05.ICT_Female_New.zip\n",
            "처리중... 19: VL_05.ICT_Male_Experienced.zip\n",
            "처리중... 20: VL_05.ICT_Male_New.zip\n",
            "처리중... 21: VL_06.Design_Female_Experienced.zip\n",
            "처리중... 22: VL_06.Design_Female_New.zip\n",
            "처리중... 23: VL_06.Design_Male_Experienced.zip\n",
            "처리중... 24: VL_06.Design_Male_New.zip\n",
            "처리중... 25: VL_07.ProductionManufacturing_Female_Experienced.zip\n",
            "처리중... 26: VL_07.ProductionManufacturing_Female_New.zip\n",
            "처리중... 27: VL_07.ProductionManufacturing_Male_Experienced.zip\n",
            "처리중... 28: VL_07.ProductionManufacturing_Male_New.zip\n",
            "Error reading /kaggle/working/train_unzipped/TL_01.Management_Female_New/ckmk_d_bm_f_n_343176.json: Invalid control character at: line 23 column 433 (char 1029)\n",
            "Error reading /kaggle/working/train_unzipped/TL_01.Management_Female_New/ckmk_d_bm_f_n_178194.json: Invalid control character at: line 23 column 135 (char 755)\n",
            "Error reading /kaggle/working/train_unzipped/TL_01.Management_Female_New/ckmk_d_bm_f_n_269424.json: Invalid control character at: line 23 column 571 (char 1132)\n",
            "Error reading /kaggle/working/train_unzipped/TL_05.ICT_Male_New/ckmk_d_ict_m_n_337139.json: Expecting property name enclosed in double quotes: line 22 column 21 (char 576)\n",
            "Error reading /kaggle/working/validation_unzipped/VL_06.Design_Female_Experienced/ckmk_d_ard_f_e_66661.json: Invalid control character at: line 34 column 165 (char 1573)\n",
            "Error reading /kaggle/working/validation_unzipped/VL_01.Management_Female_New/ckmk_d_bm_f_n_161564.json: Invalid control character at: line 23 column 100 (char 688)\n",
            "\n",
            "Dataset Info:\n",
            "DatasetDict({\n",
            "    train: Dataset({\n",
            "        features: ['version', 'category', 'job_field', 'gender', 'experience', 'dataSet_info_date', 'dataSet_info_occupation', 'dataSet_info_channel', 'dataSet_info_place', 'dataSet_info_gender', 'dataSet_info_ageRange', 'dataSet_info_experience', 'dataSet_question_raw_text', 'dataSet_question_raw_wordCount', 'dataSet_question_emotion', 'dataSet_question_intent', 'dataSet_answer_raw_text', 'dataSet_answer_raw_wordCount', 'dataSet_answer_emotion', 'dataSet_answer_intent', 'dataSet_answer_summary_text', 'dataSet_answer_summary_wordCount', 'rawDataInfo_question_fileFormat', 'rawDataInfo_question_fileSize', 'rawDataInfo_question_duration', 'rawDataInfo_question_samplingBit', 'rawDataInfo_question_channelCount', 'rawDataInfo_question_samplingRate', 'rawDataInfo_question_audioPath', 'rawDataInfo_answer_fileFormat', 'rawDataInfo_answer_fileSize', 'rawDataInfo_answer_duration', 'rawDataInfo_answer_samplingBit', 'rawDataInfo_answer_channelCount', 'rawDataInfo_answer_samplingRate', 'rawDataInfo_answer_audioPath'],\n",
            "        num_rows: 68074\n",
            "    })\n",
            "    validation: Dataset({\n",
            "        features: ['version', 'category', 'job_field', 'gender', 'experience', 'dataSet_info_date', 'dataSet_info_occupation', 'dataSet_info_channel', 'dataSet_info_place', 'dataSet_info_gender', 'dataSet_info_ageRange', 'dataSet_info_experience', 'dataSet_question_raw_text', 'dataSet_question_raw_wordCount', 'dataSet_question_emotion', 'dataSet_question_intent', 'dataSet_answer_raw_text', 'dataSet_answer_raw_wordCount', 'dataSet_answer_emotion', 'dataSet_answer_intent', 'dataSet_answer_summary_text', 'dataSet_answer_summary_wordCount', 'rawDataInfo_question_fileFormat', 'rawDataInfo_question_fileSize', 'rawDataInfo_question_duration', 'rawDataInfo_question_samplingBit', 'rawDataInfo_question_channelCount', 'rawDataInfo_question_samplingRate', 'rawDataInfo_question_audioPath', 'rawDataInfo_answer_fileFormat', 'rawDataInfo_answer_fileSize', 'rawDataInfo_answer_duration', 'rawDataInfo_answer_samplingBit', 'rawDataInfo_answer_channelCount', 'rawDataInfo_answer_samplingRate', 'rawDataInfo_answer_audioPath'],\n",
            "        num_rows: 8026\n",
            "    })\n",
            "})\n",
            "\n",
            "Training Data Sample:\n",
            "{'version': '1.0', 'category': 'TL', 'job_field': '06.Design', 'gender': 'Male', 'experience': 'Experienced', 'dataSet_info_date': '20230116', 'dataSet_info_occupation': 'ARD', 'dataSet_info_channel': 'MOCK', 'dataSet_info_place': 'ONLINE', 'dataSet_info_gender': 'MALE', 'dataSet_info_ageRange': '35-44', 'dataSet_info_experience': 'EXPERIENCED', 'dataSet_question_raw_text': '이 직무에 지원한 이유가 무엇인지 말씀해 주시기 바랍니다 본인이 왜 적합한 인재인지도 설명해 주시기 바랍니다', 'dataSet_question_raw_wordCount': 15, 'dataSet_question_emotion': [], 'dataSet_question_intent': [], 'dataSet_answer_raw_text': '이유는 저는 여전히 기자이고 그리고 취재를 하고 싶고 그리고 제가 취재한 기사를 네 내보내 줄 회사가 필요하고 언론사가 필요하고 그래서 지원을 하게 되었고요. 이제 뭐 워낙에 음 그러니까 플랫폼은 많잖아요. 어떠한 정보를 알릴 수 있는 플랫폼 그 플랫폼 자체는 많지만 그래도 공신력 있는 플랫폼이 사람들에게 가장 빠르고 쉽게 다가갈 수 있으니까 무시 못하죠. 저부터도 그러는데요. 뭐 그래서 그거를 토대로 봤을 때 이 회사가 저에게 지금 가장 적합한 회사라고 생각을 해서 지원을 하게 되었고요. 저는 뭐 길다고 하기도 애매하고 짧다고 하기도 애매한 그냥 그냥 그런 그저 그런 정도의 경력을 지금 가지고 있는데 그럼에도 불구하고 어떤 신입 때의 그런 패기는 여전한 편이라고 자부해서요. 그래서 저는 이 정도 규모의 회사에서 적합한 인재라고 생각을 합니다 제가.', 'dataSet_answer_raw_wordCount': 112, 'dataSet_answer_emotion': [], 'dataSet_answer_intent': [{'category': 'etc', 'expression': 'c_sincere_job', 'text': '이유는 저는 여전히 기자이고 그리고 취재를 하고 싶고   그리고 제가 취재한 기사를 네 내보내 줄   회사가 필요하고 언론사가 필요하고 그래서 지원을 하게 되었고요.'}], 'dataSet_answer_summary_text': '저는 여전히 기자이고 취재 기사를 내보내 줄 회사와 언론사가 필요하기 때문에 지원을 하게 되었습니다. 공신력 있는 플랫폼이 사람들에게 빠르고 쉽게 다가갈 수 있기 때문에 저는 이 정도 규모의 회사에서 적합한 인재라고 생각합니다.', 'dataSet_answer_summary_wordCount': 32, 'rawDataInfo_question_fileFormat': 'wav', 'rawDataInfo_question_fileSize': 389838, 'rawDataInfo_question_duration': 12180, 'rawDataInfo_question_samplingBit': 16, 'rawDataInfo_question_channelCount': 1, 'rawDataInfo_question_samplingRate': '16kHz', 'rawDataInfo_question_audioPath': '/Mock/06.Design/Male/Experienced/ckmk_q_ard_m_e_160139.wav', 'rawDataInfo_answer_fileFormat': 'wav', 'rawDataInfo_answer_fileSize': 2789198, 'rawDataInfo_answer_duration': 87160, 'rawDataInfo_answer_samplingBit': 16, 'rawDataInfo_answer_channelCount': 1, 'rawDataInfo_answer_samplingRate': '16kHz', 'rawDataInfo_answer_audioPath': '/Mock/06.Design/Male/Experienced/ckmk_a_ard_m_e_160139.wav'}\n",
            "\n",
            "Validation Data Sample:\n",
            "{'version': '1.0', 'category': 'VL', 'job_field': '07.ProductionManufacturing', 'gender': 'Female', 'experience': 'Experienced', 'dataSet_info_date': '20230116', 'dataSet_info_occupation': 'MM', 'dataSet_info_channel': 'MOCK', 'dataSet_info_place': 'ONLINE', 'dataSet_info_gender': 'FEMALE', 'dataSet_info_ageRange': '55-', 'dataSet_info_experience': 'EXPERIENCED', 'dataSet_question_raw_text': '시간이 촉박한 상황이 생기면 어떻게 시간 관리를 하시나요 지원자님의 시간관리법이 궁금합니다', 'dataSet_question_raw_wordCount': 11, 'dataSet_question_emotion': [], 'dataSet_question_intent': [], 'dataSet_answer_raw_text': '어 저는 우선 그 촉박한 상황 안에서 촉박한 상황인 걸 알지만 그래도 꼭 해야 되는 것들을 분리를 분류를 하고요. 그다음에 거기서 우선순위를 둡니다. 음 사실 촉박하다면 꼭 그 당시에 안 해도 되는 것들이 분명히 있을 거기 때문에 그런 거는 최대한 스케줄을 뒤로 뺍니다. 네 지금 볼 필요가 없기 때문에 그런 것들은 두고 그다음에 이제 당장 처리해 두는 것들이 있으면 거기서부터 이제 일 순위는 뭐 이 순위는 뭐 일의 난이도라든가 아니면은 뭐 일과는 관계없이 꼭 오전 시간에 해야 되는 것 오후 시간 내야 되는 것 아니면 뭐 여러 가지 요인이 있죠. 뭐 어떤 물건이 있으면 그 물건의 상태에 따른 뭐 순서라든지 이런 식으로 분리를 분류를 하는 편이고요. 뭐 당연하게 그리고 거기에는 제 컨디션 여부도 굉장히 중요하구요. 그래서 조금 크게 분류를 먼저 한 다음에 세세하게 하나하나 디테일한 분류를 순서대로 하면서 플랜을 짜는 편입니다.', 'dataSet_answer_raw_wordCount': 131, 'dataSet_answer_emotion': [], 'dataSet_answer_intent': [{'category': 'attitude', 'expression': '', 'text': ''}], 'dataSet_answer_summary_text': '저는 촉박한 상황 속에서도 꼭 해야 되는 것들을 분류하고 우선순위를 둡니다. 그다음 제 컨디션도 굉장히 중요하기 때문에 조금 크게 분류를 한 다음에 세세하게 하나하나 세부적인 분류를 순서대로 하면서 플랜을 짜는 편입니다.', 'dataSet_answer_summary_wordCount': 31, 'rawDataInfo_question_fileFormat': 'wav', 'rawDataInfo_question_fileSize': 268878, 'rawDataInfo_question_duration': 8400, 'rawDataInfo_question_samplingBit': 16, 'rawDataInfo_question_channelCount': 1, 'rawDataInfo_question_samplingRate': '16kHz', 'rawDataInfo_question_audioPath': '/Mock/07.ProductionManufacturing/Female/Experienced/ckmk_q_mm_f_e_111851.wav', 'rawDataInfo_answer_fileFormat': 'wav', 'rawDataInfo_answer_fileSize': 2886478, 'rawDataInfo_answer_duration': 90200, 'rawDataInfo_answer_samplingBit': 16, 'rawDataInfo_answer_channelCount': 1, 'rawDataInfo_answer_samplingRate': '16kHz', 'rawDataInfo_answer_audioPath': '/Mock/07.ProductionManufacturing/Female/Experienced/ckmk_a_mm_f_e_111851.wav'}\n"
          ]
        }
      ],
      "source": [
        "# 데이터셋 생성\n",
        "dataset = create_interview_dataset()\n",
        "\n",
        "# 데이터셋 정보 출력\n",
        "print(\"\\nDataset Info:\")\n",
        "print(dataset)\n",
        "\n",
        "# 훈련 데이터 샘플 확인\n",
        "print(\"\\nTraining Data Sample:\")\n",
        "print(dataset['train'][0])\n",
        "\n",
        "# 검증 데이터 샘플 확인\n",
        "print(\"\\nValidation Data Sample:\")\n",
        "print(dataset['validation'][0])\n",
        "\n",
        "# 데이터셋을 로컬이나 HuggingFace Hub에 저장하기\n",
        "# dataset.save_to_disk(\"path/to/local/directory\")  # 로컬에 저장\n",
        "# dataset.push_to_hub(\"username/dataset-name\")     # HuggingFace Hub에 업로드"
      ]
    },
    {
      "cell_type": "code",
      "execution_count": null,
      "id": "4cfe6093",
      "metadata": {
        "execution": {
          "iopub.execute_input": "2024-11-17T03:54:00.708479Z",
          "iopub.status.busy": "2024-11-17T03:54:00.708127Z",
          "iopub.status.idle": "2024-11-17T03:54:18.077502Z",
          "shell.execute_reply": "2024-11-17T03:54:18.076729Z"
        },
        "id": "4cfe6093",
        "papermill": {
          "duration": 17.42086,
          "end_time": "2024-11-17T03:54:18.079802",
          "exception": false,
          "start_time": "2024-11-17T03:54:00.658942",
          "status": "completed"
        },
        "tags": []
      },
      "outputs": [],
      "source": [
        "from transformers import (\n",
        "    AutoTokenizer,\n",
        "    AutoModelForSequenceClassification,\n",
        "    TrainingArguments,\n",
        "    Trainer,\n",
        "    DataCollatorWithPadding\n",
        ")\n",
        "from datasets import load_dataset\n",
        "import numpy as np"
      ]
    },
    {
      "cell_type": "code",
      "execution_count": null,
      "id": "68ec770f",
      "metadata": {
        "execution": {
          "iopub.execute_input": "2024-11-17T03:54:18.179482Z",
          "iopub.status.busy": "2024-11-17T03:54:18.178860Z",
          "iopub.status.idle": "2024-11-17T03:54:19.060267Z",
          "shell.execute_reply": "2024-11-17T03:54:19.059303Z"
        },
        "id": "68ec770f",
        "outputId": "8b8974d5-e26d-441c-da9d-cb059c89b8a4",
        "papermill": {
          "duration": 0.933391,
          "end_time": "2024-11-17T03:54:19.062495",
          "exception": false,
          "start_time": "2024-11-17T03:54:18.129104",
          "status": "completed"
        },
        "tags": [],
        "colab": {
          "referenced_widgets": [
            "476cc918f6434f158c9128ecf56e4cf9",
            "3e86a889b5c64f13a13a5523a4a2f085"
          ]
        }
      },
      "outputs": [
        {
          "data": {
            "application/vnd.jupyter.widget-view+json": {
              "model_id": "476cc918f6434f158c9128ecf56e4cf9",
              "version_major": 2,
              "version_minor": 0
            },
            "text/plain": [
              "tokenizer.json:   0%|          | 0.00/2.83M [00:00<?, ?B/s]"
            ]
          },
          "metadata": {},
          "output_type": "display_data"
        },
        {
          "data": {
            "application/vnd.jupyter.widget-view+json": {
              "model_id": "3e86a889b5c64f13a13a5523a4a2f085",
              "version_major": 2,
              "version_minor": 0
            },
            "text/plain": [
              "config.json:   0%|          | 0.00/1.00k [00:00<?, ?B/s]"
            ]
          },
          "metadata": {},
          "output_type": "display_data"
        },
        {
          "name": "stderr",
          "output_type": "stream",
          "text": [
            "The tokenizer class you load from this checkpoint is not the same type as the class this function is called from. It may result in unexpected tokenization. \n",
            "The tokenizer class you load from this checkpoint is 'GPT2Tokenizer'. \n",
            "The class this function is called from is 'PreTrainedTokenizerFast'.\n",
            "/opt/conda/lib/python3.10/site-packages/transformers/tokenization_utils_base.py:1617: FutureWarning: `clean_up_tokenization_spaces` was not set. It will be set to `True` by default. This behavior will be deprecated in transformers v4.45, and will be then set to `False` by default. For more details check this issue: https://github.com/huggingface/transformers/issues/31884\n",
            "  warnings.warn(\n"
          ]
        }
      ],
      "source": [
        "from transformers import PreTrainedTokenizerFast\n",
        "tokenizer = PreTrainedTokenizerFast.from_pretrained(\n",
        "    \"skt/kogpt2-base-v2\",\n",
        "    bos_token='</s>',\n",
        "    eos_token='</s>',\n",
        "    unk_token='<unk>',\n",
        "    pad_token='<pad>',\n",
        "    mask_token='<mask>'\n",
        ")"
      ]
    },
    {
      "cell_type": "code",
      "execution_count": null,
      "id": "3ec7169f",
      "metadata": {
        "execution": {
          "iopub.execute_input": "2024-11-17T03:54:19.162202Z",
          "iopub.status.busy": "2024-11-17T03:54:19.161417Z",
          "iopub.status.idle": "2024-11-17T03:54:19.170453Z",
          "shell.execute_reply": "2024-11-17T03:54:19.169628Z"
        },
        "id": "3ec7169f",
        "outputId": "4e5c787e-83c3-4b3e-e557-03bc2e11a5ac",
        "papermill": {
          "duration": 0.060583,
          "end_time": "2024-11-17T03:54:19.172345",
          "exception": false,
          "start_time": "2024-11-17T03:54:19.111762",
          "status": "completed"
        },
        "tags": []
      },
      "outputs": [
        {
          "data": {
            "text/plain": [
              "{'version': '1.0',\n",
              " 'category': 'TL',\n",
              " 'job_field': '06.Design',\n",
              " 'gender': 'Male',\n",
              " 'experience': 'Experienced',\n",
              " 'dataSet_info_date': '20230116',\n",
              " 'dataSet_info_occupation': 'ARD',\n",
              " 'dataSet_info_channel': 'MOCK',\n",
              " 'dataSet_info_place': 'ONLINE',\n",
              " 'dataSet_info_gender': 'MALE',\n",
              " 'dataSet_info_ageRange': '35-44',\n",
              " 'dataSet_info_experience': 'EXPERIENCED',\n",
              " 'dataSet_question_raw_text': '이 직무에 지원한 이유가 무엇인지 말씀해 주시기 바랍니다 본인이 왜 적합한 인재인지도 설명해 주시기 바랍니다',\n",
              " 'dataSet_question_raw_wordCount': 15,\n",
              " 'dataSet_question_emotion': [],\n",
              " 'dataSet_question_intent': [],\n",
              " 'dataSet_answer_raw_text': '이유는 저는 여전히 기자이고 그리고 취재를 하고 싶고 그리고 제가 취재한 기사를 네 내보내 줄 회사가 필요하고 언론사가 필요하고 그래서 지원을 하게 되었고요. 이제 뭐 워낙에 음 그러니까 플랫폼은 많잖아요. 어떠한 정보를 알릴 수 있는 플랫폼 그 플랫폼 자체는 많지만 그래도 공신력 있는 플랫폼이 사람들에게 가장 빠르고 쉽게 다가갈 수 있으니까 무시 못하죠. 저부터도 그러는데요. 뭐 그래서 그거를 토대로 봤을 때 이 회사가 저에게 지금 가장 적합한 회사라고 생각을 해서 지원을 하게 되었고요. 저는 뭐 길다고 하기도 애매하고 짧다고 하기도 애매한 그냥 그냥 그런 그저 그런 정도의 경력을 지금 가지고 있는데 그럼에도 불구하고 어떤 신입 때의 그런 패기는 여전한 편이라고 자부해서요. 그래서 저는 이 정도 규모의 회사에서 적합한 인재라고 생각을 합니다 제가.',\n",
              " 'dataSet_answer_raw_wordCount': 112,\n",
              " 'dataSet_answer_emotion': [],\n",
              " 'dataSet_answer_intent': [{'category': 'etc',\n",
              "   'expression': 'c_sincere_job',\n",
              "   'text': '이유는 저는 여전히 기자이고 그리고 취재를 하고 싶고   그리고 제가 취재한 기사를 네 내보내 줄   회사가 필요하고 언론사가 필요하고 그래서 지원을 하게 되었고요.'}],\n",
              " 'dataSet_answer_summary_text': '저는 여전히 기자이고 취재 기사를 내보내 줄 회사와 언론사가 필요하기 때문에 지원을 하게 되었습니다. 공신력 있는 플랫폼이 사람들에게 빠르고 쉽게 다가갈 수 있기 때문에 저는 이 정도 규모의 회사에서 적합한 인재라고 생각합니다.',\n",
              " 'dataSet_answer_summary_wordCount': 32,\n",
              " 'rawDataInfo_question_fileFormat': 'wav',\n",
              " 'rawDataInfo_question_fileSize': 389838,\n",
              " 'rawDataInfo_question_duration': 12180,\n",
              " 'rawDataInfo_question_samplingBit': 16,\n",
              " 'rawDataInfo_question_channelCount': 1,\n",
              " 'rawDataInfo_question_samplingRate': '16kHz',\n",
              " 'rawDataInfo_question_audioPath': '/Mock/06.Design/Male/Experienced/ckmk_q_ard_m_e_160139.wav',\n",
              " 'rawDataInfo_answer_fileFormat': 'wav',\n",
              " 'rawDataInfo_answer_fileSize': 2789198,\n",
              " 'rawDataInfo_answer_duration': 87160,\n",
              " 'rawDataInfo_answer_samplingBit': 16,\n",
              " 'rawDataInfo_answer_channelCount': 1,\n",
              " 'rawDataInfo_answer_samplingRate': '16kHz',\n",
              " 'rawDataInfo_answer_audioPath': '/Mock/06.Design/Male/Experienced/ckmk_a_ard_m_e_160139.wav'}"
            ]
          },
          "execution_count": 7,
          "metadata": {},
          "output_type": "execute_result"
        }
      ],
      "source": [
        "dataset['train'][0]"
      ]
    },
    {
      "cell_type": "code",
      "execution_count": null,
      "id": "ca2dc3d4",
      "metadata": {
        "execution": {
          "iopub.execute_input": "2024-11-17T03:54:19.271912Z",
          "iopub.status.busy": "2024-11-17T03:54:19.271627Z",
          "iopub.status.idle": "2024-11-17T03:55:01.375495Z",
          "shell.execute_reply": "2024-11-17T03:55:01.374525Z"
        },
        "id": "ca2dc3d4",
        "outputId": "68c0f12a-d319-484d-8dae-dd9a7481e035",
        "papermill": {
          "duration": 42.156339,
          "end_time": "2024-11-17T03:55:01.377548",
          "exception": false,
          "start_time": "2024-11-17T03:54:19.221209",
          "status": "completed"
        },
        "tags": [],
        "colab": {
          "referenced_widgets": [
            "81c1acd7ccd84d22a0a3a9bd5716e4e3",
            "a480bc3de1a8488d87ac10083a49ed1d"
          ]
        }
      },
      "outputs": [
        {
          "data": {
            "application/vnd.jupyter.widget-view+json": {
              "model_id": "81c1acd7ccd84d22a0a3a9bd5716e4e3",
              "version_major": 2,
              "version_minor": 0
            },
            "text/plain": [
              "Map:   0%|          | 0/68074 [00:00<?, ? examples/s]"
            ]
          },
          "metadata": {},
          "output_type": "display_data"
        },
        {
          "data": {
            "application/vnd.jupyter.widget-view+json": {
              "model_id": "a480bc3de1a8488d87ac10083a49ed1d",
              "version_major": 2,
              "version_minor": 0
            },
            "text/plain": [
              "Map:   0%|          | 0/8026 [00:00<?, ? examples/s]"
            ]
          },
          "metadata": {},
          "output_type": "display_data"
        }
      ],
      "source": [
        "def preprocess_training_examples(examples):\n",
        "    max_length=256\n",
        "    formatted_inputs = [\n",
        "        f\"</s> 경력상태: {'신입' if v == 'NEW' else '경력직'} 질문: {q} 답변: {a} </s>\"\n",
        "        for v,q,a in zip(examples[\"dataSet_info_experience\"],examples[\"dataSet_answer_summary_text\"],examples[\"dataSet_answer_raw_text\"])\n",
        "    ]\n",
        "    inputs = tokenizer(\n",
        "        formatted_inputs,\n",
        "        max_length=max_length,\n",
        "        truncation= True,\n",
        "        padding=\"max_length\",\n",
        "        return_tensors=\"pt\"\n",
        "    )\n",
        "\n",
        "    labels = inputs['input_ids'].clone()\n",
        "    labels[labels==tokenizer.pad_token_id] = -100\n",
        "    inputs['labels'] = labels\n",
        "    return inputs\n",
        "\n",
        "\n",
        "train_dataset = dataset['train'].map(\n",
        "    preprocess_training_examples,\n",
        "    batched=True,\n",
        "    remove_columns=dataset['train'].column_names,\n",
        "    load_from_cache_file=False  # 이 옵션 추가\n",
        ")\n",
        "\n",
        "val_dataset = dataset['validation'].map(\n",
        "    preprocess_training_examples,\n",
        "    batched=True,\n",
        "    remove_columns=dataset['validation'].column_names,\n",
        "    load_from_cache_file=False  # 이 옵션 추가\n",
        ")"
      ]
    },
    {
      "cell_type": "code",
      "execution_count": null,
      "id": "733f0f11",
      "metadata": {
        "id": "733f0f11",
        "papermill": {
          "duration": 0.049136,
          "end_time": "2024-11-17T03:55:01.478147",
          "exception": false,
          "start_time": "2024-11-17T03:55:01.429011",
          "status": "completed"
        },
        "tags": []
      },
      "outputs": [],
      "source": []
    },
    {
      "cell_type": "code",
      "execution_count": null,
      "id": "f07bca7a",
      "metadata": {
        "execution": {
          "iopub.execute_input": "2024-11-17T03:55:01.578734Z",
          "iopub.status.busy": "2024-11-17T03:55:01.577988Z",
          "iopub.status.idle": "2024-11-17T03:55:01.583206Z",
          "shell.execute_reply": "2024-11-17T03:55:01.582328Z"
        },
        "id": "f07bca7a",
        "outputId": "633a5b10-490b-4492-dae4-6028ac26e3db",
        "papermill": {
          "duration": 0.057481,
          "end_time": "2024-11-17T03:55:01.585294",
          "exception": false,
          "start_time": "2024-11-17T03:55:01.527813",
          "status": "completed"
        },
        "tags": []
      },
      "outputs": [
        {
          "name": "stdout",
          "output_type": "stream",
          "text": [
            "68074\n",
            "68074\n",
            "8026\n"
          ]
        }
      ],
      "source": [
        "print(len(train_dataset))\n",
        "# # 코드 잘 돌아가는지 확인 위해 train_dataset 임의로 매우 적은 개수로 샘플링\n",
        "# from torch.utils.data import Subset\n",
        "# train_dataset = Subset(train_dataset, indices=range(40))\n",
        "# val_dataset = Subset(val_dataset, indices=range(80))\n",
        "print(len(train_dataset))\n",
        "print(len(val_dataset))"
      ]
    },
    {
      "cell_type": "markdown",
      "id": "8f5500c6",
      "metadata": {
        "id": "8f5500c6",
        "papermill": {
          "duration": 0.049422,
          "end_time": "2024-11-17T03:55:01.683843",
          "exception": false,
          "start_time": "2024-11-17T03:55:01.634421",
          "status": "completed"
        },
        "tags": []
      },
      "source": [
        "# Model"
      ]
    },
    {
      "cell_type": "code",
      "execution_count": null,
      "id": "66c98b4b",
      "metadata": {
        "id": "66c98b4b",
        "papermill": {
          "duration": 0.050601,
          "end_time": "2024-11-17T03:55:01.784950",
          "exception": false,
          "start_time": "2024-11-17T03:55:01.734349",
          "status": "completed"
        },
        "tags": []
      },
      "outputs": [],
      "source": []
    },
    {
      "cell_type": "code",
      "execution_count": null,
      "id": "f3ed061f",
      "metadata": {
        "execution": {
          "iopub.execute_input": "2024-11-17T03:55:01.886565Z",
          "iopub.status.busy": "2024-11-17T03:55:01.885849Z",
          "iopub.status.idle": "2024-11-17T03:55:06.170451Z",
          "shell.execute_reply": "2024-11-17T03:55:06.169538Z"
        },
        "id": "f3ed061f",
        "outputId": "19a599a2-309c-4547-85e9-d2456a32a0b4",
        "papermill": {
          "duration": 4.33726,
          "end_time": "2024-11-17T03:55:06.172651",
          "exception": false,
          "start_time": "2024-11-17T03:55:01.835391",
          "status": "completed"
        },
        "tags": [],
        "colab": {
          "referenced_widgets": [
            "e6347f4184784e84a4ff22bf0852a933"
          ]
        }
      },
      "outputs": [
        {
          "data": {
            "application/vnd.jupyter.widget-view+json": {
              "model_id": "e6347f4184784e84a4ff22bf0852a933",
              "version_major": 2,
              "version_minor": 0
            },
            "text/plain": [
              "pytorch_model.bin:   0%|          | 0.00/513M [00:00<?, ?B/s]"
            ]
          },
          "metadata": {},
          "output_type": "display_data"
        },
        {
          "data": {
            "text/plain": [
              "GPT2LMHeadModel(\n",
              "  (transformer): GPT2Model(\n",
              "    (wte): Embedding(51200, 768)\n",
              "    (wpe): Embedding(1024, 768)\n",
              "    (drop): Dropout(p=0.1, inplace=False)\n",
              "    (h): ModuleList(\n",
              "      (0-11): 12 x GPT2Block(\n",
              "        (ln_1): LayerNorm((768,), eps=1e-05, elementwise_affine=True)\n",
              "        (attn): GPT2SdpaAttention(\n",
              "          (c_attn): Conv1D(nf=2304, nx=768)\n",
              "          (c_proj): Conv1D(nf=768, nx=768)\n",
              "          (attn_dropout): Dropout(p=0.1, inplace=False)\n",
              "          (resid_dropout): Dropout(p=0.1, inplace=False)\n",
              "        )\n",
              "        (ln_2): LayerNorm((768,), eps=1e-05, elementwise_affine=True)\n",
              "        (mlp): GPT2MLP(\n",
              "          (c_fc): Conv1D(nf=3072, nx=768)\n",
              "          (c_proj): Conv1D(nf=768, nx=3072)\n",
              "          (act): NewGELUActivation()\n",
              "          (dropout): Dropout(p=0.1, inplace=False)\n",
              "        )\n",
              "      )\n",
              "    )\n",
              "    (ln_f): LayerNorm((768,), eps=1e-05, elementwise_affine=True)\n",
              "  )\n",
              "  (lm_head): Linear(in_features=768, out_features=51200, bias=False)\n",
              ")"
            ]
          },
          "execution_count": 10,
          "metadata": {},
          "output_type": "execute_result"
        }
      ],
      "source": [
        "import torch\n",
        "from transformers import GPT2LMHeadModel, PreTrainedTokenizerFast\n",
        "\n",
        "model = GPT2LMHeadModel.from_pretrained('skt/kogpt2-base-v2')\n",
        "device = torch.device('cuda' if torch.cuda.is_available() else 'cpu')\n",
        "model.to(device)"
      ]
    },
    {
      "cell_type": "code",
      "execution_count": null,
      "id": "e43dfcf5",
      "metadata": {
        "execution": {
          "iopub.execute_input": "2024-11-17T03:55:06.276639Z",
          "iopub.status.busy": "2024-11-17T03:55:06.275872Z",
          "iopub.status.idle": "2024-11-17T03:55:06.280975Z",
          "shell.execute_reply": "2024-11-17T03:55:06.280098Z"
        },
        "id": "e43dfcf5",
        "papermill": {
          "duration": 0.059095,
          "end_time": "2024-11-17T03:55:06.282958",
          "exception": false,
          "start_time": "2024-11-17T03:55:06.223863",
          "status": "completed"
        },
        "tags": []
      },
      "outputs": [],
      "source": [
        "import psutil\n",
        "import os\n",
        "\n",
        "def log_memory_usage():\n",
        "    process = psutil.Process(os.getpid())\n",
        "    print(f\"Current memory usage: {process.memory_info().rss / 1e6} MB\")\n"
      ]
    },
    {
      "cell_type": "code",
      "execution_count": null,
      "id": "233ae59c",
      "metadata": {
        "execution": {
          "iopub.execute_input": "2024-11-17T03:55:06.430412Z",
          "iopub.status.busy": "2024-11-17T03:55:06.429462Z",
          "iopub.status.idle": "2024-11-17T03:55:07.569925Z",
          "shell.execute_reply": "2024-11-17T03:55:07.569092Z"
        },
        "id": "233ae59c",
        "papermill": {
          "duration": 1.238067,
          "end_time": "2024-11-17T03:55:07.572205",
          "exception": false,
          "start_time": "2024-11-17T03:55:06.334138",
          "status": "completed"
        },
        "tags": []
      },
      "outputs": [],
      "source": [
        "from transformers import Trainer\n",
        "import evaluate"
      ]
    },
    {
      "cell_type": "code",
      "execution_count": null,
      "id": "bbf3b243",
      "metadata": {
        "execution": {
          "iopub.execute_input": "2024-11-17T03:55:07.675683Z",
          "iopub.status.busy": "2024-11-17T03:55:07.675068Z",
          "iopub.status.idle": "2024-11-17T03:55:10.451179Z",
          "shell.execute_reply": "2024-11-17T03:55:10.450482Z"
        },
        "id": "bbf3b243",
        "papermill": {
          "duration": 2.830059,
          "end_time": "2024-11-17T03:55:10.453006",
          "exception": false,
          "start_time": "2024-11-17T03:55:07.622947",
          "status": "completed"
        },
        "tags": [],
        "colab": {
          "referenced_widgets": [
            "3eb9e0759efa46249b05375cc86ada15",
            "004234a03c6c4e85af009a4ce5f3aaa0",
            "3a329cd51c554f8f94652e7a7609fe9e",
            "b429eddebfc4408886169e660ec8d9ba",
            "a00606d982c6490280adb1ffe2fcba4a"
          ]
        },
        "outputId": "5be64213-1944-4375-d1ff-ef817f659e23"
      },
      "outputs": [
        {
          "data": {
            "application/vnd.jupyter.widget-view+json": {
              "model_id": "3eb9e0759efa46249b05375cc86ada15",
              "version_major": 2,
              "version_minor": 0
            },
            "text/plain": [
              "Downloading builder script:   0%|          | 0.00/7.02k [00:00<?, ?B/s]"
            ]
          },
          "metadata": {},
          "output_type": "display_data"
        },
        {
          "name": "stderr",
          "output_type": "stream",
          "text": [
            "[nltk_data] Downloading package wordnet to /usr/share/nltk_data...\n",
            "[nltk_data]   Package wordnet is already up-to-date!\n",
            "[nltk_data] Downloading package punkt_tab to /usr/share/nltk_data...\n",
            "[nltk_data]   Unzipping tokenizers/punkt_tab.zip.\n",
            "[nltk_data] Downloading package omw-1.4 to /usr/share/nltk_data...\n"
          ]
        },
        {
          "data": {
            "application/vnd.jupyter.widget-view+json": {
              "model_id": "004234a03c6c4e85af009a4ce5f3aaa0",
              "version_major": 2,
              "version_minor": 0
            },
            "text/plain": [
              "Downloading builder script:   0%|          | 0.00/7.95k [00:00<?, ?B/s]"
            ]
          },
          "metadata": {},
          "output_type": "display_data"
        },
        {
          "data": {
            "application/vnd.jupyter.widget-view+json": {
              "model_id": "3a329cd51c554f8f94652e7a7609fe9e",
              "version_major": 2,
              "version_minor": 0
            },
            "text/plain": [
              "Downloading builder script:   0%|          | 0.00/5.94k [00:00<?, ?B/s]"
            ]
          },
          "metadata": {},
          "output_type": "display_data"
        },
        {
          "data": {
            "application/vnd.jupyter.widget-view+json": {
              "model_id": "b429eddebfc4408886169e660ec8d9ba",
              "version_major": 2,
              "version_minor": 0
            },
            "text/plain": [
              "Downloading extra modules:   0%|          | 0.00/1.55k [00:00<?, ?B/s]"
            ]
          },
          "metadata": {},
          "output_type": "display_data"
        },
        {
          "data": {
            "application/vnd.jupyter.widget-view+json": {
              "model_id": "a00606d982c6490280adb1ffe2fcba4a",
              "version_major": 2,
              "version_minor": 0
            },
            "text/plain": [
              "Downloading extra modules:   0%|          | 0.00/3.34k [00:00<?, ?B/s]"
            ]
          },
          "metadata": {},
          "output_type": "display_data"
        }
      ],
      "source": [
        "import evaluate\n",
        "import numpy as np\n",
        "import torch\n",
        "from rouge_score import rouge_scorer\n",
        "meteor = evaluate.load('meteor')\n",
        "bertscore = evaluate.load('bertscore')\n",
        "bleu = evaluate.load('bleu')\n",
        "\n",
        "def preprocess_logits_for_metrics(logits, labels):\n",
        "    if isinstance(logits, tuple):\n",
        "        logits = logits[0]\n",
        "    pred_ids = torch.argmax(logits, dim=-1)\n",
        "    return pred_ids, labels\n",
        "\n",
        "def compute_metrics(eval_pred):\n",
        "    predictions, labels = eval_pred\n",
        "    # Predictions 튜플 처리\n",
        "    print(\"\\n\", '='*50,\"\\nPredictions type:\", type(predictions))\n",
        "    if isinstance(predictions, tuple):\n",
        "        predictions = predictions[0]\n",
        "    # Predictions와 Labels를 numpy 배열로 변환\n",
        "    if isinstance(predictions, torch.Tensor):\n",
        "        print(\"Converting Predictions to numpy...\")\n",
        "        predictions = predictions.cpu().numpy()\n",
        "    if isinstance(labels, torch.Tensor):\n",
        "        print(\"Converting Labels to numpy...\")\n",
        "        labels = labels.cpu().numpy()\n",
        "\n",
        "    # Decode predictions and labels\n",
        "    print(\"Decoding predictions and labels...\")\n",
        "    labels = np.where(labels != -100, labels, tokenizer.pad_token_id if tokenizer.pad_token_id is not None else 0)\n",
        "    decoded_preds = tokenizer.batch_decode(predictions, skip_special_tokens=False)\n",
        "    decoded_labels = tokenizer.batch_decode(labels, skip_special_tokens=False)\n",
        "\n",
        "    # Post-processing\n",
        "    decoded_preds = [pred.strip() for pred in decoded_preds]\n",
        "    decoded_labels = [label.strip() for label in decoded_labels]\n",
        "    print(\"Decoded Predictions Sample:\\n\", decoded_preds[:3])\n",
        "    print(\"Decoded Labels Sample:\\n\", decoded_labels[:3])\n",
        "\n",
        "    # Calculate ROUGE metrics using rouge-score\n",
        "    print(\"Calculating ROUGE...\")\n",
        "    scorer = rouge_scorer.RougeScorer(['rouge1', 'rouge2', 'rougeL'], use_stemmer=True)\n",
        "    rouge_scores = {\n",
        "        'rouge1': [],\n",
        "        'rouge2': [],\n",
        "        'rougeL': []\n",
        "    }\n",
        "\n",
        "    for pred, label in zip(decoded_preds, decoded_labels):\n",
        "        if pred and label:  # 둘 다 비어있지 않은 경우만 계산\n",
        "            scores = scorer.score(label, pred)\n",
        "            rouge_scores['rouge1'].append(scores['rouge1'].fmeasure)\n",
        "            rouge_scores['rouge2'].append(scores['rouge2'].fmeasure)\n",
        "            rouge_scores['rougeL'].append(scores['rougeL'].fmeasure)\n",
        "\n",
        "    print(\"\\nROUGE scores details:\")\n",
        "    print(f\"Number of valid pairs: {len(rouge_scores['rouge1'])}\")\n",
        "    if rouge_scores['rouge1']:\n",
        "        print(f\"Sample ROUGE-1 scores: {rouge_scores['rouge1'][:5]}\")\n",
        "\n",
        "    rouge_result = {\n",
        "        'rouge1': np.mean(rouge_scores['rouge1']) * 100 if rouge_scores['rouge1'] else 0,\n",
        "        'rouge2': np.mean(rouge_scores['rouge2']) * 100 if rouge_scores['rouge2'] else 0,\n",
        "        'rougeL': np.mean(rouge_scores['rougeL']) * 100 if rouge_scores['rougeL'] else 0\n",
        "    }\n",
        "\n",
        "    # Calculate other metrics\n",
        "    print(\"Calculating METEOR...\")\n",
        "    meteor_result = meteor.compute(predictions=decoded_preds, references=decoded_labels)\n",
        "    print(\"METEOR result:\", meteor_result)\n",
        "\n",
        "    print(\"Calculating BERTScore...\")\n",
        "    bertscore_result = bertscore.compute(predictions=decoded_preds, references=decoded_labels, lang=\"ko\", device='cuda' if torch.cuda.is_available() else 'cpu')\n",
        "    print(\"BERTScore finished\")\n",
        "\n",
        "    print(\"Calculating BLEU...\")\n",
        "    bleu_result = bleu.compute(predictions=decoded_preds, references=decoded_labels)\n",
        "    print(\"BLEU result:\", bleu_result)\n",
        "\n",
        "    # Combine results\n",
        "    result = {\n",
        "        **rouge_result,\n",
        "        \"meteor\": round(meteor_result[\"meteor\"] * 100, 4),\n",
        "        \"bertscore_f1\": round(np.mean(bertscore_result[\"f1\"]) * 100, 4),\n",
        "        \"bleu\": round(bleu_result[\"bleu\"] * 100, 4)\n",
        "    }\n",
        "\n",
        "    print(\"Calculating generated length...\")\n",
        "    result['gen_len'] = np.mean([len(pred.split()) for pred in decoded_preds])\n",
        "    print(\"Final Metrics:\", result)\n",
        "\n",
        "    return result"
      ]
    },
    {
      "cell_type": "code",
      "execution_count": null,
      "id": "76956d1c",
      "metadata": {
        "execution": {
          "iopub.execute_input": "2024-11-17T03:55:10.556733Z",
          "iopub.status.busy": "2024-11-17T03:55:10.556385Z",
          "iopub.status.idle": "2024-11-17T03:55:10.596798Z",
          "shell.execute_reply": "2024-11-17T03:55:10.595913Z"
        },
        "id": "76956d1c",
        "outputId": "99acdf8c-d047-43d4-bb0b-4894abbec01c",
        "papermill": {
          "duration": 0.094192,
          "end_time": "2024-11-17T03:55:10.598835",
          "exception": false,
          "start_time": "2024-11-17T03:55:10.504643",
          "status": "completed"
        },
        "tags": []
      },
      "outputs": [
        {
          "name": "stderr",
          "output_type": "stream",
          "text": [
            "/opt/conda/lib/python3.10/site-packages/transformers/training_args.py:1545: FutureWarning: `evaluation_strategy` is deprecated and will be removed in version 4.46 of 🤗 Transformers. Use `eval_strategy` instead\n",
            "  warnings.warn(\n"
          ]
        }
      ],
      "source": [
        "from transformers import Trainer, TrainingArguments\n",
        "\n",
        "# Training arguments 설정\n",
        "training_args = TrainingArguments(\n",
        "    output_dir='./results',          # 모델이 저장될 경로\n",
        "    evaluation_strategy=\"epoch\",    # 매 에포크마다 평가\n",
        "    save_strategy=\"epoch\",          # 매 에포크마다 저장\n",
        "    learning_rate=5e-5,             # 기본 학습률\n",
        "    per_device_train_batch_size=16,  # 각 디바이스에서의 배치 사이즈\n",
        "    per_device_eval_batch_size=32,   # 평가 시의 배치 사이즈\n",
        "    eval_accumulation_steps=8,      # 평가 시 gradient accumulation steps\n",
        "    num_train_epochs=6,             # 에포크 수\n",
        "    weight_decay=0.01,              # 가중치 감쇠\n",
        "    save_total_limit=2,             # 저장할 체크포인트 개수 제한\n",
        "    logging_dir='./logs',           # 로깅 파일 저장 위치\n",
        "    logging_steps=500,              # 로깅 빈도\n",
        "    load_best_model_at_end=True,    # 가장 좋은 모델을 끝에서 로드\n",
        "    eval_steps=1000,                # 평가 빈도\n",
        "    fp16=True,                      # Mixed Precision (FP16) 사용\n",
        "    dataloader_num_workers=4,       # DataLoader에서 사용할 워커 수\n",
        "    deepspeed=None,                 # DeepSpeed는 사용하지 않음\n",
        "    report_to=\"none\",               # 로깅 서비스 (TensorBoard 등 사용하지 않음)\n",
        ")"
      ]
    },
    {
      "cell_type": "code",
      "execution_count": null,
      "id": "c4d21065",
      "metadata": {
        "execution": {
          "iopub.execute_input": "2024-11-17T03:55:10.702821Z",
          "iopub.status.busy": "2024-11-17T03:55:10.702516Z",
          "iopub.status.idle": "2024-11-17T03:55:10.735176Z",
          "shell.execute_reply": "2024-11-17T03:55:10.734273Z"
        },
        "id": "c4d21065",
        "outputId": "7f9abdf4-7bdb-4e6b-e6da-82ef9ad4ada3",
        "papermill": {
          "duration": 0.086944,
          "end_time": "2024-11-17T03:55:10.737267",
          "exception": false,
          "start_time": "2024-11-17T03:55:10.650323",
          "status": "completed"
        },
        "tags": []
      },
      "outputs": [
        {
          "name": "stdout",
          "output_type": "stream",
          "text": [
            "Total train batches: 2128\n",
            "Total eval batches: 126\n",
            "Batch size train: 16\n",
            "Batch size eval: 32\n",
            "Eval accumulation steps: 8\n"
          ]
        },
        {
          "name": "stderr",
          "output_type": "stream",
          "text": [
            "/opt/conda/lib/python3.10/site-packages/accelerate/accelerator.py:494: FutureWarning: `torch.cuda.amp.GradScaler(args...)` is deprecated. Please use `torch.amp.GradScaler('cuda', args...)` instead.\n",
            "  self.scaler = torch.cuda.amp.GradScaler(**kwargs)\n"
          ]
        }
      ],
      "source": [
        "from transformers import Trainer\n",
        "import numpy as np\n",
        "\n",
        "trainer = Trainer(\n",
        "    model=model,\n",
        "    args=training_args,\n",
        "    train_dataset=train_dataset,\n",
        "    eval_dataset=val_dataset,\n",
        "    tokenizer=tokenizer,\n",
        "    preprocess_logits_for_metrics=preprocess_logits_for_metrics,\n",
        "    compute_metrics=compute_metrics,\n",
        ")\n",
        "\n",
        "# DataLoader 확인 및 메모리 상태 출력\n",
        "print(f\"Total train batches: {len(trainer.get_train_dataloader())}\")\n",
        "print(f\"Total eval batches: {len(trainer.get_eval_dataloader())}\")\n",
        "print(f\"Batch size train: {training_args.per_device_train_batch_size}\")\n",
        "print(f\"Batch size eval: {training_args.per_device_eval_batch_size}\")\n",
        "print(f\"Eval accumulation steps: {training_args.eval_accumulation_steps}\")"
      ]
    },
    {
      "cell_type": "code",
      "execution_count": null,
      "id": "efc79fc1",
      "metadata": {
        "execution": {
          "iopub.execute_input": "2024-11-17T03:55:10.842592Z",
          "iopub.status.busy": "2024-11-17T03:55:10.842244Z",
          "iopub.status.idle": "2024-11-17T03:55:10.847620Z",
          "shell.execute_reply": "2024-11-17T03:55:10.846871Z"
        },
        "papermill": {
          "duration": 0.059169,
          "end_time": "2024-11-17T03:55:10.849435",
          "exception": false,
          "start_time": "2024-11-17T03:55:10.790266",
          "status": "completed"
        },
        "tags": [],
        "id": "efc79fc1"
      },
      "outputs": [],
      "source": [
        "import warnings\n",
        "import os\n",
        "\n",
        "# fork 관련 경고 제거\n",
        "warnings.filterwarnings('ignore', message=\"os.fork()\")\n",
        "\n",
        "# tokenizer 경고 제거\n",
        "os.environ[\"TOKENIZERS_PARALLELISM\"] = \"false\"\n",
        "\n",
        "# autocast 경고 제거\n",
        "warnings.filterwarnings('ignore', message=\"`torch.cuda.amp.autocast\")\n",
        "\n",
        "# gather 경고 제거\n",
        "warnings.filterwarnings('ignore', message=\"Was asked to gather along dimension 0\")"
      ]
    },
    {
      "cell_type": "code",
      "execution_count": null,
      "id": "db67e223",
      "metadata": {
        "execution": {
          "iopub.execute_input": "2024-11-17T03:55:10.953706Z",
          "iopub.status.busy": "2024-11-17T03:55:10.953125Z",
          "iopub.status.idle": "2024-11-17T10:11:16.615539Z",
          "shell.execute_reply": "2024-11-17T10:11:16.614706Z"
        },
        "id": "db67e223",
        "outputId": "e9dd9fcf-2e8e-4db4-dbde-203ca51cc05a",
        "papermill": {
          "duration": 22565.717713,
          "end_time": "2024-11-17T10:11:16.618609",
          "exception": false,
          "start_time": "2024-11-17T03:55:10.900896",
          "status": "completed"
        },
        "tags": [],
        "colab": {
          "referenced_widgets": [
            "8831bbe760e640ca9a80abee972bf80c",
            "15089a32280746668380b9ce2077686c",
            "f942520acfd9495a8506d2da7ff4ee15",
            "b34417b9f2f6458788b94bc9895deb7c",
            "b6a9f5f8e775485e9f04d4b9affc0ce9"
          ]
        }
      },
      "outputs": [
        {
          "data": {
            "text/html": [
              "\n",
              "    <div>\n",
              "      \n",
              "      <progress value='12768' max='12768' style='width:300px; height:20px; vertical-align: middle;'></progress>\n",
              "      [12768/12768 6:16:02, Epoch 6/6]\n",
              "    </div>\n",
              "    <table border=\"1\" class=\"dataframe\">\n",
              "  <thead>\n",
              " <tr style=\"text-align: left;\">\n",
              "      <th>Epoch</th>\n",
              "      <th>Training Loss</th>\n",
              "      <th>Validation Loss</th>\n",
              "      <th>Rouge1</th>\n",
              "      <th>Rouge2</th>\n",
              "      <th>Rougel</th>\n",
              "      <th>Meteor</th>\n",
              "      <th>Bertscore F1</th>\n",
              "      <th>Bleu</th>\n",
              "      <th>Gen Len</th>\n",
              "    </tr>\n",
              "  </thead>\n",
              "  <tbody>\n",
              "    <tr>\n",
              "      <td>1</td>\n",
              "      <td>2.909400</td>\n",
              "      <td>2.855737</td>\n",
              "      <td>5.687770</td>\n",
              "      <td>0.169908</td>\n",
              "      <td>5.681541</td>\n",
              "      <td>22.648700</td>\n",
              "      <td>72.556800</td>\n",
              "      <td>8.825100</td>\n",
              "      <td>183.492524</td>\n",
              "    </tr>\n",
              "    <tr>\n",
              "      <td>2</td>\n",
              "      <td>2.759400</td>\n",
              "      <td>2.806437</td>\n",
              "      <td>5.631308</td>\n",
              "      <td>0.116708</td>\n",
              "      <td>5.625078</td>\n",
              "      <td>22.749200</td>\n",
              "      <td>72.563100</td>\n",
              "      <td>8.539800</td>\n",
              "      <td>174.239721</td>\n",
              "    </tr>\n",
              "    <tr>\n",
              "      <td>3</td>\n",
              "      <td>2.651600</td>\n",
              "      <td>2.784111</td>\n",
              "      <td>5.619340</td>\n",
              "      <td>0.128453</td>\n",
              "      <td>5.619340</td>\n",
              "      <td>22.991300</td>\n",
              "      <td>72.665100</td>\n",
              "      <td>8.399000</td>\n",
              "      <td>167.573636</td>\n",
              "    </tr>\n",
              "    <tr>\n",
              "      <td>4</td>\n",
              "      <td>2.572300</td>\n",
              "      <td>2.767072</td>\n",
              "      <td>5.641684</td>\n",
              "      <td>0.155251</td>\n",
              "      <td>5.635454</td>\n",
              "      <td>23.170300</td>\n",
              "      <td>72.987300</td>\n",
              "      <td>7.948200</td>\n",
              "      <td>155.448542</td>\n",
              "    </tr>\n",
              "    <tr>\n",
              "      <td>5</td>\n",
              "      <td>2.506200</td>\n",
              "      <td>2.762287</td>\n",
              "      <td>5.657997</td>\n",
              "      <td>0.136632</td>\n",
              "      <td>5.651768</td>\n",
              "      <td>23.248000</td>\n",
              "      <td>73.018500</td>\n",
              "      <td>8.204700</td>\n",
              "      <td>158.646275</td>\n",
              "    </tr>\n",
              "    <tr>\n",
              "      <td>6</td>\n",
              "      <td>2.455000</td>\n",
              "      <td>2.761382</td>\n",
              "      <td>5.656450</td>\n",
              "      <td>0.141448</td>\n",
              "      <td>5.650220</td>\n",
              "      <td>23.267600</td>\n",
              "      <td>72.949900</td>\n",
              "      <td>8.197500</td>\n",
              "      <td>159.788188</td>\n",
              "    </tr>\n",
              "  </tbody>\n",
              "</table><p>"
            ],
            "text/plain": [
              "<IPython.core.display.HTML object>"
            ]
          },
          "metadata": {},
          "output_type": "display_data"
        },
        {
          "name": "stdout",
          "output_type": "stream",
          "text": [
            "\n",
            " ================================================== \n",
            "Predictions type: <class 'tuple'>\n",
            "Decoding predictions and labels...\n",
            "Decoded Predictions Sample:\n",
            " ['경력상태: 신입직 질문: 저는 이박한 상황이에서는 항상 필요한 하는 일들을 먼저 그순위를 정하는둡니다. 우선음에는 시간을디션을 중요장히 중요하기 때문에 우선 더 세를 해서 뒤에 우선 가지하게 분류 분류 것들을를 해서 해 시간을을 짜고 편입니다. 답변: 네 저는 촉 촉 촉박한 상황 속에서도 꼭박한 상황 속에서도 것 어면서도 꼭 꼭 해야 되는 것들을 분류 단위로 하고를 합니다. 우선 그다음 제 이제순위를 둡니다. 어 그 제가박한하게 어 해야 일을 해야 해야 되는 일 있을 있을 거 때문에 그 것들을를 좀 그줄 짜서 미루<unk> 밀 그다 그 당장 때 없는 때문에 그 거 어 어음에 제 제 내해야 나가 게 중요 그 이제 이제 세단은위를  세 순위는 뭐 이 우선도가든지 아니면면은 뭐 이런 순 뭐 뭐 해야부터 해야 되는 그런부터 시간에에는 되는 것 이런 뭐 이 가지 뭐 있을잖. 그래서 이런 그든은걸 그 따라서 분류 그라든가 이런 것들을 해서리를 해서를 하고 편입이고요. 그다 세장은도 뭐 이제 컨디션도부도 굉장히 중요하기요. 그다 조금 크게 분류를 한 한 다음에 세세하게 하나하나 세부테일하게 분류를 순서대로 하면서 플랜을 짜는 편입니다. </s>', '경력상태: 신입직 질문: 저 프로세 회사의 정해져 전부터 진행왔 일 직무일과 아니기있는기 때문에 그지 하지만 다니라면 스타 스타일을 잘 싶습니다. 않습니다. 답는 이 업무일을 고집하고 수 답 견디 주셔 바랍니다. 답변: 네요. 저는 채용간 해왔던 제의 스타일이 배어 배어있기 때문에 어렵습니다. 회사를은 이미 저 이미 이미 일이 아니고 저들도니까 제는 그 위해서 일을 제가 그이 하고 어 그 하고 어 하는 것도 때문에 어 입장에서 해서 저적으로 맞는게 업무리를만만서 라고을라야 라고 하는 것은는 아닙하다고 생각합니다. 그래서 저 사람을 있고 거이기 그 보면 회사를 스타만 그대로 고집할 그 하 되 하 하 수는요. 저거는보다는 저는 저 어려울 오래의 익숙이너스가라고 것이이라고이라고 생각합니다.니다만 스타으로는. 그래서는 제 위해서 제 업무 스타일을 바꾸고 싶지 않습니다. 저는 제 스타일을 고수할 것입니다.니다. 참고해 주시기 바랍니다. </s> ......................................................', '경력상태: 신입직 질문: 저은이라는 모여 일은 기계습니다. 그는 같은 용접원 협 있을 수 서로 단위의 다기 때문에 그 팀 다시 일을 좋은도 될 것 있습니다. 그래서 서로 문제 아닌 것라면 안 통해서 그 큰면 그하지 답변: 네 용접 용접 용접다 어데 용접희 용접 일은 어 용접 일이 어은 넓 하는이고 그 그 그희 그종이 되는이든지 다른 용접이라들이 같은 그런 그런 그 하는 더 용접 하는다고 작업는 아니습니다. 않데요. 저 문제는 전국이라 아니면 가지 뭐 뭐 그런장은 일을 용접희하고 어 간 때문에 어희 다른 팀 간의 갈등이 갈등이 생길 때는 저 그이 넓기 때문에 두 번 다시 안 봐도 되는 경우도 있습니다. 그래도은 저 전국도도 있는 좋기 아니면 생길다 일을 안 또 팀 일을 때 또건 더 라고 아니면 또희 그 봐 생각 아니면 그런쪽이 안 안 된다고 하면 그쪽 아니라요. 그래도 저 따라서 좀죠 그래도 별거 아닌 정도면 대화를 하고요. 규모가다면 무시는 무시합니다.   피 뭐거는 그 싶 봐 거도 때문에 네는도단은 보고하게 보고 어지니다.  가 그심 상하지 수 없까요. </s> ....................']\n",
            "Decoded Labels Sample:\n",
            " ['</s> 경력상태: 경력직 질문: 저는 촉박한 상황 속에서도 꼭 해야 되는 것들을 분류하고 우선순위를 둡니다. 그다음 제 컨디션도 굉장히 중요하기 때문에 조금 크게 분류를 한 다음에 세세하게 하나하나 세부적인 분류를 순서대로 하면서 플랜을 짜는 편입니다. 답변: 어 저는 우선 그 촉박한 상황 안에서 촉박한 상황인 걸 알지만 그래도 꼭 해야 되는 것들을 분리를 분류를 하고요. 그다음에 거기서 우선순위를 둡니다. 음 사실 촉박하다면 꼭 그 당시에 안 해도 되는 것들이 분명히 있을 거기 때문에 그런 거는 최대한 스케줄을 뒤로 <unk>니다. 네 지금 볼 필요가 없기 때문에 그런 것들은 두고 그다음에 이제 당장 처리해 두는 것들이 있으면 거기서부터 이제 일 순위는 뭐 이 순위는 뭐 일의 난이도라든가 아니면은 뭐 일과는 관계없이 꼭 오전 시간에 해야 되는 것 오후 시간 내야 되는 것 아니면 뭐 여러 가지 요인이 있죠. 뭐 어떤 물건이 있으면 그 물건의 상태에 따른 뭐 순서라든지 이런 식으로 분리를 분류를 하는 편이고요. 뭐 당연하게 그리고 거기에는 제 컨디션 여부도 굉장히 중요하구요. 그래서 조금 크게 분류를 먼저 한 다음에 세세하게 하나하나 디테일한 분류를 순서대로 하면서 플랜을 짜는 편입니다. </s><pad><pad><pad><pad><pad><pad><pad><pad><pad>', '</s> 경력상태: 경력직 질문: 채용은 이미 수년간 해왔던 제 스타일이 배어있기 때문에 어렵습니다. 회사를 위해서 제 업무 스타일을 바꾸고 싶지 않습니다. 저는 제 스타일을 고수할 것입니다. 참고해 주시기 바랍니다. 답변: 아니요. 저는 수년간 해왔던 저의 스타일이 이미 배어있기 때문에 어렵습니다. 채용은 사실 어 회사에서 하는 것도 있지만 당사자 그러니까 저도 회사를 보고 어 서로 간에 오케이를 하고 네 계약을 하고 일을 하는 거기 때문에 회사라고 해서 무조건 개인에게 이 회사의 스토 스타일대로 맞춰라 적응해 나가라 라고 하는 거는 부당하다고 생각합니다. 그리고 사람이 다양하게 모이는 곳인데 어떻게 하나의 업무 방식이나 스타일만 고수하고 그렇게 하게끔 하려고 할까요. 그거 자체가 저는 좀 이미 저에게는 마이너스인 감점 요인이라고 생각합니다 제 기준에서. 저는 회사를 위해서 제 업무 스타일을 바꾸고 싶지 않습니다. 저는 제 스타일을 고수할 겁니다. 참고해 주시기 바랍니다. </s><pad><pad><pad><pad><pad><pad><pad><pad><pad><pad><pad><pad><pad><pad><pad><pad><pad><pad><pad><pad><pad><pad><pad><pad><pad><pad><pad><pad><pad><pad><pad><pad><pad><pad><pad><pad><pad><pad><pad><pad><pad><pad><pad><pad><pad><pad><pad><pad><pad><pad><pad><pad><pad><pad>', '</s> 경력상태: 경력직 질문: 용접공들이 하는 일은 많지만, 저희와 다른 팀 간의 갈등이 생길 때는 전국이 넓기 때문에 두 번 다시 안 봐도 되는 경우도 있습니다. 그래도 별거 아닌 정도면 대화를 하고, 규모가 크다면 무시합니다. 답변: 음 워낙에 많습니다. 근데 저희가 하는 일은 제가 하는 일은 우선 전국을 단위로 움직이고 물론 또 저희의 업이 용접이라 또 여성 용접공들이라서 아 이렇게 조금 여성으로만 이루어진 그런 거는 많지는 않은데 어 큰 뭐 건축이나 여러 가지 큰 규모의 공사에서 말하자면 저희도 부서이기 때문에 저희와 다른 팀 간의 어떤 갈등이 생길 때 사실 전국은 넓기 때문에 두 번 다시 안 봐도 되는 경우도 있습니다. 왜냐하면 그만큼 뭐 강 감정이 안 좋거나 갈등이 쌓인 채로 하면 나중에 다른 데서 만날 때 그 쪽이 있다거나 하면 저희가 안 한다고 하거나 뭐 그쪽이 먼저 안 한다고 해도 그만이니까요. 그래서 정도에 따라서겠지만 뭐 별거 아닌 정도면 대화를 하구요. 크다면 저는 무시합니다. 네 어차피 이번에 보고 안 볼 사이기 때문에 저희 일만 깔끔히 하고 빠집니다. 네 서로 간에 자존심 상할 일은 없으니까요. </s><pad><pad><pad><pad><pad><pad><pad><pad><pad><pad><pad><pad><pad><pad><pad><pad><pad><pad><pad><pad>']\n",
            "Calculating ROUGE...\n",
            "\n",
            "ROUGE scores details:\n",
            "Number of valid pairs: 8026\n",
            "Sample ROUGE-1 scores: [0.2857142857142857, 0.03508771929824561, 0.08695652173913045, 0.05, 0.04081632653061225]\n",
            "Calculating METEOR...\n",
            "METEOR result: {'meteor': 0.22648738728419532}\n",
            "Calculating BERTScore...\n"
          ]
        },
        {
          "data": {
            "application/vnd.jupyter.widget-view+json": {
              "model_id": "8831bbe760e640ca9a80abee972bf80c",
              "version_major": 2,
              "version_minor": 0
            },
            "text/plain": [
              "tokenizer_config.json:   0%|          | 0.00/49.0 [00:00<?, ?B/s]"
            ]
          },
          "metadata": {},
          "output_type": "display_data"
        },
        {
          "data": {
            "application/vnd.jupyter.widget-view+json": {
              "model_id": "15089a32280746668380b9ce2077686c",
              "version_major": 2,
              "version_minor": 0
            },
            "text/plain": [
              "config.json:   0%|          | 0.00/625 [00:00<?, ?B/s]"
            ]
          },
          "metadata": {},
          "output_type": "display_data"
        },
        {
          "data": {
            "application/vnd.jupyter.widget-view+json": {
              "model_id": "f942520acfd9495a8506d2da7ff4ee15",
              "version_major": 2,
              "version_minor": 0
            },
            "text/plain": [
              "vocab.txt:   0%|          | 0.00/996k [00:00<?, ?B/s]"
            ]
          },
          "metadata": {},
          "output_type": "display_data"
        },
        {
          "data": {
            "application/vnd.jupyter.widget-view+json": {
              "model_id": "b34417b9f2f6458788b94bc9895deb7c",
              "version_major": 2,
              "version_minor": 0
            },
            "text/plain": [
              "tokenizer.json:   0%|          | 0.00/1.96M [00:00<?, ?B/s]"
            ]
          },
          "metadata": {},
          "output_type": "display_data"
        },
        {
          "data": {
            "application/vnd.jupyter.widget-view+json": {
              "model_id": "b6a9f5f8e775485e9f04d4b9affc0ce9",
              "version_major": 2,
              "version_minor": 0
            },
            "text/plain": [
              "model.safetensors:   0%|          | 0.00/714M [00:00<?, ?B/s]"
            ]
          },
          "metadata": {},
          "output_type": "display_data"
        },
        {
          "name": "stdout",
          "output_type": "stream",
          "text": [
            "BERTScore finished\n",
            "Calculating BLEU...\n",
            "BLEU result: {'bleu': 0.088250559101374, 'precisions': [0.38145506206629104, 0.2003610108303249, 0.1281655005480109, 0.08755097766068058], 'brevity_penalty': 0.515697803723519, 'length_ratio': 0.6015998935198928, 'translation_length': 1609086, 'reference_length': 2674678}\n",
            "Calculating generated length...\n",
            "Final Metrics: {'rouge1': 5.6877703694781, 'rouge2': 0.1699078202167788, 'rougeL': 5.681540616176331, 'meteor': 22.6487, 'bertscore_f1': 72.5568, 'bleu': 8.8251, 'gen_len': 183.49252429603789}\n",
            "\n",
            " ================================================== \n",
            "Predictions type: <class 'tuple'>\n",
            "Decoding predictions and labels...\n",
            "Decoded Predictions Sample:\n",
            " ['경력상태: 신입직 질문: 저는 이박한 상황이에서는 침착 해야 하는 일을 먼저 그순위를 정둡니다. 우선음에는 시간디션을 체크장히 중요하기 때문에 우선 더 세를 해서 뒤에 그 번째하게 분류 체크 것들을를 해 해 시간을을 짜 편입니다. 답변: 어 저는 촉 촉 촉박한 상황 속에서도 꼭박한 상황 속에서도 것 알면서도 꼭 꼭 해야 되는 것들을 분류류를 합니다.를 합니다.요. 그다음에 어 우선순위를 둡니다. 어 그 그박한하다 어 해야 촉 해야 해야 되는 일 있을 있을 텐 때문에 그 것들을를 조금 그줄 짜 미루둡 밀 그래서 그 당장 때는 없는 때문에 그 거 조금 어음에 제 제 해야해야 나가 게 아니라 그 이제 처리를 플랜 처리를위로 이제 일 순위 뭐 이 순서도가든지 이런면은 뭐 이런 순 좀 뭐 해야 아홉 해야 되는 것들부터 시간에에는 되는 것 이런 뭐 이 가지 뭐 있을잖. 그래서 이런 게든은걸 그 따라서 분류 그라든가 이런 것들을 좀리를 해를 하고 편입이고요. 그다 세장은도 뭐 이제 컨디션도부도 굉장히 중요하기요. 그다 조금 크게 분류를 한 한 다음에 세세하게 하나하나 세부적인테일하게 분류를 순서대로 하면서 플랜을 짜는 편입니다. </s>', '경력상태: 신입직 질문: 저 프로세 회사의 정해져 전부터 진행왔 일 직무일과기있는기 때문에 제가지 하지만 위해서라면 스타 스타일을 잘 싶습니다. 않습니다. 답는 이 스타일을 고집하고 수 답할 주셔 바랍니다. 답변: 어요. 저는 제간 해왔던 제의 스타일이 배어 배어있기 때문에 어렵습니다. 저은 이미 이미 이미 이미 일이 아니고 저들도니까 제의 그 위해서 싶 제가 어이 하는 어 그 하고 하는 하는 것도 때문에 어 입장에서는 해서 저적으로 맡게 스타리를만만서 라고을라야 라고 하는 것은는 저하다고 생각합니다. 저 저 사람을 있고 거이기 그 보면 스타 스타만 스타만 고집할 그 하 되 하 하까요. 저거는는 저는 참 어려울 익숙의 익숙이너스라고 것이이라고이라고 생각합니다.니다 . 스타에서. 그래서는 제 위해서 제 업무 스타일을 바꾸고 싶지 않습니다. 는 제 스타일을 고수할 것입니다.니다. 참고해 주시기 바랍니다. </s> ......................................................', '경력상태: 신입직 질문: 저은이라는 많이 일은 용접습니다. 용접는 같이 용접원 용접 생길 수 서로 단위의 아닌기 때문에 그 사람 다시 같은 좋은도 될 일이 있습니다. 그래서 서로 문제 아닌 일이라고라면 서로 통해서 서로 큰면 다른하지 답변: 용접 용접 용접 용접다 용접데 용접희 용접 일은 용접 용접 일이 용접은 다 하는이고 있는 용접 그희 팀종이 아니공든가 용접 용접이라들이 같은서 어 이 하는은 용접 하는 일이 용접는 아니습니다. 않데요. 저 문제가 큰이라 이런 가지 뭐 뭐 그런장은 하는 용접희랑 용접별로 때문에 어희 다른 팀 간의 갈등이 갈등이 생길 때는 어 전국이 넓기 때문에 두 번 다시 안 봐도 되는 경우도 있습니다. 그래도 어 어 큰점이 격 좋다 뭐 생길다 일을 안 그 팀 또 때 또걸 더 하더라도 아니면 그는 그 봐 해도 아니 그런쪽이 좀 얘 봐 하면 그쪽 아니라요. 그래서 저 따라서 좀죠 그래도 큰거 아닌 정도면 대화를 하고요. 규모가다면 무시희가 무시합니다.  차피 뭐거는 뭐 싶은 봐 거도 때문에 저는도단은 하는하게 해 싶질니다.  가 어떤심 상하지 수도 없까요. </s> ....................']\n",
            "Decoded Labels Sample:\n",
            " ['</s> 경력상태: 경력직 질문: 저는 촉박한 상황 속에서도 꼭 해야 되는 것들을 분류하고 우선순위를 둡니다. 그다음 제 컨디션도 굉장히 중요하기 때문에 조금 크게 분류를 한 다음에 세세하게 하나하나 세부적인 분류를 순서대로 하면서 플랜을 짜는 편입니다. 답변: 어 저는 우선 그 촉박한 상황 안에서 촉박한 상황인 걸 알지만 그래도 꼭 해야 되는 것들을 분리를 분류를 하고요. 그다음에 거기서 우선순위를 둡니다. 음 사실 촉박하다면 꼭 그 당시에 안 해도 되는 것들이 분명히 있을 거기 때문에 그런 거는 최대한 스케줄을 뒤로 <unk>니다. 네 지금 볼 필요가 없기 때문에 그런 것들은 두고 그다음에 이제 당장 처리해 두는 것들이 있으면 거기서부터 이제 일 순위는 뭐 이 순위는 뭐 일의 난이도라든가 아니면은 뭐 일과는 관계없이 꼭 오전 시간에 해야 되는 것 오후 시간 내야 되는 것 아니면 뭐 여러 가지 요인이 있죠. 뭐 어떤 물건이 있으면 그 물건의 상태에 따른 뭐 순서라든지 이런 식으로 분리를 분류를 하는 편이고요. 뭐 당연하게 그리고 거기에는 제 컨디션 여부도 굉장히 중요하구요. 그래서 조금 크게 분류를 먼저 한 다음에 세세하게 하나하나 디테일한 분류를 순서대로 하면서 플랜을 짜는 편입니다. </s><pad><pad><pad><pad><pad><pad><pad><pad><pad>', '</s> 경력상태: 경력직 질문: 채용은 이미 수년간 해왔던 제 스타일이 배어있기 때문에 어렵습니다. 회사를 위해서 제 업무 스타일을 바꾸고 싶지 않습니다. 저는 제 스타일을 고수할 것입니다. 참고해 주시기 바랍니다. 답변: 아니요. 저는 수년간 해왔던 저의 스타일이 이미 배어있기 때문에 어렵습니다. 채용은 사실 어 회사에서 하는 것도 있지만 당사자 그러니까 저도 회사를 보고 어 서로 간에 오케이를 하고 네 계약을 하고 일을 하는 거기 때문에 회사라고 해서 무조건 개인에게 이 회사의 스토 스타일대로 맞춰라 적응해 나가라 라고 하는 거는 부당하다고 생각합니다. 그리고 사람이 다양하게 모이는 곳인데 어떻게 하나의 업무 방식이나 스타일만 고수하고 그렇게 하게끔 하려고 할까요. 그거 자체가 저는 좀 이미 저에게는 마이너스인 감점 요인이라고 생각합니다 제 기준에서. 저는 회사를 위해서 제 업무 스타일을 바꾸고 싶지 않습니다. 저는 제 스타일을 고수할 겁니다. 참고해 주시기 바랍니다. </s><pad><pad><pad><pad><pad><pad><pad><pad><pad><pad><pad><pad><pad><pad><pad><pad><pad><pad><pad><pad><pad><pad><pad><pad><pad><pad><pad><pad><pad><pad><pad><pad><pad><pad><pad><pad><pad><pad><pad><pad><pad><pad><pad><pad><pad><pad><pad><pad><pad><pad><pad><pad><pad><pad>', '</s> 경력상태: 경력직 질문: 용접공들이 하는 일은 많지만, 저희와 다른 팀 간의 갈등이 생길 때는 전국이 넓기 때문에 두 번 다시 안 봐도 되는 경우도 있습니다. 그래도 별거 아닌 정도면 대화를 하고, 규모가 크다면 무시합니다. 답변: 음 워낙에 많습니다. 근데 저희가 하는 일은 제가 하는 일은 우선 전국을 단위로 움직이고 물론 또 저희의 업이 용접이라 또 여성 용접공들이라서 아 이렇게 조금 여성으로만 이루어진 그런 거는 많지는 않은데 어 큰 뭐 건축이나 여러 가지 큰 규모의 공사에서 말하자면 저희도 부서이기 때문에 저희와 다른 팀 간의 어떤 갈등이 생길 때 사실 전국은 넓기 때문에 두 번 다시 안 봐도 되는 경우도 있습니다. 왜냐하면 그만큼 뭐 강 감정이 안 좋거나 갈등이 쌓인 채로 하면 나중에 다른 데서 만날 때 그 쪽이 있다거나 하면 저희가 안 한다고 하거나 뭐 그쪽이 먼저 안 한다고 해도 그만이니까요. 그래서 정도에 따라서겠지만 뭐 별거 아닌 정도면 대화를 하구요. 크다면 저는 무시합니다. 네 어차피 이번에 보고 안 볼 사이기 때문에 저희 일만 깔끔히 하고 빠집니다. 네 서로 간에 자존심 상할 일은 없으니까요. </s><pad><pad><pad><pad><pad><pad><pad><pad><pad><pad><pad><pad><pad><pad><pad><pad><pad><pad><pad><pad>']\n",
            "Calculating ROUGE...\n",
            "\n",
            "ROUGE scores details:\n",
            "Number of valid pairs: 8026\n",
            "Sample ROUGE-1 scores: [0.15384615384615385, 0.03508771929824561, 0.08695652173913045, 0.05, 0.04081632653061225]\n",
            "Calculating METEOR...\n",
            "METEOR result: {'meteor': 0.2274921448126674}\n",
            "Calculating BERTScore...\n",
            "BERTScore finished\n",
            "Calculating BLEU...\n",
            "BLEU result: {'bleu': 0.0853976808482241, 'precisions': [0.4003872842751482, 0.21134045323208694, 0.13518968426985795, 0.09219910861742807], 'brevity_penalty': 0.47387388976460154, 'length_ratio': 0.5724707796602059, 'translation_length': 1531175, 'reference_length': 2674678}\n",
            "Calculating generated length...\n",
            "Final Metrics: {'rouge1': 5.631307804429852, 'rouge2': 0.11670810729164904, 'rougeL': 5.625078051128083, 'meteor': 22.7492, 'bertscore_f1': 72.5631, 'bleu': 8.5398, 'gen_len': 174.2397209070521}\n",
            "\n",
            " ================================================== \n",
            "Predictions type: <class 'tuple'>\n",
            "Decoding predictions and labels...\n",
            "Decoded Predictions Sample:\n",
            " ['경력상태: 신입직 질문: 저는 이박한 상황이에서는 침착 해야 하는 일을 우선 우선순위를 정둡니다. 우선음 우선 시간디션에 체크장히 중요하기 때문에 우선 더 세를 해서 뒤에 우선 가지하게 분류 분류 것들을를 해서 해 시간을을 짜 편입니다. 답변: 저 저는 촉 촉 촉박한 상황 속에서도 꼭박한 상황 속에서도 만큼 알면서도 꼭 꼭 해야 되는 것들을 분류리를 합니다.를 합니다.요. 그다음에 이제 이제순위를 둡니다. 어 그 제가박한할 어 해야거를 해야 해야 되는 일 있을 있을 거 때문에 그 것들을를 조금 그줄 짜 미루둡 빼 그래서 그래서 당장 때는 없는 때문에 네 거 조금 어음에 제 제 해야해야 나가 게 중요 그 이제 이제 플랜 처리를위로 이제 예를십위 뭐 이 우선도가든지 이런면은 뭐 이런 순 좀 뭐 해야 오후 해야 되는 것들부터 시간에이라 되는 것 이런 뭐 이 가지 뭐 있을잖. 그래서 이런 게든은거를 뭐 따라서 분류 시간라든가 이런 것들을 해서리를 해서를 해서 편이고요. 그다 예를장에는도 뭐 이제 컨디션도부도 굉장히 중요하기요. 그다 조금 크게 분류를 한 한 다음에 세세하게 하나하나 세부적인테일하게 분류를 순서대로 하면서 플랜을 짜는 편입니다. </s>', '경력상태: 신입직 질문: 저 프로세 제가 정해져 전부터 진행왔 일 직무일과기있는기 때문에 저지 하지만 선택할라면 스타 스타일을 고집 싶다면 않습니다. 답는 이 스타일에 고집하고 수 답 견디 주신 바랍니다. 답변: 네요. 저는 아직간 해왔던 제의 스타일이 배어 배어있기 때문에 어렵습니다. 저은 이미 저 이미 이미 일이 아니고 이미도니까 제는 제 위해서 싶 제가 어이 하는 또 그 하고 하는 하는 것도 때문에 어 입장에서 해서 저적으로 맞는게 스타리를만만서 라고해라야 라고 하는 것은는 저하다고 생각합니다. 그래서 저 일을 있고 거이기 저 보면 스타 스타만 스타만 고집할 어 하 되 하 하 거요. 저거는는 저는 좀 어려울 익숙의 익숙이너스 요소 것이이라고이라고 생각합니다.니다 . 스타에서. 그래서는 제 위해서 제 업무 스타일을 바꾸고 싶지 않습니다. 저는 제 스타일을 고수할 것입니다.니다. 참고해 주시기 바랍니다. </s> 참고......................................................', '경력상태: 신입직 질문: 저은정은 많이 일은 용접습니다. 용접는 같이 용접원 협 생기면 수 서로 단위의 다기 때문에 서로 팀 다시 그런 좋은도 될 상황이 있습니다. 그래서 저 문제 아닌 일이라고라면 서로 통해서 서로 큰면 팀하지 답변: 용접 용접 용접 용접죠 용접데 용접희 용접 일은 어 용접 일이 어은 다 하는이고 또 용접 그희 팀체와 아니공든가 그 용접이라들이 같은 그런 어 여성 용접은 용접 할 일이 일이는 아니습니다. 않데요. 저 프로젝 큰이라 이런 가지 뭐 기계 그런장은 하는 용접희 팀 용접 간에 때문에 어희 다른 팀 간의 갈등이 갈등이 생길 때는 어 전국이 넓기 때문에 두 번 다시 안 봐도 되는 경우도 있습니다. 그래도 어 어 큰도도 격 좋기 아니면 심다 일을 안 또 팀 또 때 또게 더 라고 아니면 또희 그 봐 해도 아니 그런쪽이 있다 다 된다고 해서 그쪽 아니라요. 그래서 저 따라서 좀죠 그래도 별거 아닌 정도면 대화를 하고요. 규모가다면 무시희가 무시합니다.  차피 뭐거는 제가 싶은 봐 거도 때문에 네는도단은 하는하게 할 넘어가질니다.  이상가 어떤심 상하지 수도 없을까요. </s> ....................']\n",
            "Decoded Labels Sample:\n",
            " ['</s> 경력상태: 경력직 질문: 저는 촉박한 상황 속에서도 꼭 해야 되는 것들을 분류하고 우선순위를 둡니다. 그다음 제 컨디션도 굉장히 중요하기 때문에 조금 크게 분류를 한 다음에 세세하게 하나하나 세부적인 분류를 순서대로 하면서 플랜을 짜는 편입니다. 답변: 어 저는 우선 그 촉박한 상황 안에서 촉박한 상황인 걸 알지만 그래도 꼭 해야 되는 것들을 분리를 분류를 하고요. 그다음에 거기서 우선순위를 둡니다. 음 사실 촉박하다면 꼭 그 당시에 안 해도 되는 것들이 분명히 있을 거기 때문에 그런 거는 최대한 스케줄을 뒤로 <unk>니다. 네 지금 볼 필요가 없기 때문에 그런 것들은 두고 그다음에 이제 당장 처리해 두는 것들이 있으면 거기서부터 이제 일 순위는 뭐 이 순위는 뭐 일의 난이도라든가 아니면은 뭐 일과는 관계없이 꼭 오전 시간에 해야 되는 것 오후 시간 내야 되는 것 아니면 뭐 여러 가지 요인이 있죠. 뭐 어떤 물건이 있으면 그 물건의 상태에 따른 뭐 순서라든지 이런 식으로 분리를 분류를 하는 편이고요. 뭐 당연하게 그리고 거기에는 제 컨디션 여부도 굉장히 중요하구요. 그래서 조금 크게 분류를 먼저 한 다음에 세세하게 하나하나 디테일한 분류를 순서대로 하면서 플랜을 짜는 편입니다. </s><pad><pad><pad><pad><pad><pad><pad><pad><pad>', '</s> 경력상태: 경력직 질문: 채용은 이미 수년간 해왔던 제 스타일이 배어있기 때문에 어렵습니다. 회사를 위해서 제 업무 스타일을 바꾸고 싶지 않습니다. 저는 제 스타일을 고수할 것입니다. 참고해 주시기 바랍니다. 답변: 아니요. 저는 수년간 해왔던 저의 스타일이 이미 배어있기 때문에 어렵습니다. 채용은 사실 어 회사에서 하는 것도 있지만 당사자 그러니까 저도 회사를 보고 어 서로 간에 오케이를 하고 네 계약을 하고 일을 하는 거기 때문에 회사라고 해서 무조건 개인에게 이 회사의 스토 스타일대로 맞춰라 적응해 나가라 라고 하는 거는 부당하다고 생각합니다. 그리고 사람이 다양하게 모이는 곳인데 어떻게 하나의 업무 방식이나 스타일만 고수하고 그렇게 하게끔 하려고 할까요. 그거 자체가 저는 좀 이미 저에게는 마이너스인 감점 요인이라고 생각합니다 제 기준에서. 저는 회사를 위해서 제 업무 스타일을 바꾸고 싶지 않습니다. 저는 제 스타일을 고수할 겁니다. 참고해 주시기 바랍니다. </s><pad><pad><pad><pad><pad><pad><pad><pad><pad><pad><pad><pad><pad><pad><pad><pad><pad><pad><pad><pad><pad><pad><pad><pad><pad><pad><pad><pad><pad><pad><pad><pad><pad><pad><pad><pad><pad><pad><pad><pad><pad><pad><pad><pad><pad><pad><pad><pad><pad><pad><pad><pad><pad><pad>', '</s> 경력상태: 경력직 질문: 용접공들이 하는 일은 많지만, 저희와 다른 팀 간의 갈등이 생길 때는 전국이 넓기 때문에 두 번 다시 안 봐도 되는 경우도 있습니다. 그래도 별거 아닌 정도면 대화를 하고, 규모가 크다면 무시합니다. 답변: 음 워낙에 많습니다. 근데 저희가 하는 일은 제가 하는 일은 우선 전국을 단위로 움직이고 물론 또 저희의 업이 용접이라 또 여성 용접공들이라서 아 이렇게 조금 여성으로만 이루어진 그런 거는 많지는 않은데 어 큰 뭐 건축이나 여러 가지 큰 규모의 공사에서 말하자면 저희도 부서이기 때문에 저희와 다른 팀 간의 어떤 갈등이 생길 때 사실 전국은 넓기 때문에 두 번 다시 안 봐도 되는 경우도 있습니다. 왜냐하면 그만큼 뭐 강 감정이 안 좋거나 갈등이 쌓인 채로 하면 나중에 다른 데서 만날 때 그 쪽이 있다거나 하면 저희가 안 한다고 하거나 뭐 그쪽이 먼저 안 한다고 해도 그만이니까요. 그래서 정도에 따라서겠지만 뭐 별거 아닌 정도면 대화를 하구요. 크다면 저는 무시합니다. 네 어차피 이번에 보고 안 볼 사이기 때문에 저희 일만 깔끔히 하고 빠집니다. 네 서로 간에 자존심 상할 일은 없으니까요. </s><pad><pad><pad><pad><pad><pad><pad><pad><pad><pad><pad><pad><pad><pad><pad><pad><pad><pad><pad><pad>']\n",
            "Calculating ROUGE...\n",
            "\n",
            "ROUGE scores details:\n",
            "Number of valid pairs: 8026\n",
            "Sample ROUGE-1 scores: [0.15384615384615385, 0.03508771929824561, 0.08695652173913045, 0.05, 0.04081632653061225]\n",
            "Calculating METEOR...\n",
            "METEOR result: {'meteor': 0.22991271387996465}\n",
            "Calculating BERTScore...\n",
            "BERTScore finished\n",
            "Calculating BLEU...\n",
            "BLEU result: {'bleu': 0.08398991002027635, 'precisions': [0.4163784545803621, 0.22014627384379679, 0.1410895868084337, 0.0962936946367678], 'brevity_penalty': 0.44709932689062426, 'length_ratio': 0.5540244470549353, 'translation_length': 1481837, 'reference_length': 2674678}\n",
            "Calculating generated length...\n",
            "Final Metrics: {'rouge1': 5.619340312800252, 'rouge2': 0.12845342520085998, 'rougeL': 5.619340312800252, 'meteor': 22.9913, 'bertscore_f1': 72.6651, 'bleu': 8.399, 'gen_len': 167.57363568402693}\n",
            "\n",
            " ================================================== \n",
            "Predictions type: <class 'tuple'>\n",
            "Decoding predictions and labels...\n",
            "Decoded Predictions Sample:\n",
            " ['경력상태: 신입직 질문: 저는 이박한 상황이일수록 침착 해야 하는 일 먼저 우선순위를 정둡니다. 우선음 우선 시간디션을 체크장히 중요하기 때문에 저 더 세를 해서 뒤에 그 번째하게 분류 분류 것들을를 해서 합니다. 시간을을 짜고 편입니다. 답변: 저 저는 촉 촉 촉박한 상황 속에서도 꼭박한 상황 속에서도 만큼 알면서도 꼭 꼭 해야 되는 것들을 분류리를 하고를 합니다.요. 그다음에 제 이제순위를 둡니다. 어 그 그박한하게 어 해야 일을 해야 해야 되는 일 있을 있을 텐 때문에 그 것들을를 조금 그줄 짜 미루뺄 늦 그래서 그래서 당장 수 없는 때문에 네 것들을 조금 어음에 제 제 해야해야 놓고 게 아니라 그 이제 이제 플랜 처리를위로 이제 예를 순위 뭐 삼 우선도가든지 이런면은 뭐 이런 순 좀 일단 해야 오후 해야 되는 것들부터 시간에에는 되는 것 이런 뭐 그 가지 뭐 있겠잖. 그래서 이런 것들이든은걸 우선 따라서 뭐 시간라든가 이런 것들을 해서리를 하고를 하고 편이고요. 그다 예를장에도 뭐 이제 컨디션도부도 굉장히 중요하기요. 그래서 조금 크게 분류를 한 한 다음에 세세하게 하나하나 이제테일하게 분류를 순서대로 하면서 플랜을 짜는 편입니다. </s>', '경력상태: 신입직 질문: 저 프로세 제가 정해져 전부터 준비왔 일 직무일과기있는기 때문에 다른지 하지만 알아도 스타 스타일을 잘 싶지는 않습니다. 답는 이 업무일에 고집하고 수 답 견디 주십시오 바랍니다. 답변: 네요. 저는 솔간 해왔던 제의 스타일이 배어 배어있기 때문에 어렵습니다. 저은 이미 저 이미 이미 일이 아니고 이미도니까 제의 제 위해서 제 제가 어이 하고 어 그 하고 하는 하는 것도 때문에 어 입장에서 해서 제가적으로 맞는게 스타리를만만서 라고해라야 라고 하는 것은는 저하다고 생각합니다. 저 저 사람을 있고 거이고 저 보면 회사를 스타만 스타만 고집할 어 하 되 할 하까요. 저거는 저 저는 참 어렵 익숙의 익숙이너스 요소 것이이라고이라고 생각합니다.니다 . 스타에서. 그래서는 제 위해서 제 업무 스타일을 바꾸고 싶지 않습니다. 저는 제 스타일을 고수할 것입니다.니다. 참고해 주시기 바랍니다. </s> 참고......................................................', '경력상태: 신입직 질문: 저은정은 많이 일은 용접습니다. 용접는 같은 용접원 협 가장 수 서로 단위의 다르고기 때문에 갈등이 팀 다시 갈등이 좋은도 될 상황이 있습니다. 그래서 서로 문제 아닌 일이라고라고 서로 통해서 서로 큰면 팀하지 답변: 용접 용접 용접 용접죠 용접데 용접희 용접 일은 용접 제일 일이 용접은 다 하는이고 있습니다. 용접 그희 팀종이 아니이든가 용접 용접이라들이 같은서 여성 여성 용접은분 하는 일이 일이는 아니습니다. 않데 어 저 규모의 큰이라 이런 가지 뭐 기계 그런장은 하는 용접희하고 그렇별로 때문에 어희 다른 팀 간의 갈등이 갈등이 생길 때는 어 전국이 넓습니다. 때문에 두 번 다시 안 봐도 되는 경우도 있습니다. 그래도 어 어 큰도도 격 좋기 뭐 심다 계속 안 뭐 팀 또 때 그거는 더 라고 아니면 그는 그 봐 해도 뭐 그런쪽이 더다 봐 해서 그쪽니까요. 그래도 저 따라서 어지만 그래도 별거 아닌 정도면 대화를 하고요. 규모가다면 무시희가 무시합니다.  차피 저거는 제가 왔 봐 거니까 때문에 저는도단은 보고하게 보고 넘어가지면니다.  가 뭐심 싸움이하지 수도 없어까요. </s>']\n",
            "Decoded Labels Sample:\n",
            " ['</s> 경력상태: 경력직 질문: 저는 촉박한 상황 속에서도 꼭 해야 되는 것들을 분류하고 우선순위를 둡니다. 그다음 제 컨디션도 굉장히 중요하기 때문에 조금 크게 분류를 한 다음에 세세하게 하나하나 세부적인 분류를 순서대로 하면서 플랜을 짜는 편입니다. 답변: 어 저는 우선 그 촉박한 상황 안에서 촉박한 상황인 걸 알지만 그래도 꼭 해야 되는 것들을 분리를 분류를 하고요. 그다음에 거기서 우선순위를 둡니다. 음 사실 촉박하다면 꼭 그 당시에 안 해도 되는 것들이 분명히 있을 거기 때문에 그런 거는 최대한 스케줄을 뒤로 <unk>니다. 네 지금 볼 필요가 없기 때문에 그런 것들은 두고 그다음에 이제 당장 처리해 두는 것들이 있으면 거기서부터 이제 일 순위는 뭐 이 순위는 뭐 일의 난이도라든가 아니면은 뭐 일과는 관계없이 꼭 오전 시간에 해야 되는 것 오후 시간 내야 되는 것 아니면 뭐 여러 가지 요인이 있죠. 뭐 어떤 물건이 있으면 그 물건의 상태에 따른 뭐 순서라든지 이런 식으로 분리를 분류를 하는 편이고요. 뭐 당연하게 그리고 거기에는 제 컨디션 여부도 굉장히 중요하구요. 그래서 조금 크게 분류를 먼저 한 다음에 세세하게 하나하나 디테일한 분류를 순서대로 하면서 플랜을 짜는 편입니다. </s><pad><pad><pad><pad><pad><pad><pad><pad><pad>', '</s> 경력상태: 경력직 질문: 채용은 이미 수년간 해왔던 제 스타일이 배어있기 때문에 어렵습니다. 회사를 위해서 제 업무 스타일을 바꾸고 싶지 않습니다. 저는 제 스타일을 고수할 것입니다. 참고해 주시기 바랍니다. 답변: 아니요. 저는 수년간 해왔던 저의 스타일이 이미 배어있기 때문에 어렵습니다. 채용은 사실 어 회사에서 하는 것도 있지만 당사자 그러니까 저도 회사를 보고 어 서로 간에 오케이를 하고 네 계약을 하고 일을 하는 거기 때문에 회사라고 해서 무조건 개인에게 이 회사의 스토 스타일대로 맞춰라 적응해 나가라 라고 하는 거는 부당하다고 생각합니다. 그리고 사람이 다양하게 모이는 곳인데 어떻게 하나의 업무 방식이나 스타일만 고수하고 그렇게 하게끔 하려고 할까요. 그거 자체가 저는 좀 이미 저에게는 마이너스인 감점 요인이라고 생각합니다 제 기준에서. 저는 회사를 위해서 제 업무 스타일을 바꾸고 싶지 않습니다. 저는 제 스타일을 고수할 겁니다. 참고해 주시기 바랍니다. </s><pad><pad><pad><pad><pad><pad><pad><pad><pad><pad><pad><pad><pad><pad><pad><pad><pad><pad><pad><pad><pad><pad><pad><pad><pad><pad><pad><pad><pad><pad><pad><pad><pad><pad><pad><pad><pad><pad><pad><pad><pad><pad><pad><pad><pad><pad><pad><pad><pad><pad><pad><pad><pad><pad>', '</s> 경력상태: 경력직 질문: 용접공들이 하는 일은 많지만, 저희와 다른 팀 간의 갈등이 생길 때는 전국이 넓기 때문에 두 번 다시 안 봐도 되는 경우도 있습니다. 그래도 별거 아닌 정도면 대화를 하고, 규모가 크다면 무시합니다. 답변: 음 워낙에 많습니다. 근데 저희가 하는 일은 제가 하는 일은 우선 전국을 단위로 움직이고 물론 또 저희의 업이 용접이라 또 여성 용접공들이라서 아 이렇게 조금 여성으로만 이루어진 그런 거는 많지는 않은데 어 큰 뭐 건축이나 여러 가지 큰 규모의 공사에서 말하자면 저희도 부서이기 때문에 저희와 다른 팀 간의 어떤 갈등이 생길 때 사실 전국은 넓기 때문에 두 번 다시 안 봐도 되는 경우도 있습니다. 왜냐하면 그만큼 뭐 강 감정이 안 좋거나 갈등이 쌓인 채로 하면 나중에 다른 데서 만날 때 그 쪽이 있다거나 하면 저희가 안 한다고 하거나 뭐 그쪽이 먼저 안 한다고 해도 그만이니까요. 그래서 정도에 따라서겠지만 뭐 별거 아닌 정도면 대화를 하구요. 크다면 저는 무시합니다. 네 어차피 이번에 보고 안 볼 사이기 때문에 저희 일만 깔끔히 하고 빠집니다. 네 서로 간에 자존심 상할 일은 없으니까요. </s><pad><pad><pad><pad><pad><pad><pad><pad><pad><pad><pad><pad><pad><pad><pad><pad><pad><pad><pad><pad>']\n",
            "Calculating ROUGE...\n",
            "\n",
            "ROUGE scores details:\n",
            "Number of valid pairs: 8026\n",
            "Sample ROUGE-1 scores: [0.15384615384615385, 0.03508771929824561, 0.08695652173913045, 0.05, 0.04081632653061225]\n",
            "Calculating METEOR...\n",
            "METEOR result: {'meteor': 0.2317026476162102}\n",
            "Calculating BERTScore...\n",
            "BERTScore finished\n",
            "Calculating BLEU...\n",
            "BLEU result: {'bleu': 0.07948225435481578, 'precisions': [0.4486830200460858, 0.23756906479904813, 0.1525552671947066, 0.10436444948396148], 'brevity_penalty': 0.39160014822653044, 'length_ratio': 0.516125305550799, 'translation_length': 1380469, 'reference_length': 2674678}\n",
            "Calculating generated length...\n",
            "Final Metrics: {'rouge1': 5.641683658185645, 'rouge2': 0.15525128141362718, 'rougeL': 5.635453904883875, 'meteor': 23.1703, 'bertscore_f1': 72.9873, 'bleu': 7.9482, 'gen_len': 155.4485422377274}\n",
            "\n",
            " ================================================== \n",
            "Predictions type: <class 'tuple'>\n",
            "Decoding predictions and labels...\n",
            "Decoded Predictions Sample:\n",
            " ['경력상태: 신입직 질문: 저는 이박한 상황이에서는 침착 해야 하는 일 먼저 우선순위를 정둡니다. 그리고음 우선 시간디션을 체크장히 중요하기 때문에 저 더 세를 해서 뒤에 그 가지하게 분류 분류 것들을를 해서 합니다. 시간을을 짜고 편입니다. 답변: 저 저는 촉 촉 촉박한 상황 속에서도 꼭박한 상황 속에서도 만큼 알면서도 꼭 꼭 해야 되는 것들을 분류리를 합니다.를 합니다.요. 그다음에 제 이제순위를 둡니다. 어 그 그박한할 어 해야 일을 해야 해야 되는 일 있을 있을 거 때문에 그 것들을를 조금 그줄 짜 미루뺐 늦 그래서 그 당장 수 없는 때문에 그 거 조금 그음에 제 제 해야해야 줄 게 아니라 그 이제 이제 플랜 처리를위로 이제 예를 순위 뭐 삼 우선도가든지 이런면은 뭐 이런 순 좀 일단 해야 오후 해야 되는 것들부터 시간에에는 되는 것 이런 뭐 그 가지 뭐 있겠잖. 그런 이런 것들이든은걸 그 따라서 분류 시간라든가 이런 것들을 해서리를 해서를 하고 편입이고요. 그다 예를장에도 그 이제 컨디션도부도 굉장히 중요하기요. 그다 조금 크게 분류를 한 한 다음에 세세하게 하나하나 디테일하게 분류를 순서대로 하면서 플랜을 짜는 편입니다. </s> .  . .  .', '경력상태: 신입직 질문: 저 프로세 제가 정해져 전부터 진행왔 일 직무일과기있는기 때문에 저지 하지만 입사도 스타 스타일을 고집 싶다 않습니다. 답는 이 업무일을 고집하고 수 답 견디 주십시오 바랍니다. 답변: 저요 저는 솔간 해왔던 제의 스타일이 배어 배어있기 때문에 저습니다. 저은 이미 저 이미 이미 일이 아니고 이미도니까 제의 제 위해서 제 제가 어이 하고 어 저 하고 하는 하는 것도 때문에 저 입장에서 해서 저 제 맞는게 업무리를만만서 라고해라야 라고 하는 것은는 저하다고 생각합니다. 저 저 사람을 있고 거이기 저 보면 회사를 스타만 스타대로 고집할 그 하 되 하는 하까요. 저거는 저 저는 참 부당지가의 익숙이너스 요소 것이이라고이라고 생각합니다.니다 . 스타에서. 그래서는 제 위해서 제 업무 스타일을 바꾸고 싶지 않습니다. 저는 제 스타일을 고수할 것입니다.니다. 참고해 주시기 바랍니다. </s> 참고......................................................', '경력상태: 신입직 질문: 저은정은 많이 일은 기계습니다. 용접는 같이 용접원 협 가장 수 서로 단위의 다기 때문에 갈등이 사람 다시 그런 좋은도 될 일이 있습니다. 그래서 서로 문제 아닌 일이라고라면 서로 통해서 서로 큰면 팀하지 답변: 용접 용접 용접 용접죠 용접데 저희 용접 일은 용접 용접 일이 용접은 다 하는이고요. 용접 그희 팀종이 되는이서 용접 용접이라들이 같은 그런 그런 여성 하는은분 하는 일이 일이는 아니습니다. 않데요. 저 이유는 전국이라 이런 가지 뭐 기계 그런장은 하는 용접희랑 그렇 간에 때문에 어희 다른 팀 간의 갈등이 갈등이 생길 때는 어 전국이 넓잖 때문에 두 번 다시 안 봐도 되는 경우도 있습니다. 그래도 어 우리 큰도도 있고 좋기 뭐 심다 계속 안 또 팀 또 때 또게 더 라고 아니면 또는 그 봐 해도 아니 그런쪽이 더 다 한다고 해서 그쪽기요. 그래도 저 따라서 좀죠 그래도 그래도거 아닌 정도면 대화를 하고요. 규모가다 무시희가 무시합니다.   피 저게 제가 왔 봐 거도 때문에 저는도만 하는하게 보고 넘어가질니다.  가 뭐심 싸움이하지 수도 없어까요. </s> ......... ..........']\n",
            "Decoded Labels Sample:\n",
            " ['</s> 경력상태: 경력직 질문: 저는 촉박한 상황 속에서도 꼭 해야 되는 것들을 분류하고 우선순위를 둡니다. 그다음 제 컨디션도 굉장히 중요하기 때문에 조금 크게 분류를 한 다음에 세세하게 하나하나 세부적인 분류를 순서대로 하면서 플랜을 짜는 편입니다. 답변: 어 저는 우선 그 촉박한 상황 안에서 촉박한 상황인 걸 알지만 그래도 꼭 해야 되는 것들을 분리를 분류를 하고요. 그다음에 거기서 우선순위를 둡니다. 음 사실 촉박하다면 꼭 그 당시에 안 해도 되는 것들이 분명히 있을 거기 때문에 그런 거는 최대한 스케줄을 뒤로 <unk>니다. 네 지금 볼 필요가 없기 때문에 그런 것들은 두고 그다음에 이제 당장 처리해 두는 것들이 있으면 거기서부터 이제 일 순위는 뭐 이 순위는 뭐 일의 난이도라든가 아니면은 뭐 일과는 관계없이 꼭 오전 시간에 해야 되는 것 오후 시간 내야 되는 것 아니면 뭐 여러 가지 요인이 있죠. 뭐 어떤 물건이 있으면 그 물건의 상태에 따른 뭐 순서라든지 이런 식으로 분리를 분류를 하는 편이고요. 뭐 당연하게 그리고 거기에는 제 컨디션 여부도 굉장히 중요하구요. 그래서 조금 크게 분류를 먼저 한 다음에 세세하게 하나하나 디테일한 분류를 순서대로 하면서 플랜을 짜는 편입니다. </s><pad><pad><pad><pad><pad><pad><pad><pad><pad>', '</s> 경력상태: 경력직 질문: 채용은 이미 수년간 해왔던 제 스타일이 배어있기 때문에 어렵습니다. 회사를 위해서 제 업무 스타일을 바꾸고 싶지 않습니다. 저는 제 스타일을 고수할 것입니다. 참고해 주시기 바랍니다. 답변: 아니요. 저는 수년간 해왔던 저의 스타일이 이미 배어있기 때문에 어렵습니다. 채용은 사실 어 회사에서 하는 것도 있지만 당사자 그러니까 저도 회사를 보고 어 서로 간에 오케이를 하고 네 계약을 하고 일을 하는 거기 때문에 회사라고 해서 무조건 개인에게 이 회사의 스토 스타일대로 맞춰라 적응해 나가라 라고 하는 거는 부당하다고 생각합니다. 그리고 사람이 다양하게 모이는 곳인데 어떻게 하나의 업무 방식이나 스타일만 고수하고 그렇게 하게끔 하려고 할까요. 그거 자체가 저는 좀 이미 저에게는 마이너스인 감점 요인이라고 생각합니다 제 기준에서. 저는 회사를 위해서 제 업무 스타일을 바꾸고 싶지 않습니다. 저는 제 스타일을 고수할 겁니다. 참고해 주시기 바랍니다. </s><pad><pad><pad><pad><pad><pad><pad><pad><pad><pad><pad><pad><pad><pad><pad><pad><pad><pad><pad><pad><pad><pad><pad><pad><pad><pad><pad><pad><pad><pad><pad><pad><pad><pad><pad><pad><pad><pad><pad><pad><pad><pad><pad><pad><pad><pad><pad><pad><pad><pad><pad><pad><pad><pad>', '</s> 경력상태: 경력직 질문: 용접공들이 하는 일은 많지만, 저희와 다른 팀 간의 갈등이 생길 때는 전국이 넓기 때문에 두 번 다시 안 봐도 되는 경우도 있습니다. 그래도 별거 아닌 정도면 대화를 하고, 규모가 크다면 무시합니다. 답변: 음 워낙에 많습니다. 근데 저희가 하는 일은 제가 하는 일은 우선 전국을 단위로 움직이고 물론 또 저희의 업이 용접이라 또 여성 용접공들이라서 아 이렇게 조금 여성으로만 이루어진 그런 거는 많지는 않은데 어 큰 뭐 건축이나 여러 가지 큰 규모의 공사에서 말하자면 저희도 부서이기 때문에 저희와 다른 팀 간의 어떤 갈등이 생길 때 사실 전국은 넓기 때문에 두 번 다시 안 봐도 되는 경우도 있습니다. 왜냐하면 그만큼 뭐 강 감정이 안 좋거나 갈등이 쌓인 채로 하면 나중에 다른 데서 만날 때 그 쪽이 있다거나 하면 저희가 안 한다고 하거나 뭐 그쪽이 먼저 안 한다고 해도 그만이니까요. 그래서 정도에 따라서겠지만 뭐 별거 아닌 정도면 대화를 하구요. 크다면 저는 무시합니다. 네 어차피 이번에 보고 안 볼 사이기 때문에 저희 일만 깔끔히 하고 빠집니다. 네 서로 간에 자존심 상할 일은 없으니까요. </s><pad><pad><pad><pad><pad><pad><pad><pad><pad><pad><pad><pad><pad><pad><pad><pad><pad><pad><pad><pad>']\n",
            "Calculating ROUGE...\n",
            "\n",
            "ROUGE scores details:\n",
            "Number of valid pairs: 8026\n",
            "Sample ROUGE-1 scores: [0.15384615384615385, 0.03508771929824561, 0.08695652173913045, 0.05, 0.04081632653061225]\n",
            "Calculating METEOR...\n",
            "METEOR result: {'meteor': 0.23248030405243722}\n",
            "Calculating BERTScore...\n",
            "BERTScore finished\n",
            "Calculating BLEU...\n",
            "BLEU result: {'bleu': 0.0820467942561074, 'precisions': [0.4390490520953885, 0.2335551053363755, 0.15027600081989634, 0.10282433442923936], 'brevity_penalty': 0.41123458385639267, 'length_ratio': 0.5294951392279743, 'translation_length': 1416229, 'reference_length': 2674678}\n",
            "Calculating generated length...\n",
            "Final Metrics: {'rouge1': 5.657997475633176, 'rouge2': 0.1366317941213577, 'rougeL': 5.651767722331408, 'meteor': 23.248, 'bertscore_f1': 73.0185, 'bleu': 8.2047, 'gen_len': 158.64627460752556}\n",
            "\n",
            " ================================================== \n",
            "Predictions type: <class 'tuple'>\n",
            "Decoding predictions and labels...\n",
            "Decoded Predictions Sample:\n",
            " ['경력상태: 신입직 질문: 저는 이박한 상황이에서는 침착 해야 하는 일 우선 우선순위를 정둡니다. 우선음 우선 시간디션을 체크장히 중요하기 때문에 저 더 세를 해서 뒤에 그 번째하게 분류 분류 것들을를 해서 합니다. 시간을을 짜고 편입니다. 답변: 저 저는 촉 촉 촉박한 상황 속에서도 꼭박한 상황 속에서도 만큼 알면서도 꼭 꼭 해야 되는 것들을 분류리를 합니다.를 합니다.요. 그다음에 제 이제순위를 둡니다. 어 그 그박한할 어 해야거를 해야 해야 되는 일 있을 있을 거 때문에 그 것들을를 조금 그줄 짜 미루뺐 빼 그래서 그 당장 수 없는 때문에 네 것들을 조금 그음에 제 제 해야해야 줄 게 중요 그 이제 이제 플랜 처리를위로 이제 예를 순위 뭐 삼 우선도가든지 이런면은 뭐 이런 순 좀 뭐 해야 오후 해야 되는 것들부터 시간에에는 되는 것 이런 뭐 이 가지 뭐 있겠잖. 그런 이런 것들이 지금은걸 우선 따라서 분류 시간라든가 이런 것들을 해서리를 해서를 해서 편이고요. 그다 예를장에도 뭐 이제 컨디션도부도 굉장히 중요하기요. 그다 조금 크게 분류를 한 한 다음에 세세하게 하나하나 디테일하게 분류를 순서대로 하면서 플랜을 짜는 편입니다. </s> .  . .', '경력상태: 신입직 질문: 저 프로세 제가 정해져 전부터 진행왔 일 직무일과기있는기 때문에 저지 하지만 알아라면 스타 스타일을 잘 싶지는 않습니다. 답는 이 업무일을 고집하고 수 답 견디 주신 바랍니다. 답변: 저요. 저는 솔간 해왔던 제의 스타일이 배어 배어있기 때문에 저습니다. 저은 이미 저 이미 이미 일이 아니고 저도니까 제를 그 위해서 일을 제가 어이 하는 어 저 하고 하는 하는 것도 때문에 저 입장에서 해서 저적으로 맞는게 업무리를만만서 라고해라야 라고 하는 것은는 저하다고 생각합니다. 저 저 사람을 있고 거이기 저 이 회사를 스타만 스타만 고집할 그 하 되 하는 하까요. 저거는 저 저는 참 부당 익숙의 익숙이너스 요소 것이이라고이라고 생각합니다.니다 . 스타에서. 그래서는 제 위해서 제 업무 스타일을 바꾸고 싶지 않습니다. 저는 제 스타일을 고수할 것입니다.니다. 참고해 주시기 바랍니다. </s> 참고......................................................', '경력상태: 신입직 질문: 저은정은 많이 일은 용접습니다. 용접는 같은 용접원 협 있을 수 서로 단위의 다기 때문에 갈등이 사람 다시 갈등이 좋은도 될 일이 있습니다. 그래서 서로 문제 아닌 일이라고라고 서로 통해서 서로 큰면 팀하지 답변: 용접 용접 용접 용접죠 용접데 용접희 용접 일은 용접 용접 일이 용접은 다 하는이고 있 용접 그희 팀종이 아니이서 용접 용접이라들이 같은 그런 그런 이 하는은분 하는 일이 일이는 아니습니다. 않데요. 저 문제가 전국이라 이런 가지 뭐 기계 그런장은 하는 용접희랑 그렇 간에 때문에 어희 다른 팀 간의 갈등이 갈등이 생길 때는 어 전국이 넓잖 때문에 두 번 다시 안 봐도 되는 경우도 있습니다. 그래도 어 큰 큰도도 격 좋으면 뭐 심다 계속 안 또 팀 또 때 또게 더 라고 아니면 또는 그 봐 해도 아니 그런쪽이 더 다 한다고 해서 그쪽에서기요. 그래도 저 따라서 좀죠 그래도 그래도거 아닌 정도면 대화를 하고요. 규모가다면 무시희가 무시합니다.   피 저게 제가 왔 봐 거도 때문에 저는도만 하는하게 보고 넘어가질니다.  가 뭐심 싸움이하지 수도 없어까요. </s>    ..   .  .  . .']\n",
            "Decoded Labels Sample:\n",
            " ['</s> 경력상태: 경력직 질문: 저는 촉박한 상황 속에서도 꼭 해야 되는 것들을 분류하고 우선순위를 둡니다. 그다음 제 컨디션도 굉장히 중요하기 때문에 조금 크게 분류를 한 다음에 세세하게 하나하나 세부적인 분류를 순서대로 하면서 플랜을 짜는 편입니다. 답변: 어 저는 우선 그 촉박한 상황 안에서 촉박한 상황인 걸 알지만 그래도 꼭 해야 되는 것들을 분리를 분류를 하고요. 그다음에 거기서 우선순위를 둡니다. 음 사실 촉박하다면 꼭 그 당시에 안 해도 되는 것들이 분명히 있을 거기 때문에 그런 거는 최대한 스케줄을 뒤로 <unk>니다. 네 지금 볼 필요가 없기 때문에 그런 것들은 두고 그다음에 이제 당장 처리해 두는 것들이 있으면 거기서부터 이제 일 순위는 뭐 이 순위는 뭐 일의 난이도라든가 아니면은 뭐 일과는 관계없이 꼭 오전 시간에 해야 되는 것 오후 시간 내야 되는 것 아니면 뭐 여러 가지 요인이 있죠. 뭐 어떤 물건이 있으면 그 물건의 상태에 따른 뭐 순서라든지 이런 식으로 분리를 분류를 하는 편이고요. 뭐 당연하게 그리고 거기에는 제 컨디션 여부도 굉장히 중요하구요. 그래서 조금 크게 분류를 먼저 한 다음에 세세하게 하나하나 디테일한 분류를 순서대로 하면서 플랜을 짜는 편입니다. </s><pad><pad><pad><pad><pad><pad><pad><pad><pad>', '</s> 경력상태: 경력직 질문: 채용은 이미 수년간 해왔던 제 스타일이 배어있기 때문에 어렵습니다. 회사를 위해서 제 업무 스타일을 바꾸고 싶지 않습니다. 저는 제 스타일을 고수할 것입니다. 참고해 주시기 바랍니다. 답변: 아니요. 저는 수년간 해왔던 저의 스타일이 이미 배어있기 때문에 어렵습니다. 채용은 사실 어 회사에서 하는 것도 있지만 당사자 그러니까 저도 회사를 보고 어 서로 간에 오케이를 하고 네 계약을 하고 일을 하는 거기 때문에 회사라고 해서 무조건 개인에게 이 회사의 스토 스타일대로 맞춰라 적응해 나가라 라고 하는 거는 부당하다고 생각합니다. 그리고 사람이 다양하게 모이는 곳인데 어떻게 하나의 업무 방식이나 스타일만 고수하고 그렇게 하게끔 하려고 할까요. 그거 자체가 저는 좀 이미 저에게는 마이너스인 감점 요인이라고 생각합니다 제 기준에서. 저는 회사를 위해서 제 업무 스타일을 바꾸고 싶지 않습니다. 저는 제 스타일을 고수할 겁니다. 참고해 주시기 바랍니다. </s><pad><pad><pad><pad><pad><pad><pad><pad><pad><pad><pad><pad><pad><pad><pad><pad><pad><pad><pad><pad><pad><pad><pad><pad><pad><pad><pad><pad><pad><pad><pad><pad><pad><pad><pad><pad><pad><pad><pad><pad><pad><pad><pad><pad><pad><pad><pad><pad><pad><pad><pad><pad><pad><pad>', '</s> 경력상태: 경력직 질문: 용접공들이 하는 일은 많지만, 저희와 다른 팀 간의 갈등이 생길 때는 전국이 넓기 때문에 두 번 다시 안 봐도 되는 경우도 있습니다. 그래도 별거 아닌 정도면 대화를 하고, 규모가 크다면 무시합니다. 답변: 음 워낙에 많습니다. 근데 저희가 하는 일은 제가 하는 일은 우선 전국을 단위로 움직이고 물론 또 저희의 업이 용접이라 또 여성 용접공들이라서 아 이렇게 조금 여성으로만 이루어진 그런 거는 많지는 않은데 어 큰 뭐 건축이나 여러 가지 큰 규모의 공사에서 말하자면 저희도 부서이기 때문에 저희와 다른 팀 간의 어떤 갈등이 생길 때 사실 전국은 넓기 때문에 두 번 다시 안 봐도 되는 경우도 있습니다. 왜냐하면 그만큼 뭐 강 감정이 안 좋거나 갈등이 쌓인 채로 하면 나중에 다른 데서 만날 때 그 쪽이 있다거나 하면 저희가 안 한다고 하거나 뭐 그쪽이 먼저 안 한다고 해도 그만이니까요. 그래서 정도에 따라서겠지만 뭐 별거 아닌 정도면 대화를 하구요. 크다면 저는 무시합니다. 네 어차피 이번에 보고 안 볼 사이기 때문에 저희 일만 깔끔히 하고 빠집니다. 네 서로 간에 자존심 상할 일은 없으니까요. </s><pad><pad><pad><pad><pad><pad><pad><pad><pad><pad><pad><pad><pad><pad><pad><pad><pad><pad><pad><pad>']\n",
            "Calculating ROUGE...\n",
            "\n",
            "ROUGE scores details:\n",
            "Number of valid pairs: 8026\n",
            "Sample ROUGE-1 scores: [0.15384615384615385, 0.03508771929824561, 0.08695652173913045, 0.05, 0.04081632653061225]\n",
            "Calculating METEOR...\n",
            "METEOR result: {'meteor': 0.232676228246428}\n",
            "Calculating BERTScore...\n",
            "BERTScore finished\n",
            "Calculating BLEU...\n",
            "BLEU result: {'bleu': 0.0819749673200491, 'precisions': [0.4387411866835111, 0.23294796374951734, 0.1499195481561751, 0.10268578961123252], 'brevity_penalty': 0.4115970640742463, 'length_ratio': 0.5297422717800049, 'translation_length': 1416890, 'reference_length': 2674678}\n",
            "Calculating generated length...\n",
            "Final Metrics: {'rouge1': 5.656450077669982, 'rouge2': 0.14144832717663144, 'rougeL': 5.650220324368212, 'meteor': 23.2676, 'bertscore_f1': 72.9499, 'bleu': 8.1975, 'gen_len': 159.78818838773984}\n"
          ]
        },
        {
          "name": "stderr",
          "output_type": "stream",
          "text": [
            "There were missing keys in the checkpoint model loaded: ['lm_head.weight'].\n"
          ]
        },
        {
          "data": {
            "text/plain": [
              "TrainOutput(global_step=12768, training_loss=2.656271009516895, metrics={'train_runtime': 22565.1279, 'train_samples_per_second': 18.101, 'train_steps_per_second': 0.566, 'total_flos': 5.3361581359104e+16, 'train_loss': 2.656271009516895, 'epoch': 6.0})"
            ]
          },
          "execution_count": 17,
          "metadata": {},
          "output_type": "execute_result"
        }
      ],
      "source": [
        "# 학습 시작\n",
        "trainer.train()\n"
      ]
    },
    {
      "cell_type": "code",
      "execution_count": null,
      "id": "5ffab265",
      "metadata": {
        "execution": {
          "iopub.execute_input": "2024-11-17T10:11:16.736011Z",
          "iopub.status.busy": "2024-11-17T10:11:16.735682Z",
          "iopub.status.idle": "2024-11-17T10:11:17.815616Z",
          "shell.execute_reply": "2024-11-17T10:11:17.814442Z"
        },
        "id": "5ffab265",
        "papermill": {
          "duration": 1.14181,
          "end_time": "2024-11-17T10:11:17.818056",
          "exception": false,
          "start_time": "2024-11-17T10:11:16.676246",
          "status": "completed"
        },
        "tags": []
      },
      "outputs": [],
      "source": [
        "import os\n",
        "import shutil\n",
        "\n",
        "# 모델 가중치와 설정 저장\n",
        "trainer.save_model(\"./results/best_model\")\n",
        "\n",
        "# 학습 상태 저장\n",
        "trainer.save_state()"
      ]
    },
    {
      "cell_type": "code",
      "execution_count": null,
      "id": "937a4c09",
      "metadata": {
        "id": "937a4c09",
        "papermill": {
          "duration": 0.06122,
          "end_time": "2024-11-17T10:11:17.939810",
          "exception": false,
          "start_time": "2024-11-17T10:11:17.878590",
          "status": "completed"
        },
        "tags": []
      },
      "outputs": [],
      "source": []
    },
    {
      "cell_type": "code",
      "execution_count": null,
      "id": "36f4cefc",
      "metadata": {
        "execution": {
          "iopub.execute_input": "2024-11-17T10:11:18.059702Z",
          "iopub.status.busy": "2024-11-17T10:11:18.058947Z",
          "iopub.status.idle": "2024-11-17T10:11:18.188114Z",
          "shell.execute_reply": "2024-11-17T10:11:18.186953Z"
        },
        "id": "36f4cefc",
        "outputId": "afd83b27-ea83-4993-f620-76c87e96afbe",
        "papermill": {
          "duration": 0.19073,
          "end_time": "2024-11-17T10:11:18.190210",
          "exception": false,
          "start_time": "2024-11-17T10:11:17.999480",
          "status": "completed"
        },
        "tags": []
      },
      "outputs": [
        {
          "name": "stdout",
          "output_type": "stream",
          "text": [
            "GPU 0 메모리 리셋 완료!\n",
            "  전체 메모리: 15095.06 MB\n",
            "  예약된 메모리: 4028.00 MB\n",
            "  사용 중인 메모리: 2102.13 MB\n",
            "  사용 가능 메모리: 1925.87 MB\n",
            "GPU 1 메모리 리셋 완료!\n",
            "  전체 메모리: 15095.06 MB\n",
            "  예약된 메모리: 32.00 MB\n",
            "  사용 중인 메모리: 16.25 MB\n",
            "  사용 가능 메모리: 15.75 MB\n"
          ]
        },
        {
          "name": "stderr",
          "output_type": "stream",
          "text": [
            "/opt/conda/lib/python3.10/site-packages/torch/cuda/memory.py:343: FutureWarning: torch.cuda.reset_max_memory_allocated now calls torch.cuda.reset_peak_memory_stats, which resets /all/ peak memory stats.\n",
            "  warnings.warn(\n"
          ]
        }
      ],
      "source": [
        "import torch\n",
        "\n",
        "# GPU 상태 초기화 및 남은 메모리 확인\n",
        "for i in range(torch.cuda.device_count()):\n",
        "    device = torch.device(f\"cuda:{i}\")\n",
        "\n",
        "    # 메모리 초기화\n",
        "    torch.cuda.empty_cache()  # GPU 캐시 비우기\n",
        "    torch.cuda.ipc_collect()  # GPU 메모리에서 누수된 객체 수집\n",
        "\n",
        "    # 메모리 통계 초기화\n",
        "    torch.cuda.reset_max_memory_allocated(device)\n",
        "    torch.cuda.reset_peak_memory_stats(device)\n",
        "\n",
        "    # GPU 메모리 상태 확인\n",
        "    total_memory = torch.cuda.get_device_properties(device).total_memory  # 전체 메모리\n",
        "    reserved_memory = torch.cuda.memory_reserved(device)  # 예약된 메모리\n",
        "    allocated_memory = torch.cuda.memory_allocated(device)  # 사용 중인 메모리\n",
        "    free_memory = reserved_memory - allocated_memory  # 예약된 메모리 중 사용 가능 메모리\n",
        "\n",
        "    print(f\"GPU {i} 메모리 리셋 완료!\")\n",
        "    print(f\"  전체 메모리: {total_memory / 1024 ** 2:.2f} MB\")\n",
        "    print(f\"  예약된 메모리: {reserved_memory / 1024 ** 2:.2f} MB\")\n",
        "    print(f\"  사용 중인 메모리: {allocated_memory / 1024 ** 2:.2f} MB\")\n",
        "    print(f\"  사용 가능 메모리: {free_memory / 1024 ** 2:.2f} MB\")\n"
      ]
    },
    {
      "cell_type": "code",
      "execution_count": null,
      "id": "4962e1be",
      "metadata": {
        "execution": {
          "iopub.execute_input": "2024-11-17T10:11:18.307814Z",
          "iopub.status.busy": "2024-11-17T10:11:18.307436Z",
          "iopub.status.idle": "2024-11-17T10:11:21.797334Z",
          "shell.execute_reply": "2024-11-17T10:11:21.796449Z"
        },
        "id": "4962e1be",
        "outputId": "b955b48c-0c95-41a9-ad3a-e6b273eaf61f",
        "papermill": {
          "duration": 3.550239,
          "end_time": "2024-11-17T10:11:21.799550",
          "exception": false,
          "start_time": "2024-11-17T10:11:18.249311",
          "status": "completed"
        },
        "tags": []
      },
      "outputs": [
        {
          "name": "stderr",
          "output_type": "stream",
          "text": [
            "/opt/conda/lib/python3.10/site-packages/transformers/generation/configuration_utils.py:601: UserWarning: `do_sample` is set to `False`. However, `temperature` is set to `0.7` -- this flag is only used in sample-based generation modes. You should set `do_sample=True` or unset `temperature`.\n",
            "  warnings.warn(\n"
          ]
        },
        {
          "name": "stdout",
          "output_type": "stream",
          "text": [
            "Generated Text:\n",
            "본인의 강점이 무엇이라고 생각하시나요 라고 질문해 주셨습니다. 저는 리더형 보다는 팔로워 형에 가깝다고 생각합니다. 리더가 되기 위해 많은 노력을 했습니다. 리더의 말을 잘 들어주고 경청해 준다면 더 좋은 결과를 낼 수 있다고 생각하기 때문입니다. 답변: 남을 잘 이끄는 리더 형과 잘 따라오지 못하는 팀원이 있을 때 어떻게 하시는지 궁금합니다 라고 이렇게 질문을 해주셨는데요. 어 일단은 제가 생각하기에 저의 성격상 어 남을 좀 잘 따르는 편이라고 생각을 하고 어 그런 점에 있어서 어 좀 리더형이 더 잘 맞을 것 같다고 생각을 합니다. 어 왜냐하면 어 뭐 리더를 하기 위해서 어 굉장히 많은 노력들을 했었고요. 또 그런 부분에 있어서 제가 좀 더 어 잘 할 수 있을 거라고 생각을 하기 때문에 어 리더형에 더 가깝지 않나 라고 말씀을 드리고 싶습니다. 어 하지만 어 그렇다고 해서 어 저에게 좀 어 맞지 않는다고 생각을 하신다면 어 제가 어 어떤 일을 할 때 어 그 일을 잘 해낼 수 있도록 어 많은 어 노력을 할 것 같습니다. 왜냐하면 저도 어 누군가의 의견을 잘 듣고 또 그 의견에 대해서 잘 경청을 해 준다거나 아니면 그 의견을 어 팀원들에게 잘 전달할 수 있는 그런 능력이 있다고 생각을\n"
          ]
        }
      ],
      "source": [
        "from transformers import AutoModelForCausalLM, AutoTokenizer\n",
        "\n",
        "# Best Model 로드\n",
        "best_model = AutoModelForCausalLM.from_pretrained(\"./results/best_model\")\n",
        "\n",
        "# GPU 설정\n",
        "import torch\n",
        "device = torch.device(\"cuda\" if torch.cuda.is_available() else \"cpu\")\n",
        "model.to(device)\n",
        "\n",
        "# 입력 프롬프트\n",
        "prompt =\"본인의 강점이 무엇이라고 생각하시나요\"  # 텍스트 생성 시작 문장\n",
        "input_ids = tokenizer.encode(prompt, return_tensors=\"pt\").to(device)\n",
        "\n",
        "# 텍스트 생성\n",
        "output = model.generate(\n",
        "    input_ids,\n",
        "    max_length=250,            # 생성할 최대 길이\n",
        "    num_beams=5,               # 빔 서치 크기\n",
        "    no_repeat_ngram_size=2,    # 반복 방지\n",
        "    early_stopping=True,       # 적절히 멈춤\n",
        "    temperature=0.7            # 생성 다양성 제어 (0.7~1.0 추천)\n",
        ")\n",
        "\n",
        "# 결과 디코딩\n",
        "generated_text = tokenizer.decode(output[0], skip_special_tokens=True)\n",
        "print(\"Generated Text:\")\n",
        "print(generated_text)"
      ]
    },
    {
      "cell_type": "code",
      "execution_count": null,
      "id": "1ce68bec",
      "metadata": {
        "execution": {
          "iopub.execute_input": "2024-11-17T10:11:21.920278Z",
          "iopub.status.busy": "2024-11-17T10:11:21.919937Z",
          "iopub.status.idle": "2024-11-17T10:11:25.208944Z",
          "shell.execute_reply": "2024-11-17T10:11:25.207926Z"
        },
        "id": "1ce68bec",
        "outputId": "87694c50-05af-455c-e8f2-9ffd752e7eaa",
        "papermill": {
          "duration": 3.351566,
          "end_time": "2024-11-17T10:11:25.210914",
          "exception": false,
          "start_time": "2024-11-17T10:11:21.859348",
          "status": "completed"
        },
        "tags": []
      },
      "outputs": [
        {
          "name": "stdout",
          "output_type": "stream",
          "text": [
            "Generated Text:\n",
            "저희 회사가 당신을 뽑아야 하는 이유를 설명하세요 라고 질문해 주셨습니다. 이 면접에서 최종 탈락하게 된다면 제가 부족해서 탈락했다고 생각할 것 같습니다. 하지만 저는 이 회사에 꼭 필요한 인재라고 생각하기 때문에 최선을 다해서 노력할 것입니다. 답변: 만약 제가 최종 탈락을 한다면 저의 부족함 때문에 탈락했을 거라고 생각을 합니다. 왜냐하면 제가 면접을 준비할 때 이 회사가 추구하는 인재상이 저와 잘 맞는다고 생각을 했기 때문입니다. 그래서 제가 부족한 점을 채우기 위해서 많은 노력을 했습니다. 그리고 면접관님들께서 저를 뽑아주셨으면 좋겠다 라고 말씀을 해주셨기 때문에 저도 이 회사에서 꼭 필요로 하는 인재가 될 수 있도록 노력을 할 것입니다. 그리고 이 회사에서도 제가 원하는 인재상과 잘 맞을 것이라고 생각을 하기 때문에 제가 탈락하지 않았을까 라는 생각을 해 봅니다. 하지만 만약에 저에게 부족했던 점이 있어서 탈락이 되었다고 생각을 한다면 제가 이 회사와 잘 맞지 않았기 때문에 떨어졌다고 생각을 할 것 같은데요. 왜냐하면 이 회사는 제가 원했던 회사이고 제가 지원한 이 회사의 인재상은 제가 가장 적합하다고 생각했기 때문이라고 생각합니다. 그렇기 때문에 이 회사를 꼭 뽑아 주시기 바랍니다. 그리고 제가 만약 탈락한다면 저에 부족함이 있어서 탈락했다기보다는 제가\n"
          ]
        }
      ],
      "source": [
        "from transformers import AutoModelForCausalLM, AutoTokenizer\n",
        "\n",
        "# Best Model 로드\n",
        "best_model = AutoModelForCausalLM.from_pretrained(\"./results/best_model\")\n",
        "\n",
        "# GPU 설정\n",
        "import torch\n",
        "device = torch.device(\"cuda\" if torch.cuda.is_available() else \"cpu\")\n",
        "model.to(device)\n",
        "\n",
        "# 입력 프롬프트\n",
        "prompt =\"저희 회사가 당신을 뽑아야 하는 이유를 설명하세요\"  # 텍스트 생성 시작 문장\n",
        "input_ids = tokenizer.encode(prompt, return_tensors=\"pt\").to(device)\n",
        "\n",
        "# 텍스트 생성\n",
        "output = model.generate(\n",
        "    input_ids,\n",
        "    max_length=250,             # 생성할 최대 길이\n",
        "    num_beams=5,               # 빔 서치 크기\n",
        "    no_repeat_ngram_size=2,    # 반복 방지\n",
        "    early_stopping=True,       # 적절히 멈춤\n",
        "    temperature=0.7            # 생성 다양성 제어 (0.7~1.0 추천)\n",
        ")\n",
        "\n",
        "# 결과 디코딩\n",
        "generated_text = tokenizer.decode(output[0], skip_special_tokens=True)\n",
        "print(\"Generated Text:\")\n",
        "print(generated_text)"
      ]
    },
    {
      "cell_type": "code",
      "execution_count": null,
      "id": "9c543b39",
      "metadata": {
        "id": "9c543b39",
        "papermill": {
          "duration": 0.05695,
          "end_time": "2024-11-17T10:11:25.326413",
          "exception": false,
          "start_time": "2024-11-17T10:11:25.269463",
          "status": "completed"
        },
        "tags": []
      },
      "outputs": [],
      "source": []
    },
    {
      "cell_type": "markdown",
      "id": "0931760e",
      "metadata": {
        "id": "0931760e",
        "papermill": {
          "duration": 0.057336,
          "end_time": "2024-11-17T10:11:25.440594",
          "exception": false,
          "start_time": "2024-11-17T10:11:25.383258",
          "status": "completed"
        },
        "tags": []
      },
      "source": []
    },
    {
      "cell_type": "code",
      "execution_count": null,
      "id": "71f249a0",
      "metadata": {
        "execution": {
          "iopub.execute_input": "2024-11-17T10:11:25.556827Z",
          "iopub.status.busy": "2024-11-17T10:11:25.556233Z",
          "iopub.status.idle": "2024-11-17T10:11:25.979270Z",
          "shell.execute_reply": "2024-11-17T10:11:25.977944Z"
        },
        "id": "71f249a0",
        "outputId": "a6160175-a154-4782-e032-c9946190a061",
        "papermill": {
          "duration": 0.483104,
          "end_time": "2024-11-17T10:11:25.981189",
          "exception": true,
          "start_time": "2024-11-17T10:11:25.498085",
          "status": "failed"
        },
        "tags": []
      },
      "outputs": [
        {
          "ename": "AttributeError",
          "evalue": "module 'torch' has no attribute 'cache'",
          "output_type": "error",
          "traceback": [
            "\u001b[0;31m---------------------------------------------------------------------------\u001b[0m",
            "\u001b[0;31mAttributeError\u001b[0m                            Traceback (most recent call last)",
            "Cell \u001b[0;32mIn[22], line 1\u001b[0m\n\u001b[0;32m----> 1\u001b[0m \u001b[43mtorch\u001b[49m\u001b[38;5;241;43m.\u001b[39;49m\u001b[43mcache\u001b[49m()\n",
            "File \u001b[0;32m/opt/conda/lib/python3.10/site-packages/torch/__init__.py:2216\u001b[0m, in \u001b[0;36m__getattr__\u001b[0;34m(name)\u001b[0m\n\u001b[1;32m   2213\u001b[0m     \u001b[38;5;28;01mimport\u001b[39;00m \u001b[38;5;21;01mimportlib\u001b[39;00m\n\u001b[1;32m   2214\u001b[0m     \u001b[38;5;28;01mreturn\u001b[39;00m importlib\u001b[38;5;241m.\u001b[39mimport_module(\u001b[38;5;124mf\u001b[39m\u001b[38;5;124m\"\u001b[39m\u001b[38;5;124m.\u001b[39m\u001b[38;5;132;01m{\u001b[39;00mname\u001b[38;5;132;01m}\u001b[39;00m\u001b[38;5;124m\"\u001b[39m, \u001b[38;5;18m__name__\u001b[39m)\n\u001b[0;32m-> 2216\u001b[0m \u001b[38;5;28;01mraise\u001b[39;00m \u001b[38;5;167;01mAttributeError\u001b[39;00m(\u001b[38;5;124mf\u001b[39m\u001b[38;5;124m\"\u001b[39m\u001b[38;5;124mmodule \u001b[39m\u001b[38;5;124m'\u001b[39m\u001b[38;5;132;01m{\u001b[39;00m\u001b[38;5;18m__name__\u001b[39m\u001b[38;5;132;01m}\u001b[39;00m\u001b[38;5;124m'\u001b[39m\u001b[38;5;124m has no attribute \u001b[39m\u001b[38;5;124m'\u001b[39m\u001b[38;5;132;01m{\u001b[39;00mname\u001b[38;5;132;01m}\u001b[39;00m\u001b[38;5;124m'\u001b[39m\u001b[38;5;124m\"\u001b[39m)\n",
            "\u001b[0;31mAttributeError\u001b[0m: module 'torch' has no attribute 'cache'"
          ]
        }
      ],
      "source": [
        "torch.cache()"
      ]
    },
    {
      "cell_type": "code",
      "execution_count": 1,
      "id": "a830f48f",
      "metadata": {
        "execution": {
          "iopub.status.busy": "2024-11-17T03:29:07.280554Z",
          "iopub.status.idle": "2024-11-17T03:29:07.281178Z",
          "shell.execute_reply": "2024-11-17T03:29:07.280931Z",
          "shell.execute_reply.started": "2024-11-17T03:29:07.280904Z"
        },
        "papermill": {
          "duration": null,
          "end_time": null,
          "exception": null,
          "start_time": null,
          "status": "pending"
        },
        "tags": [],
        "colab": {
          "base_uri": "https://localhost:8080/"
        },
        "id": "a830f48f",
        "outputId": "a2e217d5-cd5e-406c-adc4-62868bf8a411"
      },
      "outputs": [
        {
          "output_type": "stream",
          "name": "stdout",
          "text": [
            "       Training Loss  Validation Loss    Rouge1    Rouge2    Rougel   Meteor  \\\n",
            "Epoch                                                                          \n",
            "1             2.9094         2.855737  5.687770  0.169908  5.681541  22.6487   \n",
            "2             2.7594         2.806437  5.631308  0.116708  5.625078  22.7492   \n",
            "3             2.6516         2.784111  5.619340  0.128453  5.619340  22.9913   \n",
            "4             2.5723         2.767072  5.641684  0.155251  5.635454  23.1703   \n",
            "5             2.5062         2.762287  5.657997  0.136632  5.651768  23.2480   \n",
            "6             2.4550         2.761382  5.656450  0.141448  5.650220  23.2676   \n",
            "\n",
            "       Bertscore F1    Bleu     Gen Len  \n",
            "Epoch                                    \n",
            "1           72.5568  8.8251  183.492524  \n",
            "2           72.5631  8.5398  174.239721  \n",
            "3           72.6651  8.3990  167.573636  \n",
            "4           72.9873  7.9482  155.448542  \n",
            "5           73.0185  8.2047  158.646275  \n",
            "6           72.9499  8.1975  159.788188  \n"
          ]
        }
      ],
      "source": [
        "import pandas as pd\n",
        "\n",
        "def text_to_df(text):\n",
        "    # 문자열을 StringIO로 변환하여 read_csv로 읽기\n",
        "    from io import StringIO\n",
        "    df = pd.read_csv(StringIO(text), sep='\\t', index_col='Epoch')\n",
        "    return df\n",
        "\n",
        "# 사용 예시\n",
        "text = \"\"\"\n",
        "Epoch\tTraining Loss\tValidation Loss\tRouge1\tRouge2\tRougel\tMeteor\tBertscore F1\tBleu\tGen Len\n",
        "1\t2.909400\t2.855737\t5.687770\t0.169908\t5.681541\t22.648700\t72.556800\t8.825100\t183.492524\n",
        "2\t2.759400\t2.806437\t5.631308\t0.116708\t5.625078\t22.749200\t72.563100\t8.539800\t174.239721\n",
        "3\t2.651600\t2.784111\t5.619340\t0.128453\t5.619340\t22.991300\t72.665100\t8.399000\t167.573636\n",
        "4\t2.572300\t2.767072\t5.641684\t0.155251\t5.635454\t23.170300\t72.987300\t7.948200\t155.448542\n",
        "5\t2.506200\t2.762287\t5.657997\t0.136632\t5.651768\t23.248000\t73.018500\t8.204700\t158.646275\n",
        "6\t2.455000\t2.761382\t5.656450\t0.141448\t5.650220\t23.267600\t72.949900\t8.197500\t159.788188\"\"\"\n",
        "\n",
        "history_df = text_to_df(text)\n",
        "print(history_df)"
      ]
    },
    {
      "cell_type": "code",
      "execution_count": 2,
      "id": "c6afe13e",
      "metadata": {
        "execution": {
          "iopub.status.busy": "2024-11-17T03:29:07.282582Z",
          "iopub.status.idle": "2024-11-17T03:29:07.283076Z",
          "shell.execute_reply": "2024-11-17T03:29:07.282839Z",
          "shell.execute_reply.started": "2024-11-17T03:29:07.282813Z"
        },
        "id": "c6afe13e",
        "outputId": "b998b855-4937-4817-ab75-36ec4146cdfa",
        "papermill": {
          "duration": null,
          "end_time": null,
          "exception": null,
          "start_time": null,
          "status": "pending"
        },
        "tags": [],
        "colab": {
          "base_uri": "https://localhost:8080/",
          "height": 1000
        }
      },
      "outputs": [
        {
          "output_type": "display_data",
          "data": {
            "text/plain": [
              "<Figure size 1500x1200 with 4 Axes>"
            ],
            "image/png": "[encoded data removed]"
          },
          "metadata": {}
        },
        {
          "output_type": "stream",
          "name": "stdout",
          "text": [
            "\n",
            "Final Metrics:\n",
            "Train Loss: 2.4550\n",
            "Validation Loss: 2.7614\n",
            "ROUGE-1: 5.6565\n",
            "ROUGE-2: 0.1414\n",
            "ROUGE-L: 5.6502\n",
            "METEOR: 23.2676\n",
            "BERTScore: 72.9499\n",
            "BLEU: 8.1975\n",
            "Generation Length: 159.7882\n"
          ]
        }
      ],
      "source": [
        "import matplotlib.pyplot as plt\n",
        "import numpy as np\n",
        "\n",
        "# nan 값을 제외하고 데이터 추출\n",
        "train_loss = history_df['Training Loss'].dropna().values\n",
        "eval_loss = history_df['Validation Loss'].dropna().values\n",
        "rouge1 = history_df['Rouge1'].dropna().values\n",
        "rouge2 = history_df['Rouge2'].dropna().values\n",
        "rougeL = history_df['Rougel'].dropna().values\n",
        "meteor = history_df['Meteor'].dropna().values\n",
        "bertscore = history_df['Bertscore F1'].dropna().values\n",
        "bleu = history_df['Bleu'].dropna().values\n",
        "gen_len = history_df['Gen Len'].dropna().values\n",
        "\n",
        "# 실제 데이터 개수에 맞춰 epochs 배열 생성\n",
        "epochs = np.arange(len(eval_loss))\n",
        "\n",
        "# 그래프 생성\n",
        "fig, ((ax1, ax2), (ax3, ax4)) = plt.subplots(2, 2, figsize=(15, 12))\n",
        "fig.suptitle('Training Metrics Overview', fontsize=16, y=1.02)\n",
        "\n",
        "# Loss plot\n",
        "ax1.plot(epochs, train_loss, 'b-', label='Training Loss', marker='o')\n",
        "ax1.plot(epochs, eval_loss, 'r-', label='Validation Loss', marker='o')\n",
        "ax1.set_title('Training and Validation Loss')\n",
        "ax1.set_xlabel('Epoch')\n",
        "ax1.set_ylabel('Loss')\n",
        "ax1.legend()\n",
        "ax1.grid(True, linestyle='--', alpha=0.7)\n",
        "\n",
        "# ROUGE scores over time\n",
        "ax2.plot(epochs, rouge1, 'b-', label='ROUGE-1', marker='o')\n",
        "ax2.plot(epochs, rouge2, 'r-', label='ROUGE-2', marker='o')\n",
        "ax2.plot(epochs, rougeL, 'g-', label='ROUGE-L', marker='o')\n",
        "ax2.set_title('ROUGE Scores')\n",
        "ax2.set_xlabel('Epoch')\n",
        "ax2.set_ylabel('Score')\n",
        "ax2.legend()\n",
        "ax2.grid(True, linestyle='--', alpha=0.7)\n",
        "\n",
        "# Other metrics\n",
        "ax3.plot(epochs, meteor, 'b-', label='METEOR', marker='o')\n",
        "ax3.plot(epochs, bertscore, 'r-', label='BERTScore F1', marker='o')\n",
        "ax3.plot(epochs, bleu, 'g-', label='BLEU', marker='o')\n",
        "ax3.set_title('Other Metrics')\n",
        "ax3.set_xlabel('Epoch')\n",
        "ax3.set_ylabel('Score')\n",
        "ax3.legend()\n",
        "ax3.grid(True, linestyle='--', alpha=0.7)\n",
        "\n",
        "# Generation length\n",
        "ax4.plot(epochs, gen_len, 'b-', label='Generation Length', marker='o')\n",
        "ax4.set_title('Generation Length')\n",
        "ax4.set_xlabel('Epoch')\n",
        "ax4.set_ylabel('Length')\n",
        "ax4.legend()\n",
        "ax4.grid(True, linestyle='--', alpha=0.7)\n",
        "\n",
        "plt.tight_layout()\n",
        "\n",
        "# 그래프 저장\n",
        "plt.savefig('training_metrics.png', dpi=300, bbox_inches='tight')\n",
        "plt.show()\n",
        "\n",
        "# 최종 결과값들 출력\n",
        "print(\"\\nFinal Metrics:\")\n",
        "print(f\"Train Loss: {train_loss[-1]:.4f}\")\n",
        "print(f\"Validation Loss: {eval_loss[-1]:.4f}\")\n",
        "print(f\"ROUGE-1: {rouge1[-1]:.4f}\")\n",
        "print(f\"ROUGE-2: {rouge2[-1]:.4f}\")\n",
        "print(f\"ROUGE-L: {rougeL[-1]:.4f}\")\n",
        "print(f\"METEOR: {meteor[-1]:.4f}\")\n",
        "print(f\"BERTScore: {bertscore[-1]:.4f}\")\n",
        "print(f\"BLEU: {bleu[-1]:.4f}\")\n",
        "print(f\"Generation Length: {gen_len[-1]:.4f}\")"
      ]
    },
    {
      "cell_type": "markdown",
      "id": "d6ccc8dc",
      "metadata": {
        "id": "d6ccc8dc",
        "papermill": {
          "duration": null,
          "end_time": null,
          "exception": null,
          "start_time": null,
          "status": "pending"
        },
        "tags": []
      },
      "source": []
    }
  ],
  "metadata": {
    "colab": {
      "provenance": [],
      "include_colab_link": true
    },
    "kaggle": {
      "accelerator": "nvidiaTeslaT4",
      "dataSources": [],
      "dockerImageVersionId": 30787,
      "isGpuEnabled": true,
      "isInternetEnabled": true,
      "language": "python",
      "sourceType": "notebook"
    },
    "kernelspec": {
      "display_name": "Python 3",
      "name": "python3"
    },
    "language_info": {
      "codemirror_mode": {
        "name": "ipython",
        "version": 3
      },
      "file_extension": ".py",
      "mimetype": "text/x-python",
      "name": "python",
      "nbconvert_exporter": "python",
      "pygments_lexer": "ipython3",
      "version": "3.10.14"
    },
    "papermill": {
      "default_parameters": {},
      "duration": 22847.685876,
      "end_time": "2024-11-17T10:11:29.262905",
      "environment_variables": {},
      "exception": true,
      "input_path": "__notebook__.ipynb",
      "output_path": "__notebook__.ipynb",
      "parameters": {},
      "start_time": "2024-11-17T03:50:41.577029",
      "version": "2.6.0"
    },
    "widgets": {
      "application/vnd.jupyter.widget-state+json": {}
    }
  },
  "nbformat": 4,
  "nbformat_minor": 5
}