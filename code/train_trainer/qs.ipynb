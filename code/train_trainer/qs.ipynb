{
  "cells": [
    {
      "cell_type": "markdown",
      "metadata": {
        "id": "view-in-github",
        "colab_type": "text"
      },
      "source": [
        "<a href=\"https://colab.research.google.com/github/1000century/likelion_proj2/blob/main/code/train/v7(question_sum).ipynb\" target=\"_parent\"><img src=\"https://colab.research.google.com/assets/colab-badge.svg\" alt=\"Open In Colab\"/></a>"
      ]
    },
    {
      "cell_type": "code",
      "execution_count": null,
      "id": "c26bd915",
      "metadata": {
        "execution": {
          "iopub.execute_input": "2024-11-17T03:41:53.495900Z",
          "iopub.status.busy": "2024-11-17T03:41:53.495507Z",
          "iopub.status.idle": "2024-11-17T03:43:03.579974Z",
          "shell.execute_reply": "2024-11-17T03:43:03.578679Z"
        },
        "id": "c26bd915",
        "outputId": "1e17f280-3007-482b-fc49-d2ba7d5df7ef",
        "papermill": {
          "duration": 70.138386,
          "end_time": "2024-11-17T03:43:03.582698",
          "exception": false,
          "start_time": "2024-11-17T03:41:53.444312",
          "status": "completed"
        },
        "tags": []
      },
      "outputs": [
        {
          "name": "stdout",
          "output_type": "stream",
          "text": [
            "Requirement already satisfied: nltk in /opt/conda/lib/python3.10/site-packages (3.2.4)\r\n",
            "Collecting nltk\r\n",
            "  Downloading nltk-3.9.1-py3-none-any.whl.metadata (2.9 kB)\r\n",
            "Requirement already satisfied: click in /opt/conda/lib/python3.10/site-packages (from nltk) (8.1.7)\r\n",
            "Requirement already satisfied: joblib in /opt/conda/lib/python3.10/site-packages (from nltk) (1.4.2)\r\n",
            "Requirement already satisfied: regex>=2021.8.3 in /opt/conda/lib/python3.10/site-packages (from nltk) (2024.5.15)\r\n",
            "Requirement already satisfied: tqdm in /opt/conda/lib/python3.10/site-packages (from nltk) (4.66.4)\r\n",
            "Downloading nltk-3.9.1-py3-none-any.whl (1.5 MB)\r\n",
            "\u001b[2K   \u001b[90m━━━━━━━━━━━━━━━━━━━━━━━━━━━━━━━━━━━━━━━━\u001b[0m \u001b[32m1.5/1.5 MB\u001b[0m \u001b[31m18.0 MB/s\u001b[0m eta \u001b[36m0:00:00\u001b[0m\r\n",
            "\u001b[?25hInstalling collected packages: nltk\r\n",
            "  Attempting uninstall: nltk\r\n",
            "    Found existing installation: nltk 3.2.4\r\n",
            "    Uninstalling nltk-3.2.4:\r\n",
            "      Successfully uninstalled nltk-3.2.4\r\n",
            "\u001b[31mERROR: pip's dependency resolver does not currently take into account all the packages that are installed. This behaviour is the source of the following dependency conflicts.\r\n",
            "preprocessing 0.1.13 requires nltk==3.2.4, but you have nltk 3.9.1 which is incompatible.\u001b[0m\u001b[31m\r\n",
            "\u001b[0mSuccessfully installed nltk-3.9.1\r\n"
          ]
        }
      ],
      "source": [
        "! pip install evaluate -qq\n",
        "! pip install datasets -qq\n",
        "! pip install bert_score -qq\n",
        "! pip install rouge-score -qq\n",
        "! pip install --upgrade nltk\n"
      ]
    },
    {
      "cell_type": "code",
      "execution_count": null,
      "id": "3bded7e4",
      "metadata": {
        "execution": {
          "iopub.execute_input": "2024-11-17T03:43:03.699730Z",
          "iopub.status.busy": "2024-11-17T03:43:03.698857Z",
          "iopub.status.idle": "2024-11-17T03:43:03.704435Z",
          "shell.execute_reply": "2024-11-17T03:43:03.703429Z"
        },
        "id": "3bded7e4",
        "papermill": {
          "duration": 0.070668,
          "end_time": "2024-11-17T03:43:03.706565",
          "exception": false,
          "start_time": "2024-11-17T03:43:03.635897",
          "status": "completed"
        },
        "tags": []
      },
      "outputs": [],
      "source": [
        "import gc"
      ]
    },
    {
      "cell_type": "code",
      "execution_count": null,
      "id": "17be5f39",
      "metadata": {
        "execution": {
          "iopub.execute_input": "2024-11-17T03:43:03.804240Z",
          "iopub.status.busy": "2024-11-17T03:43:03.803892Z",
          "iopub.status.idle": "2024-11-17T03:43:05.829887Z",
          "shell.execute_reply": "2024-11-17T03:43:05.829075Z"
        },
        "id": "17be5f39",
        "papermill": {
          "duration": 2.07856,
          "end_time": "2024-11-17T03:43:05.832232",
          "exception": false,
          "start_time": "2024-11-17T03:43:03.753672",
          "status": "completed"
        },
        "tags": []
      },
      "outputs": [],
      "source": [
        "from datasets import load_dataset, Dataset, DatasetDict\n",
        "import pandas as pd\n",
        "import json\n",
        "import os\n",
        "import zipfile\n",
        "from typing import List, Dict\n",
        "\n",
        "def flatten_json_data(data_list):\n",
        "    \"\"\"JSON 데이터를 평탄화하는 함수\"\"\"\n",
        "    return pd.json_normalize(\n",
        "        data_list,\n",
        "        sep='_',\n",
        "        record_path=None,\n",
        "        meta=[\n",
        "            'category',\n",
        "            'job_field',\n",
        "            'gender',\n",
        "            'experience',\n",
        "            ['version'],\n",
        "            ['dataSet', 'answer', 'raw', 'text'],\n",
        "            ['dataSet', 'answer', 'summary', 'text'],\n",
        "            ['dataSet', 'question', 'raw', 'text'],\n",
        "            ['dataSet', 'info', 'ageRange'],\n",
        "            ['dataSet', 'info', 'channel'],\n",
        "            ['dataSet', 'info', 'date'],\n",
        "            ['dataSet', 'info', 'experience'],\n",
        "            ['dataSet', 'info', 'gender'],\n",
        "            ['dataSet', 'info', 'occupation'],\n",
        "            ['dataSet', 'info', 'place'],\n",
        "            ['rawDataInfo', 'answer', 'audioPath'],\n",
        "            ['rawDataInfo', 'question', 'audioPath']\n",
        "        ]\n",
        "    )\n",
        "\n",
        "def download_and_extract(urls: List[str], base_path: str) -> None:\n",
        "    \"\"\"\n",
        "    URL 리스트에서 ZIP 파일을 다운로드하고 압축을 해제하는 함수\n",
        "    \"\"\"\n",
        "    os.makedirs(base_path, exist_ok=True)\n",
        "\n",
        "    for i, url in enumerate(urls):\n",
        "        zip_file_name = url.split(\"/\")[-1]\n",
        "        zip_file_path = os.path.join(\"/kaggle/working\", zip_file_name)\n",
        "        print(f'처리중... {i+1}: {zip_file_name}')\n",
        "\n",
        "        # wget을 사용하여 파일 다운로드\n",
        "        !wget -q {url} -O {zip_file_path}\n",
        "\n",
        "        # 압축 해제할 폴더 생성\n",
        "        subfolder_name = zip_file_name.replace('.zip', '')\n",
        "        subfolder_path = os.path.join(base_path, subfolder_name)\n",
        "        os.makedirs(subfolder_path, exist_ok=True)\n",
        "\n",
        "        # ZIP 파일 압축 해제\n",
        "        with zipfile.ZipFile(zip_file_path, 'r') as zip_ref:\n",
        "            zip_ref.extractall(subfolder_path)\n",
        "\n",
        "        # 다운로드한 ZIP 파일 삭제\n",
        "        os.remove(zip_file_path)\n",
        "\n",
        "def create_dataset_from_json_files(base_path: str) -> Dataset:\n",
        "    \"\"\"\n",
        "    주어진 경로에서 JSON 파일들을 읽어 Dataset으로 변환하는 함수\n",
        "    \"\"\"\n",
        "    all_data = []\n",
        "\n",
        "    for root, _, files in os.walk(base_path):\n",
        "        for file in files:\n",
        "            if file.endswith('.json'):\n",
        "                file_path = os.path.join(root, file)\n",
        "                try:\n",
        "                    with open(file_path, 'r', encoding='utf-8') as f:\n",
        "                        data = json.load(f)\n",
        "                        # 파일 경로에서 메타데이터 추출\n",
        "                        folder_name = os.path.basename(os.path.dirname(file_path))\n",
        "                        parts = folder_name.split('_')\n",
        "                        data.update({\n",
        "                            'category': parts[0],  # TL or VL\n",
        "                            'job_field': '_'.join(parts[1:-2]),\n",
        "                            'gender': parts[-2],\n",
        "                            'experience': parts[-1]\n",
        "                        })\n",
        "                        all_data.append(data)\n",
        "                except json.JSONDecodeError as e:\n",
        "                    print(f\"Error reading {file_path}: {e}\")\n",
        "\n",
        "    # JSON 데이터 평탄화\n",
        "    df = flatten_json_data(all_data)\n",
        "\n",
        "    # DataFrame을 Dataset으로 변환\n",
        "    return Dataset.from_pandas(df)\n",
        "\n",
        "def create_interview_dataset():\n",
        "    \"\"\"\n",
        "    인터뷰 데이터셋을 생성하고 DatasetDict로 반환하는 함수\n",
        "    \"\"\"\n",
        "    # 훈련 데이터 URL\n",
        "    train_urls = [\n",
        "        \"https://github.com/1000century/multi_lion/raw/main/interview/Training/TL_01.Management_Female_Experienced.zip\",\n",
        "        \"https://github.com/1000century/multi_lion/raw/main/interview/Training/TL_01.Management_Female_New.zip\",\n",
        "        \"https://github.com/1000century/multi_lion/raw/main/interview/Training/TL_01.Management_Male_Experienced.zip\",\n",
        "        \"https://github.com/1000century/multi_lion/raw/main/interview/Training/TL_01.Management_Male_New.zip\",\n",
        "        \"https://github.com/1000century/multi_lion/raw/main/interview/Training/TL_02.SalesMarketing_Female_Experienced.zip\",\n",
        "        \"https://github.com/1000century/multi_lion/raw/main/interview/Training/TL_02.SalesMarketing_Female_New.zip\",\n",
        "        \"https://github.com/1000century/multi_lion/raw/main/interview/Training/TL_02.SalesMarketing_Male_Experienced.zip\",\n",
        "        \"https://github.com/1000century/multi_lion/raw/main/interview/Training/TL_02.SalesMarketing_Male_New.zip\",\n",
        "        \"https://github.com/1000century/multi_lion/raw/main/interview/Training/TL_03.PublicService_Female_Experienced.zip\",\n",
        "        \"https://github.com/1000century/multi_lion/raw/main/interview/Training/TL_03.PublicService_Female_New.zip\",\n",
        "        \"https://github.com/1000century/multi_lion/raw/main/interview/Training/TL_03.PublicService_Male_Experienced.zip\",\n",
        "        \"https://github.com/1000century/multi_lion/raw/main/interview/Training/TL_03.PublicService_Male_New.zip\",\n",
        "        \"https://github.com/1000century/multi_lion/raw/main/interview/Training/TL_04.RND_Female_Experienced.zip\",\n",
        "        \"https://github.com/1000century/multi_lion/raw/main/interview/Training/TL_04.RND_Female_New.zip\",\n",
        "        \"https://github.com/1000century/multi_lion/raw/main/interview/Training/TL_04.RND_Male_Experienced.zip\",\n",
        "        \"https://github.com/1000century/multi_lion/raw/main/interview/Training/TL_04.RND_Male_New.zip\",\n",
        "        \"https://github.com/1000century/multi_lion/raw/main/interview/Training/TL_05.ICT_Female_Experienced.zip\",\n",
        "        \"https://github.com/1000century/multi_lion/raw/main/interview/Training/TL_05.ICT_Female_New.zip\",\n",
        "        \"https://github.com/1000century/multi_lion/raw/main/interview/Training/TL_05.ICT_Male_Experienced.zip\",\n",
        "        \"https://github.com/1000century/multi_lion/raw/main/interview/Training/TL_05.ICT_Male_New.zip\",\n",
        "        \"https://github.com/1000century/multi_lion/raw/main/interview/Training/TL_06.Design_Female_Experienced.zip\",\n",
        "        \"https://github.com/1000century/multi_lion/raw/main/interview/Training/TL_06.Design_Female_New.zip\",\n",
        "        \"https://github.com/1000century/multi_lion/raw/main/interview/Training/TL_06.Design_Male_Experienced.zip\",\n",
        "        \"https://github.com/1000century/multi_lion/raw/main/interview/Training/TL_06.Design_Male_New.zip\",\n",
        "        \"https://github.com/1000century/multi_lion/raw/main/interview/Training/TL_07.ProductionManufacturing_Female_Experienced.zip\",\n",
        "        \"https://github.com/1000century/multi_lion/raw/main/interview/Training/TL_07.ProductionManufacturing_Female_New.zip\",\n",
        "        \"https://github.com/1000century/multi_lion/raw/main/interview/Training/TL_07.ProductionManufacturing_Male_Experienced.zip\",\n",
        "        \"https://github.com/1000century/multi_lion/raw/main/interview/Training/TL_07.ProductionManufacturing_Male_New.zip\"\n",
        "    ]\n",
        "\n",
        "    # 검증 데이터 URL\n",
        "    valid_urls = [\n",
        "        \"https://github.com/1000century/multi_lion/raw/main/interview/Validation/VL_01.Management_Female_Experienced.zip\",\n",
        "        \"https://github.com/1000century/multi_lion/raw/main/interview/Validation/VL_01.Management_Female_New.zip\",\n",
        "        \"https://github.com/1000century/multi_lion/raw/main/interview/Validation/VL_01.Management_Male_Experienced.zip\",\n",
        "        \"https://github.com/1000century/multi_lion/raw/main/interview/Validation/VL_01.Management_Male_New.zip\",\n",
        "        \"https://github.com/1000century/multi_lion/raw/main/interview/Validation/VL_02.SalesMarketing_Female_Experienced.zip\",\n",
        "        \"https://github.com/1000century/multi_lion/raw/main/interview/Validation/VL_02.SalesMarketing_Female_New.zip\",\n",
        "        \"https://github.com/1000century/multi_lion/raw/main/interview/Validation/VL_02.SalesMarketing_Male_Experienced.zip\",\n",
        "        \"https://github.com/1000century/multi_lion/raw/main/interview/Validation/VL_02.SalesMarketing_Male_New.zip\",\n",
        "        \"https://github.com/1000century/multi_lion/raw/main/interview/Validation/VL_03.PublicService_Female_Experienced.zip\",\n",
        "        \"https://github.com/1000century/multi_lion/raw/main/interview/Validation/VL_03.PublicService_Female_New.zip\",\n",
        "        \"https://github.com/1000century/multi_lion/raw/main/interview/Validation/VL_03.PublicService_Male_Experienced.zip\",\n",
        "        \"https://github.com/1000century/multi_lion/raw/main/interview/Validation/VL_03.PublicService_Male_New.zip\",\n",
        "        \"https://github.com/1000century/multi_lion/raw/main/interview/Validation/VL_04.RND_Female_Experienced.zip\",\n",
        "        \"https://github.com/1000century/multi_lion/raw/main/interview/Validation/VL_04.RND_Female_New.zip\",\n",
        "        \"https://github.com/1000century/multi_lion/raw/main/interview/Validation/VL_04.RND_Male_Experienced.zip\",\n",
        "        \"https://github.com/1000century/multi_lion/raw/main/interview/Validation/VL_04.RND_Male_New.zip\",\n",
        "        \"https://github.com/1000century/multi_lion/raw/main/interview/Validation/VL_05.ICT_Female_Experienced.zip\",\n",
        "        \"https://github.com/1000century/multi_lion/raw/main/interview/Validation/VL_05.ICT_Female_New.zip\",\n",
        "        \"https://github.com/1000century/multi_lion/raw/main/interview/Validation/VL_05.ICT_Male_Experienced.zip\",\n",
        "        \"https://github.com/1000century/multi_lion/raw/main/interview/Validation/VL_05.ICT_Male_New.zip\",\n",
        "        \"https://github.com/1000century/multi_lion/raw/main/interview/Validation/VL_06.Design_Female_Experienced.zip\",\n",
        "        \"https://github.com/1000century/multi_lion/raw/main/interview/Validation/VL_06.Design_Female_New.zip\",\n",
        "        \"https://github.com/1000century/multi_lion/raw/main/interview/Validation/VL_06.Design_Male_Experienced.zip\",\n",
        "        \"https://github.com/1000century/multi_lion/raw/main/interview/Validation/VL_06.Design_Male_New.zip\",\n",
        "        \"https://github.com/1000century/multi_lion/raw/main/interview/Validation/VL_07.ProductionManufacturing_Female_Experienced.zip\",\n",
        "        \"https://github.com/1000century/multi_lion/raw/main/interview/Validation/VL_07.ProductionManufacturing_Female_New.zip\",\n",
        "        \"https://github.com/1000century/multi_lion/raw/main/interview/Validation/VL_07.ProductionManufacturing_Male_Experienced.zip\",\n",
        "        \"https://github.com/1000century/multi_lion/raw/main/interview/Validation/VL_07.ProductionManufacturing_Male_New.zip\"\n",
        "    ]\n",
        "\n",
        "    # 데이터 다운로드 및 압축 해제\n",
        "    train_path = '/kaggle/working/train_unzipped'\n",
        "    valid_path = '/kaggle/working/validation_unzipped'\n",
        "\n",
        "    download_and_extract(train_urls, train_path)\n",
        "    download_and_extract(valid_urls, valid_path)\n",
        "\n",
        "    # 데이터셋 생성\n",
        "    train_dataset = create_dataset_from_json_files(train_path)\n",
        "    valid_dataset = create_dataset_from_json_files(valid_path)\n",
        "\n",
        "    # DatasetDict 생성\n",
        "    dataset_dict = DatasetDict({\n",
        "        'train': train_dataset,\n",
        "        'validation': valid_dataset\n",
        "    })\n",
        "\n",
        "    return dataset_dict"
      ]
    },
    {
      "cell_type": "code",
      "execution_count": null,
      "id": "2ce73311",
      "metadata": {
        "execution": {
          "iopub.execute_input": "2024-11-17T03:43:05.927747Z",
          "iopub.status.busy": "2024-11-17T03:43:05.927169Z",
          "iopub.status.idle": "2024-11-17T03:45:27.884296Z",
          "shell.execute_reply": "2024-11-17T03:45:27.883202Z"
        },
        "id": "2ce73311",
        "outputId": "82aaf9cb-85fe-4809-f6d0-a24b13364119",
        "papermill": {
          "duration": 142.006936,
          "end_time": "2024-11-17T03:45:27.886546",
          "exception": false,
          "start_time": "2024-11-17T03:43:05.879610",
          "status": "completed"
        },
        "tags": []
      },
      "outputs": [
        {
          "name": "stdout",
          "output_type": "stream",
          "text": [
            "처리중... 1: TL_01.Management_Female_Experienced.zip\n",
            "처리중... 2: TL_01.Management_Female_New.zip\n",
            "처리중... 3: TL_01.Management_Male_Experienced.zip\n",
            "처리중... 4: TL_01.Management_Male_New.zip\n",
            "처리중... 5: TL_02.SalesMarketing_Female_Experienced.zip\n",
            "처리중... 6: TL_02.SalesMarketing_Female_New.zip\n",
            "처리중... 7: TL_02.SalesMarketing_Male_Experienced.zip\n",
            "처리중... 8: TL_02.SalesMarketing_Male_New.zip\n",
            "처리중... 9: TL_03.PublicService_Female_Experienced.zip\n",
            "처리중... 10: TL_03.PublicService_Female_New.zip\n",
            "처리중... 11: TL_03.PublicService_Male_Experienced.zip\n",
            "처리중... 12: TL_03.PublicService_Male_New.zip\n",
            "처리중... 13: TL_04.RND_Female_Experienced.zip\n",
            "처리중... 14: TL_04.RND_Female_New.zip\n",
            "처리중... 15: TL_04.RND_Male_Experienced.zip\n",
            "처리중... 16: TL_04.RND_Male_New.zip\n",
            "처리중... 17: TL_05.ICT_Female_Experienced.zip\n",
            "처리중... 18: TL_05.ICT_Female_New.zip\n",
            "처리중... 19: TL_05.ICT_Male_Experienced.zip\n",
            "처리중... 20: TL_05.ICT_Male_New.zip\n",
            "처리중... 21: TL_06.Design_Female_Experienced.zip\n",
            "처리중... 22: TL_06.Design_Female_New.zip\n",
            "처리중... 23: TL_06.Design_Male_Experienced.zip\n",
            "처리중... 24: TL_06.Design_Male_New.zip\n",
            "처리중... 25: TL_07.ProductionManufacturing_Female_Experienced.zip\n",
            "처리중... 26: TL_07.ProductionManufacturing_Female_New.zip\n",
            "처리중... 27: TL_07.ProductionManufacturing_Male_Experienced.zip\n",
            "처리중... 28: TL_07.ProductionManufacturing_Male_New.zip\n",
            "처리중... 1: VL_01.Management_Female_Experienced.zip\n",
            "처리중... 2: VL_01.Management_Female_New.zip\n",
            "처리중... 3: VL_01.Management_Male_Experienced.zip\n",
            "처리중... 4: VL_01.Management_Male_New.zip\n",
            "처리중... 5: VL_02.SalesMarketing_Female_Experienced.zip\n",
            "처리중... 6: VL_02.SalesMarketing_Female_New.zip\n",
            "처리중... 7: VL_02.SalesMarketing_Male_Experienced.zip\n",
            "처리중... 8: VL_02.SalesMarketing_Male_New.zip\n",
            "처리중... 9: VL_03.PublicService_Female_Experienced.zip\n",
            "처리중... 10: VL_03.PublicService_Female_New.zip\n",
            "처리중... 11: VL_03.PublicService_Male_Experienced.zip\n",
            "처리중... 12: VL_03.PublicService_Male_New.zip\n",
            "처리중... 13: VL_04.RND_Female_Experienced.zip\n",
            "처리중... 14: VL_04.RND_Female_New.zip\n",
            "처리중... 15: VL_04.RND_Male_Experienced.zip\n",
            "처리중... 16: VL_04.RND_Male_New.zip\n",
            "처리중... 17: VL_05.ICT_Female_Experienced.zip\n",
            "처리중... 18: VL_05.ICT_Female_New.zip\n",
            "처리중... 19: VL_05.ICT_Male_Experienced.zip\n",
            "처리중... 20: VL_05.ICT_Male_New.zip\n",
            "처리중... 21: VL_06.Design_Female_Experienced.zip\n",
            "처리중... 22: VL_06.Design_Female_New.zip\n",
            "처리중... 23: VL_06.Design_Male_Experienced.zip\n",
            "처리중... 24: VL_06.Design_Male_New.zip\n",
            "처리중... 25: VL_07.ProductionManufacturing_Female_Experienced.zip\n",
            "처리중... 26: VL_07.ProductionManufacturing_Female_New.zip\n",
            "처리중... 27: VL_07.ProductionManufacturing_Male_Experienced.zip\n",
            "처리중... 28: VL_07.ProductionManufacturing_Male_New.zip\n",
            "Error reading /kaggle/working/train_unzipped/TL_05.ICT_Male_New/ckmk_d_ict_m_n_337139.json: Expecting property name enclosed in double quotes: line 22 column 21 (char 576)\n",
            "Error reading /kaggle/working/train_unzipped/TL_01.Management_Female_New/ckmk_d_bm_f_n_269424.json: Invalid control character at: line 23 column 571 (char 1132)\n",
            "Error reading /kaggle/working/train_unzipped/TL_01.Management_Female_New/ckmk_d_bm_f_n_178194.json: Invalid control character at: line 23 column 135 (char 755)\n",
            "Error reading /kaggle/working/train_unzipped/TL_01.Management_Female_New/ckmk_d_bm_f_n_343176.json: Invalid control character at: line 23 column 433 (char 1029)\n",
            "Error reading /kaggle/working/validation_unzipped/VL_01.Management_Female_New/ckmk_d_bm_f_n_161564.json: Invalid control character at: line 23 column 100 (char 688)\n",
            "Error reading /kaggle/working/validation_unzipped/VL_06.Design_Female_Experienced/ckmk_d_ard_f_e_66661.json: Invalid control character at: line 34 column 165 (char 1573)\n",
            "\n",
            "Dataset Info:\n",
            "DatasetDict({\n",
            "    train: Dataset({\n",
            "        features: ['version', 'category', 'job_field', 'gender', 'experience', 'dataSet_info_date', 'dataSet_info_occupation', 'dataSet_info_channel', 'dataSet_info_place', 'dataSet_info_gender', 'dataSet_info_ageRange', 'dataSet_info_experience', 'dataSet_question_raw_text', 'dataSet_question_raw_wordCount', 'dataSet_question_emotion', 'dataSet_question_intent', 'dataSet_answer_raw_text', 'dataSet_answer_raw_wordCount', 'dataSet_answer_emotion', 'dataSet_answer_intent', 'dataSet_answer_summary_text', 'dataSet_answer_summary_wordCount', 'rawDataInfo_question_fileFormat', 'rawDataInfo_question_fileSize', 'rawDataInfo_question_duration', 'rawDataInfo_question_samplingBit', 'rawDataInfo_question_channelCount', 'rawDataInfo_question_samplingRate', 'rawDataInfo_question_audioPath', 'rawDataInfo_answer_fileFormat', 'rawDataInfo_answer_fileSize', 'rawDataInfo_answer_duration', 'rawDataInfo_answer_samplingBit', 'rawDataInfo_answer_channelCount', 'rawDataInfo_answer_samplingRate', 'rawDataInfo_answer_audioPath'],\n",
            "        num_rows: 68074\n",
            "    })\n",
            "    validation: Dataset({\n",
            "        features: ['version', 'category', 'job_field', 'gender', 'experience', 'dataSet_info_date', 'dataSet_info_occupation', 'dataSet_info_channel', 'dataSet_info_place', 'dataSet_info_gender', 'dataSet_info_ageRange', 'dataSet_info_experience', 'dataSet_question_raw_text', 'dataSet_question_raw_wordCount', 'dataSet_question_emotion', 'dataSet_question_intent', 'dataSet_answer_raw_text', 'dataSet_answer_raw_wordCount', 'dataSet_answer_emotion', 'dataSet_answer_intent', 'dataSet_answer_summary_text', 'dataSet_answer_summary_wordCount', 'rawDataInfo_question_fileFormat', 'rawDataInfo_question_fileSize', 'rawDataInfo_question_duration', 'rawDataInfo_question_samplingBit', 'rawDataInfo_question_channelCount', 'rawDataInfo_question_samplingRate', 'rawDataInfo_question_audioPath', 'rawDataInfo_answer_fileFormat', 'rawDataInfo_answer_fileSize', 'rawDataInfo_answer_duration', 'rawDataInfo_answer_samplingBit', 'rawDataInfo_answer_channelCount', 'rawDataInfo_answer_samplingRate', 'rawDataInfo_answer_audioPath'],\n",
            "        num_rows: 8026\n",
            "    })\n",
            "})\n",
            "\n",
            "Training Data Sample:\n",
            "{'version': '1.0', 'category': 'TL', 'job_field': '05.ICT', 'gender': 'Female', 'experience': 'Experienced', 'dataSet_info_date': '20230116', 'dataSet_info_occupation': 'ICT', 'dataSet_info_channel': 'MOCK', 'dataSet_info_place': 'ONLINE', 'dataSet_info_gender': 'FEMALE', 'dataSet_info_ageRange': '-34', 'dataSet_info_experience': 'EXPERIENCED', 'dataSet_question_raw_text': '여러 사람들과 협업을 하면서 가장 어려웠던 점이 있었으면 그것은 무엇이었나요 그리고 그것을 어떻게 극복했는지도 말씀해 주세요', 'dataSet_question_raw_wordCount': 16, 'dataSet_question_emotion': [], 'dataSet_question_intent': [], 'dataSet_answer_raw_text': '아무래도 각자 살아온 환경이 다르고 가진 생각이 다르기 때문에 어 소통에 있어서 에이를 말하는데 비를 알아듣는다던가 에이를 말했는데 에이다시 처럼 조금 다르게 알아들으시는 경우가 굉장히 비일비재 했던 것 같습니다. 그런 면을 당사자분과 좀 더 깊게 이야기를 하면서 맞춰가는 과정이 굉장히 중요했다고 생각하고 생각했고 그렇게 맞춰가는 과정에서 서로 친밀하게 어 친해지는 과정이 어느 정도는 필요하다고 생각해서 대화하면서 스몰 토크를 많이 하는 편이기도 했고 또 요즘 비대면 업무가 많기 때문에 대면으로 만날 경우가 생기면은 주저 하지 않고 어 많이 많이 만나서 이야기를 해보고 어떤 분이신지 파악하기 위해 노력을 많이 했습니다.', 'dataSet_answer_raw_wordCount': 88, 'dataSet_answer_emotion': [], 'dataSet_answer_intent': [{'category': 'attitude', 'expression': '', 'text': ''}], 'dataSet_answer_summary_text': '소통에 있어 당사자분과 좀 더 깊게 이야기를 하면서 맞춰가는 과정이 굉장히 중요하다고 생각하고 생각했고, 그렇게 친해지는 과정이 필요하다고 생각해서 대화하면서 스몰 토크를 많이 하는 편이기도 했습니다.', 'dataSet_answer_summary_wordCount': 26, 'rawDataInfo_question_fileFormat': 'wav', 'rawDataInfo_question_fileSize': 380878, 'rawDataInfo_question_duration': 11900, 'rawDataInfo_question_samplingBit': 16, 'rawDataInfo_question_channelCount': 1, 'rawDataInfo_question_samplingRate': '16kHz', 'rawDataInfo_question_audioPath': '/Mock/05.ICT/Female/Experienced/ckmk_q_ict_f_e_177948.wav', 'rawDataInfo_answer_fileFormat': 'wav', 'rawDataInfo_answer_fileSize': 1678158, 'rawDataInfo_answer_duration': 52440, 'rawDataInfo_answer_samplingBit': 16, 'rawDataInfo_answer_channelCount': 1, 'rawDataInfo_answer_samplingRate': '16kHz', 'rawDataInfo_answer_audioPath': '/Mock/05.ICT/Female/Experienced/ckmk_a_ict_f_e_177948.wav'}\n",
            "\n",
            "Validation Data Sample:\n",
            "{'version': '1.0', 'category': 'VL', 'job_field': '03.PublicService', 'gender': 'Female', 'experience': 'New', 'dataSet_info_date': '20230116', 'dataSet_info_occupation': 'PS', 'dataSet_info_channel': 'MOCK', 'dataSet_info_place': 'ONLINE', 'dataSet_info_gender': 'FEMALE', 'dataSet_info_ageRange': '-34', 'dataSet_info_experience': 'NEW', 'dataSet_question_raw_text': '구성원들과의 갈등이 생겼을 때 그것을 해결하는 방법이 있으신가요', 'dataSet_question_raw_wordCount': 8, 'dataSet_question_emotion': [], 'dataSet_question_intent': [], 'dataSet_answer_raw_text': '네 저는 한 발 물러나고 두 발 다가갔습니다. 저는 우선 어 실제로 학과 회장을 금 학과 회장으로서 활동할 당시 어 약 삼십 여 명의 팀원과 함께 다양한 행사를 기획하고 진행했던 경험이 있습니다. 이 과정에서 어 다수의 학생이 회의에 잘 참여하지 않아 그로 인해 다양한 회의 진행에 문제가 생겼던 경험이 있습니다. 어 저는 이에 갈등을 겪고 어 처음에는 한 발 물러나서 보다 감성적이기보다는 객관적으로 상황을 살펴보기 위해 노력했습니다. 그 후에는 한 발 더 다가가서 혹시 어떤 이유 때문에 그랬는지 한 명 한 명과 얘기해보며 문제를 해결하기 위해 노력했습니다. 그 후 마지막으로 한 발 더 다가가 추가적인 어려움은 어려움은 없는지 어 물어보면서 보다 편안한 분위기에서 회의에 참여할 수 있도록 북돋았습니다. 그 결과 어 전반적인 총 동문의 참석률 어 역대 최고 참석률이라는 좋은 성과를 함께 일궈낼 수 있었습니다. 앞으로 객실 승무원 직무 특성상 다양한 팀원들과 함께 근무할 텐데 그 과정에서 항상 한 발 물러나고 또 두 발 더 다가가는 방법을 통해 최고의 팀 워크를 이끌어내겠습니다.', 'dataSet_answer_raw_wordCount': 152, 'dataSet_answer_emotion': [], 'dataSet_answer_intent': [{'category': 'personality', 'expression': 'c_confl_mg', 'text': '어 저는 이에 갈등을 겪고   어 처음에는 한 발 물러나서 보다 감성적이기보다는 객관적으로 상황을 살펴보기 위해 노력했습니다.'}, {'category': 'personality', 'expression': 'c_confl_mg', 'text': '그 후에는 한 발 더 다가가서 혹시 어떤 이유 때문에 그랬는지 한 명 한 명과 얘기해보며   문제를 해결하기 위해 노력했습니다.'}, {'category': 'personality', 'expression': 'c_confl_mg', 'text': '그 후 마지막으로 한 발 더 다가가 추가적인 어려움은 어려움은 없는지   어 물어보면서 보다 편안한 분위기에서 회의에 참여할 수 있도록 북돋았습니다.'}, {'category': 'personality', 'expression': 'c_cop', 'text': '그 결과 어 전반적인   총 동문의 참석률 어 역대 최고 참석률이라는 좋은 성과를 함께 일궈낼 수 있었습니다.'}, {'category': 'personality', 'expression': 'c_cop', 'text': '앞으로 객실 승무원 직무 특성상 다양한 팀원들과 함께 근무할 텐데 그 과정에서 항상 한 발 물러나고   또 두 발 더  다가가는 방법을 통해 최고의 팀 워크를 이끌어내겠습니다.'}], 'dataSet_answer_summary_text': '저는 학과 회장으로 활동할 당시 다수의 학생이 회의에 잘 참여하지 않아 회의 진행에 문제가 생겼던 경험이 있습니다. 이에 갈등을 겪고 객관적으로 상황을 살펴보기 위해 노력했습니다. 그 후 한 발 더 다가가 추가적인 어려움은 없는지 물어보며 편안한 분위기에서 회의에 참여할 수 있도록 북돋았습니다. 그 결과 역대 최고 참석률이라는 좋은 성과를 일궈낼 수 있었습니다.', 'dataSet_answer_summary_wordCount': 52, 'rawDataInfo_question_fileFormat': 'wav', 'rawDataInfo_question_fileSize': 203598, 'rawDataInfo_question_duration': 6360, 'rawDataInfo_question_samplingBit': 16, 'rawDataInfo_question_channelCount': 1, 'rawDataInfo_question_samplingRate': '16kHz', 'rawDataInfo_question_audioPath': '/Mock/03.PublicService/Female/New/ckmk_q_ps_f_n_60422.wav', 'rawDataInfo_answer_fileFormat': 'wav', 'rawDataInfo_answer_fileSize': 2867918, 'rawDataInfo_answer_duration': 89620, 'rawDataInfo_answer_samplingBit': 16, 'rawDataInfo_answer_channelCount': 1, 'rawDataInfo_answer_samplingRate': '16kHz', 'rawDataInfo_answer_audioPath': '/Mock/03.PublicService/Female/New/ckmk_a_ps_f_n_60422.wav'}\n"
          ]
        }
      ],
      "source": [
        "# 데이터셋 생성\n",
        "dataset = create_interview_dataset()\n",
        "\n",
        "# 데이터셋 정보 출력\n",
        "print(\"\\nDataset Info:\")\n",
        "print(dataset)\n",
        "\n",
        "# 훈련 데이터 샘플 확인\n",
        "print(\"\\nTraining Data Sample:\")\n",
        "print(dataset['train'][0])\n",
        "\n",
        "# 검증 데이터 샘플 확인\n",
        "print(\"\\nValidation Data Sample:\")\n",
        "print(dataset['validation'][0])\n",
        "\n",
        "# 데이터셋을 로컬이나 HuggingFace Hub에 저장하기\n",
        "# dataset.save_to_disk(\"path/to/local/directory\")  # 로컬에 저장\n",
        "# dataset.push_to_hub(\"username/dataset-name\")     # HuggingFace Hub에 업로드"
      ]
    },
    {
      "cell_type": "code",
      "execution_count": null,
      "id": "d66cab2e",
      "metadata": {
        "execution": {
          "iopub.execute_input": "2024-11-17T03:45:27.991948Z",
          "iopub.status.busy": "2024-11-17T03:45:27.991589Z",
          "iopub.status.idle": "2024-11-17T03:45:50.588380Z",
          "shell.execute_reply": "2024-11-17T03:45:50.587575Z"
        },
        "id": "d66cab2e",
        "papermill": {
          "duration": 22.652911,
          "end_time": "2024-11-17T03:45:50.590911",
          "exception": false,
          "start_time": "2024-11-17T03:45:27.938000",
          "status": "completed"
        },
        "tags": []
      },
      "outputs": [],
      "source": [
        "from transformers import (\n",
        "    AutoTokenizer,\n",
        "    AutoModelForSequenceClassification,\n",
        "    TrainingArguments,\n",
        "    Trainer,\n",
        "    DataCollatorWithPadding\n",
        ")\n",
        "from datasets import load_dataset\n",
        "import numpy as np"
      ]
    },
    {
      "cell_type": "code",
      "execution_count": null,
      "id": "9d8592cf",
      "metadata": {
        "execution": {
          "iopub.execute_input": "2024-11-17T03:45:50.697637Z",
          "iopub.status.busy": "2024-11-17T03:45:50.696875Z",
          "iopub.status.idle": "2024-11-17T03:45:53.371381Z",
          "shell.execute_reply": "2024-11-17T03:45:53.370268Z"
        },
        "id": "9d8592cf",
        "outputId": "8b8974d5-e26d-441c-da9d-cb059c89b8a4",
        "papermill": {
          "duration": 2.730704,
          "end_time": "2024-11-17T03:45:53.374209",
          "exception": false,
          "start_time": "2024-11-17T03:45:50.643505",
          "status": "completed"
        },
        "tags": [],
        "colab": {
          "referenced_widgets": [
            "4006ce24703c44a7a003965e931c89cc",
            "c3c719b29986487aa33d3079b5fa7634"
          ]
        }
      },
      "outputs": [
        {
          "data": {
            "application/vnd.jupyter.widget-view+json": {
              "model_id": "4006ce24703c44a7a003965e931c89cc",
              "version_major": 2,
              "version_minor": 0
            },
            "text/plain": [
              "tokenizer.json:   0%|          | 0.00/2.83M [00:00<?, ?B/s]"
            ]
          },
          "metadata": {},
          "output_type": "display_data"
        },
        {
          "data": {
            "application/vnd.jupyter.widget-view+json": {
              "model_id": "c3c719b29986487aa33d3079b5fa7634",
              "version_major": 2,
              "version_minor": 0
            },
            "text/plain": [
              "config.json:   0%|          | 0.00/1.00k [00:00<?, ?B/s]"
            ]
          },
          "metadata": {},
          "output_type": "display_data"
        },
        {
          "name": "stderr",
          "output_type": "stream",
          "text": [
            "The tokenizer class you load from this checkpoint is not the same type as the class this function is called from. It may result in unexpected tokenization. \n",
            "The tokenizer class you load from this checkpoint is 'GPT2Tokenizer'. \n",
            "The class this function is called from is 'PreTrainedTokenizerFast'.\n",
            "/opt/conda/lib/python3.10/site-packages/transformers/tokenization_utils_base.py:1617: FutureWarning: `clean_up_tokenization_spaces` was not set. It will be set to `True` by default. This behavior will be deprecated in transformers v4.45, and will be then set to `False` by default. For more details check this issue: https://github.com/huggingface/transformers/issues/31884\n",
            "  warnings.warn(\n"
          ]
        }
      ],
      "source": [
        "from transformers import PreTrainedTokenizerFast\n",
        "tokenizer = PreTrainedTokenizerFast.from_pretrained(\n",
        "    \"skt/kogpt2-base-v2\",\n",
        "    bos_token='</s>',\n",
        "    eos_token='</s>',\n",
        "    unk_token='<unk>',\n",
        "    pad_token='<pad>',\n",
        "    mask_token='<mask>'\n",
        ")"
      ]
    },
    {
      "cell_type": "code",
      "execution_count": null,
      "id": "89ce2a2a",
      "metadata": {
        "execution": {
          "iopub.execute_input": "2024-11-17T03:45:53.484893Z",
          "iopub.status.busy": "2024-11-17T03:45:53.484217Z",
          "iopub.status.idle": "2024-11-17T03:45:53.493520Z",
          "shell.execute_reply": "2024-11-17T03:45:53.492640Z"
        },
        "id": "89ce2a2a",
        "outputId": "4e5c787e-83c3-4b3e-e557-03bc2e11a5ac",
        "papermill": {
          "duration": 0.06556,
          "end_time": "2024-11-17T03:45:53.496007",
          "exception": false,
          "start_time": "2024-11-17T03:45:53.430447",
          "status": "completed"
        },
        "tags": []
      },
      "outputs": [
        {
          "data": {
            "text/plain": [
              "{'version': '1.0',\n",
              " 'category': 'TL',\n",
              " 'job_field': '05.ICT',\n",
              " 'gender': 'Female',\n",
              " 'experience': 'Experienced',\n",
              " 'dataSet_info_date': '20230116',\n",
              " 'dataSet_info_occupation': 'ICT',\n",
              " 'dataSet_info_channel': 'MOCK',\n",
              " 'dataSet_info_place': 'ONLINE',\n",
              " 'dataSet_info_gender': 'FEMALE',\n",
              " 'dataSet_info_ageRange': '-34',\n",
              " 'dataSet_info_experience': 'EXPERIENCED',\n",
              " 'dataSet_question_raw_text': '여러 사람들과 협업을 하면서 가장 어려웠던 점이 있었으면 그것은 무엇이었나요 그리고 그것을 어떻게 극복했는지도 말씀해 주세요',\n",
              " 'dataSet_question_raw_wordCount': 16,\n",
              " 'dataSet_question_emotion': [],\n",
              " 'dataSet_question_intent': [],\n",
              " 'dataSet_answer_raw_text': '아무래도 각자 살아온 환경이 다르고 가진 생각이 다르기 때문에 어 소통에 있어서 에이를 말하는데 비를 알아듣는다던가 에이를 말했는데 에이다시 처럼 조금 다르게 알아들으시는 경우가 굉장히 비일비재 했던 것 같습니다. 그런 면을 당사자분과 좀 더 깊게 이야기를 하면서 맞춰가는 과정이 굉장히 중요했다고 생각하고 생각했고 그렇게 맞춰가는 과정에서 서로 친밀하게 어 친해지는 과정이 어느 정도는 필요하다고 생각해서 대화하면서 스몰 토크를 많이 하는 편이기도 했고 또 요즘 비대면 업무가 많기 때문에 대면으로 만날 경우가 생기면은 주저 하지 않고 어 많이 많이 만나서 이야기를 해보고 어떤 분이신지 파악하기 위해 노력을 많이 했습니다.',\n",
              " 'dataSet_answer_raw_wordCount': 88,\n",
              " 'dataSet_answer_emotion': [],\n",
              " 'dataSet_answer_intent': [{'category': 'attitude',\n",
              "   'expression': '',\n",
              "   'text': ''}],\n",
              " 'dataSet_answer_summary_text': '소통에 있어 당사자분과 좀 더 깊게 이야기를 하면서 맞춰가는 과정이 굉장히 중요하다고 생각하고 생각했고, 그렇게 친해지는 과정이 필요하다고 생각해서 대화하면서 스몰 토크를 많이 하는 편이기도 했습니다.',\n",
              " 'dataSet_answer_summary_wordCount': 26,\n",
              " 'rawDataInfo_question_fileFormat': 'wav',\n",
              " 'rawDataInfo_question_fileSize': 380878,\n",
              " 'rawDataInfo_question_duration': 11900,\n",
              " 'rawDataInfo_question_samplingBit': 16,\n",
              " 'rawDataInfo_question_channelCount': 1,\n",
              " 'rawDataInfo_question_samplingRate': '16kHz',\n",
              " 'rawDataInfo_question_audioPath': '/Mock/05.ICT/Female/Experienced/ckmk_q_ict_f_e_177948.wav',\n",
              " 'rawDataInfo_answer_fileFormat': 'wav',\n",
              " 'rawDataInfo_answer_fileSize': 1678158,\n",
              " 'rawDataInfo_answer_duration': 52440,\n",
              " 'rawDataInfo_answer_samplingBit': 16,\n",
              " 'rawDataInfo_answer_channelCount': 1,\n",
              " 'rawDataInfo_answer_samplingRate': '16kHz',\n",
              " 'rawDataInfo_answer_audioPath': '/Mock/05.ICT/Female/Experienced/ckmk_a_ict_f_e_177948.wav'}"
            ]
          },
          "execution_count": 7,
          "metadata": {},
          "output_type": "execute_result"
        }
      ],
      "source": [
        "dataset['train'][0]"
      ]
    },
    {
      "cell_type": "code",
      "execution_count": null,
      "id": "f987130b",
      "metadata": {
        "execution": {
          "iopub.execute_input": "2024-11-17T03:45:53.604323Z",
          "iopub.status.busy": "2024-11-17T03:45:53.603588Z",
          "iopub.status.idle": "2024-11-17T03:46:29.892094Z",
          "shell.execute_reply": "2024-11-17T03:46:29.891057Z"
        },
        "id": "f987130b",
        "outputId": "68c0f12a-d319-484d-8dae-dd9a7481e035",
        "papermill": {
          "duration": 36.345762,
          "end_time": "2024-11-17T03:46:29.894324",
          "exception": false,
          "start_time": "2024-11-17T03:45:53.548562",
          "status": "completed"
        },
        "tags": [],
        "colab": {
          "referenced_widgets": [
            "5a71fb202d3341b68cb44b4b6e4e77fd",
            "72f1724ea9cb42d6bde34590e0ddcac5"
          ]
        }
      },
      "outputs": [
        {
          "data": {
            "application/vnd.jupyter.widget-view+json": {
              "model_id": "5a71fb202d3341b68cb44b4b6e4e77fd",
              "version_major": 2,
              "version_minor": 0
            },
            "text/plain": [
              "Map:   0%|          | 0/68074 [00:00<?, ? examples/s]"
            ]
          },
          "metadata": {},
          "output_type": "display_data"
        },
        {
          "data": {
            "application/vnd.jupyter.widget-view+json": {
              "model_id": "72f1724ea9cb42d6bde34590e0ddcac5",
              "version_major": 2,
              "version_minor": 0
            },
            "text/plain": [
              "Map:   0%|          | 0/8026 [00:00<?, ? examples/s]"
            ]
          },
          "metadata": {},
          "output_type": "display_data"
        }
      ],
      "source": [
        "def preprocess_training_examples(examples):\n",
        "    max_length=256\n",
        "    formatted_inputs =[\n",
        "        f\"</s> 질문: {q} 답변: {a} </s>\"\n",
        "        for q,a in zip(examples[\"dataSet_question_raw_text\"],examples[\"dataSet_answer_summary_text\"])\n",
        "    ]\n",
        "    inputs = tokenizer(\n",
        "        formatted_inputs,\n",
        "        max_length=max_length,\n",
        "        truncation= True,\n",
        "        padding=\"max_length\",\n",
        "        return_tensors=\"pt\"\n",
        "    )\n",
        "\n",
        "    labels = inputs['input_ids'].clone()\n",
        "    labels[labels==tokenizer.pad_token_id] = -100\n",
        "    inputs['labels'] = labels\n",
        "    return inputs\n",
        "\n",
        "\n",
        "train_dataset = dataset['train'].map(\n",
        "    preprocess_training_examples,\n",
        "    batched=True,\n",
        "    remove_columns=dataset['train'].column_names,\n",
        "    load_from_cache_file=False  # 이 옵션 추가\n",
        ")\n",
        "\n",
        "val_dataset = dataset['validation'].map(\n",
        "    preprocess_training_examples,\n",
        "    batched=True,\n",
        "    remove_columns=dataset['validation'].column_names,\n",
        "    load_from_cache_file=False  # 이 옵션 추가\n",
        ")"
      ]
    },
    {
      "cell_type": "code",
      "execution_count": null,
      "id": "5d3cf28a",
      "metadata": {
        "id": "5d3cf28a",
        "papermill": {
          "duration": 0.053087,
          "end_time": "2024-11-17T03:46:30.001230",
          "exception": false,
          "start_time": "2024-11-17T03:46:29.948143",
          "status": "completed"
        },
        "tags": []
      },
      "outputs": [],
      "source": []
    },
    {
      "cell_type": "code",
      "execution_count": null,
      "id": "713d714c",
      "metadata": {
        "execution": {
          "iopub.execute_input": "2024-11-17T03:46:30.108325Z",
          "iopub.status.busy": "2024-11-17T03:46:30.107923Z",
          "iopub.status.idle": "2024-11-17T03:46:30.113662Z",
          "shell.execute_reply": "2024-11-17T03:46:30.112718Z"
        },
        "id": "713d714c",
        "outputId": "633a5b10-490b-4492-dae4-6028ac26e3db",
        "papermill": {
          "duration": 0.062404,
          "end_time": "2024-11-17T03:46:30.115887",
          "exception": false,
          "start_time": "2024-11-17T03:46:30.053483",
          "status": "completed"
        },
        "tags": []
      },
      "outputs": [
        {
          "name": "stdout",
          "output_type": "stream",
          "text": [
            "68074\n",
            "68074\n",
            "8026\n"
          ]
        }
      ],
      "source": [
        "print(len(train_dataset))\n",
        "# # 코드 잘 돌아가는지 확인 위해 train_dataset 임의로 매우 적은 개수로 샘플링\n",
        "# from torch.utils.data import Subset\n",
        "# train_dataset = Subset(train_dataset, indices=range(40))\n",
        "# val_dataset = Subset(val_dataset, indices=range(80))\n",
        "print(len(train_dataset))\n",
        "print(len(val_dataset))"
      ]
    },
    {
      "cell_type": "markdown",
      "id": "40b015a5",
      "metadata": {
        "id": "40b015a5",
        "papermill": {
          "duration": 0.053075,
          "end_time": "2024-11-17T03:46:30.222224",
          "exception": false,
          "start_time": "2024-11-17T03:46:30.169149",
          "status": "completed"
        },
        "tags": []
      },
      "source": [
        "# Model"
      ]
    },
    {
      "cell_type": "code",
      "execution_count": null,
      "id": "96dbde09",
      "metadata": {
        "id": "96dbde09",
        "papermill": {
          "duration": 0.052074,
          "end_time": "2024-11-17T03:46:30.327136",
          "exception": false,
          "start_time": "2024-11-17T03:46:30.275062",
          "status": "completed"
        },
        "tags": []
      },
      "outputs": [],
      "source": []
    },
    {
      "cell_type": "code",
      "execution_count": null,
      "id": "b0155f5e",
      "metadata": {
        "execution": {
          "iopub.execute_input": "2024-11-17T03:46:30.437584Z",
          "iopub.status.busy": "2024-11-17T03:46:30.437199Z",
          "iopub.status.idle": "2024-11-17T03:46:44.858938Z",
          "shell.execute_reply": "2024-11-17T03:46:44.857845Z"
        },
        "id": "b0155f5e",
        "outputId": "19a599a2-309c-4547-85e9-d2456a32a0b4",
        "papermill": {
          "duration": 14.480526,
          "end_time": "2024-11-17T03:46:44.861296",
          "exception": false,
          "start_time": "2024-11-17T03:46:30.380770",
          "status": "completed"
        },
        "tags": [],
        "colab": {
          "referenced_widgets": [
            "ba8c3a88adb042c8b5ba4f1b9a8e4f1b"
          ]
        }
      },
      "outputs": [
        {
          "data": {
            "application/vnd.jupyter.widget-view+json": {
              "model_id": "ba8c3a88adb042c8b5ba4f1b9a8e4f1b",
              "version_major": 2,
              "version_minor": 0
            },
            "text/plain": [
              "pytorch_model.bin:   0%|          | 0.00/513M [00:00<?, ?B/s]"
            ]
          },
          "metadata": {},
          "output_type": "display_data"
        },
        {
          "data": {
            "text/plain": [
              "GPT2LMHeadModel(\n",
              "  (transformer): GPT2Model(\n",
              "    (wte): Embedding(51200, 768)\n",
              "    (wpe): Embedding(1024, 768)\n",
              "    (drop): Dropout(p=0.1, inplace=False)\n",
              "    (h): ModuleList(\n",
              "      (0-11): 12 x GPT2Block(\n",
              "        (ln_1): LayerNorm((768,), eps=1e-05, elementwise_affine=True)\n",
              "        (attn): GPT2SdpaAttention(\n",
              "          (c_attn): Conv1D(nf=2304, nx=768)\n",
              "          (c_proj): Conv1D(nf=768, nx=768)\n",
              "          (attn_dropout): Dropout(p=0.1, inplace=False)\n",
              "          (resid_dropout): Dropout(p=0.1, inplace=False)\n",
              "        )\n",
              "        (ln_2): LayerNorm((768,), eps=1e-05, elementwise_affine=True)\n",
              "        (mlp): GPT2MLP(\n",
              "          (c_fc): Conv1D(nf=3072, nx=768)\n",
              "          (c_proj): Conv1D(nf=768, nx=3072)\n",
              "          (act): NewGELUActivation()\n",
              "          (dropout): Dropout(p=0.1, inplace=False)\n",
              "        )\n",
              "      )\n",
              "    )\n",
              "    (ln_f): LayerNorm((768,), eps=1e-05, elementwise_affine=True)\n",
              "  )\n",
              "  (lm_head): Linear(in_features=768, out_features=51200, bias=False)\n",
              ")"
            ]
          },
          "execution_count": 10,
          "metadata": {},
          "output_type": "execute_result"
        }
      ],
      "source": [
        "import torch\n",
        "from transformers import GPT2LMHeadModel, PreTrainedTokenizerFast\n",
        "\n",
        "model = GPT2LMHeadModel.from_pretrained('skt/kogpt2-base-v2')\n",
        "device = torch.device('cuda' if torch.cuda.is_available() else 'cpu')\n",
        "model.to(device)"
      ]
    },
    {
      "cell_type": "code",
      "execution_count": null,
      "id": "489021cb",
      "metadata": {
        "execution": {
          "iopub.execute_input": "2024-11-17T03:46:44.973590Z",
          "iopub.status.busy": "2024-11-17T03:46:44.972642Z",
          "iopub.status.idle": "2024-11-17T03:46:44.977927Z",
          "shell.execute_reply": "2024-11-17T03:46:44.977012Z"
        },
        "id": "489021cb",
        "papermill": {
          "duration": 0.062532,
          "end_time": "2024-11-17T03:46:44.980167",
          "exception": false,
          "start_time": "2024-11-17T03:46:44.917635",
          "status": "completed"
        },
        "tags": []
      },
      "outputs": [],
      "source": [
        "import psutil\n",
        "import os\n",
        "\n",
        "def log_memory_usage():\n",
        "    process = psutil.Process(os.getpid())\n",
        "    print(f\"Current memory usage: {process.memory_info().rss / 1e6} MB\")\n"
      ]
    },
    {
      "cell_type": "code",
      "execution_count": null,
      "id": "f5b04279",
      "metadata": {
        "execution": {
          "iopub.execute_input": "2024-11-17T03:46:45.133496Z",
          "iopub.status.busy": "2024-11-17T03:46:45.132653Z",
          "iopub.status.idle": "2024-11-17T03:46:46.855743Z",
          "shell.execute_reply": "2024-11-17T03:46:46.854902Z"
        },
        "id": "f5b04279",
        "papermill": {
          "duration": 1.823024,
          "end_time": "2024-11-17T03:46:46.858205",
          "exception": false,
          "start_time": "2024-11-17T03:46:45.035181",
          "status": "completed"
        },
        "tags": []
      },
      "outputs": [],
      "source": [
        "from transformers import Trainer\n",
        "import evaluate"
      ]
    },
    {
      "cell_type": "code",
      "execution_count": null,
      "id": "e6fedfef",
      "metadata": {
        "execution": {
          "iopub.execute_input": "2024-11-17T03:46:46.966903Z",
          "iopub.status.busy": "2024-11-17T03:46:46.966515Z",
          "iopub.status.idle": "2024-11-17T03:46:53.093463Z",
          "shell.execute_reply": "2024-11-17T03:46:53.092666Z"
        },
        "id": "e6fedfef",
        "papermill": {
          "duration": 6.183939,
          "end_time": "2024-11-17T03:46:53.095582",
          "exception": false,
          "start_time": "2024-11-17T03:46:46.911643",
          "status": "completed"
        },
        "tags": [],
        "colab": {
          "referenced_widgets": [
            "887a37c7aa8942a3b4cb49b4e64e0cda",
            "2279c4df9aa64cf5a4e09a7f6ba6e5d5",
            "099d8f848c4242adb842f363b5a51b05",
            "49ef1891e00c446f82a8a9c0d9ad0fd9",
            "b7b778ae5f074b9a9a1ffc2a652d4186"
          ]
        },
        "outputId": "2f64906e-19d1-4531-d018-579ae338a36b"
      },
      "outputs": [
        {
          "data": {
            "application/vnd.jupyter.widget-view+json": {
              "model_id": "887a37c7aa8942a3b4cb49b4e64e0cda",
              "version_major": 2,
              "version_minor": 0
            },
            "text/plain": [
              "Downloading builder script:   0%|          | 0.00/7.02k [00:00<?, ?B/s]"
            ]
          },
          "metadata": {},
          "output_type": "display_data"
        },
        {
          "name": "stderr",
          "output_type": "stream",
          "text": [
            "[nltk_data] Downloading package wordnet to /usr/share/nltk_data...\n",
            "[nltk_data]   Package wordnet is already up-to-date!\n",
            "[nltk_data] Downloading package punkt_tab to /usr/share/nltk_data...\n",
            "[nltk_data]   Unzipping tokenizers/punkt_tab.zip.\n",
            "[nltk_data] Downloading package omw-1.4 to /usr/share/nltk_data...\n"
          ]
        },
        {
          "data": {
            "application/vnd.jupyter.widget-view+json": {
              "model_id": "2279c4df9aa64cf5a4e09a7f6ba6e5d5",
              "version_major": 2,
              "version_minor": 0
            },
            "text/plain": [
              "Downloading builder script:   0%|          | 0.00/7.95k [00:00<?, ?B/s]"
            ]
          },
          "metadata": {},
          "output_type": "display_data"
        },
        {
          "data": {
            "application/vnd.jupyter.widget-view+json": {
              "model_id": "099d8f848c4242adb842f363b5a51b05",
              "version_major": 2,
              "version_minor": 0
            },
            "text/plain": [
              "Downloading builder script:   0%|          | 0.00/5.94k [00:00<?, ?B/s]"
            ]
          },
          "metadata": {},
          "output_type": "display_data"
        },
        {
          "data": {
            "application/vnd.jupyter.widget-view+json": {
              "model_id": "49ef1891e00c446f82a8a9c0d9ad0fd9",
              "version_major": 2,
              "version_minor": 0
            },
            "text/plain": [
              "Downloading extra modules:   0%|          | 0.00/1.55k [00:00<?, ?B/s]"
            ]
          },
          "metadata": {},
          "output_type": "display_data"
        },
        {
          "data": {
            "application/vnd.jupyter.widget-view+json": {
              "model_id": "b7b778ae5f074b9a9a1ffc2a652d4186",
              "version_major": 2,
              "version_minor": 0
            },
            "text/plain": [
              "Downloading extra modules:   0%|          | 0.00/3.34k [00:00<?, ?B/s]"
            ]
          },
          "metadata": {},
          "output_type": "display_data"
        }
      ],
      "source": [
        "import evaluate\n",
        "import numpy as np\n",
        "import torch\n",
        "from rouge_score import rouge_scorer\n",
        "meteor = evaluate.load('meteor')\n",
        "bertscore = evaluate.load('bertscore')\n",
        "bleu = evaluate.load('bleu')\n",
        "\n",
        "def preprocess_logits_for_metrics(logits, labels):\n",
        "    if isinstance(logits, tuple):\n",
        "        logits = logits[0]\n",
        "    pred_ids = torch.argmax(logits, dim=-1)\n",
        "    return pred_ids, labels\n",
        "\n",
        "def compute_metrics(eval_pred):\n",
        "    predictions, labels = eval_pred\n",
        "    # Predictions 튜플 처리\n",
        "    print(\"\\n\", '='*50,\"\\nPredictions type:\", type(predictions))\n",
        "    if isinstance(predictions, tuple):\n",
        "        predictions = predictions[0]\n",
        "    # Predictions와 Labels를 numpy 배열로 변환\n",
        "    if isinstance(predictions, torch.Tensor):\n",
        "        print(\"Converting Predictions to numpy...\")\n",
        "        predictions = predictions.cpu().numpy()\n",
        "    if isinstance(labels, torch.Tensor):\n",
        "        print(\"Converting Labels to numpy...\")\n",
        "        labels = labels.cpu().numpy()\n",
        "\n",
        "    # Decode predictions and labels\n",
        "    print(\"Decoding predictions and labels...\")\n",
        "    labels = np.where(labels != -100, labels, tokenizer.pad_token_id if tokenizer.pad_token_id is not None else 0)\n",
        "    decoded_preds = tokenizer.batch_decode(predictions, skip_special_tokens=False)\n",
        "    decoded_labels = tokenizer.batch_decode(labels, skip_special_tokens=False)\n",
        "\n",
        "    # Post-processing\n",
        "    decoded_preds = [pred.strip() for pred in decoded_preds]\n",
        "    decoded_labels = [label.strip() for label in decoded_labels]\n",
        "    print(\"Decoded Predictions Sample:\\n\", decoded_preds[:3])\n",
        "    print(\"Decoded Labels Sample:\\n\", decoded_labels[:3])\n",
        "\n",
        "    # Calculate ROUGE metrics using rouge-score\n",
        "    print(\"Calculating ROUGE...\")\n",
        "    scorer = rouge_scorer.RougeScorer(['rouge1', 'rouge2', 'rougeL'], use_stemmer=True)\n",
        "    rouge_scores = {\n",
        "        'rouge1': [],\n",
        "        'rouge2': [],\n",
        "        'rougeL': []\n",
        "    }\n",
        "\n",
        "    for pred, label in zip(decoded_preds, decoded_labels):\n",
        "        if pred and label:  # 둘 다 비어있지 않은 경우만 계산\n",
        "            scores = scorer.score(label, pred)\n",
        "            rouge_scores['rouge1'].append(scores['rouge1'].fmeasure)\n",
        "            rouge_scores['rouge2'].append(scores['rouge2'].fmeasure)\n",
        "            rouge_scores['rougeL'].append(scores['rougeL'].fmeasure)\n",
        "\n",
        "    print(\"\\nROUGE scores details:\")\n",
        "    print(f\"Number of valid pairs: {len(rouge_scores['rouge1'])}\")\n",
        "    if rouge_scores['rouge1']:\n",
        "        print(f\"Sample ROUGE-1 scores: {rouge_scores['rouge1'][:5]}\")\n",
        "\n",
        "    rouge_result = {\n",
        "        'rouge1': np.mean(rouge_scores['rouge1']) * 100 if rouge_scores['rouge1'] else 0,\n",
        "        'rouge2': np.mean(rouge_scores['rouge2']) * 100 if rouge_scores['rouge2'] else 0,\n",
        "        'rougeL': np.mean(rouge_scores['rougeL']) * 100 if rouge_scores['rougeL'] else 0\n",
        "    }\n",
        "\n",
        "    # Calculate other metrics\n",
        "    print(\"Calculating METEOR...\")\n",
        "    meteor_result = meteor.compute(predictions=decoded_preds, references=decoded_labels)\n",
        "    print(\"METEOR result:\", meteor_result)\n",
        "\n",
        "    print(\"Calculating BERTScore...\")\n",
        "    bertscore_result = bertscore.compute(predictions=decoded_preds, references=decoded_labels, lang=\"ko\", device='cuda' if torch.cuda.is_available() else 'cpu')\n",
        "    print(\"BERTScore finished\")\n",
        "\n",
        "    print(\"Calculating BLEU...\")\n",
        "    bleu_result = bleu.compute(predictions=decoded_preds, references=decoded_labels)\n",
        "    print(\"BLEU result:\", bleu_result)\n",
        "\n",
        "    # Combine results\n",
        "    result = {\n",
        "        **rouge_result,\n",
        "        \"meteor\": round(meteor_result[\"meteor\"] * 100, 4),\n",
        "        \"bertscore_f1\": round(np.mean(bertscore_result[\"f1\"]) * 100, 4),\n",
        "        \"bleu\": round(bleu_result[\"bleu\"] * 100, 4)\n",
        "    }\n",
        "\n",
        "    print(\"Calculating generated length...\")\n",
        "    result['gen_len'] = np.mean([len(pred.split()) for pred in decoded_preds])\n",
        "    print(\"Final Metrics:\", result)\n",
        "\n",
        "    return result"
      ]
    },
    {
      "cell_type": "code",
      "execution_count": null,
      "id": "0a9dcf90",
      "metadata": {
        "execution": {
          "iopub.execute_input": "2024-11-17T03:46:53.209365Z",
          "iopub.status.busy": "2024-11-17T03:46:53.208990Z",
          "iopub.status.idle": "2024-11-17T03:46:53.251852Z",
          "shell.execute_reply": "2024-11-17T03:46:53.250941Z"
        },
        "id": "0a9dcf90",
        "outputId": "99acdf8c-d047-43d4-bb0b-4894abbec01c",
        "papermill": {
          "duration": 0.101144,
          "end_time": "2024-11-17T03:46:53.254050",
          "exception": false,
          "start_time": "2024-11-17T03:46:53.152906",
          "status": "completed"
        },
        "tags": []
      },
      "outputs": [
        {
          "name": "stderr",
          "output_type": "stream",
          "text": [
            "/opt/conda/lib/python3.10/site-packages/transformers/training_args.py:1545: FutureWarning: `evaluation_strategy` is deprecated and will be removed in version 4.46 of 🤗 Transformers. Use `eval_strategy` instead\n",
            "  warnings.warn(\n"
          ]
        }
      ],
      "source": [
        "from transformers import Trainer, TrainingArguments\n",
        "\n",
        "# Training arguments 설정\n",
        "training_args = TrainingArguments(\n",
        "    output_dir='./results',          # 모델이 저장될 경로\n",
        "    evaluation_strategy=\"epoch\",    # 매 에포크마다 평가\n",
        "    save_strategy=\"epoch\",          # 매 에포크마다 저장\n",
        "    learning_rate=5e-5,             # 기본 학습률\n",
        "    per_device_train_batch_size=16,  # 각 디바이스에서의 배치 사이즈\n",
        "    per_device_eval_batch_size=32,   # 평가 시의 배치 사이즈\n",
        "    eval_accumulation_steps=8,      # 평가 시 gradient accumulation steps\n",
        "    num_train_epochs=6,             # 에포크 수\n",
        "    weight_decay=0.01,              # 가중치 감쇠\n",
        "    save_total_limit=2,             # 저장할 체크포인트 개수 제한\n",
        "    logging_dir='./logs',           # 로깅 파일 저장 위치\n",
        "    logging_steps=500,              # 로깅 빈도\n",
        "    load_best_model_at_end=True,    # 가장 좋은 모델을 끝에서 로드\n",
        "    eval_steps=1000,                # 평가 빈도\n",
        "    fp16=True,                      # Mixed Precision (FP16) 사용\n",
        "    dataloader_num_workers=4,       # DataLoader에서 사용할 워커 수\n",
        "    deepspeed=None,                 # DeepSpeed는 사용하지 않음\n",
        "    report_to=\"none\",               # 로깅 서비스 (TensorBoard 등 사용하지 않음)\n",
        ")"
      ]
    },
    {
      "cell_type": "code",
      "execution_count": null,
      "id": "6256bb25",
      "metadata": {
        "execution": {
          "iopub.execute_input": "2024-11-17T03:46:53.371984Z",
          "iopub.status.busy": "2024-11-17T03:46:53.371281Z",
          "iopub.status.idle": "2024-11-17T03:46:53.411657Z",
          "shell.execute_reply": "2024-11-17T03:46:53.410470Z"
        },
        "id": "6256bb25",
        "outputId": "7f9abdf4-7bdb-4e6b-e6da-82ef9ad4ada3",
        "papermill": {
          "duration": 0.102327,
          "end_time": "2024-11-17T03:46:53.414164",
          "exception": false,
          "start_time": "2024-11-17T03:46:53.311837",
          "status": "completed"
        },
        "tags": []
      },
      "outputs": [
        {
          "name": "stdout",
          "output_type": "stream",
          "text": [
            "Total train batches: 2128\n",
            "Total eval batches: 126\n",
            "Batch size train: 16\n",
            "Batch size eval: 32\n",
            "Eval accumulation steps: 8\n"
          ]
        },
        {
          "name": "stderr",
          "output_type": "stream",
          "text": [
            "/opt/conda/lib/python3.10/site-packages/accelerate/accelerator.py:494: FutureWarning: `torch.cuda.amp.GradScaler(args...)` is deprecated. Please use `torch.amp.GradScaler('cuda', args...)` instead.\n",
            "  self.scaler = torch.cuda.amp.GradScaler(**kwargs)\n"
          ]
        }
      ],
      "source": [
        "from transformers import Trainer\n",
        "import numpy as np\n",
        "\n",
        "trainer = Trainer(\n",
        "    model=model,\n",
        "    args=training_args,\n",
        "    train_dataset=train_dataset,\n",
        "    eval_dataset=val_dataset,\n",
        "    tokenizer=tokenizer,\n",
        "    preprocess_logits_for_metrics=preprocess_logits_for_metrics,\n",
        "    compute_metrics=compute_metrics,\n",
        ")\n",
        "\n",
        "# DataLoader 확인 및 메모리 상태 출력\n",
        "print(f\"Total train batches: {len(trainer.get_train_dataloader())}\")\n",
        "print(f\"Total eval batches: {len(trainer.get_eval_dataloader())}\")\n",
        "print(f\"Batch size train: {training_args.per_device_train_batch_size}\")\n",
        "print(f\"Batch size eval: {training_args.per_device_eval_batch_size}\")\n",
        "print(f\"Eval accumulation steps: {training_args.eval_accumulation_steps}\")"
      ]
    },
    {
      "cell_type": "code",
      "execution_count": null,
      "id": "ab7c5fac",
      "metadata": {
        "execution": {
          "iopub.execute_input": "2024-11-17T03:46:53.533084Z",
          "iopub.status.busy": "2024-11-17T03:46:53.532669Z",
          "iopub.status.idle": "2024-11-17T03:46:53.539162Z",
          "shell.execute_reply": "2024-11-17T03:46:53.538183Z"
        },
        "papermill": {
          "duration": 0.069383,
          "end_time": "2024-11-17T03:46:53.541239",
          "exception": false,
          "start_time": "2024-11-17T03:46:53.471856",
          "status": "completed"
        },
        "tags": [],
        "id": "ab7c5fac"
      },
      "outputs": [],
      "source": [
        "import warnings\n",
        "import os\n",
        "\n",
        "# fork 관련 경고 제거\n",
        "warnings.filterwarnings('ignore', message=\"os.fork()\")\n",
        "\n",
        "# tokenizer 경고 제거\n",
        "os.environ[\"TOKENIZERS_PARALLELISM\"] = \"false\"\n",
        "\n",
        "# autocast 경고 제거\n",
        "warnings.filterwarnings('ignore', message=\"`torch.cuda.amp.autocast\")\n",
        "\n",
        "# gather 경고 제거\n",
        "warnings.filterwarnings('ignore', message=\"Was asked to gather along dimension 0\")"
      ]
    },
    {
      "cell_type": "code",
      "execution_count": null,
      "id": "56498524",
      "metadata": {
        "execution": {
          "iopub.execute_input": "2024-11-17T03:46:53.660784Z",
          "iopub.status.busy": "2024-11-17T03:46:53.659730Z",
          "iopub.status.idle": "2024-11-17T10:02:36.780712Z",
          "shell.execute_reply": "2024-11-17T10:02:36.779657Z"
        },
        "id": "56498524",
        "outputId": "e9dd9fcf-2e8e-4db4-dbde-203ca51cc05a",
        "papermill": {
          "duration": 22543.187233,
          "end_time": "2024-11-17T10:02:36.786508",
          "exception": false,
          "start_time": "2024-11-17T03:46:53.599275",
          "status": "completed"
        },
        "tags": [],
        "colab": {
          "referenced_widgets": [
            "a868b4fbc21a43e6a2ac830434b7341d",
            "131473e36b904aae805c304a2ee1cce0",
            "7114a3afb3cb4a298fc13a76b1d100a7",
            "e5504099e8774467821a8f8c3f60ef21",
            "03b5dacbf93a4fe68791bf94607b7279"
          ]
        }
      },
      "outputs": [
        {
          "data": {
            "text/html": [
              "\n",
              "    <div>\n",
              "      \n",
              "      <progress value='12768' max='12768' style='width:300px; height:20px; vertical-align: middle;'></progress>\n",
              "      [12768/12768 6:15:39, Epoch 6/6]\n",
              "    </div>\n",
              "    <table border=\"1\" class=\"dataframe\">\n",
              "  <thead>\n",
              " <tr style=\"text-align: left;\">\n",
              "      <th>Epoch</th>\n",
              "      <th>Training Loss</th>\n",
              "      <th>Validation Loss</th>\n",
              "      <th>Rouge1</th>\n",
              "      <th>Rouge2</th>\n",
              "      <th>Rougel</th>\n",
              "      <th>Meteor</th>\n",
              "      <th>Bertscore F1</th>\n",
              "      <th>Bleu</th>\n",
              "      <th>Gen Len</th>\n",
              "    </tr>\n",
              "  </thead>\n",
              "  <tbody>\n",
              "    <tr>\n",
              "      <td>1</td>\n",
              "      <td>2.535500</td>\n",
              "      <td>2.876755</td>\n",
              "      <td>1.127959</td>\n",
              "      <td>0.007963</td>\n",
              "      <td>1.127959</td>\n",
              "      <td>3.509700</td>\n",
              "      <td>61.975900</td>\n",
              "      <td>0.287300</td>\n",
              "      <td>135.541615</td>\n",
              "    </tr>\n",
              "    <tr>\n",
              "      <td>2</td>\n",
              "      <td>2.374600</td>\n",
              "      <td>2.820793</td>\n",
              "      <td>1.128092</td>\n",
              "      <td>0.007956</td>\n",
              "      <td>1.128092</td>\n",
              "      <td>3.590500</td>\n",
              "      <td>61.024200</td>\n",
              "      <td>0.624000</td>\n",
              "      <td>183.583728</td>\n",
              "    </tr>\n",
              "    <tr>\n",
              "      <td>3</td>\n",
              "      <td>2.235600</td>\n",
              "      <td>2.795852</td>\n",
              "      <td>1.129808</td>\n",
              "      <td>0.008769</td>\n",
              "      <td>1.129808</td>\n",
              "      <td>3.637400</td>\n",
              "      <td>62.734500</td>\n",
              "      <td>0.164800</td>\n",
              "      <td>113.292175</td>\n",
              "    </tr>\n",
              "    <tr>\n",
              "      <td>4</td>\n",
              "      <td>2.135500</td>\n",
              "      <td>2.788255</td>\n",
              "      <td>1.130370</td>\n",
              "      <td>0.009193</td>\n",
              "      <td>1.130370</td>\n",
              "      <td>3.678200</td>\n",
              "      <td>62.524700</td>\n",
              "      <td>0.200400</td>\n",
              "      <td>119.302143</td>\n",
              "    </tr>\n",
              "    <tr>\n",
              "      <td>5</td>\n",
              "      <td>2.045800</td>\n",
              "      <td>2.795542</td>\n",
              "      <td>1.129290</td>\n",
              "      <td>0.008901</td>\n",
              "      <td>1.129290</td>\n",
              "      <td>3.697500</td>\n",
              "      <td>62.154000</td>\n",
              "      <td>0.308100</td>\n",
              "      <td>136.223897</td>\n",
              "    </tr>\n",
              "    <tr>\n",
              "      <td>6</td>\n",
              "      <td>1.976700</td>\n",
              "      <td>2.805000</td>\n",
              "      <td>1.128836</td>\n",
              "      <td>0.008356</td>\n",
              "      <td>1.128836</td>\n",
              "      <td>3.712200</td>\n",
              "      <td>62.971600</td>\n",
              "      <td>0.129000</td>\n",
              "      <td>105.538998</td>\n",
              "    </tr>\n",
              "  </tbody>\n",
              "</table><p>"
            ],
            "text/plain": [
              "<IPython.core.display.HTML object>"
            ]
          },
          "metadata": {},
          "output_type": "display_data"
        },
        {
          "name": "stdout",
          "output_type": "stream",
          "text": [
            "\n",
            " ================================================== \n",
            "Predictions type: <class 'tuple'>\n",
            "Decoding predictions and labels...\n",
            "Decoded Predictions Sample:\n",
            " ['질문: 지원들 갈등이 생길 때 어떻게 어떻게 방법이 있다면나신가요 있다면변: 저는 구성원에서 있을 때 구성원 구성원 모 참석 참여하지 않아 갈등이록을에 어려움을 있었습니다. 적이 있습니다. 하지만 대해 해결하기 있는 상황을 바라보고 위해 노력했습니다.  결과로 학 더 나아가가가서적인 회의를과 없었지 확인보 해결한 마음으로기에서 회의를 임 수 있도록 노력돋아습니다.  결과 회의 회장 수준의자가로 성과를 성과를 낼궈낼 수 있었습니다. </s>', '질문: 지원만의 스트레스 해소법이 있 있다면 왜 그런 방법으로 스트레스를소를 하는 하시는지 말씀해 주세겠어요 답변: 저만의 스트레스 해소법은이라면 저과를 쓰씁니다. 일기기를 제가를 해소주는다고 생각하기 일 일을 스트레스 못했던 감정 좋은감을 느끼 수 있기  스트레스레스는스의 원인을 찾아하게이라 바라보는볼 수 있는 해주는줍니다.  정리할 다른 해결 수 있는 하는 작은 방법이라고 생각합니다. </s>', '질문: 지원자님께서는 생각를 받으면 어떻게 하하 궁금 그런 방법으로 스트레스를 해소하는지지도 말씀 말씀해 주겠습니까요 답변: 저자들은이 스트레스서으로 나가거나 스트레스릇 시원한톤치드가 같은 맡으며 스트레스 맑아지고 스트레스도 맑은잔한 스트레스해집니다. </s> 스트레스 스트레스 스트레스 스트레스 스트레스 스트레스 스트레스 스트레스 스트레스 스트레스 스트레스 스트레스 스트레스 스트레스 스트레스 스트레스 스트레스 스트레스 스트레스 스트레스 스트레스 스트레스 스트레스 스트레스 스트레스 스트레스 스트레스 스트레스 스트레스 스트레스 스트레스 스트레스 스트레스 스트레스 스트레스 스트레스 스트레스 스트레스 스트레스 스트레스 스트레스 스트레스 스트레스 스트레스 스트레스 스트레스 스트레스 스트레스 스트레스 스트레스 스트레스 스트레스 스트레스 스트레스 스트레스 스트레스 스트레스 스트레스 스트레스 스트레스 스트레스 스트레스 스트레스 스트레스 스트레스 스트레스 스트레스 스트레스 스트레스 스트레스 스트레스 스트레스 스트레스  스트레스 스트레스 스트레스 스트레스  스트레스 스트레스 스트레스 스트레스 스트레스 스트레스 스트레스 스트레스 스트레스 스트레스 스트레스 스트레스 스트레스 스트레스 스트레스 스트레스 스트레스 스트레스 스트레스 스트레스 스트레스 스트레스 스트레스 스트레스 스트레스 스트레스 스트레스 스트레스 스트레스 스트레스 스트레스 스트레스 스트레스 스트레스 스트레스 스트레스 스트레스 스트레스 스트레스 스트레스 스트레스 스트레스 스트레스 스트레스 스트레스 스트레스 스트레스 스트레스 스트레스 스트레스 스트레스 스트레스 스트레스 스트레스 스트레스 스트레스 스트레스 스트레스 스트레스 스트레스 스트레스 스트레스 스트레스 스트레스 스트레스 스트레스 스트레스 스트레스 스트레스 스트레스 스트레스 스트레스 스트레스 스트레스 스트레스 스트레스 스트레스 스트레스 스트레스 스트레스 스트레스 스트레스 스트레스 스트레스 스트레스 스트레스 스트레스 스트레스 스트레스 스트레스 스트레스 스트레스 스트레스 스트레스 스트레스 스트레스 스트레스 스트레스 스트레스 스트레스 스트레스 스트레스 스트레스 스트레스 스트레스 스트레스 스트레스 스트레스 스트레스 스트레스 스트레스 스트레스 스트레스 스트레스 스트레스']\n",
            "Decoded Labels Sample:\n",
            " ['</s> 질문: 구성원들과의 갈등이 생겼을 때 그것을 해결하는 방법이 있으신가요 답변: 저는 학과 회장으로 활동할 당시 다수의 학생이 회의에 잘 참여하지 않아 회의 진행에 문제가 생겼던 경험이 있습니다. 이에 갈등을 겪고 객관적으로 상황을 살펴보기 위해 노력했습니다. 그 후 한 발 더 다가가 추가적인 어려움은 없는지 물어보며 편안한 분위기에서 회의에 참여할 수 있도록 북돋았습니다. 그 결과 역대 최고 참석률이라는 좋은 성과를 일궈낼 수 있었습니다. </s><pad><pad><pad><pad><pad><pad><pad><pad><pad><pad><pad><pad><pad><pad><pad><pad><pad><pad><pad><pad><pad><pad><pad><pad><pad><pad><pad><pad><pad><pad><pad><pad><pad><pad><pad><pad><pad><pad><pad><pad><pad><pad><pad><pad><pad><pad><pad><pad><pad><pad><pad><pad><pad><pad><pad><pad><pad><pad><pad><pad><pad><pad><pad><pad><pad><pad><pad><pad><pad><pad><pad><pad><pad><pad><pad><pad><pad><pad><pad><pad><pad><pad><pad><pad><pad><pad><pad><pad><pad><pad><pad><pad><pad><pad><pad><pad><pad><pad><pad><pad><pad><pad><pad><pad><pad><pad><pad><pad><pad><pad><pad><pad><pad><pad><pad><pad><pad><pad><pad><pad><pad><pad><pad><pad><pad><pad><pad><pad><pad><pad><pad><pad><pad><pad><pad><pad><pad><pad><pad><pad><pad><pad><pad><pad><pad><pad><pad><pad><pad><pad><pad><pad><pad><pad><pad><pad><pad><pad><pad><pad><pad><pad>', '</s> 질문: 나만의 스트레스 해소법이 있는지 있다면 왜 그런 방법으로 스트레스 해소를 하려고 하시는지 말씀해 주시겠어요 답변: 나만의 스트레스 해소법이라면 일기를 씁니다. 일기는 스트레스를 줄여준다고 생각하며, 어떤 때에는 느끼지 못했던 안도감을 느낄 수 있습니다. 또한 스트레스의 근원을 투명성 있게 바라볼 수 있게 도와줍니다. 생각을 정리해서 문제를 해결할 수 있도록 아주 좋은 방법이라고 생각합니다. </s><pad><pad><pad><pad><pad><pad><pad><pad><pad><pad><pad><pad><pad><pad><pad><pad><pad><pad><pad><pad><pad><pad><pad><pad><pad><pad><pad><pad><pad><pad><pad><pad><pad><pad><pad><pad><pad><pad><pad><pad><pad><pad><pad><pad><pad><pad><pad><pad><pad><pad><pad><pad><pad><pad><pad><pad><pad><pad><pad><pad><pad><pad><pad><pad><pad><pad><pad><pad><pad><pad><pad><pad><pad><pad><pad><pad><pad><pad><pad><pad><pad><pad><pad><pad><pad><pad><pad><pad><pad><pad><pad><pad><pad><pad><pad><pad><pad><pad><pad><pad><pad><pad><pad><pad><pad><pad><pad><pad><pad><pad><pad><pad><pad><pad><pad><pad><pad><pad><pad><pad><pad><pad><pad><pad><pad><pad><pad><pad><pad><pad><pad><pad><pad><pad><pad><pad><pad><pad><pad><pad><pad><pad><pad><pad><pad><pad><pad><pad><pad><pad><pad><pad><pad><pad><pad><pad><pad><pad><pad><pad><pad><pad><pad><pad><pad><pad><pad>', '</s> 질문: 지원자님께서 스트레스를 받으면 어떻게 해소하는지 왜 그 방법으로 스트레스를 해소하는지를 구체적으로 말씀해 주시겠어요 답변: 근로환경에서 벗어나 자연으로 가보면 푸르고 피톤치드 냄새를 맡으면 머리가 맑아지고 바다처럼 잔잔해지고 평온해집니다. </s><pad><pad><pad><pad><pad><pad><pad><pad><pad><pad><pad><pad><pad><pad><pad><pad><pad><pad><pad><pad><pad><pad><pad><pad><pad><pad><pad><pad><pad><pad><pad><pad><pad><pad><pad><pad><pad><pad><pad><pad><pad><pad><pad><pad><pad><pad><pad><pad><pad><pad><pad><pad><pad><pad><pad><pad><pad><pad><pad><pad><pad><pad><pad><pad><pad><pad><pad><pad><pad><pad><pad><pad><pad><pad><pad><pad><pad><pad><pad><pad><pad><pad><pad><pad><pad><pad><pad><pad><pad><pad><pad><pad><pad><pad><pad><pad><pad><pad><pad><pad><pad><pad><pad><pad><pad><pad><pad><pad><pad><pad><pad><pad><pad><pad><pad><pad><pad><pad><pad><pad><pad><pad><pad><pad><pad><pad><pad><pad><pad><pad><pad><pad><pad><pad><pad><pad><pad><pad><pad><pad><pad><pad><pad><pad><pad><pad><pad><pad><pad><pad><pad><pad><pad><pad><pad><pad><pad><pad><pad><pad><pad><pad><pad><pad><pad><pad><pad><pad><pad><pad><pad><pad><pad><pad><pad><pad><pad><pad><pad><pad><pad><pad><pad><pad><pad><pad><pad><pad><pad><pad><pad><pad><pad>']\n",
            "Calculating ROUGE...\n",
            "\n",
            "ROUGE scores details:\n",
            "Number of valid pairs: 8026\n",
            "Sample ROUGE-1 scores: [0.012121212121212121, 0.011764705882352941, 0.010204081632653062, 0.013513513513513513, 0.010989010989010988]\n",
            "Calculating METEOR...\n",
            "METEOR result: {'meteor': 0.035096977516984665}\n",
            "Calculating BERTScore...\n"
          ]
        },
        {
          "data": {
            "application/vnd.jupyter.widget-view+json": {
              "model_id": "a868b4fbc21a43e6a2ac830434b7341d",
              "version_major": 2,
              "version_minor": 0
            },
            "text/plain": [
              "tokenizer_config.json:   0%|          | 0.00/49.0 [00:00<?, ?B/s]"
            ]
          },
          "metadata": {},
          "output_type": "display_data"
        },
        {
          "data": {
            "application/vnd.jupyter.widget-view+json": {
              "model_id": "131473e36b904aae805c304a2ee1cce0",
              "version_major": 2,
              "version_minor": 0
            },
            "text/plain": [
              "config.json:   0%|          | 0.00/625 [00:00<?, ?B/s]"
            ]
          },
          "metadata": {},
          "output_type": "display_data"
        },
        {
          "data": {
            "application/vnd.jupyter.widget-view+json": {
              "model_id": "7114a3afb3cb4a298fc13a76b1d100a7",
              "version_major": 2,
              "version_minor": 0
            },
            "text/plain": [
              "vocab.txt:   0%|          | 0.00/996k [00:00<?, ?B/s]"
            ]
          },
          "metadata": {},
          "output_type": "display_data"
        },
        {
          "data": {
            "application/vnd.jupyter.widget-view+json": {
              "model_id": "e5504099e8774467821a8f8c3f60ef21",
              "version_major": 2,
              "version_minor": 0
            },
            "text/plain": [
              "tokenizer.json:   0%|          | 0.00/1.96M [00:00<?, ?B/s]"
            ]
          },
          "metadata": {},
          "output_type": "display_data"
        },
        {
          "data": {
            "application/vnd.jupyter.widget-view+json": {
              "model_id": "03b5dacbf93a4fe68791bf94607b7279",
              "version_major": 2,
              "version_minor": 0
            },
            "text/plain": [
              "model.safetensors:   0%|          | 0.00/714M [00:00<?, ?B/s]"
            ]
          },
          "metadata": {},
          "output_type": "display_data"
        },
        {
          "name": "stdout",
          "output_type": "stream",
          "text": [
            "BERTScore finished\n",
            "Calculating BLEU...\n",
            "BLEU result: {'bleu': 0.002873305926989948, 'precisions': [0.17341111042794433, 0.0846121177926394, 0.045438618214966, 0.028130983704424347], 'brevity_penalty': 0.04366183547092949, 'length_ratio': 0.24205567884519566, 'translation_length': 1154753, 'reference_length': 4770609}\n",
            "Calculating generated length...\n",
            "Final Metrics: {'rouge1': 1.1279594864647715, 'rouge2': 0.00796320617931834, 'rougeL': 1.1279594864647715, 'meteor': 3.5097, 'bertscore_f1': 61.9759, 'bleu': 0.2873, 'gen_len': 135.5416147520558}\n",
            "\n",
            " ================================================== \n",
            "Predictions type: <class 'tuple'>\n",
            "Decoding predictions and labels...\n",
            "Decoded Predictions Sample:\n",
            " ['질문: 지원들 갈등이 생길 때 지원 어떻게 본인 있다면나신가요 있다면변: 구성원는 구성원 동기 선출되어 때 팀 구성원 저 참여 참여하지 않아 갈등이 진행에 어려움을 생겼습니다. 적이 있습니다. 이를 대해 해결하기 있는 상황을 바라보고 위해 회의했습니다. 그 결과로 학생이 더 나아가가가서적인 회의를과 없었지 확인보 해결한 분위기에서 회의를 임 수 있도록 노력돋아습니다.  결과 회의 회장 수준의률을인 결과를 결과를 얻궈냈 수 있었습니다. </s>  구성원 구성원 구성원  구성원  구성원 구성원  구성원   구성원 구성원 구성원 구성원 구성원  구성원 구성원  구성원 구성원  구성원  구성원  구성원 구성원 구성원 구성원 구성원 구성원 구성원  구성원 구성원       구성원   구성원 구성원 구성원 구성원 구성원 구성원 구성원 구성원 구성원 구성원 구성원 구성원 구성원 구성원 구성원 구성원 구성원 구성원 구성원 구성원 구성원 구성원 구성원 구성원 구성원 구성원 구성원 구성원 구성원 구성원 구성원 구성원 구성원 구성원 구성원  구성원 구성원 구성원 구성원 구성원 구성원 구성원 구성원 구성원 구성원 구성원 구성원 구성원 구성원 구성원 구성원 구성원 구성원 구성원 구성원 구성원 구성원 구성원 구성원 구성원 구성원 구성원 구성원 구성원 구성원 구성원 구성원 구성원 구성원 구성원 구성원 구성원 구성원 구성원 구성원 구성원 구성원 구성원 구성원 구성원 구성원 구성원 구성원 구성원 구성원 구성원 구성원 구성원 구성원 구성원 구성원 구성원 구성원 구성원 구성원 구성원 구성원 구성원 구성원 구성원 구성원 구성원 구성원 구성원 구성원 구성원 구성원 구성원 구성원 구성원 구성원 구성원 구성원 구성원', '질문: 지원만의 스트레스 해소법이 있는지 있다면 왜 그런 방법으로 스트레스를소를 하 하시는지 말씀해 주겠어요 답변: 저만의 스트레스 해소법은이라면 저과를 쓰는씁니다. 일기기를 제가를 해소주는다고 생각합니다. 일기 일을 일기 못했던 스트레스 좋은감을 느낄 수 있습니다.  스트레스레스는스의 원인을 찾아하게이라 바라볼 수 있는 해줍니다.  정리할 일기 해결 수 있는 도와 좋은 방법입니다. 생각합니다. </s>  스트레스 스트레스 스트레스 스트레스 스트레스 스트레스 스트레스 스트레스 스트레스 스트레스 스트레스 스트레스 스트레스 스트레스 스트레스 스트레스 스트레스 스트레스 스트레스 스트레스 스트레스 스트레스 스트레스 스트레스 스트레스 스트레스 스트레스 스트레스 스트레스 스트레스 스트레스 스트레스 스트레스 스트레스 스트레스 스트레스 스트레스 스트레스 스트레스 스트레스 스트레스 스트레스 스트레스 스트레스 스트레스 스트레스 스트레스 스트레스 스트레스 스트레스 스트레스 스트레스 스트레스 스트레스 스트레스 스트레스 스트레스 스트레스 스트레스 스트레스 스트레스 스트레스 스트레스 스트레스 스트레스 스트레스 스트레스 스트레스 스트레스 스트레스 스트레스 스트레스 스트레스 스트레스 스트레스 스트레스 스트레스 스트레스 스트레스 스트레스 스트레스 스트레스 스트레스 스트레스 스트레스 스트레스 스트레스 스트레스 스트레스 스트레스 스트레스 스트레스 스트레스 스트레스 스트레스 스트레스 스트레스 스트레스 스트레스 스트레스 스트레스 스트레스 스트레스 스트레스 스트레스 스트레스 스트레스 스트레스 스트레스 스트레스 스트레스 스트레스 스트레스 스트레스 스트레스 스트레스 스트레스 스트레스 스트레스 스트레스 스트레스 스트레스 스트레스 스트레스 스트레스 스트레스 스트레스 스트레스 스트레스 스트레스 스트레스 스트레스 스트레스 스트레스 스트레스 스트레스 스트레스 스트레스 스트레스 스트레스 스트레스 스트레스 스트레스 스트레스 스트레스 스트레스 스트레스 스트레스 스트레스 스트레스 스트레스 스트레스 스트레스 스트레스 스트레스 스트레스 스트레스 스트레스 스트레스 스트레스 스트레스 스트레스 스트레스 스트레스 스트레스 스트레스 스트레스', '질문: 지원자님께서 생각를 받으면 어떻게 하하 말씀 그런 방법으로 스트레스를 해소하는지지도 말씀 말씀해 주겠습니까요 답변: 저시간이 스트레스서으로 여행을거나 스트레스드 맛있는톤치드가한 맡으면서 스트레스 맑아지고 스트레스도 맑은잔한 스트레스해지는집니다. </s> 스트레스 스트레스 스트레스 스트레스 스트레스 스트레스 스트레스 스트레스 스트레스 스트레스 스트레스 스트레스 스트레스 스트레스 스트레스 스트레스 스트레스 스트레스 스트레스 스트레스 스트레스 스트레스 스트레스 스트레스 스트레스 스트레스 스트레스 스트레스 스트레스 스트레스 스트레스 스트레스 스트레스 스트레스 스트레스 스트레스 스트레스 스트레스 스트레스 스트레스 스트레스 스트레스 스트레스 스트레스 스트레스 스트레스 스트레스 스트레스 스트레스 스트레스 스트레스 스트레스 스트레스 스트레스 스트레스 스트레스 스트레스 스트레스 스트레스 스트레스 스트레스 스트레스 스트레스 스트레스 스트레스 스트레스 스트레스 스트레스 스트레스 스트레스 스트레스 스트레스 스트레스 스트레스 스트레스 스트레스 스트레스 스트레스 스트레스 스트레스 스트레스 스트레스 스트레스 스트레스 스트레스 스트레스 스트레스 스트레스 스트레스 스트레스 스트레스 스트레스 스트레스 스트레스 스트레스 스트레스 스트레스 스트레스 스트레스 스트레스 스트레스 스트레스 스트레스 스트레스 스트레스 스트레스 스트레스 스트레스 스트레스 스트레스 스트레스 스트레스 스트레스 스트레스 스트레스 스트레스 스트레스 스트레스 스트레스 스트레스 스트레스 스트레스 스트레스 스트레스 스트레스 스트레스 스트레스 스트레스 스트레스 스트레스 스트레스 스트레스 스트레스 스트레스 스트레스 스트레스 스트레스 스트레스 스트레스 스트레스 스트레스 스트레스 스트레스 스트레스 스트레스 스트레스 스트레스 스트레스 스트레스 스트레스 스트레스 스트레스 스트레스 스트레스 스트레스 스트레스 스트레스 스트레스 스트레스 스트레스 스트레스 스트레스 스트레스 스트레스 스트레스 스트레스 스트레스 스트레스 스트레스 스트레스 스트레스 스트레스 스트레스 스트레스 스트레스 스트레스 스트레스 스트레스 스트레스 스트레스 스트레스 스트레스 스트레스 스트레스 스트레스 스트레스 스트레스 스트레스 스트레스 스트레스 스트레스 스트레스 스트레스 스트레스']\n",
            "Decoded Labels Sample:\n",
            " ['</s> 질문: 구성원들과의 갈등이 생겼을 때 그것을 해결하는 방법이 있으신가요 답변: 저는 학과 회장으로 활동할 당시 다수의 학생이 회의에 잘 참여하지 않아 회의 진행에 문제가 생겼던 경험이 있습니다. 이에 갈등을 겪고 객관적으로 상황을 살펴보기 위해 노력했습니다. 그 후 한 발 더 다가가 추가적인 어려움은 없는지 물어보며 편안한 분위기에서 회의에 참여할 수 있도록 북돋았습니다. 그 결과 역대 최고 참석률이라는 좋은 성과를 일궈낼 수 있었습니다. </s><pad><pad><pad><pad><pad><pad><pad><pad><pad><pad><pad><pad><pad><pad><pad><pad><pad><pad><pad><pad><pad><pad><pad><pad><pad><pad><pad><pad><pad><pad><pad><pad><pad><pad><pad><pad><pad><pad><pad><pad><pad><pad><pad><pad><pad><pad><pad><pad><pad><pad><pad><pad><pad><pad><pad><pad><pad><pad><pad><pad><pad><pad><pad><pad><pad><pad><pad><pad><pad><pad><pad><pad><pad><pad><pad><pad><pad><pad><pad><pad><pad><pad><pad><pad><pad><pad><pad><pad><pad><pad><pad><pad><pad><pad><pad><pad><pad><pad><pad><pad><pad><pad><pad><pad><pad><pad><pad><pad><pad><pad><pad><pad><pad><pad><pad><pad><pad><pad><pad><pad><pad><pad><pad><pad><pad><pad><pad><pad><pad><pad><pad><pad><pad><pad><pad><pad><pad><pad><pad><pad><pad><pad><pad><pad><pad><pad><pad><pad><pad><pad><pad><pad><pad><pad><pad><pad><pad><pad><pad><pad><pad><pad>', '</s> 질문: 나만의 스트레스 해소법이 있는지 있다면 왜 그런 방법으로 스트레스 해소를 하려고 하시는지 말씀해 주시겠어요 답변: 나만의 스트레스 해소법이라면 일기를 씁니다. 일기는 스트레스를 줄여준다고 생각하며, 어떤 때에는 느끼지 못했던 안도감을 느낄 수 있습니다. 또한 스트레스의 근원을 투명성 있게 바라볼 수 있게 도와줍니다. 생각을 정리해서 문제를 해결할 수 있도록 아주 좋은 방법이라고 생각합니다. </s><pad><pad><pad><pad><pad><pad><pad><pad><pad><pad><pad><pad><pad><pad><pad><pad><pad><pad><pad><pad><pad><pad><pad><pad><pad><pad><pad><pad><pad><pad><pad><pad><pad><pad><pad><pad><pad><pad><pad><pad><pad><pad><pad><pad><pad><pad><pad><pad><pad><pad><pad><pad><pad><pad><pad><pad><pad><pad><pad><pad><pad><pad><pad><pad><pad><pad><pad><pad><pad><pad><pad><pad><pad><pad><pad><pad><pad><pad><pad><pad><pad><pad><pad><pad><pad><pad><pad><pad><pad><pad><pad><pad><pad><pad><pad><pad><pad><pad><pad><pad><pad><pad><pad><pad><pad><pad><pad><pad><pad><pad><pad><pad><pad><pad><pad><pad><pad><pad><pad><pad><pad><pad><pad><pad><pad><pad><pad><pad><pad><pad><pad><pad><pad><pad><pad><pad><pad><pad><pad><pad><pad><pad><pad><pad><pad><pad><pad><pad><pad><pad><pad><pad><pad><pad><pad><pad><pad><pad><pad><pad><pad><pad><pad><pad><pad><pad><pad>', '</s> 질문: 지원자님께서 스트레스를 받으면 어떻게 해소하는지 왜 그 방법으로 스트레스를 해소하는지를 구체적으로 말씀해 주시겠어요 답변: 근로환경에서 벗어나 자연으로 가보면 푸르고 피톤치드 냄새를 맡으면 머리가 맑아지고 바다처럼 잔잔해지고 평온해집니다. </s><pad><pad><pad><pad><pad><pad><pad><pad><pad><pad><pad><pad><pad><pad><pad><pad><pad><pad><pad><pad><pad><pad><pad><pad><pad><pad><pad><pad><pad><pad><pad><pad><pad><pad><pad><pad><pad><pad><pad><pad><pad><pad><pad><pad><pad><pad><pad><pad><pad><pad><pad><pad><pad><pad><pad><pad><pad><pad><pad><pad><pad><pad><pad><pad><pad><pad><pad><pad><pad><pad><pad><pad><pad><pad><pad><pad><pad><pad><pad><pad><pad><pad><pad><pad><pad><pad><pad><pad><pad><pad><pad><pad><pad><pad><pad><pad><pad><pad><pad><pad><pad><pad><pad><pad><pad><pad><pad><pad><pad><pad><pad><pad><pad><pad><pad><pad><pad><pad><pad><pad><pad><pad><pad><pad><pad><pad><pad><pad><pad><pad><pad><pad><pad><pad><pad><pad><pad><pad><pad><pad><pad><pad><pad><pad><pad><pad><pad><pad><pad><pad><pad><pad><pad><pad><pad><pad><pad><pad><pad><pad><pad><pad><pad><pad><pad><pad><pad><pad><pad><pad><pad><pad><pad><pad><pad><pad><pad><pad><pad><pad><pad><pad><pad><pad><pad><pad><pad><pad><pad><pad><pad><pad><pad>']\n",
            "Calculating ROUGE...\n",
            "\n",
            "ROUGE scores details:\n",
            "Number of valid pairs: 8026\n",
            "Sample ROUGE-1 scores: [0.012121212121212121, 0.011764705882352941, 0.010204081632653062, 0.013513513513513513, 0.010989010989010988]\n",
            "Calculating METEOR...\n",
            "METEOR result: {'meteor': 0.03590492363218471}\n",
            "Calculating BERTScore...\n",
            "BERTScore finished\n",
            "Calculating BLEU...\n",
            "BLEU result: {'bleu': 0.00624014281518021, 'precisions': [0.13332186590245976, 0.06537519681006206, 0.035182346447427196, 0.021692470311905503], 'brevity_penalty': 0.12287328748288984, 'length_ratio': 0.3229346609625731, 'translation_length': 1540595, 'reference_length': 4770609}\n",
            "Calculating generated length...\n",
            "Final Metrics: {'rouge1': 1.1280916689896925, 'rouge2': 0.00795585434215003, 'rougeL': 1.1280916689896925, 'meteor': 3.5905, 'bertscore_f1': 61.0242, 'bleu': 0.624, 'gen_len': 183.58372788437578}\n",
            "\n",
            " ================================================== \n",
            "Predictions type: <class 'tuple'>\n",
            "Decoding predictions and labels...\n",
            "Decoded Predictions Sample:\n",
            " ['질문: 지원들과 갈등이 생길 때 지원 어떻게 본인 있다면나신가요 답변: 구성원는 구성원 동기 선출되어 때 구성원 학생 저 불 참여하지 않아 갈등이 진행에 어려움이 있었습니다. 적이 있습니다. 이를 대해 해소 있는 상황을 판단보고 위해 회의를했습니다.  결과로 학 더 나아가가가서적인 회의를과 없었지 살펴보보 갈등을한 대화를기에서 회의를 임 수 있도록 노력돋아습니다.  결과 다수 회장 수준의률을도 결과를 결과를 낼궈냈 수 있었습니다. </s>   구성원   구성원   구성원  구성원    구성원  구성원                구성원  구성원 구성원   구성원      구성원     구성원 구성원   구성원  구성원 구성원   구성원 구성원 구성원 구성원      구성원   구성원 구성원 구성원   구성원 구성원  구성원 구성원  구성원   구성원  구성원 구성원 구성원 구성원 구성원 구성원 구성원 구성원 구성원 구성원 구성원 구성원 구성원 구성원 구성원 구성원 구성원 구성원 구성원 구성원 구성원 구성원 구성원 구성원 구성원 구성원 구성원 구성원 구성원 구성원 구성원 구성원 구성원 구성원 구성원 구성원 구성원 구성원 구성원 구성원 구성원 구성원 구성원 구성원 구성원 구성원 구성원 구성원 구성원 구성원 구성원 구성원 구성원 구성원 구성원 구성원 구성원 구성원 구성원 구성원 구성원 구성원 구성원 구성원 구성원 구성원 구성원 구성원 구성원 구성원 구성원 구성원 구성원 구성원 구성원 구성원', '질문: 지원만의 스트레스 해소법이 있는지 있다면 왜 그런 방법으로 스트레스를소를 하는 하시는지 말씀해 주겠어요 답변: 저만의 스트레스 해소법은으로는 저기를 쓰는씁니다. 그기를 제가를 해소주는다고 생각하기 그 스트레스 글을 못했던 감정 좋은감을 느낄 수 있기  스트레스레스의 원인을 찾아서하게 있게 바라볼 수 있는 해줍니다.  정리할 일기 해결 수 있는 하는 좋은 방법이라고 생각합니다. </s>  스트레스 스트레스 스트레스 스트레스 스트레스 스트레스 스트레스 스트레스 스트레스 스트레스 스트레스 스트레스 스트레스 스트레스 스트레스 스트레스  스트레스 스트레스 스트레스 스트레스 스트레스  스트레스 스트레스 스트레스 스트레스 스트레스 스트레스 스트레스 스트레스 스트레스 스트레스 스트레스 스트레스 스트레스 스트레스 스트레스 스트레스 스트레스 스트레스 스트레스 스트레스      스트레스 스트레스 스트레스  스트레스 스트레스 스트레스 스트레스 스트레스 스트레스 스트레스 스트레스 스트레스 스트레스  스트레스 스트레스 스트레스 스트레스 스트레스 스트레스 스트레스 스트레스 스트레스 스트레스 스트레스 스트레스 스트레스 스트레스 스트레스 스트레스 스트레스 스트레스 스트레스 스트레스 스트레스 스트레스 스트레스 스트레스  스트레스 스트레스 스트레스 스트레스 스트레스 스트레스 스트레스 스트레스 스트레스 스트레스 스트레스 스트레스 스트레스 스트레스 스트레스 스트레스 스트레스 스트레스 스트레스 스트레스 스트레스 스트레스 스트레스 스트레스 스트레스 스트레스 스트레스 스트레스 스트레스 스트레스 스트레스 스트레스 스트레스 스트레스 스트레스 스트레스 스트레스 스트레스 스트레스 스트레스 스트레스 스트레스 스트레스 스트레스 스트레스 스트레스 스트레스  스트레스 스트레스 스트레스 스트레스 스트레스 스트레스 스트레스 스트레스 스트레스 스트레스 스트레스 스트레스 스트레스 스트레스 스트레스 스트레스 스트레스 스트레스 스트레스 스트레스 스트레스 스트레스', '질문: 지원자님께서 생각를 받으면 어떻게 하하 궁금 그런 방법으로 스트레스를 해소하는지지도 말씀 말씀해 주겠습니까요 답변: 저를이 스트레스서 속에서 나가거나 스트레스릇 맛있는톤치드가도 맡으며 기 맑아지고 스트레스도 맑은잔하게 스트레스한집니다. </s> 스트레스 스트레스 스트레스 스트레스 스트레스 스트레스 스트레스 스트레스 스트레스 스트레스 스트레스 스트레스 스트레스 스트레스 스트레스 스트레스 스트레스 스트레스 스트레스 스트레스 스트레스 스트레스 스트레스 스트레스 스트레스 스트레스 스트레스 스트레스 스트레스 스트레스 스트레스 스트레스 스트레스 스트레스 스트레스 스트레스 스트레스 스트레스 스트레스 스트레스 스트레스 스트레스 스트레스 스트레스 스트레스 스트레스 스트레스 스트레스 스트레스 스트레스 스트레스 스트레스 스트레스 스트레스 스트레스 스트레스 스트레스 스트레스 스트레스 스트레스 스트레스 스트레스 스트레스 스트레스 스트레스 스트레스 스트레스 스트레스 스트레스 스트레스 스트레스 스트레스 스트레스 스트레스 스트레스 스트레스 스트레스 스트레스 스트레스 스트레스 스트레스 스트레스 스트레스 스트레스 스트레스 스트레스 스트레스 스트레스 스트레스 스트레스 스트레스 스트레스 스트레스 스트레스 스트레스 스트레스 스트레스 스트레스 스트레스 스트레스 스트레스 스트레스 스트레스 스트레스 스트레스 스트레스 스트레스 스트레스 스트레스 스트레스 스트레스 스트레스 스트레스 스트레스 스트레스 스트레스 스트레스 스트레스 스트레스 스트레스 스트레스 스트레스 스트레스 스트레스 스트레스 스트레스 스트레스 스트레스 스트레스 스트레스 스트레스 스트레스 스트레스 스트레스 스트레스 스트레스 스트레스 스트레스 스트레스 스트레스 스트레스 스트레스 스트레스 스트레스 스트레스 스트레스 스트레스 스트레스 스트레스 스트레스 스트레스 스트레스 스트레스 스트레스 스트레스 스트레스 스트레스 스트레스 스트레스 스트레스 스트레스 스트레스 스트레스 스트레스 스트레스 스트레스 스트레스 스트레스 스트레스 스트레스 스트레스 스트레스 스트레스 스트레스 스트레스 스트레스 스트레스 스트레스 스트레스 스트레스 스트레스 스트레스 스트레스 스트레스 스트레스 스트레스 스트레스 스트레스 스트레스 스트레스 스트레스 스트레스 스트레스 스트레스']\n",
            "Decoded Labels Sample:\n",
            " ['</s> 질문: 구성원들과의 갈등이 생겼을 때 그것을 해결하는 방법이 있으신가요 답변: 저는 학과 회장으로 활동할 당시 다수의 학생이 회의에 잘 참여하지 않아 회의 진행에 문제가 생겼던 경험이 있습니다. 이에 갈등을 겪고 객관적으로 상황을 살펴보기 위해 노력했습니다. 그 후 한 발 더 다가가 추가적인 어려움은 없는지 물어보며 편안한 분위기에서 회의에 참여할 수 있도록 북돋았습니다. 그 결과 역대 최고 참석률이라는 좋은 성과를 일궈낼 수 있었습니다. </s><pad><pad><pad><pad><pad><pad><pad><pad><pad><pad><pad><pad><pad><pad><pad><pad><pad><pad><pad><pad><pad><pad><pad><pad><pad><pad><pad><pad><pad><pad><pad><pad><pad><pad><pad><pad><pad><pad><pad><pad><pad><pad><pad><pad><pad><pad><pad><pad><pad><pad><pad><pad><pad><pad><pad><pad><pad><pad><pad><pad><pad><pad><pad><pad><pad><pad><pad><pad><pad><pad><pad><pad><pad><pad><pad><pad><pad><pad><pad><pad><pad><pad><pad><pad><pad><pad><pad><pad><pad><pad><pad><pad><pad><pad><pad><pad><pad><pad><pad><pad><pad><pad><pad><pad><pad><pad><pad><pad><pad><pad><pad><pad><pad><pad><pad><pad><pad><pad><pad><pad><pad><pad><pad><pad><pad><pad><pad><pad><pad><pad><pad><pad><pad><pad><pad><pad><pad><pad><pad><pad><pad><pad><pad><pad><pad><pad><pad><pad><pad><pad><pad><pad><pad><pad><pad><pad><pad><pad><pad><pad><pad><pad>', '</s> 질문: 나만의 스트레스 해소법이 있는지 있다면 왜 그런 방법으로 스트레스 해소를 하려고 하시는지 말씀해 주시겠어요 답변: 나만의 스트레스 해소법이라면 일기를 씁니다. 일기는 스트레스를 줄여준다고 생각하며, 어떤 때에는 느끼지 못했던 안도감을 느낄 수 있습니다. 또한 스트레스의 근원을 투명성 있게 바라볼 수 있게 도와줍니다. 생각을 정리해서 문제를 해결할 수 있도록 아주 좋은 방법이라고 생각합니다. </s><pad><pad><pad><pad><pad><pad><pad><pad><pad><pad><pad><pad><pad><pad><pad><pad><pad><pad><pad><pad><pad><pad><pad><pad><pad><pad><pad><pad><pad><pad><pad><pad><pad><pad><pad><pad><pad><pad><pad><pad><pad><pad><pad><pad><pad><pad><pad><pad><pad><pad><pad><pad><pad><pad><pad><pad><pad><pad><pad><pad><pad><pad><pad><pad><pad><pad><pad><pad><pad><pad><pad><pad><pad><pad><pad><pad><pad><pad><pad><pad><pad><pad><pad><pad><pad><pad><pad><pad><pad><pad><pad><pad><pad><pad><pad><pad><pad><pad><pad><pad><pad><pad><pad><pad><pad><pad><pad><pad><pad><pad><pad><pad><pad><pad><pad><pad><pad><pad><pad><pad><pad><pad><pad><pad><pad><pad><pad><pad><pad><pad><pad><pad><pad><pad><pad><pad><pad><pad><pad><pad><pad><pad><pad><pad><pad><pad><pad><pad><pad><pad><pad><pad><pad><pad><pad><pad><pad><pad><pad><pad><pad><pad><pad><pad><pad><pad><pad>', '</s> 질문: 지원자님께서 스트레스를 받으면 어떻게 해소하는지 왜 그 방법으로 스트레스를 해소하는지를 구체적으로 말씀해 주시겠어요 답변: 근로환경에서 벗어나 자연으로 가보면 푸르고 피톤치드 냄새를 맡으면 머리가 맑아지고 바다처럼 잔잔해지고 평온해집니다. </s><pad><pad><pad><pad><pad><pad><pad><pad><pad><pad><pad><pad><pad><pad><pad><pad><pad><pad><pad><pad><pad><pad><pad><pad><pad><pad><pad><pad><pad><pad><pad><pad><pad><pad><pad><pad><pad><pad><pad><pad><pad><pad><pad><pad><pad><pad><pad><pad><pad><pad><pad><pad><pad><pad><pad><pad><pad><pad><pad><pad><pad><pad><pad><pad><pad><pad><pad><pad><pad><pad><pad><pad><pad><pad><pad><pad><pad><pad><pad><pad><pad><pad><pad><pad><pad><pad><pad><pad><pad><pad><pad><pad><pad><pad><pad><pad><pad><pad><pad><pad><pad><pad><pad><pad><pad><pad><pad><pad><pad><pad><pad><pad><pad><pad><pad><pad><pad><pad><pad><pad><pad><pad><pad><pad><pad><pad><pad><pad><pad><pad><pad><pad><pad><pad><pad><pad><pad><pad><pad><pad><pad><pad><pad><pad><pad><pad><pad><pad><pad><pad><pad><pad><pad><pad><pad><pad><pad><pad><pad><pad><pad><pad><pad><pad><pad><pad><pad><pad><pad><pad><pad><pad><pad><pad><pad><pad><pad><pad><pad><pad><pad><pad><pad><pad><pad><pad><pad><pad><pad><pad><pad><pad><pad>']\n",
            "Calculating ROUGE...\n",
            "\n",
            "ROUGE scores details:\n",
            "Number of valid pairs: 8026\n",
            "Sample ROUGE-1 scores: [0.012121212121212121, 0.011764705882352941, 0.010204081632653062, 0.013513513513513513, 0.010989010989010988]\n",
            "Calculating METEOR...\n",
            "METEOR result: {'meteor': 0.036373566373253736}\n",
            "Calculating BERTScore...\n",
            "BERTScore finished\n",
            "Calculating BLEU...\n",
            "BLEU result: {'bleu': 0.0016481161957694669, 'precisions': [0.2097272457539678, 0.10417794598556317, 0.05665179153944518, 0.03519767903329547], 'brevity_penalty': 0.02028608530413778, 'length_ratio': 0.2041724651925991, 'translation_length': 974027, 'reference_length': 4770609}\n",
            "Calculating generated length...\n",
            "Final Metrics: {'rouge1': 1.129807910372811, 'rouge2': 0.00876891493180264, 'rougeL': 1.129807910372811, 'meteor': 3.6374, 'bertscore_f1': 62.7345, 'bleu': 0.1648, 'gen_len': 113.29217542985297}\n",
            "\n",
            " ================================================== \n",
            "Predictions type: <class 'tuple'>\n",
            "Decoding predictions and labels...\n",
            "Decoded Predictions Sample:\n",
            " ['질문: 지원들과 갈등이 생길 때 지원 어떻게 지원 있다면나신가요 답변: 구성원는 구성원 조 선출되어 때 구성원 구성원 저 불 참여하지 않아 갈등이 진행률이 어려움이 있었습니다. 적이 있습니다. 이를 저 해결하기 있는 상황을 바라보고 위해 회의했습니다. 그 결과로 학 더 나아가가가서적인 회의를과 없었지 살펴보보 갈등을한 분위기에서 회의를 임 수 있도록 노력돋아습니다.  결과 다수 회장 수준의율을도 결과를 결과를 낼궈냈 수 있었습니다. </s>', '질문: 지원만의 스트레스 해소법이 있는지 있다면 왜 그런 방법으로 스트레스를소를 하 하시는지 말씀해 주겠어요 답변: 저만의 스트레스 해소법은으로는 저기를 쓰는씁니다. 일기기를 제가를 해소주고다고 생각하기 그 일을 일기 못했던 감정 좋은감을 느끼 수 있기  스트레스레스의 원인을 없애하게 있게 바라볼 수 있기 해줍니다.  정리할 일기 해결 수 있는 도와 좋은 방법이라고 생각합니다. </s>   스트레스  스트레스  스트레스 스트레스     스트레스 스트레스 스트레스 스트레스   스트레스 스트레스      스트레스    스트레스 스트레스  스트레스     스트레스   스트레스   스트레스      스트레스     스트레스 스트레스  스트레스 스트레스  스트레스 스트레스   스트레스  스트레스       스트레스  스트레스       스트레스           스트레스', '질문: 지원자님께서는 생각를 받으면 어떻게 하하 궁금 그런 방법으로 해소를 해소하는지지도 말씀 말씀해 주겠습니까요 답변: 저를이 스트레스서으로 나가거나 스트레스릇 맛있는톤치드가 같은 맡으며 기 개아지고 스트레스도 맑은잔하게 새로운해지는집니다. </s> 스트레스 스트레스 스트레스 스트레스 스트레스 스트레스 스트레스 스트레스 스트레스 스트레스 스트레스 스트레스 스트레스 스트레스 스트레스 스트레스 스트레스 스트레스 스트레스 스트레스 스트레스 스트레스 스트레스 스트레스 스트레스 스트레스 스트레스 스트레스 스트레스 스트레스 스트레스 스트레스 스트레스 스트레스 스트레스 스트레스 스트레스 스트레스 스트레스 스트레스 스트레스 스트레스 스트레스  스트레스 스트레스 스트레스 스트레스 스트레스  스트레스 스트레스 스트레스 스트레스 스트레스 스트레스 가라앉 스트레스 스트레스  스트레스 스트레스 스트레스 스트레스 스트레스 스트레스 스트레스 스트레스 가라앉 스트레스  스트레스 스트레스 스트레스  스트레스 스트레스 스트레스  스트레스 스트레스 스트레스 스트레스 가라앉 스트레스 가라앉 스트레스 스트레스 있는 스트레스 스트레스 스트레스 스트레스 스트레스 스트레스 스트레스 스트레스 스트레스 스트레스 스트레스 스트레스 스트레스 스트레스 스트레스 스트레스 스트레스 스트레스 스트레스 스트레스 스트레스 스트레스 스트레스 스트레스 스트레스  스트레스 스트레스 스트레스 스트레스 스트레스 스트레스 스트레스 스트레스 스트레스 스트레스 스트레스 스트레스 스트레스 스트레스 스트레스 스트레스 스트레스 스트레스 스트레스 스트레스 스트레스 스트레스 스트레스 스트레스 스트레스 스트레스 스트레스 스트레스 스트레스 스트레스 스트레스 스트레스 스트레스 스트레스 스트레스 스트레스 스트레스 스트레스 스트레스 스트레스 스트레스 스트레스 스트레스 스트레스 스트레스 스트레스 스트레스 스트레스 스트레스 스트레스 스트레스 스트레스 스트레스 스트레스 스트레스 스트레스 스트레스 스트레스 스트레스 스트레스 스트레스 스트레스 스트레스 스트레스 스트레스 스트레스 스트레스 스트레스 스트레스 스트레스 스트레스 스트레스 스트레스 스트레스 스트레스 스트레스 스트레스 스트레스 스트레스']\n",
            "Decoded Labels Sample:\n",
            " ['</s> 질문: 구성원들과의 갈등이 생겼을 때 그것을 해결하는 방법이 있으신가요 답변: 저는 학과 회장으로 활동할 당시 다수의 학생이 회의에 잘 참여하지 않아 회의 진행에 문제가 생겼던 경험이 있습니다. 이에 갈등을 겪고 객관적으로 상황을 살펴보기 위해 노력했습니다. 그 후 한 발 더 다가가 추가적인 어려움은 없는지 물어보며 편안한 분위기에서 회의에 참여할 수 있도록 북돋았습니다. 그 결과 역대 최고 참석률이라는 좋은 성과를 일궈낼 수 있었습니다. </s><pad><pad><pad><pad><pad><pad><pad><pad><pad><pad><pad><pad><pad><pad><pad><pad><pad><pad><pad><pad><pad><pad><pad><pad><pad><pad><pad><pad><pad><pad><pad><pad><pad><pad><pad><pad><pad><pad><pad><pad><pad><pad><pad><pad><pad><pad><pad><pad><pad><pad><pad><pad><pad><pad><pad><pad><pad><pad><pad><pad><pad><pad><pad><pad><pad><pad><pad><pad><pad><pad><pad><pad><pad><pad><pad><pad><pad><pad><pad><pad><pad><pad><pad><pad><pad><pad><pad><pad><pad><pad><pad><pad><pad><pad><pad><pad><pad><pad><pad><pad><pad><pad><pad><pad><pad><pad><pad><pad><pad><pad><pad><pad><pad><pad><pad><pad><pad><pad><pad><pad><pad><pad><pad><pad><pad><pad><pad><pad><pad><pad><pad><pad><pad><pad><pad><pad><pad><pad><pad><pad><pad><pad><pad><pad><pad><pad><pad><pad><pad><pad><pad><pad><pad><pad><pad><pad><pad><pad><pad><pad><pad><pad>', '</s> 질문: 나만의 스트레스 해소법이 있는지 있다면 왜 그런 방법으로 스트레스 해소를 하려고 하시는지 말씀해 주시겠어요 답변: 나만의 스트레스 해소법이라면 일기를 씁니다. 일기는 스트레스를 줄여준다고 생각하며, 어떤 때에는 느끼지 못했던 안도감을 느낄 수 있습니다. 또한 스트레스의 근원을 투명성 있게 바라볼 수 있게 도와줍니다. 생각을 정리해서 문제를 해결할 수 있도록 아주 좋은 방법이라고 생각합니다. </s><pad><pad><pad><pad><pad><pad><pad><pad><pad><pad><pad><pad><pad><pad><pad><pad><pad><pad><pad><pad><pad><pad><pad><pad><pad><pad><pad><pad><pad><pad><pad><pad><pad><pad><pad><pad><pad><pad><pad><pad><pad><pad><pad><pad><pad><pad><pad><pad><pad><pad><pad><pad><pad><pad><pad><pad><pad><pad><pad><pad><pad><pad><pad><pad><pad><pad><pad><pad><pad><pad><pad><pad><pad><pad><pad><pad><pad><pad><pad><pad><pad><pad><pad><pad><pad><pad><pad><pad><pad><pad><pad><pad><pad><pad><pad><pad><pad><pad><pad><pad><pad><pad><pad><pad><pad><pad><pad><pad><pad><pad><pad><pad><pad><pad><pad><pad><pad><pad><pad><pad><pad><pad><pad><pad><pad><pad><pad><pad><pad><pad><pad><pad><pad><pad><pad><pad><pad><pad><pad><pad><pad><pad><pad><pad><pad><pad><pad><pad><pad><pad><pad><pad><pad><pad><pad><pad><pad><pad><pad><pad><pad><pad><pad><pad><pad><pad><pad>', '</s> 질문: 지원자님께서 스트레스를 받으면 어떻게 해소하는지 왜 그 방법으로 스트레스를 해소하는지를 구체적으로 말씀해 주시겠어요 답변: 근로환경에서 벗어나 자연으로 가보면 푸르고 피톤치드 냄새를 맡으면 머리가 맑아지고 바다처럼 잔잔해지고 평온해집니다. </s><pad><pad><pad><pad><pad><pad><pad><pad><pad><pad><pad><pad><pad><pad><pad><pad><pad><pad><pad><pad><pad><pad><pad><pad><pad><pad><pad><pad><pad><pad><pad><pad><pad><pad><pad><pad><pad><pad><pad><pad><pad><pad><pad><pad><pad><pad><pad><pad><pad><pad><pad><pad><pad><pad><pad><pad><pad><pad><pad><pad><pad><pad><pad><pad><pad><pad><pad><pad><pad><pad><pad><pad><pad><pad><pad><pad><pad><pad><pad><pad><pad><pad><pad><pad><pad><pad><pad><pad><pad><pad><pad><pad><pad><pad><pad><pad><pad><pad><pad><pad><pad><pad><pad><pad><pad><pad><pad><pad><pad><pad><pad><pad><pad><pad><pad><pad><pad><pad><pad><pad><pad><pad><pad><pad><pad><pad><pad><pad><pad><pad><pad><pad><pad><pad><pad><pad><pad><pad><pad><pad><pad><pad><pad><pad><pad><pad><pad><pad><pad><pad><pad><pad><pad><pad><pad><pad><pad><pad><pad><pad><pad><pad><pad><pad><pad><pad><pad><pad><pad><pad><pad><pad><pad><pad><pad><pad><pad><pad><pad><pad><pad><pad><pad><pad><pad><pad><pad><pad><pad><pad><pad><pad><pad>']\n",
            "Calculating ROUGE...\n",
            "\n",
            "ROUGE scores details:\n",
            "Number of valid pairs: 8026\n",
            "Sample ROUGE-1 scores: [0.012121212121212121, 0.011764705882352941, 0.010204081632653062, 0.013513513513513513, 0.010989010989010988]\n",
            "Calculating METEOR...\n",
            "METEOR result: {'meteor': 0.036782016925802796}\n",
            "Calculating BERTScore...\n",
            "BERTScore finished\n",
            "Calculating BLEU...\n",
            "BLEU result: {'bleu': 0.0020042769825803354, 'precisions': [0.2014477535768547, 0.10045329128892393, 0.054618017549122246, 0.033856388198023925], 'brevity_penalty': 0.025626066543464936, 'length_ratio': 0.2144015575369937, 'translation_length': 1022826, 'reference_length': 4770609}\n",
            "Calculating generated length...\n",
            "Final Metrics: {'rouge1': 1.1303704462578743, 'rouge2': 0.00919275384245221, 'rougeL': 1.1303704462578743, 'meteor': 3.6782, 'bertscore_f1': 62.5247, 'bleu': 0.2004, 'gen_len': 119.30214303513581}\n",
            "\n",
            " ================================================== \n",
            "Predictions type: <class 'tuple'>\n",
            "Decoding predictions and labels...\n",
            "Decoded Predictions Sample:\n",
            " ['질문: 지원들과 갈등이 생길 때 지원 어떻게 지원 있다면나신가요 답변: 구성원는 구성원 조 선출되어 때 구성원 학생 참여하는 불 참여하지 않아 갈등이 진행에 어려움이 생겼습니다. 적이 있습니다. 이를 따라 해결하기 있는 문제를 판단보고 위해 회의했습니다. 그 결과로 학 더 나아가가가서적인 회의를과 없었지 살펴보보 갈등을한 분위기에서 회의를 임 수 있었 노력돋아습니다.  결과 다수 회장 수준의율을도 결과를 결과를 낼궈낼 수 있었습니다. </s>           구성원                      구성원                           구성원  구성원                                                                                                 구성원  구성원', '질문: 지원만의 스트레스 해소법이 있는지 있다면 왜 그런 방법으로 스트레스를소를 하 하시는지 말씀해 주겠어요 답변: 저만의 스트레스 해소법은이라면 저 주 쓰는씁니다. 일기기를 제가를 해소주고다고 생각하기 그 일을 제가 못하는 감정 좋은감을 느낄 수 있습니다.  스트레스레스는스의 원인을 찾아하게 있게 바라볼 수 있기 해줍니다.  정리할 일기 해결 수 있는 도와 작은 방법이라고 생각합니다. </s>   스트레스  스트레스 스트레스  스트레스     스트레스 스트레스 스트레스 스트레스   스트레스 스트레스  스트레스    스트레스 스트레스  스트레스 스트레스 스트레스 스트레스 스트레스   스트레스  스트레스  스트레스 스트레스   스트레스      스트레스 스트레스    스트레스 스트레스 스트레스 스트레스 스트레스  스트레스 스트레스 스트레스  스트레스 스트레스 스트레스  스트레스     스트레스 스트레스 스트레스 스트레스 스트레스 스트레스 스트레스  스트레스 스트레스 스트레스 스트레스 스트레스  스트레스   스트레스 스트레스  스트레스 스트레스 스트레스 스트레스 스트레스 스트레스 스트레스 스트레스 스트레스 스트레스 스트레스 스트레스 스트레스 스트레스 스트레스 스트레스 스트레스 스트레스 스트레스 스트레스 스트레스 스트레스 스트레스 스트레스 스트레스 스트레스 스트레스 스트레스 스트레스 스트레스 스트레스 스트레스 스트레스 스트레스 스트레스 스트레스 스트레스 스트레스 스트레스 스트레스 스트레스 스트레스 스트레스  스트레스   스트레스 스트레스 스트레스 스트레스  스트레스 스트레스 스트레스  스트레스 스트레스 스트레스 스트레스 스트레스 스트레스 스트레스  스트레스 스트레스      스트레스', '질문: 지원자님께서 생각를 받으면 어떻게 하하 궁금 그런 방법으로 해소를 해소하는지지도 말씀 말씀해 주겠습니까요 답변: 저를이 스트레스서으로 나가거나 스트레스릇 넓은톤치드가 같은 맡으며 기 맑아지고 맑도 맑은잔하게 맑한집니다. </s> 스트레스 스트레스 스트레스 스트레스 스트레스 스트레스 스트레스 스트레스 스트레스 스트레스 스트레스 스트레스 스트레스 스트레스 스트레스  스트레스 스트레스 스트레스 스트레스  스트레스 스트레스 스트레스 스트레스 스트레스 스트레스 스트레스 스트레스 스트레스 스트레스 스트레스 스트레스 스트레스 스트레스 스트레스 스트레스 스트레스 스트레스 스트레스 스트레스 스트레스 스트레스  스트레스 스트레스 스트레스 스트레스 스트레스  스트레스 스트레스 스트레스 스트레스 스트레스 스트레스 스트레스 스트레스 스트레스  스트레스 스트레스 스트레스 스트레스 스트레스 스트레스 스트레스 스트레스 스트레스 스트레스   스트레스 스트레스  스트레스 스트레스 스트레스  스트레스 스트레스 스트레스 스트레스 스트레스 스트레스 스트레스 스트레스 스트레스 스트레스 스트레스 스트레스 스트레스 스트레스 스트레스 스트레스 스트레스 스트레스 스트레스 스트레스 스트레스 스트레스 스트레스 스트레스 스트레스 스트레스 스트레스 스트레스 스트레스 스트레스 스트레스 스트레스 스트레스 스트레스 스트레스 스트레스 스트레스 스트레스 스트레스 스트레스 스트레스 스트레스 스트레스 스트레스 스트레스 스트레스 스트레스 스트레스 스트레스 스트레스 스트레스 스트레스 스트레스 스트레스 스트레스 스트레스 스트레스 스트레스 스트레스 스트레스 스트레스 스트레스 스트레스 스트레스 스트레스 스트레스 스트레스 스트레스 스트레스 스트레스 스트레스 스트레스 스트레스 스트레스 스트레스 스트레스 스트레스 스트레스 스트레스 스트레스 스트레스 스트레스 스트레스 스트레스 스트레스 스트레스 스트레스 스트레스 스트레스 스트레스 스트레스 스트레스 스트레스 스트레스 스트레스 스트레스 스트레스 스트레스 스트레스 스트레스 스트레스 스트레스 스트레스 스트레스 스트레스 스트레스 스트레스 스트레스 스트레스 스트레스 스트레스 스트레스 스트레스 스트레스 스트레스']\n",
            "Decoded Labels Sample:\n",
            " ['</s> 질문: 구성원들과의 갈등이 생겼을 때 그것을 해결하는 방법이 있으신가요 답변: 저는 학과 회장으로 활동할 당시 다수의 학생이 회의에 잘 참여하지 않아 회의 진행에 문제가 생겼던 경험이 있습니다. 이에 갈등을 겪고 객관적으로 상황을 살펴보기 위해 노력했습니다. 그 후 한 발 더 다가가 추가적인 어려움은 없는지 물어보며 편안한 분위기에서 회의에 참여할 수 있도록 북돋았습니다. 그 결과 역대 최고 참석률이라는 좋은 성과를 일궈낼 수 있었습니다. </s><pad><pad><pad><pad><pad><pad><pad><pad><pad><pad><pad><pad><pad><pad><pad><pad><pad><pad><pad><pad><pad><pad><pad><pad><pad><pad><pad><pad><pad><pad><pad><pad><pad><pad><pad><pad><pad><pad><pad><pad><pad><pad><pad><pad><pad><pad><pad><pad><pad><pad><pad><pad><pad><pad><pad><pad><pad><pad><pad><pad><pad><pad><pad><pad><pad><pad><pad><pad><pad><pad><pad><pad><pad><pad><pad><pad><pad><pad><pad><pad><pad><pad><pad><pad><pad><pad><pad><pad><pad><pad><pad><pad><pad><pad><pad><pad><pad><pad><pad><pad><pad><pad><pad><pad><pad><pad><pad><pad><pad><pad><pad><pad><pad><pad><pad><pad><pad><pad><pad><pad><pad><pad><pad><pad><pad><pad><pad><pad><pad><pad><pad><pad><pad><pad><pad><pad><pad><pad><pad><pad><pad><pad><pad><pad><pad><pad><pad><pad><pad><pad><pad><pad><pad><pad><pad><pad><pad><pad><pad><pad><pad><pad>', '</s> 질문: 나만의 스트레스 해소법이 있는지 있다면 왜 그런 방법으로 스트레스 해소를 하려고 하시는지 말씀해 주시겠어요 답변: 나만의 스트레스 해소법이라면 일기를 씁니다. 일기는 스트레스를 줄여준다고 생각하며, 어떤 때에는 느끼지 못했던 안도감을 느낄 수 있습니다. 또한 스트레스의 근원을 투명성 있게 바라볼 수 있게 도와줍니다. 생각을 정리해서 문제를 해결할 수 있도록 아주 좋은 방법이라고 생각합니다. </s><pad><pad><pad><pad><pad><pad><pad><pad><pad><pad><pad><pad><pad><pad><pad><pad><pad><pad><pad><pad><pad><pad><pad><pad><pad><pad><pad><pad><pad><pad><pad><pad><pad><pad><pad><pad><pad><pad><pad><pad><pad><pad><pad><pad><pad><pad><pad><pad><pad><pad><pad><pad><pad><pad><pad><pad><pad><pad><pad><pad><pad><pad><pad><pad><pad><pad><pad><pad><pad><pad><pad><pad><pad><pad><pad><pad><pad><pad><pad><pad><pad><pad><pad><pad><pad><pad><pad><pad><pad><pad><pad><pad><pad><pad><pad><pad><pad><pad><pad><pad><pad><pad><pad><pad><pad><pad><pad><pad><pad><pad><pad><pad><pad><pad><pad><pad><pad><pad><pad><pad><pad><pad><pad><pad><pad><pad><pad><pad><pad><pad><pad><pad><pad><pad><pad><pad><pad><pad><pad><pad><pad><pad><pad><pad><pad><pad><pad><pad><pad><pad><pad><pad><pad><pad><pad><pad><pad><pad><pad><pad><pad><pad><pad><pad><pad><pad><pad>', '</s> 질문: 지원자님께서 스트레스를 받으면 어떻게 해소하는지 왜 그 방법으로 스트레스를 해소하는지를 구체적으로 말씀해 주시겠어요 답변: 근로환경에서 벗어나 자연으로 가보면 푸르고 피톤치드 냄새를 맡으면 머리가 맑아지고 바다처럼 잔잔해지고 평온해집니다. </s><pad><pad><pad><pad><pad><pad><pad><pad><pad><pad><pad><pad><pad><pad><pad><pad><pad><pad><pad><pad><pad><pad><pad><pad><pad><pad><pad><pad><pad><pad><pad><pad><pad><pad><pad><pad><pad><pad><pad><pad><pad><pad><pad><pad><pad><pad><pad><pad><pad><pad><pad><pad><pad><pad><pad><pad><pad><pad><pad><pad><pad><pad><pad><pad><pad><pad><pad><pad><pad><pad><pad><pad><pad><pad><pad><pad><pad><pad><pad><pad><pad><pad><pad><pad><pad><pad><pad><pad><pad><pad><pad><pad><pad><pad><pad><pad><pad><pad><pad><pad><pad><pad><pad><pad><pad><pad><pad><pad><pad><pad><pad><pad><pad><pad><pad><pad><pad><pad><pad><pad><pad><pad><pad><pad><pad><pad><pad><pad><pad><pad><pad><pad><pad><pad><pad><pad><pad><pad><pad><pad><pad><pad><pad><pad><pad><pad><pad><pad><pad><pad><pad><pad><pad><pad><pad><pad><pad><pad><pad><pad><pad><pad><pad><pad><pad><pad><pad><pad><pad><pad><pad><pad><pad><pad><pad><pad><pad><pad><pad><pad><pad><pad><pad><pad><pad><pad><pad><pad><pad><pad><pad><pad><pad>']\n",
            "Calculating ROUGE...\n",
            "\n",
            "ROUGE scores details:\n",
            "Number of valid pairs: 8026\n",
            "Sample ROUGE-1 scores: [0.012121212121212121, 0.011764705882352941, 0.010204081632653062, 0.013513513513513513, 0.010989010989010988]\n",
            "Calculating METEOR...\n",
            "METEOR result: {'meteor': 0.03697532465588075}\n",
            "Calculating BERTScore...\n",
            "BERTScore finished\n",
            "Calculating BLEU...\n",
            "BLEU result: {'bleu': 0.0030813143660286158, 'precisions': [0.179345542397377, 0.08920986073231742, 0.04852820356226972, 0.030081143927598714], 'brevity_penalty': 0.044323904055533075, 'length_ratio': 0.24294068115831752, 'translation_length': 1158975, 'reference_length': 4770609}\n",
            "Calculating generated length...\n",
            "Final Metrics: {'rouge1': 1.1292899520836053, 'rouge2': 0.008900514929597784, 'rougeL': 1.1292899520836053, 'meteor': 3.6975, 'bertscore_f1': 62.154, 'bleu': 0.3081, 'gen_len': 136.22389733366558}\n",
            "\n",
            " ================================================== \n",
            "Predictions type: <class 'tuple'>\n",
            "Decoding predictions and labels...\n",
            "Decoded Predictions Sample:\n",
            " ['질문: 지원들과 갈등이 생길 때 지원 어떻게 지원 있다면나신가요 답변: 저는 구성원 조 선출되어 때 구성원 구성원 참여하는 불 참여하지 않아 갈등이 진행률이 어려움이 있었습니다. 적이 있습니다. 이를 따라 해결하기 있는 문제를 판단보고 위해 회의했습니다. 그 결과로 학 더 나아가가가서적인 회의를 없이 없었지 살펴보보 갈등을한 분위기에서 회의를 임 수 있었 노력돋아습니다.  결과 다수 회장 수준의율을도 결과를 결과를 낼궈낼 수 있었습니다. </s>', '질문: 지원만의 스트레스 해소법이 있는지 있다면 왜 그런 방법으로 스트레스를소를 하 하시는지 말씀해 주겠어요 답변: 저만의 스트레스 해소법은으로는 저 주 쓰는씁니다. 일기기를 제가를 해소주고다고 생각하기 그 일을 제가 못했던 감정 좋은감을 느낄 수 있습니다.  스트레스레스는스의 원인을 생각해하게 있게 바라볼 수 있기 해줍니다.  정리할 일기 해결 수 있는 도와 작은 방법이라고 생각합니다. </s>        스트레스     스트레스   스트레스   스트레스 스트레스             스트레스     스트레스   스트레스   스트레스           스트레스 스트레스   스트레스  스트레스 스트레스   스트레스         스트레스   스트레스      스트레스           스트레스', '질문: 지원자님께서 생각를 받으면 어떻게 하하 궁금 그런 방법으로 해소를 해소하는지지도 말씀 말씀해 주겠습니까요 답변: 저를이 받는서으로 나가거나 스트레스릇 넓은톤치드가 같은 맡으며 기 맑아지고 맑도 맑은잔하게 맑한집니다. </s> 스트레스 스트레스 스트레스 스트레스 스트레스 스트레스 스트레스 스트레스 스트레스 스트레스 스트레스 스트레스 스트레스 스트레스 스트레스  스트레스 스트레스 스트레스   스트레스  스트레스 스트레스 스트레스 스트레스 스트레스 스트레스  스트레스 스트레스 스트레스 스트레스 스트레스 스트레스 스트레스  스트레스 스트레스 스트레스 스트레스 스트레스  스트레스 스트레스 스트레스 스트레스 스트레스   스트레스 스트레스 스트레스 스트레스 스트레스 스트레스 스트레스    스트레스 스트레스 스트레스 스트레스 스트레스 스트레스   스트레스      스트레스 스트레스 스트레스   스트레스 스트레스  가라앉 스트레스 스트레스 스트레스 스트레스 스트레스 스트레스 스트레스 스트레스 스트레스 스트레스 스트레스 스트레스 스트레스 스트레스 스트레스 스트레스 스트레스 스트레스 스트레스 스트레스 스트레스 스트레스 스트레스 스트레스 스트레스 스트레스 스트레스 스트레스 스트레스 스트레스  스트레스 스트레스 스트레스 스트레스 스트레스 스트레스 스트레스 스트레스 스트레스 스트레스 스트레스 스트레스 스트레스 스트레스 스트레스 스트레스 스트레스 스트레스 스트레스 스트레스 스트레스 스트레스 스트레스 스트레스 스트레스 스트레스 스트레스 스트레스 스트레스 스트레스 스트레스 스트레스 스트레스 스트레스 스트레스 스트레스 스트레스 스트레스 스트레스 스트레스 스트레스 스트레스 스트레스 스트레스 스트레스 스트레스 스트레스 스트레스 스트레스 스트레스 스트레스 스트레스 스트레스 스트레스 스트레스 스트레스 스트레스 스트레스 스트레스 스트레스 스트레스 스트레스 스트레스 스트레스 스트레스 스트레스 스트레스 스트레스 스트레스 스트레스 스트레스 스트레스 스트레스 스트레스 스트레스 스트레스 스트레스 스트레스 스트레스']\n",
            "Decoded Labels Sample:\n",
            " ['</s> 질문: 구성원들과의 갈등이 생겼을 때 그것을 해결하는 방법이 있으신가요 답변: 저는 학과 회장으로 활동할 당시 다수의 학생이 회의에 잘 참여하지 않아 회의 진행에 문제가 생겼던 경험이 있습니다. 이에 갈등을 겪고 객관적으로 상황을 살펴보기 위해 노력했습니다. 그 후 한 발 더 다가가 추가적인 어려움은 없는지 물어보며 편안한 분위기에서 회의에 참여할 수 있도록 북돋았습니다. 그 결과 역대 최고 참석률이라는 좋은 성과를 일궈낼 수 있었습니다. </s><pad><pad><pad><pad><pad><pad><pad><pad><pad><pad><pad><pad><pad><pad><pad><pad><pad><pad><pad><pad><pad><pad><pad><pad><pad><pad><pad><pad><pad><pad><pad><pad><pad><pad><pad><pad><pad><pad><pad><pad><pad><pad><pad><pad><pad><pad><pad><pad><pad><pad><pad><pad><pad><pad><pad><pad><pad><pad><pad><pad><pad><pad><pad><pad><pad><pad><pad><pad><pad><pad><pad><pad><pad><pad><pad><pad><pad><pad><pad><pad><pad><pad><pad><pad><pad><pad><pad><pad><pad><pad><pad><pad><pad><pad><pad><pad><pad><pad><pad><pad><pad><pad><pad><pad><pad><pad><pad><pad><pad><pad><pad><pad><pad><pad><pad><pad><pad><pad><pad><pad><pad><pad><pad><pad><pad><pad><pad><pad><pad><pad><pad><pad><pad><pad><pad><pad><pad><pad><pad><pad><pad><pad><pad><pad><pad><pad><pad><pad><pad><pad><pad><pad><pad><pad><pad><pad><pad><pad><pad><pad><pad><pad>', '</s> 질문: 나만의 스트레스 해소법이 있는지 있다면 왜 그런 방법으로 스트레스 해소를 하려고 하시는지 말씀해 주시겠어요 답변: 나만의 스트레스 해소법이라면 일기를 씁니다. 일기는 스트레스를 줄여준다고 생각하며, 어떤 때에는 느끼지 못했던 안도감을 느낄 수 있습니다. 또한 스트레스의 근원을 투명성 있게 바라볼 수 있게 도와줍니다. 생각을 정리해서 문제를 해결할 수 있도록 아주 좋은 방법이라고 생각합니다. </s><pad><pad><pad><pad><pad><pad><pad><pad><pad><pad><pad><pad><pad><pad><pad><pad><pad><pad><pad><pad><pad><pad><pad><pad><pad><pad><pad><pad><pad><pad><pad><pad><pad><pad><pad><pad><pad><pad><pad><pad><pad><pad><pad><pad><pad><pad><pad><pad><pad><pad><pad><pad><pad><pad><pad><pad><pad><pad><pad><pad><pad><pad><pad><pad><pad><pad><pad><pad><pad><pad><pad><pad><pad><pad><pad><pad><pad><pad><pad><pad><pad><pad><pad><pad><pad><pad><pad><pad><pad><pad><pad><pad><pad><pad><pad><pad><pad><pad><pad><pad><pad><pad><pad><pad><pad><pad><pad><pad><pad><pad><pad><pad><pad><pad><pad><pad><pad><pad><pad><pad><pad><pad><pad><pad><pad><pad><pad><pad><pad><pad><pad><pad><pad><pad><pad><pad><pad><pad><pad><pad><pad><pad><pad><pad><pad><pad><pad><pad><pad><pad><pad><pad><pad><pad><pad><pad><pad><pad><pad><pad><pad><pad><pad><pad><pad><pad><pad>', '</s> 질문: 지원자님께서 스트레스를 받으면 어떻게 해소하는지 왜 그 방법으로 스트레스를 해소하는지를 구체적으로 말씀해 주시겠어요 답변: 근로환경에서 벗어나 자연으로 가보면 푸르고 피톤치드 냄새를 맡으면 머리가 맑아지고 바다처럼 잔잔해지고 평온해집니다. </s><pad><pad><pad><pad><pad><pad><pad><pad><pad><pad><pad><pad><pad><pad><pad><pad><pad><pad><pad><pad><pad><pad><pad><pad><pad><pad><pad><pad><pad><pad><pad><pad><pad><pad><pad><pad><pad><pad><pad><pad><pad><pad><pad><pad><pad><pad><pad><pad><pad><pad><pad><pad><pad><pad><pad><pad><pad><pad><pad><pad><pad><pad><pad><pad><pad><pad><pad><pad><pad><pad><pad><pad><pad><pad><pad><pad><pad><pad><pad><pad><pad><pad><pad><pad><pad><pad><pad><pad><pad><pad><pad><pad><pad><pad><pad><pad><pad><pad><pad><pad><pad><pad><pad><pad><pad><pad><pad><pad><pad><pad><pad><pad><pad><pad><pad><pad><pad><pad><pad><pad><pad><pad><pad><pad><pad><pad><pad><pad><pad><pad><pad><pad><pad><pad><pad><pad><pad><pad><pad><pad><pad><pad><pad><pad><pad><pad><pad><pad><pad><pad><pad><pad><pad><pad><pad><pad><pad><pad><pad><pad><pad><pad><pad><pad><pad><pad><pad><pad><pad><pad><pad><pad><pad><pad><pad><pad><pad><pad><pad><pad><pad><pad><pad><pad><pad><pad><pad><pad><pad><pad><pad><pad><pad>']\n",
            "Calculating ROUGE...\n",
            "\n",
            "ROUGE scores details:\n",
            "Number of valid pairs: 8026\n",
            "Sample ROUGE-1 scores: [0.012121212121212121, 0.011764705882352941, 0.010204081632653062, 0.013513513513513513, 0.010989010989010988]\n",
            "Calculating METEOR...\n",
            "METEOR result: {'meteor': 0.03712198849940309}\n",
            "Calculating BERTScore...\n",
            "BERTScore finished\n",
            "Calculating BLEU...\n",
            "BLEU result: {'bleu': 0.0012901172967360376, 'precisions': [0.22670391832985698, 0.11346227636684518, 0.062052814846798116, 0.03853086037544679], 'brevity_penalty': 0.014568304818069228, 'length_ratio': 0.19124455598855408, 'translation_length': 912353, 'reference_length': 4770609}\n",
            "Calculating generated length...\n",
            "Final Metrics: {'rouge1': 1.1288361242246807, 'rouge2': 0.00835609957602619, 'rougeL': 1.1288361242246807, 'meteor': 3.7122, 'bertscore_f1': 62.9716, 'bleu': 0.129, 'gen_len': 105.53899825566907}\n"
          ]
        },
        {
          "name": "stderr",
          "output_type": "stream",
          "text": [
            "There were missing keys in the checkpoint model loaded: ['lm_head.weight'].\n"
          ]
        },
        {
          "data": {
            "text/plain": [
              "TrainOutput(global_step=12768, training_loss=2.2320954267841233, metrics={'train_runtime': 22542.4825, 'train_samples_per_second': 18.119, 'train_steps_per_second': 0.566, 'total_flos': 5.3361581359104e+16, 'train_loss': 2.2320954267841233, 'epoch': 6.0})"
            ]
          },
          "execution_count": 17,
          "metadata": {},
          "output_type": "execute_result"
        }
      ],
      "source": [
        "# 학습 시작\n",
        "trainer.train()\n"
      ]
    },
    {
      "cell_type": "code",
      "execution_count": null,
      "id": "ad688487",
      "metadata": {
        "execution": {
          "iopub.execute_input": "2024-11-17T10:02:36.915323Z",
          "iopub.status.busy": "2024-11-17T10:02:36.914913Z",
          "iopub.status.idle": "2024-11-17T10:02:38.007994Z",
          "shell.execute_reply": "2024-11-17T10:02:38.006851Z"
        },
        "id": "ad688487",
        "papermill": {
          "duration": 1.16156,
          "end_time": "2024-11-17T10:02:38.010444",
          "exception": false,
          "start_time": "2024-11-17T10:02:36.848884",
          "status": "completed"
        },
        "tags": []
      },
      "outputs": [],
      "source": [
        "import os\n",
        "import shutil\n",
        "\n",
        "# 모델 가중치와 설정 저장\n",
        "trainer.save_model(\"./results/best_model\")\n",
        "\n",
        "# 학습 상태 저장\n",
        "trainer.save_state()"
      ]
    },
    {
      "cell_type": "code",
      "execution_count": null,
      "id": "b3da73a6",
      "metadata": {
        "id": "b3da73a6",
        "papermill": {
          "duration": 0.064922,
          "end_time": "2024-11-17T10:02:38.142745",
          "exception": false,
          "start_time": "2024-11-17T10:02:38.077823",
          "status": "completed"
        },
        "tags": []
      },
      "outputs": [],
      "source": []
    },
    {
      "cell_type": "code",
      "execution_count": null,
      "id": "86db2050",
      "metadata": {
        "execution": {
          "iopub.execute_input": "2024-11-17T10:02:38.280729Z",
          "iopub.status.busy": "2024-11-17T10:02:38.280284Z",
          "iopub.status.idle": "2024-11-17T10:02:38.392425Z",
          "shell.execute_reply": "2024-11-17T10:02:38.391306Z"
        },
        "id": "86db2050",
        "outputId": "afd83b27-ea83-4993-f620-76c87e96afbe",
        "papermill": {
          "duration": 0.179652,
          "end_time": "2024-11-17T10:02:38.394942",
          "exception": false,
          "start_time": "2024-11-17T10:02:38.215290",
          "status": "completed"
        },
        "tags": []
      },
      "outputs": [
        {
          "name": "stdout",
          "output_type": "stream",
          "text": [
            "GPU 0 메모리 리셋 완료!\n",
            "  전체 메모리: 15095.06 MB\n",
            "  예약된 메모리: 4028.00 MB\n",
            "  사용 중인 메모리: 2102.13 MB\n",
            "  사용 가능 메모리: 1925.87 MB\n",
            "GPU 1 메모리 리셋 완료!\n",
            "  전체 메모리: 15095.06 MB\n",
            "  예약된 메모리: 32.00 MB\n",
            "  사용 중인 메모리: 16.25 MB\n",
            "  사용 가능 메모리: 15.75 MB\n"
          ]
        },
        {
          "name": "stderr",
          "output_type": "stream",
          "text": [
            "/opt/conda/lib/python3.10/site-packages/torch/cuda/memory.py:343: FutureWarning: torch.cuda.reset_max_memory_allocated now calls torch.cuda.reset_peak_memory_stats, which resets /all/ peak memory stats.\n",
            "  warnings.warn(\n"
          ]
        }
      ],
      "source": [
        "import torch\n",
        "\n",
        "# GPU 상태 초기화 및 남은 메모리 확인\n",
        "for i in range(torch.cuda.device_count()):\n",
        "    device = torch.device(f\"cuda:{i}\")\n",
        "\n",
        "    # 메모리 초기화\n",
        "    torch.cuda.empty_cache()  # GPU 캐시 비우기\n",
        "    torch.cuda.ipc_collect()  # GPU 메모리에서 누수된 객체 수집\n",
        "\n",
        "    # 메모리 통계 초기화\n",
        "    torch.cuda.reset_max_memory_allocated(device)\n",
        "    torch.cuda.reset_peak_memory_stats(device)\n",
        "\n",
        "    # GPU 메모리 상태 확인\n",
        "    total_memory = torch.cuda.get_device_properties(device).total_memory  # 전체 메모리\n",
        "    reserved_memory = torch.cuda.memory_reserved(device)  # 예약된 메모리\n",
        "    allocated_memory = torch.cuda.memory_allocated(device)  # 사용 중인 메모리\n",
        "    free_memory = reserved_memory - allocated_memory  # 예약된 메모리 중 사용 가능 메모리\n",
        "\n",
        "    print(f\"GPU {i} 메모리 리셋 완료!\")\n",
        "    print(f\"  전체 메모리: {total_memory / 1024 ** 2:.2f} MB\")\n",
        "    print(f\"  예약된 메모리: {reserved_memory / 1024 ** 2:.2f} MB\")\n",
        "    print(f\"  사용 중인 메모리: {allocated_memory / 1024 ** 2:.2f} MB\")\n",
        "    print(f\"  사용 가능 메모리: {free_memory / 1024 ** 2:.2f} MB\")\n"
      ]
    },
    {
      "cell_type": "code",
      "execution_count": null,
      "id": "c3b249cd",
      "metadata": {
        "execution": {
          "iopub.execute_input": "2024-11-17T10:02:38.522833Z",
          "iopub.status.busy": "2024-11-17T10:02:38.522438Z",
          "iopub.status.idle": "2024-11-17T10:02:40.012069Z",
          "shell.execute_reply": "2024-11-17T10:02:40.010922Z"
        },
        "id": "c3b249cd",
        "outputId": "b955b48c-0c95-41a9-ad3a-e6b273eaf61f",
        "papermill": {
          "duration": 1.556259,
          "end_time": "2024-11-17T10:02:40.014133",
          "exception": false,
          "start_time": "2024-11-17T10:02:38.457874",
          "status": "completed"
        },
        "tags": []
      },
      "outputs": [
        {
          "name": "stderr",
          "output_type": "stream",
          "text": [
            "/opt/conda/lib/python3.10/site-packages/transformers/generation/configuration_utils.py:601: UserWarning: `do_sample` is set to `False`. However, `temperature` is set to `0.7` -- this flag is only used in sample-based generation modes. You should set `do_sample=True` or unset `temperature`.\n",
            "  warnings.warn(\n"
          ]
        },
        {
          "name": "stdout",
          "output_type": "stream",
          "text": [
            "Generated Text:\n",
            "본인의 강점이 무엇이라고 생각하시나요 또한 본인이 지금까지 그것을 특화시키고 극복하기 위해서 어떤 노력들을 해 오셨는지도 말씀해 주실 수 있을까요 답변: 저는 성격이 급해서 어떤 일을 할 때 빨리 끝내지 못하는 단점이 있습니다. 이것을 극복하기 위해 우선순위를 정하고 그 우선순위대로 일을 끝낼 수 있도록 노력하고 있습니다. \n"
          ]
        }
      ],
      "source": [
        "from transformers import AutoModelForCausalLM, AutoTokenizer\n",
        "\n",
        "# Best Model 로드\n",
        "best_model = AutoModelForCausalLM.from_pretrained(\"./results/best_model\")\n",
        "\n",
        "# GPU 설정\n",
        "import torch\n",
        "device = torch.device(\"cuda\" if torch.cuda.is_available() else \"cpu\")\n",
        "model.to(device)\n",
        "\n",
        "# 입력 프롬프트\n",
        "prompt =\"본인의 강점이 무엇이라고 생각하시나요\"  # 텍스트 생성 시작 문장\n",
        "input_ids = tokenizer.encode(prompt, return_tensors=\"pt\").to(device)\n",
        "\n",
        "# 텍스트 생성\n",
        "output = model.generate(\n",
        "    input_ids,\n",
        "    max_length=250,            # 생성할 최대 길이\n",
        "    num_beams=5,               # 빔 서치 크기\n",
        "    no_repeat_ngram_size=2,    # 반복 방지\n",
        "    early_stopping=True,       # 적절히 멈춤\n",
        "    temperature=0.7            # 생성 다양성 제어 (0.7~1.0 추천)\n",
        ")\n",
        "\n",
        "# 결과 디코딩\n",
        "generated_text = tokenizer.decode(output[0], skip_special_tokens=True)\n",
        "print(\"Generated Text:\")\n",
        "print(generated_text)"
      ]
    },
    {
      "cell_type": "code",
      "execution_count": null,
      "id": "28a60a3b",
      "metadata": {
        "execution": {
          "iopub.execute_input": "2024-11-17T10:02:40.138761Z",
          "iopub.status.busy": "2024-11-17T10:02:40.137808Z",
          "iopub.status.idle": "2024-11-17T10:02:41.021677Z",
          "shell.execute_reply": "2024-11-17T10:02:41.020716Z"
        },
        "id": "28a60a3b",
        "outputId": "87694c50-05af-455c-e8f2-9ffd752e7eaa",
        "papermill": {
          "duration": 0.94773,
          "end_time": "2024-11-17T10:02:41.023950",
          "exception": false,
          "start_time": "2024-11-17T10:02:40.076220",
          "status": "completed"
        },
        "tags": []
      },
      "outputs": [
        {
          "name": "stdout",
          "output_type": "stream",
          "text": [
            "Generated Text:\n",
            "저희 회사가 당신을 뽑아야 하는 이유를 설명하세요 답변: 우리 회사가 해외 무대로 진출한다면 저는 해외 무대 진출은 필수라고 생각합니다. 그 중에서도 베트남을 추천하고 싶습니다. 베트남은 인구가 많고 발전 가능성이 무궁무진하기 때문입니다. \n"
          ]
        }
      ],
      "source": [
        "from transformers import AutoModelForCausalLM, AutoTokenizer\n",
        "\n",
        "# Best Model 로드\n",
        "best_model = AutoModelForCausalLM.from_pretrained(\"./results/best_model\")\n",
        "\n",
        "# GPU 설정\n",
        "import torch\n",
        "device = torch.device(\"cuda\" if torch.cuda.is_available() else \"cpu\")\n",
        "model.to(device)\n",
        "\n",
        "# 입력 프롬프트\n",
        "prompt =\"저희 회사가 당신을 뽑아야 하는 이유를 설명하세요\"  # 텍스트 생성 시작 문장\n",
        "input_ids = tokenizer.encode(prompt, return_tensors=\"pt\").to(device)\n",
        "\n",
        "# 텍스트 생성\n",
        "output = model.generate(\n",
        "    input_ids,\n",
        "    max_length=250,             # 생성할 최대 길이\n",
        "    num_beams=5,               # 빔 서치 크기\n",
        "    no_repeat_ngram_size=2,    # 반복 방지\n",
        "    early_stopping=True,       # 적절히 멈춤\n",
        "    temperature=0.7            # 생성 다양성 제어 (0.7~1.0 추천)\n",
        ")\n",
        "\n",
        "# 결과 디코딩\n",
        "generated_text = tokenizer.decode(output[0], skip_special_tokens=True)\n",
        "print(\"Generated Text:\")\n",
        "print(generated_text)"
      ]
    },
    {
      "cell_type": "code",
      "execution_count": null,
      "id": "01325675",
      "metadata": {
        "id": "01325675",
        "papermill": {
          "duration": 0.0614,
          "end_time": "2024-11-17T10:02:41.150283",
          "exception": false,
          "start_time": "2024-11-17T10:02:41.088883",
          "status": "completed"
        },
        "tags": []
      },
      "outputs": [],
      "source": []
    },
    {
      "cell_type": "markdown",
      "id": "b9c5a2e7",
      "metadata": {
        "id": "b9c5a2e7",
        "papermill": {
          "duration": 0.063602,
          "end_time": "2024-11-17T10:02:41.276726",
          "exception": false,
          "start_time": "2024-11-17T10:02:41.213124",
          "status": "completed"
        },
        "tags": []
      },
      "source": []
    },
    {
      "cell_type": "code",
      "execution_count": null,
      "id": "58b277b2",
      "metadata": {
        "execution": {
          "iopub.execute_input": "2024-11-17T10:02:41.406885Z",
          "iopub.status.busy": "2024-11-17T10:02:41.406490Z",
          "iopub.status.idle": "2024-11-17T10:02:41.870940Z",
          "shell.execute_reply": "2024-11-17T10:02:41.869552Z"
        },
        "id": "58b277b2",
        "outputId": "a6160175-a154-4782-e032-c9946190a061",
        "papermill": {
          "duration": 0.531521,
          "end_time": "2024-11-17T10:02:41.872754",
          "exception": true,
          "start_time": "2024-11-17T10:02:41.341233",
          "status": "failed"
        },
        "tags": []
      },
      "outputs": [
        {
          "ename": "AttributeError",
          "evalue": "module 'torch' has no attribute 'cache'",
          "output_type": "error",
          "traceback": [
            "\u001b[0;31m---------------------------------------------------------------------------\u001b[0m",
            "\u001b[0;31mAttributeError\u001b[0m                            Traceback (most recent call last)",
            "Cell \u001b[0;32mIn[22], line 1\u001b[0m\n\u001b[0;32m----> 1\u001b[0m \u001b[43mtorch\u001b[49m\u001b[38;5;241;43m.\u001b[39;49m\u001b[43mcache\u001b[49m()\n",
            "File \u001b[0;32m/opt/conda/lib/python3.10/site-packages/torch/__init__.py:2216\u001b[0m, in \u001b[0;36m__getattr__\u001b[0;34m(name)\u001b[0m\n\u001b[1;32m   2213\u001b[0m     \u001b[38;5;28;01mimport\u001b[39;00m \u001b[38;5;21;01mimportlib\u001b[39;00m\n\u001b[1;32m   2214\u001b[0m     \u001b[38;5;28;01mreturn\u001b[39;00m importlib\u001b[38;5;241m.\u001b[39mimport_module(\u001b[38;5;124mf\u001b[39m\u001b[38;5;124m\"\u001b[39m\u001b[38;5;124m.\u001b[39m\u001b[38;5;132;01m{\u001b[39;00mname\u001b[38;5;132;01m}\u001b[39;00m\u001b[38;5;124m\"\u001b[39m, \u001b[38;5;18m__name__\u001b[39m)\n\u001b[0;32m-> 2216\u001b[0m \u001b[38;5;28;01mraise\u001b[39;00m \u001b[38;5;167;01mAttributeError\u001b[39;00m(\u001b[38;5;124mf\u001b[39m\u001b[38;5;124m\"\u001b[39m\u001b[38;5;124mmodule \u001b[39m\u001b[38;5;124m'\u001b[39m\u001b[38;5;132;01m{\u001b[39;00m\u001b[38;5;18m__name__\u001b[39m\u001b[38;5;132;01m}\u001b[39;00m\u001b[38;5;124m'\u001b[39m\u001b[38;5;124m has no attribute \u001b[39m\u001b[38;5;124m'\u001b[39m\u001b[38;5;132;01m{\u001b[39;00mname\u001b[38;5;132;01m}\u001b[39;00m\u001b[38;5;124m'\u001b[39m\u001b[38;5;124m\"\u001b[39m)\n",
            "\u001b[0;31mAttributeError\u001b[0m: module 'torch' has no attribute 'cache'"
          ]
        }
      ],
      "source": []
    },
    {
      "cell_type": "code",
      "source": [
        "import pandas as pd\n",
        "\n",
        "data = {\n",
        "   'Epoch': [1, 2, 3, 4, 5, 6],\n",
        "   'train_loss': [2.535500, 2.374600, 2.235600, 2.135500, 2.045800, 1.976700],\n",
        "   'eval_loss': [2.876755, 2.820793, 2.795852, 2.788255, 2.795542, 2.805000],\n",
        "   'eval_rouge1': [1.127959, 1.128092, 1.129808, 1.130370, 1.129290, 1.128836],\n",
        "   'eval_rouge2': [0.007963, 0.007956, 0.008769, 0.009193, 0.008901, 0.008356],\n",
        "   'eval_rougeL': [1.127959, 1.128092, 1.129808, 1.130370, 1.129290, 1.128836],\n",
        "   'eval_meteor': [3.509700, 3.590500, 3.637400, 3.678200, 3.697500, 3.712200],\n",
        "   'eval_bertscore_f1': [61.975900, 61.024200, 62.734500, 62.524700, 62.154000, 62.971600],\n",
        "   'eval_bleu': [0.287300, 0.624000, 0.164800, 0.200400, 0.308100, 0.129000],\n",
        "   'eval_gen_len': [135.541615, 183.583728, 113.292175, 119.302143, 136.223897, 105.538998]\n",
        "}\n",
        "\n",
        "history_df = pd.DataFrame(data)\n",
        "history_df.set_index('Epoch', inplace=True)\n"
      ],
      "metadata": {
        "id": "xYSWdJIEK_g3"
      },
      "id": "xYSWdJIEK_g3",
      "execution_count": 19,
      "outputs": []
    },
    {
      "cell_type": "code",
      "source": [],
      "metadata": {
        "id": "AsGNO554L4tp"
      },
      "id": "AsGNO554L4tp",
      "execution_count": 19,
      "outputs": []
    },
    {
      "cell_type": "code",
      "execution_count": 20,
      "id": "3c9c7e93",
      "metadata": {
        "execution": {
          "iopub.status.busy": "2024-11-17T03:29:07.280554Z",
          "iopub.status.idle": "2024-11-17T03:29:07.281178Z",
          "shell.execute_reply": "2024-11-17T03:29:07.280931Z",
          "shell.execute_reply.started": "2024-11-17T03:29:07.280904Z"
        },
        "papermill": {
          "duration": null,
          "end_time": null,
          "exception": null,
          "start_time": null,
          "status": "pending"
        },
        "tags": [],
        "id": "3c9c7e93"
      },
      "outputs": [],
      "source": [
        "# # 기존 trainer에서 학습 로그 가져오기\n",
        "# training_logs = trainer.state.log_history\n",
        "\n",
        "# # DataFrame으로 변환하여 보기 좋게 표시\n",
        "# import pandas as pd\n",
        "# history_df = pd.DataFrame(training_logs).reset_index()\n",
        "# print(\"\\nTraining history:\")\n",
        "# display(history_df)"
      ]
    },
    {
      "cell_type": "code",
      "execution_count": 21,
      "id": "309db661",
      "metadata": {
        "execution": {
          "iopub.status.busy": "2024-11-17T03:29:07.282582Z",
          "iopub.status.idle": "2024-11-17T03:29:07.283076Z",
          "shell.execute_reply": "2024-11-17T03:29:07.282839Z",
          "shell.execute_reply.started": "2024-11-17T03:29:07.282813Z"
        },
        "id": "309db661",
        "outputId": "37a61e81-9f3e-42d6-ee48-2cbae18082a9",
        "papermill": {
          "duration": null,
          "end_time": null,
          "exception": null,
          "start_time": null,
          "status": "pending"
        },
        "tags": [],
        "colab": {
          "base_uri": "https://localhost:8080/",
          "height": 1000
        }
      },
      "outputs": [
        {
          "output_type": "display_data",
          "data": {
            "text/plain": [
              "<Figure size 1500x1200 with 4 Axes>"
            ],
            "image/png": "[encoded data removed]"
          },
          "metadata": {}
        },
        {
          "output_type": "stream",
          "name": "stdout",
          "text": [
            "\n",
            "Final Metrics:\n",
            "Train Loss: 1.9767\n",
            "Validation Loss: 2.8050\n",
            "ROUGE-1: 1.1288\n",
            "ROUGE-2: 0.0084\n",
            "ROUGE-L: 1.1288\n",
            "METEOR: 3.7122\n",
            "BERTScore: 62.9716\n",
            "BLEU: 0.1290\n",
            "Generation Length: 105.5390\n"
          ]
        }
      ],
      "source": [
        "import matplotlib.pyplot as plt\n",
        "import numpy as np\n",
        "\n",
        "# nan 값을 제외하고 데이터 추출\n",
        "train_loss = history_df['train_loss'].dropna().values\n",
        "eval_loss = history_df['eval_loss'].dropna().values\n",
        "rouge1 = history_df['eval_rouge1'].dropna().values\n",
        "rouge2 = history_df['eval_rouge2'].dropna().values\n",
        "rougeL = history_df['eval_rougeL'].dropna().values\n",
        "meteor = history_df['eval_meteor'].dropna().values\n",
        "bertscore = history_df['eval_bertscore_f1'].dropna().values\n",
        "bleu = history_df['eval_bleu'].dropna().values\n",
        "gen_len = history_df['eval_gen_len'].dropna().values\n",
        "\n",
        "# 실제 데이터 개수에 맞춰 epochs 배열 생성\n",
        "epochs = np.arange(len(eval_loss))\n",
        "\n",
        "# 그래프 생성\n",
        "fig, ((ax1, ax2), (ax3, ax4)) = plt.subplots(2, 2, figsize=(15, 12))\n",
        "fig.suptitle('Training Metrics Overview', fontsize=16, y=1.02)\n",
        "\n",
        "# Loss plot\n",
        "ax1.plot(epochs, train_loss, 'b-', label='Training Loss', marker='o')\n",
        "ax1.plot(epochs, eval_loss, 'r-', label='Validation Loss', marker='o')\n",
        "ax1.set_title('Training and Validation Loss')\n",
        "ax1.set_xlabel('Epoch')\n",
        "ax1.set_ylabel('Loss')\n",
        "ax1.legend()\n",
        "ax1.grid(True, linestyle='--', alpha=0.7)\n",
        "\n",
        "# ROUGE scores over time\n",
        "ax2.plot(epochs, rouge1, 'b-', label='ROUGE-1', marker='o')\n",
        "ax2.plot(epochs, rouge2, 'r-', label='ROUGE-2', marker='o')\n",
        "ax2.plot(epochs, rougeL, 'g-', label='ROUGE-L', marker='o')\n",
        "ax2.set_title('ROUGE Scores')\n",
        "ax2.set_xlabel('Epoch')\n",
        "ax2.set_ylabel('Score')\n",
        "ax2.legend()\n",
        "ax2.grid(True, linestyle='--', alpha=0.7)\n",
        "\n",
        "# Other metrics\n",
        "ax3.plot(epochs, meteor, 'b-', label='METEOR', marker='o')\n",
        "ax3.plot(epochs, bertscore, 'r-', label='BERTScore F1', marker='o')\n",
        "ax3.plot(epochs, bleu, 'g-', label='BLEU', marker='o')\n",
        "ax3.set_title('Other Metrics')\n",
        "ax3.set_xlabel('Epoch')\n",
        "ax3.set_ylabel('Score')\n",
        "ax3.legend()\n",
        "ax3.grid(True, linestyle='--', alpha=0.7)\n",
        "\n",
        "# Generation length\n",
        "ax4.plot(epochs, gen_len, 'b-', label='Generation Length', marker='o')\n",
        "ax4.set_title('Generation Length')\n",
        "ax4.set_xlabel('Epoch')\n",
        "ax4.set_ylabel('Length')\n",
        "ax4.legend()\n",
        "ax4.grid(True, linestyle='--', alpha=0.7)\n",
        "\n",
        "plt.tight_layout()\n",
        "\n",
        "# 그래프 저장\n",
        "plt.savefig('training_metrics.png', dpi=300, bbox_inches='tight')\n",
        "plt.show()\n",
        "\n",
        "# 최종 결과값들 출력\n",
        "print(\"\\nFinal Metrics:\")\n",
        "print(f\"Train Loss: {train_loss[-1]:.4f}\")\n",
        "print(f\"Validation Loss: {eval_loss[-1]:.4f}\")\n",
        "print(f\"ROUGE-1: {rouge1[-1]:.4f}\")\n",
        "print(f\"ROUGE-2: {rouge2[-1]:.4f}\")\n",
        "print(f\"ROUGE-L: {rougeL[-1]:.4f}\")\n",
        "print(f\"METEOR: {meteor[-1]:.4f}\")\n",
        "print(f\"BERTScore: {bertscore[-1]:.4f}\")\n",
        "print(f\"BLEU: {bleu[-1]:.4f}\")\n",
        "print(f\"Generation Length: {gen_len[-1]:.4f}\")"
      ]
    },
    {
      "cell_type": "markdown",
      "id": "06a62c9e",
      "metadata": {
        "id": "06a62c9e",
        "papermill": {
          "duration": null,
          "end_time": null,
          "exception": null,
          "start_time": null,
          "status": "pending"
        },
        "tags": []
      },
      "source": []
    }
  ],
  "metadata": {
    "accelerator": "GPU",
    "colab": {
      "gpuType": "L4",
      "machine_shape": "hm",
      "provenance": [],
      "include_colab_link": true
    },
    "kaggle": {
      "accelerator": "nvidiaTeslaT4",
      "dataSources": [],
      "dockerImageVersionId": 30787,
      "isGpuEnabled": true,
      "isInternetEnabled": true,
      "language": "python",
      "sourceType": "notebook"
    },
    "kernelspec": {
      "display_name": "Python 3",
      "language": "python",
      "name": "python3"
    },
    "language_info": {
      "codemirror_mode": {
        "name": "ipython",
        "version": 3
      },
      "file_extension": ".py",
      "mimetype": "text/x-python",
      "name": "python",
      "nbconvert_exporter": "python",
      "pygments_lexer": "ipython3",
      "version": "3.10.14"
    },
    "papermill": {
      "default_parameters": {},
      "duration": 22855.523703,
      "end_time": "2024-11-17T10:02:45.582235",
      "environment_variables": {},
      "exception": true,
      "input_path": "__notebook__.ipynb",
      "output_path": "__notebook__.ipynb",
      "parameters": {},
      "start_time": "2024-11-17T03:41:50.058532",
      "version": "2.6.0"
    },
    "widgets": {
      "application/vnd.jupyter.widget-state+json": {}
    }
  },
  "nbformat": 4,
  "nbformat_minor": 5
}