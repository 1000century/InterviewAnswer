{
  "cells": [
    {
      "cell_type": "markdown",
      "metadata": {
        "id": "view-in-github",
        "colab_type": "text"
      },
      "source": [
        "<a href=\"https://colab.research.google.com/github/1000century/likelion_proj2/blob/main/code/train/v8.ipynb\" target=\"_parent\"><img src=\"https://colab.research.google.com/assets/colab-badge.svg\" alt=\"Open In Colab\"/></a>"
      ]
    },
    {
      "cell_type": "code",
      "execution_count": null,
      "id": "dcb05a9f",
      "metadata": {
        "execution": {
          "iopub.execute_input": "2024-11-17T03:44:27.281604Z",
          "iopub.status.busy": "2024-11-17T03:44:27.280669Z",
          "iopub.status.idle": "2024-11-17T03:45:33.387853Z",
          "shell.execute_reply": "2024-11-17T03:45:33.386656Z"
        },
        "id": "dcb05a9f",
        "outputId": "1e17f280-3007-482b-fc49-d2ba7d5df7ef",
        "papermill": {
          "duration": 66.158658,
          "end_time": "2024-11-17T03:45:33.390354",
          "exception": false,
          "start_time": "2024-11-17T03:44:27.231696",
          "status": "completed"
        },
        "tags": []
      },
      "outputs": [
        {
          "name": "stdout",
          "output_type": "stream",
          "text": [
            "Requirement already satisfied: nltk in /opt/conda/lib/python3.10/site-packages (3.2.4)\r\n",
            "Collecting nltk\r\n",
            "  Downloading nltk-3.9.1-py3-none-any.whl.metadata (2.9 kB)\r\n",
            "Requirement already satisfied: click in /opt/conda/lib/python3.10/site-packages (from nltk) (8.1.7)\r\n",
            "Requirement already satisfied: joblib in /opt/conda/lib/python3.10/site-packages (from nltk) (1.4.2)\r\n",
            "Requirement already satisfied: regex>=2021.8.3 in /opt/conda/lib/python3.10/site-packages (from nltk) (2024.5.15)\r\n",
            "Requirement already satisfied: tqdm in /opt/conda/lib/python3.10/site-packages (from nltk) (4.66.4)\r\n",
            "Downloading nltk-3.9.1-py3-none-any.whl (1.5 MB)\r\n",
            "\u001b[2K   \u001b[90m━━━━━━━━━━━━━━━━━━━━━━━━━━━━━━━━━━━━━━━━\u001b[0m \u001b[32m1.5/1.5 MB\u001b[0m \u001b[31m25.2 MB/s\u001b[0m eta \u001b[36m0:00:00\u001b[0m\r\n",
            "\u001b[?25hInstalling collected packages: nltk\r\n",
            "  Attempting uninstall: nltk\r\n",
            "    Found existing installation: nltk 3.2.4\r\n",
            "    Uninstalling nltk-3.2.4:\r\n",
            "      Successfully uninstalled nltk-3.2.4\r\n",
            "\u001b[31mERROR: pip's dependency resolver does not currently take into account all the packages that are installed. This behaviour is the source of the following dependency conflicts.\r\n",
            "preprocessing 0.1.13 requires nltk==3.2.4, but you have nltk 3.9.1 which is incompatible.\u001b[0m\u001b[31m\r\n",
            "\u001b[0mSuccessfully installed nltk-3.9.1\r\n"
          ]
        }
      ],
      "source": [
        "! pip install evaluate -qq\n",
        "! pip install datasets -qq\n",
        "! pip install bert_score -qq\n",
        "! pip install rouge-score -qq\n",
        "! pip install --upgrade nltk\n"
      ]
    },
    {
      "cell_type": "code",
      "execution_count": null,
      "id": "e6d3061a",
      "metadata": {
        "execution": {
          "iopub.execute_input": "2024-11-17T03:45:33.484486Z",
          "iopub.status.busy": "2024-11-17T03:45:33.484092Z",
          "iopub.status.idle": "2024-11-17T03:45:33.489177Z",
          "shell.execute_reply": "2024-11-17T03:45:33.488203Z"
        },
        "id": "e6d3061a",
        "papermill": {
          "duration": 0.054593,
          "end_time": "2024-11-17T03:45:33.491257",
          "exception": false,
          "start_time": "2024-11-17T03:45:33.436664",
          "status": "completed"
        },
        "tags": []
      },
      "outputs": [],
      "source": [
        "import gc"
      ]
    },
    {
      "cell_type": "code",
      "execution_count": null,
      "id": "fd74683b",
      "metadata": {
        "execution": {
          "iopub.execute_input": "2024-11-17T03:45:33.585920Z",
          "iopub.status.busy": "2024-11-17T03:45:33.585514Z",
          "iopub.status.idle": "2024-11-17T03:45:35.331259Z",
          "shell.execute_reply": "2024-11-17T03:45:35.330424Z"
        },
        "id": "fd74683b",
        "papermill": {
          "duration": 1.796231,
          "end_time": "2024-11-17T03:45:35.333583",
          "exception": false,
          "start_time": "2024-11-17T03:45:33.537352",
          "status": "completed"
        },
        "tags": []
      },
      "outputs": [],
      "source": [
        "from datasets import load_dataset, Dataset, DatasetDict\n",
        "import pandas as pd\n",
        "import json\n",
        "import os\n",
        "import zipfile\n",
        "from typing import List, Dict\n",
        "\n",
        "def flatten_json_data(data_list):\n",
        "    \"\"\"JSON 데이터를 평탄화하는 함수\"\"\"\n",
        "    return pd.json_normalize(\n",
        "        data_list,\n",
        "        sep='_',\n",
        "        record_path=None,\n",
        "        meta=[\n",
        "            'category',\n",
        "            'job_field',\n",
        "            'gender',\n",
        "            'experience',\n",
        "            ['version'],\n",
        "            ['dataSet', 'answer', 'raw', 'text'],\n",
        "            ['dataSet', 'answer', 'summary', 'text'],\n",
        "            ['dataSet', 'question', 'raw', 'text'],\n",
        "            ['dataSet', 'info', 'ageRange'],\n",
        "            ['dataSet', 'info', 'channel'],\n",
        "            ['dataSet', 'info', 'date'],\n",
        "            ['dataSet', 'info', 'experience'],\n",
        "            ['dataSet', 'info', 'gender'],\n",
        "            ['dataSet', 'info', 'occupation'],\n",
        "            ['dataSet', 'info', 'place'],\n",
        "            ['rawDataInfo', 'answer', 'audioPath'],\n",
        "            ['rawDataInfo', 'question', 'audioPath']\n",
        "        ]\n",
        "    )\n",
        "\n",
        "def download_and_extract(urls: List[str], base_path: str) -> None:\n",
        "    \"\"\"\n",
        "    URL 리스트에서 ZIP 파일을 다운로드하고 압축을 해제하는 함수\n",
        "    \"\"\"\n",
        "    os.makedirs(base_path, exist_ok=True)\n",
        "\n",
        "    for i, url in enumerate(urls):\n",
        "        zip_file_name = url.split(\"/\")[-1]\n",
        "        zip_file_path = os.path.join(\"/kaggle/working\", zip_file_name)\n",
        "        print(f'처리중... {i+1}: {zip_file_name}')\n",
        "\n",
        "        # wget을 사용하여 파일 다운로드\n",
        "        !wget -q {url} -O {zip_file_path}\n",
        "\n",
        "        # 압축 해제할 폴더 생성\n",
        "        subfolder_name = zip_file_name.replace('.zip', '')\n",
        "        subfolder_path = os.path.join(base_path, subfolder_name)\n",
        "        os.makedirs(subfolder_path, exist_ok=True)\n",
        "\n",
        "        # ZIP 파일 압축 해제\n",
        "        with zipfile.ZipFile(zip_file_path, 'r') as zip_ref:\n",
        "            zip_ref.extractall(subfolder_path)\n",
        "\n",
        "        # 다운로드한 ZIP 파일 삭제\n",
        "        os.remove(zip_file_path)\n",
        "\n",
        "def create_dataset_from_json_files(base_path: str) -> Dataset:\n",
        "    \"\"\"\n",
        "    주어진 경로에서 JSON 파일들을 읽어 Dataset으로 변환하는 함수\n",
        "    \"\"\"\n",
        "    all_data = []\n",
        "\n",
        "    for root, _, files in os.walk(base_path):\n",
        "        for file in files:\n",
        "            if file.endswith('.json'):\n",
        "                file_path = os.path.join(root, file)\n",
        "                try:\n",
        "                    with open(file_path, 'r', encoding='utf-8') as f:\n",
        "                        data = json.load(f)\n",
        "                        # 파일 경로에서 메타데이터 추출\n",
        "                        folder_name = os.path.basename(os.path.dirname(file_path))\n",
        "                        parts = folder_name.split('_')\n",
        "                        data.update({\n",
        "                            'category': parts[0],  # TL or VL\n",
        "                            'job_field': '_'.join(parts[1:-2]),\n",
        "                            'gender': parts[-2],\n",
        "                            'experience': parts[-1]\n",
        "                        })\n",
        "                        all_data.append(data)\n",
        "                except json.JSONDecodeError as e:\n",
        "                    print(f\"Error reading {file_path}: {e}\")\n",
        "\n",
        "    # JSON 데이터 평탄화\n",
        "    df = flatten_json_data(all_data)\n",
        "\n",
        "    # DataFrame을 Dataset으로 변환\n",
        "    return Dataset.from_pandas(df)\n",
        "\n",
        "def create_interview_dataset():\n",
        "    \"\"\"\n",
        "    인터뷰 데이터셋을 생성하고 DatasetDict로 반환하는 함수\n",
        "    \"\"\"\n",
        "    # 훈련 데이터 URL\n",
        "    train_urls = [\n",
        "        \"https://github.com/1000century/multi_lion/raw/main/interview/Training/TL_01.Management_Female_Experienced.zip\",\n",
        "        \"https://github.com/1000century/multi_lion/raw/main/interview/Training/TL_01.Management_Female_New.zip\",\n",
        "        \"https://github.com/1000century/multi_lion/raw/main/interview/Training/TL_01.Management_Male_Experienced.zip\",\n",
        "        \"https://github.com/1000century/multi_lion/raw/main/interview/Training/TL_01.Management_Male_New.zip\",\n",
        "        \"https://github.com/1000century/multi_lion/raw/main/interview/Training/TL_02.SalesMarketing_Female_Experienced.zip\",\n",
        "        \"https://github.com/1000century/multi_lion/raw/main/interview/Training/TL_02.SalesMarketing_Female_New.zip\",\n",
        "        \"https://github.com/1000century/multi_lion/raw/main/interview/Training/TL_02.SalesMarketing_Male_Experienced.zip\",\n",
        "        \"https://github.com/1000century/multi_lion/raw/main/interview/Training/TL_02.SalesMarketing_Male_New.zip\",\n",
        "        \"https://github.com/1000century/multi_lion/raw/main/interview/Training/TL_03.PublicService_Female_Experienced.zip\",\n",
        "        \"https://github.com/1000century/multi_lion/raw/main/interview/Training/TL_03.PublicService_Female_New.zip\",\n",
        "        \"https://github.com/1000century/multi_lion/raw/main/interview/Training/TL_03.PublicService_Male_Experienced.zip\",\n",
        "        \"https://github.com/1000century/multi_lion/raw/main/interview/Training/TL_03.PublicService_Male_New.zip\",\n",
        "        \"https://github.com/1000century/multi_lion/raw/main/interview/Training/TL_04.RND_Female_Experienced.zip\",\n",
        "        \"https://github.com/1000century/multi_lion/raw/main/interview/Training/TL_04.RND_Female_New.zip\",\n",
        "        \"https://github.com/1000century/multi_lion/raw/main/interview/Training/TL_04.RND_Male_Experienced.zip\",\n",
        "        \"https://github.com/1000century/multi_lion/raw/main/interview/Training/TL_04.RND_Male_New.zip\",\n",
        "        \"https://github.com/1000century/multi_lion/raw/main/interview/Training/TL_05.ICT_Female_Experienced.zip\",\n",
        "        \"https://github.com/1000century/multi_lion/raw/main/interview/Training/TL_05.ICT_Female_New.zip\",\n",
        "        \"https://github.com/1000century/multi_lion/raw/main/interview/Training/TL_05.ICT_Male_Experienced.zip\",\n",
        "        \"https://github.com/1000century/multi_lion/raw/main/interview/Training/TL_05.ICT_Male_New.zip\",\n",
        "        \"https://github.com/1000century/multi_lion/raw/main/interview/Training/TL_06.Design_Female_Experienced.zip\",\n",
        "        \"https://github.com/1000century/multi_lion/raw/main/interview/Training/TL_06.Design_Female_New.zip\",\n",
        "        \"https://github.com/1000century/multi_lion/raw/main/interview/Training/TL_06.Design_Male_Experienced.zip\",\n",
        "        \"https://github.com/1000century/multi_lion/raw/main/interview/Training/TL_06.Design_Male_New.zip\",\n",
        "        \"https://github.com/1000century/multi_lion/raw/main/interview/Training/TL_07.ProductionManufacturing_Female_Experienced.zip\",\n",
        "        \"https://github.com/1000century/multi_lion/raw/main/interview/Training/TL_07.ProductionManufacturing_Female_New.zip\",\n",
        "        \"https://github.com/1000century/multi_lion/raw/main/interview/Training/TL_07.ProductionManufacturing_Male_Experienced.zip\",\n",
        "        \"https://github.com/1000century/multi_lion/raw/main/interview/Training/TL_07.ProductionManufacturing_Male_New.zip\"\n",
        "    ]\n",
        "\n",
        "    # 검증 데이터 URL\n",
        "    valid_urls = [\n",
        "        \"https://github.com/1000century/multi_lion/raw/main/interview/Validation/VL_01.Management_Female_Experienced.zip\",\n",
        "        \"https://github.com/1000century/multi_lion/raw/main/interview/Validation/VL_01.Management_Female_New.zip\",\n",
        "        \"https://github.com/1000century/multi_lion/raw/main/interview/Validation/VL_01.Management_Male_Experienced.zip\",\n",
        "        \"https://github.com/1000century/multi_lion/raw/main/interview/Validation/VL_01.Management_Male_New.zip\",\n",
        "        \"https://github.com/1000century/multi_lion/raw/main/interview/Validation/VL_02.SalesMarketing_Female_Experienced.zip\",\n",
        "        \"https://github.com/1000century/multi_lion/raw/main/interview/Validation/VL_02.SalesMarketing_Female_New.zip\",\n",
        "        \"https://github.com/1000century/multi_lion/raw/main/interview/Validation/VL_02.SalesMarketing_Male_Experienced.zip\",\n",
        "        \"https://github.com/1000century/multi_lion/raw/main/interview/Validation/VL_02.SalesMarketing_Male_New.zip\",\n",
        "        \"https://github.com/1000century/multi_lion/raw/main/interview/Validation/VL_03.PublicService_Female_Experienced.zip\",\n",
        "        \"https://github.com/1000century/multi_lion/raw/main/interview/Validation/VL_03.PublicService_Female_New.zip\",\n",
        "        \"https://github.com/1000century/multi_lion/raw/main/interview/Validation/VL_03.PublicService_Male_Experienced.zip\",\n",
        "        \"https://github.com/1000century/multi_lion/raw/main/interview/Validation/VL_03.PublicService_Male_New.zip\",\n",
        "        \"https://github.com/1000century/multi_lion/raw/main/interview/Validation/VL_04.RND_Female_Experienced.zip\",\n",
        "        \"https://github.com/1000century/multi_lion/raw/main/interview/Validation/VL_04.RND_Female_New.zip\",\n",
        "        \"https://github.com/1000century/multi_lion/raw/main/interview/Validation/VL_04.RND_Male_Experienced.zip\",\n",
        "        \"https://github.com/1000century/multi_lion/raw/main/interview/Validation/VL_04.RND_Male_New.zip\",\n",
        "        \"https://github.com/1000century/multi_lion/raw/main/interview/Validation/VL_05.ICT_Female_Experienced.zip\",\n",
        "        \"https://github.com/1000century/multi_lion/raw/main/interview/Validation/VL_05.ICT_Female_New.zip\",\n",
        "        \"https://github.com/1000century/multi_lion/raw/main/interview/Validation/VL_05.ICT_Male_Experienced.zip\",\n",
        "        \"https://github.com/1000century/multi_lion/raw/main/interview/Validation/VL_05.ICT_Male_New.zip\",\n",
        "        \"https://github.com/1000century/multi_lion/raw/main/interview/Validation/VL_06.Design_Female_Experienced.zip\",\n",
        "        \"https://github.com/1000century/multi_lion/raw/main/interview/Validation/VL_06.Design_Female_New.zip\",\n",
        "        \"https://github.com/1000century/multi_lion/raw/main/interview/Validation/VL_06.Design_Male_Experienced.zip\",\n",
        "        \"https://github.com/1000century/multi_lion/raw/main/interview/Validation/VL_06.Design_Male_New.zip\",\n",
        "        \"https://github.com/1000century/multi_lion/raw/main/interview/Validation/VL_07.ProductionManufacturing_Female_Experienced.zip\",\n",
        "        \"https://github.com/1000century/multi_lion/raw/main/interview/Validation/VL_07.ProductionManufacturing_Female_New.zip\",\n",
        "        \"https://github.com/1000century/multi_lion/raw/main/interview/Validation/VL_07.ProductionManufacturing_Male_Experienced.zip\",\n",
        "        \"https://github.com/1000century/multi_lion/raw/main/interview/Validation/VL_07.ProductionManufacturing_Male_New.zip\"\n",
        "    ]\n",
        "\n",
        "    # 데이터 다운로드 및 압축 해제\n",
        "    train_path = '/kaggle/working/train_unzipped'\n",
        "    valid_path = '/kaggle/working/validation_unzipped'\n",
        "\n",
        "    download_and_extract(train_urls, train_path)\n",
        "    download_and_extract(valid_urls, valid_path)\n",
        "\n",
        "    # 데이터셋 생성\n",
        "    train_dataset = create_dataset_from_json_files(train_path)\n",
        "    valid_dataset = create_dataset_from_json_files(valid_path)\n",
        "\n",
        "    # DatasetDict 생성\n",
        "    dataset_dict = DatasetDict({\n",
        "        'train': train_dataset,\n",
        "        'validation': valid_dataset\n",
        "    })\n",
        "\n",
        "    return dataset_dict"
      ]
    },
    {
      "cell_type": "code",
      "execution_count": null,
      "id": "657179a0",
      "metadata": {
        "execution": {
          "iopub.execute_input": "2024-11-17T03:45:35.426536Z",
          "iopub.status.busy": "2024-11-17T03:45:35.425992Z",
          "iopub.status.idle": "2024-11-17T03:48:00.349133Z",
          "shell.execute_reply": "2024-11-17T03:48:00.348041Z"
        },
        "id": "657179a0",
        "outputId": "82aaf9cb-85fe-4809-f6d0-a24b13364119",
        "papermill": {
          "duration": 144.972,
          "end_time": "2024-11-17T03:48:00.351555",
          "exception": false,
          "start_time": "2024-11-17T03:45:35.379555",
          "status": "completed"
        },
        "tags": []
      },
      "outputs": [
        {
          "name": "stdout",
          "output_type": "stream",
          "text": [
            "처리중... 1: TL_01.Management_Female_Experienced.zip\n",
            "처리중... 2: TL_01.Management_Female_New.zip\n",
            "처리중... 3: TL_01.Management_Male_Experienced.zip\n",
            "처리중... 4: TL_01.Management_Male_New.zip\n",
            "처리중... 5: TL_02.SalesMarketing_Female_Experienced.zip\n",
            "처리중... 6: TL_02.SalesMarketing_Female_New.zip\n",
            "처리중... 7: TL_02.SalesMarketing_Male_Experienced.zip\n",
            "처리중... 8: TL_02.SalesMarketing_Male_New.zip\n",
            "처리중... 9: TL_03.PublicService_Female_Experienced.zip\n",
            "처리중... 10: TL_03.PublicService_Female_New.zip\n",
            "처리중... 11: TL_03.PublicService_Male_Experienced.zip\n",
            "처리중... 12: TL_03.PublicService_Male_New.zip\n",
            "처리중... 13: TL_04.RND_Female_Experienced.zip\n",
            "처리중... 14: TL_04.RND_Female_New.zip\n",
            "처리중... 15: TL_04.RND_Male_Experienced.zip\n",
            "처리중... 16: TL_04.RND_Male_New.zip\n",
            "처리중... 17: TL_05.ICT_Female_Experienced.zip\n",
            "처리중... 18: TL_05.ICT_Female_New.zip\n",
            "처리중... 19: TL_05.ICT_Male_Experienced.zip\n",
            "처리중... 20: TL_05.ICT_Male_New.zip\n",
            "처리중... 21: TL_06.Design_Female_Experienced.zip\n",
            "처리중... 22: TL_06.Design_Female_New.zip\n",
            "처리중... 23: TL_06.Design_Male_Experienced.zip\n",
            "처리중... 24: TL_06.Design_Male_New.zip\n",
            "처리중... 25: TL_07.ProductionManufacturing_Female_Experienced.zip\n",
            "처리중... 26: TL_07.ProductionManufacturing_Female_New.zip\n",
            "처리중... 27: TL_07.ProductionManufacturing_Male_Experienced.zip\n",
            "처리중... 28: TL_07.ProductionManufacturing_Male_New.zip\n",
            "처리중... 1: VL_01.Management_Female_Experienced.zip\n",
            "처리중... 2: VL_01.Management_Female_New.zip\n",
            "처리중... 3: VL_01.Management_Male_Experienced.zip\n",
            "처리중... 4: VL_01.Management_Male_New.zip\n",
            "처리중... 5: VL_02.SalesMarketing_Female_Experienced.zip\n",
            "처리중... 6: VL_02.SalesMarketing_Female_New.zip\n",
            "처리중... 7: VL_02.SalesMarketing_Male_Experienced.zip\n",
            "처리중... 8: VL_02.SalesMarketing_Male_New.zip\n",
            "처리중... 9: VL_03.PublicService_Female_Experienced.zip\n",
            "처리중... 10: VL_03.PublicService_Female_New.zip\n",
            "처리중... 11: VL_03.PublicService_Male_Experienced.zip\n",
            "처리중... 12: VL_03.PublicService_Male_New.zip\n",
            "처리중... 13: VL_04.RND_Female_Experienced.zip\n",
            "처리중... 14: VL_04.RND_Female_New.zip\n",
            "처리중... 15: VL_04.RND_Male_Experienced.zip\n",
            "처리중... 16: VL_04.RND_Male_New.zip\n",
            "처리중... 17: VL_05.ICT_Female_Experienced.zip\n",
            "처리중... 18: VL_05.ICT_Female_New.zip\n",
            "처리중... 19: VL_05.ICT_Male_Experienced.zip\n",
            "처리중... 20: VL_05.ICT_Male_New.zip\n",
            "처리중... 21: VL_06.Design_Female_Experienced.zip\n",
            "처리중... 22: VL_06.Design_Female_New.zip\n",
            "처리중... 23: VL_06.Design_Male_Experienced.zip\n",
            "처리중... 24: VL_06.Design_Male_New.zip\n",
            "처리중... 25: VL_07.ProductionManufacturing_Female_Experienced.zip\n",
            "처리중... 26: VL_07.ProductionManufacturing_Female_New.zip\n",
            "처리중... 27: VL_07.ProductionManufacturing_Male_Experienced.zip\n",
            "처리중... 28: VL_07.ProductionManufacturing_Male_New.zip\n",
            "Error reading /kaggle/working/train_unzipped/TL_01.Management_Female_New/ckmk_d_bm_f_n_178194.json: Invalid control character at: line 23 column 135 (char 755)\n",
            "Error reading /kaggle/working/train_unzipped/TL_01.Management_Female_New/ckmk_d_bm_f_n_269424.json: Invalid control character at: line 23 column 571 (char 1132)\n",
            "Error reading /kaggle/working/train_unzipped/TL_01.Management_Female_New/ckmk_d_bm_f_n_343176.json: Invalid control character at: line 23 column 433 (char 1029)\n",
            "Error reading /kaggle/working/train_unzipped/TL_05.ICT_Male_New/ckmk_d_ict_m_n_337139.json: Expecting property name enclosed in double quotes: line 22 column 21 (char 576)\n",
            "Error reading /kaggle/working/validation_unzipped/VL_06.Design_Female_Experienced/ckmk_d_ard_f_e_66661.json: Invalid control character at: line 34 column 165 (char 1573)\n",
            "Error reading /kaggle/working/validation_unzipped/VL_01.Management_Female_New/ckmk_d_bm_f_n_161564.json: Invalid control character at: line 23 column 100 (char 688)\n",
            "\n",
            "Dataset Info:\n",
            "DatasetDict({\n",
            "    train: Dataset({\n",
            "        features: ['version', 'category', 'job_field', 'gender', 'experience', 'dataSet_info_date', 'dataSet_info_occupation', 'dataSet_info_channel', 'dataSet_info_place', 'dataSet_info_gender', 'dataSet_info_ageRange', 'dataSet_info_experience', 'dataSet_question_raw_text', 'dataSet_question_raw_wordCount', 'dataSet_question_emotion', 'dataSet_question_intent', 'dataSet_answer_raw_text', 'dataSet_answer_raw_wordCount', 'dataSet_answer_emotion', 'dataSet_answer_intent', 'dataSet_answer_summary_text', 'dataSet_answer_summary_wordCount', 'rawDataInfo_question_fileFormat', 'rawDataInfo_question_fileSize', 'rawDataInfo_question_duration', 'rawDataInfo_question_samplingBit', 'rawDataInfo_question_channelCount', 'rawDataInfo_question_samplingRate', 'rawDataInfo_question_audioPath', 'rawDataInfo_answer_fileFormat', 'rawDataInfo_answer_fileSize', 'rawDataInfo_answer_duration', 'rawDataInfo_answer_samplingBit', 'rawDataInfo_answer_channelCount', 'rawDataInfo_answer_samplingRate', 'rawDataInfo_answer_audioPath'],\n",
            "        num_rows: 68074\n",
            "    })\n",
            "    validation: Dataset({\n",
            "        features: ['version', 'category', 'job_field', 'gender', 'experience', 'dataSet_info_date', 'dataSet_info_occupation', 'dataSet_info_channel', 'dataSet_info_place', 'dataSet_info_gender', 'dataSet_info_ageRange', 'dataSet_info_experience', 'dataSet_question_raw_text', 'dataSet_question_raw_wordCount', 'dataSet_question_emotion', 'dataSet_question_intent', 'dataSet_answer_raw_text', 'dataSet_answer_raw_wordCount', 'dataSet_answer_emotion', 'dataSet_answer_intent', 'dataSet_answer_summary_text', 'dataSet_answer_summary_wordCount', 'rawDataInfo_question_fileFormat', 'rawDataInfo_question_fileSize', 'rawDataInfo_question_duration', 'rawDataInfo_question_samplingBit', 'rawDataInfo_question_channelCount', 'rawDataInfo_question_samplingRate', 'rawDataInfo_question_audioPath', 'rawDataInfo_answer_fileFormat', 'rawDataInfo_answer_fileSize', 'rawDataInfo_answer_duration', 'rawDataInfo_answer_samplingBit', 'rawDataInfo_answer_channelCount', 'rawDataInfo_answer_samplingRate', 'rawDataInfo_answer_audioPath'],\n",
            "        num_rows: 8026\n",
            "    })\n",
            "})\n",
            "\n",
            "Training Data Sample:\n",
            "{'version': '1.0', 'category': 'TL', 'job_field': '07.ProductionManufacturing', 'gender': 'Female', 'experience': 'Experienced', 'dataSet_info_date': '20230116', 'dataSet_info_occupation': 'MM', 'dataSet_info_channel': 'MOCK', 'dataSet_info_place': 'ONLINE', 'dataSet_info_gender': 'FEMALE', 'dataSet_info_ageRange': '45-54', 'dataSet_info_experience': 'EXPERIENCED', 'dataSet_question_raw_text': '지원자님께서는 지금까지 여러 가지 대외 활동들을 경험해 보셨을 텐데요 지원자님이 경험했던 대외 활동들 중에서 어떤 것들을 배웠고 또 어떤 자세로 임했는지 답변해 주시기 바랍니다', 'dataSet_question_raw_wordCount': 24, 'dataSet_question_emotion': [], 'dataSet_question_intent': [], 'dataSet_answer_raw_text': '대외 활동을 하면서 회사에서는 배울 수 없는 다른 것들을 좀 많이 배웠는데요. 제가 지금 기억에 남는 대외 활동은 연말에 어 어려운 분들을 돕기 위한 자선 어 바자회를 진행했던 것입니다. 회사에서 모아 모아 놓은 물건을 가지고 어 판매를 했었는데요. 어 그때 좀 성향들이 보였던 것 같아요. 어 생각보다 지위도 있고 그것도 많이 받으시는 분들은 좀 인색한 경우도 있었고 오히려 뭐 저희가 쫌 어려운 상황이다 형편을 생각했던 경비 아저씨 께서 큰 금액을 조금 흔쾌히 내놓으셨던 그런 경험이 있습니다. 어 그래서 어떤 사람을 돕는 마음에는 지위나 경제적 부와는 전혀 상관이 없는 어 그런 것을 좀 많이 느껴서 느낀 바도 많고 또 어떤 사람의 겉모습 이런 것으로 어떤 사람의 마음을 평가하면 안 되겠구나 어 그리고 또 가진 분 그분한테 조금 실망을 했던 예 그런 경험이 있습니다. 바자회는 성공리에 끝냈고 또 그러면서 쪼금 경비원분을 볼 때마다 좀 다른 시각으로 존경하는 마음이 생겼던 아 그랬던 경험이 있습니다.', 'dataSet_answer_raw_wordCount': 141, 'dataSet_answer_emotion': [{'category': 'positive', 'expression': 'p-affection', 'text': '바자회는 성공리에 끝냈고 또 그러면서 쪼금 경비원분을 볼 때마다 좀 다른 시각으로 존경하는 마음이 생겼던 아 그랬던 경험이 있습니다.'}], 'dataSet_answer_intent': [{'category': 'attitude', 'expression': '', 'text': ''}], 'dataSet_answer_summary_text': '대외 활동을 하면서 회사에서는 배울 수 없는 것들을 많이 배웠는데, 특히 연말에 어려운 분들을 돕기 위한 자선 바자회를 진행했던 것이 기억에 남습니다. 바자회는 성공리에 끝냈고 또 경비원분을 볼 때마다 다른 시각으로 존경하는 마음이 생겼던 경험이 있습니다.', 'dataSet_answer_summary_wordCount': 36, 'rawDataInfo_question_fileFormat': 'wav', 'rawDataInfo_question_fileSize': 507278, 'rawDataInfo_question_duration': 15850, 'rawDataInfo_question_samplingBit': 16, 'rawDataInfo_question_channelCount': 1, 'rawDataInfo_question_samplingRate': '16kHz', 'rawDataInfo_question_audioPath': '/Mock/07.ProductionManufacturing/Female/Experienced/ckmk_q_mm_f_e_301367.wav', 'rawDataInfo_answer_fileFormat': 'wav', 'rawDataInfo_answer_fileSize': 2754638, 'rawDataInfo_answer_duration': 86080, 'rawDataInfo_answer_samplingBit': 16, 'rawDataInfo_answer_channelCount': 1, 'rawDataInfo_answer_samplingRate': '16kHz', 'rawDataInfo_answer_audioPath': '/Mock/07.ProductionManufacturing/Female/Experienced/ckmk_a_mm_f_e_301367.wav'}\n",
            "\n",
            "Validation Data Sample:\n",
            "{'version': '1.0', 'category': 'VL', 'job_field': '01.Management', 'gender': 'Male', 'experience': 'Experienced', 'dataSet_info_date': '20230116', 'dataSet_info_occupation': 'BM', 'dataSet_info_channel': 'MOCK', 'dataSet_info_place': 'ONLINE', 'dataSet_info_gender': 'MALE', 'dataSet_info_ageRange': '45-54', 'dataSet_info_experience': 'EXPERIENCED', 'dataSet_question_raw_text': '타 지역에서 업무를 수행할 수도 있겠는데 가능하시겠습니까', 'dataSet_question_raw_wordCount': 7, 'dataSet_question_emotion': [], 'dataSet_question_intent': [], 'dataSet_answer_raw_text': '물론 글로벌 하는 활동을 하고 있는 게 사실 다반사기 때문에 뭐 타 지역에서 업무를 수행하는 것 자체에 대해서 거부감은 없습니다. 당연히 사실 우리나라가 땅덩어리가 크지 않기 때문에 일일 생활권이기도 하고 어디로 가든 크게 문제는 없습니다. 또한 뭐 아이가 다 크기도 했고 그래서 저나 그 아내가 특별하게 어떤 지방에 출장을 가거나 지방에서 생활 함으로 해서 생기는 문제도 없고요. 따라서 제가 입사를 하게 돼서 타 지역으로 가서 근무를 하게 되는 것에 대해서는 크게 염려하지 않고 있습니다. 그리고 타 지역에서 사실 근무를 하면서 배울 수 있는 점도 많을 수도 있고요. 어 사실 땅덩어리가 적기도 하지만 못 가본 적도 많잖아요. 이왕 가게 되면은 제가 가보지 않았던 지역에 가보는 것도 좋을 것 같습니다.', 'dataSet_answer_raw_wordCount': 108, 'dataSet_answer_emotion': [{'category': 'positive', 'expression': 'p-interest', 'text': '그리고 타 지역에서 사실 근무를 하면서 배울 수 있는 점도 많을 수도 있고요.   어 사실 땅덩어리가 적기도 하지만 못 가본 적도 많잖아요. 이왕 가게 되면은   제가 가보지 않았던 지역에 가보는 것도 좋을 것 같습니다.'}], 'dataSet_answer_intent': [{'category': 'etc', 'expression': 'c_sincere_job', 'text': '따라서 제가 입사를 하게 돼서 타 지역으로 가서 근무를 하게 되는 것에 대해서는 크게 염려하지 않고 있습니다.   그리고 타 지역에서 사실 근무를 하면서 배울 수 있는 점도 많을 수도 있고요.   어 사실 땅덩어리가 적기도 하지만 못 가본 적도 많잖아요. 이왕 가게 되면은   제가 가보지 않았던 지역에 가보는 것도 좋을 것 같습니다.'}], 'dataSet_answer_summary_text': '글로벌 활동을 하는 게 다반사이기 때문에 타 지역에서 업무를 수행하는 것에 거부감이 없습니다. 또한 제가 입사를 하게 돼 타 지역으로 가서 근무를 하게 되는 것에 대해서는 크게 염려하지 않고 있으며, 타 지역에서 근무를 하면서 배울 수 있는 점도 많을 것입니다.', 'dataSet_answer_summary_wordCount': 40, 'rawDataInfo_question_fileFormat': 'wav', 'rawDataInfo_question_fileSize': 203278, 'rawDataInfo_question_duration': 6350, 'rawDataInfo_question_samplingBit': 16, 'rawDataInfo_question_channelCount': 1, 'rawDataInfo_question_samplingRate': '16kHz', 'rawDataInfo_question_audioPath': '/Mock/01.Management/Male/Experienced/ckmk_q_bm_m_e_7918.wav', 'rawDataInfo_answer_fileFormat': 'wav', 'rawDataInfo_answer_fileSize': 2498958, 'rawDataInfo_answer_duration': 78090, 'rawDataInfo_answer_samplingBit': 16, 'rawDataInfo_answer_channelCount': 1, 'rawDataInfo_answer_samplingRate': '16kHz', 'rawDataInfo_answer_audioPath': '/Mock/01.Management/Male/Experienced/ckmk_a_bm_m_e_7918.wav'}\n"
          ]
        }
      ],
      "source": [
        "# 데이터셋 생성\n",
        "dataset = create_interview_dataset()\n",
        "\n",
        "# 데이터셋 정보 출력\n",
        "print(\"\\nDataset Info:\")\n",
        "print(dataset)\n",
        "\n",
        "# 훈련 데이터 샘플 확인\n",
        "print(\"\\nTraining Data Sample:\")\n",
        "print(dataset['train'][0])\n",
        "\n",
        "# 검증 데이터 샘플 확인\n",
        "print(\"\\nValidation Data Sample:\")\n",
        "print(dataset['validation'][0])\n",
        "\n",
        "# 데이터셋을 로컬이나 HuggingFace Hub에 저장하기\n",
        "# dataset.save_to_disk(\"path/to/local/directory\")  # 로컬에 저장\n",
        "# dataset.push_to_hub(\"username/dataset-name\")     # HuggingFace Hub에 업로드"
      ]
    },
    {
      "cell_type": "code",
      "execution_count": null,
      "id": "094d0bcd",
      "metadata": {
        "execution": {
          "iopub.execute_input": "2024-11-17T03:48:00.459908Z",
          "iopub.status.busy": "2024-11-17T03:48:00.459459Z",
          "iopub.status.idle": "2024-11-17T03:48:20.404838Z",
          "shell.execute_reply": "2024-11-17T03:48:20.403993Z"
        },
        "id": "094d0bcd",
        "papermill": {
          "duration": 20.001958,
          "end_time": "2024-11-17T03:48:20.407350",
          "exception": false,
          "start_time": "2024-11-17T03:48:00.405392",
          "status": "completed"
        },
        "tags": []
      },
      "outputs": [],
      "source": [
        "from transformers import (\n",
        "    AutoTokenizer,\n",
        "    AutoModelForSequenceClassification,\n",
        "    TrainingArguments,\n",
        "    Trainer,\n",
        "    DataCollatorWithPadding\n",
        ")\n",
        "from datasets import load_dataset\n",
        "import numpy as np"
      ]
    },
    {
      "cell_type": "code",
      "execution_count": null,
      "id": "167d7804",
      "metadata": {
        "execution": {
          "iopub.execute_input": "2024-11-17T03:48:20.513029Z",
          "iopub.status.busy": "2024-11-17T03:48:20.512217Z",
          "iopub.status.idle": "2024-11-17T03:48:21.843914Z",
          "shell.execute_reply": "2024-11-17T03:48:21.842873Z"
        },
        "id": "167d7804",
        "outputId": "8b8974d5-e26d-441c-da9d-cb059c89b8a4",
        "papermill": {
          "duration": 1.386456,
          "end_time": "2024-11-17T03:48:21.846273",
          "exception": false,
          "start_time": "2024-11-17T03:48:20.459817",
          "status": "completed"
        },
        "tags": [],
        "colab": {
          "referenced_widgets": [
            "32ba57e5aa7547508f40e9ee58a7425e",
            "202938735c044e0bb91dd8ef2cda7b41"
          ]
        }
      },
      "outputs": [
        {
          "data": {
            "application/vnd.jupyter.widget-view+json": {
              "model_id": "32ba57e5aa7547508f40e9ee58a7425e",
              "version_major": 2,
              "version_minor": 0
            },
            "text/plain": [
              "tokenizer.json:   0%|          | 0.00/2.83M [00:00<?, ?B/s]"
            ]
          },
          "metadata": {},
          "output_type": "display_data"
        },
        {
          "data": {
            "application/vnd.jupyter.widget-view+json": {
              "model_id": "202938735c044e0bb91dd8ef2cda7b41",
              "version_major": 2,
              "version_minor": 0
            },
            "text/plain": [
              "config.json:   0%|          | 0.00/1.00k [00:00<?, ?B/s]"
            ]
          },
          "metadata": {},
          "output_type": "display_data"
        },
        {
          "name": "stderr",
          "output_type": "stream",
          "text": [
            "The tokenizer class you load from this checkpoint is not the same type as the class this function is called from. It may result in unexpected tokenization. \n",
            "The tokenizer class you load from this checkpoint is 'GPT2Tokenizer'. \n",
            "The class this function is called from is 'PreTrainedTokenizerFast'.\n",
            "/opt/conda/lib/python3.10/site-packages/transformers/tokenization_utils_base.py:1617: FutureWarning: `clean_up_tokenization_spaces` was not set. It will be set to `True` by default. This behavior will be deprecated in transformers v4.45, and will be then set to `False` by default. For more details check this issue: https://github.com/huggingface/transformers/issues/31884\n",
            "  warnings.warn(\n"
          ]
        }
      ],
      "source": [
        "from transformers import PreTrainedTokenizerFast\n",
        "tokenizer = PreTrainedTokenizerFast.from_pretrained(\n",
        "    \"skt/kogpt2-base-v2\",\n",
        "    bos_token='</s>',\n",
        "    eos_token='</s>',\n",
        "    unk_token='<unk>',\n",
        "    pad_token='<pad>',\n",
        "    mask_token='<mask>'\n",
        ")"
      ]
    },
    {
      "cell_type": "code",
      "execution_count": null,
      "id": "3eaa078e",
      "metadata": {
        "execution": {
          "iopub.execute_input": "2024-11-17T03:48:21.950569Z",
          "iopub.status.busy": "2024-11-17T03:48:21.950157Z",
          "iopub.status.idle": "2024-11-17T03:48:21.959923Z",
          "shell.execute_reply": "2024-11-17T03:48:21.959022Z"
        },
        "id": "3eaa078e",
        "outputId": "4e5c787e-83c3-4b3e-e557-03bc2e11a5ac",
        "papermill": {
          "duration": 0.064256,
          "end_time": "2024-11-17T03:48:21.961931",
          "exception": false,
          "start_time": "2024-11-17T03:48:21.897675",
          "status": "completed"
        },
        "tags": []
      },
      "outputs": [
        {
          "data": {
            "text/plain": [
              "{'version': '1.0',\n",
              " 'category': 'TL',\n",
              " 'job_field': '07.ProductionManufacturing',\n",
              " 'gender': 'Female',\n",
              " 'experience': 'Experienced',\n",
              " 'dataSet_info_date': '20230116',\n",
              " 'dataSet_info_occupation': 'MM',\n",
              " 'dataSet_info_channel': 'MOCK',\n",
              " 'dataSet_info_place': 'ONLINE',\n",
              " 'dataSet_info_gender': 'FEMALE',\n",
              " 'dataSet_info_ageRange': '45-54',\n",
              " 'dataSet_info_experience': 'EXPERIENCED',\n",
              " 'dataSet_question_raw_text': '지원자님께서는 지금까지 여러 가지 대외 활동들을 경험해 보셨을 텐데요 지원자님이 경험했던 대외 활동들 중에서 어떤 것들을 배웠고 또 어떤 자세로 임했는지 답변해 주시기 바랍니다',\n",
              " 'dataSet_question_raw_wordCount': 24,\n",
              " 'dataSet_question_emotion': [],\n",
              " 'dataSet_question_intent': [],\n",
              " 'dataSet_answer_raw_text': '대외 활동을 하면서 회사에서는 배울 수 없는 다른 것들을 좀 많이 배웠는데요. 제가 지금 기억에 남는 대외 활동은 연말에 어 어려운 분들을 돕기 위한 자선 어 바자회를 진행했던 것입니다. 회사에서 모아 모아 놓은 물건을 가지고 어 판매를 했었는데요. 어 그때 좀 성향들이 보였던 것 같아요. 어 생각보다 지위도 있고 그것도 많이 받으시는 분들은 좀 인색한 경우도 있었고 오히려 뭐 저희가 쫌 어려운 상황이다 형편을 생각했던 경비 아저씨 께서 큰 금액을 조금 흔쾌히 내놓으셨던 그런 경험이 있습니다. 어 그래서 어떤 사람을 돕는 마음에는 지위나 경제적 부와는 전혀 상관이 없는 어 그런 것을 좀 많이 느껴서 느낀 바도 많고 또 어떤 사람의 겉모습 이런 것으로 어떤 사람의 마음을 평가하면 안 되겠구나 어 그리고 또 가진 분 그분한테 조금 실망을 했던 예 그런 경험이 있습니다. 바자회는 성공리에 끝냈고 또 그러면서 쪼금 경비원분을 볼 때마다 좀 다른 시각으로 존경하는 마음이 생겼던 아 그랬던 경험이 있습니다.',\n",
              " 'dataSet_answer_raw_wordCount': 141,\n",
              " 'dataSet_answer_emotion': [{'category': 'positive',\n",
              "   'expression': 'p-affection',\n",
              "   'text': '바자회는 성공리에 끝냈고 또 그러면서 쪼금 경비원분을 볼 때마다 좀 다른 시각으로 존경하는 마음이 생겼던 아 그랬던 경험이 있습니다.'}],\n",
              " 'dataSet_answer_intent': [{'category': 'attitude',\n",
              "   'expression': '',\n",
              "   'text': ''}],\n",
              " 'dataSet_answer_summary_text': '대외 활동을 하면서 회사에서는 배울 수 없는 것들을 많이 배웠는데, 특히 연말에 어려운 분들을 돕기 위한 자선 바자회를 진행했던 것이 기억에 남습니다. 바자회는 성공리에 끝냈고 또 경비원분을 볼 때마다 다른 시각으로 존경하는 마음이 생겼던 경험이 있습니다.',\n",
              " 'dataSet_answer_summary_wordCount': 36,\n",
              " 'rawDataInfo_question_fileFormat': 'wav',\n",
              " 'rawDataInfo_question_fileSize': 507278,\n",
              " 'rawDataInfo_question_duration': 15850,\n",
              " 'rawDataInfo_question_samplingBit': 16,\n",
              " 'rawDataInfo_question_channelCount': 1,\n",
              " 'rawDataInfo_question_samplingRate': '16kHz',\n",
              " 'rawDataInfo_question_audioPath': '/Mock/07.ProductionManufacturing/Female/Experienced/ckmk_q_mm_f_e_301367.wav',\n",
              " 'rawDataInfo_answer_fileFormat': 'wav',\n",
              " 'rawDataInfo_answer_fileSize': 2754638,\n",
              " 'rawDataInfo_answer_duration': 86080,\n",
              " 'rawDataInfo_answer_samplingBit': 16,\n",
              " 'rawDataInfo_answer_channelCount': 1,\n",
              " 'rawDataInfo_answer_samplingRate': '16kHz',\n",
              " 'rawDataInfo_answer_audioPath': '/Mock/07.ProductionManufacturing/Female/Experienced/ckmk_a_mm_f_e_301367.wav'}"
            ]
          },
          "execution_count": 7,
          "metadata": {},
          "output_type": "execute_result"
        }
      ],
      "source": [
        "dataset['train'][0]"
      ]
    },
    {
      "cell_type": "code",
      "execution_count": null,
      "id": "eb249537",
      "metadata": {
        "execution": {
          "iopub.execute_input": "2024-11-17T03:48:22.067248Z",
          "iopub.status.busy": "2024-11-17T03:48:22.066381Z",
          "iopub.status.idle": "2024-11-17T03:49:06.372137Z",
          "shell.execute_reply": "2024-11-17T03:49:06.371178Z"
        },
        "id": "eb249537",
        "outputId": "68c0f12a-d319-484d-8dae-dd9a7481e035",
        "papermill": {
          "duration": 44.362142,
          "end_time": "2024-11-17T03:49:06.374431",
          "exception": false,
          "start_time": "2024-11-17T03:48:22.012289",
          "status": "completed"
        },
        "tags": [],
        "colab": {
          "referenced_widgets": [
            "a47882740d414d5f8244e022e134056c",
            "56b624cd61814d6dbadf2ec155f5ce66"
          ]
        }
      },
      "outputs": [
        {
          "data": {
            "application/vnd.jupyter.widget-view+json": {
              "model_id": "a47882740d414d5f8244e022e134056c",
              "version_major": 2,
              "version_minor": 0
            },
            "text/plain": [
              "Map:   0%|          | 0/68074 [00:00<?, ? examples/s]"
            ]
          },
          "metadata": {},
          "output_type": "display_data"
        },
        {
          "data": {
            "application/vnd.jupyter.widget-view+json": {
              "model_id": "56b624cd61814d6dbadf2ec155f5ce66",
              "version_major": 2,
              "version_minor": 0
            },
            "text/plain": [
              "Map:   0%|          | 0/8026 [00:00<?, ? examples/s]"
            ]
          },
          "metadata": {},
          "output_type": "display_data"
        }
      ],
      "source": [
        "def preprocess_training_examples(examples):\n",
        "    max_length=256\n",
        "    formatted_inputs =[\n",
        "        f\"</s> 질문: {q} 답변: {a} </s>\"\n",
        "        for q,a in zip(examples[\"dataSet_answer_summary_text\"],examples[\"dataSet_answer_raw_text\"])\n",
        "    ]\n",
        "    inputs = tokenizer(\n",
        "        formatted_inputs,\n",
        "        max_length=max_length,\n",
        "        truncation= True,\n",
        "        padding=\"max_length\",\n",
        "        return_tensors=\"pt\"\n",
        "    )\n",
        "\n",
        "    labels = inputs['input_ids'].clone()\n",
        "    labels[labels==tokenizer.pad_token_id] = -100\n",
        "    inputs['labels'] = labels\n",
        "    return inputs\n",
        "\n",
        "\n",
        "train_dataset = dataset['train'].map(\n",
        "    preprocess_training_examples,\n",
        "    batched=True,\n",
        "    remove_columns=dataset['train'].column_names,\n",
        "    load_from_cache_file=False  # 이 옵션 추가\n",
        ")\n",
        "\n",
        "val_dataset = dataset['validation'].map(\n",
        "    preprocess_training_examples,\n",
        "    batched=True,\n",
        "    remove_columns=dataset['validation'].column_names,\n",
        "    load_from_cache_file=False  # 이 옵션 추가\n",
        ")"
      ]
    },
    {
      "cell_type": "code",
      "execution_count": null,
      "id": "a2753052",
      "metadata": {
        "id": "a2753052",
        "papermill": {
          "duration": 0.053019,
          "end_time": "2024-11-17T03:49:06.485030",
          "exception": false,
          "start_time": "2024-11-17T03:49:06.432011",
          "status": "completed"
        },
        "tags": []
      },
      "outputs": [],
      "source": []
    },
    {
      "cell_type": "code",
      "execution_count": null,
      "id": "05573705",
      "metadata": {
        "execution": {
          "iopub.execute_input": "2024-11-17T03:49:06.593517Z",
          "iopub.status.busy": "2024-11-17T03:49:06.592614Z",
          "iopub.status.idle": "2024-11-17T03:49:06.598658Z",
          "shell.execute_reply": "2024-11-17T03:49:06.597583Z"
        },
        "id": "05573705",
        "outputId": "633a5b10-490b-4492-dae4-6028ac26e3db",
        "papermill": {
          "duration": 0.062804,
          "end_time": "2024-11-17T03:49:06.600915",
          "exception": false,
          "start_time": "2024-11-17T03:49:06.538111",
          "status": "completed"
        },
        "tags": []
      },
      "outputs": [
        {
          "name": "stdout",
          "output_type": "stream",
          "text": [
            "68074\n",
            "68074\n",
            "8026\n"
          ]
        }
      ],
      "source": [
        "print(len(train_dataset))\n",
        "# # 코드 잘 돌아가는지 확인 위해 train_dataset 임의로 매우 적은 개수로 샘플링\n",
        "# from torch.utils.data import Subset\n",
        "# train_dataset = Subset(train_dataset, indices=range(40))\n",
        "# val_dataset = Subset(val_dataset, indices=range(80))\n",
        "print(len(train_dataset))\n",
        "print(len(val_dataset))"
      ]
    },
    {
      "cell_type": "markdown",
      "id": "ed3f3592",
      "metadata": {
        "id": "ed3f3592",
        "papermill": {
          "duration": 0.051766,
          "end_time": "2024-11-17T03:49:06.705313",
          "exception": false,
          "start_time": "2024-11-17T03:49:06.653547",
          "status": "completed"
        },
        "tags": []
      },
      "source": [
        "# Model"
      ]
    },
    {
      "cell_type": "code",
      "execution_count": null,
      "id": "234a8792",
      "metadata": {
        "id": "234a8792",
        "papermill": {
          "duration": 0.05331,
          "end_time": "2024-11-17T03:49:06.811514",
          "exception": false,
          "start_time": "2024-11-17T03:49:06.758204",
          "status": "completed"
        },
        "tags": []
      },
      "outputs": [],
      "source": []
    },
    {
      "cell_type": "code",
      "execution_count": null,
      "id": "649ae10d",
      "metadata": {
        "execution": {
          "iopub.execute_input": "2024-11-17T03:49:06.920871Z",
          "iopub.status.busy": "2024-11-17T03:49:06.920437Z",
          "iopub.status.idle": "2024-11-17T03:49:10.639607Z",
          "shell.execute_reply": "2024-11-17T03:49:10.638629Z"
        },
        "id": "649ae10d",
        "outputId": "19a599a2-309c-4547-85e9-d2456a32a0b4",
        "papermill": {
          "duration": 3.776357,
          "end_time": "2024-11-17T03:49:10.641818",
          "exception": false,
          "start_time": "2024-11-17T03:49:06.865461",
          "status": "completed"
        },
        "tags": [],
        "colab": {
          "referenced_widgets": [
            "31526fa006ec4297a8b4b5a6230633e0"
          ]
        }
      },
      "outputs": [
        {
          "data": {
            "application/vnd.jupyter.widget-view+json": {
              "model_id": "31526fa006ec4297a8b4b5a6230633e0",
              "version_major": 2,
              "version_minor": 0
            },
            "text/plain": [
              "pytorch_model.bin:   0%|          | 0.00/513M [00:00<?, ?B/s]"
            ]
          },
          "metadata": {},
          "output_type": "display_data"
        },
        {
          "data": {
            "text/plain": [
              "GPT2LMHeadModel(\n",
              "  (transformer): GPT2Model(\n",
              "    (wte): Embedding(51200, 768)\n",
              "    (wpe): Embedding(1024, 768)\n",
              "    (drop): Dropout(p=0.1, inplace=False)\n",
              "    (h): ModuleList(\n",
              "      (0-11): 12 x GPT2Block(\n",
              "        (ln_1): LayerNorm((768,), eps=1e-05, elementwise_affine=True)\n",
              "        (attn): GPT2SdpaAttention(\n",
              "          (c_attn): Conv1D(nf=2304, nx=768)\n",
              "          (c_proj): Conv1D(nf=768, nx=768)\n",
              "          (attn_dropout): Dropout(p=0.1, inplace=False)\n",
              "          (resid_dropout): Dropout(p=0.1, inplace=False)\n",
              "        )\n",
              "        (ln_2): LayerNorm((768,), eps=1e-05, elementwise_affine=True)\n",
              "        (mlp): GPT2MLP(\n",
              "          (c_fc): Conv1D(nf=3072, nx=768)\n",
              "          (c_proj): Conv1D(nf=768, nx=3072)\n",
              "          (act): NewGELUActivation()\n",
              "          (dropout): Dropout(p=0.1, inplace=False)\n",
              "        )\n",
              "      )\n",
              "    )\n",
              "    (ln_f): LayerNorm((768,), eps=1e-05, elementwise_affine=True)\n",
              "  )\n",
              "  (lm_head): Linear(in_features=768, out_features=51200, bias=False)\n",
              ")"
            ]
          },
          "execution_count": 10,
          "metadata": {},
          "output_type": "execute_result"
        }
      ],
      "source": [
        "import torch\n",
        "from transformers import GPT2LMHeadModel, PreTrainedTokenizerFast\n",
        "\n",
        "model = GPT2LMHeadModel.from_pretrained('skt/kogpt2-base-v2')\n",
        "device = torch.device('cuda' if torch.cuda.is_available() else 'cpu')\n",
        "model.to(device)"
      ]
    },
    {
      "cell_type": "code",
      "execution_count": null,
      "id": "33055226",
      "metadata": {
        "execution": {
          "iopub.execute_input": "2024-11-17T03:49:10.751148Z",
          "iopub.status.busy": "2024-11-17T03:49:10.750278Z",
          "iopub.status.idle": "2024-11-17T03:49:10.755438Z",
          "shell.execute_reply": "2024-11-17T03:49:10.754535Z"
        },
        "id": "33055226",
        "papermill": {
          "duration": 0.061089,
          "end_time": "2024-11-17T03:49:10.757413",
          "exception": false,
          "start_time": "2024-11-17T03:49:10.696324",
          "status": "completed"
        },
        "tags": []
      },
      "outputs": [],
      "source": [
        "import psutil\n",
        "import os\n",
        "\n",
        "def log_memory_usage():\n",
        "    process = psutil.Process(os.getpid())\n",
        "    print(f\"Current memory usage: {process.memory_info().rss / 1e6} MB\")\n"
      ]
    },
    {
      "cell_type": "code",
      "execution_count": null,
      "id": "f05642d9",
      "metadata": {
        "execution": {
          "iopub.execute_input": "2024-11-17T03:49:10.907077Z",
          "iopub.status.busy": "2024-11-17T03:49:10.906280Z",
          "iopub.status.idle": "2024-11-17T03:49:12.140837Z",
          "shell.execute_reply": "2024-11-17T03:49:12.140014Z"
        },
        "id": "f05642d9",
        "papermill": {
          "duration": 1.332732,
          "end_time": "2024-11-17T03:49:12.143096",
          "exception": false,
          "start_time": "2024-11-17T03:49:10.810364",
          "status": "completed"
        },
        "tags": []
      },
      "outputs": [],
      "source": [
        "from transformers import Trainer\n",
        "import evaluate"
      ]
    },
    {
      "cell_type": "code",
      "execution_count": null,
      "id": "86c0276c",
      "metadata": {
        "execution": {
          "iopub.execute_input": "2024-11-17T03:49:12.253023Z",
          "iopub.status.busy": "2024-11-17T03:49:12.252250Z",
          "iopub.status.idle": "2024-11-17T03:49:15.833205Z",
          "shell.execute_reply": "2024-11-17T03:49:15.832279Z"
        },
        "id": "86c0276c",
        "papermill": {
          "duration": 3.637889,
          "end_time": "2024-11-17T03:49:15.835256",
          "exception": false,
          "start_time": "2024-11-17T03:49:12.197367",
          "status": "completed"
        },
        "tags": [],
        "colab": {
          "referenced_widgets": [
            "c166d18992e3492689ec9f3c1bd06fba",
            "d915428e422643ef95d1280fec594238",
            "d6cf87b438a4416485337260d74076d9",
            "5a367196b1d0465f8223f67a39df0ad4",
            "0828caba4ba147198f42f49687804004"
          ]
        },
        "outputId": "9371d85e-1118-47ac-8558-9a8322bb5997"
      },
      "outputs": [
        {
          "data": {
            "application/vnd.jupyter.widget-view+json": {
              "model_id": "c166d18992e3492689ec9f3c1bd06fba",
              "version_major": 2,
              "version_minor": 0
            },
            "text/plain": [
              "Downloading builder script:   0%|          | 0.00/7.02k [00:00<?, ?B/s]"
            ]
          },
          "metadata": {},
          "output_type": "display_data"
        },
        {
          "name": "stderr",
          "output_type": "stream",
          "text": [
            "[nltk_data] Downloading package wordnet to /usr/share/nltk_data...\n",
            "[nltk_data]   Package wordnet is already up-to-date!\n",
            "[nltk_data] Downloading package punkt_tab to /usr/share/nltk_data...\n",
            "[nltk_data]   Unzipping tokenizers/punkt_tab.zip.\n",
            "[nltk_data] Downloading package omw-1.4 to /usr/share/nltk_data...\n"
          ]
        },
        {
          "data": {
            "application/vnd.jupyter.widget-view+json": {
              "model_id": "d915428e422643ef95d1280fec594238",
              "version_major": 2,
              "version_minor": 0
            },
            "text/plain": [
              "Downloading builder script:   0%|          | 0.00/7.95k [00:00<?, ?B/s]"
            ]
          },
          "metadata": {},
          "output_type": "display_data"
        },
        {
          "data": {
            "application/vnd.jupyter.widget-view+json": {
              "model_id": "d6cf87b438a4416485337260d74076d9",
              "version_major": 2,
              "version_minor": 0
            },
            "text/plain": [
              "Downloading builder script:   0%|          | 0.00/5.94k [00:00<?, ?B/s]"
            ]
          },
          "metadata": {},
          "output_type": "display_data"
        },
        {
          "data": {
            "application/vnd.jupyter.widget-view+json": {
              "model_id": "5a367196b1d0465f8223f67a39df0ad4",
              "version_major": 2,
              "version_minor": 0
            },
            "text/plain": [
              "Downloading extra modules:   0%|          | 0.00/1.55k [00:00<?, ?B/s]"
            ]
          },
          "metadata": {},
          "output_type": "display_data"
        },
        {
          "data": {
            "application/vnd.jupyter.widget-view+json": {
              "model_id": "0828caba4ba147198f42f49687804004",
              "version_major": 2,
              "version_minor": 0
            },
            "text/plain": [
              "Downloading extra modules:   0%|          | 0.00/3.34k [00:00<?, ?B/s]"
            ]
          },
          "metadata": {},
          "output_type": "display_data"
        }
      ],
      "source": [
        "import evaluate\n",
        "import numpy as np\n",
        "import torch\n",
        "from rouge_score import rouge_scorer\n",
        "meteor = evaluate.load('meteor')\n",
        "bertscore = evaluate.load('bertscore')\n",
        "bleu = evaluate.load('bleu')\n",
        "\n",
        "def preprocess_logits_for_metrics(logits, labels):\n",
        "    if isinstance(logits, tuple):\n",
        "        logits = logits[0]\n",
        "    pred_ids = torch.argmax(logits, dim=-1)\n",
        "    return pred_ids, labels\n",
        "\n",
        "def compute_metrics(eval_pred):\n",
        "    predictions, labels = eval_pred\n",
        "    # Predictions 튜플 처리\n",
        "    print(\"\\n\", '='*50,\"\\nPredictions type:\", type(predictions))\n",
        "    if isinstance(predictions, tuple):\n",
        "        predictions = predictions[0]\n",
        "    # Predictions와 Labels를 numpy 배열로 변환\n",
        "    if isinstance(predictions, torch.Tensor):\n",
        "        print(\"Converting Predictions to numpy...\")\n",
        "        predictions = predictions.cpu().numpy()\n",
        "    if isinstance(labels, torch.Tensor):\n",
        "        print(\"Converting Labels to numpy...\")\n",
        "        labels = labels.cpu().numpy()\n",
        "\n",
        "    # Decode predictions and labels\n",
        "    print(\"Decoding predictions and labels...\")\n",
        "    labels = np.where(labels != -100, labels, tokenizer.pad_token_id if tokenizer.pad_token_id is not None else 0)\n",
        "    decoded_preds = tokenizer.batch_decode(predictions, skip_special_tokens=False)\n",
        "    decoded_labels = tokenizer.batch_decode(labels, skip_special_tokens=False)\n",
        "\n",
        "    # Post-processing\n",
        "    decoded_preds = [pred.strip() for pred in decoded_preds]\n",
        "    decoded_labels = [label.strip() for label in decoded_labels]\n",
        "    print(\"Decoded Predictions Sample:\\n\", decoded_preds[:3])\n",
        "    print(\"Decoded Labels Sample:\\n\", decoded_labels[:3])\n",
        "\n",
        "    # Calculate ROUGE metrics using rouge-score\n",
        "    print(\"Calculating ROUGE...\")\n",
        "    scorer = rouge_scorer.RougeScorer(['rouge1', 'rouge2', 'rougeL'], use_stemmer=True)\n",
        "    rouge_scores = {\n",
        "        'rouge1': [],\n",
        "        'rouge2': [],\n",
        "        'rougeL': []\n",
        "    }\n",
        "\n",
        "    for pred, label in zip(decoded_preds, decoded_labels):\n",
        "        if pred and label:  # 둘 다 비어있지 않은 경우만 계산\n",
        "            scores = scorer.score(label, pred)\n",
        "            rouge_scores['rouge1'].append(scores['rouge1'].fmeasure)\n",
        "            rouge_scores['rouge2'].append(scores['rouge2'].fmeasure)\n",
        "            rouge_scores['rougeL'].append(scores['rougeL'].fmeasure)\n",
        "\n",
        "    print(\"\\nROUGE scores details:\")\n",
        "    print(f\"Number of valid pairs: {len(rouge_scores['rouge1'])}\")\n",
        "    if rouge_scores['rouge1']:\n",
        "        print(f\"Sample ROUGE-1 scores: {rouge_scores['rouge1'][:5]}\")\n",
        "\n",
        "    rouge_result = {\n",
        "        'rouge1': np.mean(rouge_scores['rouge1']) * 100 if rouge_scores['rouge1'] else 0,\n",
        "        'rouge2': np.mean(rouge_scores['rouge2']) * 100 if rouge_scores['rouge2'] else 0,\n",
        "        'rougeL': np.mean(rouge_scores['rougeL']) * 100 if rouge_scores['rougeL'] else 0\n",
        "    }\n",
        "\n",
        "    # Calculate other metrics\n",
        "    print(\"Calculating METEOR...\")\n",
        "    meteor_result = meteor.compute(predictions=decoded_preds, references=decoded_labels)\n",
        "    print(\"METEOR result:\", meteor_result)\n",
        "\n",
        "    print(\"Calculating BERTScore...\")\n",
        "    bertscore_result = bertscore.compute(predictions=decoded_preds, references=decoded_labels, lang=\"ko\", device='cuda' if torch.cuda.is_available() else 'cpu')\n",
        "    print(\"BERTScore finished\")\n",
        "\n",
        "    print(\"Calculating BLEU...\")\n",
        "    bleu_result = bleu.compute(predictions=decoded_preds, references=decoded_labels)\n",
        "    print(\"BLEU result:\", bleu_result)\n",
        "\n",
        "    # Combine results\n",
        "    result = {\n",
        "        **rouge_result,\n",
        "        \"meteor\": round(meteor_result[\"meteor\"] * 100, 4),\n",
        "        \"bertscore_f1\": round(np.mean(bertscore_result[\"f1\"]) * 100, 4),\n",
        "        \"bleu\": round(bleu_result[\"bleu\"] * 100, 4)\n",
        "    }\n",
        "\n",
        "    print(\"Calculating generated length...\")\n",
        "    result['gen_len'] = np.mean([len(pred.split()) for pred in decoded_preds])\n",
        "    print(\"Final Metrics:\", result)\n",
        "\n",
        "    return result"
      ]
    },
    {
      "cell_type": "code",
      "execution_count": null,
      "id": "c07f878a",
      "metadata": {
        "execution": {
          "iopub.execute_input": "2024-11-17T03:49:15.943689Z",
          "iopub.status.busy": "2024-11-17T03:49:15.943287Z",
          "iopub.status.idle": "2024-11-17T03:49:15.986754Z",
          "shell.execute_reply": "2024-11-17T03:49:15.985777Z"
        },
        "id": "c07f878a",
        "outputId": "99acdf8c-d047-43d4-bb0b-4894abbec01c",
        "papermill": {
          "duration": 0.100016,
          "end_time": "2024-11-17T03:49:15.989059",
          "exception": false,
          "start_time": "2024-11-17T03:49:15.889043",
          "status": "completed"
        },
        "tags": []
      },
      "outputs": [
        {
          "name": "stderr",
          "output_type": "stream",
          "text": [
            "/opt/conda/lib/python3.10/site-packages/transformers/training_args.py:1545: FutureWarning: `evaluation_strategy` is deprecated and will be removed in version 4.46 of 🤗 Transformers. Use `eval_strategy` instead\n",
            "  warnings.warn(\n"
          ]
        }
      ],
      "source": [
        "from transformers import Trainer, TrainingArguments\n",
        "\n",
        "# Training arguments 설정\n",
        "training_args = TrainingArguments(\n",
        "    output_dir='./results',          # 모델이 저장될 경로\n",
        "    evaluation_strategy=\"epoch\",    # 매 에포크마다 평가\n",
        "    save_strategy=\"epoch\",          # 매 에포크마다 저장\n",
        "    learning_rate=5e-5,             # 기본 학습률\n",
        "    per_device_train_batch_size=16,  # 각 디바이스에서의 배치 사이즈\n",
        "    per_device_eval_batch_size=32,   # 평가 시의 배치 사이즈\n",
        "    eval_accumulation_steps=8,      # 평가 시 gradient accumulation steps\n",
        "    num_train_epochs=6,             # 에포크 수\n",
        "    weight_decay=0.01,              # 가중치 감쇠\n",
        "    save_total_limit=2,             # 저장할 체크포인트 개수 제한\n",
        "    logging_dir='./logs',           # 로깅 파일 저장 위치\n",
        "    logging_steps=500,              # 로깅 빈도\n",
        "    load_best_model_at_end=True,    # 가장 좋은 모델을 끝에서 로드\n",
        "    eval_steps=1000,                # 평가 빈도\n",
        "    fp16=True,                      # Mixed Precision (FP16) 사용\n",
        "    dataloader_num_workers=4,       # DataLoader에서 사용할 워커 수\n",
        "    deepspeed=None,                 # DeepSpeed는 사용하지 않음\n",
        "    report_to=\"none\",               # 로깅 서비스 (TensorBoard 등 사용하지 않음)\n",
        ")"
      ]
    },
    {
      "cell_type": "code",
      "execution_count": null,
      "id": "cfed3e29",
      "metadata": {
        "execution": {
          "iopub.execute_input": "2024-11-17T03:49:16.099564Z",
          "iopub.status.busy": "2024-11-17T03:49:16.099212Z",
          "iopub.status.idle": "2024-11-17T03:49:16.133323Z",
          "shell.execute_reply": "2024-11-17T03:49:16.132277Z"
        },
        "id": "cfed3e29",
        "outputId": "7f9abdf4-7bdb-4e6b-e6da-82ef9ad4ada3",
        "papermill": {
          "duration": 0.09201,
          "end_time": "2024-11-17T03:49:16.136042",
          "exception": false,
          "start_time": "2024-11-17T03:49:16.044032",
          "status": "completed"
        },
        "tags": []
      },
      "outputs": [
        {
          "name": "stdout",
          "output_type": "stream",
          "text": [
            "Total train batches: 2128\n",
            "Total eval batches: 126\n",
            "Batch size train: 16\n",
            "Batch size eval: 32\n",
            "Eval accumulation steps: 8\n"
          ]
        },
        {
          "name": "stderr",
          "output_type": "stream",
          "text": [
            "/opt/conda/lib/python3.10/site-packages/accelerate/accelerator.py:494: FutureWarning: `torch.cuda.amp.GradScaler(args...)` is deprecated. Please use `torch.amp.GradScaler('cuda', args...)` instead.\n",
            "  self.scaler = torch.cuda.amp.GradScaler(**kwargs)\n"
          ]
        }
      ],
      "source": [
        "from transformers import Trainer\n",
        "import numpy as np\n",
        "\n",
        "trainer = Trainer(\n",
        "    model=model,\n",
        "    args=training_args,\n",
        "    train_dataset=train_dataset,\n",
        "    eval_dataset=val_dataset,\n",
        "    tokenizer=tokenizer,\n",
        "    preprocess_logits_for_metrics=preprocess_logits_for_metrics,\n",
        "    compute_metrics=compute_metrics,\n",
        ")\n",
        "\n",
        "# DataLoader 확인 및 메모리 상태 출력\n",
        "print(f\"Total train batches: {len(trainer.get_train_dataloader())}\")\n",
        "print(f\"Total eval batches: {len(trainer.get_eval_dataloader())}\")\n",
        "print(f\"Batch size train: {training_args.per_device_train_batch_size}\")\n",
        "print(f\"Batch size eval: {training_args.per_device_eval_batch_size}\")\n",
        "print(f\"Eval accumulation steps: {training_args.eval_accumulation_steps}\")"
      ]
    },
    {
      "cell_type": "code",
      "execution_count": null,
      "id": "a38546a9",
      "metadata": {
        "execution": {
          "iopub.execute_input": "2024-11-17T03:49:16.249504Z",
          "iopub.status.busy": "2024-11-17T03:49:16.248581Z",
          "iopub.status.idle": "2024-11-17T03:49:16.254785Z",
          "shell.execute_reply": "2024-11-17T03:49:16.253897Z"
        },
        "papermill": {
          "duration": 0.06601,
          "end_time": "2024-11-17T03:49:16.257007",
          "exception": false,
          "start_time": "2024-11-17T03:49:16.190997",
          "status": "completed"
        },
        "tags": [],
        "id": "a38546a9"
      },
      "outputs": [],
      "source": [
        "import warnings\n",
        "import os\n",
        "\n",
        "# fork 관련 경고 제거\n",
        "warnings.filterwarnings('ignore', message=\"os.fork()\")\n",
        "\n",
        "# tokenizer 경고 제거\n",
        "os.environ[\"TOKENIZERS_PARALLELISM\"] = \"false\"\n",
        "\n",
        "# autocast 경고 제거\n",
        "warnings.filterwarnings('ignore', message=\"`torch.cuda.amp.autocast\")\n",
        "\n",
        "# gather 경고 제거\n",
        "warnings.filterwarnings('ignore', message=\"Was asked to gather along dimension 0\")"
      ]
    },
    {
      "cell_type": "code",
      "execution_count": null,
      "id": "3d374be7",
      "metadata": {
        "execution": {
          "iopub.execute_input": "2024-11-17T03:49:16.369657Z",
          "iopub.status.busy": "2024-11-17T03:49:16.368837Z",
          "iopub.status.idle": "2024-11-17T10:01:25.940337Z",
          "shell.execute_reply": "2024-11-17T10:01:25.939397Z"
        },
        "id": "3d374be7",
        "outputId": "e9dd9fcf-2e8e-4db4-dbde-203ca51cc05a",
        "papermill": {
          "duration": 22329.630374,
          "end_time": "2024-11-17T10:01:25.943135",
          "exception": false,
          "start_time": "2024-11-17T03:49:16.312761",
          "status": "completed"
        },
        "tags": [],
        "colab": {
          "referenced_widgets": [
            "b77402ced0b04e2d9e9bb5a5bcc9e3a2",
            "e2c8b0c103ae4084a332f34fd4e311f2",
            "178d90b063e34cf2ae0d17945cfe0a11",
            "273cce96bd6445efbf1d03f3c094f288",
            "a1d5ae7a5b904a43a342506a37b78f7d"
          ]
        }
      },
      "outputs": [
        {
          "data": {
            "text/html": [
              "\n",
              "    <div>\n",
              "      \n",
              "      <progress value='12768' max='12768' style='width:300px; height:20px; vertical-align: middle;'></progress>\n",
              "      [12768/12768 6:12:05, Epoch 6/6]\n",
              "    </div>\n",
              "    <table border=\"1\" class=\"dataframe\">\n",
              "  <thead>\n",
              " <tr style=\"text-align: left;\">\n",
              "      <th>Epoch</th>\n",
              "      <th>Training Loss</th>\n",
              "      <th>Validation Loss</th>\n",
              "      <th>Rouge1</th>\n",
              "      <th>Rouge2</th>\n",
              "      <th>Rougel</th>\n",
              "      <th>Meteor</th>\n",
              "      <th>Bertscore F1</th>\n",
              "      <th>Bleu</th>\n",
              "      <th>Gen Len</th>\n",
              "    </tr>\n",
              "  </thead>\n",
              "  <tbody>\n",
              "    <tr>\n",
              "      <td>1</td>\n",
              "      <td>2.958400</td>\n",
              "      <td>2.916679</td>\n",
              "      <td>5.590246</td>\n",
              "      <td>0.142939</td>\n",
              "      <td>5.590246</td>\n",
              "      <td>20.691100</td>\n",
              "      <td>71.543900</td>\n",
              "      <td>7.389000</td>\n",
              "      <td>174.015824</td>\n",
              "    </tr>\n",
              "    <tr>\n",
              "      <td>2</td>\n",
              "      <td>2.806500</td>\n",
              "      <td>2.862944</td>\n",
              "      <td>5.605773</td>\n",
              "      <td>0.128483</td>\n",
              "      <td>5.605773</td>\n",
              "      <td>21.203400</td>\n",
              "      <td>72.134500</td>\n",
              "      <td>6.934300</td>\n",
              "      <td>157.191378</td>\n",
              "    </tr>\n",
              "    <tr>\n",
              "      <td>3</td>\n",
              "      <td>2.707300</td>\n",
              "      <td>2.837547</td>\n",
              "      <td>5.647275</td>\n",
              "      <td>0.162107</td>\n",
              "      <td>5.647275</td>\n",
              "      <td>21.381800</td>\n",
              "      <td>72.040200</td>\n",
              "      <td>7.282200</td>\n",
              "      <td>162.670321</td>\n",
              "    </tr>\n",
              "    <tr>\n",
              "      <td>4</td>\n",
              "      <td>2.620600</td>\n",
              "      <td>2.821647</td>\n",
              "      <td>5.556613</td>\n",
              "      <td>0.122879</td>\n",
              "      <td>5.556613</td>\n",
              "      <td>21.471100</td>\n",
              "      <td>72.152400</td>\n",
              "      <td>6.924100</td>\n",
              "      <td>154.507227</td>\n",
              "    </tr>\n",
              "    <tr>\n",
              "      <td>5</td>\n",
              "      <td>2.552500</td>\n",
              "      <td>2.816025</td>\n",
              "      <td>5.592240</td>\n",
              "      <td>0.143442</td>\n",
              "      <td>5.592240</td>\n",
              "      <td>21.604100</td>\n",
              "      <td>72.348000</td>\n",
              "      <td>6.969800</td>\n",
              "      <td>152.315848</td>\n",
              "    </tr>\n",
              "    <tr>\n",
              "      <td>6</td>\n",
              "      <td>2.497200</td>\n",
              "      <td>2.817630</td>\n",
              "      <td>5.598141</td>\n",
              "      <td>0.133037</td>\n",
              "      <td>5.598141</td>\n",
              "      <td>21.645500</td>\n",
              "      <td>72.402900</td>\n",
              "      <td>6.877200</td>\n",
              "      <td>150.674807</td>\n",
              "    </tr>\n",
              "  </tbody>\n",
              "</table><p>"
            ],
            "text/plain": [
              "<IPython.core.display.HTML object>"
            ]
          },
          "metadata": {},
          "output_type": "display_data"
        },
        {
          "name": "stdout",
          "output_type": "stream",
          "text": [
            "\n",
            " ================================================== \n",
            "Predictions type: <class 'tuple'>\n",
            "Decoding predictions and labels...\n",
            "Decoded Predictions Sample:\n",
            " ['질문: 저 인재 하면서 것은 가장반사기 때문에 저 지역에서 업무를 수행 것은 대해서는감이 없습니다. 타 타 타사를 하게 된서 지역에서의도 하게 된 것은 대한 전혀 거부하지 않 있습니다. 타 지역에서 업무를 하게 다른 점이 있는 것들이 많 것이라고 답변: 타 타 활동을 게 하는 싶 게 다 다반사이 때문에 타 타 지역에서 업무를 수행하는 것에 자체에 거부 거부감이 없습니다. 어 타 타 지금덩어리가 넓 않 때문에 타구권에 아니 하고 또 가야도 간에 문제가 없을습니다. 그리고 제가 타 태어나 컸다 하고 또 타는 다른 타 타하게 뭐 일을 있는장을 가거나 하는 근무를할에 인 타 그런 없요. 그리고 타 입사를 하게 돼서 타 지역으로 가서 근무를 하게 되는 것에 대해서는 크게 염려하지 않고 있습니다. 타 타 지역에서 근무를 근무를 하게 배울 수 있는 점도 많을 거 있습니다.요. 타 타 타덩어리가 크기 하고 타사는더라도 곳에서 있고습니다.아요. 그래서 타 된면은 타 입지 못한 곳에서 가서보고 것도  것 같습니다. </s>  타 뭐 타 뭐 뭐 뭐 뭐 뭐 뭐 뭐 뭐 뭐 뭐 뭐 뭐 뭐 뭐 뭐 뭐 뭐 뭐 뭐 뭐 타 뭐 타 뭐 타 뭐 타 뭐 뭐 타 타 타 타 타 타 타 뭐 뭐 타 타 타 뭐 타 타 타 타 타 타 타 뭐 타 타 뭐 타 타 뭐', '질문: 저업 하면서 가장 어려웠던 점은 의견 의견을이나 잘 것이었습니다. 협을 설득하는 나누  것이 가장 그 가장 않으면 때 다른 세워 이야기를자에게원 일을 되는 일을 나눠 캐내는 되는 협 될져서 일을업을 잘될 수 있었습니다. 답변: 협 협업을 하면서 가장 어려웠던 점은 자신의 조직만 생각하는 것이었습니다. 설득업을 하면서 그의가 굉 있고 그도 같은비는 다지기 되는에도 불구하고 자신의 사업나 어떤 단체에서는 경우에는들은 대표 조직 다 있는 사람들이 자신의 조직 이익을만을 생각하는우고다 자신의 것을이나 다 다적으로 가져했 하는 있습니다. 사람의나 협업을하는 않고업을하지 사람이 가지고 있는 않았습니다. 때 협 어려웠었던습니다. 설득을 때 가장 설득 설득 번 가지은 설득 설득하고 함께 이야기를 해 보는 방법이 중요하고 그것이게부터는 그 통하지 않았을 때는 원칙을 원칙을 가지고 각 조직별로 해야 조직마다 해야 될 부분을 정확하게 해내면 결국에는 하나가 하나가 하나가 뭉쳐져서 협업이 해결될 수 있었습니다.  저 생각론은 협업을 가장 때 원칙을 가지고 그원 해야하는 된 라는 말씀했 </s>', '질문: 저는 어떤사와 맞지 원하는 공동체이기 생각하기 회사사와 본인이 운명이기 생각을 가지고 있기 그 행복 가지고 수 있고 회사도 발전할 수 있다고 생각합니다. 답변: 저사와 본인이인은 운명 공동체라고 생각합니다. 회 회사은 회을 때 회사를 입사 일을 번 생활을 다니 것이 아니 그 공동체라고 회사사와 개인은 하나라는 생각을 갖고 있으면 않으면 개인의 열정을 발휘할 수 있고 생각합니다. 그래서 아무리 돌아가 발전 회사가 회사가 위해서 회사가는 발전할 수 있다고 회사 회사 성장할해서 생각을 저도 발전할한다는 것을 받아들일 수 있습니다. 는 회사와 본인이 운명 운명 사람 바라보고 있는 목표를체로 생각고 한다고 생각합니다. </s> 회 회 회 회 회 회 회 회 회 회 회 회 회 회 회 회 회 회 회 회 회 회 회 회 회 회 회 회 회 회 회 회 회 회 회 회 회 회 회 회 회 회 회 회 회 회 회 회 회 회 회 회 회 회 회 회 회 회 회 회 회 회 회 회 회 회 회 회 회 회 회 회 회 회 회 회 회 회 회 회 회 회 회 회 회 회 회 회 회 회 회 회 회 회 회 회 회 회 회 회 회 회 회 회 회 회 회 회 회 회 회 회 회 회 회 회 회 회 회 회 회 회 회 회 회 회 회 회 회 회 회 회 회 회 회']\n",
            "Decoded Labels Sample:\n",
            " ['</s> 질문: 글로벌 활동을 하는 게 다반사이기 때문에 타 지역에서 업무를 수행하는 것에 거부감이 없습니다. 또한 제가 입사를 하게 돼 타 지역으로 가서 근무를 하게 되는 것에 대해서는 크게 염려하지 않고 있으며, 타 지역에서 근무를 하면서 배울 수 있는 점도 많을 것입니다. 답변: 물론 글로벌 하는 활동을 하고 있는 게 사실 다반사기 때문에 뭐 타 지역에서 업무를 수행하는 것 자체에 대해서 거부감은 없습니다. 당연히 사실 우리나라가 땅덩어리가 크지 않기 때문에 일일 생활권이기도 하고 어디로 가든 크게 문제는 없습니다. 또한 뭐 아이가 다 크기도 했고 그래서 저나 그 아내가 특별하게 어떤 지방에 출장을 가거나 지방에서 생활 함으로 해서 생기는 문제도 없고요. 따라서 제가 입사를 하게 돼서 타 지역으로 가서 근무를 하게 되는 것에 대해서는 크게 염려하지 않고 있습니다. 그리고 타 지역에서 사실 근무를 하면서 배울 수 있는 점도 많을 수도 있고요. 어 사실 땅덩어리가 적기도 하지만 못 가본 적도 많잖아요. 이왕 가게 되면은 제가 가보지 않았던 지역에 가보는 것도 좋을 것 같습니다. </s><pad><pad><pad><pad><pad><pad><pad><pad><pad><pad><pad><pad><pad><pad><pad><pad><pad><pad><pad><pad><pad><pad><pad><pad><pad><pad><pad><pad><pad><pad><pad><pad><pad><pad><pad><pad><pad><pad><pad><pad><pad><pad><pad><pad><pad><pad><pad><pad><pad><pad><pad><pad><pad><pad><pad><pad><pad><pad><pad>', '</s> 질문: 협업을 하면서 가장 어려웠던 점은 자신의 조직만 생각하는 것이었습니다. 설득하고 함께 이야기를 해 보는 방법이 중요하고 그것이 통하지 않았을 때는 원칙을 가지고 각 조직별로 해야 될 부분을 정확하게 해내면 결국은 하나가 뭉쳐져서 협업이 해결될 수 있었습니다. 답변: 지금까지 협업을 하면서 가장 어려웠던 점은 자신의 조직만 생각하는 것이었습니다. 협업을 하더라도 예산은 한정되어 있고 사업비와 운영비는 나누어 써야 됨에도 불구하고 어떤 단체나 어떤 조직 조직의 수장 또는 그 책임을 맡고 있는 사람은 자신의 조직의 이득만 앞세우거나 모든 운영비 등을 혼자서 독점해서 사용하려고 하고 다른 단체와 협업하지 협업하려는 마음을 갖고 있지 않 않았을 때 가장 힘들었습니다. 그랬을 때 방법은 처음에 한 두 번은 음 설득하고 함께 이야기를 해 보는 방법이 중요하고 그 다음에도 그것이 통하지 않았을 때는 정확하게 원칙을 가지고 각 조직별로 각 사람별로 해야 될 부분을 정확하게 해내면 결국엔 그것이 하나로 뭉쳐져서 협업이 해결될 수 있었습니다. 그래서 제 결론은 협업이 어려울 때는 원칙을 지키고 조직별로 행동해야 한다 이렇게 생각합니다. </s><pad><pad><pad><pad><pad><pad><pad><pad><pad><pad><pad><pad><pad><pad><pad><pad><pad><pad><pad><pad><pad><pad><pad><pad><pad><pad><pad><pad><pad><pad><pad><pad><pad><pad><pad><pad><pad><pad><pad><pad><pad><pad><pad><pad><pad><pad><pad><pad><pad><pad><pad>', '</s> 질문: 저는 회사와 본인이 운명 공동체라고 생각합니다. 회사와 개인은 하나라는 생각을 갖고 있으면 개인의 열정을 발휘할 수 있고 회사도 발전할 수 있다고 생각합니다. 답변: 회사와 본인은 운명 공동체라고 생각합니다. 물론 요즘은 젊었을 때 회사에 들어가서 한 직장만 다니는 것은 아니지만 운명 공동체이고 회사와 개인은 하나라는 생각을 갖고 있지 않으면 개인의 열정을 발휘할 수 없다고 생각합니다. 회사가 잘 유지되고 발전하고 그 발전을 통해서 저도 발전할 수 있고 또 제가 발전한다는 것은 회사도 발전한다는 의미로 받아들일 수 있습니다. 저는 회사와 본인이 모두 한 곳을 바라보고 하나의 공동체로 나아가야 된다고 생각합니다. </s><pad><pad><pad><pad><pad><pad><pad><pad><pad><pad><pad><pad><pad><pad><pad><pad><pad><pad><pad><pad><pad><pad><pad><pad><pad><pad><pad><pad><pad><pad><pad><pad><pad><pad><pad><pad><pad><pad><pad><pad><pad><pad><pad><pad><pad><pad><pad><pad><pad><pad><pad><pad><pad><pad><pad><pad><pad><pad><pad><pad><pad><pad><pad><pad><pad><pad><pad><pad><pad><pad><pad><pad><pad><pad><pad><pad><pad><pad><pad><pad><pad><pad><pad><pad><pad><pad><pad><pad><pad><pad><pad><pad><pad><pad><pad><pad><pad><pad><pad><pad><pad><pad><pad><pad><pad><pad><pad><pad><pad><pad><pad><pad><pad><pad><pad><pad><pad><pad><pad><pad><pad><pad><pad><pad><pad><pad><pad><pad><pad><pad><pad><pad><pad><pad>']\n",
            "Calculating ROUGE...\n",
            "\n",
            "ROUGE scores details:\n",
            "Number of valid pairs: 8026\n",
            "Sample ROUGE-1 scores: [0.03225806451612903, 0.037037037037037035, 0.014598540145985401, 0.01923076923076923, 0.02531645569620253]\n",
            "Calculating METEOR...\n",
            "METEOR result: {'meteor': 0.20691133199378878}\n",
            "Calculating BERTScore...\n"
          ]
        },
        {
          "data": {
            "application/vnd.jupyter.widget-view+json": {
              "model_id": "b77402ced0b04e2d9e9bb5a5bcc9e3a2",
              "version_major": 2,
              "version_minor": 0
            },
            "text/plain": [
              "tokenizer_config.json:   0%|          | 0.00/49.0 [00:00<?, ?B/s]"
            ]
          },
          "metadata": {},
          "output_type": "display_data"
        },
        {
          "data": {
            "application/vnd.jupyter.widget-view+json": {
              "model_id": "e2c8b0c103ae4084a332f34fd4e311f2",
              "version_major": 2,
              "version_minor": 0
            },
            "text/plain": [
              "config.json:   0%|          | 0.00/625 [00:00<?, ?B/s]"
            ]
          },
          "metadata": {},
          "output_type": "display_data"
        },
        {
          "data": {
            "application/vnd.jupyter.widget-view+json": {
              "model_id": "178d90b063e34cf2ae0d17945cfe0a11",
              "version_major": 2,
              "version_minor": 0
            },
            "text/plain": [
              "vocab.txt:   0%|          | 0.00/996k [00:00<?, ?B/s]"
            ]
          },
          "metadata": {},
          "output_type": "display_data"
        },
        {
          "data": {
            "application/vnd.jupyter.widget-view+json": {
              "model_id": "273cce96bd6445efbf1d03f3c094f288",
              "version_major": 2,
              "version_minor": 0
            },
            "text/plain": [
              "tokenizer.json:   0%|          | 0.00/1.96M [00:00<?, ?B/s]"
            ]
          },
          "metadata": {},
          "output_type": "display_data"
        },
        {
          "data": {
            "application/vnd.jupyter.widget-view+json": {
              "model_id": "a1d5ae7a5b904a43a342506a37b78f7d",
              "version_major": 2,
              "version_minor": 0
            },
            "text/plain": [
              "model.safetensors:   0%|          | 0.00/714M [00:00<?, ?B/s]"
            ]
          },
          "metadata": {},
          "output_type": "display_data"
        },
        {
          "name": "stdout",
          "output_type": "stream",
          "text": [
            "BERTScore finished\n",
            "Calculating BLEU...\n",
            "BLEU result: {'bleu': 0.0738897456373464, 'precisions': [0.3829522890462716, 0.19397822616871727, 0.1190116786110764, 0.07987585723715217], 'brevity_penalty': 0.453271569745499, 'length_ratio': 0.5582650511230862, 'translation_length': 1528475, 'reference_length': 2737902}\n",
            "Calculating generated length...\n",
            "Final Metrics: {'rouge1': 5.590245673025172, 'rouge2': 0.14293893386994228, 'rougeL': 5.590245673025172, 'meteor': 20.6911, 'bertscore_f1': 71.5439, 'bleu': 7.389, 'gen_len': 174.01582357338648}\n",
            "\n",
            " ================================================== \n",
            "Predictions type: <class 'tuple'>\n",
            "Decoding predictions and labels...\n",
            "Decoded Predictions Sample:\n",
            " ['질문: 저 인재 하면서 데 가장들사기 때문에 영어 지역 업무를 수행 것은 대해서는감이 없습니다. 타 타 가진사를 하게 된도 지역 업무를 일을 하게 된 경우 대해 전혀 거부하지 않 있습니다. 타 지역 업무를 하게 많은 수 있는 점이 많 것이라고 답변: 네 타 활동을 게 하는 싶 게 다 다반사이 때문에 타 타 지역에서 업무를 수행하는 것에 자체에 거부 거부감이 없습니다. 어 타 타 글로벌덩어리가 크고 않기 때문에 타구권 있고 하고 또 출도 간에 상관 없을습니다. 다만 제가 제가 초등학교 컸다 하고 또 뭐는 저 타 뭐하게 뭐 일을 있는장을 간거나 아니면 근무를하에 인 뭐 문제는 없 또 그리고 타 입사를 하게 돼서 타 지역으로 가서 근무를 하게 되는 것에 대해서는 크게 염려하지 않고 있습니다. 타 타 지역에서 근무를 근무를 하면서 배울 수 있는 점도 많을 거 있습니다.요. 또 타 타덩어리가 크기 하고 제가하더라도더라도 곳이 있고습니다.아요. 그래서 시작한 된면은 뭐 그지 못한 곳에서 가서보고 것도 좋을 것 같습니다. </s>', '질문: 저업 할 가장 어려웠던 점은 서로 의견을이나 잘 것이습니다. 협을 설득 협 나누 나가 것이 가장 그 가장 않으면 때 다른 세우고 설득자에게원 협 되는 일을 정하고 파악 나가 좋 좋은 되는져서 하나의업이 잘될 수 있다고습니다. 답변: 협 협업을 하면서 가장 어려웠던 점은 자신의 조직만 생각하는 것이었습니다. 저업을 하면서 그전부터 많이 있고 그도 같은비는 한정되어야 되는에도 불구하고 자신의 사업나 어떤 조직에서는 목표들은 임원 조직 지는 있는 사람들은 본인의 조직 이익을만을 추구우고려고 자기 것을비를만 다 다적으로 가는하거나 하는 있습니다. 사람의나 협업을하는 않고업을하지 사람이 가지고 있는 않았습니다. 때 협 어려웠었습니다. 그래서을 때 가장 설득 설득 번 사람의은 설득 설득하고 함께 이야기를 해 보는 방법이 중요하고 그것이게으로는 그 통하지 않았을 때는 원칙을 원칙을 가지고 각 조직별로 해야 조직마다 해야 될 부분을 정확하게 해내면 결국은 하나가 하나가 하나가 뭉쳐져서 협업이 해결될 수 있었습니다.  가장 생각론은 협업을 가장 때 원칙을 가지고 그원 어떤하는 된다는 라는 말씀합니다. </s>      협    협', '질문: 저는 이사와 관련된 원하는 공동체이기 생각하기 회사사와 본인이 운명입니다. 생각으로 가지고 있기 그 행복 불태 수 있다고 회사도 함께 수 있다고 생각합니다. 그래서변: 저사와 본인이인은 운명 공동체라고 생각합니다. 회사가 회사은 회어서 때 했던 입사 일을 번 생활을 다니 것이 아니 회사 공동체라고 회사사와 개인은 하나라는 생각을 갖고 있으면 않으면 개인의 열정을 발휘할 수 있고 생각합니다. 그래서 발전하고 돌아가 발전 발전할 회사가 위해서 회사가도 발전할 수 있다고 저 회사 성장할해서 생각을 회사도 발전할한다는 것이고 받아들일 수 있다고 는 개인적으로사와 본 운명 운명 사람 위해서 있는 목표를체로 생각하고기 된다고 생각합니다. </s>  회 회 회 회 회 회 회 회 회 회 회 회 회 회 회 회 회 회 회 회 회 회 회 회 회 회 회 회 회 회 회 회 회 회 회 회 회 회 회 회 회 회 회 회 회 회 회 회 회 회 회 회 회 회 회 회 회 회 회 회 회 회 회 회 회 회 회 회 회 회 회 회 회 회 회 회 회 회 회 한 회 회 회 회 회 회 회 한 회 회 회 회 회 회 회 회 회 회 회 회 회 회 회 회 회 회 회 회 회 회 회 회 회 회 회 회 회 회 회 회 회 회 회 회 회 회 회 회 회 회 회 회 한 회']\n",
            "Decoded Labels Sample:\n",
            " ['</s> 질문: 글로벌 활동을 하는 게 다반사이기 때문에 타 지역에서 업무를 수행하는 것에 거부감이 없습니다. 또한 제가 입사를 하게 돼 타 지역으로 가서 근무를 하게 되는 것에 대해서는 크게 염려하지 않고 있으며, 타 지역에서 근무를 하면서 배울 수 있는 점도 많을 것입니다. 답변: 물론 글로벌 하는 활동을 하고 있는 게 사실 다반사기 때문에 뭐 타 지역에서 업무를 수행하는 것 자체에 대해서 거부감은 없습니다. 당연히 사실 우리나라가 땅덩어리가 크지 않기 때문에 일일 생활권이기도 하고 어디로 가든 크게 문제는 없습니다. 또한 뭐 아이가 다 크기도 했고 그래서 저나 그 아내가 특별하게 어떤 지방에 출장을 가거나 지방에서 생활 함으로 해서 생기는 문제도 없고요. 따라서 제가 입사를 하게 돼서 타 지역으로 가서 근무를 하게 되는 것에 대해서는 크게 염려하지 않고 있습니다. 그리고 타 지역에서 사실 근무를 하면서 배울 수 있는 점도 많을 수도 있고요. 어 사실 땅덩어리가 적기도 하지만 못 가본 적도 많잖아요. 이왕 가게 되면은 제가 가보지 않았던 지역에 가보는 것도 좋을 것 같습니다. </s><pad><pad><pad><pad><pad><pad><pad><pad><pad><pad><pad><pad><pad><pad><pad><pad><pad><pad><pad><pad><pad><pad><pad><pad><pad><pad><pad><pad><pad><pad><pad><pad><pad><pad><pad><pad><pad><pad><pad><pad><pad><pad><pad><pad><pad><pad><pad><pad><pad><pad><pad><pad><pad><pad><pad><pad><pad><pad><pad>', '</s> 질문: 협업을 하면서 가장 어려웠던 점은 자신의 조직만 생각하는 것이었습니다. 설득하고 함께 이야기를 해 보는 방법이 중요하고 그것이 통하지 않았을 때는 원칙을 가지고 각 조직별로 해야 될 부분을 정확하게 해내면 결국은 하나가 뭉쳐져서 협업이 해결될 수 있었습니다. 답변: 지금까지 협업을 하면서 가장 어려웠던 점은 자신의 조직만 생각하는 것이었습니다. 협업을 하더라도 예산은 한정되어 있고 사업비와 운영비는 나누어 써야 됨에도 불구하고 어떤 단체나 어떤 조직 조직의 수장 또는 그 책임을 맡고 있는 사람은 자신의 조직의 이득만 앞세우거나 모든 운영비 등을 혼자서 독점해서 사용하려고 하고 다른 단체와 협업하지 협업하려는 마음을 갖고 있지 않 않았을 때 가장 힘들었습니다. 그랬을 때 방법은 처음에 한 두 번은 음 설득하고 함께 이야기를 해 보는 방법이 중요하고 그 다음에도 그것이 통하지 않았을 때는 정확하게 원칙을 가지고 각 조직별로 각 사람별로 해야 될 부분을 정확하게 해내면 결국엔 그것이 하나로 뭉쳐져서 협업이 해결될 수 있었습니다. 그래서 제 결론은 협업이 어려울 때는 원칙을 지키고 조직별로 행동해야 한다 이렇게 생각합니다. </s><pad><pad><pad><pad><pad><pad><pad><pad><pad><pad><pad><pad><pad><pad><pad><pad><pad><pad><pad><pad><pad><pad><pad><pad><pad><pad><pad><pad><pad><pad><pad><pad><pad><pad><pad><pad><pad><pad><pad><pad><pad><pad><pad><pad><pad><pad><pad><pad><pad><pad><pad>', '</s> 질문: 저는 회사와 본인이 운명 공동체라고 생각합니다. 회사와 개인은 하나라는 생각을 갖고 있으면 개인의 열정을 발휘할 수 있고 회사도 발전할 수 있다고 생각합니다. 답변: 회사와 본인은 운명 공동체라고 생각합니다. 물론 요즘은 젊었을 때 회사에 들어가서 한 직장만 다니는 것은 아니지만 운명 공동체이고 회사와 개인은 하나라는 생각을 갖고 있지 않으면 개인의 열정을 발휘할 수 없다고 생각합니다. 회사가 잘 유지되고 발전하고 그 발전을 통해서 저도 발전할 수 있고 또 제가 발전한다는 것은 회사도 발전한다는 의미로 받아들일 수 있습니다. 저는 회사와 본인이 모두 한 곳을 바라보고 하나의 공동체로 나아가야 된다고 생각합니다. </s><pad><pad><pad><pad><pad><pad><pad><pad><pad><pad><pad><pad><pad><pad><pad><pad><pad><pad><pad><pad><pad><pad><pad><pad><pad><pad><pad><pad><pad><pad><pad><pad><pad><pad><pad><pad><pad><pad><pad><pad><pad><pad><pad><pad><pad><pad><pad><pad><pad><pad><pad><pad><pad><pad><pad><pad><pad><pad><pad><pad><pad><pad><pad><pad><pad><pad><pad><pad><pad><pad><pad><pad><pad><pad><pad><pad><pad><pad><pad><pad><pad><pad><pad><pad><pad><pad><pad><pad><pad><pad><pad><pad><pad><pad><pad><pad><pad><pad><pad><pad><pad><pad><pad><pad><pad><pad><pad><pad><pad><pad><pad><pad><pad><pad><pad><pad><pad><pad><pad><pad><pad><pad><pad><pad><pad><pad><pad><pad><pad><pad><pad><pad><pad><pad>']\n",
            "Calculating ROUGE...\n",
            "\n",
            "ROUGE scores details:\n",
            "Number of valid pairs: 8026\n",
            "Sample ROUGE-1 scores: [0.03225806451612903, 0.037037037037037035, 0.014598540145985401, 0.01923076923076923, 0.02531645569620253]\n",
            "Calculating METEOR...\n",
            "METEOR result: {'meteor': 0.21203381999303653}\n",
            "Calculating BERTScore...\n",
            "BERTScore finished\n",
            "Calculating BLEU...\n",
            "BLEU result: {'bleu': 0.06934344484978411, 'precisions': [0.429194376606707, 0.21852870339761915, 0.13494799320948364, 0.09120573851051895], 'brevity_penalty': 0.3761989993538896, 'length_ratio': 0.5056539642397719, 'translation_length': 1384431, 'reference_length': 2737902}\n",
            "Calculating generated length...\n",
            "Final Metrics: {'rouge1': 5.6057734248013045, 'rouge2': 0.12848290412775415, 'rougeL': 5.6057734248013045, 'meteor': 21.2034, 'bertscore_f1': 72.1345, 'bleu': 6.9343, 'gen_len': 157.19137802143035}\n",
            "\n",
            " ================================================== \n",
            "Predictions type: <class 'tuple'>\n",
            "Decoding predictions and labels...\n",
            "Decoded Predictions Sample:\n",
            " ['질문: 저 인재 하면서 것은 가장반사기 때문에 저 지역 업무를 수행 것은 대해서는감이 없습니다. 타 타 타사를 하게 된서 지역에서 업무를 업무를 하게 된 경우 대해 전혀 거부하지 않 있습니다. 타 지역 업무를 하게 새로운 점이 있는 점이 많 것이라고 답변: 네 타 활동을 게 하는 있는 게 다 다반사이 때문에 타 타 지역에서 업무를 수행하는 것에 자체에 거부 거부감이 없습니다. 어 타 타 글로벌덩어리가 넓 않 때문에 타히권기 하고 그리고 출더라도 간에 상관 없을습니다. 어 제가 제가 태어나 컸다 하고 어 뭐는 타 타 이제하게 타 일을 있는장을 간거나 아니면 근무를할에 인 그 그런 없요. 어 타 입사를 하게 돼서 타 지역으로 가서 근무를 하게 되는 것에 대해서는 크게 염려하지 않고 있습니다. 타 타 지역에서 근무를 근무를 하면서 배울 수 있는 점도 많을 거 있습니다.요. 또 타 타덩어리가 크기 하고 제가사는더라도 곳에서 많이습니다.아요. 그래서 가야 된면은 타 타지 못한 곳에서 가서더라도 것도 나쁘 것 같습니다. </s>    .  . .   .    .  뭐 .   .   . 뭐. . 타  . 뭐..  . ..  .  . 타 타. ..', '질문: 저업 할 가장 어려웠던 점은 팀 의견을원 잘 것이습니다. 협을 설득 협 나누 나가 것이 가장 그 가장 않으면 때 다른 지키는 이야기자에게원 일을 되는 일을 나누고 짚 가지고 그 협 되는져서 하나의업을 잘될 수 있다고습니다. 답변: 협 협업을 하면서 가장 어려웠던 점은 자신의 조직만 생각하는 것이었습니다. 어업을 하면서 그전부터 정해져 있고 또 계획 같은비는 한정되어지기 되는에도 불구하고 자신의 조직나 어떤 조직에서는 목표들은 대표 조직 다 있는 사람들은 자신의 조직 이익을만을 생각하고우고려고 자기 것을비를나 다 다하려고 가져하려고 하는 있습니다. 사람의나 협업을하는 않업을하지 그런 가지고 있는 않았습니다. 때 협 어려었습니다. 그래서을 때 가장 설득 설득 번 가지은 설득 설득하고 함께 이야기를 해 보는 방법이 중요하고 그것이게이 그 통하지 않았을 때는 원칙을 원칙을 가지고 각 조직별로 해야 조직마다 해야 될 부분을 정확하게 해내면 결국은 하나가 하나가 하나가 뭉쳐져서 협업이 해결될 수 있었습니다.  협 생각론은 협업을 가장 때 원칙을 가지고 그원 일을하는 된다는 라는 말씀합니다. </s>', '질문: 저는 이사와 관련된 원하는 공동체이기 생각합니다. 회사사와 본인이 운명라는 생각으로 가지고 있기 그 행복 가지고 수 있는 회사도 함께 수 있다고 생각합니다. 그래서변: 저사와 본인이인은 운명 공동체라고 생각합니다. 어 회사은 회사어지고 때 어 대한 일을 번 생활을 다니 것이 아니 어 공동체라고 회사사와 개인은 하나라는 생각을 갖고 있으면 않으면 개인의 열정을 발휘할 수 있고 생각합니다. 그래서 발전하고 돌아가 발전 회사 회사가 위해서 회사도 발전할 수 있다고 회사 회사 그해서 생각을 그도 발전할한다는 것이고 받아들일 수 있다고 는 회사와 개인은 운명의 사람 위해서 있는 목표를체로 생각하고고 된다고 생각합니다. </s>  회   회 회 회  회  회    회  회 회 회 회 회 회 회 회 회  회 회     회   회  회 회  회 회 회 회 회  회 회 회 회 회 회 회 회 회 회 회 회 회 회 회 회 회 회 회 회 회 회 회 회 회 회 회 회 회 회 회 회 회 회 회 회 회 회 회 회 회 회 회 회 회 회 회 회 회 회 회 회 회 회 회 회 회 회 회 회 회 회 회 회 회 회 회 회 회 회 회 회 회 회 회 회 회 회 회 회 회 회 회 회 회 회 회 회 회']\n",
            "Decoded Labels Sample:\n",
            " ['</s> 질문: 글로벌 활동을 하는 게 다반사이기 때문에 타 지역에서 업무를 수행하는 것에 거부감이 없습니다. 또한 제가 입사를 하게 돼 타 지역으로 가서 근무를 하게 되는 것에 대해서는 크게 염려하지 않고 있으며, 타 지역에서 근무를 하면서 배울 수 있는 점도 많을 것입니다. 답변: 물론 글로벌 하는 활동을 하고 있는 게 사실 다반사기 때문에 뭐 타 지역에서 업무를 수행하는 것 자체에 대해서 거부감은 없습니다. 당연히 사실 우리나라가 땅덩어리가 크지 않기 때문에 일일 생활권이기도 하고 어디로 가든 크게 문제는 없습니다. 또한 뭐 아이가 다 크기도 했고 그래서 저나 그 아내가 특별하게 어떤 지방에 출장을 가거나 지방에서 생활 함으로 해서 생기는 문제도 없고요. 따라서 제가 입사를 하게 돼서 타 지역으로 가서 근무를 하게 되는 것에 대해서는 크게 염려하지 않고 있습니다. 그리고 타 지역에서 사실 근무를 하면서 배울 수 있는 점도 많을 수도 있고요. 어 사실 땅덩어리가 적기도 하지만 못 가본 적도 많잖아요. 이왕 가게 되면은 제가 가보지 않았던 지역에 가보는 것도 좋을 것 같습니다. </s><pad><pad><pad><pad><pad><pad><pad><pad><pad><pad><pad><pad><pad><pad><pad><pad><pad><pad><pad><pad><pad><pad><pad><pad><pad><pad><pad><pad><pad><pad><pad><pad><pad><pad><pad><pad><pad><pad><pad><pad><pad><pad><pad><pad><pad><pad><pad><pad><pad><pad><pad><pad><pad><pad><pad><pad><pad><pad><pad>', '</s> 질문: 협업을 하면서 가장 어려웠던 점은 자신의 조직만 생각하는 것이었습니다. 설득하고 함께 이야기를 해 보는 방법이 중요하고 그것이 통하지 않았을 때는 원칙을 가지고 각 조직별로 해야 될 부분을 정확하게 해내면 결국은 하나가 뭉쳐져서 협업이 해결될 수 있었습니다. 답변: 지금까지 협업을 하면서 가장 어려웠던 점은 자신의 조직만 생각하는 것이었습니다. 협업을 하더라도 예산은 한정되어 있고 사업비와 운영비는 나누어 써야 됨에도 불구하고 어떤 단체나 어떤 조직 조직의 수장 또는 그 책임을 맡고 있는 사람은 자신의 조직의 이득만 앞세우거나 모든 운영비 등을 혼자서 독점해서 사용하려고 하고 다른 단체와 협업하지 협업하려는 마음을 갖고 있지 않 않았을 때 가장 힘들었습니다. 그랬을 때 방법은 처음에 한 두 번은 음 설득하고 함께 이야기를 해 보는 방법이 중요하고 그 다음에도 그것이 통하지 않았을 때는 정확하게 원칙을 가지고 각 조직별로 각 사람별로 해야 될 부분을 정확하게 해내면 결국엔 그것이 하나로 뭉쳐져서 협업이 해결될 수 있었습니다. 그래서 제 결론은 협업이 어려울 때는 원칙을 지키고 조직별로 행동해야 한다 이렇게 생각합니다. </s><pad><pad><pad><pad><pad><pad><pad><pad><pad><pad><pad><pad><pad><pad><pad><pad><pad><pad><pad><pad><pad><pad><pad><pad><pad><pad><pad><pad><pad><pad><pad><pad><pad><pad><pad><pad><pad><pad><pad><pad><pad><pad><pad><pad><pad><pad><pad><pad><pad><pad><pad>', '</s> 질문: 저는 회사와 본인이 운명 공동체라고 생각합니다. 회사와 개인은 하나라는 생각을 갖고 있으면 개인의 열정을 발휘할 수 있고 회사도 발전할 수 있다고 생각합니다. 답변: 회사와 본인은 운명 공동체라고 생각합니다. 물론 요즘은 젊었을 때 회사에 들어가서 한 직장만 다니는 것은 아니지만 운명 공동체이고 회사와 개인은 하나라는 생각을 갖고 있지 않으면 개인의 열정을 발휘할 수 없다고 생각합니다. 회사가 잘 유지되고 발전하고 그 발전을 통해서 저도 발전할 수 있고 또 제가 발전한다는 것은 회사도 발전한다는 의미로 받아들일 수 있습니다. 저는 회사와 본인이 모두 한 곳을 바라보고 하나의 공동체로 나아가야 된다고 생각합니다. </s><pad><pad><pad><pad><pad><pad><pad><pad><pad><pad><pad><pad><pad><pad><pad><pad><pad><pad><pad><pad><pad><pad><pad><pad><pad><pad><pad><pad><pad><pad><pad><pad><pad><pad><pad><pad><pad><pad><pad><pad><pad><pad><pad><pad><pad><pad><pad><pad><pad><pad><pad><pad><pad><pad><pad><pad><pad><pad><pad><pad><pad><pad><pad><pad><pad><pad><pad><pad><pad><pad><pad><pad><pad><pad><pad><pad><pad><pad><pad><pad><pad><pad><pad><pad><pad><pad><pad><pad><pad><pad><pad><pad><pad><pad><pad><pad><pad><pad><pad><pad><pad><pad><pad><pad><pad><pad><pad><pad><pad><pad><pad><pad><pad><pad><pad><pad><pad><pad><pad><pad><pad><pad><pad><pad><pad><pad><pad><pad><pad><pad><pad><pad><pad><pad>']\n",
            "Calculating ROUGE...\n",
            "\n",
            "ROUGE scores details:\n",
            "Number of valid pairs: 8026\n",
            "Sample ROUGE-1 scores: [0.03225806451612903, 0.037037037037037035, 0.014598540145985401, 0.01923076923076923, 0.02531645569620253]\n",
            "Calculating METEOR...\n",
            "METEOR result: {'meteor': 0.21381811544819823}\n",
            "Calculating BERTScore...\n",
            "BERTScore finished\n",
            "Calculating BLEU...\n",
            "BLEU result: {'bleu': 0.07282152987330952, 'precisions': [0.41601637572417055, 0.21290511075432886, 0.13181899016140858, 0.08922147519116211], 'brevity_penalty': 0.4053440714160392, 'length_ratio': 0.5254808243684398, 'translation_length': 1438715, 'reference_length': 2737902}\n",
            "Calculating generated length...\n",
            "Final Metrics: {'rouge1': 5.647274570225207, 'rouge2': 0.16210656783352492, 'rougeL': 5.647274570225207, 'meteor': 21.3818, 'bertscore_f1': 72.0402, 'bleu': 7.2822, 'gen_len': 162.67032145527037}\n",
            "\n",
            " ================================================== \n",
            "Predictions type: <class 'tuple'>\n",
            "Decoding predictions and labels...\n",
            "Decoded Predictions Sample:\n",
            " ['질문: 저 인재 하면서 것은 가장들사기 때문에 저 지역 업무를 수행 것은 대해서는감이 없습니다. 타 타 다른사를 하게 된도 지역에서 업무를 업무를 하게 된 경우 대해 전혀 거부하지 않 있습니다. 타 지역 근무를 하게 다른 수 있는 점이 많 것이라고 답변: 네입니다. 활동을 게 하는 싶 게 다 다반사이 때문에 타 타 지역에서 업무를 수행하는 것에 자체에 대해서 거부감이 없습니다. 어 제가 뭐 지금덩어리가 크 않 때문에 뭐히권기 하고 그리고 출도 간에 상관 없을습니다. 그리고 제가 제가 있고 컸다 하고 또 뭐는 저 타 이제하게 뭐 일을 있는장을 간거나 아니면 근무를할에 인 뭐 그런 없요. 그리고 뭐 입사를 하게 돼서 타 지역으로 가서 근무를 하게 되는 것에 대해서는 크게 염려하지 않고 있습니다. 타 타 지역에서 근무를 근무를 하면서 배울 수 있는 점도 많을 거 있고요. 또 타 타덩어리가 크기 하고 또사는더라도 곳에서 있고습니다.아요. 그래서에 된면은 뭐 또지 못한 곳에서 가서보고 것도 나쁘 것 같습니다. </s>  뭐   뭐 뭐 뭐 뭐  뭐 뭐 뭐  뭐 뭐 뭐 뭐 뭐 뭐 뭐 뭐 뭐 뭐     뭐  뭐 뭐 뭐 뭐 뭐 뭐 뭐 뭐 뭐  뭐. 뭐 뭐 뭐 뭐 뭐  뭐 뭐 뭐 뭐 뭐 뭐 뭐 뭐 뭐   뭐 뭐', '질문: 저업 할 가장 어려웠던 점은 서로 의견을이나 잘 이기습니다. 협을 설득 의견을 나누 나가 것이 가장 그 가장 않을 때 다른 세우고 일을자에게원 일을 되는 일을 정하고 짚 가지고 협 좋은 되어서져서 하나의업을 잘될 수 있다고습니다. 답변: 협 협업을 하면서 가장 어려웠던 점은 자신의 조직만 생각하는 것이었습니다. 협업을 하면서 그전부터 한정되어 있고 그 계획 같은비는 한정되어지지 되는에도 불구하고 자신의 한나 어떤 조직에서는 목표들은 그 조직 다 있는 사람들은 자신의 조직 이익을만을 생각하고우고다 자기 것을비를만 다 다하려고 그하거나 하는 있습니다. 사람의나 협업을하는 않고업을하지 사람들이 갖지 있는 않은습니다. 때 협 어려었습니다. 그래서을 때 가장 설득 그 번 사람의은 설득 설득하고 함께 이야기를 해 보는 방법이 중요하고 그것이게으로는 그 통하지 않았을 때는 원칙을 원칙을 가지고 각 조직별로 해야 조직마다 해야 될 부분을 정확하게 해내면 결국은 하나가 하나가 하나가 뭉쳐져서 협업이 해결될 수 있었습니다.  협 경험론은 협업을 가장 때 항상 가지고 그원 일을하는 된다고 라는 말씀합니다. </s>', '질문: 저는 스트레스사와 관련된 원하는 공동체이기 생각하기 회사가사와 본인이 운명라는 생각으로 가지고 있기 그 행복 불태 수 있는 회사도 함께 수 있다고 생각합니다. 답변: 저사와 본인이인은 운명 공동체라고 생각합니다. 회사가 회사가은 회사어지고 때 했던 대한 일을 십 생활을 다니 것이 아니 그 공동체라고 회사사와 개인은 하나라는 생각을 갖고 있으면 않으면 개인의 열정을 발휘할 수 있고 생각합니다. 회사 발전하고 돌아가 발전 회사 회사가 위해서 회사도 발전할 수 있다고 회사 회사 회사에해서 생각을 회사도 발전할한다는 것이고 받아들일 수 있습니다. 는 개인적으로사와 본 운명 운명 마음 바라보고 한 목표를체로 생각하고고 된다고 생각합니다. </s>  회               회  회    회 회 회  회 회     회   회     회   회 회     회   회 회 회 회  회 회  회 회  회 회 회 회 회 한 회 회 회  회 회 회 회  회 회 한 회 회 회 회 회 회 회 한 회 회 회 회 회 회 회 회 회 회 회 회 회 회 회 회 회 회 회 회 회 회 회 회 회 회 회 회 회 회 회 회 회 회 회 회 회 회 회 회 회 회 회 회 회 회']\n",
            "Decoded Labels Sample:\n",
            " ['</s> 질문: 글로벌 활동을 하는 게 다반사이기 때문에 타 지역에서 업무를 수행하는 것에 거부감이 없습니다. 또한 제가 입사를 하게 돼 타 지역으로 가서 근무를 하게 되는 것에 대해서는 크게 염려하지 않고 있으며, 타 지역에서 근무를 하면서 배울 수 있는 점도 많을 것입니다. 답변: 물론 글로벌 하는 활동을 하고 있는 게 사실 다반사기 때문에 뭐 타 지역에서 업무를 수행하는 것 자체에 대해서 거부감은 없습니다. 당연히 사실 우리나라가 땅덩어리가 크지 않기 때문에 일일 생활권이기도 하고 어디로 가든 크게 문제는 없습니다. 또한 뭐 아이가 다 크기도 했고 그래서 저나 그 아내가 특별하게 어떤 지방에 출장을 가거나 지방에서 생활 함으로 해서 생기는 문제도 없고요. 따라서 제가 입사를 하게 돼서 타 지역으로 가서 근무를 하게 되는 것에 대해서는 크게 염려하지 않고 있습니다. 그리고 타 지역에서 사실 근무를 하면서 배울 수 있는 점도 많을 수도 있고요. 어 사실 땅덩어리가 적기도 하지만 못 가본 적도 많잖아요. 이왕 가게 되면은 제가 가보지 않았던 지역에 가보는 것도 좋을 것 같습니다. </s><pad><pad><pad><pad><pad><pad><pad><pad><pad><pad><pad><pad><pad><pad><pad><pad><pad><pad><pad><pad><pad><pad><pad><pad><pad><pad><pad><pad><pad><pad><pad><pad><pad><pad><pad><pad><pad><pad><pad><pad><pad><pad><pad><pad><pad><pad><pad><pad><pad><pad><pad><pad><pad><pad><pad><pad><pad><pad><pad>', '</s> 질문: 협업을 하면서 가장 어려웠던 점은 자신의 조직만 생각하는 것이었습니다. 설득하고 함께 이야기를 해 보는 방법이 중요하고 그것이 통하지 않았을 때는 원칙을 가지고 각 조직별로 해야 될 부분을 정확하게 해내면 결국은 하나가 뭉쳐져서 협업이 해결될 수 있었습니다. 답변: 지금까지 협업을 하면서 가장 어려웠던 점은 자신의 조직만 생각하는 것이었습니다. 협업을 하더라도 예산은 한정되어 있고 사업비와 운영비는 나누어 써야 됨에도 불구하고 어떤 단체나 어떤 조직 조직의 수장 또는 그 책임을 맡고 있는 사람은 자신의 조직의 이득만 앞세우거나 모든 운영비 등을 혼자서 독점해서 사용하려고 하고 다른 단체와 협업하지 협업하려는 마음을 갖고 있지 않 않았을 때 가장 힘들었습니다. 그랬을 때 방법은 처음에 한 두 번은 음 설득하고 함께 이야기를 해 보는 방법이 중요하고 그 다음에도 그것이 통하지 않았을 때는 정확하게 원칙을 가지고 각 조직별로 각 사람별로 해야 될 부분을 정확하게 해내면 결국엔 그것이 하나로 뭉쳐져서 협업이 해결될 수 있었습니다. 그래서 제 결론은 협업이 어려울 때는 원칙을 지키고 조직별로 행동해야 한다 이렇게 생각합니다. </s><pad><pad><pad><pad><pad><pad><pad><pad><pad><pad><pad><pad><pad><pad><pad><pad><pad><pad><pad><pad><pad><pad><pad><pad><pad><pad><pad><pad><pad><pad><pad><pad><pad><pad><pad><pad><pad><pad><pad><pad><pad><pad><pad><pad><pad><pad><pad><pad><pad><pad><pad>', '</s> 질문: 저는 회사와 본인이 운명 공동체라고 생각합니다. 회사와 개인은 하나라는 생각을 갖고 있으면 개인의 열정을 발휘할 수 있고 회사도 발전할 수 있다고 생각합니다. 답변: 회사와 본인은 운명 공동체라고 생각합니다. 물론 요즘은 젊었을 때 회사에 들어가서 한 직장만 다니는 것은 아니지만 운명 공동체이고 회사와 개인은 하나라는 생각을 갖고 있지 않으면 개인의 열정을 발휘할 수 없다고 생각합니다. 회사가 잘 유지되고 발전하고 그 발전을 통해서 저도 발전할 수 있고 또 제가 발전한다는 것은 회사도 발전한다는 의미로 받아들일 수 있습니다. 저는 회사와 본인이 모두 한 곳을 바라보고 하나의 공동체로 나아가야 된다고 생각합니다. </s><pad><pad><pad><pad><pad><pad><pad><pad><pad><pad><pad><pad><pad><pad><pad><pad><pad><pad><pad><pad><pad><pad><pad><pad><pad><pad><pad><pad><pad><pad><pad><pad><pad><pad><pad><pad><pad><pad><pad><pad><pad><pad><pad><pad><pad><pad><pad><pad><pad><pad><pad><pad><pad><pad><pad><pad><pad><pad><pad><pad><pad><pad><pad><pad><pad><pad><pad><pad><pad><pad><pad><pad><pad><pad><pad><pad><pad><pad><pad><pad><pad><pad><pad><pad><pad><pad><pad><pad><pad><pad><pad><pad><pad><pad><pad><pad><pad><pad><pad><pad><pad><pad><pad><pad><pad><pad><pad><pad><pad><pad><pad><pad><pad><pad><pad><pad><pad><pad><pad><pad><pad><pad><pad><pad><pad><pad><pad><pad><pad><pad><pad><pad><pad><pad>']\n",
            "Calculating ROUGE...\n",
            "\n",
            "ROUGE scores details:\n",
            "Number of valid pairs: 8026\n",
            "Sample ROUGE-1 scores: [0.03225806451612903, 0.037037037037037035, 0.014598540145985401, 0.01923076923076923, 0.02531645569620253]\n",
            "Calculating METEOR...\n",
            "METEOR result: {'meteor': 0.21471070384029958}\n",
            "Calculating BERTScore...\n",
            "BERTScore finished\n",
            "Calculating BLEU...\n",
            "BLEU result: {'bleu': 0.06924093597216222, 'precisions': [0.43805555962335435, 0.2243565286945557, 0.1387691081198025, 0.09376430129197964], 'brevity_penalty': 0.3661536544717589, 'length_ratio': 0.4988272041877321, 'translation_length': 1365740, 'reference_length': 2737902}\n",
            "Calculating generated length...\n",
            "Final Metrics: {'rouge1': 5.556613282814292, 'rouge2': 0.1228794144370394, 'rougeL': 5.556613282814292, 'meteor': 21.4711, 'bertscore_f1': 72.1524, 'bleu': 6.9241, 'gen_len': 154.50722651383006}\n",
            "\n",
            " ================================================== \n",
            "Predictions type: <class 'tuple'>\n",
            "Decoding predictions and labels...\n",
            "Decoded Predictions Sample:\n",
            " ['질문: 저 인재 하면서 것은 가장반사기 때문에 해외 지역 업무를 수행 것은 대해서는감이 없습니다. 타 타 해외사를 하게 된도 지역에서 업무를 업무를 하게 된 경우 대해 전혀 거부하지 않 있습니다. 타 지역 근무를 하게 새로운 수 있는 점도 많 것이라고 답변: 네입니다. 활동을 게 하는 싶 게 다 다반사이 때문에 타 타 지역에서 업무를 수행하는 것에 자체에 대해서 거부감이 없습니다. 어 제가 제가 글로벌덩어리가 크고 않 때문에 뭐히권기 하고 그리고 출도 그 상관 없을습니다. 그리고 제가 제가 있고 컸다 하고 뭐 뭐는 저 타 이제하게 뭐 일을 있는장을 간거나 아니면 근무를할에 인 그 그런 없요. 그리고 뭐 입사를 하게 돼서 타 지역으로 가서 근무를 하게 되는 것에 대해서는 크게 염려하지 않고 있습니다. 물론 타 지역에서 근무를 근무를 하면서 배울 수 있는 점도 많을 거 있습니다.요. 또 제가 뭐덩어리가 크기 하고 또사는더라도 곳이 있고습니다.아요. 그래서 가는 된면은 타 그지 않은 다른 가서보고 것도 나쁘 것 같습니다. </s>  타  .. . . . .    .....   .  .. 제가... 타 .....  ....  .... 제가 타....', '질문: 저업 할 가장 어려웠던 점은 서로 의견이나 잘 이기습니다. 협을 설득 의견을 나누 나가 것이 가장 그 가장 않을 때 다른 세워 일을자에게원 일을 될 일을 정하고 짚 가지고 좋 좋은 되어서져서 하나의업이 잘될 수 있다고습니다. 답변: 협 협업을 하면서 가장 어려웠던 점은 자신의 조직만 생각하는 것이었습니다. 협업을 하면서 그전부터 한정되어 있고 그 계획 같은비는 한정되어지지 되는에도 불구하고 자신의 사람은나 어떤 조직에서는 목표들은 그 조직 다 있는 사람들은 자신의 조직 이익을만을 생각하고우고려고 자기 것을비를나 다 다하려고 가져하려고 하는 있습니다. 사람의나 협업을하는 않업을하지 사람은 가지고 있는 않았습니다. 때 협 어려웠었습니다. 그래서을 때 가장 설득 설득 번 사람의은 설득 설득하고 함께 이야기를 해 보는 방법이 중요하고 그것이게이 그 통하지 않았을 때는 원칙을 원칙을 가지고 각 조직별로 해야 조직마다 해야 될 부분을 정확하게 해내면 결국은 하나가 하나가 하나가 뭉쳐져서 협업이 해결될 수 있었습니다.  협 생각론은 협업을 가장 때 원칙을 가지고 그원 일을하는 된다고 라는 말씀합니다. </s>', '질문: 저는 어떤사와 관련된 원하는 공동체라고 생각하기 회사가사와 본인이 운명라는 생각으로 가지고 있기 더 행복 불태 수 있는 회사도 함께 수 있다고 생각합니다. 답변: 저사와 본인이인은 운명 공동체라고 생각합니다. 회사가 회사가은 회사가어지고 때와는 대한 일을 번 생활을 다니 것이 아니 그 공동체라고 회사사와 개인은 하나라는 생각을 갖고 있으면 않으면 개인의 열정을 발휘할 수 있고 생각합니다. 물론 발전하고 돌아가 발전 회사가 회사가 위해서 회사도 발전할 수 있다고 회사 회사 속한한다면 그런 회사도 발전할한다는 것이고 받아들일 수 있습니다. 는 회사에사와 개인은 운명 운명 마음 향 한 목표를체로 생각하고고 된다고 생각합니다. </s>  회    회           회  회  회  회  회  회      회           회 회     회    회 회 회   회  회 회 회   회 회 회    회  회 회 회 회  회 회 회 회 회 회  회 회 회 회 회 회 회 회 회 회 회 회 회 회 회 회 회 회 회 회 회 회 회 회 회 회 회 회 회 회 회 회 회 회 회 회 회 회 회 회 회 회 회 회 회 회 회 회 회 회']\n",
            "Decoded Labels Sample:\n",
            " ['</s> 질문: 글로벌 활동을 하는 게 다반사이기 때문에 타 지역에서 업무를 수행하는 것에 거부감이 없습니다. 또한 제가 입사를 하게 돼 타 지역으로 가서 근무를 하게 되는 것에 대해서는 크게 염려하지 않고 있으며, 타 지역에서 근무를 하면서 배울 수 있는 점도 많을 것입니다. 답변: 물론 글로벌 하는 활동을 하고 있는 게 사실 다반사기 때문에 뭐 타 지역에서 업무를 수행하는 것 자체에 대해서 거부감은 없습니다. 당연히 사실 우리나라가 땅덩어리가 크지 않기 때문에 일일 생활권이기도 하고 어디로 가든 크게 문제는 없습니다. 또한 뭐 아이가 다 크기도 했고 그래서 저나 그 아내가 특별하게 어떤 지방에 출장을 가거나 지방에서 생활 함으로 해서 생기는 문제도 없고요. 따라서 제가 입사를 하게 돼서 타 지역으로 가서 근무를 하게 되는 것에 대해서는 크게 염려하지 않고 있습니다. 그리고 타 지역에서 사실 근무를 하면서 배울 수 있는 점도 많을 수도 있고요. 어 사실 땅덩어리가 적기도 하지만 못 가본 적도 많잖아요. 이왕 가게 되면은 제가 가보지 않았던 지역에 가보는 것도 좋을 것 같습니다. </s><pad><pad><pad><pad><pad><pad><pad><pad><pad><pad><pad><pad><pad><pad><pad><pad><pad><pad><pad><pad><pad><pad><pad><pad><pad><pad><pad><pad><pad><pad><pad><pad><pad><pad><pad><pad><pad><pad><pad><pad><pad><pad><pad><pad><pad><pad><pad><pad><pad><pad><pad><pad><pad><pad><pad><pad><pad><pad><pad>', '</s> 질문: 협업을 하면서 가장 어려웠던 점은 자신의 조직만 생각하는 것이었습니다. 설득하고 함께 이야기를 해 보는 방법이 중요하고 그것이 통하지 않았을 때는 원칙을 가지고 각 조직별로 해야 될 부분을 정확하게 해내면 결국은 하나가 뭉쳐져서 협업이 해결될 수 있었습니다. 답변: 지금까지 협업을 하면서 가장 어려웠던 점은 자신의 조직만 생각하는 것이었습니다. 협업을 하더라도 예산은 한정되어 있고 사업비와 운영비는 나누어 써야 됨에도 불구하고 어떤 단체나 어떤 조직 조직의 수장 또는 그 책임을 맡고 있는 사람은 자신의 조직의 이득만 앞세우거나 모든 운영비 등을 혼자서 독점해서 사용하려고 하고 다른 단체와 협업하지 협업하려는 마음을 갖고 있지 않 않았을 때 가장 힘들었습니다. 그랬을 때 방법은 처음에 한 두 번은 음 설득하고 함께 이야기를 해 보는 방법이 중요하고 그 다음에도 그것이 통하지 않았을 때는 정확하게 원칙을 가지고 각 조직별로 각 사람별로 해야 될 부분을 정확하게 해내면 결국엔 그것이 하나로 뭉쳐져서 협업이 해결될 수 있었습니다. 그래서 제 결론은 협업이 어려울 때는 원칙을 지키고 조직별로 행동해야 한다 이렇게 생각합니다. </s><pad><pad><pad><pad><pad><pad><pad><pad><pad><pad><pad><pad><pad><pad><pad><pad><pad><pad><pad><pad><pad><pad><pad><pad><pad><pad><pad><pad><pad><pad><pad><pad><pad><pad><pad><pad><pad><pad><pad><pad><pad><pad><pad><pad><pad><pad><pad><pad><pad><pad><pad>', '</s> 질문: 저는 회사와 본인이 운명 공동체라고 생각합니다. 회사와 개인은 하나라는 생각을 갖고 있으면 개인의 열정을 발휘할 수 있고 회사도 발전할 수 있다고 생각합니다. 답변: 회사와 본인은 운명 공동체라고 생각합니다. 물론 요즘은 젊었을 때 회사에 들어가서 한 직장만 다니는 것은 아니지만 운명 공동체이고 회사와 개인은 하나라는 생각을 갖고 있지 않으면 개인의 열정을 발휘할 수 없다고 생각합니다. 회사가 잘 유지되고 발전하고 그 발전을 통해서 저도 발전할 수 있고 또 제가 발전한다는 것은 회사도 발전한다는 의미로 받아들일 수 있습니다. 저는 회사와 본인이 모두 한 곳을 바라보고 하나의 공동체로 나아가야 된다고 생각합니다. </s><pad><pad><pad><pad><pad><pad><pad><pad><pad><pad><pad><pad><pad><pad><pad><pad><pad><pad><pad><pad><pad><pad><pad><pad><pad><pad><pad><pad><pad><pad><pad><pad><pad><pad><pad><pad><pad><pad><pad><pad><pad><pad><pad><pad><pad><pad><pad><pad><pad><pad><pad><pad><pad><pad><pad><pad><pad><pad><pad><pad><pad><pad><pad><pad><pad><pad><pad><pad><pad><pad><pad><pad><pad><pad><pad><pad><pad><pad><pad><pad><pad><pad><pad><pad><pad><pad><pad><pad><pad><pad><pad><pad><pad><pad><pad><pad><pad><pad><pad><pad><pad><pad><pad><pad><pad><pad><pad><pad><pad><pad><pad><pad><pad><pad><pad><pad><pad><pad><pad><pad><pad><pad><pad><pad><pad><pad><pad><pad><pad><pad><pad><pad><pad><pad>']\n",
            "Calculating ROUGE...\n",
            "\n",
            "ROUGE scores details:\n",
            "Number of valid pairs: 8026\n",
            "Sample ROUGE-1 scores: [0.03225806451612903, 0.037037037037037035, 0.014598540145985401, 0.01923076923076923, 0.02531645569620253]\n",
            "Calculating METEOR...\n",
            "METEOR result: {'meteor': 0.21604105035401153}\n",
            "Calculating BERTScore...\n",
            "BERTScore finished\n",
            "Calculating BLEU...\n",
            "BLEU result: {'bleu': 0.06969820753806352, 'precisions': [0.44388475873492483, 0.22915711752483273, 0.14261169540558458, 0.0969448631823496], 'brevity_penalty': 0.35991564650092944, 'length_ratio': 0.494587826737407, 'translation_length': 1354133, 'reference_length': 2737902}\n",
            "Calculating generated length...\n",
            "Final Metrics: {'rouge1': 5.592239553814558, 'rouge2': 0.14344190757721434, 'rougeL': 5.592239553814558, 'meteor': 21.6041, 'bertscore_f1': 72.348, 'bleu': 6.9698, 'gen_len': 152.3158484923997}\n",
            "\n",
            " ================================================== \n",
            "Predictions type: <class 'tuple'>\n",
            "Decoding predictions and labels...\n",
            "Decoded Predictions Sample:\n",
            " ['질문: 저 인재 하면서 것은 가장들사기 때문에 해외 지역 업무를 수행 것은 대해서는감이 없습니다. 타 타 해외사를 하게 된서 지역에서 업무를 업무를 하게 된 경우 대해 전혀 문제가하지 않 있습니다. 타 지역 근무를 하게 새로운 수 있는 점이 많 것이라고 답변: 네입니다. 활동을 게 하는 싶 게 다 다반사이 때문에 타 타 지역에서 업무를 수행하는 것에 자체에 대해서 거부감이 없습니다. 어 제가 저 지금덩어리가 크고 않 때문에 뭐히권기 하고 그리고 출도 그 상관 없을습니다. 그리고 제가 제가 초등학교 컸다 하고 어 뭐는 저 가족 이제하게 뭐 일을 있는장을 간거나 아니면 근무를할에 인 뭐 그런 없요. 그리고 뭐 입사를 하게 돼서 타 지역으로 가서 근무를 하게 되는 것에 대해서는 크게 염려하지 않고 있습니다. 타 타 지역에서 근무를 근무를 하면서 배울 수 있는 점도 많을 거 있을요. 또 타 타덩어리가 크기 하고 또사는더라도 타 있고습니다.아요. 그래서 가는 된면은 타 타지 않은 곳에서 가서보고 것도 나쁘 것 같습니다. </s>  타  .       타  타    .  타 .     타  타 타 타. 타 타 타    타.  타  타 타  타  타 타 타 타 타 타 타   타 타', '질문: 저업 할 가장 어려웠던 점은 의견 의견을이나 잘 이기습니다. 협을 설득 의견을 나누 나가 것이 가장 그 가장 않으면 때 다른 세우고 일을자에게원들의 일을 되는 일을 나누고 짚 가지고 협 좋은 되어서져서 하나의업을 잘될 수 있었습니다. 답변: 협 협업을 하면서 가장 어려웠던 점은 자신의 조직만 생각하는 것이었습니다. 협업을 하면서 그전부터 한정되어 있고 그 계획 같은비는 한정되어지지 되는에도 불구하고 자신의 사람은나 어떤 조직에서는 목표들은 대표 조직 다 있는 사람들은 자신의 조직 이익을만을 생각하고우고려고 자기 것을비를나 다 다하려고 어하려고 하는 있습니다. 사람의나 협업을하는 않업을하지 사람은 갖지 있는 않았습니다. 때 협 어려웠었습니다. 그래서을 때 가장 설득 설득 번 사람의은 설득 설득하고 함께 이야기를 해 보는 방법이 중요하고 그것이게이 그 통하지 않았을 때는 원칙을 원칙을 가지고 각 조직별로 해야 조직마다 해야 될 부분을 정확하게 해내면 결국은 하나가 하나가 하나가 뭉쳐져서 협업이 해결될 수 있었습니다.  협 경험론은 협업을 가장 때 항상 가지고 그원 협하는 된다고 라는 말씀합니다. </s>', '질문: 저는 어떤사와 관련된 원하는 공동체라고 생각하기 회사가사와 본인이 운명라는 생각으로 가지고 있기 그 행복 불태 수 있는 회사도 함께 수 있다고 생각합니다. 답변: 저사와 본인이인은 운명 공동체라고 생각합니다. 회사가 회사가은 회사가어지고 때 했던 취직 일을 십 생활을 다니 것이 아니 그 공동체라고 회사사와 개인은 하나라는 생각을 갖고 있으면 않으면 개인의 열정을 발휘할 수 있고 생각합니다. 그리고 발전하고 돌아가 발전 본 회사가 위해서 회사도 발전할 수 있다고 회사 회사 속한한다면 그런 회사도 발전할한다는 것이고 받아들일 수 있습니다. 는 회사에사와 개인은 운명 운명 사람 위해서 한 목표를체로 생각하고고 된다고 생각합니다. </s>  회             회  회  회  회  회 회 회  회 회     회   회   회     회 회    회 회   회 회 회 회  회 회  회 회 회  회 회 회 회    회  회 회 회 회  회 회 회 회 회 회  회 회 회 회 회 회 회 회 회 회 회 회 회 회 회 회 회 회 회 회 회 회 회 회 회 회 회 회 회 회 회 회 회 회 회 회 회 회 회 회 회 회 회 회 회 회 회 회 회 회']\n",
            "Decoded Labels Sample:\n",
            " ['</s> 질문: 글로벌 활동을 하는 게 다반사이기 때문에 타 지역에서 업무를 수행하는 것에 거부감이 없습니다. 또한 제가 입사를 하게 돼 타 지역으로 가서 근무를 하게 되는 것에 대해서는 크게 염려하지 않고 있으며, 타 지역에서 근무를 하면서 배울 수 있는 점도 많을 것입니다. 답변: 물론 글로벌 하는 활동을 하고 있는 게 사실 다반사기 때문에 뭐 타 지역에서 업무를 수행하는 것 자체에 대해서 거부감은 없습니다. 당연히 사실 우리나라가 땅덩어리가 크지 않기 때문에 일일 생활권이기도 하고 어디로 가든 크게 문제는 없습니다. 또한 뭐 아이가 다 크기도 했고 그래서 저나 그 아내가 특별하게 어떤 지방에 출장을 가거나 지방에서 생활 함으로 해서 생기는 문제도 없고요. 따라서 제가 입사를 하게 돼서 타 지역으로 가서 근무를 하게 되는 것에 대해서는 크게 염려하지 않고 있습니다. 그리고 타 지역에서 사실 근무를 하면서 배울 수 있는 점도 많을 수도 있고요. 어 사실 땅덩어리가 적기도 하지만 못 가본 적도 많잖아요. 이왕 가게 되면은 제가 가보지 않았던 지역에 가보는 것도 좋을 것 같습니다. </s><pad><pad><pad><pad><pad><pad><pad><pad><pad><pad><pad><pad><pad><pad><pad><pad><pad><pad><pad><pad><pad><pad><pad><pad><pad><pad><pad><pad><pad><pad><pad><pad><pad><pad><pad><pad><pad><pad><pad><pad><pad><pad><pad><pad><pad><pad><pad><pad><pad><pad><pad><pad><pad><pad><pad><pad><pad><pad><pad>', '</s> 질문: 협업을 하면서 가장 어려웠던 점은 자신의 조직만 생각하는 것이었습니다. 설득하고 함께 이야기를 해 보는 방법이 중요하고 그것이 통하지 않았을 때는 원칙을 가지고 각 조직별로 해야 될 부분을 정확하게 해내면 결국은 하나가 뭉쳐져서 협업이 해결될 수 있었습니다. 답변: 지금까지 협업을 하면서 가장 어려웠던 점은 자신의 조직만 생각하는 것이었습니다. 협업을 하더라도 예산은 한정되어 있고 사업비와 운영비는 나누어 써야 됨에도 불구하고 어떤 단체나 어떤 조직 조직의 수장 또는 그 책임을 맡고 있는 사람은 자신의 조직의 이득만 앞세우거나 모든 운영비 등을 혼자서 독점해서 사용하려고 하고 다른 단체와 협업하지 협업하려는 마음을 갖고 있지 않 않았을 때 가장 힘들었습니다. 그랬을 때 방법은 처음에 한 두 번은 음 설득하고 함께 이야기를 해 보는 방법이 중요하고 그 다음에도 그것이 통하지 않았을 때는 정확하게 원칙을 가지고 각 조직별로 각 사람별로 해야 될 부분을 정확하게 해내면 결국엔 그것이 하나로 뭉쳐져서 협업이 해결될 수 있었습니다. 그래서 제 결론은 협업이 어려울 때는 원칙을 지키고 조직별로 행동해야 한다 이렇게 생각합니다. </s><pad><pad><pad><pad><pad><pad><pad><pad><pad><pad><pad><pad><pad><pad><pad><pad><pad><pad><pad><pad><pad><pad><pad><pad><pad><pad><pad><pad><pad><pad><pad><pad><pad><pad><pad><pad><pad><pad><pad><pad><pad><pad><pad><pad><pad><pad><pad><pad><pad><pad><pad>', '</s> 질문: 저는 회사와 본인이 운명 공동체라고 생각합니다. 회사와 개인은 하나라는 생각을 갖고 있으면 개인의 열정을 발휘할 수 있고 회사도 발전할 수 있다고 생각합니다. 답변: 회사와 본인은 운명 공동체라고 생각합니다. 물론 요즘은 젊었을 때 회사에 들어가서 한 직장만 다니는 것은 아니지만 운명 공동체이고 회사와 개인은 하나라는 생각을 갖고 있지 않으면 개인의 열정을 발휘할 수 없다고 생각합니다. 회사가 잘 유지되고 발전하고 그 발전을 통해서 저도 발전할 수 있고 또 제가 발전한다는 것은 회사도 발전한다는 의미로 받아들일 수 있습니다. 저는 회사와 본인이 모두 한 곳을 바라보고 하나의 공동체로 나아가야 된다고 생각합니다. </s><pad><pad><pad><pad><pad><pad><pad><pad><pad><pad><pad><pad><pad><pad><pad><pad><pad><pad><pad><pad><pad><pad><pad><pad><pad><pad><pad><pad><pad><pad><pad><pad><pad><pad><pad><pad><pad><pad><pad><pad><pad><pad><pad><pad><pad><pad><pad><pad><pad><pad><pad><pad><pad><pad><pad><pad><pad><pad><pad><pad><pad><pad><pad><pad><pad><pad><pad><pad><pad><pad><pad><pad><pad><pad><pad><pad><pad><pad><pad><pad><pad><pad><pad><pad><pad><pad><pad><pad><pad><pad><pad><pad><pad><pad><pad><pad><pad><pad><pad><pad><pad><pad><pad><pad><pad><pad><pad><pad><pad><pad><pad><pad><pad><pad><pad><pad><pad><pad><pad><pad><pad><pad><pad><pad><pad><pad><pad><pad><pad><pad><pad><pad><pad><pad>']\n",
            "Calculating ROUGE...\n",
            "\n",
            "ROUGE scores details:\n",
            "Number of valid pairs: 8026\n",
            "Sample ROUGE-1 scores: [0.03225806451612903, 0.037037037037037035, 0.014598540145985401, 0.01923076923076923, 0.02531645569620253]\n",
            "Calculating METEOR...\n",
            "METEOR result: {'meteor': 0.21645487360355148}\n",
            "Calculating BERTScore...\n",
            "BERTScore finished\n",
            "Calculating BLEU...\n",
            "BLEU result: {'bleu': 0.06877215415189059, 'precisions': [0.4496401290014655, 0.23212486161316712, 0.14451224637061144, 0.0981944172518057], 'brevity_penalty': 0.35056462129268934, 'length_ratio': 0.48823113464251094, 'translation_length': 1336729, 'reference_length': 2737902}\n",
            "Calculating generated length...\n",
            "Final Metrics: {'rouge1': 5.598140843859305, 'rouge2': 0.13303668759893822, 'rougeL': 5.598140843859305, 'meteor': 21.6455, 'bertscore_f1': 72.4029, 'bleu': 6.8772, 'gen_len': 150.67480687764765}\n"
          ]
        },
        {
          "name": "stderr",
          "output_type": "stream",
          "text": [
            "There were missing keys in the checkpoint model loaded: ['lm_head.weight'].\n"
          ]
        },
        {
          "data": {
            "text/plain": [
              "TrainOutput(global_step=12768, training_loss=2.706476775625893, metrics={'train_runtime': 22328.9363, 'train_samples_per_second': 18.292, 'train_steps_per_second': 0.572, 'total_flos': 5.3361581359104e+16, 'train_loss': 2.706476775625893, 'epoch': 6.0})"
            ]
          },
          "execution_count": 17,
          "metadata": {},
          "output_type": "execute_result"
        }
      ],
      "source": [
        "# 학습 시작\n",
        "trainer.train()\n"
      ]
    },
    {
      "cell_type": "code",
      "execution_count": null,
      "id": "7b03beaa",
      "metadata": {
        "execution": {
          "iopub.execute_input": "2024-11-17T10:01:26.069916Z",
          "iopub.status.busy": "2024-11-17T10:01:26.069468Z",
          "iopub.status.idle": "2024-11-17T10:01:27.183606Z",
          "shell.execute_reply": "2024-11-17T10:01:27.182779Z"
        },
        "id": "7b03beaa",
        "papermill": {
          "duration": 1.181596,
          "end_time": "2024-11-17T10:01:27.186130",
          "exception": false,
          "start_time": "2024-11-17T10:01:26.004534",
          "status": "completed"
        },
        "tags": []
      },
      "outputs": [],
      "source": [
        "import os\n",
        "import shutil\n",
        "\n",
        "# 모델 가중치와 설정 저장\n",
        "trainer.save_model(\"./results/best_model\")\n",
        "\n",
        "# 학습 상태 저장\n",
        "trainer.save_state()"
      ]
    },
    {
      "cell_type": "code",
      "execution_count": null,
      "id": "c560066b",
      "metadata": {
        "id": "c560066b",
        "papermill": {
          "duration": 0.059636,
          "end_time": "2024-11-17T10:01:27.305214",
          "exception": false,
          "start_time": "2024-11-17T10:01:27.245578",
          "status": "completed"
        },
        "tags": []
      },
      "outputs": [],
      "source": []
    },
    {
      "cell_type": "code",
      "execution_count": null,
      "id": "3d2ccdae",
      "metadata": {
        "execution": {
          "iopub.execute_input": "2024-11-17T10:01:27.424390Z",
          "iopub.status.busy": "2024-11-17T10:01:27.423628Z",
          "iopub.status.idle": "2024-11-17T10:01:27.547232Z",
          "shell.execute_reply": "2024-11-17T10:01:27.546148Z"
        },
        "id": "3d2ccdae",
        "outputId": "afd83b27-ea83-4993-f620-76c87e96afbe",
        "papermill": {
          "duration": 0.185547,
          "end_time": "2024-11-17T10:01:27.549629",
          "exception": false,
          "start_time": "2024-11-17T10:01:27.364082",
          "status": "completed"
        },
        "tags": []
      },
      "outputs": [
        {
          "name": "stdout",
          "output_type": "stream",
          "text": [
            "GPU 0 메모리 리셋 완료!\n",
            "  전체 메모리: 15095.06 MB\n",
            "  예약된 메모리: 4028.00 MB\n",
            "  사용 중인 메모리: 2102.13 MB\n",
            "  사용 가능 메모리: 1925.87 MB\n",
            "GPU 1 메모리 리셋 완료!\n",
            "  전체 메모리: 15095.06 MB\n",
            "  예약된 메모리: 32.00 MB\n",
            "  사용 중인 메모리: 16.25 MB\n",
            "  사용 가능 메모리: 15.75 MB\n"
          ]
        },
        {
          "name": "stderr",
          "output_type": "stream",
          "text": [
            "/opt/conda/lib/python3.10/site-packages/torch/cuda/memory.py:343: FutureWarning: torch.cuda.reset_max_memory_allocated now calls torch.cuda.reset_peak_memory_stats, which resets /all/ peak memory stats.\n",
            "  warnings.warn(\n"
          ]
        }
      ],
      "source": [
        "import torch\n",
        "\n",
        "# GPU 상태 초기화 및 남은 메모리 확인\n",
        "for i in range(torch.cuda.device_count()):\n",
        "    device = torch.device(f\"cuda:{i}\")\n",
        "\n",
        "    # 메모리 초기화\n",
        "    torch.cuda.empty_cache()  # GPU 캐시 비우기\n",
        "    torch.cuda.ipc_collect()  # GPU 메모리에서 누수된 객체 수집\n",
        "\n",
        "    # 메모리 통계 초기화\n",
        "    torch.cuda.reset_max_memory_allocated(device)\n",
        "    torch.cuda.reset_peak_memory_stats(device)\n",
        "\n",
        "    # GPU 메모리 상태 확인\n",
        "    total_memory = torch.cuda.get_device_properties(device).total_memory  # 전체 메모리\n",
        "    reserved_memory = torch.cuda.memory_reserved(device)  # 예약된 메모리\n",
        "    allocated_memory = torch.cuda.memory_allocated(device)  # 사용 중인 메모리\n",
        "    free_memory = reserved_memory - allocated_memory  # 예약된 메모리 중 사용 가능 메모리\n",
        "\n",
        "    print(f\"GPU {i} 메모리 리셋 완료!\")\n",
        "    print(f\"  전체 메모리: {total_memory / 1024 ** 2:.2f} MB\")\n",
        "    print(f\"  예약된 메모리: {reserved_memory / 1024 ** 2:.2f} MB\")\n",
        "    print(f\"  사용 중인 메모리: {allocated_memory / 1024 ** 2:.2f} MB\")\n",
        "    print(f\"  사용 가능 메모리: {free_memory / 1024 ** 2:.2f} MB\")\n"
      ]
    },
    {
      "cell_type": "code",
      "execution_count": null,
      "id": "7830f083",
      "metadata": {
        "execution": {
          "iopub.execute_input": "2024-11-17T10:01:27.670622Z",
          "iopub.status.busy": "2024-11-17T10:01:27.670231Z",
          "iopub.status.idle": "2024-11-17T10:01:31.212438Z",
          "shell.execute_reply": "2024-11-17T10:01:31.211340Z"
        },
        "id": "7830f083",
        "outputId": "b955b48c-0c95-41a9-ad3a-e6b273eaf61f",
        "papermill": {
          "duration": 3.605353,
          "end_time": "2024-11-17T10:01:31.214500",
          "exception": false,
          "start_time": "2024-11-17T10:01:27.609147",
          "status": "completed"
        },
        "tags": []
      },
      "outputs": [
        {
          "name": "stderr",
          "output_type": "stream",
          "text": [
            "/opt/conda/lib/python3.10/site-packages/transformers/generation/configuration_utils.py:601: UserWarning: `do_sample` is set to `False`. However, `temperature` is set to `0.7` -- this flag is only used in sample-based generation modes. You should set `do_sample=True` or unset `temperature`.\n",
            "  warnings.warn(\n"
          ]
        },
        {
          "name": "stdout",
          "output_type": "stream",
          "text": [
            "Generated Text:\n",
            "본인의 강점이 무엇이라고 생각하시나요 라는 질문에 대한 저의 답변을 말씀드리겠습니다. 저는 다른 지원자들에 비해 지원자님만의 차별성 장점을 어필한다면 어떤 것이 있을까요 라고 질문해 주셨습니다. 이 면접에서 최종 탈락하게 된다면 어떤 점이 부족해서 탈락했다고 생각하시는지 말씀해 주시길 바랍니다. 답변: 네 제가 이 직무에 지원한 이유는 어 다른 분들에 비해서 제가 가진 차별성이나 장점이 무엇인지 여쭤보셨는데요. 어 일단은 저 같은 경우에는 어 제가 가지고 있는 장점이나 차별성이 어 뭐라고 생각을 하냐고 물어보신다면 어 일단 다른 사람들보다는 제가 다른 사람보다 좀 더 차별성을 가지고 있다고 생각을 하기 때문에 어 그런 점에 있어서 어 좀 차별성과 장점이 있다고 생각해서 지원하게 되었습니다. 어 그래서 다른 사람들이 저를 봤을 때 저에 대해서 좀 어색하지 않고 좀 잘 챙겨준다고 생각을 하고 어 저도 그런 점이 있기 때문에 그런 점들을 잘 어필을 할 수 있을 것 같다고 생각을 해서 어 이렇게 지원을 하게 된 것 같구요. 그리고 어 또 저만의 장점이라고 한다면 어 어떤 부분이 부족하냐 라고 질문을 해 주신 것 같은데요. 음 다른 사람들은 저에게 좀 부족한 점이 많다고 생각하는데 저\n"
          ]
        }
      ],
      "source": [
        "from transformers import AutoModelForCausalLM, AutoTokenizer\n",
        "\n",
        "# Best Model 로드\n",
        "best_model = AutoModelForCausalLM.from_pretrained(\"./results/best_model\")\n",
        "\n",
        "# GPU 설정\n",
        "import torch\n",
        "device = torch.device(\"cuda\" if torch.cuda.is_available() else \"cpu\")\n",
        "model.to(device)\n",
        "\n",
        "# 입력 프롬프트\n",
        "prompt =\"본인의 강점이 무엇이라고 생각하시나요\"  # 텍스트 생성 시작 문장\n",
        "input_ids = tokenizer.encode(prompt, return_tensors=\"pt\").to(device)\n",
        "\n",
        "# 텍스트 생성\n",
        "output = model.generate(\n",
        "    input_ids,\n",
        "    max_length=250,            # 생성할 최대 길이\n",
        "    num_beams=5,               # 빔 서치 크기\n",
        "    no_repeat_ngram_size=2,    # 반복 방지\n",
        "    early_stopping=True,       # 적절히 멈춤\n",
        "    temperature=0.7            # 생성 다양성 제어 (0.7~1.0 추천)\n",
        ")\n",
        "\n",
        "# 결과 디코딩\n",
        "generated_text = tokenizer.decode(output[0], skip_special_tokens=True)\n",
        "print(\"Generated Text:\")\n",
        "print(generated_text)"
      ]
    },
    {
      "cell_type": "code",
      "execution_count": null,
      "id": "28b58dce",
      "metadata": {
        "execution": {
          "iopub.execute_input": "2024-11-17T10:01:31.332774Z",
          "iopub.status.busy": "2024-11-17T10:01:31.331998Z",
          "iopub.status.idle": "2024-11-17T10:01:34.499569Z",
          "shell.execute_reply": "2024-11-17T10:01:34.498565Z"
        },
        "id": "28b58dce",
        "outputId": "87694c50-05af-455c-e8f2-9ffd752e7eaa",
        "papermill": {
          "duration": 3.228371,
          "end_time": "2024-11-17T10:01:34.501580",
          "exception": false,
          "start_time": "2024-11-17T10:01:31.273209",
          "status": "completed"
        },
        "tags": []
      },
      "outputs": [
        {
          "name": "stdout",
          "output_type": "stream",
          "text": [
            "Generated Text:\n",
            "저희 회사가 당신을 뽑아야 하는 이유를 설명하세요 라고 질문해 주셨습니다. 저는 제가 지원한 직무가 아닌 다른 부서에 배치되게 된다면 굉장히 당황스러울 것 같습니다. 하지만 다른 부서에서 일을 하다 보면 제가 잘 할 수 있는 일이 있을 것이라고 생각하기 때문에 최선을 다해서 열심히 하겠습니다. 답변: 만약 제가 하고 싶은 직무 말고 다른 직무를 맡게 되신다면 어떻게 하시겠습니까 그래도 괜찮으신가요. 여기에 대한 저의 답변을 말씀드리겠습니다. 제가 이 직무에 지원하게 된 계기는 제가 어렸을 적부터 꿈꿔왔던 일이기 때문입니다. 대학 시절 아르바이트를 포함하여 인턴 생활 등 다양한 분야에서 일한 경험이 있습니다. 이러한 경험을 바탕으로 잘 해 나갈 수 있을 거라 생각되어 지원했습니다. 또한 제가 미처 깨닫지 못한 저만의 강점을 발견해 낼 수도 있을 것 같아 지원하였습니다. 이렇게 지원하시는 이유를 말씀해 주시면 감사하겠습니다 라고 질문하신 후 저를 뽑아주셨으면 좋겠다는 말씀을 드리고 싶습니다. 감사합니다. 저에게 맡겨주신 일이 저와 잘 맞지 않는다면 어떻게 하겠냐고 물어보셨는데요. 저 같은 경우에는 저보다 더 잘 맞을 거라고 생각하실 수도 있으실 텐데요. 하지만\n"
          ]
        }
      ],
      "source": [
        "from transformers import AutoModelForCausalLM, AutoTokenizer\n",
        "\n",
        "# Best Model 로드\n",
        "best_model = AutoModelForCausalLM.from_pretrained(\"./results/best_model\")\n",
        "\n",
        "# GPU 설정\n",
        "import torch\n",
        "device = torch.device(\"cuda\" if torch.cuda.is_available() else \"cpu\")\n",
        "model.to(device)\n",
        "\n",
        "# 입력 프롬프트\n",
        "prompt =\"저희 회사가 당신을 뽑아야 하는 이유를 설명하세요\"  # 텍스트 생성 시작 문장\n",
        "input_ids = tokenizer.encode(prompt, return_tensors=\"pt\").to(device)\n",
        "\n",
        "# 텍스트 생성\n",
        "output = model.generate(\n",
        "    input_ids,\n",
        "    max_length=250,             # 생성할 최대 길이\n",
        "    num_beams=5,               # 빔 서치 크기\n",
        "    no_repeat_ngram_size=2,    # 반복 방지\n",
        "    early_stopping=True,       # 적절히 멈춤\n",
        "    temperature=0.7            # 생성 다양성 제어 (0.7~1.0 추천)\n",
        ")\n",
        "\n",
        "# 결과 디코딩\n",
        "generated_text = tokenizer.decode(output[0], skip_special_tokens=True)\n",
        "print(\"Generated Text:\")\n",
        "print(generated_text)"
      ]
    },
    {
      "cell_type": "code",
      "execution_count": null,
      "id": "1aa170c3",
      "metadata": {
        "id": "1aa170c3",
        "papermill": {
          "duration": 0.05892,
          "end_time": "2024-11-17T10:01:34.618892",
          "exception": false,
          "start_time": "2024-11-17T10:01:34.559972",
          "status": "completed"
        },
        "tags": []
      },
      "outputs": [],
      "source": []
    },
    {
      "cell_type": "markdown",
      "id": "23ceb50c",
      "metadata": {
        "id": "23ceb50c",
        "papermill": {
          "duration": 0.057477,
          "end_time": "2024-11-17T10:01:34.735929",
          "exception": false,
          "start_time": "2024-11-17T10:01:34.678452",
          "status": "completed"
        },
        "tags": []
      },
      "source": []
    },
    {
      "cell_type": "code",
      "execution_count": null,
      "id": "d29e6d4b",
      "metadata": {
        "execution": {
          "iopub.execute_input": "2024-11-17T10:01:34.852784Z",
          "iopub.status.busy": "2024-11-17T10:01:34.851961Z",
          "iopub.status.idle": "2024-11-17T10:01:35.280390Z",
          "shell.execute_reply": "2024-11-17T10:01:35.279143Z"
        },
        "id": "d29e6d4b",
        "outputId": "a6160175-a154-4782-e032-c9946190a061",
        "papermill": {
          "duration": 0.488427,
          "end_time": "2024-11-17T10:01:35.282140",
          "exception": true,
          "start_time": "2024-11-17T10:01:34.793713",
          "status": "failed"
        },
        "tags": []
      },
      "outputs": [
        {
          "ename": "AttributeError",
          "evalue": "module 'torch' has no attribute 'cache'",
          "output_type": "error",
          "traceback": [
            "\u001b[0;31m---------------------------------------------------------------------------\u001b[0m",
            "\u001b[0;31mAttributeError\u001b[0m                            Traceback (most recent call last)",
            "Cell \u001b[0;32mIn[22], line 1\u001b[0m\n\u001b[0;32m----> 1\u001b[0m \u001b[43mtorch\u001b[49m\u001b[38;5;241;43m.\u001b[39;49m\u001b[43mcache\u001b[49m()\n",
            "File \u001b[0;32m/opt/conda/lib/python3.10/site-packages/torch/__init__.py:2216\u001b[0m, in \u001b[0;36m__getattr__\u001b[0;34m(name)\u001b[0m\n\u001b[1;32m   2213\u001b[0m     \u001b[38;5;28;01mimport\u001b[39;00m \u001b[38;5;21;01mimportlib\u001b[39;00m\n\u001b[1;32m   2214\u001b[0m     \u001b[38;5;28;01mreturn\u001b[39;00m importlib\u001b[38;5;241m.\u001b[39mimport_module(\u001b[38;5;124mf\u001b[39m\u001b[38;5;124m\"\u001b[39m\u001b[38;5;124m.\u001b[39m\u001b[38;5;132;01m{\u001b[39;00mname\u001b[38;5;132;01m}\u001b[39;00m\u001b[38;5;124m\"\u001b[39m, \u001b[38;5;18m__name__\u001b[39m)\n\u001b[0;32m-> 2216\u001b[0m \u001b[38;5;28;01mraise\u001b[39;00m \u001b[38;5;167;01mAttributeError\u001b[39;00m(\u001b[38;5;124mf\u001b[39m\u001b[38;5;124m\"\u001b[39m\u001b[38;5;124mmodule \u001b[39m\u001b[38;5;124m'\u001b[39m\u001b[38;5;132;01m{\u001b[39;00m\u001b[38;5;18m__name__\u001b[39m\u001b[38;5;132;01m}\u001b[39;00m\u001b[38;5;124m'\u001b[39m\u001b[38;5;124m has no attribute \u001b[39m\u001b[38;5;124m'\u001b[39m\u001b[38;5;132;01m{\u001b[39;00mname\u001b[38;5;132;01m}\u001b[39;00m\u001b[38;5;124m'\u001b[39m\u001b[38;5;124m\"\u001b[39m)\n",
            "\u001b[0;31mAttributeError\u001b[0m: module 'torch' has no attribute 'cache'"
          ]
        }
      ],
      "source": [
        "torch.cache()"
      ]
    },
    {
      "cell_type": "code",
      "source": [
        "import pandas as pd\n",
        "\n",
        "def text_to_df(text):\n",
        "    # 문자열을 StringIO로 변환하여 read_csv로 읽기\n",
        "    from io import StringIO\n",
        "    df = pd.read_csv(StringIO(text), sep='\\t', index_col='Epoch')\n",
        "    return df\n",
        "\n",
        "# 사용 예시\n",
        "text = \"\"\"Epoch\tTraining Loss\tValidation Loss\tRouge1\tRouge2\tRougel\tMeteor\tBertscore F1\tBleu\tGen Len\n",
        "1\t2.958400\t2.916679\t5.590246\t0.142939\t5.590246\t20.691100\t71.543900\t7.389000\t174.015824\n",
        "2\t2.806500\t2.862944\t5.605773\t0.128483\t5.605773\t21.203400\t72.134500\t6.934300\t157.191378\n",
        "3\t2.707300\t2.837547\t5.647275\t0.162107\t5.647275\t21.381800\t72.040200\t7.282200\t162.670321\n",
        "4\t2.620600\t2.821647\t5.556613\t0.122879\t5.556613\t21.471100\t72.152400\t6.924100\t154.507227\n",
        "5\t2.552500\t2.816025\t5.592240\t0.143442\t5.592240\t21.604100\t72.348000\t6.969800\t152.315848\n",
        "6\t2.497200\t2.817630\t5.598141\t0.133037\t5.598141\t21.645500\t72.402900\t6.877200\t150.674807\"\"\"\n",
        "\n",
        "history_df = text_to_df(text)\n",
        "print(history_df)"
      ],
      "metadata": {
        "colab": {
          "base_uri": "https://localhost:8080/"
        },
        "id": "3yMJiZZgOJjv",
        "outputId": "a37c8eae-958f-481c-ceda-c43ed2e04566"
      },
      "id": "3yMJiZZgOJjv",
      "execution_count": 2,
      "outputs": [
        {
          "output_type": "stream",
          "name": "stdout",
          "text": [
            "       Training Loss  Validation Loss    Rouge1    Rouge2    Rougel   Meteor  \\\n",
            "Epoch                                                                          \n",
            "1             2.9584         2.916679  5.590246  0.142939  5.590246  20.6911   \n",
            "2             2.8065         2.862944  5.605773  0.128483  5.605773  21.2034   \n",
            "3             2.7073         2.837547  5.647275  0.162107  5.647275  21.3818   \n",
            "4             2.6206         2.821647  5.556613  0.122879  5.556613  21.4711   \n",
            "5             2.5525         2.816025  5.592240  0.143442  5.592240  21.6041   \n",
            "6             2.4972         2.817630  5.598141  0.133037  5.598141  21.6455   \n",
            "\n",
            "       Bertscore F1    Bleu     Gen Len  \n",
            "Epoch                                    \n",
            "1           71.5439  7.3890  174.015824  \n",
            "2           72.1345  6.9343  157.191378  \n",
            "3           72.0402  7.2822  162.670321  \n",
            "4           72.1524  6.9241  154.507227  \n",
            "5           72.3480  6.9698  152.315848  \n",
            "6           72.4029  6.8772  150.674807  \n"
          ]
        }
      ]
    },
    {
      "cell_type": "code",
      "execution_count": null,
      "id": "948d5b10",
      "metadata": {
        "execution": {
          "iopub.status.busy": "2024-11-17T03:29:07.280554Z",
          "iopub.status.idle": "2024-11-17T03:29:07.281178Z",
          "shell.execute_reply": "2024-11-17T03:29:07.280931Z",
          "shell.execute_reply.started": "2024-11-17T03:29:07.280904Z"
        },
        "papermill": {
          "duration": null,
          "end_time": null,
          "exception": null,
          "start_time": null,
          "status": "pending"
        },
        "tags": [],
        "id": "948d5b10"
      },
      "outputs": [],
      "source": [
        "# # 기존 trainer에서 학습 로그 가져오기\n",
        "# training_logs = trainer.state.log_history\n",
        "\n",
        "# # DataFrame으로 변환하여 보기 좋게 표시\n",
        "# import pandas as pd\n",
        "# history_df = pd.DataFrame(training_logs).reset_index()\n",
        "# print(\"\\nTraining history:\")\n",
        "# display(history_df)"
      ]
    },
    {
      "cell_type": "code",
      "execution_count": 5,
      "id": "6e35a779",
      "metadata": {
        "execution": {
          "iopub.status.busy": "2024-11-17T03:29:07.282582Z",
          "iopub.status.idle": "2024-11-17T03:29:07.283076Z",
          "shell.execute_reply": "2024-11-17T03:29:07.282839Z",
          "shell.execute_reply.started": "2024-11-17T03:29:07.282813Z"
        },
        "id": "6e35a779",
        "outputId": "5f9c8c1f-14fe-4f38-fa14-f972a4f6abb6",
        "papermill": {
          "duration": null,
          "end_time": null,
          "exception": null,
          "start_time": null,
          "status": "pending"
        },
        "tags": [],
        "colab": {
          "base_uri": "https://localhost:8080/",
          "height": 1000
        }
      },
      "outputs": [
        {
          "output_type": "display_data",
          "data": {
            "text/plain": [
              "<Figure size 1500x1200 with 4 Axes>"
            ],
            "image/png": "[encoded data removed]"
          },
          "metadata": {}
        },
        {
          "output_type": "stream",
          "name": "stdout",
          "text": [
            "\n",
            "Final Metrics:\n",
            "Train Loss: 2.4972\n",
            "Validation Loss: 2.8176\n",
            "ROUGE-1: 5.5981\n",
            "ROUGE-2: 0.1330\n",
            "ROUGE-L: 5.5981\n",
            "METEOR: 21.6455\n",
            "BERTScore: 72.4029\n",
            "BLEU: 6.8772\n",
            "Generation Length: 150.6748\n"
          ]
        }
      ],
      "source": [
        "import matplotlib.pyplot as plt\n",
        "import numpy as np\n",
        "\n",
        "# nan 값을 제외하고 데이터 추출\n",
        "train_loss = history_df['Training Loss'].dropna().values\n",
        "eval_loss = history_df['Validation Loss'].dropna().values\n",
        "rouge1 = history_df['Rouge1'].dropna().values\n",
        "rouge2 = history_df['Rouge2'].dropna().values\n",
        "rougeL = history_df['Rougel'].dropna().values\n",
        "meteor = history_df['Meteor'].dropna().values\n",
        "bertscore = history_df['Bertscore F1'].dropna().values\n",
        "bleu = history_df['Bleu'].dropna().values\n",
        "gen_len = history_df['Gen Len'].dropna().values\n",
        "\n",
        "# 실제 데이터 개수에 맞춰 epochs 배열 생성\n",
        "epochs = np.arange(len(eval_loss))\n",
        "\n",
        "# 그래프 생성\n",
        "fig, ((ax1, ax2), (ax3, ax4)) = plt.subplots(2, 2, figsize=(15, 12))\n",
        "fig.suptitle('Training Metrics Overview', fontsize=16, y=1.02)\n",
        "\n",
        "# Loss plot\n",
        "ax1.plot(epochs, train_loss, 'b-', label='Training Loss', marker='o')\n",
        "ax1.plot(epochs, eval_loss, 'r-', label='Validation Loss', marker='o')\n",
        "ax1.set_title('Training and Validation Loss')\n",
        "ax1.set_xlabel('Epoch')\n",
        "ax1.set_ylabel('Loss')\n",
        "ax1.legend()\n",
        "ax1.grid(True, linestyle='--', alpha=0.7)\n",
        "\n",
        "# ROUGE scores over time\n",
        "ax2.plot(epochs, rouge1, 'b-', label='ROUGE-1', marker='o')\n",
        "ax2.plot(epochs, rouge2, 'r-', label='ROUGE-2', marker='o')\n",
        "ax2.plot(epochs, rougeL, 'g-', label='ROUGE-L', marker='o')\n",
        "ax2.set_title('ROUGE Scores')\n",
        "ax2.set_xlabel('Epoch')\n",
        "ax2.set_ylabel('Score')\n",
        "ax2.legend()\n",
        "ax2.grid(True, linestyle='--', alpha=0.7)\n",
        "\n",
        "# Other metrics\n",
        "ax3.plot(epochs, meteor, 'b-', label='METEOR', marker='o')\n",
        "ax3.plot(epochs, bertscore, 'r-', label='BERTScore F1', marker='o')\n",
        "ax3.plot(epochs, bleu, 'g-', label='BLEU', marker='o')\n",
        "ax3.set_title('Other Metrics')\n",
        "ax3.set_xlabel('Epoch')\n",
        "ax3.set_ylabel('Score')\n",
        "ax3.legend()\n",
        "ax3.grid(True, linestyle='--', alpha=0.7)\n",
        "\n",
        "# Generation length\n",
        "ax4.plot(epochs, gen_len, 'b-', label='Generation Length', marker='o')\n",
        "ax4.set_title('Generation Length')\n",
        "ax4.set_xlabel('Epoch')\n",
        "ax4.set_ylabel('Length')\n",
        "ax4.legend()\n",
        "ax4.grid(True, linestyle='--', alpha=0.7)\n",
        "\n",
        "plt.tight_layout()\n",
        "\n",
        "# 그래프 저장\n",
        "plt.savefig('training_metrics.png', dpi=300, bbox_inches='tight')\n",
        "plt.show()\n",
        "\n",
        "# 최종 결과값들 출력\n",
        "print(\"\\nFinal Metrics:\")\n",
        "print(f\"Train Loss: {train_loss[-1]:.4f}\")\n",
        "print(f\"Validation Loss: {eval_loss[-1]:.4f}\")\n",
        "print(f\"ROUGE-1: {rouge1[-1]:.4f}\")\n",
        "print(f\"ROUGE-2: {rouge2[-1]:.4f}\")\n",
        "print(f\"ROUGE-L: {rougeL[-1]:.4f}\")\n",
        "print(f\"METEOR: {meteor[-1]:.4f}\")\n",
        "print(f\"BERTScore: {bertscore[-1]:.4f}\")\n",
        "print(f\"BLEU: {bleu[-1]:.4f}\")\n",
        "print(f\"Generation Length: {gen_len[-1]:.4f}\")"
      ]
    },
    {
      "cell_type": "markdown",
      "id": "3ba25132",
      "metadata": {
        "id": "3ba25132",
        "papermill": {
          "duration": null,
          "end_time": null,
          "exception": null,
          "start_time": null,
          "status": "pending"
        },
        "tags": []
      },
      "source": []
    }
  ],
  "metadata": {
    "colab": {
      "machine_shape": "hm",
      "provenance": [],
      "include_colab_link": true
    },
    "kaggle": {
      "accelerator": "nvidiaTeslaT4",
      "dataSources": [],
      "dockerImageVersionId": 30787,
      "isGpuEnabled": true,
      "isInternetEnabled": true,
      "language": "python",
      "sourceType": "notebook"
    },
    "kernelspec": {
      "display_name": "Python 3",
      "name": "python3"
    },
    "language_info": {
      "codemirror_mode": {
        "name": "ipython",
        "version": 3
      },
      "file_extension": ".py",
      "mimetype": "text/x-python",
      "name": "python",
      "nbconvert_exporter": "python",
      "pygments_lexer": "ipython3",
      "version": "3.10.14"
    },
    "papermill": {
      "default_parameters": {},
      "duration": 22633.96215,
      "end_time": "2024-11-17T10:01:38.327872",
      "environment_variables": {},
      "exception": true,
      "input_path": "__notebook__.ipynb",
      "output_path": "__notebook__.ipynb",
      "parameters": {},
      "start_time": "2024-11-17T03:44:24.365722",
      "version": "2.6.0"
    },
    "widgets": {
      "application/vnd.jupyter.widget-state+json": {}
    }
  },
  "nbformat": 4,
  "nbformat_minor": 5
}