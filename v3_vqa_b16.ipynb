{
  "cells": [
    {
      "cell_type": "markdown",
      "metadata": {
        "id": "view-in-github",
        "colab_type": "text"
      },
      "source": [
        "<a href=\"https://colab.research.google.com/github/1000century/InterviewAnswer/blob/main/v3_vqa_b16.ipynb\" target=\"_parent\"><img src=\"https://colab.research.google.com/assets/colab-badge.svg\" alt=\"Open In Colab\"/></a>"
      ]
    },
    {
      "cell_type": "code",
      "execution_count": null,
      "id": "47b058de",
      "metadata": {
        "execution": {
          "iopub.execute_input": "2024-11-22T11:21:57.386013Z",
          "iopub.status.busy": "2024-11-22T11:21:57.385245Z",
          "iopub.status.idle": "2024-11-22T11:22:23.968798Z",
          "shell.execute_reply": "2024-11-22T11:22:23.967773Z"
        },
        "id": "47b058de",
        "papermill": {
          "duration": 26.622566,
          "end_time": "2024-11-22T11:22:23.971113",
          "exception": false,
          "start_time": "2024-11-22T11:21:57.348547",
          "status": "completed"
        },
        "tags": []
      },
      "outputs": [],
      "source": [
        "! pip install evaluate -qq\n",
        "! pip install korouge_score -qq\n",
        "! pip install bert_score -qq"
      ]
    },
    {
      "cell_type": "code",
      "execution_count": null,
      "id": "8f4c9de1",
      "metadata": {
        "execution": {
          "iopub.execute_input": "2024-11-22T11:22:24.051553Z",
          "iopub.status.busy": "2024-11-22T11:22:24.051277Z",
          "iopub.status.idle": "2024-11-22T11:22:25.412938Z",
          "shell.execute_reply": "2024-11-22T11:22:25.412067Z"
        },
        "id": "8f4c9de1",
        "papermill": {
          "duration": 1.408918,
          "end_time": "2024-11-22T11:22:25.414985",
          "exception": false,
          "start_time": "2024-11-22T11:22:24.006067",
          "status": "completed"
        },
        "tags": []
      },
      "outputs": [],
      "source": [
        "from datasets import load_dataset, Dataset, DatasetDict\n",
        "import pandas as pd\n",
        "import json\n",
        "import os\n",
        "import zipfile\n",
        "from typing import List, Dict\n",
        "\n",
        "def flatten_json_data(data_list):\n",
        "    \"\"\"JSON 데이터를 평탄화하는 함수\"\"\"\n",
        "    return pd.json_normalize(\n",
        "        data_list,\n",
        "        sep='_',\n",
        "        record_path=None,\n",
        "        meta=[\n",
        "            'category',\n",
        "            'job_field',\n",
        "            'gender',\n",
        "            'experience',\n",
        "            ['version'],\n",
        "            ['dataSet', 'answer', 'raw', 'text'],\n",
        "            ['dataSet', 'answer', 'summary', 'text'],\n",
        "            ['dataSet', 'question', 'raw', 'text'],\n",
        "            ['dataSet', 'info', 'ageRange'],\n",
        "            ['dataSet', 'info', 'channel'],\n",
        "            ['dataSet', 'info', 'date'],\n",
        "            ['dataSet', 'info', 'experience'],\n",
        "            ['dataSet', 'info', 'gender'],\n",
        "            ['dataSet', 'info', 'occupation'],\n",
        "            ['dataSet', 'info', 'place'],\n",
        "            ['rawDataInfo', 'answer', 'audioPath'],\n",
        "            ['rawDataInfo', 'question', 'audioPath']\n",
        "        ]\n",
        "    )\n",
        "\n",
        "def download_and_extract(urls: List[str], base_path: str) -> None:\n",
        "    \"\"\"\n",
        "    URL 리스트에서 ZIP 파일을 다운로드하고 압축을 해제하는 함수\n",
        "    \"\"\"\n",
        "    os.makedirs(base_path, exist_ok=True)\n",
        "\n",
        "    for i, url in enumerate(urls):\n",
        "        zip_file_name = url.split(\"/\")[-1]\n",
        "        zip_file_path = os.path.join(\"/kaggle/working\", zip_file_name)\n",
        "\n",
        "        # wget을 사용하여 파일 다운로드\n",
        "        !wget -q {url} -O {zip_file_path}\n",
        "\n",
        "        # 압축 해제할 폴더 생성\n",
        "        subfolder_name = zip_file_name.replace('.zip', '')\n",
        "        subfolder_path = os.path.join(base_path, subfolder_name)\n",
        "        os.makedirs(subfolder_path, exist_ok=True)\n",
        "\n",
        "        # ZIP 파일 압축 해제\n",
        "        with zipfile.ZipFile(zip_file_path, 'r') as zip_ref:\n",
        "            zip_ref.extractall(subfolder_path)\n",
        "\n",
        "        # 다운로드한 ZIP 파일 삭제\n",
        "        os.remove(zip_file_path)\n",
        "\n",
        "def create_dataset_from_json_files(base_path: str) -> Dataset:\n",
        "    \"\"\"\n",
        "    주어진 경로에서 JSON 파일들을 읽어 Dataset으로 변환하는 함수\n",
        "    \"\"\"\n",
        "    all_data = []\n",
        "\n",
        "    for root, _, files in os.walk(base_path):\n",
        "        for file in files:\n",
        "            if file.endswith('.json'):\n",
        "                file_path = os.path.join(root, file)\n",
        "                try:\n",
        "                    with open(file_path, 'r', encoding='utf-8') as f:\n",
        "                        data = json.load(f)\n",
        "                        # 파일 경로에서 메타데이터 추출\n",
        "                        folder_name = os.path.basename(os.path.dirname(file_path))\n",
        "                        parts = folder_name.split('_')\n",
        "                        data.update({\n",
        "                            'category': parts[0],  # TL or VL\n",
        "                            'job_field': '_'.join(parts[1:-2]),\n",
        "                            'gender': parts[-2],\n",
        "                            'experience': parts[-1]\n",
        "                        })\n",
        "                        all_data.append(data)\n",
        "                except json.JSONDecodeError as e:\n",
        "                    print(f\"Error reading {file_path}: {e}\")\n",
        "\n",
        "    # JSON 데이터 평탄화\n",
        "    df = flatten_json_data(all_data)\n",
        "\n",
        "    # DataFrame을 Dataset으로 변환\n",
        "    return Dataset.from_pandas(df)\n",
        "\n",
        "def create_interview_dataset():\n",
        "    \"\"\"\n",
        "    인터뷰 데이터셋을 생성하고 DatasetDict로 반환하는 함수\n",
        "    \"\"\"\n",
        "    # 훈련 데이터 URL\n",
        "    train_urls = [\n",
        "        \"https://github.com/1000century/multi_lion/raw/main/interview/Training/TL_01.Management_Female_Experienced.zip\",\n",
        "        \"https://github.com/1000century/multi_lion/raw/main/interview/Training/TL_01.Management_Female_New.zip\",\n",
        "        \"https://github.com/1000century/multi_lion/raw/main/interview/Training/TL_01.Management_Male_Experienced.zip\",\n",
        "        \"https://github.com/1000century/multi_lion/raw/main/interview/Training/TL_01.Management_Male_New.zip\",\n",
        "        \"https://github.com/1000century/multi_lion/raw/main/interview/Training/TL_02.SalesMarketing_Female_Experienced.zip\",\n",
        "        \"https://github.com/1000century/multi_lion/raw/main/interview/Training/TL_02.SalesMarketing_Female_New.zip\",\n",
        "        \"https://github.com/1000century/multi_lion/raw/main/interview/Training/TL_02.SalesMarketing_Male_Experienced.zip\",\n",
        "        \"https://github.com/1000century/multi_lion/raw/main/interview/Training/TL_02.SalesMarketing_Male_New.zip\",\n",
        "        \"https://github.com/1000century/multi_lion/raw/main/interview/Training/TL_03.PublicService_Female_Experienced.zip\",\n",
        "        \"https://github.com/1000century/multi_lion/raw/main/interview/Training/TL_03.PublicService_Female_New.zip\",\n",
        "        \"https://github.com/1000century/multi_lion/raw/main/interview/Training/TL_03.PublicService_Male_Experienced.zip\",\n",
        "        \"https://github.com/1000century/multi_lion/raw/main/interview/Training/TL_03.PublicService_Male_New.zip\",\n",
        "        \"https://github.com/1000century/multi_lion/raw/main/interview/Training/TL_04.RND_Female_Experienced.zip\",\n",
        "        \"https://github.com/1000century/multi_lion/raw/main/interview/Training/TL_04.RND_Female_New.zip\",\n",
        "        \"https://github.com/1000century/multi_lion/raw/main/interview/Training/TL_04.RND_Male_Experienced.zip\",\n",
        "        \"https://github.com/1000century/multi_lion/raw/main/interview/Training/TL_04.RND_Male_New.zip\",\n",
        "        \"https://github.com/1000century/multi_lion/raw/main/interview/Training/TL_05.ICT_Female_Experienced.zip\",\n",
        "        \"https://github.com/1000century/multi_lion/raw/main/interview/Training/TL_05.ICT_Female_New.zip\",\n",
        "        \"https://github.com/1000century/multi_lion/raw/main/interview/Training/TL_05.ICT_Male_Experienced.zip\",\n",
        "        \"https://github.com/1000century/multi_lion/raw/main/interview/Training/TL_05.ICT_Male_New.zip\",\n",
        "        \"https://github.com/1000century/multi_lion/raw/main/interview/Training/TL_06.Design_Female_Experienced.zip\",\n",
        "        \"https://github.com/1000century/multi_lion/raw/main/interview/Training/TL_06.Design_Female_New.zip\",\n",
        "        \"https://github.com/1000century/multi_lion/raw/main/interview/Training/TL_06.Design_Male_Experienced.zip\",\n",
        "        \"https://github.com/1000century/multi_lion/raw/main/interview/Training/TL_06.Design_Male_New.zip\",\n",
        "        \"https://github.com/1000century/multi_lion/raw/main/interview/Training/TL_07.ProductionManufacturing_Female_Experienced.zip\",\n",
        "        \"https://github.com/1000century/multi_lion/raw/main/interview/Training/TL_07.ProductionManufacturing_Female_New.zip\",\n",
        "        \"https://github.com/1000century/multi_lion/raw/main/interview/Training/TL_07.ProductionManufacturing_Male_Experienced.zip\",\n",
        "        \"https://github.com/1000century/multi_lion/raw/main/interview/Training/TL_07.ProductionManufacturing_Male_New.zip\"\n",
        "    ]\n",
        "\n",
        "    # 검증 데이터 URL\n",
        "    valid_urls = [\n",
        "        \"https://github.com/1000century/multi_lion/raw/main/interview/Validation/VL_01.Management_Female_Experienced.zip\",\n",
        "        \"https://github.com/1000century/multi_lion/raw/main/interview/Validation/VL_01.Management_Female_New.zip\",\n",
        "        \"https://github.com/1000century/multi_lion/raw/main/interview/Validation/VL_01.Management_Male_Experienced.zip\",\n",
        "        \"https://github.com/1000century/multi_lion/raw/main/interview/Validation/VL_01.Management_Male_New.zip\",\n",
        "        \"https://github.com/1000century/multi_lion/raw/main/interview/Validation/VL_02.SalesMarketing_Female_Experienced.zip\",\n",
        "        \"https://github.com/1000century/multi_lion/raw/main/interview/Validation/VL_02.SalesMarketing_Female_New.zip\",\n",
        "        \"https://github.com/1000century/multi_lion/raw/main/interview/Validation/VL_02.SalesMarketing_Male_Experienced.zip\",\n",
        "        \"https://github.com/1000century/multi_lion/raw/main/interview/Validation/VL_02.SalesMarketing_Male_New.zip\",\n",
        "        \"https://github.com/1000century/multi_lion/raw/main/interview/Validation/VL_03.PublicService_Female_Experienced.zip\",\n",
        "        \"https://github.com/1000century/multi_lion/raw/main/interview/Validation/VL_03.PublicService_Female_New.zip\",\n",
        "        \"https://github.com/1000century/multi_lion/raw/main/interview/Validation/VL_03.PublicService_Male_Experienced.zip\",\n",
        "        \"https://github.com/1000century/multi_lion/raw/main/interview/Validation/VL_03.PublicService_Male_New.zip\",\n",
        "        \"https://github.com/1000century/multi_lion/raw/main/interview/Validation/VL_04.RND_Female_Experienced.zip\",\n",
        "        \"https://github.com/1000century/multi_lion/raw/main/interview/Validation/VL_04.RND_Female_New.zip\",\n",
        "        \"https://github.com/1000century/multi_lion/raw/main/interview/Validation/VL_04.RND_Male_Experienced.zip\",\n",
        "        \"https://github.com/1000century/multi_lion/raw/main/interview/Validation/VL_04.RND_Male_New.zip\",\n",
        "        \"https://github.com/1000century/multi_lion/raw/main/interview/Validation/VL_05.ICT_Female_Experienced.zip\",\n",
        "        \"https://github.com/1000century/multi_lion/raw/main/interview/Validation/VL_05.ICT_Female_New.zip\",\n",
        "        \"https://github.com/1000century/multi_lion/raw/main/interview/Validation/VL_05.ICT_Male_Experienced.zip\",\n",
        "        \"https://github.com/1000century/multi_lion/raw/main/interview/Validation/VL_05.ICT_Male_New.zip\",\n",
        "        \"https://github.com/1000century/multi_lion/raw/main/interview/Validation/VL_06.Design_Female_Experienced.zip\",\n",
        "        \"https://github.com/1000century/multi_lion/raw/main/interview/Validation/VL_06.Design_Female_New.zip\",\n",
        "        \"https://github.com/1000century/multi_lion/raw/main/interview/Validation/VL_06.Design_Male_Experienced.zip\",\n",
        "        \"https://github.com/1000century/multi_lion/raw/main/interview/Validation/VL_06.Design_Male_New.zip\",\n",
        "        \"https://github.com/1000century/multi_lion/raw/main/interview/Validation/VL_07.ProductionManufacturing_Female_Experienced.zip\",\n",
        "        \"https://github.com/1000century/multi_lion/raw/main/interview/Validation/VL_07.ProductionManufacturing_Female_New.zip\",\n",
        "        \"https://github.com/1000century/multi_lion/raw/main/interview/Validation/VL_07.ProductionManufacturing_Male_Experienced.zip\",\n",
        "        \"https://github.com/1000century/multi_lion/raw/main/interview/Validation/VL_07.ProductionManufacturing_Male_New.zip\"\n",
        "    ]\n",
        "\n",
        "    # 데이터 다운로드 및 압축 해제\n",
        "    train_path = '/kaggle/working/train_unzipped'\n",
        "    valid_path = '/kaggle/working/validation_unzipped'\n",
        "\n",
        "    download_and_extract(train_urls, train_path)\n",
        "    download_and_extract(valid_urls, valid_path)\n",
        "\n",
        "    # 데이터셋 생성\n",
        "    train_dataset = create_dataset_from_json_files(train_path)\n",
        "    valid_dataset = create_dataset_from_json_files(valid_path)\n",
        "\n",
        "    # DatasetDict 생성\n",
        "    dataset_dict = DatasetDict({\n",
        "        'train': train_dataset,\n",
        "        'validation': valid_dataset\n",
        "    })\n",
        "\n",
        "    return dataset_dict"
      ]
    },
    {
      "cell_type": "markdown",
      "id": "b5b54672",
      "metadata": {
        "id": "b5b54672",
        "papermill": {
          "duration": 0.032364,
          "end_time": "2024-11-22T11:22:25.480811",
          "exception": false,
          "start_time": "2024-11-22T11:22:25.448447",
          "status": "completed"
        },
        "tags": []
      },
      "source": [
        "# Data Preprocessing"
      ]
    },
    {
      "cell_type": "code",
      "execution_count": null,
      "id": "996ccab0",
      "metadata": {
        "execution": {
          "iopub.execute_input": "2024-11-22T11:22:25.547090Z",
          "iopub.status.busy": "2024-11-22T11:22:25.546699Z",
          "iopub.status.idle": "2024-11-22T11:24:33.949444Z",
          "shell.execute_reply": "2024-11-22T11:24:33.948154Z"
        },
        "id": "996ccab0",
        "papermill": {
          "duration": 128.438605,
          "end_time": "2024-11-22T11:24:33.951688",
          "exception": false,
          "start_time": "2024-11-22T11:22:25.513083",
          "status": "completed"
        },
        "tags": [],
        "outputId": "75822728-4835-44ed-821a-fba16877e8ae"
      },
      "outputs": [
        {
          "name": "stdout",
          "output_type": "stream",
          "text": [
            "Error reading /kaggle/working/train_unzipped/TL_01.Management_Female_New/ckmk_d_bm_f_n_343176.json: Invalid control character at: line 23 column 433 (char 1029)\n",
            "Error reading /kaggle/working/train_unzipped/TL_01.Management_Female_New/ckmk_d_bm_f_n_178194.json: Invalid control character at: line 23 column 135 (char 755)\n",
            "Error reading /kaggle/working/train_unzipped/TL_01.Management_Female_New/ckmk_d_bm_f_n_269424.json: Invalid control character at: line 23 column 571 (char 1132)\n",
            "Error reading /kaggle/working/train_unzipped/TL_05.ICT_Male_New/ckmk_d_ict_m_n_337139.json: Expecting property name enclosed in double quotes: line 22 column 21 (char 576)\n",
            "Error reading /kaggle/working/validation_unzipped/VL_06.Design_Female_Experienced/ckmk_d_ard_f_e_66661.json: Invalid control character at: line 34 column 165 (char 1573)\n",
            "Error reading /kaggle/working/validation_unzipped/VL_01.Management_Female_New/ckmk_d_bm_f_n_161564.json: Invalid control character at: line 23 column 100 (char 688)\n",
            "\n",
            "Dataset Info:\n",
            "DatasetDict({\n",
            "    train: Dataset({\n",
            "        features: ['version', 'category', 'job_field', 'gender', 'experience', 'dataSet_info_date', 'dataSet_info_occupation', 'dataSet_info_channel', 'dataSet_info_place', 'dataSet_info_gender', 'dataSet_info_ageRange', 'dataSet_info_experience', 'dataSet_question_raw_text', 'dataSet_question_raw_wordCount', 'dataSet_question_emotion', 'dataSet_question_intent', 'dataSet_answer_raw_text', 'dataSet_answer_raw_wordCount', 'dataSet_answer_emotion', 'dataSet_answer_intent', 'dataSet_answer_summary_text', 'dataSet_answer_summary_wordCount', 'rawDataInfo_question_fileFormat', 'rawDataInfo_question_fileSize', 'rawDataInfo_question_duration', 'rawDataInfo_question_samplingBit', 'rawDataInfo_question_channelCount', 'rawDataInfo_question_samplingRate', 'rawDataInfo_question_audioPath', 'rawDataInfo_answer_fileFormat', 'rawDataInfo_answer_fileSize', 'rawDataInfo_answer_duration', 'rawDataInfo_answer_samplingBit', 'rawDataInfo_answer_channelCount', 'rawDataInfo_answer_samplingRate', 'rawDataInfo_answer_audioPath'],\n",
            "        num_rows: 68074\n",
            "    })\n",
            "    validation: Dataset({\n",
            "        features: ['version', 'category', 'job_field', 'gender', 'experience', 'dataSet_info_date', 'dataSet_info_occupation', 'dataSet_info_channel', 'dataSet_info_place', 'dataSet_info_gender', 'dataSet_info_ageRange', 'dataSet_info_experience', 'dataSet_question_raw_text', 'dataSet_question_raw_wordCount', 'dataSet_question_emotion', 'dataSet_question_intent', 'dataSet_answer_raw_text', 'dataSet_answer_raw_wordCount', 'dataSet_answer_emotion', 'dataSet_answer_intent', 'dataSet_answer_summary_text', 'dataSet_answer_summary_wordCount', 'rawDataInfo_question_fileFormat', 'rawDataInfo_question_fileSize', 'rawDataInfo_question_duration', 'rawDataInfo_question_samplingBit', 'rawDataInfo_question_channelCount', 'rawDataInfo_question_samplingRate', 'rawDataInfo_question_audioPath', 'rawDataInfo_answer_fileFormat', 'rawDataInfo_answer_fileSize', 'rawDataInfo_answer_duration', 'rawDataInfo_answer_samplingBit', 'rawDataInfo_answer_channelCount', 'rawDataInfo_answer_samplingRate', 'rawDataInfo_answer_audioPath'],\n",
            "        num_rows: 8026\n",
            "    })\n",
            "})\n"
          ]
        }
      ],
      "source": [
        "# 데이터셋 생성\n",
        "dataset = create_interview_dataset()\n",
        "\n",
        "# 데이터셋 정보 출력\n",
        "print(\"\\nDataset Info:\")\n",
        "print(dataset)"
      ]
    },
    {
      "cell_type": "code",
      "execution_count": null,
      "id": "65759113",
      "metadata": {
        "execution": {
          "iopub.execute_input": "2024-11-22T11:24:34.027187Z",
          "iopub.status.busy": "2024-11-22T11:24:34.026859Z",
          "iopub.status.idle": "2024-11-22T11:24:38.202687Z",
          "shell.execute_reply": "2024-11-22T11:24:38.201802Z"
        },
        "id": "65759113",
        "papermill": {
          "duration": 4.215897,
          "end_time": "2024-11-22T11:24:38.204772",
          "exception": false,
          "start_time": "2024-11-22T11:24:33.988875",
          "status": "completed"
        },
        "tags": []
      },
      "outputs": [],
      "source": [
        "from transformers import PreTrainedTokenizerFast\n",
        "from transformers import GPT2LMHeadModel\n",
        "import torch\n"
      ]
    },
    {
      "cell_type": "code",
      "execution_count": null,
      "id": "a100136c",
      "metadata": {
        "execution": {
          "iopub.execute_input": "2024-11-22T11:24:38.273222Z",
          "iopub.status.busy": "2024-11-22T11:24:38.272503Z",
          "iopub.status.idle": "2024-11-22T11:24:39.016289Z",
          "shell.execute_reply": "2024-11-22T11:24:39.015314Z"
        },
        "id": "a100136c",
        "outputId": "3c0252ef-5a6c-4775-ca04-e39c6c8a2f1f",
        "papermill": {
          "duration": 0.778952,
          "end_time": "2024-11-22T11:24:39.018186",
          "exception": false,
          "start_time": "2024-11-22T11:24:38.239234",
          "status": "completed"
        },
        "tags": [],
        "colab": {
          "referenced_widgets": [
            "7d9fb7c1f9304b67802442fc2ca0f833",
            "e213a2e0602542d4a62ec319a7f701b1"
          ]
        }
      },
      "outputs": [
        {
          "data": {
            "application/vnd.jupyter.widget-view+json": {
              "model_id": "7d9fb7c1f9304b67802442fc2ca0f833",
              "version_major": 2,
              "version_minor": 0
            },
            "text/plain": [
              "tokenizer.json:   0%|          | 0.00/2.83M [00:00<?, ?B/s]"
            ]
          },
          "metadata": {},
          "output_type": "display_data"
        },
        {
          "data": {
            "application/vnd.jupyter.widget-view+json": {
              "model_id": "e213a2e0602542d4a62ec319a7f701b1",
              "version_major": 2,
              "version_minor": 0
            },
            "text/plain": [
              "config.json:   0%|          | 0.00/1.00k [00:00<?, ?B/s]"
            ]
          },
          "metadata": {},
          "output_type": "display_data"
        },
        {
          "name": "stderr",
          "output_type": "stream",
          "text": [
            "The tokenizer class you load from this checkpoint is not the same type as the class this function is called from. It may result in unexpected tokenization. \n",
            "The tokenizer class you load from this checkpoint is 'GPT2Tokenizer'. \n",
            "The class this function is called from is 'PreTrainedTokenizerFast'.\n",
            "/opt/conda/lib/python3.10/site-packages/transformers/tokenization_utils_base.py:1617: FutureWarning: `clean_up_tokenization_spaces` was not set. It will be set to `True` by default. This behavior will be deprecated in transformers v4.45, and will be then set to `False` by default. For more details check this issue: https://github.com/huggingface/transformers/issues/31884\n",
            "  warnings.warn(\n"
          ]
        }
      ],
      "source": [
        "tokenizer = PreTrainedTokenizerFast.from_pretrained(\"skt/kogpt2-base-v2\",\n",
        "bos_token='</s>', eos_token='</s>', unk_token='<unk>',\n",
        "pad_token='<pad>', mask_token='<mask>')"
      ]
    },
    {
      "cell_type": "code",
      "execution_count": null,
      "id": "13055d8a",
      "metadata": {
        "execution": {
          "iopub.execute_input": "2024-11-22T11:24:39.085846Z",
          "iopub.status.busy": "2024-11-22T11:24:39.085514Z",
          "iopub.status.idle": "2024-11-22T11:25:01.986097Z",
          "shell.execute_reply": "2024-11-22T11:25:01.985202Z"
        },
        "id": "13055d8a",
        "outputId": "953bc2e4-719e-4c49-e9df-c53a22fb171d",
        "papermill": {
          "duration": 22.935978,
          "end_time": "2024-11-22T11:25:01.987907",
          "exception": false,
          "start_time": "2024-11-22T11:24:39.051929",
          "status": "completed"
        },
        "tags": [],
        "colab": {
          "referenced_widgets": [
            "18eaae28aa384dce80c3a17f116078b7",
            "eb7b155c7fa8435ebbe5b3c0223bc704"
          ]
        }
      },
      "outputs": [
        {
          "data": {
            "application/vnd.jupyter.widget-view+json": {
              "model_id": "18eaae28aa384dce80c3a17f116078b7",
              "version_major": 2,
              "version_minor": 0
            },
            "text/plain": [
              "Map:   0%|          | 0/68074 [00:00<?, ? examples/s]"
            ]
          },
          "metadata": {},
          "output_type": "display_data"
        },
        {
          "data": {
            "application/vnd.jupyter.widget-view+json": {
              "model_id": "eb7b155c7fa8435ebbe5b3c0223bc704",
              "version_major": 2,
              "version_minor": 0
            },
            "text/plain": [
              "Map:   0%|          | 0/8026 [00:00<?, ? examples/s]"
            ]
          },
          "metadata": {},
          "output_type": "display_data"
        }
      ],
      "source": [
        "occupation_map = {\n",
        "    'SM': '영업마케팅',\n",
        "    'PS': '공공서비스',\n",
        "    'RND': '연구개발',\n",
        "    'ICT': '정보통신',\n",
        "    'ARD': '디자인',\n",
        "    'MM': '생산관리',\n",
        "    'BM': '경영사무'\n",
        "}\n",
        "def preprocess_training_examples(examples):\n",
        "    max_length=256\n",
        "    formatted_inputs = [\n",
        "        f\"</s>경력상태: {'신입' if exp == 'NEW' else '경력직'} 질문: {q} 답변: {a} </s>\"\n",
        "        for occ, exp, q, a in zip(\n",
        "            examples[\"dataSet_info_occupation\"],\n",
        "            examples[\"dataSet_info_experience\"],\n",
        "            examples[\"dataSet_question_raw_text\"],\n",
        "            examples[\"dataSet_answer_raw_text\"]\n",
        "        )\n",
        "    ]\n",
        "\n",
        "    tokenized = tokenizer(\n",
        "        formatted_inputs,\n",
        "        max_length=max_length,\n",
        "        truncation=True,\n",
        "        padding=\"max_length\"\n",
        "    )\n",
        "\n",
        "    return {\n",
        "        'input_ids': tokenized['input_ids'],\n",
        "        'attention_mask': tokenized['attention_mask'],\n",
        "        'labels': [-100 if token == tokenizer.pad_token_id else token for token in tokenized['input_ids']]\n",
        "    }\n",
        "\n",
        "orig_train_dataset = dataset['train'].map(\n",
        "    preprocess_training_examples,\n",
        "    batched=True,\n",
        "    remove_columns=dataset['train'].column_names,\n",
        "    load_from_cache_file=False  # 이 옵션 추가\n",
        ")\n",
        "\n",
        "orig_valid_dataset = dataset['validation'].map(\n",
        "    preprocess_training_examples,\n",
        "    batched=True,\n",
        "    remove_columns=dataset['validation'].column_names,\n",
        "    load_from_cache_file=False  # 이 옵션 추가\n",
        ")"
      ]
    },
    {
      "cell_type": "code",
      "execution_count": null,
      "id": "de228b20",
      "metadata": {
        "papermill": {
          "duration": 0.033271,
          "end_time": "2024-11-22T11:25:02.056249",
          "exception": false,
          "start_time": "2024-11-22T11:25:02.022978",
          "status": "completed"
        },
        "tags": [],
        "id": "de228b20"
      },
      "outputs": [],
      "source": []
    },
    {
      "cell_type": "code",
      "execution_count": null,
      "id": "e37eab3c",
      "metadata": {
        "execution": {
          "iopub.execute_input": "2024-11-22T11:25:02.126138Z",
          "iopub.status.busy": "2024-11-22T11:25:02.125489Z",
          "iopub.status.idle": "2024-11-22T11:25:02.129487Z",
          "shell.execute_reply": "2024-11-22T11:25:02.128655Z"
        },
        "id": "e37eab3c",
        "papermill": {
          "duration": 0.040082,
          "end_time": "2024-11-22T11:25:02.131025",
          "exception": false,
          "start_time": "2024-11-22T11:25:02.090943",
          "status": "completed"
        },
        "tags": []
      },
      "outputs": [],
      "source": [
        "import torch\n",
        "from torch.utils.data import Dataset, DataLoader"
      ]
    },
    {
      "cell_type": "code",
      "execution_count": null,
      "id": "829f02be",
      "metadata": {
        "execution": {
          "iopub.execute_input": "2024-11-22T11:25:02.199840Z",
          "iopub.status.busy": "2024-11-22T11:25:02.199309Z",
          "iopub.status.idle": "2024-11-22T11:25:02.204207Z",
          "shell.execute_reply": "2024-11-22T11:25:02.203412Z"
        },
        "id": "829f02be",
        "outputId": "37f368af-2824-4c33-987a-eb0cd1f012e8",
        "papermill": {
          "duration": 0.041643,
          "end_time": "2024-11-22T11:25:02.206120",
          "exception": false,
          "start_time": "2024-11-22T11:25:02.164477",
          "status": "completed"
        },
        "tags": []
      },
      "outputs": [
        {
          "name": "stdout",
          "output_type": "stream",
          "text": [
            "8026\n"
          ]
        }
      ],
      "source": [
        "from torch.utils.data import Subset\n",
        "\n",
        "train_dataset = orig_train_dataset\n",
        "valid_dataset = orig_valid_dataset\n",
        "# # 앞에서부터 1000개씩 선택\n",
        "# train_dataset = Subset(orig_train_dataset, range(100))\n",
        "# valid_dataset = Subset(orig_valid_dataset, range(100))\n",
        "\n",
        "print(len(valid_dataset))  # 1000"
      ]
    },
    {
      "cell_type": "code",
      "execution_count": null,
      "id": "4f0416a0",
      "metadata": {
        "execution": {
          "iopub.execute_input": "2024-11-22T11:25:02.275159Z",
          "iopub.status.busy": "2024-11-22T11:25:02.274865Z",
          "iopub.status.idle": "2024-11-22T11:25:02.349376Z",
          "shell.execute_reply": "2024-11-22T11:25:02.348462Z"
        },
        "id": "4f0416a0",
        "outputId": "06b654be-84bf-4846-c771-fcffbcc2e769",
        "papermill": {
          "duration": 0.111221,
          "end_time": "2024-11-22T11:25:02.351384",
          "exception": false,
          "start_time": "2024-11-22T11:25:02.240163",
          "status": "completed"
        },
        "tags": []
      },
      "outputs": [
        {
          "name": "stdout",
          "output_type": "stream",
          "text": [
            "Input IDs shape: torch.Size([16, 256])\n",
            "Attention mask shape: torch.Size([16, 256])\n",
            "Labels shape: torch.Size([16, 256])\n",
            "tensor([    1, 12170, 11626,   401, 33442, 24454,   401, 11011,  8159,  7177,\n",
            "        23916, 17336, 11448, 12016, 25354, 11711,  7285, 11063,  9278, 15468,\n",
            "        41277, 11114,  9661,  7055,  8084, 12817,  7643,   401, 45887, 11448,\n",
            "        12016,  9278,  9458, 41277, 21176, 11869, 11711, 21154,  9265, 45887,\n",
            "         9037, 12388, 30961, 13997,  9450,  9185, 10165, 10925,  9450,  9185,\n",
            "        15659, 15902, 39315,   739,  7662,  8263, 25585, 11448,  8006, 45758,\n",
            "        24022,  9355, 11070,  9658,  6903, 11070, 38412, 36676,  9863, 12657,\n",
            "         9439, 22939,  9443,  9350, 14651, 16691,  9394,  9022, 12388, 21176,\n",
            "         9322, 13768,  9088,  9834, 11273,  7162,   739,  7662,  9176,  9269,\n",
            "        11530, 25592, 12371, 11662, 12102, 10413,  9131, 42481, 22939, 18626,\n",
            "        32240, 11403,  9239, 14594, 16898, 22227,  9919, 23854, 11130, 39840,\n",
            "         9290, 21681, 10984, 12371, 19035, 16691,  9070,  9822,  7549,  9383,\n",
            "         9078,  8234,   389,  9239, 30961, 16069, 22227,  9919, 23854, 42730,\n",
            "        23885,  9306,  7220,  9018,  7895, 10936,  9299,  7895, 10936, 15106,\n",
            "        12102,  9306, 21176,  9038,  8143,  9026, 11118,  9267, 20164, 12016,\n",
            "         9031,  9144, 16691,   739,     1,     3,     3,     3,     3,     3,\n",
            "            3,     3,     3,     3,     3,     3,     3,     3,     3,     3,\n",
            "            3,     3,     3,     3,     3,     3,     3,     3,     3,     3,\n",
            "            3,     3,     3,     3,     3,     3,     3,     3,     3,     3,\n",
            "            3,     3,     3,     3,     3,     3,     3,     3,     3,     3,\n",
            "            3,     3,     3,     3,     3,     3,     3,     3,     3,     3,\n",
            "            3,     3,     3,     3,     3,     3,     3,     3,     3,     3,\n",
            "            3,     3,     3,     3,     3,     3,     3,     3,     3,     3,\n",
            "            3,     3,     3,     3,     3,     3,     3,     3,     3,     3,\n",
            "            3,     3,     3,     3,     3,     3,     3,     3,     3,     3,\n",
            "            3,     3,     3,     3,     3,     3])\n",
            "</s> 경력상태: 신입 질문: 지원자님께서 그동안 겪었던 인생의 갈등들 중에서 가장 심각한 갈등은 무엇이었나요 답변: 제가 겪었던 가장 큰 갈등은 세대 간의 갈등입니다. 저 제가 제 윗 세대의 삶을 책이나 이런 경험 책이나 간접 경험을 통해서만 봤지 직접적으로 겪어보지 않았기 때문에 그들의 생각과 그들의 의지가 의도가 어떤 것인지를 이해를 잘 못 하겠습니다. 그리고 그 윗 세대 또한 우리의 세대를 살아는 봤지만 본인들의 삶과 너무 차이가 나는 삶이라 도저히 이해를 못할 것입니다. 그래서 같은 자리에 앉아 있어도 서로 생각이 완전히 다르다는 것을 느끼는 경우가 너무 많았습니다. 동상이몽이라고 하죠. 같은 세대의 사람들과 있어도 서로 생각이 다르고 의견이 다른데 이십 년 삼십 년 차이 나는 다른 세대하고의 대화는 더 힘들었던 것 같습니다. </s><pad><pad><pad><pad><pad><pad><pad><pad><pad><pad><pad><pad><pad><pad><pad><pad><pad><pad><pad><pad><pad><pad><pad><pad><pad><pad><pad><pad><pad><pad><pad><pad><pad><pad><pad><pad><pad><pad><pad><pad><pad><pad><pad><pad><pad><pad><pad><pad><pad><pad><pad><pad><pad><pad><pad><pad><pad><pad><pad><pad><pad><pad><pad><pad><pad><pad><pad><pad><pad><pad><pad><pad><pad><pad><pad><pad><pad><pad><pad><pad><pad><pad><pad><pad><pad><pad><pad><pad><pad><pad><pad><pad><pad><pad><pad><pad><pad><pad><pad><pad><pad>\n"
          ]
        }
      ],
      "source": [
        "def collate_fn(batch):\n",
        "   input_ids = torch.stack([torch.tensor(item['input_ids']) for item in batch])\n",
        "   attention_mask = torch.stack([torch.tensor(item['attention_mask']) for item in batch])\n",
        "   labels = torch.stack([torch.tensor(item['labels']) for item in batch])\n",
        "\n",
        "   return {\n",
        "       'input_ids': input_ids,\n",
        "       'attention_mask': attention_mask,\n",
        "       'labels': labels\n",
        "   }\n",
        "\n",
        "train_dataloader = DataLoader(train_dataset, batch_size=16, shuffle=True, collate_fn=collate_fn)\n",
        "valid_dataloader = DataLoader(valid_dataset, batch_size=16, shuffle=False, collate_fn=collate_fn)\n",
        "\n",
        "# DataLoader에서 배치 샘플 확인\n",
        "for batch in train_dataloader:\n",
        "    print(\"Input IDs shape:\", batch['input_ids'].shape)\n",
        "    print(\"Attention mask shape:\", batch['attention_mask'].shape)\n",
        "    print(\"Labels shape:\", batch['labels'].shape)\n",
        "    for i in batch['input_ids']:\n",
        "        print(i)\n",
        "        print(tokenizer.decode(i))\n",
        "        break\n",
        "\n",
        "    break"
      ]
    },
    {
      "cell_type": "code",
      "execution_count": null,
      "id": "9ecc1e55",
      "metadata": {
        "execution": {
          "iopub.execute_input": "2024-11-22T11:25:02.474892Z",
          "iopub.status.busy": "2024-11-22T11:25:02.474202Z",
          "iopub.status.idle": "2024-11-22T11:25:05.688585Z",
          "shell.execute_reply": "2024-11-22T11:25:05.687580Z"
        },
        "id": "9ecc1e55",
        "outputId": "dd9e0ae1-b114-4d5d-a19c-c904a980c698",
        "papermill": {
          "duration": 3.253964,
          "end_time": "2024-11-22T11:25:05.690448",
          "exception": false,
          "start_time": "2024-11-22T11:25:02.436484",
          "status": "completed"
        },
        "tags": [],
        "colab": {
          "referenced_widgets": [
            "1f601dada36d4cad9e7da7dd5cb9a4ab"
          ]
        }
      },
      "outputs": [
        {
          "data": {
            "application/vnd.jupyter.widget-view+json": {
              "model_id": "1f601dada36d4cad9e7da7dd5cb9a4ab",
              "version_major": 2,
              "version_minor": 0
            },
            "text/plain": [
              "pytorch_model.bin:   0%|          | 0.00/513M [00:00<?, ?B/s]"
            ]
          },
          "metadata": {},
          "output_type": "display_data"
        },
        {
          "data": {
            "text/plain": [
              "GPT2LMHeadModel(\n",
              "  (transformer): GPT2Model(\n",
              "    (wte): Embedding(51200, 768)\n",
              "    (wpe): Embedding(1024, 768)\n",
              "    (drop): Dropout(p=0.1, inplace=False)\n",
              "    (h): ModuleList(\n",
              "      (0-11): 12 x GPT2Block(\n",
              "        (ln_1): LayerNorm((768,), eps=1e-05, elementwise_affine=True)\n",
              "        (attn): GPT2SdpaAttention(\n",
              "          (c_attn): Conv1D(nf=2304, nx=768)\n",
              "          (c_proj): Conv1D(nf=768, nx=768)\n",
              "          (attn_dropout): Dropout(p=0.1, inplace=False)\n",
              "          (resid_dropout): Dropout(p=0.1, inplace=False)\n",
              "        )\n",
              "        (ln_2): LayerNorm((768,), eps=1e-05, elementwise_affine=True)\n",
              "        (mlp): GPT2MLP(\n",
              "          (c_fc): Conv1D(nf=3072, nx=768)\n",
              "          (c_proj): Conv1D(nf=768, nx=3072)\n",
              "          (act): NewGELUActivation()\n",
              "          (dropout): Dropout(p=0.1, inplace=False)\n",
              "        )\n",
              "      )\n",
              "    )\n",
              "    (ln_f): LayerNorm((768,), eps=1e-05, elementwise_affine=True)\n",
              "  )\n",
              "  (lm_head): Linear(in_features=768, out_features=51200, bias=False)\n",
              ")"
            ]
          },
          "execution_count": 10,
          "metadata": {},
          "output_type": "execute_result"
        }
      ],
      "source": [
        "import torch\n",
        "from transformers import GPT2LMHeadModel\n",
        "\n",
        "model = GPT2LMHeadModel.from_pretrained('skt/kogpt2-base-v2')\n",
        "device = torch.device(\"cuda\" if torch.cuda.is_available() else \"cpu\")\n",
        "model.to(device)"
      ]
    },
    {
      "cell_type": "markdown",
      "id": "88aa1d02",
      "metadata": {
        "id": "88aa1d02",
        "papermill": {
          "duration": 0.033656,
          "end_time": "2024-11-22T11:25:05.759024",
          "exception": false,
          "start_time": "2024-11-22T11:25:05.725368",
          "status": "completed"
        },
        "tags": []
      },
      "source": [
        "## Model Train"
      ]
    },
    {
      "cell_type": "code",
      "execution_count": null,
      "id": "a15050ae",
      "metadata": {
        "execution": {
          "iopub.execute_input": "2024-11-22T11:25:05.829679Z",
          "iopub.status.busy": "2024-11-22T11:25:05.829315Z",
          "iopub.status.idle": "2024-11-22T11:25:07.303211Z",
          "shell.execute_reply": "2024-11-22T11:25:07.302497Z"
        },
        "papermill": {
          "duration": 1.511751,
          "end_time": "2024-11-22T11:25:07.305266",
          "exception": false,
          "start_time": "2024-11-22T11:25:05.793515",
          "status": "completed"
        },
        "tags": [],
        "id": "a15050ae"
      },
      "outputs": [],
      "source": [
        "import torch\n",
        "from torch.utils.data import DataLoader\n",
        "from transformers import AdamW, get_linear_schedule_with_warmup\n",
        "from nltk.translate.bleu_score import sentence_bleu, SmoothingFunction\n",
        "from korouge_score import rouge_scorer\n",
        "from tqdm import tqdm\n",
        "from bert_score import score  # bert-score import 추가"
      ]
    },
    {
      "cell_type": "code",
      "execution_count": null,
      "id": "efea4774",
      "metadata": {
        "execution": {
          "iopub.execute_input": "2024-11-22T11:25:07.375569Z",
          "iopub.status.busy": "2024-11-22T11:25:07.374869Z",
          "iopub.status.idle": "2024-11-22T19:40:02.453266Z",
          "shell.execute_reply": "2024-11-22T19:40:02.452404Z"
        },
        "id": "efea4774",
        "outputId": "ba77cc44-f245-4b52-f7b2-c833c6437101",
        "papermill": {
          "duration": 29695.115249,
          "end_time": "2024-11-22T19:40:02.455338",
          "exception": false,
          "start_time": "2024-11-22T11:25:07.340089",
          "status": "completed"
        },
        "tags": [],
        "colab": {
          "referenced_widgets": [
            "bc333924eff9412d98245ae0f5efd29c",
            "65f6c397c9a64eafa7139e14a262e1ab",
            "b6b4ce1b9a08416e9a70e2b01db3f49e",
            "b6e2eff8c0d94621ace9244b90ecb58b",
            "95e6cad96b56412eba4391471c941fc5",
            "4134119d8a6c4fb99e55b56503ef6e35",
            "6fb4343ffce04203b3c93ad6f985dcaa",
            "abe8d43bcc874dd9886ddd6350c69436",
            "ab0f2621e2af4d44a27d3e8d9bb3cb65",
            "075fb0bb984f4d149ab5a7b8c44c1832",
            "b76a7d9627f346d8b5faa8c44c3241b4",
            "0878293b51bc495f974420ae42d2b754",
            "c5cdda754b2948ebb35c692cc6fbe51c",
            "1ed25a2d5888478ea3f698f844b640a8",
            "86e397b5fb0c409e945b640ead191af1"
          ]
        }
      },
      "outputs": [
        {
          "name": "stderr",
          "output_type": "stream",
          "text": [
            "/opt/conda/lib/python3.10/site-packages/transformers/optimization.py:591: FutureWarning: This implementation of AdamW is deprecated and will be removed in a future version. Use the PyTorch implementation torch.optim.AdamW instead, or set `no_deprecation_warning=True` to disable this warning\n",
            "  warnings.warn(\n",
            "Training Epoch 1: 100%|██████████| 4255/4255 [1:29:52<00:00,  1.27s/it, loss=2.0983]\n"
          ]
        },
        {
          "name": "stdout",
          "output_type": "stream",
          "text": [
            "\n",
            "Epoch 1 Average Training Loss: 2.4002\n"
          ]
        },
        {
          "name": "stderr",
          "output_type": "stream",
          "text": [
            "Validation Epoch 1:   0%|          | 1/502 [00:00<04:42,  1.77it/s, loss=2.9205]"
          ]
        },
        {
          "name": "stdout",
          "output_type": "stream",
          "text": [
            "경력상태: 신입 질문: 해당 직무와 관련한 자신이 강점이라고 생각하시는 것에 대해 경험을 빗대어 어떤 경험이 있으신지 어 그런 것들을 해서 세부적으로 말씀해 주시기 바랍니다 답변: 해외 직무와 관련한 저만의 강점이라고 한다면 저는 해외 쪽 인원들과 관련된 어 해외 언어 능력이라고 말씀드릴 수 있겠습니다. 저의 경우는 중국 상해 지역에 오 년 동안 유학생활을 경험을 했으며 그 영업 동안 유학생활 동안 일본어와 영어를 같이 공부를 해서 자유 어느정도 자유자재로 어 구사할 정도의 수준을 가지고 있습니다. 특히 언어 뿐만이 아니라 이 년 이 년 간은 신 심천사무소에서 지사장으로 로컬 영업을 진행을 하였으며 신규 영업을 창출하고 미수금까지 회수하는 지사장 팀 리더로서 근무를 한 경험을 가지고 있습니다. 물론 저보다 중국어나 다른 외국어를 잘하는 인원들은 많을 것이라 생각을 합니다. 하지만 해외 해외 영업에서 가장 중요한 무에서 유를 창출해서 영업 매출로 이어지고 그런 부분들을 직접 미수금까지 챙기는 일련의 과정들을 경험한 경험해 본 사람은 많지 않으리라 생각을 합니다. 따라서 저의 강점은 무에서 유를 창출해내는 영업 매출을 일으키는 능력이라 할 수 있겠습니다. \n",
            "경력상태: 신입 질문: 지원 직무에 관련된 일을 있이나 생각하는하시는지 대해서 설명해 말씀대어 설명해 식으로 있는지으신가 말씀 설명해 경험을 자세하게 설명해적으로 설명해해 주시시기 바랍니다 답변: 저 영업에 관련된 저의 강이라면 한다면 저는 어 영업을 업무를들과 소통 일을 일을 어들을이라고 생각드릴 수 있겠습니다. 어는 장점은 어어를에서 있는 년 동안 거주 생활을 해 해 상해 당시에과 중국 생활 동안 어 중국 중국 사용 구사 했 어자 정도 의사소자재로 구사 의사소할 수 실력을 가지고 있습니다. 그리고 중국적인만이 아니라 어 언어 동안 년 동안 중국에서 중국 남방천 지역에서소에서 어장을 근무칼 영업을 진행을 하면서 그 영업 진행을하는 신규금 회수 회수하는 등장으로서 역할을장으로서로서 역할을 하였 경험이 가지고 있습니다.  저는 더어를 일본 언어를어를 잘 사람이들도 많지 것입니다. 생각 합니다. 하지만 저 영업 영업의 가장 중요한 것은기는 유를 창조하는 그하는을 연결 매출 매출들을 통해서 경험금까지 회수기는 부분 과정들을 통해서 바은 본 경험이 많지 않습니다. 생각을 합니다.  저는 이러한점은 바로에서 유를 창출하는 능력의 창출 창출 데이라고 생각 수 있겠습니다. \n",
            "경력상태: 신입 질문: 회사 생활을 하시다 보면 단계가 여러 단계가 있는데 여러분이 가장 빠르게 윗 단계인 즉 상위 단계에 직무를 수행할 수 있는 방법이 있다면 무엇입니까 답변: 가장 빠르게 높은 단계의 직무를 수행할 수 있는 방법은 가장 낮은 걸 빠르게 끝내 놓는 놓아야 한다고 생각합니다. 아무래도 일에 작고 크면 있어 시간 분배는 올바른 일을 진행하는 데 굉장히 중요한 순서라고 생각하는데요. 저는 먼저 중요하지 않거나 조금 자잘 자잘 고래한 일들을 모두 끝내 놓고 가장 상위 단계 일을 하는 편입니다. 이런 그 일을 하지 않고 상위 단계를 먼저 하게 된다면 그 상위 단계를 가장 빠르게 수행할 수 있을지 모르겠지만 명확하고 정확한 결과를 얻어내는 것은 굉장히 어렵다고 생각합니다. 아무래도 스케줄 사항 가장 마지막으로 밀려있고 넉넉한 여유와 그 앞에서 이제 작은 프로젝트를 하면서 또 얻어오는 많은 것들이 있기 때문에 가장 빠르고 명확하게 상위 단계의 직무를 수행할 수 있는 방법은 작은 단계를 먼저 구성하는 것이라고 생각합니다. 제가 학창 시절에도 교양 수업과 전공 수업으로 나눠져 있었는데 항상 교양 수업을 먼저 과제물들을 처리하고 그다음에 전공 수업에 집중하게 되었습니다. 아무래도 상위 단계의 일은 언제까지 끝내거나 언제까지 이라는 말보다 좀 더 많은 시간을 가지고 여유를 가지고 자료조사를 하고 진행하면 더 좋은 결과를 얻을 수 있기 때문에 저는 상위 단계 직무를 수행할 때 먼저 작은\n",
            "경력상태: 신입 질문: 지원 내에서 하다 보면 업무 높은 가지가 있는데요 단계를 생각하는 어려울 적응 단계에까지 팀 상위 단계의 도달 수행할 수 있는 능력이 있다면 그일지니까 답변: 제가 빠르게 상위 단계의 직무를 수행할 수 있는 방법은 바로 빠른 단계의음으로 하는야 것입니다.습니다. 합니다. 생각합니다. 그래도 제가 있어서 사소한기도 클수록 보이지만도가 굉 방법이 할 데 있어서장히 중요한 요소라고 생각합니다.요. 그렇기는 이 가장 않은 중요하지 더만한잘한고 일을 빨리 끝내 놓 그 빠르게 단계의인 끝내 것이니다. 그렇기 식으로 이유는 하는 않고는 단계의 밟 끝내 되면다면 그 일을 단계의 밟 빠르게 끝내 수 있는 것이라고 없을지만 그 쉬운 일을 도출낼 데 어렵장히 중요하다고다고 생각합니다. 그렇기래도 제가줄 관리를이나 중요한 중요한있는 가장한 스케유가 여유 여유 일을 일을 일들을트를 진행 그 그가는 그런 경험 저 때문에 저 빠르게 정확하게 그 단계의 직무를 수행할 수 있는 방법은 바로 것 먼저 끝내 것이라고 생각합니다.  가장창 시절에에도 그런 과에서 같은 수업에서 나눠서 있는요. 그 수업 들 들하는들을 다 그음에 전공 수업에서 대한하는 되면서습니다. 그래서래도 저 단계의 직무를 제가든 해야야 언제까지 끝내 식으로보다는 더 더 빠르게 시간을 할 그 가지고 그 조사를 하고 그해야 더 좋은 결과를 얻을 수 있다고 때문에 저는 가장 단계의 직무를 수행하는 수 가장 그 단계\n",
            "경력상태: 신입 질문: 음 중국 출장이 좀 많아요. 괜찮겠어요. 답변: 중국 출장이 많다는 것은 제가 면접에 참여하기 전에 회사에 공개된 자료를 통해서 확인할 수 있었습니다. 저는 중국 지역에 대해서 익숙하지가 않고 중국어에 대한 에 익숙하지도 않습니다마는 만약에 제가 중국 출장을 다녀와야 되는 상황이 된다거나 저에게 그런 업무가 주어진다면 당연히 회사나 부서에서 팀에서 요구하고 있는 성과를 극대화하기 위해서 나름대로 노력을 하게 될 것 같습니다. 따라서 뭐 중국에 출장이 많은 것 자체가 저에게 문제가 된다기보다는 그 안에서 목표한 성과물을 충분히 도출하고 우리 회사에 도움이 되는 방향으로 제 업무를 어떻게 수행할 것인가를 고민하게 될 것 같은데요. 물론 초기부터 제가 주어진다면 당연히 제 능력 밖에 있기 때문에 좀 더 어 뒤에 좀 맡겨 달라고 요청을 드리겠지만 중국 출장 자체가 많은 것 주어지는 것 자체가 저에게 문제가 되지는 않습니다. 오히려 중국 출장을 통해서 제가 미진했던 경험 제가 경험하지 못했던 새로운 분야에 대해서 배울 수 있고 또는 전문성을 제고할 수 있다면 그 또한 좋은 기회로 인식을 하고 긍정적이고 적극적으로 대처할게 될 거라는 말씀을 드리고 싶습니다. 이상입니다. \n",
            "경력상태: 신입 질문: 지원 지원 시장에장을 조금 잦은질 어괜찮으죠요 네변: 네 출장은 잦은 것은 그만큼 중국을 합격하기 위해서 이미 대한한 면접 통해서 중국 수 있는습니다. 제가는 중국 출 대한 잘하고 않은 않 중국 사람들이 대한 이해 대한하지 않은습니다.다만 중국에 중국 중국 출장을 가게왔도 한다면 상황이 생긴다면 라 아니면희 기회가 기회가 주어다면 저 저 측에 저에서 저장 저 있는 업무를 잘화할 위해서 노력 노력을 할 될 것 같습니다.  저 중국 출장을 있다 것은 같 저에게는 큰 될다거나 저 출 제가가 바를들을 달성하기 달성해 그 회사가 도움이 되는 방향으로 일을 역량을 수행 하면 것인지 고민하고 될 것 같데요. 어 제가 저 중국 업무를 저 그 업무치를 일을 때문에 그 더 열심히색 가서 더진 할 할겠습니다. 어 출도 저 것은 자체가 것은 자체가 저에게 큰 될지는 않을습니다.  저 출장을 통해서 제가 좀숙한했던 부분도 조금도 못했던 것들을 경험 대해서 좀 수 있는 또 제가성을 키할 수 있는 더 부분에 저 기회회로 삼을 하고 또적으로 또 임할 수 될 것 같 생각이을 드리고 싶습니다. 입니다. \n",
            "경력상태: 신입 질문: 본인이 지원한 분야에 대해 일 분 전도로 간략하게 자기소개해 보시겠습니까 답변: 본인이 지원한 분야에 대해 일 분 정도로 간략하게 소개해 보시겠습니까에 대한 부분은 제가 지원한 분야는 해외 영업에 중국 지역 전문가로서 신규 매출을 창출해야 되는 어 지금 업무를 갖고 있는 아 분야입니다. 저의 경우는 중국 난방지역 광동성 중심으로 한 심천과 동관 지역에서 아무 것도 없는 곳에 지사를 설립을 하고 그 지사 안에서 일할 인원들을 제가 직접 면접을 하여 채용을 하였으며 그 인원들과 함께 로칼 영업을 진행을 해서 미팅을 주선을 하고 그리고 씨를 형성한 후에 최종적으로는 신규 매출 창출을 이뤘던 경험을 가지고 있습니다. 매출 창출 뿐만 아니 아니라 그 매출로 인해서 발생한 미수금을 마지막까지 다 받아서 어 처리한 경험을 가지고 있기 때문에 현재 제가 지원한 이 분야 또한 그러한 일들을 해야 되는 걸로 알고 있습니다. 따라서 이 경 그 이전의 경험을 바탕으로 제가 지원한 분야에서도 개인적 역량과 협업을 통해서 여어 전체 회사의 이익을 위해서 할 수 있는 최적의 지원자라고 개인적으로 생각하고 있습니다. \n",
            "경력상태: 신입 질문: 지원 창의한 직무 대해서 잘단은 일 십 설명해 설명해소개해 주세겠어 답변: 제가 지원한 분야에 대해서 일 분 일 간략하게 말씀해 보겠겠습니까. 대한 질문에 제가 지원한 분야가 어 영업 부서 관련된어를 영업입니다. 어 매출 창출 창출하는 하는 부분 그런 현재 하고 있습니다. 분야 그런입니다. 어는 전공 중국 상해 관련 지산에서 심 어 광천 심관 지역에 어래도 없는 곳에서 어사를 설립을 해서 그 지 설립을 매출 수들을 채용 직접 채용을 보고서용을 하고 그 인원들을 함께 어컬 영업을 진행을 하고 매출팅을 진행을어서 하고 그 그시를 통해서 후에 그적으로는 매출 매출을을 진행을뤘습니다. 경험이 가지고 있습니다.  창출을 아니라면은 신규 매출 창출 인해서 매출 매출금 미수까지 미수 회수 미수 미수 경험이 가지고 있습니다. 때문에 어로써 가지고한 분야는 분야에와 중국 경험을 통해서 되는 부분로 알고 있습니다.  저 분야에력과 부분에 경험을 바탕으로 해서 가지고한 분야에 또한 어 역량을량 그리고업 통해서 어태 협 매출 매출 창출 어 수 있는 역량을 역량을자가 생각 생각하고 있습니다. \n",
            "경력상태: 신입 질문: 일을 하다보면 상사와 좀 마찰이 생길 수가 있겠죠. 그때 상사가 혼을 낼텐데  기분이 많이 나쁠까요. 답변: 상사와 트러블이 생긴 생기는 건 당연한 것입니다. 그리고 상사에게 혼나면 기분이 나쁜 것도 당연한 것입니다. 하지만 저는 이렇게 생각합니다. 혼남과 트러블를 제 지양분으로 삼을 수 있다면 그것 또한 제 성장의 지름길이라고 생각합니다. \n",
            "경력상태: 신입 질문: 지원 하다 보면 업무사와 트 트이 생길 수도 있는데죠 그럴 그럴 어떻게사가 혼내면 내면 수도데요괜분이 나쁘 나쁠 것요 어변: 일을사와의러블이 생길다면 것은 당연 일 상 상에게 혼이면 기분이 나 건 당연 것입니다. 상 상는 상 생각합니다. 상나는이라는 기러블이 해소게하고 생각 것입니다. 있는 저 또한 기 몫향 원동길이라고 생각합니다. 상\n",
            "경력상태: 신입 질문: 보통 시간 남으실 때 취미생활로 하시는 뭐 여가나 뭐 운동 뭐 그런 게 있으신다면 저한테 말씀해 주실 수 있나요 답변: 저는 시간이 남을 때 주로 바깥에 나가서 걸으면서 사람들을 관찰하는 일을 많이 합니다. 운동이나 이런 것도 굉장히 중요하는데 그거 외에 제가 뭔가 특별하게 남들과 다르게 하는 일이 그거라고 생각하기 때문에 말씀드리는 거고요. 제가 나가서 사람들을 관찰하는 이유는 아무 생각도 하지 않을 수 있기 때문입니다. 뭔가 저 사람의 신발 옷을 입은 것 어디를 걸어가는지 나이는 어느 정도 돼 보이는지 어떤 일을 할지 이런 것들을 궁금해 하고 그것을 제 스스로만의 답변을 찾는 것을 굉장히 좋 좋아하는데요. 제가 이런 일을 좋아하는 건 평소에 논리적인 부분을 굉장히 중요시하기 때문입니다. 뭔가 저 사람 입은 옷이나 뭐 이런 것들에서 직업을 유추할 수도 있고 걸음걸이나 이런 것들에서 이 사람이 바쁜지 아니면 여유롭고 어디 놀러가는지 이런 것들을 분석하는 걸 굉장히 좋아합니다. 이렇게 그 착장이나 뭐 걸음걸이나 헤어스타일 뭐 여러 가지 오늘의 상태 기분 같은 것들을 제 나름대로 추측해보면서 그것들을 논리정연하게 해서 이 사람을 탁 아 이 사람은 어떤 사람이구나 라고 논리적이\n",
            "경력상태: 신입 질문: 지원 사람들이 관리를으실 때 무슨 생활을로 하는시는 일이가 시간이 시간이 취미 같은 이런 것들이 있으신가 그희 왜해 주실 수 있을으요 답변: 저는 시간이 남을 때 주로 운동을 나가서 자전으면서 어 구경 일을 합니다. 합니다. 어 중에서도 노래 걸 좋아장히 좋아하지만요.걸와 저 좋아하는뭔가 스트레스하게 좋아하는들이 함께 무언 취미 있다면게랑 생각을합니다. 때문에 저드릴 게는요. 그래서 좋아하는서 걸 관찰하는 일을 제가래도 없이 하지 않고 수 있고 때문에입니다. 제가뭔가 제가는 어떤이나 입고 것 같은서 가다니는 것 어떤 몇 정도인지서지 어떤 걸 하는 어떤 것들을 굉해 하 그 보고 스스로도 생각변을 해 것 좋아장히 좋아습니다.합니다.요. 그래서 그런 것들을 하면서 이유는 아니지만 제가적으로 사고를 굉장히 중요하게하는 때문입니다. 그래서뭔가 논리는한테 것이 어떤 이런 것들을들에 어떤 찾는해 수 있고 아니면걸이이나 이런 걸들에서 어떤게 어떤쁘 걸 어떤 어떤로운 또를러가는지 이런 것들을 굉 것도 굉장히 좋아합니다. 그래서 저거를각 이런 이런걸이이나 이런 스타일 같은 이런 가지 것들을 일 이런분 이런 것들을 굉 스스로 잘을면서 제가들을 제가적으로연하게 답 제가 사람이 어떻게 트인 이 사람이 이 사람구나 이런 생각을적으로게\n",
            "경력상태: 신입 질문: 지원자분이 업무 중 어떤 문제에 부딪쳤을 때 지원자분은 혼자서 해결하는 편인가요 아니면 여러 사람들에게 이야기를 해서 해결하는 편인가요 답변: 어 어떤 문제나 위기가 왔을 때 어 일단은 혼자 해결해 보려고 노력을 합니다. 어 그것이 인제 제한될 것 같으면 저는 과감하게 주변 사람들에게 헬프 요청을 하는 것이 자연스럽고 당연하다고 생각합니다. 분명 혼자 해결이 가능한데 이걸 주변 사람들한테 계속 의지하는 모습을 보인다면 그러면 저 주원은 혼자 해결 능력이 없는 것으로 보이는 그런 직원으로 보일 것이기 때문에 분명 일단은 혼자 해결을 해 보려고 하는 스타일입니다. 그래도 안됐을 시에는 이제 조금씩 조금씩 도움 요청 할 것 같습니다. 어 저는 모든 일에는 혼자 할 수 있는 일은 없다고 생각합니다. 또한 도움 요청을 한다고 해서 절대 챙피한 것도 아니고 하기 때문에 혼자서 해결했을 때 한 시간 걸릴 일이 어 주변 경험이 있거나 노하우가 있는 사람에게 도움을 받았을 때는 십 분 오 분 안에도 분명히 끝날 수 있을 것이라 생각합니다. 그래서 그런 것들을 유지하기 위해서는 누가 나에게 도움을 청했을 때 분명히 친절하게 해줘야 할 것이고 그래야 나중에 도움을 받을 수 있을 것 같습니다. 그런데 결론은 저는 주변 상대에게 요청해서 완만하게 해결하는 스타일이 강한 것 같습니다. 네 이상입니다. \n",
            "경력상태: 신입 질문: 지원자님 생각 중에 스케 난 부딪쳤을 때 혼자자분 혼자 해결을 편이인가요 아니면 여러 사람들에게 이야기를 해서 해결하는 편인가요 답변: 저 저 문제에나 문제에 닥을 때 저 혼자단은 혼자 해결하는 보려고 노력을 합니다. 어 제가 어 뭐적인 수 같습니다.은는 혼자 어 사람들에게 이야기를스콜 해서 편입 어스럽 또하다고 생각을합니다. 어 그 해결해야 가능 문제 어게 혼자 사람들에게한테 얘 얘하는 것은 보여다면 어 그는제도 어 해결이 없다고 것 보일 것 상황이장인 보일 수 때문에 어 그단은 주변 해결 하려고 보려고 노력을 것이입니다. 어 그 된을 때는 주변 주변이라도 조금씩도이 수 같습니다.  제가는 어 문제에에는 혼자 해결 수 있는 게 없다고 생각합니다. 왜냐하면 혼자 요청 할 해서 그 혼자피한 일이 아니고 어 싫 어 해결하려고 때 그 두 반 수도 많 저 사람들 없는 아니면하우를 있는 사람에게 도움을 요청 때 그 분에서 분 십 걸리는 도움을 도움을 수 있다고 거 생각합니다.  저 식으로 좀 위해서 어 뭐 도움을 줄할 때 그 그절하게 그줄야 된다고 것이고 그야 그 그 받을 수 있는 것이라고 같습니다.  그런론은 혼자는 혼자 사람들에게에게 도움을해서 그하게 도움을 편일이 아니기 사람 같습니다.  이상입니다. \n",
            "경력상태: 신입 질문: 어 일을 하게 되면 그 업무를 진행할 때 그 업무 시에 어떤 분쟁도 발생할 수 있겠죠 그렇게 어 분쟁이나 서로 이렇게 안 맞을 때 그런 어 그럴 때 본인만의 대처법이 있나요 그것에 대해서 말씀해 보세요 답변: 아무래도 저희는 디자인 분야에서 종사하고 있기 때문에 사람들의 객관적인 의견보다는 주관적인 의견도 많이 들어간다고 생각합니다. 물론 모두를 만족시킬 수가 없는 게 또 디자인이라는 생각을 하고 있습니다. 이렇기 때문에 저도 팀 플레이를 하면서 다양한 분쟁이 발생했던 적이 있는데요. 저는 보통 이 이걸 분쟁이라고 받아들이고 올바른 분쟁이라고 받아들이고 다툼이 없도록 우선 노력하는 편입니다. 상대방의 기분을 상하지 않게 해야 제가 상대방을 설득할 수 있다는 생각이고 상대방을 설득하기 위해 그 과정을 또한 그 과정 또한 노력을 하는 편입니다. 팀 플레이어와 좀 다툼이 있었던 경험이 있었는데 교수님은 저희 프로젝트를 크게 수정하길 바라셨고 저는 컨셉만을 지켜가면서 가져가고 싶었습니다. 그 결과 저는 이제 팀 플레이와 교수님 둘 다 설득해야 되는 방향이었는데요. 제가 제 의견들을 종합하고 모아서 열심히 고민하고 답변들을 고민해 본 후 제 진솔한 마음을 좀 전달했던 것 같습니다. 저희의 프로젝트에 이런 컨셉이 중요하다는 것을 상대방에게 설득시키기 위한 노력을 해서 대처해야 제 대처\n",
            "경력상태: 신입 질문: 지원 지원 하 되면 중국으로 업무 하 때 중국으로 업무량이 분쟁이 난 상황이 발생할 수 있는데죠 어 된 발생할에 분쟁이 간의 분쟁이 좋은을 수도 어떻게 분쟁이 분쟁을 때는 어떻게만의 대처법이 있으요 있다면 대해서 말씀해 주시세요 답변: 일을래도 업무는 일을 업무 일을 있기 때문에 어 의견을 시각과 그 의견을에 많이 들어다고 생각을합니다. 그래서 그 아우시킬 수는 없 상황 사실 아닐 분야 것이 가지고 있습니다. 그래서기 때문에 저는 디자이너원를 통해서 어 의견을 발생할한다고 적이 있습니다.요. 어는 그 팀럴럴 해결하기이라고 하는 있습니다. 해결 해결 생각 있습니다.이 일어나지 하는은 편입니다.  의견을분을 상하지 않게끔 하고 이 설득할 수 있고 생각을도요. 이해할 위해서는선 상대방의 최대한 거쳐야 과정을 속에서 저 해야 편입니다.  플레이를 함께 더이 있을 적이 있는데요.님 저에게 팀트를 진행 성공해셨 원셨고 저는 그셉을 좀보 진행을갔 싶다습니다. 그래서 결과 저는 이 팀 플레이를 컨님의과의 중에 좋은을 하는 상황이성을요. 저 컨 의견을만 잘해서 그 컨 의견을하고 그변하는 해하고 가면서 결과 저 의견을심을한 답 가지고 더해 경험이 같습니다. 는 의견트를 대해서 식으로셉을 적용하다는 것을 알게 전달을 위해서 노력 많이 저했던 한다는 의견법이\n",
            "경력상태: 신입 질문: 유아이 지유아이 디자인이란 무엇이라고 생각하는지 설명해 주시겠습니까 답변: 일단 가 단순하게 직역하자면 유저 인터페이스 그래픽 유저 인터페이스로 알고 있습니다. 유아이 디자인은 아무래도 요즘 핸드폰 속에서 나오는 개체들이라고 많이 알고 있죠. 유엑스 유아이라는 말 단어가 생기고 뭐 프로덕트 디자이너들이라는 이야기도 생기고 있는 걸로 알고 있습니다. 그리고 이제 보편적으로 지유아이는 그것을 제외하고 나오는 모든 인터페이스라고 생각하는데요. 뭐 텔레비전에서 저희가 뭐 볼 수 있는 버튼이나 스위치들이라던지 아니면 컴퓨터에서 보여지는 이런 컨텐츠들 아이콘 이런 부분이 유아이 지유아이 디자인이라고 생각하는데요. 이 부분에서도 역시 가장 중요한 건 사용자 경험이라고 생각합니다. 왜 괜히 유엑스 유아이라는 게 한 단어로서 자리 잡은 게 아니라고 생각합니다. 저희가 사람들이 정말 이 화면 지아이 지유아이나 유아이를 이용할 때 편리함 둘째 치고 뭔가 당연한 것에 이끌리게 된다고 생각하거든요. 이런 익숙한 패턴들이나 편리함이 있다고 생각합니다. 그 속에서 사람의 행동 하나하나를 디자인하는 것이 유아이 지유아이 디자인이라고 생각합니다. \n",
            "경력상태: 신입 질문: 지원이 지유아이 디자인에인이란 무엇인지이라고 생각지 설명해 주겠습니까 답변: 유아 유아상의하게 말원을하는면 유저 인터페이스라고 유저 인터페스는 어 있습니다. 어이 지은 어래도 유에드폰이나 굉 유들의 즉 생각을들 있는데거든. 어저스 디자인이 것은 자체가 굉 그 유그래트 유가이라고 말이 있고 뭐 것로 알고 있는데 어 유 유 사용되는유아이이는 어 통해서는 것이 것들이페이스라고 생각을합니다.요. 어 유전을 나오는희가 이제 유 수 있는 그런튼이나 아니면치 같은 이런든지 아니면 뭐에서 나오는지는 화면 것들트롤들 이런콘들 것들이 유이 디자인유아이 디자인이라고 생각합니다.요. 어게들은 이제나 중요한 것은 유 경험이라고 생각합니다. 사용자가 이뭔찮 유저스 유이가 단어가 유 번만만 잡고 건 아니라 생각하 는 이제 유 많이게 안에유 아이유아이이를 이런이 좋아 때 가장하고이나로는 이괜가 직관 것 대해서려서끔 생각합니다.거든요. 그래서 것들이 것을을 이런함 있어야 생각합니다. 게 이제 경험 패턴가 유하는 것은 굉이 디자인유아이 디자인이라고 생각합니다. \n",
            "경력상태: 신입 질문: 저희가 하는 일 중에 유아이 지유아이 디자인이라고 있지 않습니까 이 교과서에서 나오는 어떤 정의 말고 그 본인이 생각하시는 유아이 지유아이 디자인은 뭐라고 생각하시는지 좀 말씀해 주시겠습니까 답변: 유아이 지유아이 디자인이란 무엇이라고 생각하느냐에 대한 부분은 먼저 유아이와 지유아이의 차이점을 알아봐야 될 것 같습니다. 유아이란 유저 인터페이스 유아이는 사용자와 컴퓨터가 정보를 주고받기 위해 사용자와 프로그램이 상호 작용하는 프로그램의 일부분으로 사용자 인터페이스라 부릅니다. 핸드폰이나 컴퓨터 프로그램 내비게이션 같은 전자기기 등 시스템과 사용자 사이에서 의사소통을 목적으로 하는 사용 설명서의 일종이라 할 수 있습니다. 그러면 지유아이란 무엇인가. 그래픽 유저 인터페이스라 할 수 있습니다. 그래픽 유저 인터페이스는 사용자가 그래픽을 통해 컴퓨터의 정보를 교환하는 환경을 말합니다. 이전까지 사용자 인터페이스는 키보드를 통해서 명령어로 작업을 수행시켰다면 지유아이에서는 마우스 등을 이용해서 화면의 메뉴 중 하나를 선택하여 작업을 수행합니다. 간단하게 지유아이는 글자 뿐 아니라 화면에 아이콘을 띄어 마우스를 이용하여 화면에 있는 아이콘을 클릭하여 작업을 수행하는 방식입니다. 대표적으로 마이크로소프트의 윈도 애플의 웹 운용 체제 등을\n",
            "경력상태: 신입 질문: 지원희 일을 업무 외에 가장이 지유아이 디자이라는 하는 않습니까 유아게적인 유아 아이 아이에 다른게 직접했을시는 디자이 디자인유아이 디자이라는 어떤라고 생각하시는지 말씀 말씀해 주세겠어 답변: 유아이 디자인유아이 디자인인이란 어인 생각하 따라서 답 어 유아이 지유아이이가 합성점을 생각해보고야 될 것 같습니다. 유아이 말저 인터페이스라고이 유자를 사용자의 서로 주고받을 위한 서로자를 대화를 소통 작용을 것을 말부분으로 유아 인터페이스라고든지터는니다. 지드폰이나 태블에서에서비게이션 등 경우에는 기 또는 다양한에 연결 인터 상호통을 위한 하는 프로그램자와서 일입니다.서 수 있겠 지 지유아이이는 사용자가요. 지 유저 인터페이스 유아든가 수 있겠 그래픽 유저 인터페스는 사용자가 원하는 유 통해 정보를 정보를 주고 것을 의미합니다. 사용자가 유아 인터페스는 사용자가보드드를 통해 정보를어를만 하는했습니다. 지유아이 디자인 키우스나 통해서 그래픽 화면을모리를 하나를 선택서 수행했  말하면유아이이는 사용자가 그대로만이 키 있는콘을 배치하여우고줌으로써우스 통해 사용자의 아이 메콘을 이용하여릭하여 화면에 수행 것을입니다. 적으로 지소프트의 윈도우플의 아이 사이 시스템에서 예로\n",
            "경력상태: 신입 질문: 지원자님이 지원하신 디자이너로서 앞으로 목표에 관해서 지원자님께서 한번 설명해 주시겠습니까 답변: 디자이너로서 앞으로 목표에 관해 설명을 부탁드리는 부분은 어 개인적으로 디자이너라는 부분은 당연히 어떤 물건을 디자인 어떤 물건이나 옷이나 따른 것들을 디자인해서 고객이 만족하는 부분들을 디자인하는 게 가장 중요하다고 생각을 합니다. 하지만 더 중요하다고 생각하는 거 그거는 그 디자인에도 나름대로의 원칙 원리 원칙이 있어야 한다고 생각을 하며 철학적인 부분들도 본인에 담겨있어야 된다고 생각을 합니다. 누구나 사람들이 좋아하는 것만 만들다 보면 자신이 왜 디자인을 하고 있는지에 대한 원래 자기가 본인 자신이 디자인을 할려고 하는 부분들이 온 철학적인 부분들이 전혀 없게 되는 경우를 많이 보아왔습니다. 현실과 타협을 하다보면 끝도 없이 타협을 하게 되구요. 그 타협에 범위 정도나 어느 런리 원칙 이외에는 타협이 없다고 생각을 하고 원리 원칙이나 철학적인 본인만의 부분들은 꼭 어 많이 있어야 된다고 생각을 합니다. 그래서 저 저의 앞으로의 목표는 저만의 디자인 철학과 원리 원칙을 명확히 세우는 부분이라고 할 수 있겠습니다. 아직도 정확한 저의 철학은 아이엔지 형이지만 그 부분이 저의 목표입니다. \n",
            "경력상태: 신입 질문: 지원자님 생각한 이가 앞으로 나아갈가 대해서 말씀자님이께서 생각 말씀 주겠습니까 답변: 제가로서 앞으로 저가 대해서 말씀 드리드리리고데 어 제가 어로서 직업이 어 디자이너 디자이너 만드는하는 제품을에 어떤이나 어떤 어떤 디자인하는 어 원하는할 그런들을 만들어해서 것이 디자이너 중요하다고 생각을 합니다. 어 디자이너 중요한 생각하는 부분은는거는 어 디자이너 자체가 굉 어떤과 원칙이 있고 된다고 생각을 합니다. 그이 부분이라고 있어야인들이 어떤져어야 한다고 생각을 합니다. 그래서 다 원하는 그런 하는 수 보면은 원하는 그런 해야 싶은지에 대해서 그부터 좋아하는만의 어떤 하고 때 하는지에들이 굉전히적인 부분들이 다 없는 되는 경우가 많이 왔기 그래서 다른 할다 보면 그도 없이 그 하는 되는더요. 그게점을 대한도만 아니면 정도룰칭하게 같은 그이 안 생각을 합니다.요. 원칙만 철학적인 부분만의 철학들을 어 지켜야 그 지켜 된다고 생각을 합니다.  저는는 디자인 목표는 어는 어떤 브랜드 철학 원칙을 가지고 하고 것이들을 생각을 수 있겠습니다.  저 디자인만의 철학 없지만디어에 디자인이라고 그게 가장의 디자인가 \n",
            "경력상태: 신입 질문: 이직을 생각하는 동료에게 뭐라고 할 것인가 답변: 일단 이유를 먼저 물어볼 것 같습니다. 그 이유에 대해서 제가 할 대답이 달라질 것 같고요. 그래도 일단 결정이 된 상황이라면 그동안 업무적으로 지원을 해주어서 너무 고마웠고 이직 준비를 응원한다고 기본적으로 이야기해 줄 것 같습니다. \n",
            "경력상태: 신입 질문: 지원 직무 생각하는 동가 뭐라고 말씀 수요변: 이 이 물어 말씀보 것 같습니다. 어 이유가에 대해서 먼저 답 수을 있다면 수 같요. 그 그 그 된다면이라면 그의에서 힘들 해셨 그 좋마웠고 또직을하는 하면서원해 말씀 말씀할 줄 것 같습니다. 그리고\n",
            "경력상태: 신입 질문: 지금까지 지내온 중에서 본인이 지원한 직무 분야와 관련된 경험 그런 것이 있으면 얘기해 주시겠습니까 알바도 좋고 또 자원 활동도 좋습니다. 답변: 저는 아무래도 공모전에 참여했던 것이 가장 유사 지금 직무와 유사한 경험이라고 생각하는데요. 기본적으로 아이디어를 많이 내기 위한 그런 디자인 공모전들도 많이 있지만 프리랜서들 사이에서 경쟁하는 공모전에 참여했던 적이 있습니다. 제가 디자인 관련 산업 디자인 전공을 하고 제품 디자인을 공부하고 있지만 일 학년 때 어떤 방향으로 공모전을 나가야 될지 헷갈리더라고요. 제품 디자인에 대한 툴이나 이런 것들이 공부가 안 되어 있다 보니까. 그래서 제가 선택한 게 브랜딩 공모전이었습니다. 로고와 간판을 만들어서 그 벡터 파일로 보내주는 공모전이었는데 제가 그 공모전에서 약 삼십 수를 했습니다. 제가 서른 번 정도의 시도를 했고 주변에서 너는 산업 디자이너고 제품 디자이너니까 못하는 게 당연한 거야 라는 말을 했는데 그 말을 듣는 게 굉장히 싫었습니다. 스스로 많은 것을 만들어 나가고 상대방을 이해하는 게 디자인이라고 생각을 하고 모든 디자인 분야에서 통용되어야 된다고 생각하고 있었습니다. 그래서 삼십 수 끝에 제가 많은 프로 프리랜서들 사이에서 우승을 한 경험이 있습니다. \n",
            "경력상태: 신입 질문: 지원 살아오면서 성과 가장 가장한 직무가와 잘 일을은 것들을 있다면 말씀기해 주세겠어 답를 마찬가지 아니면 그봉 좋아습니 그런데변: 제가는 제가래도 제가전 지원을했던 경험이 가장 기억하다고 현재와 관련된 일을이라고 생각을합니다.요. 어 제가 내는 내는 위해서 공모 공모 공모전이었 많이 해 저랜서로 디자이너 같은 그런하는 공모전 참여했던 경험이 있습니다. 어 이 공모해서 디자인 공모 했는데 있었기 디자인 하는 또 그단은 때 공모 공모 디자인을전을 진행야 하는지 고민뭔갈려라요. 그래서 디자인 대한 그런을 이런 것들을 굉부가 아닌 된 있어서 보니까 저 그래서 저 이 것은 바로랜딩 공모전이었습니다. 그래서고 포스터판 디자인 브 간터 간일 만들어서주는 그런전이었는데요. 그 공모전에 저 이 개월 명의 따습니다. 그래서 그른 다섯 정도 공모 해 그 저는 이 디자인가 너 디자인고 이 게 없데야 라고 말을 많이요.걸 듣고 순간 너무장히 재미었습니다. 그래서도 생각을 배웠야 싶 설득 게 굉 공모 생각 하고 그 것을은 제가되는 하는 생각을 그습니다. 그래서 저십 수를 이상의 그 그 것을그래랜서들을 사이에서 경쟁 한 적이 있습니다. \n",
            "경력상태: 신입 질문: 면접자분 주변 친구들 중에서 한 명을 골라서 어 그 친구분의 어 장 칭찬을 부탁을 드리겠습니다 답변: 주변 친구들 중 한 명을 골라 칭찬해 보라는 얘기를 한다면 저는 고등학교 어 친구 중 한 명을 칭찬하고 싶습니다. 지금도 계속 지속적으로 만나고 있는 친구고요. 그 친구의 가장 큰 장점은 주위 사람들이 얘기를 하기 하기에는 어 잘 이야기를 들어줍니다. 그 이야기를 들어준다는 부분들이 어 저하고는 좀 상반된 부분이긴 한데요. 저의 경우는 사람들과 만나서 먼저 손을 내밀고 얘기를 잘 하는 편입니다. 따라서 그 친구의 경우에는 성격이 저같이 활발하거나 외향적이거나 그 대화를 주도하거나 강력한 카리스마가 있다던가 그런 부분은 아니지만 상대방이 어떤 고민이나 아니면 재미있게 얘기하는 부분들을 잘 들어줍니다. 따라서 그 친구 주위에는 항상 사람들이 많이 있었고요. 그리고 주위에서 평가도 사람들이 사람이 착한 사람이다 좋은 사람이다 라는 이미지가 되게 강합니다. 따라서 저의 경우는 영업을 진행을 하며 먼저 얘기를 하는 부분들이 많았기 때문에 그 친구를 보면서 저도 들어주는 부분들도 일부분 어 해야 된다고 생각을 하면서 지금도 그렇게 할려고 노력을 합니다. 두 마디 할 거면 한마디만 하고 한마디는 하기 할 시간에 상대방의 얘기를 들어주려 노력합니다. \n",
            "경력상태: 신입 질문: 지원자님께서 친구들 중 한 명을 골라서 칭찬 칭찬 친에게 칭찬 칭찬점과을 해드 해도록습니다 구체변: 제 친구들 중에 한 명을 골라서을 주세라고 질문을기를 해 저는 제 때학 중에 한 명을 골라해 싶습니다. 어 어 그 어고 있는 친구인데요. 그 친구는 친구 큰 장점은 어에서 저기 잘 전에더 너무 좀 들어 잘주고니다. 어 친 들어주다는 것은 자체가 굉 굉의 굉 다른 부분이 있는데 하지만요. 어는 가장 어 이야기를서 이야기를 이야기를 내밀고 어기를 하는 들어 편니다. 어 그 친구의 이야기를 어 굉와 좀하고 어향적인 어 친구 잘적으로 어 어리스마를 있는거나가 아니면 부분이 어 어 저 이야기를이나 어떤 어떤에 얘기를하는 부분들을 잘 들어줍니다. 그리고 그 친와 어 그 많이 있습니다.요. 그 그 사람들이 저도 많이 많이 많 사람다 라는 사람다 라는 말을지가 많이 많이합니다. 그래서 그는 친구 그 할 하면서 그 나서서기를 하고 편들을 굉고 때문에 그 친구 칭찬 어도 그주고 부분이들이 많았이었 저 되는 생각을 합니다. 그 그 하고 수 노력하고 하고  번째로 수면 그 할 더 그 마디 하지 싫 거 한 이야기를기를 들어주고면서면은합니다. \n",
            "경력상태: 신입 질문: 귀하는 업무 중 팀원과 불화가 생긴다면 어떻게 해결하시겠습니까 그것에 대해서 말씀해 주세요 답변: 팀원과 불화가 생긴다면 어떻게 해결해야 될까라는 부분에 대해서는 기본적으로 협업을 진행한다든가 팀 내에 어떤 조직 사회 조직 생활을 하다보면 팀원과의 불화가 생기는 부분은 피할 수 없을 것 없던 것 같습니다. 저의 경우는 팀원과 불화가 생기면 그런 부분에 대해서 원인을 일단 파악을 하고요. 당연히 그 원인에 대해서 같이 대화를 나누고 불화가 생겼던 이유라든지 그러한 부분들을 해소를 하려고 노력을 했던 것 같습니다. 무조건 사람이 싫다든가 팀원이 무조건 말을 안 듣는다면 그거는 당사자만이 해결할 수 있는 부분은 아니라고 생각을 합니다. 회사를 팀원과의 불화가 생기면 팀원도 힘들겠지만 심적으로는 저 또한 힘들어졌던 기억을 가지고 있습니다. 이 부분이 해결되지 않으면 결국은 퇴사를 하는 상황이 발생을 하고요. 일반적으로는 상사가 퇴사를 하는 경우보다는 팀원이 퇴사를 하고 회사 입장에서도 당연히 손해를 보는 부분들이 있기 때문에 그 인원과는 여러 가지 상황으로 대화를 나눠보고 그 상황에 대해서는 본인도 어느 정도 인지를 해서 그런 부분들이 에 다시 한번 계속 대화를 통해서 해결했던 생각 경험을 가지고 있습니다. \n",
            "경력상태: 신입 질문: 지원하 영업 특성상 스케원과 불화가 생긴다면 어떻게 해결하겠습니까 해결 대한 해결해 주세요 답변: 팀원과 불화가 생긴다면 저 해결하시 하는지요. 질 대해서 저 대화를업을 해야해야 라고 아니면원 어떤 문제가이나생활을원 하는다 보면 팀원과의 불화가 생길 경우가 굉 수 없 것 같 부분 같습니다. 왜냐하면는 개인적인 팀원 불화가 생긴 그 부분에 대해서 대화를 파악하고 파악을 해 그 그 그 원인이 대해서 서로 대화를 해 그화가 생긴다는 부분에에든가 그 부분들을 서로소를 해 노력을 할 것 같습니다. 적으로 사람은 라고 아니면원 싫 싫 잘 한다다 그거는 그도 해결할 수 있는 문제 아니라고 생각을 합니다. 그래서 위해서원이라고 불화가 생긴 그원 같이고지만 팀적으로 굉도 힘들질 것이 가지고 있습니다. 그렇기럴 해결이 않는다면 저 팀사 해야 것이 올 할요. 그 팀사와 저사를 하는 경우가들이 팀원이 퇴사를 하는 나서에서도에서도 저 그 보는 상황이이기 많 때문에 저 부분에들과의 좀 가지 대화를들을 인 나누고서 그 부분에 따라서 서로부장 충분히 정도 이해를지를 하고 그 부분들을 해결 해결 한 대화를 대화를 해 해결을이 것들을 가지고 있습니다. \n",
            "경력상태: 신입 질문: 사내 스터디에서 어떤 것을 공부하고 싶으세요 답변: 사내의 스터디에서 어떤 것을 공부하고 싶은지에 대한 부분은 가장 제가 관심이 있어 하는 부분은 언어적 부분과 역사 부분 운동 부분 그리고 여행 부분입니다. 사내 스터디 쪽에서 연어가 언어가 되 부분이 있다고 한다면 저는 영어 중국어 일본어 이외에 따른 언어 스페인어나 딴 언어를 공부를 하고 싶습니다. 업무와 관련된 부분이라면 당연히 영어 중국어 일본어에서 선택을 해서 그 부분을 좀 더 발전시키고자 할 것입니다. 만약에 운동 부분이 있다면 저는 개인적으로는 헬스와 아 농구 탁구 볼링을 아 예전부터 계속해왔습니다. 이 부분이 하나 있다면 이 부분 중에 선택을 해서 계속 친목을 도모하고 신체를 어 닦는 부분을 계속 하고 싶습니다. 여행 동아리가 있다면 제가 이 시 현재까지 이십여 개 국을 돌아다닌 경험을 바탕으로 따른 국내든 해외든 관련된 여행을 하면서 볼 수 있는 그런 부분들을 계속하고 싶습니다. 마지막으로 역사 관련된 부분에 동아리가 있다면 스터디가 있다면 그 역사 관련된 특히 어 불교 미술사 사찰 쪽이나 문화유산 해설 관련된 부분들을 계속 공부하고 싶습니다. \n",
            "경력상태: 신입 질문: 지원 스터디를 그룹 하고 것을 공부하고 싶으신요 그변: 사내내에 스터디를 그룹 가장 것을 공부하고 싶지 대한 질문에 어 중요한 하고 있는 하는 분야는 어 부분 그다 부분입니다. 부분입니다. 어 부분입니다. 어 스터디에서 가장수를 많이 가장려면 가장 하면 저는 역사 공부를 일본 그리고 다른 언어들을어 아랍지 공부하고 하고 싶습니다. 어 관련된 부분이기 제가 언어 중국어 스페인어를 공부를 해야 공부를 언어를 공부를 더 공부를시키고 하는 것 에 제가 부분 조금 저는 스페인적으로는 스페인스 관련된침을 그리고구 탁링을 하고 같이전부터 좋아 해고 그래서 운동을 저 둘 저 부분은들을 저 해서 저 꾸준히목을 다 싶 단련 좀 데 좀 해 싶습니다. 도리에서 있다면 저 좋아하는 부분을니어 한 부분을 여 년국을 다녀다녔 경험이 가지고 해서 문화 여행 해외든 상관없이 부분 통해서 어링 있는 부분 부분들을 좀 하고 싶습니다.  제가 부분 부분 있어서는리가 있다면 저터디 있다면 저 부분을 관련된 부분을 역사 스페인 관련된 역사이나 관련된 불교산 쪽사 부분들을 좀 공부하고 싶습니다. \n"
          ]
        },
        {
          "name": "stderr",
          "output_type": "stream",
          "text": [
            "Validation Epoch 1: 100%|██████████| 502/502 [04:13<00:00,  1.98it/s, loss=2.4675]\n"
          ]
        },
        {
          "data": {
            "application/vnd.jupyter.widget-view+json": {
              "model_id": "bc333924eff9412d98245ae0f5efd29c",
              "version_major": 2,
              "version_minor": 0
            },
            "text/plain": [
              "tokenizer_config.json:   0%|          | 0.00/49.0 [00:00<?, ?B/s]"
            ]
          },
          "metadata": {},
          "output_type": "display_data"
        },
        {
          "data": {
            "application/vnd.jupyter.widget-view+json": {
              "model_id": "65f6c397c9a64eafa7139e14a262e1ab",
              "version_major": 2,
              "version_minor": 0
            },
            "text/plain": [
              "config.json:   0%|          | 0.00/625 [00:00<?, ?B/s]"
            ]
          },
          "metadata": {},
          "output_type": "display_data"
        },
        {
          "data": {
            "application/vnd.jupyter.widget-view+json": {
              "model_id": "b6b4ce1b9a08416e9a70e2b01db3f49e",
              "version_major": 2,
              "version_minor": 0
            },
            "text/plain": [
              "vocab.txt:   0%|          | 0.00/996k [00:00<?, ?B/s]"
            ]
          },
          "metadata": {},
          "output_type": "display_data"
        },
        {
          "data": {
            "application/vnd.jupyter.widget-view+json": {
              "model_id": "b6e2eff8c0d94621ace9244b90ecb58b",
              "version_major": 2,
              "version_minor": 0
            },
            "text/plain": [
              "tokenizer.json:   0%|          | 0.00/1.96M [00:00<?, ?B/s]"
            ]
          },
          "metadata": {},
          "output_type": "display_data"
        },
        {
          "data": {
            "application/vnd.jupyter.widget-view+json": {
              "model_id": "95e6cad96b56412eba4391471c941fc5",
              "version_major": 2,
              "version_minor": 0
            },
            "text/plain": [
              "model.safetensors:   0%|          | 0.00/714M [00:00<?, ?B/s]"
            ]
          },
          "metadata": {},
          "output_type": "display_data"
        },
        {
          "name": "stdout",
          "output_type": "stream",
          "text": [
            "calculating scores...\n",
            "computing bert embedding.\n"
          ]
        },
        {
          "data": {
            "application/vnd.jupyter.widget-view+json": {
              "model_id": "4134119d8a6c4fb99e55b56503ef6e35",
              "version_major": 2,
              "version_minor": 0
            },
            "text/plain": [
              "  0%|          | 0/251 [00:00<?, ?it/s]"
            ]
          },
          "metadata": {},
          "output_type": "display_data"
        },
        {
          "name": "stdout",
          "output_type": "stream",
          "text": [
            "computing greedy matching.\n"
          ]
        },
        {
          "data": {
            "application/vnd.jupyter.widget-view+json": {
              "model_id": "6fb4343ffce04203b3c93ad6f985dcaa",
              "version_major": 2,
              "version_minor": 0
            },
            "text/plain": [
              "  0%|          | 0/126 [00:00<?, ?it/s]"
            ]
          },
          "metadata": {},
          "output_type": "display_data"
        },
        {
          "name": "stdout",
          "output_type": "stream",
          "text": [
            "done in 282.10 seconds, 28.45 sentences/sec\n",
            "Epoch 1 Average Validation Loss: 2.1743\n",
            "Epoch 1 Average Validation BLEU: 0.9069\n",
            "Epoch 1 Average Validation ROUGE: {'rouge1': 0.35753406833194634, 'rouge2': 0.10468031610918326, 'rougeL': 0.2836929023698022}\n",
            "Epoch 1 BERTScore Precision: 0.7810\n",
            "Epoch 1 BERTScore Recall: 0.7703\n",
            "Epoch 1 BERTScore F1: 0.7756\n",
            "Saving best model with validation loss: 2.1743\n"
          ]
        },
        {
          "name": "stderr",
          "output_type": "stream",
          "text": [
            "Training Epoch 2: 100%|██████████| 4255/4255 [1:30:00<00:00,  1.27s/it, loss=1.8940]\n"
          ]
        },
        {
          "name": "stdout",
          "output_type": "stream",
          "text": [
            "\n",
            "Epoch 2 Average Training Loss: 2.2077\n"
          ]
        },
        {
          "name": "stderr",
          "output_type": "stream",
          "text": [
            "Validation Epoch 2:   0%|          | 1/502 [00:00<04:35,  1.82it/s, loss=2.8579]"
          ]
        },
        {
          "name": "stdout",
          "output_type": "stream",
          "text": [
            "경력상태: 신입 질문: 해당 직무와 관련한 자신이 강점이라고 생각하시는 것에 대해 경험을 빗대어 어떤 경험이 있으신지 어 그런 것들을 해서 세부적으로 말씀해 주시기 바랍니다 답변: 해외 직무와 관련한 저만의 강점이라고 한다면 저는 해외 쪽 인원들과 관련된 어 해외 언어 능력이라고 말씀드릴 수 있겠습니다. 저의 경우는 중국 상해 지역에 오 년 동안 유학생활을 경험을 했으며 그 영업 동안 유학생활 동안 일본어와 영어를 같이 공부를 해서 자유 어느정도 자유자재로 어 구사할 정도의 수준을 가지고 있습니다. 특히 언어 뿐만이 아니라 이 년 이 년 간은 신 심천사무소에서 지사장으로 로컬 영업을 진행을 하였으며 신규 영업을 창출하고 미수금까지 회수하는 지사장 팀 리더로서 근무를 한 경험을 가지고 있습니다. 물론 저보다 중국어나 다른 외국어를 잘하는 인원들은 많을 것이라 생각을 합니다. 하지만 해외 해외 영업에서 가장 중요한 무에서 유를 창출해서 영업 매출로 이어지고 그런 부분들을 직접 미수금까지 챙기는 일련의 과정들을 경험한 경험해 본 사람은 많지 않으리라 생각을 합니다. 따라서 저의 강점은 무에서 유를 창출해내는 영업 매출을 일으키는 능력이라 할 수 있겠습니다. \n",
            "경력상태: 신입 질문: 지원 직무에 관련 일을 있이나 생각하는하십지 대해 말씀 말씀대어 설명해 식으로 있으신가 말씀 설명해 경험을 설명해 설명해적으로 설명해해 주시시기 바랍니다 답변: 저 영업에 관련된 저의 강점이라고 한다면 저는 어 영업 관련된들과 소통 업무를 영어 영업들을이라고 생각드리고 수 있을습니다. 저는 경우는 어어를에서 있는 년간 동안 유학 생활을 했 했 그 당시에에 해외 생활 동안 중국 호주 중국어 자유롭게 구사 했 중국자 정도 의사소자재로 구사 구사할 수 실력을 가지고 있습니다. 그리고 중국적인만이 아니라 중국어 중국 동안 년 동안 중국에서 중국어 남방천이라는소에서 근무를장으로 근무 근무 영업을 진행을 하면서 그 영업 진행을하는 신규금 회수 처리하는하는 등장으로서 역할을장로서 어 하였 경험이 가지고 있습니다.  저의 더 상해 영어를 언어를어를 잘하는 사람이들도 많지 것입니다. 생각 합니다. 하지만 저 영업 영업에 가장 중요한 것은기는 유를 창출하는 그하는을 이어지는 있는 매출들이 통해서 경험금까지 회수기는 부분 과정들을 직접 바은 본 적이 많지 않을습니다. 생각을 합니다.  저는 이러한점은 해외에서 유를 창출하는 능력력로 창출 데이라고 말씀 수 있겠습니다. \n",
            "경력상태: 신입 질문: 회사 생활을 하시다 보면 단계가 여러 단계가 있는데 여러분이 가장 빠르게 윗 단계인 즉 상위 단계에 직무를 수행할 수 있는 방법이 있다면 무엇입니까 답변: 가장 빠르게 높은 단계의 직무를 수행할 수 있는 방법은 가장 낮은 걸 빠르게 끝내 놓는 놓아야 한다고 생각합니다. 아무래도 일에 작고 크면 있어 시간 분배는 올바른 일을 진행하는 데 굉장히 중요한 순서라고 생각하는데요. 저는 먼저 중요하지 않거나 조금 자잘 자잘 고래한 일들을 모두 끝내 놓고 가장 상위 단계 일을 하는 편입니다. 이런 그 일을 하지 않고 상위 단계를 먼저 하게 된다면 그 상위 단계를 가장 빠르게 수행할 수 있을지 모르겠지만 명확하고 정확한 결과를 얻어내는 것은 굉장히 어렵다고 생각합니다. 아무래도 스케줄 사항 가장 마지막으로 밀려있고 넉넉한 여유와 그 앞에서 이제 작은 프로젝트를 하면서 또 얻어오는 많은 것들이 있기 때문에 가장 빠르고 명확하게 상위 단계의 직무를 수행할 수 있는 방법은 작은 단계를 먼저 구성하는 것이라고 생각합니다. 제가 학창 시절에도 교양 수업과 전공 수업으로 나눠져 있었는데 항상 교양 수업을 먼저 과제물들을 처리하고 그다음에 전공 수업에 집중하게 되었습니다. 아무래도 상위 단계의 일은 언제까지 끝내거나 언제까지 이라는 말보다 좀 더 많은 시간을 가지고 여유를 가지고 자료조사를 하고 진행하면 더 좋은 결과를 얻을 수 있기 때문에 저는 상위 단계 직무를 수행할 때 먼저 작은\n",
            "경력상태: 신입 질문: 지원 생활을 하다 보면 협 있 가지 있는데요 가지 생각하는 어려울 적응선에인 개발 팀 단계의 있는 수행할 수 있는 능력이 있다면 그것이일지니까 답변: 제가 빠르게 상위 단계의 직무를 수행할 수 있는 방법은 바로 빠른 단계의음으로 수행할야 것입니다.치는 된다고 생각합니다. 그래도 제가 대한 작은기도 클수록질수록도가 굉 게 할 데 있어서장히 중요한 요소라고 생각합니다.요. 그렇기는 제가 가장 않은 중요하지 더잘한잘한도 일을 먼저 다 놓고 그 중요한 단계의인 끝내 것이니다. 그렇게 식으로 과정 끝내 않고서는 단계의 하는 해 된다면 그 다음 단계의 잘 빠르게 끝 수 있는 것이라고 없을지만 그 쉬운 일을 도출낼 데 어렵장히 어려운다고 생각합니다. 그렇기래도 제가줄에이나 중요한 중요한나는 중요한한 시간유가 시간을 시간 해야 해야 일트를 진행 그 그가는 성취 경험 있기 때문에 저 빠르게 가장 일을 단계의 직무를 수행할 수 있는 방법은 바로 것 먼저 하는 것이라고 생각합니다.  가장창 시절에도 그런 과에서 동아리 수업에 여러서 있던요. 그 수업 들 들하고들을 다 그음에 교양 수업에 대한하는 되었습니다. 그렇게래도 제가 단계의 직무를 제가든 해야야 언제까지 끝내 시간처럼 더 더 시간이 시간을 할 해야 가지고 그 조사를 하고 그리고해야 되기 좋은 결과 얻을 수 있다고 때문에 저는 가장 단계의 직무를 수행하는 수 가장 가장 것들을\n",
            "경력상태: 신입 질문: 음 중국 출장이 좀 많아요. 괜찮겠어요. 답변: 중국 출장이 많다는 것은 제가 면접에 참여하기 전에 회사에 공개된 자료를 통해서 확인할 수 있었습니다. 저는 중국 지역에 대해서 익숙하지가 않고 중국어에 대한 에 익숙하지도 않습니다마는 만약에 제가 중국 출장을 다녀와야 되는 상황이 된다거나 저에게 그런 업무가 주어진다면 당연히 회사나 부서에서 팀에서 요구하고 있는 성과를 극대화하기 위해서 나름대로 노력을 하게 될 것 같습니다. 따라서 뭐 중국에 출장이 많은 것 자체가 저에게 문제가 된다기보다는 그 안에서 목표한 성과물을 충분히 도출하고 우리 회사에 도움이 되는 방향으로 제 업무를 어떻게 수행할 것인가를 고민하게 될 것 같은데요. 물론 초기부터 제가 주어진다면 당연히 제 능력 밖에 있기 때문에 좀 더 어 뒤에 좀 맡겨 달라고 요청을 드리겠지만 중국 출장 자체가 많은 것 주어지는 것 자체가 저에게 문제가 되지는 않습니다. 오히려 중국 출장을 통해서 제가 미진했던 경험 제가 경험하지 못했던 새로운 분야에 대해서 배울 수 있고 또는 전문성을 제고할 수 있다면 그 또한 좋은 기회로 인식을 하고 긍정적이고 적극적으로 대처할게 될 거라는 말씀을 드리고 싶습니다. 이상입니다. \n",
            "경력상태: 신입 질문: 지원 지원 시장에장이 조금 있을질 어괜찮으습니까요 네변: 네 출장장이 잦 것은 제가 중국관 합격했다는 위해서 이미 대한된 면접 통해 충분히 수 있는습니다. 저는 이어를 있는 잘하고 않았고 않 또어를 대한 거부 대한하지 않습니다.다만 제가에 제가 면접 출장을 가게올도 한다면 상황이 온다면 라고 아니면의 주어진 기회가 주어진다면 저 저 측 저에서 저장 저 있는 업무를 낼화할 위해서 저 열심히 할 될 것 같습니다. 저 저 중국 대한장을 잦 것은 보다는 저에게는 큰 되지다거나 제가 출 제가가 바가들을 달성하기 달성해 그 회사에 도움이 되는 그런 일을 역할을 수행 하면 수 고민하게 될 것 같데요. 만약 제가 제가 중국 업무를 저 그 역량을치를 일을 때문에 그 더 열심히 열심히 오는 더진 요청 할겠지만 제가 출이라는 저 것은 자체가 것은 자체가 저에게는 큰 되지지는 않을습니다.  저 출장을 통해서 제가 얻을숙한하게 부분도 가지고했던 못했던 것들을 경험 대해서 배울 수 있는 또 제가성을 기를할 수 있는 더 또한 저 기회회로 삼을 할 더적으로 긍정 임할 수 될 것라고 생각이을 드리고 싶습니다. 입니다. \n",
            "경력상태: 신입 질문: 본인이 지원한 분야에 대해 일 분 전도로 간략하게 자기소개해 보시겠습니까 답변: 본인이 지원한 분야에 대해 일 분 정도로 간략하게 소개해 보시겠습니까에 대한 부분은 제가 지원한 분야는 해외 영업에 중국 지역 전문가로서 신규 매출을 창출해야 되는 어 지금 업무를 갖고 있는 아 분야입니다. 저의 경우는 중국 난방지역 광동성 중심으로 한 심천과 동관 지역에서 아무 것도 없는 곳에 지사를 설립을 하고 그 지사 안에서 일할 인원들을 제가 직접 면접을 하여 채용을 하였으며 그 인원들과 함께 로칼 영업을 진행을 해서 미팅을 주선을 하고 그리고 씨를 형성한 후에 최종적으로는 신규 매출 창출을 이뤘던 경험을 가지고 있습니다. 매출 창출 뿐만 아니 아니라 그 매출로 인해서 발생한 미수금을 마지막까지 다 받아서 어 처리한 경험을 가지고 있기 때문에 현재 제가 지원한 이 분야 또한 그러한 일들을 해야 되는 걸로 알고 있습니다. 따라서 이 경 그 이전의 경험을 바탕으로 제가 지원한 분야에서도 개인적 역량과 협업을 통해서 여어 전체 회사의 이익을 위해서 할 수 있는 최적의 지원자라고 개인적으로 생각하고 있습니다. \n",
            "경력상태: 신입 질문: 지원 생각하는한 직무 있어서 잘 년 정도 십 설명해 설명해소개해 주세겠습니까 답변: 제가 지원한 분야에 대해 일 분 일 간략하게 제가해 보겠겠습니까. 대해서 저 제가 이한 분야에 제가 영업 쪽 관련된 시장입니다.입니다. 중국 영업 창출 창출하는 되는 부분 그런 현재 하고 있습니다. 부분 그런입니다. 어는 경우는 중국 상해 관련 관련산에서 심 어 중부천 심관 지역의 어래도 없는 심 가서사를 설립을 해서 그 지 설립을 중국 수들을 채용 직접 채을 보고서용을 하고 그 인원들을 함께 중국칼 영업을 진행을 하여 미수팅을 진행을어서 하고 그 그시를 통해서 후에 미수적으로는 미수 매출을을 위해서뤘습니다. 경험이 가지고 있습니다.  창출을 아니라면은 미수 인원을 인해서 미수 미수금 미수 미수 회수 회수 미수 미수 경험이 가지고 있습니다. 때문에 어 제가 지원한 분야는 분야에와 중국 경험이 통해서 되는 부분로 알고 있습니다.  저 분야에력과 부분에 경험을 바탕으로 해서 가지고한 이 또한 어 역량 그리고업을 통해서 어태 중국 매출 매출 창출 어 수 있는 역량을 역량을자라고 생각 생각을 있습니다. \n",
            "경력상태: 신입 질문: 일을 하다보면 상사와 좀 마찰이 생길 수가 있겠죠. 그때 상사가 혼을 낼텐데  기분이 많이 나쁠까요. 답변: 상사와 트러블이 생긴 생기는 건 당연한 것입니다. 그리고 상사에게 혼나면 기분이 나쁜 것도 당연한 것입니다. 하지만 저는 이렇게 생각합니다. 혼남과 트러블를 제 지양분으로 삼을 수 있다면 그것 또한 제 성장의 지름길이라고 생각합니다. \n",
            "경력상태: 신입 질문: 지원 하다 보면 영어로사와 트 트이 생길 수도 있죠 그럴 어 어떻게사가 혼내면 내면 수도데요괜분이 나쁘 나쁠 것요 어변: 일을사와 트러블이 생길다면 것은 당연한 일 하지만 저에게 혼이면 기분이 나 건 아니고 것입니다. 하지만 저는 상 혼합니다. 저나으로써 기러블이 겪때하고 삼 것입니다. 있는 저 또한 기 기준향 기회길이라고 생각합니다. 저\n",
            "경력상태: 신입 질문: 보통 시간 남으실 때 취미생활로 하시는 뭐 여가나 뭐 운동 뭐 그런 게 있으신다면 저한테 말씀해 주실 수 있나요 답변: 저는 시간이 남을 때 주로 바깥에 나가서 걸으면서 사람들을 관찰하는 일을 많이 합니다. 운동이나 이런 것도 굉장히 중요하는데 그거 외에 제가 뭔가 특별하게 남들과 다르게 하는 일이 그거라고 생각하기 때문에 말씀드리는 거고요. 제가 나가서 사람들을 관찰하는 이유는 아무 생각도 하지 않을 수 있기 때문입니다. 뭔가 저 사람의 신발 옷을 입은 것 어디를 걸어가는지 나이는 어느 정도 돼 보이는지 어떤 일을 할지 이런 것들을 궁금해 하고 그것을 제 스스로만의 답변을 찾는 것을 굉장히 좋 좋아하는데요. 제가 이런 일을 좋아하는 건 평소에 논리적인 부분을 굉장히 중요시하기 때문입니다. 뭔가 저 사람 입은 옷이나 뭐 이런 것들에서 직업을 유추할 수도 있고 걸음걸이나 이런 것들에서 이 사람이 바쁜지 아니면 여유롭고 어디 놀러가는지 이런 것들을 분석하는 걸 굉장히 좋아합니다. 이렇게 그 착장이나 뭐 걸음걸이나 헤어스타일 뭐 여러 가지 오늘의 상태 기분 같은 것들을 제 나름대로 추측해보면서 그것들을 논리정연하게 해서 이 사람을 탁 아 이 사람은 어떤 사람이구나 라고 논리적이\n",
            "경력상태: 신입 질문: 지원 시간이 관리를으실 때 무슨 생활을로 하는시는 편가 시간이 시간이 시간이 같은 이런 게 있으신가 말씀희 말씀해 주시실 수 있으요 답변: 저는 시간이 남을 때 주로 책을 나가서 걷으면서 걷 구경 것을 합니다. 합니다. 저 같은 노래 걸 좋아장히 좋아하지만요.중에 외에는 저 좋아하는뭔가 스트레스하게 좋아하는들이 어울 무언 취미 있다면거라고 생각합니다. 때문에 저드릴 거는요. 또 좋아하는서 걷 관찰하는 거 제가래도 없이 들지 않고 수 있기 때문에입니다. 제가뭔가 제가는 어떤이나 입고 것 같은서 가다니는 것 그리고 몇 정도인지서 것 이런 것을 하는 어떤 것들을 다해 하고 또 보고 눈으로도 생각으로답 해 것 좋아장히 좋아습니다.합니다.요. 그래서 만약 것들을 하는 이유는 제가 제가적으로 사고 굉장히 중요하게 여기는 때문입니다. 그래서가 제가는 저 옷이 어떤 이런 걸들에 어떤 찾는해 수 있고요.걸이이가 이런 걸들에서 어떤 사람이 어떤지를 걸 어떤 어떤로운 여유를러 가는지 이런 것들을 알 것도 굉장히 좋아합니다. 그래서 저거를각 이런 이런걸이이나 이런 스타일일 이런 이런 가지 것들을 날 이런분 이런 것들을 굉 스스로 분석을을면서 제가들을 분석적으로연하게 답 제가 사람이 판단하는 탁 이 사람이 이 사람구나 라는 생각을적으로게\n",
            "경력상태: 신입 질문: 지원자분이 업무 중 어떤 문제에 부딪쳤을 때 지원자분은 혼자서 해결하는 편인가요 아니면 여러 사람들에게 이야기를 해서 해결하는 편인가요 답변: 어 어떤 문제나 위기가 왔을 때 어 일단은 혼자 해결해 보려고 노력을 합니다. 어 그것이 인제 제한될 것 같으면 저는 과감하게 주변 사람들에게 헬프 요청을 하는 것이 자연스럽고 당연하다고 생각합니다. 분명 혼자 해결이 가능한데 이걸 주변 사람들한테 계속 의지하는 모습을 보인다면 그러면 저 주원은 혼자 해결 능력이 없는 것으로 보이는 그런 직원으로 보일 것이기 때문에 분명 일단은 혼자 해결을 해 보려고 하는 스타일입니다. 그래도 안됐을 시에는 이제 조금씩 조금씩 도움 요청 할 것 같습니다. 어 저는 모든 일에는 혼자 할 수 있는 일은 없다고 생각합니다. 또한 도움 요청을 한다고 해서 절대 챙피한 것도 아니고 하기 때문에 혼자서 해결했을 때 한 시간 걸릴 일이 어 주변 경험이 있거나 노하우가 있는 사람에게 도움을 받았을 때는 십 분 오 분 안에도 분명히 끝날 수 있을 것이라 생각합니다. 그래서 그런 것들을 유지하기 위해서는 누가 나에게 도움을 청했을 때 분명히 친절하게 해줘야 할 것이고 그래야 나중에 도움을 받을 수 있을 것 같습니다. 그런데 결론은 저는 주변 상대에게 요청해서 완만하게 해결하는 스타일이 강한 것 같습니다. 네 이상입니다. \n",
            "경력상태: 신입 질문: 지원자님 생각 중에 스케 스케 부딪쳤을 때 혼자자분 혼자 해결 편이인지요 아니면 여러 사람들에게 이야기를 하는 해결하는 편인가요 답변: 저 저 문제에 상황이 문제에 닥을 때 저 저단은 혼자 해결하는 보려고 하는 하는 어 그 어 어적인 때는 같습니다.은는 어 어 사람들에게 도움을스처럼 해서 편입죠스럽 어하다고 생각을합니다. 어 제가 해결할해야 가능 문제 어게 혼자 사람들에게한테 얘 얘하다 것은 보인다면 어 그는시는 그 해결할이 부족 것 보일 것 상황이종 보일 수 때문에 저 저단은 주변 해결할 할 보려고 노력을 것이입니다. 하지만 안 된을 때는 주변 주변 주변 주변도이 수 같습니다. 어 제가는 어 사람들이에는 혼자 하는 수 있는 일이 없다고 생각합니다. 왜냐하면 어 요청 할 해서 그 혼자겨하거나 일은 아니고 어 싫 어 해결하려고 때 그 두 정도 것 거의 한 사람들 많은 아니면하우가 있는 분 도움을 요청 때 어 분에서 분 정도에도 그 도움을 수 있다고 거 생각합니다.  저 경우에는 좀 위해서 어 시키 도움을 줄할 때 그 그절하게 도움을줄야 된다고 것이고 그야지 그 받을 때 있는 것이라고 같습니다.  그렇지론은 혼자는 혼자 사람들에게에게 도움을해서 도움을하게 도움을 편입일이다 편입 같습니다.  이상입니다. \n",
            "경력상태: 신입 질문: 어 일을 하게 되면 그 업무를 진행할 때 그 업무 시에 어떤 분쟁도 발생할 수 있겠죠 그렇게 어 분쟁이나 서로 이렇게 안 맞을 때 그런 어 그럴 때 본인만의 대처법이 있나요 그것에 대해서 말씀해 보세요 답변: 아무래도 저희는 디자인 분야에서 종사하고 있기 때문에 사람들의 객관적인 의견보다는 주관적인 의견도 많이 들어간다고 생각합니다. 물론 모두를 만족시킬 수가 없는 게 또 디자인이라는 생각을 하고 있습니다. 이렇기 때문에 저도 팀 플레이를 하면서 다양한 분쟁이 발생했던 적이 있는데요. 저는 보통 이 이걸 분쟁이라고 받아들이고 올바른 분쟁이라고 받아들이고 다툼이 없도록 우선 노력하는 편입니다. 상대방의 기분을 상하지 않게 해야 제가 상대방을 설득할 수 있다는 생각이고 상대방을 설득하기 위해 그 과정을 또한 그 과정 또한 노력을 하는 편입니다. 팀 플레이어와 좀 다툼이 있었던 경험이 있었는데 교수님은 저희 프로젝트를 크게 수정하길 바라셨고 저는 컨셉만을 지켜가면서 가져가고 싶었습니다. 그 결과 저는 이제 팀 플레이와 교수님 둘 다 설득해야 되는 방향이었는데요. 제가 제 의견들을 종합하고 모아서 열심히 고민하고 답변들을 고민해 본 후 제 진솔한 마음을 좀 전달했던 것 같습니다. 저희의 프로젝트에 이런 컨셉이 중요하다는 것을 상대방에게 설득시키기 위한 노력을 해서 대처해야 제 대처\n",
            "경력상태: 신입 질문: 지원 지원 하 되면 중국으로 지역에서 하 때 어 직무량이 분쟁이 분쟁이이나 발생할 수 있죠 어 된 업무 상황이 분쟁이 간의 분쟁이 좋은을 수도 어떻게 상황을 상황을 때 어떻게만의 대처법이 있으요 답 대해서 말씀해 주시세요 답변: 어래도 저는 어 업무 일을 있는 때문에 어 의견을 시각이나 객관적인 의견이들이 굉 들어다고 생각합니다. 그래서 저 아우시킬 수는 없 것은 디자인 다른 분야 것이 가지고 있습니다. 하지만기 때문에 저는 저원를 할 저 의견을 발생할한다고 적이 있습니다.요. 저는 그 팀럴럴 어떻게이라고 생각하지 있습니다. 해결이라고 생각 있습니다.이 일어나지 하는은 편입니다.  의견을분을 먼저하지 않게 하기지 원하는 배려할 수 있고 것을도요. 배려할 위해서는선 상대방의 거쳐야 거쳐야 과정 속에서 저 해야 편입니다.  플레이를 저 더이 있을 적이 있는데요.님 저에게 팀트를 진행 성공해셨 원셨고 저는 그펌을 고집보 진행을가 싶다습니다. 하지만 결과 저는 이 팀 플레이를 컨님의과의 다 만족을 하는 상황이성을요. 하지만 컨 의견을만 많이해서 저 저 진행을하고 그변을하는 해해서 보고 결과 저 의견심을한 답 담 더해 경험이 같습니다. 는 의견트는 대해서 의견셉을 반영하다는 것을 알게 잘을 위해 노력 많이 저했던겠 의견법이\n",
            "경력상태: 신입 질문: 유아이 지유아이 디자인이란 무엇이라고 생각하는지 설명해 주시겠습니까 답변: 일단 가 단순하게 직역하자면 유저 인터페이스 그래픽 유저 인터페이스로 알고 있습니다. 유아이 디자인은 아무래도 요즘 핸드폰 속에서 나오는 개체들이라고 많이 알고 있죠. 유엑스 유아이라는 말 단어가 생기고 뭐 프로덕트 디자이너들이라는 이야기도 생기고 있는 걸로 알고 있습니다. 그리고 이제 보편적으로 지유아이는 그것을 제외하고 나오는 모든 인터페이스라고 생각하는데요. 뭐 텔레비전에서 저희가 뭐 볼 수 있는 버튼이나 스위치들이라던지 아니면 컴퓨터에서 보여지는 이런 컨텐츠들 아이콘 이런 부분이 유아이 지유아이 디자인이라고 생각하는데요. 이 부분에서도 역시 가장 중요한 건 사용자 경험이라고 생각합니다. 왜 괜히 유엑스 유아이라는 게 한 단어로서 자리 잡은 게 아니라고 생각합니다. 저희가 사람들이 정말 이 화면 지아이 지유아이나 유아이를 이용할 때 편리함 둘째 치고 뭔가 당연한 것에 이끌리게 된다고 생각하거든요. 이런 익숙한 패턴들이나 편리함이 있다고 생각합니다. 그 속에서 사람의 행동 하나하나를 디자인하는 것이 유아이 지유아이 디자인이라고 생각합니다. \n",
            "경력상태: 신입 질문: 지원이 지유아이 디자인이란 무엇이라고 생각지 말씀 주시겠습니까 답변: 유아 유아독하게 어떤감하는면 유아저 인터페이이스라고 디자인저 인터페이스의 사용자 있습니다. 어이 지은 사용자가래도 사용자에드폰이나 많이 유들이 즉 생각들 있는데죠. 어저스 디자인이 것은 자체가 굉 그 유그래트라는가이라고 말이 있고 뭐 것로 알고 있는데 어 이제 유 사람들이유아이이는 이제 통해서 다른 것 것들이페이이스들이 알고합니다.요. 어 예를전을 나오는희가 볼 티 수 있는 화면튼이나 이런치 같은 이런든지 이런 뭐에서 저지는 화면 것들텐츠들 이런콘들 것들이 유이 디자인유아이 디자인이라고 생각합니다.요. 어게들은 이제나 중요한 것은 바로 인터이라고 생각합니다. 사용자가 이뭘찮은 유엑스 유아이가 말을 나왔 번에서 얘 잡 게 아니라 생각합니다. 는 이제 사용하는 많이게 안에유에서유아이이를 이런이 통해서 때 가장함을이나로는 이괜가 직관 것 대한려서 되는 생각합니다.죠요. 그래서 것들이 것을이 이런함 있어야 생각합니다. 게 사람들이 경험이나가 통해서하는 것이 바로이 디자인유아이 디자인이라고 생각합니다. \n",
            "경력상태: 신입 질문: 저희가 하는 일 중에 유아이 지유아이 디자인이라고 있지 않습니까 이 교과서에서 나오는 어떤 정의 말고 그 본인이 생각하시는 유아이 지유아이 디자인은 뭐라고 생각하시는지 좀 말씀해 주시겠습니까 답변: 유아이 지유아이 디자인이란 무엇이라고 생각하느냐에 대한 부분은 먼저 유아이와 지유아이의 차이점을 알아봐야 될 것 같습니다. 유아이란 유저 인터페이스 유아이는 사용자와 컴퓨터가 정보를 주고받기 위해 사용자와 프로그램이 상호 작용하는 프로그램의 일부분으로 사용자 인터페이스라 부릅니다. 핸드폰이나 컴퓨터 프로그램 내비게이션 같은 전자기기 등 시스템과 사용자 사이에서 의사소통을 목적으로 하는 사용 설명서의 일종이라 할 수 있습니다. 그러면 지유아이란 무엇인가. 그래픽 유저 인터페이스라 할 수 있습니다. 그래픽 유저 인터페이스는 사용자가 그래픽을 통해 컴퓨터의 정보를 교환하는 환경을 말합니다. 이전까지 사용자 인터페이스는 키보드를 통해서 명령어로 작업을 수행시켰다면 지유아이에서는 마우스 등을 이용해서 화면의 메뉴 중 하나를 선택하여 작업을 수행합니다. 간단하게 지유아이는 글자 뿐 아니라 화면에 아이콘을 띄어 마우스를 이용하여 화면에 있는 아이콘을 클릭하여 작업을 수행하는 방식입니다. 대표적으로 마이크로소프트의 윈도 애플의 웹 운용 체제 등을\n",
            "경력상태: 신입 질문: 지원희 일을 일의들이 가장이 지유아이 디자이라는 하는 않습니까 유아 유아적인 본 디자인 디자인에 다른 안에서 생각하는했을시는 디자이 디자유아이 디자은 무엇라고 생각하십지 말씀 말씀해 주세겠습니까 답변: 저이 지유아이 디자인인이란 어인 생각하는하 따라서 답 제가 유아이 지유아이가 차이점 말씀보고야 될 것 같습니다. 유아이는 말저 인터페이이스라고이 유자를 사용자의 상호 주고 받는 위해서 사용하는자를 컴퓨터가 상호 연 것을 줄종이 유아 인터페이스에 함은터는니다. 지드폰이나 컴퓨터 등으로에서도게이션 등 경우에는 기기 또는 다양한에 연 인터 상호통을 위한 하는 디자인자를서 유아입니다. 할 수 있습니다. 지 지유아이는 사용자가 라는 사용자가 디자이너저 인터페이이스 유아 할 수 있겠 지 유저 인터페스는 사용자가 원하는을 통해 정보를 정보를 주고 것을 의미합니다. 사용자가 유아 인터페스는 사용자가워드드를 통해 정보를어를 입력 하는했지만 지유아 디자인 컴퓨터우스를나 통해서 그래픽 크기를뉴를 키 선택 사용자의 수행하였  말하면유아이이는 사용자가 그대로만이 음성 메콘을 사용하여우고 아이우스를 사용하여 작업을 아이 메콘을 사용하여릭하여 아이 수행 것을입니다. 적으로 아이소프트의 윈도우슬의 경우 브라 체제 윈 들\n",
            "경력상태: 신입 질문: 지원자님이 지원하신 디자이너로서 앞으로 목표에 관해서 지원자님께서 한번 설명해 주시겠습니까 답변: 디자이너로서 앞으로 목표에 관해 설명을 부탁드리는 부분은 어 개인적으로 디자이너라는 부분은 당연히 어떤 물건을 디자인 어떤 물건이나 옷이나 따른 것들을 디자인해서 고객이 만족하는 부분들을 디자인하는 게 가장 중요하다고 생각을 합니다. 하지만 더 중요하다고 생각하는 거 그거는 그 디자인에도 나름대로의 원칙 원리 원칙이 있어야 한다고 생각을 하며 철학적인 부분들도 본인에 담겨있어야 된다고 생각을 합니다. 누구나 사람들이 좋아하는 것만 만들다 보면 자신이 왜 디자인을 하고 있는지에 대한 원래 자기가 본인 자신이 디자인을 할려고 하는 부분들이 온 철학적인 부분들이 전혀 없게 되는 경우를 많이 보아왔습니다. 현실과 타협을 하다보면 끝도 없이 타협을 하게 되구요. 그 타협에 범위 정도나 어느 런리 원칙 이외에는 타협이 없다고 생각을 하고 원리 원칙이나 철학적인 본인만의 부분들은 꼭 어 많이 있어야 된다고 생각을 합니다. 그래서 저 저의 앞으로의 목표는 저만의 디자인 철학과 원리 원칙을 명확히 세우는 부분이라고 할 수 있겠습니다. 아직도 정확한 저의 철학은 아이엔지 형이지만 그 부분이 저의 목표입니다. \n",
            "경력상태: 신입 질문: 지원자님 생각하신 직무가 가지고 어떤가 관해 말씀자님이께서 생각 말씀 주겠습니까 답변: 네로서 앞으로 저가 대해서 말씀 드리드립 거 어 제가 디자인을로서 직업 어 디자이너 디자인을 만드는하고 디자인을에 어떤에 어떤 것들을 디자인하는 그 원하는할 그런들을 디자인하는 부분 목표 중요하다고 생각을 합니다. 어 저 중요한 생각하는 부분은는거는 어 디자인하는 그 어떤과 원칙 있고 된다고 생각을 합니다. 그이 부분이라고 있어야인들이 어떤져어야 한다고 생각을 합니다. 그래서 다 원하는 그런 하는 수 보면은 원하는 이 해야 싶은지에 대한 의부터 원하는만의 원하는 하고 때 하는지에들이 굉전히적인 부분들이 온 없는 되는 경우가 많이 왔기 그래서 타협 하지다 보면 그도 없이 그 하게 되고더요. 그 결과점을 대한도도 그 정도룰칭너들이 그이 안 생각을 합니다. 있습니다. 원칙만 철학적인 부분만의 철학들을 항상 지켜야필 어 된다고 생각을 합니다.  저는는 목표는 목표는 어의 철학을 철학을 철학을 원칙을 가지고 하고 게들을 생각을 수 있겠습니다.  저 원칙만의 철학 없지만디어에 디자인에 어게 가장의 디자인에 \n",
            "경력상태: 신입 질문: 이직을 생각하는 동료에게 뭐라고 할 것인가 답변: 일단 이유를 먼저 물어볼 것 같습니다. 그 이유에 대해서 제가 할 대답이 달라질 것 같고요. 그래도 일단 결정이 된 상황이라면 그동안 업무적으로 지원을 해주어서 너무 고마웠고 이직 준비를 응원한다고 기본적으로 이야기해 줄 것 같습니다. \n",
            "경력상태: 신입 질문: 지원 직무 생각하는 동가 뭐라고 말씀 수요변: 이 이 물어 물어보 것 같습니다. 어 이유가에 대해서 먼저 왜 수을 있을 것 같요. 그 그 이 된다면이라면 저에에서 힘들 해셨 그 좋맙웠고 또직을하는 해원해 말씀 말씀 할 줄 것 같습니다. 어\n",
            "경력상태: 신입 질문: 지금까지 지내온 중에서 본인이 지원한 직무 분야와 관련된 경험 그런 것이 있으면 얘기해 주시겠습니까 알바도 좋고 또 자원 활동도 좋습니다. 답변: 저는 아무래도 공모전에 참여했던 것이 가장 유사 지금 직무와 유사한 경험이라고 생각하는데요. 기본적으로 아이디어를 많이 내기 위한 그런 디자인 공모전들도 많이 있지만 프리랜서들 사이에서 경쟁하는 공모전에 참여했던 적이 있습니다. 제가 디자인 관련 산업 디자인 전공을 하고 제품 디자인을 공부하고 있지만 일 학년 때 어떤 방향으로 공모전을 나가야 될지 헷갈리더라고요. 제품 디자인에 대한 툴이나 이런 것들이 공부가 안 되어 있다 보니까. 그래서 제가 선택한 게 브랜딩 공모전이었습니다. 로고와 간판을 만들어서 그 벡터 파일로 보내주는 공모전이었는데 제가 그 공모전에서 약 삼십 수를 했습니다. 제가 서른 번 정도의 시도를 했고 주변에서 너는 산업 디자이너고 제품 디자이너니까 못하는 게 당연한 거야 라는 말을 했는데 그 말을 듣는 게 굉장히 싫었습니다. 스스로 많은 것을 만들어 나가고 상대방을 이해하는 게 디자인이라고 생각을 하고 모든 디자인 분야에서 통용되어야 된다고 생각하고 있었습니다. 그래서 삼십 수 끝에 제가 많은 프로 프리랜서들 사이에서 우승을 한 경험이 있습니다. \n",
            "경력상태: 신입 질문: 지원 살아오면서 여러 가장 가장한 직무가와 잘 일을은 경험이 있 말씀기해 주시겠습니까 답를 해 아니면 영업봉사 좋습니 그런데변: 제가는 제가래도 영업전 나가했던 경험이 가장 기억했던 현재에 유사 경험이라고 생각을합니다.요. 저 제가 내고 내는 위해서 공모 공모 공모전이었 많이 해 저젠서 디자인 같은 굉력이 공모전 참여했던 경험이 있습니다. 저 디자인 공모해서 디자인 공모 했기 있었기 디자인 전공 있었기 디자인단은 때부터 공모 공모 디자인을전이 준비야 하는지 고뭔갈려라요. 그래서 디자인 대한 이해을 디자인 것들을 굉부가 되지 돼 있어서 보니까 저 그래서 저 디자인 디자인 바로랜딩 디자인전이었습니다. 그래서고 디자인판 디자인 브 간터들을일을 만들어서서 그런전이었는데요. 그 공모전에 정말 이백 퍼 준비습니다. 그래서 그른 다섯 정도 공모 해 그 저는 이 디자인가 저 디자인고 이 게 없 거다 라는 말을 들 저게 듣고 순간 굉장히 재미었습니다. 그래서도 고 배우고야 싶 설득 게 굉 공모 생각 했는데 그 것을은 제가되는 한다고 생각을 그습니다. 그래서 저 학년 수를라는 제가 그 것을포랜서들을 사이에서 경쟁 했 적이 있습니다. \n",
            "경력상태: 신입 질문: 면접자분 주변 친구들 중에서 한 명을 골라서 어 그 친구분의 어 장 칭찬을 부탁을 드리겠습니다 답변: 주변 친구들 중 한 명을 골라 칭찬해 보라는 얘기를 한다면 저는 고등학교 어 친구 중 한 명을 칭찬하고 싶습니다. 지금도 계속 지속적으로 만나고 있는 친구고요. 그 친구의 가장 큰 장점은 주위 사람들이 얘기를 하기 하기에는 어 잘 이야기를 들어줍니다. 그 이야기를 들어준다는 부분들이 어 저하고는 좀 상반된 부분이긴 한데요. 저의 경우는 사람들과 만나서 먼저 손을 내밀고 얘기를 잘 하는 편입니다. 따라서 그 친구의 경우에는 성격이 저같이 활발하거나 외향적이거나 그 대화를 주도하거나 강력한 카리스마가 있다던가 그런 부분은 아니지만 상대방이 어떤 고민이나 아니면 재미있게 얘기하는 부분들을 잘 들어줍니다. 따라서 그 친구 주위에는 항상 사람들이 많이 있었고요. 그리고 주위에서 평가도 사람들이 사람이 착한 사람이다 좋은 사람이다 라는 이미지가 되게 강합니다. 따라서 저의 경우는 영업을 진행을 하며 먼저 얘기를 하는 부분들이 많았기 때문에 그 친구를 보면서 저도 들어주는 부분들도 일부분 어 해야 된다고 생각을 하면서 지금도 그렇게 할려고 노력을 합니다. 두 마디 할 거면 한마디만 하고 한마디는 하기 할 시간에 상대방의 얘기를 들어주려 노력합니다. \n",
            "경력상태: 신입 질문: 지원자님께서는 친구들 중 한 명을 골라서 칭찬 칭찬 친분을 칭찬 칭찬점과을 해드 해겠습니다 구체변: 제 친구들 중에 한 명을 골라 칭찬을 주세라고 질문을기를 해 저는 제 때 동창 한 한 명을 골라해 싶습니다. 그 그 그 연락을고 있는 친구인데 또 그 친구는 장점은 큰 장점은 어에서 저기 할보다는더 굉 굉 들어 들어주고니다. 그리고 친구 들어주다는 것은인데 굉 저의 굉 다른 부분 있는데 하지만요. 어는 가장 어 이야기를서 이야기를 이야기를 내밀고 이야기를기를 하는 들어 편니다. 그리고 그 친구구는 이야기를 어 굉와 좀하고 어향적인 어 친구 잘적으로 하는 어리스마를 있는기보다는가 아니면 부분 저 어 저 말을이나 어떤 어떤에 얘기를하는 부분에들을 잘 들어줍니다. 그리고 그 친구도 어 어 저 있습니다.요. 그 그 사람들이 저도 좋 많이기 사람다 라는 사람이다 라는 얘지가 굉 많이합니다. 그래서 그는 친구 그 할 할 그 다가기를 하고 편들이 굉고 때문에 그 친구 칭찬 저도 그주고 부분이들이 있고씩필을겠 생각을 합니다. 그 그 하고려고 노력을 하고  번째는로 수 없이 어라도 들어 그 마디 꼭 때문에려고 한 얘기를 들어주면서 노력을합니다. \n",
            "경력상태: 신입 질문: 귀하는 업무 중 팀원과 불화가 생긴다면 어떻게 해결하시겠습니까 그것에 대해서 말씀해 주세요 답변: 팀원과 불화가 생긴다면 어떻게 해결해야 될까라는 부분에 대해서는 기본적으로 협업을 진행한다든가 팀 내에 어떤 조직 사회 조직 생활을 하다보면 팀원과의 불화가 생기는 부분은 피할 수 없을 것 없던 것 같습니다. 저의 경우는 팀원과 불화가 생기면 그런 부분에 대해서 원인을 일단 파악을 하고요. 당연히 그 원인에 대해서 같이 대화를 나누고 불화가 생겼던 이유라든지 그러한 부분들을 해소를 하려고 노력을 했던 것 같습니다. 무조건 사람이 싫다든가 팀원이 무조건 말을 안 듣는다면 그거는 당사자만이 해결할 수 있는 부분은 아니라고 생각을 합니다. 회사를 팀원과의 불화가 생기면 팀원도 힘들겠지만 심적으로는 저 또한 힘들어졌던 기억을 가지고 있습니다. 이 부분이 해결되지 않으면 결국은 퇴사를 하는 상황이 발생을 하고요. 일반적으로는 상사가 퇴사를 하는 경우보다는 팀원이 퇴사를 하고 회사 입장에서도 당연히 손해를 보는 부분들이 있기 때문에 그 인원과는 여러 가지 상황으로 대화를 나눠보고 그 상황에 대해서는 본인도 어느 정도 인지를 해서 그런 부분들이 에 다시 한번 계속 대화를 통해서 해결했던 생각 경험을 가지고 있습니다. \n",
            "경력상태: 신입 질문: 지원하 아이 특성상 스케원과 불화가 생긴다면 어떻게 해결하겠습니까 해결 해결 해결해 주세요 답변: 팀원과 불화가 생긴다면 저 해결하시 하는지요. 질문을 대해서 저 저업을 하는해야 라고 아니면원 어떤 팀이나생활 내에서 하는다 보면 당연히원과의 불화가 생길 경우가 굉 수 없는 것 같 부분 같습니다. 왜냐하면는 경우에는 팀원 불화가 생긴 그 부분 대해서 먼저 파악 파악을 하고 그 그 그 원인이 대해서 서로 대화를 통해서 그화가 생긴다는 이유에든가 그 부분들에 서로소를 해 노력을 할 것 같습니다. 하지만적으로 사람어서 라고 아니면원 싫 싫 하는 한다다 그거는 그 간의 아니라 수 있는 문제 아니라고 생각을 합니다. 그래서 위해서원과의 불화가 생긴 그원 싫고지만 저적으로 굉도 힘들질 것이 가지고 있습니다. 그래서럴 해결이 않으면 저 팀사를 할 경우가 올 할요. 그 팀사와 저사를 하는 경우가들이 팀원이 퇴사를 하는 나서에서도에서도 저 퇴 보는 경우가들이 발생을 때문에 저 부분에들과의 조금 가지 대화를들을 인 통해서서 그리고 부분에 대해서 서로부장 충분히 정도 이해를지를 하고 그 부분들을 해결 해결 한 생각을 대화를 나눠 풀이 것들이 가지고 있습니다. \n",
            "경력상태: 신입 질문: 사내 스터디에서 어떤 것을 공부하고 싶으세요 답변: 사내의 스터디에서 어떤 것을 공부하고 싶은지에 대한 부분은 가장 제가 관심이 있어 하는 부분은 언어적 부분과 역사 부분 운동 부분 그리고 여행 부분입니다. 사내 스터디 쪽에서 연어가 언어가 되 부분이 있다고 한다면 저는 영어 중국어 일본어 이외에 따른 언어 스페인어나 딴 언어를 공부를 하고 싶습니다. 업무와 관련된 부분이라면 당연히 영어 중국어 일본어에서 선택을 해서 그 부분을 좀 더 발전시키고자 할 것입니다. 만약에 운동 부분이 있다면 저는 개인적으로는 헬스와 아 농구 탁구 볼링을 아 예전부터 계속해왔습니다. 이 부분이 하나 있다면 이 부분 중에 선택을 해서 계속 친목을 도모하고 신체를 어 닦는 부분을 계속 하고 싶습니다. 여행 동아리가 있다면 제가 이 시 현재까지 이십여 개 국을 돌아다닌 경험을 바탕으로 따른 국내든 해외든 관련된 여행을 하면서 볼 수 있는 그런 부분들을 계속하고 싶습니다. 마지막으로 역사 관련된 부분에 동아리가 있다면 스터디가 있다면 그 역사 관련된 특히 어 불교 미술사 사찰 쪽이나 문화유산 해설 관련된 부분들을 계속 공부하고 싶습니다. \n",
            "경력상태: 신입 질문: 지원 스터디를 모임을 공부 것을 공부하고 싶으신요 그렇다면변: 사내내에서 스터디를 그룹 어떤 것을 공부하고 싶지 대한 이유 저 중요한 하고 있는 하는 부분 어 부분 언어 부분입니다. 부분입니다. 어 부분입니다. 저 스터디에서 가장습을 가장 가장면은 가장 하면 저는 스페인 회화 일본 중국어 다른 언어들을어 중국어 나라 공부하고 하고 싶습니다. 스페인 관련된 부분이라면 저 스페인 중국어 일본어를 공부를 할 공부를 언어를 공부를 더 공부를시키고 하는 것 하지만에 제가 부분 있다면 저는 스페인적으로는 운동을스 관련된침을 그리고구 볼링을 좀 운동을전부터 해 해기 그래서 운동을 저 더 저 부분들은 저 해서 저 공부를목을 다 싶 단련 단련 데 좀하고 싶습니다.  같은리에서 있다면 저 좋아하는 부분을니어 여행을십 년 년국을 여행을봤 경험이 가지고 여행 나라 여행 해외든 상관없이 부분 다니면서 그링 있는 부분 부분들을 좀 해 싶습니다.  역사 부분 부분 대해서는리는 있다면 저터디 있다면 저 부분에 관련된 부분을 역사 관광 관련된 관련된이나 관련된 이런산 쪽사 부분들을 좀 공부를 싶습니다. \n"
          ]
        },
        {
          "name": "stderr",
          "output_type": "stream",
          "text": [
            "Validation Epoch 2: 100%|██████████| 502/502 [04:14<00:00,  1.97it/s, loss=2.4281]\n"
          ]
        },
        {
          "name": "stdout",
          "output_type": "stream",
          "text": [
            "calculating scores...\n",
            "computing bert embedding.\n"
          ]
        },
        {
          "data": {
            "application/vnd.jupyter.widget-view+json": {
              "model_id": "abe8d43bcc874dd9886ddd6350c69436",
              "version_major": 2,
              "version_minor": 0
            },
            "text/plain": [
              "  0%|          | 0/251 [00:00<?, ?it/s]"
            ]
          },
          "metadata": {},
          "output_type": "display_data"
        },
        {
          "name": "stdout",
          "output_type": "stream",
          "text": [
            "computing greedy matching.\n"
          ]
        },
        {
          "data": {
            "application/vnd.jupyter.widget-view+json": {
              "model_id": "ab0f2621e2af4d44a27d3e8d9bb3cb65",
              "version_major": 2,
              "version_minor": 0
            },
            "text/plain": [
              "  0%|          | 0/126 [00:00<?, ?it/s]"
            ]
          },
          "metadata": {},
          "output_type": "display_data"
        },
        {
          "name": "stdout",
          "output_type": "stream",
          "text": [
            "done in 280.84 seconds, 28.58 sentences/sec\n",
            "Epoch 2 Average Validation Loss: 2.1352\n",
            "Epoch 2 Average Validation BLEU: 0.9555\n",
            "Epoch 2 Average Validation ROUGE: {'rouge1': 0.36236436307108677, 'rouge2': 0.10847532377880546, 'rougeL': 0.28901130195701036}\n",
            "Epoch 2 BERTScore Precision: 0.7837\n",
            "Epoch 2 BERTScore Recall: 0.7732\n",
            "Epoch 2 BERTScore F1: 0.7784\n",
            "Saving best model with validation loss: 2.1352\n"
          ]
        },
        {
          "name": "stderr",
          "output_type": "stream",
          "text": [
            "Training Epoch 3: 100%|██████████| 4255/4255 [1:30:06<00:00,  1.27s/it, loss=2.3614]\n"
          ]
        },
        {
          "name": "stdout",
          "output_type": "stream",
          "text": [
            "\n",
            "Epoch 3 Average Training Loss: 2.1036\n"
          ]
        },
        {
          "name": "stderr",
          "output_type": "stream",
          "text": [
            "Validation Epoch 3:   0%|          | 1/502 [00:00<04:37,  1.81it/s, loss=2.8334]"
          ]
        },
        {
          "name": "stdout",
          "output_type": "stream",
          "text": [
            "경력상태: 신입 질문: 해당 직무와 관련한 자신이 강점이라고 생각하시는 것에 대해 경험을 빗대어 어떤 경험이 있으신지 어 그런 것들을 해서 세부적으로 말씀해 주시기 바랍니다 답변: 해외 직무와 관련한 저만의 강점이라고 한다면 저는 해외 쪽 인원들과 관련된 어 해외 언어 능력이라고 말씀드릴 수 있겠습니다. 저의 경우는 중국 상해 지역에 오 년 동안 유학생활을 경험을 했으며 그 영업 동안 유학생활 동안 일본어와 영어를 같이 공부를 해서 자유 어느정도 자유자재로 어 구사할 정도의 수준을 가지고 있습니다. 특히 언어 뿐만이 아니라 이 년 이 년 간은 신 심천사무소에서 지사장으로 로컬 영업을 진행을 하였으며 신규 영업을 창출하고 미수금까지 회수하는 지사장 팀 리더로서 근무를 한 경험을 가지고 있습니다. 물론 저보다 중국어나 다른 외국어를 잘하는 인원들은 많을 것이라 생각을 합니다. 하지만 해외 해외 영업에서 가장 중요한 무에서 유를 창출해서 영업 매출로 이어지고 그런 부분들을 직접 미수금까지 챙기는 일련의 과정들을 경험한 경험해 본 사람은 많지 않으리라 생각을 합니다. 따라서 저의 강점은 무에서 유를 창출해내는 영업 매출을 일으키는 능력이라 할 수 있겠습니다. \n",
            "경력상태: 신입 질문: 지원 직무에 관련된 일을 있이나 생각하는하시는지 대해 말씀 말씀대어 말씀 식으로 있는지으신지 말씀 말씀 경험을 말씀 설명해적으로 설명해해 주시시기 바랍니다 답변: 저 영업에 관련된 저의 강이라고 생각하는 저는 어 영업 관련된들과 소 업무를 업무를 영업들을들을 생각드리고 수 있겠습니다. 어는 경우는 어어를에서 있는 년간 동안 유학 생활을 진행을 했 그 당시에적인 어 생활 동안 어어와 영어를 자유롭게 사용할 했 어자 정도 의사소자재로 구사 구사할 수 능력을 가지고 있습니다. 그리고 중국적인만이 아니라 중국 중국 동안 년 동안 미국에서 중국 중화천 지역에서소에서 어장으로 근무칼 영업을 진행을 하면서 그 영업 진행을하는 신규금 회수 처리하는하는 일련의장으로서 역할을장으로서로서의 역할을 하면서 경험이 가지고 있습니다.  영업의 더어를 영어를 언어를어를 잘하는 사람이들도 많지 것입니다. 생각 합니다. 하지만 저 영업 영업에 제가 중요한 것은기는 유를 창출하는 그 매출을 이어지는 있는 매출들이 통해서 경험금까지 회수기는 부분 과정들을 통해서 바들이 본 저 많지 않을습니다. 생각을 합니다. 따라서 저는 이러한점은 해외에서 유를 창출하는 능력력 창출 일으키는 그런이라고 생각 수 있겠습니다. \n",
            "경력상태: 신입 질문: 회사 생활을 하시다 보면 단계가 여러 단계가 있는데 여러분이 가장 빠르게 윗 단계인 즉 상위 단계에 직무를 수행할 수 있는 방법이 있다면 무엇입니까 답변: 가장 빠르게 높은 단계의 직무를 수행할 수 있는 방법은 가장 낮은 걸 빠르게 끝내 놓는 놓아야 한다고 생각합니다. 아무래도 일에 작고 크면 있어 시간 분배는 올바른 일을 진행하는 데 굉장히 중요한 순서라고 생각하는데요. 저는 먼저 중요하지 않거나 조금 자잘 자잘 고래한 일들을 모두 끝내 놓고 가장 상위 단계 일을 하는 편입니다. 이런 그 일을 하지 않고 상위 단계를 먼저 하게 된다면 그 상위 단계를 가장 빠르게 수행할 수 있을지 모르겠지만 명확하고 정확한 결과를 얻어내는 것은 굉장히 어렵다고 생각합니다. 아무래도 스케줄 사항 가장 마지막으로 밀려있고 넉넉한 여유와 그 앞에서 이제 작은 프로젝트를 하면서 또 얻어오는 많은 것들이 있기 때문에 가장 빠르고 명확하게 상위 단계의 직무를 수행할 수 있는 방법은 작은 단계를 먼저 구성하는 것이라고 생각합니다. 제가 학창 시절에도 교양 수업과 전공 수업으로 나눠져 있었는데 항상 교양 수업을 먼저 과제물들을 처리하고 그다음에 전공 수업에 집중하게 되었습니다. 아무래도 상위 단계의 일은 언제까지 끝내거나 언제까지 이라는 말보다 좀 더 많은 시간을 가지고 여유를 가지고 자료조사를 하고 진행하면 더 좋은 결과를 얻을 수 있기 때문에 저는 상위 단계 직무를 수행할 때 먼저 작은\n",
            "경력상태: 신입 질문: 지원 생활을 하다 보면 여러 올라갈 가지 있는데요 가지 생각할 어려울 업무를 단계에인 개발 사 단계의 있다고 수행할 수 있는 방법이 있다면 그것이입니까 답변: 제가 빠르게 상위 단계의 직무를 수행할 수 있는 방법은 바로 빠른 단계의로 하는야 것입니다.치는 된다고 생각합니다. 그래도 제가 있어서 작은기도 클수록 가지고도가 굉 방법이 할 데 있어서장히 중요한 요소라고 생각합니다.요. 그렇기는 이러한 제가 않은 중요하지 더잘한잘한도 일 빠르게 다 놓고 그 중요한 단계의인 하는 데니다. 그렇게 식으로 과정을 할 않고서는 단계의 진행 진행 된다면 그 일을 단계의 할 빠르게 끝 수 있는 것이라고 없을지만 그 확실하게 일 도출낼 데 어렵장히 어렵다고 생각합니다. 그렇기래도 제가줄에이나 중요한 중요한나는 가장한 시간건을 시간을 여 일을 일을 일트를 진행 그 그낼 성취 정보 있기 때문에 저 빠르게 가장 업무를 단계의 직무를 수행할 수 있는 방법은 바로 것 빠르게 하는 것이라고 생각합니다.  생각창 시절에 때 이런 과에서 같은 수업에서 나눠서 있던요. 그 수업 들 들하고들을 다 그음에 교양 수업들을 대한하는 된습니다. 그렇게래도 저 단계의 직무를 제가든 해야야 할까지 끝내 기준이보다는 더 더 시간이 시간을 할 있어야 가지고 공부를 조사를 하고 그해야 되기 좋은 결과를 얻을 수 있다고 때문에 저는 이런 단계의 직무를 수행하는 수 가장 그 단계\n",
            "경력상태: 신입 질문: 음 중국 출장이 좀 많아요. 괜찮겠어요. 답변: 중국 출장이 많다는 것은 제가 면접에 참여하기 전에 회사에 공개된 자료를 통해서 확인할 수 있었습니다. 저는 중국 지역에 대해서 익숙하지가 않고 중국어에 대한 에 익숙하지도 않습니다마는 만약에 제가 중국 출장을 다녀와야 되는 상황이 된다거나 저에게 그런 업무가 주어진다면 당연히 회사나 부서에서 팀에서 요구하고 있는 성과를 극대화하기 위해서 나름대로 노력을 하게 될 것 같습니다. 따라서 뭐 중국에 출장이 많은 것 자체가 저에게 문제가 된다기보다는 그 안에서 목표한 성과물을 충분히 도출하고 우리 회사에 도움이 되는 방향으로 제 업무를 어떻게 수행할 것인가를 고민하게 될 것 같은데요. 물론 초기부터 제가 주어진다면 당연히 제 능력 밖에 있기 때문에 좀 더 어 뒤에 좀 맡겨 달라고 요청을 드리겠지만 중국 출장 자체가 많은 것 주어지는 것 자체가 저에게 문제가 되지는 않습니다. 오히려 중국 출장을 통해서 제가 미진했던 경험 제가 경험하지 못했던 새로운 분야에 대해서 배울 수 있고 또는 전문성을 제고할 수 있다면 그 또한 좋은 기회로 인식을 하고 긍정적이고 적극적으로 대처할게 될 거라는 말씀을 드리고 싶습니다. 이상입니다. \n",
            "경력상태: 신입 질문: 지원 지원 출장이 조금 자주질 어괜찮으습니까요 네변: 중국 출장이 많다는 것은 저 중국을 합격했다는 위해서 이미 대한된 면접 통해 중국 수 있는습니다. 저는 중국어를 있는 잘하지 않은 않 중국어를 대한 거부 대한하지 않은습니다.다만 제가에 제가 면접 출장을 가게오게도 한다면 상황이 온다면 라 아니면의 주어진 기회가 주어진다면 저 저에서도 저에서 저장 저 있는 업무를 내야화할 위해서 저 열심히 할 될 것입니다. 같습니다.  저 중국 대한장을 많다는 것은 보다는 저에게는 큰 되지다거나 회사의 회사의 제가하는 바가나 내기 이룰해 또 회사가 대한 되는 그런 일을 역할을 수행 수행 것인지 고민하는 될 것 같데요. 만약 제가 중국 중국 업무를 저 그 업무를 안에서 일을 때문에 그 더 열심히 열심히 있는 더진 말씀 할겠지만 저 출이라는 저 것은 만큼 것은 자체가 저에게 큰 되지지는 않을습니다.  저 출장을 통해서 제가 좀팅했던 부분들을 잘들을 못했던 것들을 경험 대해서 좀 수 있는 또 새로운성을 키할 수 있는 저 또한 저 기회회로 삼을 할 열심히적으로 긍정 임할 수 될 것라고 생각이을 드리고 싶습니다. 감사입니다. \n",
            "경력상태: 신입 질문: 본인이 지원한 분야에 대해 일 분 전도로 간략하게 자기소개해 보시겠습니까 답변: 본인이 지원한 분야에 대해 일 분 정도로 간략하게 소개해 보시겠습니까에 대한 부분은 제가 지원한 분야는 해외 영업에 중국 지역 전문가로서 신규 매출을 창출해야 되는 어 지금 업무를 갖고 있는 아 분야입니다. 저의 경우는 중국 난방지역 광동성 중심으로 한 심천과 동관 지역에서 아무 것도 없는 곳에 지사를 설립을 하고 그 지사 안에서 일할 인원들을 제가 직접 면접을 하여 채용을 하였으며 그 인원들과 함께 로칼 영업을 진행을 해서 미팅을 주선을 하고 그리고 씨를 형성한 후에 최종적으로는 신규 매출 창출을 이뤘던 경험을 가지고 있습니다. 매출 창출 뿐만 아니 아니라 그 매출로 인해서 발생한 미수금을 마지막까지 다 받아서 어 처리한 경험을 가지고 있기 때문에 현재 제가 지원한 이 분야 또한 그러한 일들을 해야 되는 걸로 알고 있습니다. 따라서 이 경 그 이전의 경험을 바탕으로 제가 지원한 분야에서도 개인적 역량과 협업을 통해서 여어 전체 회사의 이익을 위해서 할 수 있는 최적의 지원자라고 개인적으로 생각하고 있습니다. \n",
            "경력상태: 신입 질문: 지원 창의한 직무 대해 가장 년 정도 십 자세하게 설명해소개서를 주실겠습니까 답변: 저 지원한 분야에 대해 일 분 일 간략하게 자기해 보겠겠습니까. 대한 저 제가 이한 분야가 어 영업 쪽 관련된 심 영업로서 중국 영업 창출 창출하는 되는 부분 그런 현재 하고 있습니다. 부분 그런입니다. 어는 경우는 중국어를 관련 관련동성 심 한 중부천 동관 지역의 어 것도 없는 곳에서 지사를 설립을 하고 그 지 설립을 매출 인원들을 채용 직접 채을 보고서용을 하였으며 그 인원들과 함께 로칼 영업을 진행을 하였으며 미수팅을 주선선을 하고 그 그시를 통해서 후에 미수적으로는 미수 매출을을 진행을뤘습니다. 경험이 가지고 있습니다.  창출을 아니라면은 미수 인원을 인해서 미수 미수금 미수 미수 회수 회수 미수 미수 경험이 가지고 있습니다. 때문에 어 제가 지원한 분야는 분야에와 중국 경험이 통해서 되는 그런로 알고 있습니다.  저 분야에력과 매출 경험을 가지고 해서 가지고한 분야에 또한 어 역량을량 역량을업을 통해서 어태 중국 매출 매출 창출 어 수 있는 역량을 역량을자라고 생각 생각을 있습니다. \n",
            "경력상태: 신입 질문: 일을 하다보면 상사와 좀 마찰이 생길 수가 있겠죠. 그때 상사가 혼을 낼텐데  기분이 많이 나쁠까요. 답변: 상사와 트러블이 생긴 생기는 건 당연한 것입니다. 그리고 상사에게 혼나면 기분이 나쁜 것도 당연한 것입니다. 하지만 저는 이렇게 생각합니다. 혼남과 트러블를 제 지양분으로 삼을 수 있다면 그것 또한 제 성장의 지름길이라고 생각합니다. \n",
            "경력상태: 신입 질문: 지원 하다 보면 영어로사와 트 트이 생길 수 있는데죠 그럴 그럴는사가 혼내면 내면 수도데요괜분이 나 상하쁠 것요 그럴변: 일을사와 트러블이 생길다면 것은 당연 일 상 상에게 혼이면 기분이 나 건 당연한 것입니다. 하지만 저는 상 생각합니다. 상나는이라는 동시에러블이 크게 기하고 삼 것입니다. 있습니다. 저 또한 기 능력향 기회길이라고 생각합니다. 상\n",
            "경력상태: 신입 질문: 보통 시간 남으실 때 취미생활로 하시는 뭐 여가나 뭐 운동 뭐 그런 게 있으신다면 저한테 말씀해 주실 수 있나요 답변: 저는 시간이 남을 때 주로 바깥에 나가서 걸으면서 사람들을 관찰하는 일을 많이 합니다. 운동이나 이런 것도 굉장히 중요하는데 그거 외에 제가 뭔가 특별하게 남들과 다르게 하는 일이 그거라고 생각하기 때문에 말씀드리는 거고요. 제가 나가서 사람들을 관찰하는 이유는 아무 생각도 하지 않을 수 있기 때문입니다. 뭔가 저 사람의 신발 옷을 입은 것 어디를 걸어가는지 나이는 어느 정도 돼 보이는지 어떤 일을 할지 이런 것들을 궁금해 하고 그것을 제 스스로만의 답변을 찾는 것을 굉장히 좋 좋아하는데요. 제가 이런 일을 좋아하는 건 평소에 논리적인 부분을 굉장히 중요시하기 때문입니다. 뭔가 저 사람 입은 옷이나 뭐 이런 것들에서 직업을 유추할 수도 있고 걸음걸이나 이런 것들에서 이 사람이 바쁜지 아니면 여유롭고 어디 놀러가는지 이런 것들을 분석하는 걸 굉장히 좋아합니다. 이렇게 그 착장이나 뭐 걸음걸이나 헤어스타일 뭐 여러 가지 오늘의 상태 기분 같은 것들을 제 나름대로 추측해보면서 그것들을 논리정연하게 해서 이 사람을 탁 아 이 사람은 어떤 사람이구나 라고 논리적이\n",
            "경력상태: 신입 질문: 지원 시간이 관리를으실 때 무슨 생활을로 하고시는 일이 어떤 시간이 시간이 시간이 같은 이런 것들이 있으실가 말씀희 말씀해 주시실 수 있으요 답변: 저는 시간이 남을 때 주로 운동을 나가서 자전으면서 어 만나는 일을 합니다. 합니다. 어도 등산 것들을 물론장히 좋아하지만요.중에 외에도 저 좋아하는뭔가 새로운하게 좋아하는들이 다른 무언 거 있다면게라고 생각을합니다. 때문에 저드리릴 게고요. 또 좋아하는서 걷 관찰하는 일을 제가래도 없이 하지 않고 수 있기 때문에입니다. 그래서가 새로운의 생각이나 사 것 같은서 가다니는 것 어떤 몇 정도인지서지 이런 옷을 하는 어떤 것들을 좀해 하기 그런 궁금 눈으로에게 방식으로답 해 것 좋아장히 좋아습니다.합니다.요. 그래서 이렇게 것들을 하면서 이유는 아니지만 제가적으로 답 굉장히 많이하는 때문에입니다. 그래서가 논리의만의 옷이 이런 이런 것들을들에 어떤 찾는해 수 있고요.걸이이나 이런 것들을들에서 어떤 직업 어떤쁘데 아니면 어떤로운 여유를러가는지 이런 것들을 알 것도 굉장히 좋아합니다. 그래서 저 사람의각 이런 이런걸이이나 이런 스타일을 이런 이런 가지 것들을 날 이런분 이런 것들을 분석하는 스스로 분석을해면서 저들을 분석적으로연하게 답 저 사람이 분석탁 이 사람 이렇게 사람인구나 라는 생각을적으로게\n",
            "경력상태: 신입 질문: 지원자분이 업무 중 어떤 문제에 부딪쳤을 때 지원자분은 혼자서 해결하는 편인가요 아니면 여러 사람들에게 이야기를 해서 해결하는 편인가요 답변: 어 어떤 문제나 위기가 왔을 때 어 일단은 혼자 해결해 보려고 노력을 합니다. 어 그것이 인제 제한될 것 같으면 저는 과감하게 주변 사람들에게 헬프 요청을 하는 것이 자연스럽고 당연하다고 생각합니다. 분명 혼자 해결이 가능한데 이걸 주변 사람들한테 계속 의지하는 모습을 보인다면 그러면 저 주원은 혼자 해결 능력이 없는 것으로 보이는 그런 직원으로 보일 것이기 때문에 분명 일단은 혼자 해결을 해 보려고 하는 스타일입니다. 그래도 안됐을 시에는 이제 조금씩 조금씩 도움 요청 할 것 같습니다. 어 저는 모든 일에는 혼자 할 수 있는 일은 없다고 생각합니다. 또한 도움 요청을 한다고 해서 절대 챙피한 것도 아니고 하기 때문에 혼자서 해결했을 때 한 시간 걸릴 일이 어 주변 경험이 있거나 노하우가 있는 사람에게 도움을 받았을 때는 십 분 오 분 안에도 분명히 끝날 수 있을 것이라 생각합니다. 그래서 그런 것들을 유지하기 위해서는 누가 나에게 도움을 청했을 때 분명히 친절하게 해줘야 할 것이고 그래야 나중에 도움을 받을 수 있을 것 같습니다. 그런데 결론은 저는 주변 상대에게 요청해서 완만하게 해결하는 스타일이 강한 것 같습니다. 네 이상입니다. \n",
            "경력상태: 신입 질문: 지원자님 생각 중에 스케 스케 부딪쳤 때 혼자자분 혼자 해결 편이인지요 아니면 여러 사람들에게 이야기를 하는 해결하는 편인가요 답변: 저 저 문제에 상황이 문제에 닥을 때 저 저단은 저 해결하는 보려고 하는 하는 어 왜냐하면 어 뭐적인 수 같습니다.은는 혼자 어 사람들에게 도움을퍼나 합니다. 편입죠스럽 어하다고 생각을합니다. 어 제가 해결할해야 가능 문제 어게 혼자 사람들에게한테 얘 얘하다 것은 보인다면 어 어는 저 어 해결이 없 것 어 그런 상황이면을 보이게 수 때문에 저 저단은 주변 해결 하려고 보려고 노력을 그런입니다. 어 안 된을 때는 어 주변 주변 주변의이 수 같습니다. 어 그리고 혼자 혼자 일을에는 혼자 해결 수 있는 일이 없다고 생각합니다. 어 어 요청 할 해서 그 혼자피하거나 일은 아니고 어 싫 어 해결하려고 때 더 두 두 수 몇 한 사람들 많은 아니면하우가 있는 분 도움을 요청 때 어 분 정도 분 정도에도 해결 도움을 수 있다고 거 생각합니다. 그래서 저 식으로 통해서 위해서 어 도와 도움을 줄할 때 그 그절하게 도움을줄야 된다고 것이고 그야지 그 받을 수 있는 것이라고 같습니다.  그렇지론은 혼자 혼자 혼자 사람들에게에게 도움을해서 그하게 해결 편입일이다 편입 같습니다.  이상입니다. \n",
            "경력상태: 신입 질문: 어 일을 하게 되면 그 업무를 진행할 때 그 업무 시에 어떤 분쟁도 발생할 수 있겠죠 그렇게 어 분쟁이나 서로 이렇게 안 맞을 때 그런 어 그럴 때 본인만의 대처법이 있나요 그것에 대해서 말씀해 보세요 답변: 아무래도 저희는 디자인 분야에서 종사하고 있기 때문에 사람들의 객관적인 의견보다는 주관적인 의견도 많이 들어간다고 생각합니다. 물론 모두를 만족시킬 수가 없는 게 또 디자인이라는 생각을 하고 있습니다. 이렇기 때문에 저도 팀 플레이를 하면서 다양한 분쟁이 발생했던 적이 있는데요. 저는 보통 이 이걸 분쟁이라고 받아들이고 올바른 분쟁이라고 받아들이고 다툼이 없도록 우선 노력하는 편입니다. 상대방의 기분을 상하지 않게 해야 제가 상대방을 설득할 수 있다는 생각이고 상대방을 설득하기 위해 그 과정을 또한 그 과정 또한 노력을 하는 편입니다. 팀 플레이어와 좀 다툼이 있었던 경험이 있었는데 교수님은 저희 프로젝트를 크게 수정하길 바라셨고 저는 컨셉만을 지켜가면서 가져가고 싶었습니다. 그 결과 저는 이제 팀 플레이와 교수님 둘 다 설득해야 되는 방향이었는데요. 제가 제 의견들을 종합하고 모아서 열심히 고민하고 답변들을 고민해 본 후 제 진솔한 마음을 좀 전달했던 것 같습니다. 저희의 프로젝트에 이런 컨셉이 중요하다는 것을 상대방에게 설득시키기 위한 노력을 해서 대처해야 제 대처\n",
            "경력상태: 신입 질문: 지원 지원 하 되면 자료를 중국으로 하 때 자료를 자료를량이 분쟁이 분쟁이이나 발생할 수 있는데죠 어 된 분쟁이에 분쟁이 간의 분쟁이 좋은을 수도 어떻게 상황을 상황을 때 어떻게만의 대처법이 있으요 있다면 대해서 말씀해 주시세요 답변: 일을래도 저는 이제 업무 일을 있는 때문에 어 의견을 시각과 객관적인 의견이들이 굉 반영다고 생각을합니다. 그래서 저 아우시킬 수는 없 것은 디자인 디자인 분야 것이 가지고 있습니다. 그래서기 때문에 저는 저원를 할 저 의견을 발생할될 적이 있습니다.요. 저는 이러한 팀럴럴 해결하기이라고 생각하지 있습니다. 해결 해결 생각 있습니다.이 일어나지 하기은 편입니다.  의견을분을 상하지 않게끔겠 원하는 배려할 수 있기 생각이입니다.요. 이해할 위해서는선 상대방의 최대한 거쳐야 과정 속에서 저 해야 편입니다.  플레이를 함께 더이 있을 적이 있는데요.님 저에게에게트를 진행 성공해셨 원셨습니다. 저희 그셉을 고집보 진행갔 싶다습니다. 그래서 결과 저는 컨 팀 플레이를 컨님의과의 다 좋은을 하는 상황성을요. 그 컨 의견을만을 좀해서 그 컨 프로젝하고 또변하는 들어해서 보았 결과 저 의견을가를한 답 담 더해 경험이 같습니다. 는 의견트는 대한 저셉을 반영하다는 것을 알 설득을 위해 노력 많이 저했던겠 의견법이\n",
            "경력상태: 신입 질문: 유아이 지유아이 디자인이란 무엇이라고 생각하는지 설명해 주시겠습니까 답변: 일단 가 단순하게 직역하자면 유저 인터페이스 그래픽 유저 인터페이스로 알고 있습니다. 유아이 디자인은 아무래도 요즘 핸드폰 속에서 나오는 개체들이라고 많이 알고 있죠. 유엑스 유아이라는 말 단어가 생기고 뭐 프로덕트 디자이너들이라는 이야기도 생기고 있는 걸로 알고 있습니다. 그리고 이제 보편적으로 지유아이는 그것을 제외하고 나오는 모든 인터페이스라고 생각하는데요. 뭐 텔레비전에서 저희가 뭐 볼 수 있는 버튼이나 스위치들이라던지 아니면 컴퓨터에서 보여지는 이런 컨텐츠들 아이콘 이런 부분이 유아이 지유아이 디자인이라고 생각하는데요. 이 부분에서도 역시 가장 중요한 건 사용자 경험이라고 생각합니다. 왜 괜히 유엑스 유아이라는 게 한 단어로서 자리 잡은 게 아니라고 생각합니다. 저희가 사람들이 정말 이 화면 지아이 지유아이나 유아이를 이용할 때 편리함 둘째 치고 뭔가 당연한 것에 이끌리게 된다고 생각하거든요. 이런 익숙한 패턴들이나 편리함이 있다고 생각합니다. 그 속에서 사람의 행동 하나하나를 디자인하는 것이 유아이 지유아이 디자인이라고 생각합니다. \n",
            "경력상태: 신입 질문: 지원이 지유아이 디자인이란 무엇이라고 생각지 본인의 주시겠습니까 답변: 유아 유아독하게 물건을원을해서면 유아저 인터페이이스라고 디자인저 인터페이스의 알고 있습니다. 어이 지은 사용자가래도 사용자에는드폰이나 굉 유들의 그리고 생각을들 있는데죠. 어저스 디자인이 것은 자체가 굉 그 유그래트 디자인가이라고 말이 많이 뭐 것로 알고 있습니다. 어 이제 유 사람들이유아이이는 이제 통해서 이제 것 것들이페이스들이 생각을합니다.요. 어 예를전을 나오는희가 이제 유 수 있는 화면튼이나 이런치 등 이런든지 이런 뭐에서 저지는 화면 것들텐츠들 이런콘들 것들이 유이 디자인유아이 디자인이라고 알고합니다.요. 어 유아들은 이제나 중요한 것은 유 인터이라고 생각합니다. 사용자가 그러뭘찮은 유엑스 유아이가 말이 생겼 번만만 잡 건 아니라 생각합니다. 는 이제 유 많이걸 안에서유에서유아이를 이런이 많이 때 정말함을이나로는요.뭔가 더 것 대한려 되는 생각합니다.거든요. 그래서 것들이 것을을 이런함 있어야 생각합니다. 게 이제 경험이나가 통해서하는 것 유아이 디자인유아이 디자인이라고 생각합니다. \n",
            "경력상태: 신입 질문: 저희가 하는 일 중에 유아이 지유아이 디자인이라고 있지 않습니까 이 교과서에서 나오는 어떤 정의 말고 그 본인이 생각하시는 유아이 지유아이 디자인은 뭐라고 생각하시는지 좀 말씀해 주시겠습니까 답변: 유아이 지유아이 디자인이란 무엇이라고 생각하느냐에 대한 부분은 먼저 유아이와 지유아이의 차이점을 알아봐야 될 것 같습니다. 유아이란 유저 인터페이스 유아이는 사용자와 컴퓨터가 정보를 주고받기 위해 사용자와 프로그램이 상호 작용하는 프로그램의 일부분으로 사용자 인터페이스라 부릅니다. 핸드폰이나 컴퓨터 프로그램 내비게이션 같은 전자기기 등 시스템과 사용자 사이에서 의사소통을 목적으로 하는 사용 설명서의 일종이라 할 수 있습니다. 그러면 지유아이란 무엇인가. 그래픽 유저 인터페이스라 할 수 있습니다. 그래픽 유저 인터페이스는 사용자가 그래픽을 통해 컴퓨터의 정보를 교환하는 환경을 말합니다. 이전까지 사용자 인터페이스는 키보드를 통해서 명령어로 작업을 수행시켰다면 지유아이에서는 마우스 등을 이용해서 화면의 메뉴 중 하나를 선택하여 작업을 수행합니다. 간단하게 지유아이는 글자 뿐 아니라 화면에 아이콘을 띄어 마우스를 이용하여 화면에 있는 아이콘을 클릭하여 작업을 수행하는 방식입니다. 대표적으로 마이크로소프트의 윈도 애플의 웹 운용 체제 등을\n",
            "경력상태: 신입 질문: 지원희 일을 일의들이 가장이 지유아이 디자이라는 하는 않습니까 그 유아적인 유아 유 디자인라 어떤게 생각하는했을시는 디자이 디자유아 디자은 무엇라고 생각하십지 한번 궁금해 주시면습니까 답변: 유아이 지유아 디자인인이란 어이라고 생각하 대한 저 저 유아이 지유아이가 합성점 이야기보는야 될 것 같습니다. 유아이는 유저 인터페이이스라고이 사용자가자를 상호 상호 주고 받는 위한 사용하는자를 상호 상호 작용하는 것을 이름부분으로 알고 인터페이스에든지팅니다. 사용자가드폰이나 컴퓨터 등 등에서도게이션 등 경우는 기에서도 다양한에 상호 인터 상호통을 하는 하는 모든자를서는 일종입니다. 할 수 있습니다. 지 유아유아이는 사용자가 라는 사용자가 유저 인터페이이스 유아든가 수 있습니다. 그래픽 유저 인터페이스는 사용자가 그래픽 유 통해 원하는 정보를 주고 것을 뜻합니다. 사용자가 유아 인터페스는 유아워드드를 통해 정보를어를 입력 하는했지만 지유아 디자인 그래픽우스를나 이용하여 그래픽 크기를뉴를 원하는 선택 작업을 수행하였  말하면유아이를 그래픽 그대로 아니라 그림 있는콘을 추가하여우는 아이우스를 사용할 작업을 아이 메콘을 누릭하고 작업을 수행하는 것을입니다. 적으로 아이소프트의 엑도우플의 컴퓨터 페이 체제를 윈 들\n",
            "경력상태: 신입 질문: 지원자님이 지원하신 디자이너로서 앞으로 목표에 관해서 지원자님께서 한번 설명해 주시겠습니까 답변: 디자이너로서 앞으로 목표에 관해 설명을 부탁드리는 부분은 어 개인적으로 디자이너라는 부분은 당연히 어떤 물건을 디자인 어떤 물건이나 옷이나 따른 것들을 디자인해서 고객이 만족하는 부분들을 디자인하는 게 가장 중요하다고 생각을 합니다. 하지만 더 중요하다고 생각하는 거 그거는 그 디자인에도 나름대로의 원칙 원리 원칙이 있어야 한다고 생각을 하며 철학적인 부분들도 본인에 담겨있어야 된다고 생각을 합니다. 누구나 사람들이 좋아하는 것만 만들다 보면 자신이 왜 디자인을 하고 있는지에 대한 원래 자기가 본인 자신이 디자인을 할려고 하는 부분들이 온 철학적인 부분들이 전혀 없게 되는 경우를 많이 보아왔습니다. 현실과 타협을 하다보면 끝도 없이 타협을 하게 되구요. 그 타협에 범위 정도나 어느 런리 원칙 이외에는 타협이 없다고 생각을 하고 원리 원칙이나 철학적인 본인만의 부분들은 꼭 어 많이 있어야 된다고 생각을 합니다. 그래서 저 저의 앞으로의 목표는 저만의 디자인 철학과 원리 원칙을 명확히 세우는 부분이라고 할 수 있겠습니다. 아직도 정확한 저의 철학은 아이엔지 형이지만 그 부분이 저의 목표입니다. \n",
            "경력상태: 신입 질문: 지원자님 생각한 이와 앞으로의 어떤가 관해 말씀자님의께서 생각 말씀 주겠습니까 답변: 제가로서 앞으로의 저가 대해서 말씀 드리드린 것은 어 제가 어로서 직업 어 디자이너 디자인을 디자인하고 디자인을에 어떤 이런 이런 것들을 디자인하는 어 원하는할 그런들을 만족하는 것이 목표 중요하다고 생각을 합니다. 어 디자이너 나아가 생각하는 부분은는거는 어 디자이너하는 여러 어떤과 원칙 있고 된다고 생각을 합니다. 그이 부분에서도 있어야인들이 어떤져다고 한다고 생각을 합니다. 그래서 다 원하는 그런 하는 수 보면은 원하는 그런 해야 싶은지에 대한 의부터 하고만의 어떤 하고 때 하는지에들이 잘전히적인 부분들이 있기 없는 되는 경우가 많이 왔습니다. 그래서 타협 해서다 보면 그도 없는 그 하게 되는더요. 그래서 결과이 대한도만 그 정도챕지 할들이 그이 되지 생각을 합니다. 있습니다. 원칙만 원칙적인 부분만의 철학들을 어 지켜야 그 지켜 된다고 생각을 합니다.  저는는 목표는 목표는 어의 철학을 철학을 철학 원칙을 가지고 하고 게들을 말씀 수 있겠습니다.  저 철학의 철학 아니지만디어에 디자이너이라고 어 철학 저의 디자인가 \n",
            "경력상태: 신입 질문: 이직을 생각하는 동료에게 뭐라고 할 것인가 답변: 일단 이유를 먼저 물어볼 것 같습니다. 그 이유에 대해서 제가 할 대답이 달라질 것 같고요. 그래도 일단 결정이 된 상황이라면 그동안 업무적으로 지원을 해주어서 너무 고마웠고 이직 준비를 응원한다고 기본적으로 이야기해 줄 것 같습니다. \n",
            "경력상태: 신입 질문: 지원 직무 생각하는 동가 지원라고 말씀까요변: 이 이 물어 물어볼 것 같습니다. 어 이유가에 대해서 먼저 답 수을 어떤 수 같요. 만약 그 그 된다면이라면 저에적으로 힘들 했셨 어 감사마웠다 또직을하는 해원해 말씀 말씀할 줄 것 같습니다. 어\n",
            "경력상태: 신입 질문: 지금까지 지내온 중에서 본인이 지원한 직무 분야와 관련된 경험 그런 것이 있으면 얘기해 주시겠습니까 알바도 좋고 또 자원 활동도 좋습니다. 답변: 저는 아무래도 공모전에 참여했던 것이 가장 유사 지금 직무와 유사한 경험이라고 생각하는데요. 기본적으로 아이디어를 많이 내기 위한 그런 디자인 공모전들도 많이 있지만 프리랜서들 사이에서 경쟁하는 공모전에 참여했던 적이 있습니다. 제가 디자인 관련 산업 디자인 전공을 하고 제품 디자인을 공부하고 있지만 일 학년 때 어떤 방향으로 공모전을 나가야 될지 헷갈리더라고요. 제품 디자인에 대한 툴이나 이런 것들이 공부가 안 되어 있다 보니까. 그래서 제가 선택한 게 브랜딩 공모전이었습니다. 로고와 간판을 만들어서 그 벡터 파일로 보내주는 공모전이었는데 제가 그 공모전에서 약 삼십 수를 했습니다. 제가 서른 번 정도의 시도를 했고 주변에서 너는 산업 디자이너고 제품 디자이너니까 못하는 게 당연한 거야 라는 말을 했는데 그 말을 듣는 게 굉장히 싫었습니다. 스스로 많은 것을 만들어 나가고 상대방을 이해하는 게 디자인이라고 생각을 하고 모든 디자인 분야에서 통용되어야 된다고 생각하고 있었습니다. 그래서 삼십 수 끝에 제가 많은 프로 프리랜서들 사이에서 우승을 한 경험이 있습니다. \n",
            "경력상태: 신입 질문: 지원 인생을오면서 여러 가장 가장한 직무가와 관련 경험이은 경험이 있다면 말씀기해 주세겠어 답몬 해 아니면 영업봉 많이으니 어변: 제가는 제가래도 영업전 나갔했던 경험이 가장 기억했던 현재와 유사 경험이라고 생각을합니다.요. 아무 제가 내고 내는 위해서 공모 공모 공모전에이었 많이 참여를 저젠서 공모 같은 그런률이 공모전 참여했던 경험이 있습니다. 저 디자인 공모해서기사 공모 했 있었기 디자인 전공 있었기 그단은 때부터 공모 공모 디자인을전이 준비야 할지지 고뭔갈려라요. 그래서 디자인 대한 그런을 이런 것들을 아직부가 되지 돼 있어서 보니까 저 그래서 저 디자인 것은 바로랜딩 공모전이었습니다. 그래서고 디자인판 디자인 그걸터별로일을 만들어서면 그런전이었는데요. 간걸전에 대상을 이 개월 명의 진행습니다. 그래서 그른 다섯 정도 그 했는데요. 굉는 이 디자인가 저 디자인고 이 게 없 거구나 라고 말을 많이요.걸 듣고 순간 너무장히 힘들었습니다. 그래서도 생각을 배우고야 싶 설득 게 중요하다고이라는 생각 했요. 것을은 내가되는 한다고 생각을 있습니다.습니다. 그래서 저 학년 수를 정도의 그 그 것을그래랜서들을 사이에서 경쟁 했 적이 있습니다. \n",
            "경력상태: 신입 질문: 면접자분 주변 친구들 중에서 한 명을 골라서 어 그 친구분의 어 장 칭찬을 부탁을 드리겠습니다 답변: 주변 친구들 중 한 명을 골라 칭찬해 보라는 얘기를 한다면 저는 고등학교 어 친구 중 한 명을 칭찬하고 싶습니다. 지금도 계속 지속적으로 만나고 있는 친구고요. 그 친구의 가장 큰 장점은 주위 사람들이 얘기를 하기 하기에는 어 잘 이야기를 들어줍니다. 그 이야기를 들어준다는 부분들이 어 저하고는 좀 상반된 부분이긴 한데요. 저의 경우는 사람들과 만나서 먼저 손을 내밀고 얘기를 잘 하는 편입니다. 따라서 그 친구의 경우에는 성격이 저같이 활발하거나 외향적이거나 그 대화를 주도하거나 강력한 카리스마가 있다던가 그런 부분은 아니지만 상대방이 어떤 고민이나 아니면 재미있게 얘기하는 부분들을 잘 들어줍니다. 따라서 그 친구 주위에는 항상 사람들이 많이 있었고요. 그리고 주위에서 평가도 사람들이 사람이 착한 사람이다 좋은 사람이다 라는 이미지가 되게 강합니다. 따라서 저의 경우는 영업을 진행을 하며 먼저 얘기를 하는 부분들이 많았기 때문에 그 친구를 보면서 저도 들어주는 부분들도 일부분 어 해야 된다고 생각을 하면서 지금도 그렇게 할려고 노력을 합니다. 두 마디 할 거면 한마디만 하고 한마디는 하기 할 시간에 상대방의 얘기를 들어주려 노력합니다. \n",
            "경력상태: 신입 질문: 지원자님께서는 친구들 중 한 명을 골라서 칭찬 구체 칭찬분의 칭찬 칭찬점과을 해드 해겠습니다 구체변: 제 친구들 중에 한 명을 골라 칭찬을 주세라고 질문을기를 하 저는 제 때학 중에 한 명을 골라하고 싶습니다. 그 그 그 연락을고 있는 친구인데 또 그 친구는 장점은 큰 장점은 어에서 저기 할에도더 너무 굉 들어 잘주고니다. 그리고 친 들어주다는 것은인데 저 저의 굉 잘 부분 있는데 한데요. 어는 가장 어의서 이야기를 이야기를 내밀고 이야기를기를 하는 들어 편니다. 그리고 그 친구의 그런 어 굉와 내성하고 아니면향적인 어 친구 잘적으로 하는 어리스마를 있는기보다는가 그런 것들이 저 어 저 이야기를이나 어떤 어떤에 얘기를하는 부분에들을 잘 들어줍니다. 그리고 그 친와 어 저 저 있습니다.요. 그 그 사람들이 저도 좋 많이 많 사람다 라는 사람이다 라는 이야기를지가 굉 강한합니다. 그래서 그는 친구 그 할 할 그 사람을기를 하고 편들을 저습니다. 때문에 그 친구 칭찬 저도 그주고 부분이들이 굉이라고 칭찬겠 생각을 합니다. 칭찬 그 하고려고 노력을 하고  번째로 때면 어를 더 그 마디 꼭 때문에 수 한 얘기를 들어주면서면은합니다. \n",
            "경력상태: 신입 질문: 귀하는 업무 중 팀원과 불화가 생긴다면 어떻게 해결하시겠습니까 그것에 대해서 말씀해 주세요 답변: 팀원과 불화가 생긴다면 어떻게 해결해야 될까라는 부분에 대해서는 기본적으로 협업을 진행한다든가 팀 내에 어떤 조직 사회 조직 생활을 하다보면 팀원과의 불화가 생기는 부분은 피할 수 없을 것 없던 것 같습니다. 저의 경우는 팀원과 불화가 생기면 그런 부분에 대해서 원인을 일단 파악을 하고요. 당연히 그 원인에 대해서 같이 대화를 나누고 불화가 생겼던 이유라든지 그러한 부분들을 해소를 하려고 노력을 했던 것 같습니다. 무조건 사람이 싫다든가 팀원이 무조건 말을 안 듣는다면 그거는 당사자만이 해결할 수 있는 부분은 아니라고 생각을 합니다. 회사를 팀원과의 불화가 생기면 팀원도 힘들겠지만 심적으로는 저 또한 힘들어졌던 기억을 가지고 있습니다. 이 부분이 해결되지 않으면 결국은 퇴사를 하는 상황이 발생을 하고요. 일반적으로는 상사가 퇴사를 하는 경우보다는 팀원이 퇴사를 하고 회사 입장에서도 당연히 손해를 보는 부분들이 있기 때문에 그 인원과는 여러 가지 상황으로 대화를 나눠보고 그 상황에 대해서는 본인도 어느 정도 인지를 해서 그런 부분들이 에 다시 한번 계속 대화를 통해서 해결했던 생각 경험을 가지고 있습니다. \n",
            "경력상태: 신입 질문: 지원하 영업 특성상 스케원과 불화가 생긴다면 어떻게 해결하겠습니까 해결 대한 해결해 주세요 답변: 팀원과 불화가 생긴다면 저 해결하시 할지지요. 질문을 대해서는 저 저업을 하는하면서면은 아니면원 어떤 갈등이이나생활 안에서 하다 보면 팀원과의 불화가 생길 것은 굉 수 없는 것 같 부분 같습니다. 어는 개인적인 팀원과 불화가 생긴 일단 부분에 대해서 먼저 먼저 파악을 하고 그 그 팀 원인이 대해서 서로 이야기를 해 그화가 생긴던 부분에에든지 그 것들을들을 서로소를 해야 노력을 할 것 같습니다. 하지만적으로 사람어서 라고 아니면원 싫 싫 잘 듣는다 그건 굉도 아니라 수 있는 문제 아니라고 생각을 합니다. 그래서 다니원이라고 불화가 생긴 그원 그고지만 팀적으로 굉도 힘들질 것이 가지고 있습니다. 그렇기럴 어떻게이 않으면 저 회사사를 해야 것이 올 할요. 만약 팀사와 저사를 하는 경우가들이 팀원이 퇴사를 하는 나서 생활을에서도 저 저 보는 상황이이기 있기 때문에 저 부분에들과의 조금 가지 부분에서들을 인 나누고서 그 상황 맞춰 서로인도 잘 정도 이해를지를 하고 해결을 부분들을 해결 해결 한 해결 진행 해 풀이 것들을 가지고 있습니다. \n",
            "경력상태: 신입 질문: 사내 스터디에서 어떤 것을 공부하고 싶으세요 답변: 사내의 스터디에서 어떤 것을 공부하고 싶은지에 대한 부분은 가장 제가 관심이 있어 하는 부분은 언어적 부분과 역사 부분 운동 부분 그리고 여행 부분입니다. 사내 스터디 쪽에서 연어가 언어가 되 부분이 있다고 한다면 저는 영어 중국어 일본어 이외에 따른 언어 스페인어나 딴 언어를 공부를 하고 싶습니다. 업무와 관련된 부분이라면 당연히 영어 중국어 일본어에서 선택을 해서 그 부분을 좀 더 발전시키고자 할 것입니다. 만약에 운동 부분이 있다면 저는 개인적으로는 헬스와 아 농구 탁구 볼링을 아 예전부터 계속해왔습니다. 이 부분이 하나 있다면 이 부분 중에 선택을 해서 계속 친목을 도모하고 신체를 어 닦는 부분을 계속 하고 싶습니다. 여행 동아리가 있다면 제가 이 시 현재까지 이십여 개 국을 돌아다닌 경험을 바탕으로 따른 국내든 해외든 관련된 여행을 하면서 볼 수 있는 그런 부분들을 계속하고 싶습니다. 마지막으로 역사 관련된 부분에 동아리가 있다면 스터디가 있다면 그 역사 관련된 특히 어 불교 미술사 사찰 쪽이나 문화유산 해설 관련된 부분들을 계속 공부하고 싶습니다. \n",
            "경력상태: 신입 질문: 지원 스터디를 모임을 공부 것을 공부 싶으신요 그렇다면변: 사내내에서 스터디를에서 어떤 것을 공부하고 싶지 대한 질문에 어 먼저 하고 있는 하는 분야는 어 부분 관련된 부분입니다. 부분입니다. 어 부분입니다. 어 스터디에서 가장말 있다면 되는든 가장 하면 저는 영어 회화 일본 이렇게 다른 언어들을어 아랍 나라 공부하고 하고 싶습니다. 그 관련된 부분에서도 저 언어 중국어 일본어를 공부를 해야 공부를 언어를 공부를 더 공부를시키고 합니다. 것 하지만에 사내이나 조금 저는 운동을적으로는 운동을스 관련된로마 이런구 볼링 이런 좀 공부를전부터 좋아 해기 그래서 운동을 제가 더 저 부분들을 저 해서 운동을 공부를목을 다 싶 단련 단련 운동을 좀하고 싶습니다.  같은리를 있습니다. 저 좋아하는 부분을뮬 여행을 동아 여 년국을 다녀다녔 경험이 가지고 해서 나라 여행 해외든 상관없이 부분 많이 어 수 있는 부분 부분들을 좀 공부하고 싶습니다.  운동 부분 부분 대해서는리는 있다면 저터디 있다면 저 부분을 관련된 부분을나 역사 관련된적인이나 관련된 이런산 쪽사 부분들을 좀 공부하고 싶습니다. \n"
          ]
        },
        {
          "name": "stderr",
          "output_type": "stream",
          "text": [
            "Validation Epoch 3: 100%|██████████| 502/502 [04:13<00:00,  1.98it/s, loss=2.4262]\n"
          ]
        },
        {
          "name": "stdout",
          "output_type": "stream",
          "text": [
            "calculating scores...\n",
            "computing bert embedding.\n"
          ]
        },
        {
          "data": {
            "application/vnd.jupyter.widget-view+json": {
              "model_id": "075fb0bb984f4d149ab5a7b8c44c1832",
              "version_major": 2,
              "version_minor": 0
            },
            "text/plain": [
              "  0%|          | 0/251 [00:00<?, ?it/s]"
            ]
          },
          "metadata": {},
          "output_type": "display_data"
        },
        {
          "name": "stdout",
          "output_type": "stream",
          "text": [
            "computing greedy matching.\n"
          ]
        },
        {
          "data": {
            "application/vnd.jupyter.widget-view+json": {
              "model_id": "b76a7d9627f346d8b5faa8c44c3241b4",
              "version_major": 2,
              "version_minor": 0
            },
            "text/plain": [
              "  0%|          | 0/126 [00:00<?, ?it/s]"
            ]
          },
          "metadata": {},
          "output_type": "display_data"
        },
        {
          "name": "stdout",
          "output_type": "stream",
          "text": [
            "done in 281.40 seconds, 28.52 sentences/sec\n",
            "Epoch 3 Average Validation Loss: 2.1215\n",
            "Epoch 3 Average Validation BLEU: 0.9942\n",
            "Epoch 3 Average Validation ROUGE: {'rouge1': 0.36507997175951284, 'rouge2': 0.1110251021735764, 'rougeL': 0.2917105877268452}\n",
            "Epoch 3 BERTScore Precision: 0.7849\n",
            "Epoch 3 BERTScore Recall: 0.7757\n",
            "Epoch 3 BERTScore F1: 0.7802\n",
            "Saving best model with validation loss: 2.1215\n"
          ]
        },
        {
          "name": "stderr",
          "output_type": "stream",
          "text": [
            "Training Epoch 4: 100%|██████████| 4255/4255 [1:30:02<00:00,  1.27s/it, loss=2.1144]\n"
          ]
        },
        {
          "name": "stdout",
          "output_type": "stream",
          "text": [
            "\n",
            "Epoch 4 Average Training Loss: 2.0253\n"
          ]
        },
        {
          "name": "stderr",
          "output_type": "stream",
          "text": [
            "Validation Epoch 4:   0%|          | 1/502 [00:00<04:36,  1.81it/s, loss=2.8226]"
          ]
        },
        {
          "name": "stdout",
          "output_type": "stream",
          "text": [
            "경력상태: 신입 질문: 해당 직무와 관련한 자신이 강점이라고 생각하시는 것에 대해 경험을 빗대어 어떤 경험이 있으신지 어 그런 것들을 해서 세부적으로 말씀해 주시기 바랍니다 답변: 해외 직무와 관련한 저만의 강점이라고 한다면 저는 해외 쪽 인원들과 관련된 어 해외 언어 능력이라고 말씀드릴 수 있겠습니다. 저의 경우는 중국 상해 지역에 오 년 동안 유학생활을 경험을 했으며 그 영업 동안 유학생활 동안 일본어와 영어를 같이 공부를 해서 자유 어느정도 자유자재로 어 구사할 정도의 수준을 가지고 있습니다. 특히 언어 뿐만이 아니라 이 년 이 년 간은 신 심천사무소에서 지사장으로 로컬 영업을 진행을 하였으며 신규 영업을 창출하고 미수금까지 회수하는 지사장 팀 리더로서 근무를 한 경험을 가지고 있습니다. 물론 저보다 중국어나 다른 외국어를 잘하는 인원들은 많을 것이라 생각을 합니다. 하지만 해외 해외 영업에서 가장 중요한 무에서 유를 창출해서 영업 매출로 이어지고 그런 부분들을 직접 미수금까지 챙기는 일련의 과정들을 경험한 경험해 본 사람은 많지 않으리라 생각을 합니다. 따라서 저의 강점은 무에서 유를 창출해내는 영업 매출을 일으키는 능력이라 할 수 있겠습니다. \n",
            "경력상태: 신입 질문: 지원 직무에 관련된 일을 가지고이나 생각하는하시는지 대해 말씀 바탕으로대어 말씀 식으로 있는지으신지 말씀 말씀 경험을 설명해 설명해적으로 설명해해 주시시기 바랍니다 답변: 저 영업에 관련된 저의 강이라고 한다면 저는 어 영업 관련된들과 소통 업무를 업무를 쪽들을이라고 생각드리고 수 있겠습니다. 저는 전공 대학교어를에서 있는 년간 동안 유학 생활을 진행을 했 그 당시에 쪽 해외 생활 동안 어어와 영어를 자유롭게 구사 했 어자 정도 의사소자재로 구사 구사할 수 실력을 가지고 있습니다. 그리고 일본적인만이 아니라 중국 언어 동안 년 동안 미국에서 중국 중화천 지역에서소에서 어장으로 근무 근무 영업을 진행을 하면서 그 영업 진행을하는 신규금 회수 처리하는하는 일련의장의 역할을장으로서로서의 역할을 하였 경험이 가지고 있습니다.  해외의 더어를 영어를 언어를어를 잘하는 사람이들은 많지 것입니다. 생각 합니다. 하지만 저 영업 영업과 제가 중요한 것은기는 유를 창출하는 그하는을 이어지는 있는 매출들이 통해서 경험을금까지 회수기는 부분 과정들을 통해서 바들이 본 저 많지 않을습니다. 생각을 합니다.  저는 이러한점은 해외에서 유를 창출하는 능력 능력 창출 일으키는 부분이라고 말씀 수 있겠습니다. \n",
            "경력상태: 신입 질문: 회사 생활을 하시다 보면 단계가 여러 단계가 있는데 여러분이 가장 빠르게 윗 단계인 즉 상위 단계에 직무를 수행할 수 있는 방법이 있다면 무엇입니까 답변: 가장 빠르게 높은 단계의 직무를 수행할 수 있는 방법은 가장 낮은 걸 빠르게 끝내 놓는 놓아야 한다고 생각합니다. 아무래도 일에 작고 크면 있어 시간 분배는 올바른 일을 진행하는 데 굉장히 중요한 순서라고 생각하는데요. 저는 먼저 중요하지 않거나 조금 자잘 자잘 고래한 일들을 모두 끝내 놓고 가장 상위 단계 일을 하는 편입니다. 이런 그 일을 하지 않고 상위 단계를 먼저 하게 된다면 그 상위 단계를 가장 빠르게 수행할 수 있을지 모르겠지만 명확하고 정확한 결과를 얻어내는 것은 굉장히 어렵다고 생각합니다. 아무래도 스케줄 사항 가장 마지막으로 밀려있고 넉넉한 여유와 그 앞에서 이제 작은 프로젝트를 하면서 또 얻어오는 많은 것들이 있기 때문에 가장 빠르고 명확하게 상위 단계의 직무를 수행할 수 있는 방법은 작은 단계를 먼저 구성하는 것이라고 생각합니다. 제가 학창 시절에도 교양 수업과 전공 수업으로 나눠져 있었는데 항상 교양 수업을 먼저 과제물들을 처리하고 그다음에 전공 수업에 집중하게 되었습니다. 아무래도 상위 단계의 일은 언제까지 끝내거나 언제까지 이라는 말보다 좀 더 많은 시간을 가지고 여유를 가지고 자료조사를 하고 진행하면 더 좋은 결과를 얻을 수 있기 때문에 저는 상위 단계 직무를 수행할 때 먼저 작은\n",
            "경력상태: 신입 질문: 지원 생활을 하다 보면 업무 있 가지 있는데요 단계를 생각 어려울 업무를 단계의인 개발 사 단계의 있는 수행할 수 있는 방법이 있다면 그것이입니까 답변: 제가 빠르게 상위 단계의 직무를 수행할 수 있는 방법은 바로 빠른 단계의로 수행하는버리는 것입니다.치는 된다고 생각합니다. 그래도 제가 대한 작은기도 클수록질수록도가 굉 게 할 데 있어서장히 중요한 요소라고 생각합니다.요. 그렇기는 이렇게 가장 않은 중요하지 더잘한잘한도 일을 먼저 끝내 놓고 그 중요한 단계의인 끝내 데니다. 그렇게 식으로 과정을 끝내 않고는 단계의 진행 끝내 된다면 그 다음 단계의 할 빠르게 끝 수 있는 것이라고 없을지만 그 확실하게 일을 도출낼 데 쉽지장히 어렵다고 생각합니다. 그렇기래도 제가줄에이나 중요한 중요한있는 가장한 시간유가 시간을 여 가장 해야 일트를 진행 그 그낼 성취 경험 있기 때문에 저 빠르게 가장 업무를 단계의 직무를 수행할 수 있는 방법은 바로 것 빠르게 하는 것이라고 생각합니다.  생각창 시절에에도 이런 과에서 같은 수업에서 나눠서 있는요. 그 수업 들 들하고들을 제출 그음에 교양 수업으로 대한하는 된습니다. 그렇게래도 그런 단계의 직무를 시간든 해야야 아니면까지 끝내 것이 자체가 더 더 시간이 시간이 할 해야 가지고 공부를 조사를 하고 그다해야 되기 좋은 결과 얻을 수 있다고 때문에 저는 이런 단계의 직무를 수행하는 수 가장 가장 단계\n",
            "경력상태: 신입 질문: 음 중국 출장이 좀 많아요. 괜찮겠어요. 답변: 중국 출장이 많다는 것은 제가 면접에 참여하기 전에 회사에 공개된 자료를 통해서 확인할 수 있었습니다. 저는 중국 지역에 대해서 익숙하지가 않고 중국어에 대한 에 익숙하지도 않습니다마는 만약에 제가 중국 출장을 다녀와야 되는 상황이 된다거나 저에게 그런 업무가 주어진다면 당연히 회사나 부서에서 팀에서 요구하고 있는 성과를 극대화하기 위해서 나름대로 노력을 하게 될 것 같습니다. 따라서 뭐 중국에 출장이 많은 것 자체가 저에게 문제가 된다기보다는 그 안에서 목표한 성과물을 충분히 도출하고 우리 회사에 도움이 되는 방향으로 제 업무를 어떻게 수행할 것인가를 고민하게 될 것 같은데요. 물론 초기부터 제가 주어진다면 당연히 제 능력 밖에 있기 때문에 좀 더 어 뒤에 좀 맡겨 달라고 요청을 드리겠지만 중국 출장 자체가 많은 것 주어지는 것 자체가 저에게 문제가 되지는 않습니다. 오히려 중국 출장을 통해서 제가 미진했던 경험 제가 경험하지 못했던 새로운 분야에 대해서 배울 수 있고 또는 전문성을 제고할 수 있다면 그 또한 좋은 기회로 인식을 하고 긍정적이고 적극적으로 대처할게 될 거라는 말씀을 드리고 싶습니다. 이상입니다. \n",
            "경력상태: 신입 질문: 지원 지원 시장장이 조금 자주질 네괜찮으죠요 네변: 네 출장이 많다는 것은 저 중국을 합격했다는 위해서 이미 대한된 면접 통해서 알 수 있는습니다. 저는 면접어를 약 잘하고 않은 않 또어를 대해서 이해 대한하지 않은습니다.다만 제가에 제가 면접 출장을 가게오게도 한다면 상황이 온다면 라 아니면의 주어진 기회가 주어진다면 저 저에서도 저에게 저장 저 있는 업무를 내야화할 위해서 저 최 할 될 것입니다. 같습니다.  저 중국 대한장을 많다는 것은 보다는 저에게 큰 되지다거나 저 출 제가가 바가나 내기 달성하기해 또 회사가 대한 되는 그런 일을 역량을 수행 하면 것인 고민하는 될 것 같데요. 만약 제가 중국 중국 업무를 최 그 역량을 발휘 일을 때문에 그 힘들 열심히 열심히 후 더진 말씀 할겠지만 어 출이라는 저 것은 만큼 것은 자체가 저에게 큰 되지지는 않을습니다.  저 출장이 통해서 제가 얻을팅했던 부분들을 잘했던 못했던 그런 경험 대해서 알게 수 있는 또 제가성을 키할 수 있는 저 또한 저 기회회로 삼을 하고 열심히적으로 좋은 임할 수 될 것라고 생각이을 드리고 싶습니다. 입니다. \n",
            "경력상태: 신입 질문: 본인이 지원한 분야에 대해 일 분 전도로 간략하게 자기소개해 보시겠습니까 답변: 본인이 지원한 분야에 대해 일 분 정도로 간략하게 소개해 보시겠습니까에 대한 부분은 제가 지원한 분야는 해외 영업에 중국 지역 전문가로서 신규 매출을 창출해야 되는 어 지금 업무를 갖고 있는 아 분야입니다. 저의 경우는 중국 난방지역 광동성 중심으로 한 심천과 동관 지역에서 아무 것도 없는 곳에 지사를 설립을 하고 그 지사 안에서 일할 인원들을 제가 직접 면접을 하여 채용을 하였으며 그 인원들과 함께 로칼 영업을 진행을 해서 미팅을 주선을 하고 그리고 씨를 형성한 후에 최종적으로는 신규 매출 창출을 이뤘던 경험을 가지고 있습니다. 매출 창출 뿐만 아니 아니라 그 매출로 인해서 발생한 미수금을 마지막까지 다 받아서 어 처리한 경험을 가지고 있기 때문에 현재 제가 지원한 이 분야 또한 그러한 일들을 해야 되는 걸로 알고 있습니다. 따라서 이 경 그 이전의 경험을 바탕으로 제가 지원한 분야에서도 개인적 역량과 협업을 통해서 여어 전체 회사의 이익을 위해서 할 수 있는 최적의 지원자라고 개인적으로 생각하고 있습니다. \n",
            "경력상태: 신입 질문: 지원 생각한 직무 대해 가장 년 정도 십 설명해 설명해소개서를 주실겠습니까 답변: 제가 지원한 분야에 대해 말씀 분간 간략하게 소개해 보겠겠습니까 라고 대해서 저 제가 이한 분야에 제가 영업 쪽 관련된 심 담당로서 중국 영업 창출 창출하는 되는 부분 그런 현재 하고 있습니다. 부분 담당입니다. 그래서는 경우는 중국어를 관련 관련동성 심 한 남부천 동관 지역의 어 것도 없는 곳에서 지사를 설립을 하고 그 지 설립을 매출 인원들을 채용 직접 채을 보고 채용용을 하였으며 그 인원들과 함께 로컬 영업을 진행을 하였으며 매출팅을 주선선을 하고 최종 그시를 통해서 후에 미수적으로는 미수 매출을을 달성뤘습니다. 경험을 가지고 있습니다.  창출을 아니라면은 미수 인원을 인해서 미수 미수금 미수 미수 회수 회수 미수 미수 경험이 가지고 있습니다. 때문에 어 제가 지원한 분야는 분야에와 어 부분 잘 되는 부분로 알고 있습니다.  제가 분야에 어 부분에 경험을 가지고 해서 가지고한 분야 또한 어 역량을량 어업을 통해서 어태 중국 매출 매출 창출 최 수 있는 역량을 역량을자라고 생각 생각을 있습니다. \n",
            "경력상태: 신입 질문: 일을 하다보면 상사와 좀 마찰이 생길 수가 있겠죠. 그때 상사가 혼을 낼텐데  기분이 많이 나쁠까요. 답변: 상사와 트러블이 생긴 생기는 건 당연한 것입니다. 그리고 상사에게 혼나면 기분이 나쁜 것도 당연한 것입니다. 하지만 저는 이렇게 생각합니다. 혼남과 트러블를 제 지양분으로 삼을 수 있다면 그것 또한 제 성장의 지름길이라고 생각합니다. \n",
            "경력상태: 신입 질문: 지원 하다 보면 영어로사와 트 트이 생길 수 있는데죠 그럴 어는사가 혼을 내면 수도데 기괜분이 나쁘 나쁠 것요 네변: 일을사와 트러블이 생길다면 것은 당연 일 상 상에게 혼이면 기분이 나 건 당연 것입니다. 상 상는 상 생각합니다. 상나는으로써 동시에러블이 어떻게때하고 삼 것입니다. 있는 저 또한 저 능력향 기회길이라고 생각합니다. 상\n",
            "경력상태: 신입 질문: 보통 시간 남으실 때 취미생활로 하시는 뭐 여가나 뭐 운동 뭐 그런 게 있으신다면 저한테 말씀해 주실 수 있나요 답변: 저는 시간이 남을 때 주로 바깥에 나가서 걸으면서 사람들을 관찰하는 일을 많이 합니다. 운동이나 이런 것도 굉장히 중요하는데 그거 외에 제가 뭔가 특별하게 남들과 다르게 하는 일이 그거라고 생각하기 때문에 말씀드리는 거고요. 제가 나가서 사람들을 관찰하는 이유는 아무 생각도 하지 않을 수 있기 때문입니다. 뭔가 저 사람의 신발 옷을 입은 것 어디를 걸어가는지 나이는 어느 정도 돼 보이는지 어떤 일을 할지 이런 것들을 궁금해 하고 그것을 제 스스로만의 답변을 찾는 것을 굉장히 좋 좋아하는데요. 제가 이런 일을 좋아하는 건 평소에 논리적인 부분을 굉장히 중요시하기 때문입니다. 뭔가 저 사람 입은 옷이나 뭐 이런 것들에서 직업을 유추할 수도 있고 걸음걸이나 이런 것들에서 이 사람이 바쁜지 아니면 여유롭고 어디 놀러가는지 이런 것들을 분석하는 걸 굉장히 좋아합니다. 이렇게 그 착장이나 뭐 걸음걸이나 헤어스타일 뭐 여러 가지 오늘의 상태 기분 같은 것들을 제 나름대로 추측해보면서 그것들을 논리정연하게 해서 이 사람을 탁 아 이 사람은 어떤 사람이구나 라고 논리적이\n",
            "경력상태: 신입 질문: 지원 시간이 관리를으실 때 무슨 생활을로 하고시는지가 시간이 시간이 시간이 같은 이런 것들이 있으실가 말씀희 말씀해 주실 수 있으요 답변: 저는 시간이 남을 때 주로 책을 나가서 걷으면서 어 구경 것을 합니다. 합니다. 어 중에서도 다른 것들을 좋아장히 좋아하지만요.중에 외에도 제가 좋아하는뭔가 새로운하게 좋아하는들이 어울 무언 취미 있다면거라고 생각을합니다. 때문에 저드릴 게고요. 또 좋아하는서 걷는 관찰하는 일을 제가래도 없이 하지 않고 수 있기 때문에입니다. 제가뭔가 제가는 어떤이나 입고 것 같은를 가다니는 것 이런 몇 정도인지서지 이런 옷을 하는 어떤 것들을 조금해 하고 그런 궁금 머릿에게 방식으로변을 해 것 좋아장히 좋아습니다.합니다.요. 그래서 그런 것들을 하는 이유는 아니지만 제가적인 사고 굉장히 많이하기 때문에입니다. 그래서가 제가의 저 걸이 이런 이런 걸들에 무언 찾는해 수 있고 아니면걸이이나 이런 걸들에서 어떤 사람의 어떤다는데 어떤 어떤로운 어떤를러가는지 이런 것들을 알 것도 굉장히 좋아합니다. 그래서 저걸각 이런 이런걸이이나 이런 스타일일을 이런 이런 가지 것들을 날 이런분 이런 것들을 분석하는 스스로 분석을을면서 제가들을 분석적으로연하게 답 저 사람이 판단하는탁 이 사람이 이런 사람인구나 라는 생각하는적으로게\n",
            "경력상태: 신입 질문: 지원자분이 업무 중 어떤 문제에 부딪쳤을 때 지원자분은 혼자서 해결하는 편인가요 아니면 여러 사람들에게 이야기를 해서 해결하는 편인가요 답변: 어 어떤 문제나 위기가 왔을 때 어 일단은 혼자 해결해 보려고 노력을 합니다. 어 그것이 인제 제한될 것 같으면 저는 과감하게 주변 사람들에게 헬프 요청을 하는 것이 자연스럽고 당연하다고 생각합니다. 분명 혼자 해결이 가능한데 이걸 주변 사람들한테 계속 의지하는 모습을 보인다면 그러면 저 주원은 혼자 해결 능력이 없는 것으로 보이는 그런 직원으로 보일 것이기 때문에 분명 일단은 혼자 해결을 해 보려고 하는 스타일입니다. 그래도 안됐을 시에는 이제 조금씩 조금씩 도움 요청 할 것 같습니다. 어 저는 모든 일에는 혼자 할 수 있는 일은 없다고 생각합니다. 또한 도움 요청을 한다고 해서 절대 챙피한 것도 아니고 하기 때문에 혼자서 해결했을 때 한 시간 걸릴 일이 어 주변 경험이 있거나 노하우가 있는 사람에게 도움을 받았을 때는 십 분 오 분 안에도 분명히 끝날 수 있을 것이라 생각합니다. 그래서 그런 것들을 유지하기 위해서는 누가 나에게 도움을 청했을 때 분명히 친절하게 해줘야 할 것이고 그래야 나중에 도움을 받을 수 있을 것 같습니다. 그런데 결론은 저는 주변 상대에게 요청해서 완만하게 해결하는 스타일이 강한 것 같습니다. 네 이상입니다. \n",
            "경력상태: 신입 질문: 지원자님 생각 중에 스케 스케 부딪쳤을 때 혼자자분 혼자 해결 편이인지요 아니면 여러 사람들에게 이야기를 해서 해결하는 편인가요 답변: 저 저 문제에 상황이 어떤 닥을 때 저 저단은 혼자 해결하는 보려고 하는 합니다. 어 그 어 뭐적인 수 같습니다.은는 혼자 어 사람들에게 도움을스질 해서 편입죠스럽 어하다고 생각을합니다. 어 제가 해결할해야 안 문제 어게 혼자 사람들에게한테 얘 얘하다 것은 보인다면 어 어는시는 어 해결이 없 것 판 것이고 상황이원을 보이게 수 때문에 어 저단은 주변 해결 해 보려고 노력을 것이입니다. 어 안 된을 때는 어 주변 주변 주변 요청을이 수 같습니다. 어 제가는 이제 사람들에게에는 혼자 해결 수 있는 일이 없다고 생각합니다. 왜냐하면 여러 요청 할 해서 그 혼자피하거나 일은 아니고 어 때문에 어 해결하려고 때 훨씬 두 정도 수도 한 한 사람들 많은 아니면하우가 있는 분 도움을 요청 때 어 분 정도 분 정도에도 그 도움을 수 있다고 거 생각합니다. 그래서 저 식으로 통해서 위해서 어 도와 도움을 요청할 때 그 그절하게 도움을줄야 된다고 것이고 그야지 그 받을 수 있는 것이라고 같습니다.  그렇지론은 혼자 혼자 혼자 사람들에게에게 도움을해서 그하게 해결 편입일이다 편입 같습니다.  이상입니다. \n",
            "경력상태: 신입 질문: 어 일을 하게 되면 그 업무를 진행할 때 그 업무 시에 어떤 분쟁도 발생할 수 있겠죠 그렇게 어 분쟁이나 서로 이렇게 안 맞을 때 그런 어 그럴 때 본인만의 대처법이 있나요 그것에 대해서 말씀해 보세요 답변: 아무래도 저희는 디자인 분야에서 종사하고 있기 때문에 사람들의 객관적인 의견보다는 주관적인 의견도 많이 들어간다고 생각합니다. 물론 모두를 만족시킬 수가 없는 게 또 디자인이라는 생각을 하고 있습니다. 이렇기 때문에 저도 팀 플레이를 하면서 다양한 분쟁이 발생했던 적이 있는데요. 저는 보통 이 이걸 분쟁이라고 받아들이고 올바른 분쟁이라고 받아들이고 다툼이 없도록 우선 노력하는 편입니다. 상대방의 기분을 상하지 않게 해야 제가 상대방을 설득할 수 있다는 생각이고 상대방을 설득하기 위해 그 과정을 또한 그 과정 또한 노력을 하는 편입니다. 팀 플레이어와 좀 다툼이 있었던 경험이 있었는데 교수님은 저희 프로젝트를 크게 수정하길 바라셨고 저는 컨셉만을 지켜가면서 가져가고 싶었습니다. 그 결과 저는 이제 팀 플레이와 교수님 둘 다 설득해야 되는 방향이었는데요. 제가 제 의견들을 종합하고 모아서 열심히 고민하고 답변들을 고민해 본 후 제 진솔한 마음을 좀 전달했던 것 같습니다. 저희의 프로젝트에 이런 컨셉이 중요하다는 것을 상대방에게 설득시키기 위한 노력을 해서 대처해야 제 대처\n",
            "경력상태: 신입 질문: 지원 지원 하 되면 자료를 자료를 하 때 자료를 자료를량이 분쟁이 분쟁이이나 발생할 수 있는데죠 어 분쟁이 분쟁이에 분쟁이 간의 분쟁이 좋은을 수도 어떻게 상황을 상황을 때 어떻게만의 대처법이 있으요 있다면 대해서 말씀해 주시시요 답변: 어래도 업무는 이제 업무 일을 있는 때문에 어 의견을 시과 객관적인 의견이들이 많이 반영다고 생각을합니다. 그래서 그 아우시킬 수는 없 부분 디자인 디자인 분야 것이 가지고 있습니다. 하지만기 때문에 저는 디자이너원를 할 저 의견 발생할될 적이 있습니다.요. 저는 그 그럴럴 해결하기이라고 생각하지 있습니다. 해결 해결 생각을 있습니다.이 발생했을 하는은 편입니다. 왜냐하면 의견을분이 먼저하지 않게 하기 하기 원하는 배려할 수 있고 생각이 때문에요. 배려할 위해서는선 상대방의 최대한 거쳐야 과정 속에서 저 해야 편입니다.  플레이를 함께 더이 있을 적이 있는데요.님 저에게에게트를 진행 성공해실 원지고 저희 그펌을 고집서 진행갔 싶다습니다. 하지만 결과 저희는 컨 컨 플레이를 컨님의과의 다 만족을 하는 상황이성을요. 그 컨 의견을만 좀해서 컨 컨 진행을하고 또변하는 종합해서  결과 저 의견을심을한 답 담 더해 경험이 같습니다. 는 의견트는 대한 저셉과 반영하다는 것을 알 설득을 위해서 노력 많이 저했던겠 의견법이\n",
            "경력상태: 신입 질문: 유아이 지유아이 디자인이란 무엇이라고 생각하는지 설명해 주시겠습니까 답변: 일단 가 단순하게 직역하자면 유저 인터페이스 그래픽 유저 인터페이스로 알고 있습니다. 유아이 디자인은 아무래도 요즘 핸드폰 속에서 나오는 개체들이라고 많이 알고 있죠. 유엑스 유아이라는 말 단어가 생기고 뭐 프로덕트 디자이너들이라는 이야기도 생기고 있는 걸로 알고 있습니다. 그리고 이제 보편적으로 지유아이는 그것을 제외하고 나오는 모든 인터페이스라고 생각하는데요. 뭐 텔레비전에서 저희가 뭐 볼 수 있는 버튼이나 스위치들이라던지 아니면 컴퓨터에서 보여지는 이런 컨텐츠들 아이콘 이런 부분이 유아이 지유아이 디자인이라고 생각하는데요. 이 부분에서도 역시 가장 중요한 건 사용자 경험이라고 생각합니다. 왜 괜히 유엑스 유아이라는 게 한 단어로서 자리 잡은 게 아니라고 생각합니다. 저희가 사람들이 정말 이 화면 지아이 지유아이나 유아이를 이용할 때 편리함 둘째 치고 뭔가 당연한 것에 이끌리게 된다고 생각하거든요. 이런 익숙한 패턴들이나 편리함이 있다고 생각합니다. 그 속에서 사람의 행동 하나하나를 디자인하는 것이 유아이 지유아이 디자인이라고 생각합니다. \n",
            "경력상태: 신입 질문: 지원이 지유아이 디자인이란 무엇이라고 생각지 본인의 주겠습니까 답변: 유아 유아독하게 어떤감만면 유아저 인터페이이스라고 인터저 인터페이스의 사용자가 있습니다. 어이 지은 사용자가래도 사용자 트렌드폰이나 많이 유들의마다 생각을들 있는데죠. 그래서저스 디자인이 것은 자체가 굉 그 유그래트라고라고이라고 말이 많이 뭐 것로 알고 있는데 어 이제 유 사람들이유아이이는 이제 사용하는도 것 디자인페이스라고 알고합니다.요. 어 예를전을 나오는희가 볼 유 수 있는 화면튼이나 이런치 같은 이런든지 이런 뭐에서 저지는 화면 버텐츠들 이런콘들 것들이 유아이 디자인유아이 디자인이라고 알고합니다.요. 어 유아들은 유아나 중요한 것은 유 인터이라고 생각합니다. 사용자가 그러뭘찮은 유엑스 유아이가 말을 생겼 번만만 잡 건 아니 생각하 사용자가는 이제 유 많이 유아 안에서유에서유아이를 이런이를 보면서 때 정말함을이나로는 이괜가 편리 거 대한려서 되는 생각합니다.거든요. 그래서 유아 것을들이 이런함 있어야 생각합니다. 게 사람들이 경험이나가 유하는 게 유아이 디자인유아이 디자인이라고 생각합니다. \n",
            "경력상태: 신입 질문: 저희가 하는 일 중에 유아이 지유아이 디자인이라고 있지 않습니까 이 교과서에서 나오는 어떤 정의 말고 그 본인이 생각하시는 유아이 지유아이 디자인은 뭐라고 생각하시는지 좀 말씀해 주시겠습니까 답변: 유아이 지유아이 디자인이란 무엇이라고 생각하느냐에 대한 부분은 먼저 유아이와 지유아이의 차이점을 알아봐야 될 것 같습니다. 유아이란 유저 인터페이스 유아이는 사용자와 컴퓨터가 정보를 주고받기 위해 사용자와 프로그램이 상호 작용하는 프로그램의 일부분으로 사용자 인터페이스라 부릅니다. 핸드폰이나 컴퓨터 프로그램 내비게이션 같은 전자기기 등 시스템과 사용자 사이에서 의사소통을 목적으로 하는 사용 설명서의 일종이라 할 수 있습니다. 그러면 지유아이란 무엇인가. 그래픽 유저 인터페이스라 할 수 있습니다. 그래픽 유저 인터페이스는 사용자가 그래픽을 통해 컴퓨터의 정보를 교환하는 환경을 말합니다. 이전까지 사용자 인터페이스는 키보드를 통해서 명령어로 작업을 수행시켰다면 지유아이에서는 마우스 등을 이용해서 화면의 메뉴 중 하나를 선택하여 작업을 수행합니다. 간단하게 지유아이는 글자 뿐 아니라 화면에 아이콘을 띄어 마우스를 이용하여 화면에 있는 아이콘을 클릭하여 작업을 수행하는 방식입니다. 대표적으로 마이크로소프트의 윈도 애플의 웹 운용 체제 등을\n",
            "경력상태: 신입 질문: 지원희 일을 일의 특성상 가장이 지유아이 디자이라는 하는 않습니까 그 유아적인 지원 유 디자인와 그게 생각하는했을시는 디자이 디자유아이 디자인에이라는 무엇라고 생각하시는지 말씀 말씀해 주시겠습니까 답변: 유아이 지유아이 디자인인이란 유인 생각하는하 대한 저 제가 유아이 지유아이가 합성점 생각해보는야 될 것 같습니다. 유아이는 유저 인터페이스라고이 유자를 상호 상호 주고 받는 위한 상호자를 상호 상호 작용하는 것을 이름입니다. 유아 인터페이스 사용자가 함은터는니다. 지드폰이나 컴퓨터 등에서 아이게이션 등 경우에도 기기 컴퓨터 사용자가에 상호 인터 상호통을 하는 하는 디자인자를서 일종입니다. 할 수 있습니다. 지 지유아이는 것은 라는 사용자가 유엑 인터페이스 유아 할 수 있습니다. 지 유저 인터페스는 사용자가 그래픽을 통해 정보를 정보를 주고 것을 의미합니다. 사용자가 유아 인터페스는 유아워드드를 통해 정보를어를만 했했습니다. 지유아이 디자인 그래픽우스를 키 이용하여 그래픽 크기를뉴를 원하는 선택 그래픽 수행하였  말하면유아이이를 그래픽 그대로만이 그림 있는콘을 추가하여우고 아이우스를 사용하는 문서를 아이 메콘을 사용하여릭하거나 아이 수행하는 것을입니다. 적으로 아이소프트의 엑도우저의 컴퓨터 사이 체제 윈 들\n",
            "경력상태: 신입 질문: 지원자님이 지원하신 디자이너로서 앞으로 목표에 관해서 지원자님께서 한번 설명해 주시겠습니까 답변: 디자이너로서 앞으로 목표에 관해 설명을 부탁드리는 부분은 어 개인적으로 디자이너라는 부분은 당연히 어떤 물건을 디자인 어떤 물건이나 옷이나 따른 것들을 디자인해서 고객이 만족하는 부분들을 디자인하는 게 가장 중요하다고 생각을 합니다. 하지만 더 중요하다고 생각하는 거 그거는 그 디자인에도 나름대로의 원칙 원리 원칙이 있어야 한다고 생각을 하며 철학적인 부분들도 본인에 담겨있어야 된다고 생각을 합니다. 누구나 사람들이 좋아하는 것만 만들다 보면 자신이 왜 디자인을 하고 있는지에 대한 원래 자기가 본인 자신이 디자인을 할려고 하는 부분들이 온 철학적인 부분들이 전혀 없게 되는 경우를 많이 보아왔습니다. 현실과 타협을 하다보면 끝도 없이 타협을 하게 되구요. 그 타협에 범위 정도나 어느 런리 원칙 이외에는 타협이 없다고 생각을 하고 원리 원칙이나 철학적인 본인만의 부분들은 꼭 어 많이 있어야 된다고 생각을 합니다. 그래서 저 저의 앞으로의 목표는 저만의 디자인 철학과 원리 원칙을 명확히 세우는 부분이라고 할 수 있겠습니다. 아직도 정확한 저의 철학은 아이엔지 형이지만 그 부분이 저의 목표입니다. \n",
            "경력상태: 신입 질문: 지원자님 생각하신 직무가 가지고 어떤가 관해 말씀자님의께서 가지고 말씀 주겠습니까 답변: 제가로서 앞으로의 저에 대해서 말씀 드리드린 것은 어 제가 어로서 직업 어 디자이너 디자인을 디자인하고 물건을에 어떤 같은 이런 것들을 디자인하는 그 원하는할 그런들을 만들어하는 부분 목표 중요하다고 생각을 합니다. 어 디자이너 중요한 생각하는 부분은는거는 어 디자이너한 여러 어떤과 원칙 있어야 된다고 생각을 합니다. 그이 부분이라고 있어야인들이 어떤져다고 한다고 생각을 합니다. 그래서 다 원하는 그런 할 수 보면은 원하는 이 해야 싶은지에 대해서 의부터 가지고만의 가지고 하고 때 하는 그들이 잘전히적인 부분들이 다 반영 되는 경우가 많이 왔기 그래서 타협 해서다 보면 그도 없이 그 하게 되고더요. 그래서 결과점을 대한도도 그 정도룰닝티에들이 그이 안 생각을 합니다. 있습니다. 원칙만 원칙적인 부분만의 철학들을 항상 지켜야 그 지켜 된다고 생각을 합니다.  저는는 목표는 목표는 그런의 철학을 철학을 철학을 원칙 가지고 하고 게들이 말씀 수 있겠습니다.  저 철학만의 철학 없지만디어에 디자인 인 앞으로게 저의 목표가 \n",
            "경력상태: 신입 질문: 이직을 생각하는 동료에게 뭐라고 할 것인가 답변: 일단 이유를 먼저 물어볼 것 같습니다. 그 이유에 대해서 제가 할 대답이 달라질 것 같고요. 그래도 일단 결정이 된 상황이라면 그동안 업무적으로 지원을 해주어서 너무 고마웠고 이직 준비를 응원한다고 기본적으로 이야기해 줄 것 같습니다. \n",
            "경력상태: 신입 질문: 지원 직무 생각하는 동가 뭐라고 말씀까요변: 이 이 물어 물어보 것 같습니다. 이 이유가에 대해서 먼저 답 수을 어떤 수 같요. 그리고 그 그 된다면이라면 저의에서 힘들 해신 그 감사마웠고 또직을하는 해원해 말씀 말씀할 줄 것 같습니다. 왜냐하면\n",
            "경력상태: 신입 질문: 지금까지 지내온 중에서 본인이 지원한 직무 분야와 관련된 경험 그런 것이 있으면 얘기해 주시겠습니까 알바도 좋고 또 자원 활동도 좋습니다. 답변: 저는 아무래도 공모전에 참여했던 것이 가장 유사 지금 직무와 유사한 경험이라고 생각하는데요. 기본적으로 아이디어를 많이 내기 위한 그런 디자인 공모전들도 많이 있지만 프리랜서들 사이에서 경쟁하는 공모전에 참여했던 적이 있습니다. 제가 디자인 관련 산업 디자인 전공을 하고 제품 디자인을 공부하고 있지만 일 학년 때 어떤 방향으로 공모전을 나가야 될지 헷갈리더라고요. 제품 디자인에 대한 툴이나 이런 것들이 공부가 안 되어 있다 보니까. 그래서 제가 선택한 게 브랜딩 공모전이었습니다. 로고와 간판을 만들어서 그 벡터 파일로 보내주는 공모전이었는데 제가 그 공모전에서 약 삼십 수를 했습니다. 제가 서른 번 정도의 시도를 했고 주변에서 너는 산업 디자이너고 제품 디자이너니까 못하는 게 당연한 거야 라는 말을 했는데 그 말을 듣는 게 굉장히 싫었습니다. 스스로 많은 것을 만들어 나가고 상대방을 이해하는 게 디자인이라고 생각을 하고 모든 디자인 분야에서 통용되어야 된다고 생각하고 있었습니다. 그래서 삼십 수 끝에 제가 많은 프로 프리랜서들 사이에서 우승을 한 경험이 있습니다. \n",
            "경력상태: 신입 질문: 지원 인생을오 여러 가장 가장한 직무가와 가장 가장은 경험이 있 말씀기해 주겠어 답몬 해 아니면 면접봉 좋으니 그런데변: 제가는 제가래도 영업전 나갔했던 경험이 가장 기억했던 현재와 유사 경험이라고 생각을합니다.요. 아무 제가 내는 내는 위해서 공모 공모 공모전이었 많이 참여를 저젠서 공모 같은 공모하는 공모전 참여했던 경험이 있습니다. 저 디자인 공모해서 디자인 공모 했기 있었기 디자인 전공 있었기 그단은 때부터 공모 공모 디자인을전이 진행야 할지지 고뭔갈려라요. 그래서 디자인 대한 그런을 이런 것들을 아직부가 되지 돼 있어서 보니까 굉 그래서 저 디자인 것은 바로이딩 공모전이었는데습니다. 그래서고 디자인판 디자인 그걸터들을일을 만들어서서 그런전이었는데요. 그 공모전에 정말 이 개월 만 진행습니다. 그래서 그른 다섯 정도 서 했는데요. 굉는 이 디자인가 저 디자인고 이 게 없 거야 라고 말을 많이요.걸 듣고 순간 굉장히 기더습니다. 그래서도 생각을 배웠야 싶 설득 게 굉이라는 생각 해서요. 것을은 내가되는 한다고 생각을요.습니다. 그래서 저 학년 번 정도의 그 그 것을포랜서들을 사이에서 경쟁 했 적이 있습니다. \n",
            "경력상태: 신입 질문: 면접자분 주변 친구들 중에서 한 명을 골라서 어 그 친구분의 어 장 칭찬을 부탁을 드리겠습니다 답변: 주변 친구들 중 한 명을 골라 칭찬해 보라는 얘기를 한다면 저는 고등학교 어 친구 중 한 명을 칭찬하고 싶습니다. 지금도 계속 지속적으로 만나고 있는 친구고요. 그 친구의 가장 큰 장점은 주위 사람들이 얘기를 하기 하기에는 어 잘 이야기를 들어줍니다. 그 이야기를 들어준다는 부분들이 어 저하고는 좀 상반된 부분이긴 한데요. 저의 경우는 사람들과 만나서 먼저 손을 내밀고 얘기를 잘 하는 편입니다. 따라서 그 친구의 경우에는 성격이 저같이 활발하거나 외향적이거나 그 대화를 주도하거나 강력한 카리스마가 있다던가 그런 부분은 아니지만 상대방이 어떤 고민이나 아니면 재미있게 얘기하는 부분들을 잘 들어줍니다. 따라서 그 친구 주위에는 항상 사람들이 많이 있었고요. 그리고 주위에서 평가도 사람들이 사람이 착한 사람이다 좋은 사람이다 라는 이미지가 되게 강합니다. 따라서 저의 경우는 영업을 진행을 하며 먼저 얘기를 하는 부분들이 많았기 때문에 그 친구를 보면서 저도 들어주는 부분들도 일부분 어 해야 된다고 생각을 하면서 지금도 그렇게 할려고 노력을 합니다. 두 마디 할 거면 한마디만 하고 한마디는 하기 할 시간에 상대방의 얘기를 들어주려 노력합니다. \n",
            "경력상태: 신입 질문: 지원자님께서 친구들 중 한 명을 골라서 칭찬 칭찬 친에게 칭찬 칭찬점과을 해드 해겠습니다 구체변: 제 친구들 중에 한 명을 골라 칭찬을 주세라고 질문을기를 하 저는 제 때학 중에 한 명을 골라해 싶습니다. 그 그 그 연락을고 있는 친구인데 또 그 친구는 장점은 큰 장점은 어 사람들과 저기 할에도면은 굉 굉 들어 잘주고니다. 어 친 들어주는다는 것은 자체가 저 굉의 굉 잘 부분긴 한데요. 어는 가장 어 이야기를서 이야기를 이야기를 내밀고 이야기를기를 하는 들어 편니다. 어 그 친구는 가장 어 굉와 굉하고 아니면향적인 그런 친구 잘적으로 하는 추진리스마를 있는기보다는가 그런 것들이 저 어 저 얘이나 어떤 어떤에 얘기를하는 부분에들을 잘 들어줍니다. 그리고 그 친와 어 어 많이 있고요. 그 그 사람들이 저도 좋 많이 좋 사람다 라는 사람이다 라는 얘지가 굉 강한합니다. 그래서 그는 친구 그 할 할 그 사람을기를 하고 편들이 저고 때문에 그 친구 칭찬 아도 그주고 부분이들이 있고 있었필 될 생각을 합니다. 그 그 하고려고 노력을 하고  번째로 때 없이 한라도 하고 그 마디 꼭 때문에려고 한 얘기를 들어주는면서면은합니다. \n",
            "경력상태: 신입 질문: 귀하는 업무 중 팀원과 불화가 생긴다면 어떻게 해결하시겠습니까 그것에 대해서 말씀해 주세요 답변: 팀원과 불화가 생긴다면 어떻게 해결해야 될까라는 부분에 대해서는 기본적으로 협업을 진행한다든가 팀 내에 어떤 조직 사회 조직 생활을 하다보면 팀원과의 불화가 생기는 부분은 피할 수 없을 것 없던 것 같습니다. 저의 경우는 팀원과 불화가 생기면 그런 부분에 대해서 원인을 일단 파악을 하고요. 당연히 그 원인에 대해서 같이 대화를 나누고 불화가 생겼던 이유라든지 그러한 부분들을 해소를 하려고 노력을 했던 것 같습니다. 무조건 사람이 싫다든가 팀원이 무조건 말을 안 듣는다면 그거는 당사자만이 해결할 수 있는 부분은 아니라고 생각을 합니다. 회사를 팀원과의 불화가 생기면 팀원도 힘들겠지만 심적으로는 저 또한 힘들어졌던 기억을 가지고 있습니다. 이 부분이 해결되지 않으면 결국은 퇴사를 하는 상황이 발생을 하고요. 일반적으로는 상사가 퇴사를 하는 경우보다는 팀원이 퇴사를 하고 회사 입장에서도 당연히 손해를 보는 부분들이 있기 때문에 그 인원과는 여러 가지 상황으로 대화를 나눠보고 그 상황에 대해서는 본인도 어느 정도 인지를 해서 그런 부분들이 에 다시 한번 계속 대화를 통해서 해결했던 생각 경험을 가지고 있습니다. \n",
            "경력상태: 신입 질문: 지원하 아이 특성상 스케원과 불화가 생긴다면 어떻게 해결하시겠습니까 해결 해결 해결해 주세요 답변: 팀원과 불화가 생긴다면 저 해결하시 하는지요. 질문을 대해서 저 저업을 하는하면서면은 아니면원 어떤 문제가이나생활 내에서 하다 보면 팀원과과의 불화는 생길 경우가 굉 수 없는 것 같 부분 같습니다. 왜냐하면는 성격 팀원과 불화가 생긴 일단 부분 대해서 먼저 먼저 파악을 하고 그 그 그 원인이 대해서 서로 이야기를 통해서 그화가 생긴던 부분에에든지 그 부분들을 서로소를 해 노력을 할 것 같습니다. 하지만적으로랑어서 라고 아니면원이 싫 싫 안 하는다 그건 그끼리 해결할 수 있는 문제 아니라고 생각을 합니다. 그래서 다니원이라고 불화가 생긴 그원 당연히고지만 팀적으로 굉도 힘들질 것이 가지고 있습니다. 그래서럴 어떻게이 않으면 저 회사사를 해야 것이 올 할요. 그 팀사와 저사를 하는 경우가들이 팀원이 퇴사를 하는 나서 생활을에서도 저 퇴 보는 상황이들이 있기 때문에 저 부분에들과의 조금 가지 부분에서들을 인 통해서서 그 부분에 맞춰 서로부장 충분히 정도 이해를지를 하고 해결을 부분들을 해결 해결 한 대화를 대화를 해 풀이 것들을 가지고 있습니다. \n",
            "경력상태: 신입 질문: 사내 스터디에서 어떤 것을 공부하고 싶으세요 답변: 사내의 스터디에서 어떤 것을 공부하고 싶은지에 대한 부분은 가장 제가 관심이 있어 하는 부분은 언어적 부분과 역사 부분 운동 부분 그리고 여행 부분입니다. 사내 스터디 쪽에서 연어가 언어가 되 부분이 있다고 한다면 저는 영어 중국어 일본어 이외에 따른 언어 스페인어나 딴 언어를 공부를 하고 싶습니다. 업무와 관련된 부분이라면 당연히 영어 중국어 일본어에서 선택을 해서 그 부분을 좀 더 발전시키고자 할 것입니다. 만약에 운동 부분이 있다면 저는 개인적으로는 헬스와 아 농구 탁구 볼링을 아 예전부터 계속해왔습니다. 이 부분이 하나 있다면 이 부분 중에 선택을 해서 계속 친목을 도모하고 신체를 어 닦는 부분을 계속 하고 싶습니다. 여행 동아리가 있다면 제가 이 시 현재까지 이십여 개 국을 돌아다닌 경험을 바탕으로 따른 국내든 해외든 관련된 여행을 하면서 볼 수 있는 그런 부분들을 계속하고 싶습니다. 마지막으로 역사 관련된 부분에 동아리가 있다면 스터디가 있다면 그 역사 관련된 특히 어 불교 미술사 사찰 쪽이나 문화유산 해설 관련된 부분들을 계속 공부하고 싶습니다. \n",
            "경력상태: 신입 질문: 지원 스터디를 모임을 공부 것을 공부 싶으신요 그렇다면변: 사내내에서 스터디에서 어떤 것을 공부하고 싶지 대한 이유 저 먼저 하고 있는 하는 분야는 바로 부분 그리고 부분입니다. 부분입니다. 언어 부분입니다. 저 스터디에서 가장말 있다면 되는겠 가장 하면 저는 역사 공부를 일본 이렇게 다른 언어들을어 아랍 나라 공부하고 하고 싶습니다. 왜냐하면 관련된 부분이라면 저 언어 중국어 일본어를 공부를 해야 공부를 부분에 공부를 더 공부를시키고 합니다. 것 하지만에 제가 부분 있다면 저는 운동적으로는 운동을스 관련된로마 탁구 볼링을 하고 좋아전부터 좋아 해고 그래서 운동을 저 둘 저 부분들은 저 해서 저 공부를목을 다 싶 단련 단련 부분 좀하고 싶습니다.  부분리를 있다면 저 여행을 부분을내에 여행을십 년 년국을 여행을다녔 경험이 가지고 여행 나라 여행 해외든 상관없이 부분 많이 어링 있는 부분 부분들을 좀하고 싶습니다.  운동 부분 부분 대해서는리가 있다면 저터디 있다면 저 부분에 관련된 부분을 역사 역사 관련된적인이라 관련된 이런산 쪽사 부분들을 좀 공부를 싶습니다. \n"
          ]
        },
        {
          "name": "stderr",
          "output_type": "stream",
          "text": [
            "Validation Epoch 4: 100%|██████████| 502/502 [04:14<00:00,  1.97it/s, loss=2.4105]\n"
          ]
        },
        {
          "name": "stdout",
          "output_type": "stream",
          "text": [
            "calculating scores...\n",
            "computing bert embedding.\n"
          ]
        },
        {
          "data": {
            "application/vnd.jupyter.widget-view+json": {
              "model_id": "0878293b51bc495f974420ae42d2b754",
              "version_major": 2,
              "version_minor": 0
            },
            "text/plain": [
              "  0%|          | 0/251 [00:00<?, ?it/s]"
            ]
          },
          "metadata": {},
          "output_type": "display_data"
        },
        {
          "name": "stdout",
          "output_type": "stream",
          "text": [
            "computing greedy matching.\n"
          ]
        },
        {
          "data": {
            "application/vnd.jupyter.widget-view+json": {
              "model_id": "c5cdda754b2948ebb35c692cc6fbe51c",
              "version_major": 2,
              "version_minor": 0
            },
            "text/plain": [
              "  0%|          | 0/126 [00:00<?, ?it/s]"
            ]
          },
          "metadata": {},
          "output_type": "display_data"
        },
        {
          "name": "stdout",
          "output_type": "stream",
          "text": [
            "done in 282.35 seconds, 28.43 sentences/sec\n",
            "Epoch 4 Average Validation Loss: 2.1079\n",
            "Epoch 4 Average Validation BLEU: 1.0156\n",
            "Epoch 4 Average Validation ROUGE: {'rouge1': 0.3689077260965818, 'rouge2': 0.11276878677805265, 'rougeL': 0.2943877202641383}\n",
            "Epoch 4 BERTScore Precision: 0.7867\n",
            "Epoch 4 BERTScore Recall: 0.7777\n",
            "Epoch 4 BERTScore F1: 0.7821\n",
            "Saving best model with validation loss: 2.1079\n"
          ]
        },
        {
          "name": "stderr",
          "output_type": "stream",
          "text": [
            "Training Epoch 5: 100%|██████████| 4255/4255 [1:29:59<00:00,  1.27s/it, loss=1.9073]\n"
          ]
        },
        {
          "name": "stdout",
          "output_type": "stream",
          "text": [
            "\n",
            "Epoch 5 Average Training Loss: 1.9668\n"
          ]
        },
        {
          "name": "stderr",
          "output_type": "stream",
          "text": [
            "Validation Epoch 5:   0%|          | 1/502 [00:00<04:37,  1.80it/s, loss=2.8162]"
          ]
        },
        {
          "name": "stdout",
          "output_type": "stream",
          "text": [
            "경력상태: 신입 질문: 해당 직무와 관련한 자신이 강점이라고 생각하시는 것에 대해 경험을 빗대어 어떤 경험이 있으신지 어 그런 것들을 해서 세부적으로 말씀해 주시기 바랍니다 답변: 해외 직무와 관련한 저만의 강점이라고 한다면 저는 해외 쪽 인원들과 관련된 어 해외 언어 능력이라고 말씀드릴 수 있겠습니다. 저의 경우는 중국 상해 지역에 오 년 동안 유학생활을 경험을 했으며 그 영업 동안 유학생활 동안 일본어와 영어를 같이 공부를 해서 자유 어느정도 자유자재로 어 구사할 정도의 수준을 가지고 있습니다. 특히 언어 뿐만이 아니라 이 년 이 년 간은 신 심천사무소에서 지사장으로 로컬 영업을 진행을 하였으며 신규 영업을 창출하고 미수금까지 회수하는 지사장 팀 리더로서 근무를 한 경험을 가지고 있습니다. 물론 저보다 중국어나 다른 외국어를 잘하는 인원들은 많을 것이라 생각을 합니다. 하지만 해외 해외 영업에서 가장 중요한 무에서 유를 창출해서 영업 매출로 이어지고 그런 부분들을 직접 미수금까지 챙기는 일련의 과정들을 경험한 경험해 본 사람은 많지 않으리라 생각을 합니다. 따라서 저의 강점은 무에서 유를 창출해내는 영업 매출을 일으키는 능력이라 할 수 있겠습니다. \n",
            "경력상태: 신입 질문: 지원 직무에 관련된 일을 있이나 생각하는하시는지 대해 말씀 바탕으로대어 말씀 식으로 있는지으신지 말씀 말씀 경험을 설명해 설명해적으로 설명해해 주시시기 바랍니다 답변: 저 영업에 관련된 저의 강이라고 생각하는 저는 어 영업 관련된들과 소통 업무를 업무를 어들을들을 생각드리고 수 있겠습니다. 저는 경우는 어 상해에서 있는 년간 동안 유학 생활을 진행을 했 그 당시에 쪽 해외 생활 동안 어어와 영어를 자유롭게 구사 했 어자 정도 의사소자재로 구사 구사할 수 능력을 가지고 있습니다. 따라서 일본적인만이 아니라 중국 중국 동안 년 동안 미국에서 미국에서 중화천 지역에서소에서 어장으로 근무 근무 영업을 진행을 하면서 그 영업 진행을하는 신규금 회수 처리하는하는 일련의장의 역할을장으로서로서의 역할을 하였 경험이 가지고 있습니다.  해외의 더어를 영어를 언어를어를 잘하는 사람은들은 많지 것입니다. 생각 합니다. 하지만 저 영업 영업에 가장 중요한 것은기는 유를 창출하는 그하는을 이어지는 있는 매출들이 통해서 경험금까지 회수기는 부분 과정들을 직접 저들이 본 저 많지 않을습니다. 생각을 합니다. 따라서 저는 이러한점은 해외에서 유를 창출하는 능력 능력 창출 일으키는 부분이라고 생각 수 있겠습니다. \n",
            "경력상태: 신입 질문: 회사 생활을 하시다 보면 단계가 여러 단계가 있는데 여러분이 가장 빠르게 윗 단계인 즉 상위 단계에 직무를 수행할 수 있는 방법이 있다면 무엇입니까 답변: 가장 빠르게 높은 단계의 직무를 수행할 수 있는 방법은 가장 낮은 걸 빠르게 끝내 놓는 놓아야 한다고 생각합니다. 아무래도 일에 작고 크면 있어 시간 분배는 올바른 일을 진행하는 데 굉장히 중요한 순서라고 생각하는데요. 저는 먼저 중요하지 않거나 조금 자잘 자잘 고래한 일들을 모두 끝내 놓고 가장 상위 단계 일을 하는 편입니다. 이런 그 일을 하지 않고 상위 단계를 먼저 하게 된다면 그 상위 단계를 가장 빠르게 수행할 수 있을지 모르겠지만 명확하고 정확한 결과를 얻어내는 것은 굉장히 어렵다고 생각합니다. 아무래도 스케줄 사항 가장 마지막으로 밀려있고 넉넉한 여유와 그 앞에서 이제 작은 프로젝트를 하면서 또 얻어오는 많은 것들이 있기 때문에 가장 빠르고 명확하게 상위 단계의 직무를 수행할 수 있는 방법은 작은 단계를 먼저 구성하는 것이라고 생각합니다. 제가 학창 시절에도 교양 수업과 전공 수업으로 나눠져 있었는데 항상 교양 수업을 먼저 과제물들을 처리하고 그다음에 전공 수업에 집중하게 되었습니다. 아무래도 상위 단계의 일은 언제까지 끝내거나 언제까지 이라는 말보다 좀 더 많은 시간을 가지고 여유를 가지고 자료조사를 하고 진행하면 더 좋은 결과를 얻을 수 있기 때문에 저는 상위 단계 직무를 수행할 때 먼저 작은\n",
            "경력상태: 신입 질문: 지원 생활을 하다 보면 여러 올라갈 단계로 있는데요 단계를 생각 어려울 업무를 단계에인 개발 사 단계의 있는 수행할 수 있는 방법이 있다면 그것이일지니까 답변: 네 빠르게 상위 단계의 직무를 수행할 수 있는 방법은 바로 빠른 단계의로 상위버리는 것입니다.치는 된다고 생각합니다. 그래도 제가 대한 작은기도 클수록질수록도를 굉 게 할 데 있어서장히 중요한 요소라고 생각합니다.요. 그렇기는 이렇게 가장 않은 중요하지 더잘한잘한도 일 빠르게 끝내 놓고 그 중요한 단계의인 끝내 데니다. 그렇게 식으로 과정을 끝내 않고 자 단계 진행 끝내 된다면 그 다음 단계의 하는 빠르게 끝 수 있는 것이라고 없을지만 저 확실하게 일을 도출내기 데 쉽지장히 어렵다고 생각합니다. 그렇기래도 제가줄에이나 중요한 중요한있는 가장한 시간유가 시간을 여 가장 해야 일트를 진행 그 중요한낼 성취 경험 있기 때문에 저 빠르게 가장 일을 단계의 직무를 수행할 수 있는 방법은 바로 것 빠르게 하는 것이라고 생각합니다.  생각창 시절에도 이런 과에서 같은 수업에서 나눠서 있던요. 가장 수업 들 들하고들을 제출 그음에 교양 수업으로 대한하는 된습니다. 그렇게래도 제가 단계의 직무를 시간든 해야야 아니면까지 끝내 기준이 자체가 더 더 시간이 시간이 할 있어야 가지고 그 조사를 하고 그해야 되기 좋은 결과를 얻을 수 있다고 때문에 저는 가장 단계의 직무를 수행하는 수 가장 시간을 단계\n",
            "경력상태: 신입 질문: 음 중국 출장이 좀 많아요. 괜찮겠어요. 답변: 중국 출장이 많다는 것은 제가 면접에 참여하기 전에 회사에 공개된 자료를 통해서 확인할 수 있었습니다. 저는 중국 지역에 대해서 익숙하지가 않고 중국어에 대한 에 익숙하지도 않습니다마는 만약에 제가 중국 출장을 다녀와야 되는 상황이 된다거나 저에게 그런 업무가 주어진다면 당연히 회사나 부서에서 팀에서 요구하고 있는 성과를 극대화하기 위해서 나름대로 노력을 하게 될 것 같습니다. 따라서 뭐 중국에 출장이 많은 것 자체가 저에게 문제가 된다기보다는 그 안에서 목표한 성과물을 충분히 도출하고 우리 회사에 도움이 되는 방향으로 제 업무를 어떻게 수행할 것인가를 고민하게 될 것 같은데요. 물론 초기부터 제가 주어진다면 당연히 제 능력 밖에 있기 때문에 좀 더 어 뒤에 좀 맡겨 달라고 요청을 드리겠지만 중국 출장 자체가 많은 것 주어지는 것 자체가 저에게 문제가 되지는 않습니다. 오히려 중국 출장을 통해서 제가 미진했던 경험 제가 경험하지 못했던 새로운 분야에 대해서 배울 수 있고 또는 전문성을 제고할 수 있다면 그 또한 좋은 기회로 인식을 하고 긍정적이고 적극적으로 대처할게 될 거라는 말씀을 드리고 싶습니다. 이상입니다. \n",
            "경력상태: 신입 질문: 지원 지원 시장에장이 조금 있을질 네괜찮으습니까요 네변: 네 출장이 많다는 것은 저 중국을 합격했다는 위해서 이미 대한된 면접 통해 이미 수 있는습니다. 저는 면접어를 약 잘하고 않은 않 또어를 대해서 거부 대한하지 않은습니다.다만 제가에 제가 면접 출장을 가게오게도 한다면 상황이 온다면 라 아니면의 주어진 기회가 주어진다면 저 저에서도 저에게 저장 저 있는 업무를 내야화할 위해서 저 열심히 할 될 것입니다. 같습니다. 그래서 중국 중국 대한장을 많다는 것은 보다는 저에게는 큰 되지다거나 회사 출 제가가 바가나 내기 달성하기해 또 회사가 대한 되는 그런 일을 역량을 수행 분배 것인 고민하고 될 것 같데요. 어 제가 중국 중국 업무를 최 그 역량을 발휘 일을 때문에 그 힘들 열심히 열심히 후 더진 할 할겠지만 어 출이라는 저 것은 만큼 것은 자체가 저에게 큰 되지지는 않을습니다.  저 출장을 통해서 제가 얻을팅했던 부분들을 잘했던 못했던 그런 경험 대해서 더 수 있는 또 제가성을 키할 수 있는 저 또한 저 기회회로 삼을 하고 열심히적으로 좋은 임할 수 될 것라고 생각이을 드리고 싶습니다. 입니다. \n",
            "경력상태: 신입 질문: 본인이 지원한 분야에 대해 일 분 전도로 간략하게 자기소개해 보시겠습니까 답변: 본인이 지원한 분야에 대해 일 분 정도로 간략하게 소개해 보시겠습니까에 대한 부분은 제가 지원한 분야는 해외 영업에 중국 지역 전문가로서 신규 매출을 창출해야 되는 어 지금 업무를 갖고 있는 아 분야입니다. 저의 경우는 중국 난방지역 광동성 중심으로 한 심천과 동관 지역에서 아무 것도 없는 곳에 지사를 설립을 하고 그 지사 안에서 일할 인원들을 제가 직접 면접을 하여 채용을 하였으며 그 인원들과 함께 로칼 영업을 진행을 해서 미팅을 주선을 하고 그리고 씨를 형성한 후에 최종적으로는 신규 매출 창출을 이뤘던 경험을 가지고 있습니다. 매출 창출 뿐만 아니 아니라 그 매출로 인해서 발생한 미수금을 마지막까지 다 받아서 어 처리한 경험을 가지고 있기 때문에 현재 제가 지원한 이 분야 또한 그러한 일들을 해야 되는 걸로 알고 있습니다. 따라서 이 경 그 이전의 경험을 바탕으로 제가 지원한 분야에서도 개인적 역량과 협업을 통해서 여어 전체 회사의 이익을 위해서 할 수 있는 최적의 지원자라고 개인적으로 생각하고 있습니다. \n",
            "경력상태: 신입 질문: 지원 직접한 직무 대해 가장 년 정도 십 설명해 설명해소개서를 주실겠습니까 답변: 제가 지원한 분야에 대해 일 분간 간략하게 소개해 보겠겠습니까 라고 대해서 저 제가 이한 분야에 제가 영업 쪽 관련된 심 담당로서 중국 영업 창출 창출하는 되는 부분 그런 현재 하고 있습니다. 부분 담당입니다. 어는 경우는 중국 상해 관련 광동성 심 한 중부천 동관 지역의 어 것도 없는 곳에서 지사를 설립을 하고 그 지 설립을 매출 인원들을 채용 직접 채을 보고 채용용을 하였으며 그 인원들과 함께 로칼 영업을 진행을 하였으며 미수팅을 주선선을 하고 최종 그시를 통해서 후에 미수적으로는 미수 매출을을 하는뤘습니다. 경험을 가지고 있습니다.  창출을 아니라면은 미수 인원을 인해서 미수 미수금 회수 미수 회수 회수 미수 미수 경험을 가지고 있습니다. 때문에 어 제가 지원한 분야는 분야에와 중국 경험을 잘 되는 부분로 알고 있습니다.  제가 분야에 어 매출 경험을 가지고 해서 가지고한 분야 또한 어 역량을량 어업을 통해서 어태 중국 매출 매출 창출 어 수 있는 역량을 역량을자라고 생각 생각을 있습니다. \n",
            "경력상태: 신입 질문: 일을 하다보면 상사와 좀 마찰이 생길 수가 있겠죠. 그때 상사가 혼을 낼텐데  기분이 많이 나쁠까요. 답변: 상사와 트러블이 생긴 생기는 건 당연한 것입니다. 그리고 상사에게 혼나면 기분이 나쁜 것도 당연한 것입니다. 하지만 저는 이렇게 생각합니다. 혼남과 트러블를 제 지양분으로 삼을 수 있다면 그것 또한 제 성장의 지름길이라고 생각합니다. \n",
            "경력상태: 신입 질문: 지원 하다 보면 영어로사와 트 트이 생길 수도 있죠 그럴 어는사가 혼내면 내면 수도데 기괜분이 나쁘 상하쁠 것요 기변: 일을사와 트러블이 생길다면 것은 당연 일 상 상에게 혼이면 기분이 나쁘 건 당연한 것입니다. 상 상는 상 생각합니다. 상나는으로써 동시에러블이 만든 삼하고 삼 것입니다. 있는 저 또한 기 능력향 기회길이라고 생각합니다. 상\n",
            "경력상태: 신입 질문: 보통 시간 남으실 때 취미생활로 하시는 뭐 여가나 뭐 운동 뭐 그런 게 있으신다면 저한테 말씀해 주실 수 있나요 답변: 저는 시간이 남을 때 주로 바깥에 나가서 걸으면서 사람들을 관찰하는 일을 많이 합니다. 운동이나 이런 것도 굉장히 중요하는데 그거 외에 제가 뭔가 특별하게 남들과 다르게 하는 일이 그거라고 생각하기 때문에 말씀드리는 거고요. 제가 나가서 사람들을 관찰하는 이유는 아무 생각도 하지 않을 수 있기 때문입니다. 뭔가 저 사람의 신발 옷을 입은 것 어디를 걸어가는지 나이는 어느 정도 돼 보이는지 어떤 일을 할지 이런 것들을 궁금해 하고 그것을 제 스스로만의 답변을 찾는 것을 굉장히 좋 좋아하는데요. 제가 이런 일을 좋아하는 건 평소에 논리적인 부분을 굉장히 중요시하기 때문입니다. 뭔가 저 사람 입은 옷이나 뭐 이런 것들에서 직업을 유추할 수도 있고 걸음걸이나 이런 것들에서 이 사람이 바쁜지 아니면 여유롭고 어디 놀러가는지 이런 것들을 분석하는 걸 굉장히 좋아합니다. 이렇게 그 착장이나 뭐 걸음걸이나 헤어스타일 뭐 여러 가지 오늘의 상태 기분 같은 것들을 제 나름대로 추측해보면서 그것들을 논리정연하게 해서 이 사람을 탁 아 이 사람은 어떤 사람이구나 라고 논리적이\n",
            "경력상태: 신입 질문: 지원 시간이 관리를으실 때 무슨 생활을로 하고시는지가 시간이 시간이 시간이 같은 이런 것들이 있으실가 말씀희 말씀해 주실 수 있으요 답변: 저는 시간이 남을 때 주로 운동을 나가서 걷으며 어 구경 일을 합니다. 합니다. 어도 다른 것들을 물론장히 좋아하지만요. 운동을 외에도 제가 좋아하는뭔가 새로운하게 하고들이 어울 무언 취미 있다면거라고 생각합니다. 때문에 저드릴 게고요. 또 좋아하는서 걷 관찰하는 일을 제가래도 없이 하지 않고 수 있기 때문에입니다. 제가뭔가 제가는 어떤이나 입고 것 같은를 가다니는 것 이런 몇 정도인지서지 이런 걸 하는 어떤 것들을 다해 하고 그런 궁금 눈으로에게 방식으로변을 해 것 좋아장히 좋아습니다.합니다.요. 그래서 그런 것들을 하는 이유는 제가 제가적으로 사고 굉장히 중요하게하기 때문에입니다. 그래서뭔가 논리의 저 걸이 어떤 이런 걸들에 무언 찾는해 수 있고 아니면걸이이나 이런 걸들에서 어떤 사람의 어떤쁘 걸 어떤 어떤로운 어떤를러가는지 이런 것들을 알 것도 굉장히 좋아합니다. 그래서 저 사람의각 이런 이런걸이나 이런 스타일일을 이런 이런 가지 것들을 날 이런분 이런 것들을 분석하는 스스로 분석을을면서 제가들을 분석적으로연하게 답 저 사람이 판단하는탁 이 사람은 이런 사람인구나 라는 생각하는적으로게\n",
            "경력상태: 신입 질문: 지원자분이 업무 중 어떤 문제에 부딪쳤을 때 지원자분은 혼자서 해결하는 편인가요 아니면 여러 사람들에게 이야기를 해서 해결하는 편인가요 답변: 어 어떤 문제나 위기가 왔을 때 어 일단은 혼자 해결해 보려고 노력을 합니다. 어 그것이 인제 제한될 것 같으면 저는 과감하게 주변 사람들에게 헬프 요청을 하는 것이 자연스럽고 당연하다고 생각합니다. 분명 혼자 해결이 가능한데 이걸 주변 사람들한테 계속 의지하는 모습을 보인다면 그러면 저 주원은 혼자 해결 능력이 없는 것으로 보이는 그런 직원으로 보일 것이기 때문에 분명 일단은 혼자 해결을 해 보려고 하는 스타일입니다. 그래도 안됐을 시에는 이제 조금씩 조금씩 도움 요청 할 것 같습니다. 어 저는 모든 일에는 혼자 할 수 있는 일은 없다고 생각합니다. 또한 도움 요청을 한다고 해서 절대 챙피한 것도 아니고 하기 때문에 혼자서 해결했을 때 한 시간 걸릴 일이 어 주변 경험이 있거나 노하우가 있는 사람에게 도움을 받았을 때는 십 분 오 분 안에도 분명히 끝날 수 있을 것이라 생각합니다. 그래서 그런 것들을 유지하기 위해서는 누가 나에게 도움을 청했을 때 분명히 친절하게 해줘야 할 것이고 그래야 나중에 도움을 받을 수 있을 것 같습니다. 그런데 결론은 저는 주변 상대에게 요청해서 완만하게 해결하는 스타일이 강한 것 같습니다. 네 이상입니다. \n",
            "경력상태: 신입 질문: 지원자님 생각 중에 스케 스케 부딪쳤을 때 혼자자분은 혼자 해결 편이인지요 아니면 여러 사람들에게 이야기를 해서 해결하는 편인가요 답변: 저 저 문제에 상황이 문제에 닥을 때 저 저단은 혼자 해결하는 보려고 하는 합니다. 어 그 어 뭐적인 수 같습니다.은는 혼자 어 사람들에게 도움을퍼처럼 해서 편입죠스럽 어하다고 생각을합니다. 어 제가 해결할해야 안 문제 어게 혼자 사람들에게한테 얘 얘하다 것은 보인다면 어 어는 저 그 해결할이 없 것 어 것이고 상황이원을 보이게 수 때문에 저 저단은 주변 해결 해 보려고 노력을 것이입니다. 어 안 된을 때는 어 주변 주변은의이 수 같습니다. 어 제가는 이제 사람들에게에는 혼자 해결 수 있는 일이 없다고 생각합니다. 어 여러 요청 할 해서 그 혼자겨하게 일은 아니고 어 싫 어 해결하려고 때 더 두 정도 것 한 한 사람들 많은 아니면하우가 있는 분 도움을 요청 때 어 분 정도 분 정도에도 해결 도움을 수 있다고 거 생각합니다. 그래서 저 식으로 좀 위해서 어 도와 도움을 요청할 때 그 그절하게 도움을줄야 된다고 것이고 그야지 그 청 수 있는 것이라고 같습니다.  그런론은 혼자 혼자 혼자 사람들에게에게 도움을해서 그하게 해결 편입일이다 편입 같습니다.  이상입니다. \n",
            "경력상태: 신입 질문: 어 일을 하게 되면 그 업무를 진행할 때 그 업무 시에 어떤 분쟁도 발생할 수 있겠죠 그렇게 어 분쟁이나 서로 이렇게 안 맞을 때 그런 어 그럴 때 본인만의 대처법이 있나요 그것에 대해서 말씀해 보세요 답변: 아무래도 저희는 디자인 분야에서 종사하고 있기 때문에 사람들의 객관적인 의견보다는 주관적인 의견도 많이 들어간다고 생각합니다. 물론 모두를 만족시킬 수가 없는 게 또 디자인이라는 생각을 하고 있습니다. 이렇기 때문에 저도 팀 플레이를 하면서 다양한 분쟁이 발생했던 적이 있는데요. 저는 보통 이 이걸 분쟁이라고 받아들이고 올바른 분쟁이라고 받아들이고 다툼이 없도록 우선 노력하는 편입니다. 상대방의 기분을 상하지 않게 해야 제가 상대방을 설득할 수 있다는 생각이고 상대방을 설득하기 위해 그 과정을 또한 그 과정 또한 노력을 하는 편입니다. 팀 플레이어와 좀 다툼이 있었던 경험이 있었는데 교수님은 저희 프로젝트를 크게 수정하길 바라셨고 저는 컨셉만을 지켜가면서 가져가고 싶었습니다. 그 결과 저는 이제 팀 플레이와 교수님 둘 다 설득해야 되는 방향이었는데요. 제가 제 의견들을 종합하고 모아서 열심히 고민하고 답변들을 고민해 본 후 제 진솔한 마음을 좀 전달했던 것 같습니다. 저희의 프로젝트에 이런 컨셉이 중요하다는 것을 상대방에게 설득시키기 위한 노력을 해서 대처해야 제 대처\n",
            "경력상태: 신입 질문: 지원 지원 하 되면 자료를 지역에서 하 때 자료를 자료를량이 분쟁이 분쟁이이나 발생할 수 있는데죠 어 된 분쟁이에 분쟁이 간의 분쟁이 좋은을 수도 어떻게 상황을 상황을 때 어떻게만의 대처법이 있으요 답 대해서 말씀해 주시세요 답변: 어래도 저는 일을 업무 일을 있는 때문에 어 의견을 시각과 객관적인 의견이들이 굉 반영다고 생각을합니다. 그래서 저 아우시킬 수는 없 부분 디자인 디자인 분야 분야 가지고 있습니다. 그래서기 때문에 저는 디자이너원를 할 저 의견 발생할될 적이 있습니다.요. 저는 이러한 저럴럴 해결하기이라고 생각하지 그 방향으로 해결 생각을 있습니다.이 일어나지 최대한은 편입니다. 왜냐하면 의견을분을 상하지 않게끔 하기 원하는 배려할 수 있고 생각이도요. 이해할 위해서는선 상대방의 최대한 거쳐야 과정이라고 저 해야 편입니다.  플레이를 함께 더이 있을 적이 있는데요.님 저에게에게트를 진행 성공해셨 원지고 저희 그펌을 고집보 진행갔 싶다습니다. 하지만 결과 저희는 컨 팀 플레이를 컨님의과의 다 만족을 하는 상황이성을요. 그 컨 의견을만을 좀해서 팀 컨 프로젝하고 또변하는 해해서 가면서 결과 교수 의견심을한 답 담 더해 경험이 같습니다. 는 의견트는 대한 저셉과 반영하다는 것을 교수 설득을 위해서 노력 많이 저했던겠 의견법이\n",
            "경력상태: 신입 질문: 유아이 지유아이 디자인이란 무엇이라고 생각하는지 설명해 주시겠습니까 답변: 일단 가 단순하게 직역하자면 유저 인터페이스 그래픽 유저 인터페이스로 알고 있습니다. 유아이 디자인은 아무래도 요즘 핸드폰 속에서 나오는 개체들이라고 많이 알고 있죠. 유엑스 유아이라는 말 단어가 생기고 뭐 프로덕트 디자이너들이라는 이야기도 생기고 있는 걸로 알고 있습니다. 그리고 이제 보편적으로 지유아이는 그것을 제외하고 나오는 모든 인터페이스라고 생각하는데요. 뭐 텔레비전에서 저희가 뭐 볼 수 있는 버튼이나 스위치들이라던지 아니면 컴퓨터에서 보여지는 이런 컨텐츠들 아이콘 이런 부분이 유아이 지유아이 디자인이라고 생각하는데요. 이 부분에서도 역시 가장 중요한 건 사용자 경험이라고 생각합니다. 왜 괜히 유엑스 유아이라는 게 한 단어로서 자리 잡은 게 아니라고 생각합니다. 저희가 사람들이 정말 이 화면 지아이 지유아이나 유아이를 이용할 때 편리함 둘째 치고 뭔가 당연한 것에 이끌리게 된다고 생각하거든요. 이런 익숙한 패턴들이나 편리함이 있다고 생각합니다. 그 속에서 사람의 행동 하나하나를 디자인하는 것이 유아이 지유아이 디자인이라고 생각합니다. \n",
            "경력상태: 신입 질문: 지원이 지유아이 디자인이란 무엇이라고 생각지 본인의 주시겠습니까 답변: 유아 유아독하게 어떤감만면 유아저 인터페이이스라고 사용자저 인터페이스의 사용자가 있습니다. 어이 지은 사용자가래도 사용자에는드폰이나 굉 유들의마다 알고들 있는데죠. 어저스 디자인이 것은 자체가 굉 그 유덕트 유아라고이라고 말이 많이 뭐 것로 알고 있는데 어 이제 유 사람들이유아이이는 이제 이제도 용어 디자인페이스들이 알고합니다.요. 어 예를전을 나오는희가 볼 유 수 있는 화면튼이나 뭐치 같은 이런든지 이런 뭐에서 저지는 화면 버텐츠들 이런콘들 것들이 유아이 디자인유아이 디자인이라고 알고합니다.요. 어 유아들은 유아나 중요한 것은 유 인터이라고 생각합니다. 사용자가 그러뭘찮은 유엑스 유아이를 말을 생겼 번만만 잡 건 아니 생각하 사용자가는 이제 유 많이걸 안에서유에서유아이를 이런이를 통해서 때 정말함을이나로는 이괜가 직관 것 대한려서 되면 생각합니다.거든요. 그래서 사용자 것을을 이런함 있어야 생각합니다. 게 사람들이 경험이나가 통해서하는 게 유아이 디자인유아이 디자인이라고 생각합니다. \n",
            "경력상태: 신입 질문: 저희가 하는 일 중에 유아이 지유아이 디자인이라고 있지 않습니까 이 교과서에서 나오는 어떤 정의 말고 그 본인이 생각하시는 유아이 지유아이 디자인은 뭐라고 생각하시는지 좀 말씀해 주시겠습니까 답변: 유아이 지유아이 디자인이란 무엇이라고 생각하느냐에 대한 부분은 먼저 유아이와 지유아이의 차이점을 알아봐야 될 것 같습니다. 유아이란 유저 인터페이스 유아이는 사용자와 컴퓨터가 정보를 주고받기 위해 사용자와 프로그램이 상호 작용하는 프로그램의 일부분으로 사용자 인터페이스라 부릅니다. 핸드폰이나 컴퓨터 프로그램 내비게이션 같은 전자기기 등 시스템과 사용자 사이에서 의사소통을 목적으로 하는 사용 설명서의 일종이라 할 수 있습니다. 그러면 지유아이란 무엇인가. 그래픽 유저 인터페이스라 할 수 있습니다. 그래픽 유저 인터페이스는 사용자가 그래픽을 통해 컴퓨터의 정보를 교환하는 환경을 말합니다. 이전까지 사용자 인터페이스는 키보드를 통해서 명령어로 작업을 수행시켰다면 지유아이에서는 마우스 등을 이용해서 화면의 메뉴 중 하나를 선택하여 작업을 수행합니다. 간단하게 지유아이는 글자 뿐 아니라 화면에 아이콘을 띄어 마우스를 이용하여 화면에 있는 아이콘을 클릭하여 작업을 수행하는 방식입니다. 대표적으로 마이크로소프트의 윈도 애플의 웹 운용 체제 등을\n",
            "경력상태: 신입 질문: 지원희 일을 일의 특성상 가장이 지유아이 디자이라는 하는 않습니까 그 유아적인 어떤 유 디자인와 그게 생각하는했을시는 디자이 디자유아이 디자인에이라는 어떤라고 생각하시는지 한번 말씀해 주세겠습니까 답변: 유아이 지유아이 디자인인이란 유인 생각하는하 대한 저 제가 유아이 지유아이가 합성점 생각해보는야 될 것 같습니다. 유아이는 유저 인터페이이스라고이 유자를 상호 상호 주고 받는 위한 상호자를 컴퓨터 상호 작용하는 것을 이름부분으로 알고 인터페이스 사용자가든지터는니다. 사용자가드폰이나 컴퓨터 등에서에서도게이션 등 것을 기 컴퓨터 다양한에 상호 인터 상호통을 하는 하는 디자인자를서를 일종입니다. 할 수 있습니다. 지 지유아이는 사용자가 라는 사용자가 유저 인터페이스 유아 할 수 있습니다. 그래픽 유저 인터페스는 사용자가 그래픽을 통해 정보를 정보를 주고 것을 뜻합니다. 사용자가 유아 인터페스는 주로워드드를 통해 정보를어를 입력 했했습니다. 지유아이 디자인 그래픽우스를나 이용하여 그래픽 크기를뉴를 원하는 선택 화면에 수행하는하였  말하면유아이이를 사용자가 그대로만이 그림 있는콘을 추가하여우고 아이우스를 사용하는 문서를 아이 메콘을 누릭하거나 아이 수행하는 것을입니다. 적으로 아이소프트의 엑스도우저의 컴퓨터 페이기 윈 들\n",
            "경력상태: 신입 질문: 지원자님이 지원하신 디자이너로서 앞으로 목표에 관해서 지원자님께서 한번 설명해 주시겠습니까 답변: 디자이너로서 앞으로 목표에 관해 설명을 부탁드리는 부분은 어 개인적으로 디자이너라는 부분은 당연히 어떤 물건을 디자인 어떤 물건이나 옷이나 따른 것들을 디자인해서 고객이 만족하는 부분들을 디자인하는 게 가장 중요하다고 생각을 합니다. 하지만 더 중요하다고 생각하는 거 그거는 그 디자인에도 나름대로의 원칙 원리 원칙이 있어야 한다고 생각을 하며 철학적인 부분들도 본인에 담겨있어야 된다고 생각을 합니다. 누구나 사람들이 좋아하는 것만 만들다 보면 자신이 왜 디자인을 하고 있는지에 대한 원래 자기가 본인 자신이 디자인을 할려고 하는 부분들이 온 철학적인 부분들이 전혀 없게 되는 경우를 많이 보아왔습니다. 현실과 타협을 하다보면 끝도 없이 타협을 하게 되구요. 그 타협에 범위 정도나 어느 런리 원칙 이외에는 타협이 없다고 생각을 하고 원리 원칙이나 철학적인 본인만의 부분들은 꼭 어 많이 있어야 된다고 생각을 합니다. 그래서 저 저의 앞으로의 목표는 저만의 디자인 철학과 원리 원칙을 명확히 세우는 부분이라고 할 수 있겠습니다. 아직도 정확한 저의 철학은 아이엔지 형이지만 그 부분이 저의 목표입니다. \n",
            "경력상태: 신입 질문: 지원자님 생각하신 직무가 가지고 어떤가 관해 말씀자님의께서 어떻게 말씀 주겠습니까 답변: 제가로서 앞으로의 저가 대해서 말씀 드리드린 거 어 제가 어로서 직업 어 디자이너 디자인을 디자인하고 물건을에 어떤 이런 이런 것들을 디자인하는 어 원하는할 그런들을 만들어해서 것이 목표 중요하다고 생각을 합니다. 어 디자이너 중요한 생각하는 부분은는거는 어 디자이너한 여러 어떤과 원칙 있어야 되고 생각을 합니다. 그이 부분도에서도 있어야인들이 어떤져어야 한다고 생각을 합니다. 그래서 다 원하는 그런 할 수 보면은 원하는 이 해야 싶은지에 대해서 의 가지고 가지고만의 가지고 하고 때 하는 마음들이 잘전히적인 부분들이 다 반영 되는 경우가 많이 왔습니다. 그래서 타협 해서다 보면 그도 없이 그 하게 되고더요. 그래서 결과점을 대한도도 그 정도룰닝티에들이 그이 되지 생각을 합니다. 있습니다. 원칙만 원칙적인 부분만의 철학들을 항상 지켜야 그 지켜 된다고 생각을 합니다.  저는는 목표는 목표는 그런의 철학을 철학을 철학을 원칙 가지고 하고 게들이 말씀 수 있겠습니다.  저 철학만의 철학 없지만디어에 디자인이라고 앞으로 아이 저의 디자인가 \n",
            "경력상태: 신입 질문: 이직을 생각하는 동료에게 뭐라고 할 것인가 답변: 일단 이유를 먼저 물어볼 것 같습니다. 그 이유에 대해서 제가 할 대답이 달라질 것 같고요. 그래도 일단 결정이 된 상황이라면 그동안 업무적으로 지원을 해주어서 너무 고마웠고 이직 준비를 응원한다고 기본적으로 이야기해 줄 것 같습니다. \n",
            "경력상태: 신입 질문: 지원 직무 생각하는 동가 뭐라고 말씀까요변: 이 이 물어 물어볼 것 같습니다. 어 이유가에 대해서 답 답 수을 어떤 수 같요. 만약 그 이 된다면이라면 저의에서 힘들 한셨 그 감사마웠고 또직을하는 하면서원해 말씀 말씀할 줄 것 같습니다. 어\n",
            "경력상태: 신입 질문: 지금까지 지내온 중에서 본인이 지원한 직무 분야와 관련된 경험 그런 것이 있으면 얘기해 주시겠습니까 알바도 좋고 또 자원 활동도 좋습니다. 답변: 저는 아무래도 공모전에 참여했던 것이 가장 유사 지금 직무와 유사한 경험이라고 생각하는데요. 기본적으로 아이디어를 많이 내기 위한 그런 디자인 공모전들도 많이 있지만 프리랜서들 사이에서 경쟁하는 공모전에 참여했던 적이 있습니다. 제가 디자인 관련 산업 디자인 전공을 하고 제품 디자인을 공부하고 있지만 일 학년 때 어떤 방향으로 공모전을 나가야 될지 헷갈리더라고요. 제품 디자인에 대한 툴이나 이런 것들이 공부가 안 되어 있다 보니까. 그래서 제가 선택한 게 브랜딩 공모전이었습니다. 로고와 간판을 만들어서 그 벡터 파일로 보내주는 공모전이었는데 제가 그 공모전에서 약 삼십 수를 했습니다. 제가 서른 번 정도의 시도를 했고 주변에서 너는 산업 디자이너고 제품 디자이너니까 못하는 게 당연한 거야 라는 말을 했는데 그 말을 듣는 게 굉장히 싫었습니다. 스스로 많은 것을 만들어 나가고 상대방을 이해하는 게 디자인이라고 생각을 하고 모든 디자인 분야에서 통용되어야 된다고 생각하고 있었습니다. 그래서 삼십 수 끝에 제가 많은 프로 프리랜서들 사이에서 우승을 한 경험이 있습니다. \n",
            "경력상태: 신입 질문: 지원 살아오면서 여러 가장 가장한 직무가와 가장 경험이은 경험이 있 말씀기해 주겠어 답몬 해 아니면 영업봉 좋으니 그런데변: 제가는 제가래도 영업전 나갔했던 경험이 가장 기억했던 현재와 유사 경험이라고 생각을합니다.요. 아무 제가 내는 내는 위해서 공모 공모 공모전이나 많이 참여를 저젠서 공모 같은 공모하는 공모전 참여했던 경험이 있습니다. 저 디자인 공모해서 디자인 공모 했기 있었기 디자인 전공 있었기 저단은 때부터 공모 공모 디자인을전이 진행야 할지지 고뭔갈려라요. 그래서 디자인 대한 그런을 이런 것들을 아직부가 되지 돼 있어서 보니까 굉 그래서 저 디자인 것은 바로랜딩 공모전이었습니다. 그래서고 같은판 디자인 그 브터들을일을 만들어서서 그런전이었는데요. 간 공모전에 간 이 개월 개 진행습니다. 그래서 그른 다섯 정도 작품을 해요. 굉는 이 디자인가 저 디자인고 이 게 없 거야 라는 말을 많이요.걸 듣고 순간 굉장히 힘들더습니다. 그래서도 생각을 배웠야 싶 설득 게 굉이라는 생각 했는데요. 것을은 성공되는 한다고 생각을요.습니다. 그래서 저 학년 수를까지 그 그 것을포랜서들을 사이에서 경쟁 했 적이 있습니다. \n",
            "경력상태: 신입 질문: 면접자분 주변 친구들 중에서 한 명을 골라서 어 그 친구분의 어 장 칭찬을 부탁을 드리겠습니다 답변: 주변 친구들 중 한 명을 골라 칭찬해 보라는 얘기를 한다면 저는 고등학교 어 친구 중 한 명을 칭찬하고 싶습니다. 지금도 계속 지속적으로 만나고 있는 친구고요. 그 친구의 가장 큰 장점은 주위 사람들이 얘기를 하기 하기에는 어 잘 이야기를 들어줍니다. 그 이야기를 들어준다는 부분들이 어 저하고는 좀 상반된 부분이긴 한데요. 저의 경우는 사람들과 만나서 먼저 손을 내밀고 얘기를 잘 하는 편입니다. 따라서 그 친구의 경우에는 성격이 저같이 활발하거나 외향적이거나 그 대화를 주도하거나 강력한 카리스마가 있다던가 그런 부분은 아니지만 상대방이 어떤 고민이나 아니면 재미있게 얘기하는 부분들을 잘 들어줍니다. 따라서 그 친구 주위에는 항상 사람들이 많이 있었고요. 그리고 주위에서 평가도 사람들이 사람이 착한 사람이다 좋은 사람이다 라는 이미지가 되게 강합니다. 따라서 저의 경우는 영업을 진행을 하며 먼저 얘기를 하는 부분들이 많았기 때문에 그 친구를 보면서 저도 들어주는 부분들도 일부분 어 해야 된다고 생각을 하면서 지금도 그렇게 할려고 노력을 합니다. 두 마디 할 거면 한마디만 하고 한마디는 하기 할 시간에 상대방의 얘기를 들어주려 노력합니다. \n",
            "경력상태: 신입 질문: 지원자님께서는 친구들 중 한 명을 골라서 칭찬 칭찬 친분의 칭찬 칭찬점과을 해드 해겠습니다 구체변: 제 친구들 중에 한 명을 골라 칭찬을 주세겠 질문을기를 하 저는 제 때 동창 중에 한 명을 골라해 싶습니다. 그 그 연락을 연락을고 있는 친구인데 또 그 친구는 장점은 큰 장점은 어 사람들과 저기 할에도면은 굉 굉 들어 잘주고니다. 그리고 친 들어주는다는 것은인데 굉 굉의 굉 다른 부분긴 한데요. 어는 가장 어 이야기를서 이야기를 얘 내밀고 이야기를기를 하는 들어 편니다. 그래서 그 친구구는 그런 어 굉랑 굉하고 아니면향적인 그런 친구 잘적으로 하는 추진리스마를 있는기보다는가 하는 것들이 저 어 저 얘이나 어떤 어떤있어 얘기를하는 부분에들을 잘 들어줍니다. 그리고 그 친구와 어 어 많이 있고요. 그 그 사람들이 저도 좋 저 많 사람다 라는 사람이다 라는 이야기를지가 굉 강한합니다. 그래서 그는 친구 그 할 할 그 사람을기를 하고 편들이 굉고 때문에 그 친구 칭찬 아도 그주고 부분이들이 있고 있었필을 될 생각을 합니다. 그 그 하고려고 노력을 하고  번째만 때 없이 한라도 하고 그 마디 꼭 때문에려고 한 얘기를 들어주는면서면은합니다. \n",
            "경력상태: 신입 질문: 귀하는 업무 중 팀원과 불화가 생긴다면 어떻게 해결하시겠습니까 그것에 대해서 말씀해 주세요 답변: 팀원과 불화가 생긴다면 어떻게 해결해야 될까라는 부분에 대해서는 기본적으로 협업을 진행한다든가 팀 내에 어떤 조직 사회 조직 생활을 하다보면 팀원과의 불화가 생기는 부분은 피할 수 없을 것 없던 것 같습니다. 저의 경우는 팀원과 불화가 생기면 그런 부분에 대해서 원인을 일단 파악을 하고요. 당연히 그 원인에 대해서 같이 대화를 나누고 불화가 생겼던 이유라든지 그러한 부분들을 해소를 하려고 노력을 했던 것 같습니다. 무조건 사람이 싫다든가 팀원이 무조건 말을 안 듣는다면 그거는 당사자만이 해결할 수 있는 부분은 아니라고 생각을 합니다. 회사를 팀원과의 불화가 생기면 팀원도 힘들겠지만 심적으로는 저 또한 힘들어졌던 기억을 가지고 있습니다. 이 부분이 해결되지 않으면 결국은 퇴사를 하는 상황이 발생을 하고요. 일반적으로는 상사가 퇴사를 하는 경우보다는 팀원이 퇴사를 하고 회사 입장에서도 당연히 손해를 보는 부분들이 있기 때문에 그 인원과는 여러 가지 상황으로 대화를 나눠보고 그 상황에 대해서는 본인도 어느 정도 인지를 해서 그런 부분들이 에 다시 한번 계속 대화를 통해서 해결했던 생각 경험을 가지고 있습니다. \n",
            "경력상태: 신입 질문: 지원하 이력 특성상 스케원과 불화가 생긴다면 어떻게 해결하시겠습니까 해결 대한 말씀해 주세요 답변: 팀원과 불화가 생긴다면 저 해결하시 할지지요. 질문을 대해서 저 저업을 하는해야면은 아니면원 어떤 문제가이나 안에서 내에서 하다 보면 팀원과과의 불화는 생기는 경우가 굉 수 없는 것 같 부분 같습니다. 왜냐하면는 개인적인 팀원과 불화가 생긴 일단 부분 대해서 먼저 먼저 파악을 하고 그 그 그 원인이 대해서 서로 이야기를 통해서 그화가 생긴던 부분에에든지 그 부분들을 서로소를 할 노력을 할 것 같습니다. 하지만적으로 사람어서 라고 아니면원 싫 싫 잘 한다다 그건 팀끼리 아니라 수 있는 문제 아니라고 생각을 합니다. 그래서 다니원이라고 불화가 생긴 그원 당연히고지만 팀적으로 굉도 힘들질 것이 가지고 있습니다. 그래서럴 해결이 않으면 팀 회사사를 해야 것이 올 할 또 그렇기 팀사와 저사를 하는 경우가들이 상원이 퇴사를 하는 그 생활을에서도 저 퇴 보는 상황이이기 있기 때문에 저 부분에들과의 조금 가지 부분에서들을 인 통해서서 그리고 상황 맞춰 서로인도 이해를 정도 이해를지를 하고 해결을 부분들을 해결 해결 한 발생하지 협 해 풀이 것들을 가지고 있습니다. \n",
            "경력상태: 신입 질문: 사내 스터디에서 어떤 것을 공부하고 싶으세요 답변: 사내의 스터디에서 어떤 것을 공부하고 싶은지에 대한 부분은 가장 제가 관심이 있어 하는 부분은 언어적 부분과 역사 부분 운동 부분 그리고 여행 부분입니다. 사내 스터디 쪽에서 연어가 언어가 되 부분이 있다고 한다면 저는 영어 중국어 일본어 이외에 따른 언어 스페인어나 딴 언어를 공부를 하고 싶습니다. 업무와 관련된 부분이라면 당연히 영어 중국어 일본어에서 선택을 해서 그 부분을 좀 더 발전시키고자 할 것입니다. 만약에 운동 부분이 있다면 저는 개인적으로는 헬스와 아 농구 탁구 볼링을 아 예전부터 계속해왔습니다. 이 부분이 하나 있다면 이 부분 중에 선택을 해서 계속 친목을 도모하고 신체를 어 닦는 부분을 계속 하고 싶습니다. 여행 동아리가 있다면 제가 이 시 현재까지 이십여 개 국을 돌아다닌 경험을 바탕으로 따른 국내든 해외든 관련된 여행을 하면서 볼 수 있는 그런 부분들을 계속하고 싶습니다. 마지막으로 역사 관련된 부분에 동아리가 있다면 스터디가 있다면 그 역사 관련된 특히 어 불교 미술사 사찰 쪽이나 문화유산 해설 관련된 부분들을 계속 공부하고 싶습니다. \n",
            "경력상태: 신입 질문: 지원 스터디를 모임을 어떤 것을 공부 싶으신요 그렇게변: 사내내에서 스터디를에서 어떤 것을 공부하고 싶지 대한 이유 저 먼저 하고 있는 하는 부분 어 부분 그리고 부분입니다. 부분입니다. 언어 부분입니다. 저 스터디를에서 가장말 있다면 되는겠 가장 한다면 저는 역사 공부를 일본 이렇게 다른 언어들을어 아랍 나라 공부하고 하고 싶습니다. 그 관련된 부분들은 저 언어 중국어 일본어를 공부를 할 공부를 부분에 공부를 더 공부를시키고 합니다. 것 하지만에 사내 부분 있다면 저는 운동적으로는 운동스 농구로마 탁구 볼링을 하고 운동을전부터 좋아 해고 그래서 운동을 제가 둘 저 부분들은 저 해서 저 공부를목을 다 싶 단련 단련 운동을 좀하고 싶습니다.  부분리를 있다면 저 여행 부분을내에 여행을 동아 년 년국을 다녀다녔 경험이 가지고 여행 나라 여행 해외든 상관없이 부분 다니면서 어링 있는 부분 부분들을 좀하고 싶습니다.  운동 부분 부분 대해서는리는 있다면 저터디 있다면 저 부분을 관련된 부분을 역사 역사 관련된 관련된이나 관련된 이런산 쪽사 부분들을 좀 공부를 싶습니다. \n"
          ]
        },
        {
          "name": "stderr",
          "output_type": "stream",
          "text": [
            "Validation Epoch 5: 100%|██████████| 502/502 [04:14<00:00,  1.97it/s, loss=2.4115]\n"
          ]
        },
        {
          "name": "stdout",
          "output_type": "stream",
          "text": [
            "calculating scores...\n",
            "computing bert embedding.\n"
          ]
        },
        {
          "data": {
            "application/vnd.jupyter.widget-view+json": {
              "model_id": "1ed25a2d5888478ea3f698f844b640a8",
              "version_major": 2,
              "version_minor": 0
            },
            "text/plain": [
              "  0%|          | 0/251 [00:00<?, ?it/s]"
            ]
          },
          "metadata": {},
          "output_type": "display_data"
        },
        {
          "name": "stdout",
          "output_type": "stream",
          "text": [
            "computing greedy matching.\n"
          ]
        },
        {
          "data": {
            "application/vnd.jupyter.widget-view+json": {
              "model_id": "86e397b5fb0c409e945b640ead191af1",
              "version_major": 2,
              "version_minor": 0
            },
            "text/plain": [
              "  0%|          | 0/126 [00:00<?, ?it/s]"
            ]
          },
          "metadata": {},
          "output_type": "display_data"
        },
        {
          "name": "stdout",
          "output_type": "stream",
          "text": [
            "done in 282.31 seconds, 28.43 sentences/sec\n",
            "Epoch 5 Average Validation Loss: 2.1088\n",
            "Epoch 5 Average Validation BLEU: 1.0342\n",
            "Epoch 5 Average Validation ROUGE: {'rouge1': 0.37006119923686803, 'rouge2': 0.11388292672741122, 'rougeL': 0.29512936751560886}\n",
            "Epoch 5 BERTScore Precision: 0.7867\n",
            "Epoch 5 BERTScore Recall: 0.7785\n",
            "Epoch 5 BERTScore F1: 0.7826\n",
            "\n",
            "Training completed!\n"
          ]
        }
      ],
      "source": [
        "# SmoothingFunction 설정\n",
        "smoothing = SmoothingFunction().method1\n",
        "\n",
        "# 모델 학습 설정\n",
        "num_epochs = 5\n",
        "device = torch.device(\"cuda\" if torch.cuda.is_available() else \"cpu\")\n",
        "model = model.to(device)\n",
        "\n",
        "# 옵티마이저 및 스케줄러 정의\n",
        "optimizer = AdamW(model.parameters(), lr=5e-5)  # 옵티마이저 정의\n",
        "total_steps = len(train_dataloader) * num_epochs\n",
        "scheduler = get_linear_schedule_with_warmup(optimizer,\n",
        "                                            num_warmup_steps=0,\n",
        "                                            num_training_steps=total_steps)  # 스케줄러 정의\n",
        "\n",
        "# ROUGE 계산기\n",
        "scorer = rouge_scorer.RougeScorer(['rouge1', 'rouge2', 'rougeL'], use_stemmer=True)\n",
        "best_valid_loss = float('inf')\n",
        "\n",
        "# 학습 및 검증 루프\n",
        "for epoch in range(num_epochs):\n",
        "    # 학습 단계\n",
        "    model.train()\n",
        "    total_train_loss = 0\n",
        "    train_steps = 0\n",
        "    total_train_bleu = 0\n",
        "    total_train_rouge = {'rouge1': 0, 'rouge2': 0, 'rougeL': 0}\n",
        "    num_train_samples = 0\n",
        "\n",
        "    train_pbar = tqdm(train_dataloader, desc=f'Training Epoch {epoch+1}')\n",
        "    for batch in train_pbar:\n",
        "        # 입력 데이터 준비\n",
        "        input_ids = batch['input_ids'].to(device)\n",
        "        attention_mask = batch['attention_mask'].to(device)\n",
        "        labels = batch['labels'].to(device)\n",
        "\n",
        "        # 모델 출력\n",
        "        outputs = model(input_ids=input_ids, attention_mask=attention_mask, labels=labels)\n",
        "        loss = outputs.loss\n",
        "\n",
        "        # 역전파 및 최적화\n",
        "        loss.backward()\n",
        "        torch.nn.utils.clip_grad_norm_(model.parameters(), 1.0)\n",
        "        optimizer.step()  # 옵티마이저 업데이트\n",
        "        scheduler.step()  # 스케줄러 업데이트\n",
        "        optimizer.zero_grad()\n",
        "        torch.cuda.empty_cache()  # 여기 추가\n",
        "\n",
        "        # 손실 누적\n",
        "        total_train_loss += loss.item()\n",
        "        train_steps += 1\n",
        "\n",
        "        train_pbar.set_postfix({'loss': f'{loss.item():.4f}'})\n",
        "\n",
        "    # 평균 점수 계산\n",
        "    avg_train_loss = total_train_loss / train_steps\n",
        "\n",
        "    print(f\"\\nEpoch {epoch+1} Average Training Loss: {avg_train_loss:.4f}\")\n",
        "\n",
        "    # 검증 단계\n",
        "    model.eval()\n",
        "    total_valid_loss = 0\n",
        "    valid_steps = 0\n",
        "    total_valid_bleu = 0\n",
        "    total_valid_rouge = {'rouge1': 0, 'rouge2': 0, 'rougeL': 0}\n",
        "    num_valid_samples = 0\n",
        "\n",
        "    all_generated_texts = []  # BERTScore를 계산하기 위한 생성 텍스트 리스트\n",
        "    all_reference_texts = []  # BERTScore를 계산하기 위한 참조 텍스트 리스트\n",
        "\n",
        "    with torch.no_grad():\n",
        "        valid_pbar = tqdm(valid_dataloader, desc=f'Validation Epoch {epoch+1}')\n",
        "        for i, batch in enumerate(valid_pbar):\n",
        "            input_ids = batch['input_ids'].to(device)\n",
        "            attention_mask = batch['attention_mask'].to(device)\n",
        "            labels = batch['labels'].to(device)\n",
        "\n",
        "            outputs = model(input_ids=input_ids, attention_mask=attention_mask, labels=labels)\n",
        "            loss = outputs.loss\n",
        "\n",
        "            # 손실 누적\n",
        "            total_valid_loss += loss.item()\n",
        "            valid_steps += 1\n",
        "\n",
        "            # BLEU 및 ROUGE 계산\n",
        "            generated_ids = outputs.logits.argmax(dim=-1)\n",
        "            generated_texts = tokenizer.batch_decode(generated_ids, skip_special_tokens=True)\n",
        "            labels_for_decoding = labels.masked_fill(labels == -100, tokenizer.pad_token_id)\n",
        "            reference_texts = tokenizer.batch_decode(labels_for_decoding, skip_special_tokens=True)\n",
        "            if i ==0:\n",
        "                for r,g in zip(reference_texts,generated_texts):\n",
        "                    print(r)\n",
        "                    print(g)\n",
        "\n",
        "            all_generated_texts.extend(generated_texts)\n",
        "            all_reference_texts.extend(reference_texts)\n",
        "\n",
        "            for ref, gen in zip(reference_texts, generated_texts):\n",
        "                bleu_score = sentence_bleu([ref.split()], gen.split(), smoothing_function=smoothing)\n",
        "                total_valid_bleu += bleu_score\n",
        "\n",
        "                rouge_scores = scorer.score(ref, gen)\n",
        "                for key in total_valid_rouge.keys():\n",
        "                    total_valid_rouge[key] += rouge_scores[key].fmeasure\n",
        "                num_valid_samples +=1\n",
        "\n",
        "            valid_pbar.set_postfix({'loss': f'{loss.item():.4f}'})\n",
        "            torch.cuda.empty_cache()  # 여기 추가\n",
        "\n",
        "    # 평균 점수 계산\n",
        "    avg_valid_loss = total_valid_loss / valid_steps\n",
        "    avg_valid_bleu = total_valid_bleu / valid_steps\n",
        "    avg_valid_rouge = {k: v / num_valid_samples for k, v in total_valid_rouge.items()}\n",
        "\n",
        "    # BERTScore 계산\n",
        "    P, R, F1 = score(all_generated_texts, all_reference_texts, lang=\"ko\", verbose=True)  # lang=\"ko\"는 한국어 기준\n",
        "\n",
        "    print(f\"Epoch {epoch+1} Average Validation Loss: {avg_valid_loss:.4f}\")\n",
        "    print(f\"Epoch {epoch+1} Average Validation BLEU: {avg_valid_bleu:.4f}\")\n",
        "    print(f\"Epoch {epoch+1} Average Validation ROUGE: {avg_valid_rouge}\")\n",
        "    print(f\"Epoch {epoch+1} BERTScore Precision: {P.mean():.4f}\")\n",
        "    print(f\"Epoch {epoch+1} BERTScore Recall: {R.mean():.4f}\")\n",
        "    print(f\"Epoch {epoch+1} BERTScore F1: {F1.mean():.4f}\")\n",
        "\n",
        "    # 최적의 모델 저장\n",
        "    if avg_valid_loss < best_valid_loss:\n",
        "        best_valid_loss = avg_valid_loss\n",
        "        print(f\"Saving best model with validation loss: {best_valid_loss:.4f}\")\n",
        "        torch.save(model.state_dict(), './best_model.pt')  # 현재 디렉토리에 저장\n",
        "\n",
        "print(\"\\nTraining completed!\")\n"
      ]
    },
    {
      "cell_type": "code",
      "execution_count": null,
      "id": "c5a2ba3a",
      "metadata": {
        "execution": {
          "iopub.execute_input": "2024-11-22T19:40:07.053439Z",
          "iopub.status.busy": "2024-11-22T19:40:07.052849Z",
          "iopub.status.idle": "2024-11-22T19:40:07.112211Z",
          "shell.execute_reply": "2024-11-22T19:40:07.111059Z"
        },
        "papermill": {
          "duration": 2.343354,
          "end_time": "2024-11-22T19:40:07.114246",
          "exception": false,
          "start_time": "2024-11-22T19:40:04.770892",
          "status": "completed"
        },
        "tags": [],
        "id": "c5a2ba3a",
        "outputId": "6abc17a4-5608-46ae-f2cf-a271f894c33e"
      },
      "outputs": [
        {
          "name": "stdout",
          "output_type": "stream",
          "text": [
            "GPU 0 메모리 리셋 완료!\n",
            "  전체 메모리: 15095.06 MB\n",
            "  예약된 메모리: 2760.00 MB\n",
            "  사용 중인 메모리: 2248.62 MB\n",
            "  사용 가능 메모리: 511.38 MB\n",
            "GPU 1 메모리 리셋 완료!\n",
            "  전체 메모리: 15095.06 MB\n",
            "  예약된 메모리: 0.00 MB\n",
            "  사용 중인 메모리: 0.00 MB\n",
            "  사용 가능 메모리: 0.00 MB\n"
          ]
        },
        {
          "name": "stderr",
          "output_type": "stream",
          "text": [
            "/opt/conda/lib/python3.10/site-packages/torch/cuda/memory.py:343: FutureWarning: torch.cuda.reset_max_memory_allocated now calls torch.cuda.reset_peak_memory_stats, which resets /all/ peak memory stats.\n",
            "  warnings.warn(\n"
          ]
        }
      ],
      "source": [
        "import torch\n",
        "import gc\n",
        "\n",
        "# GPU 상태 초기화 및 남은 메모리 확인\n",
        "for i in range(torch.cuda.device_count()):\n",
        "    device = torch.device(f\"cuda:{i}\")\n",
        "\n",
        "    # 메모리 초기화\n",
        "    torch.cuda.empty_cache()  # GPU 캐시 비우기\n",
        "    torch.cuda.ipc_collect()  # GPU 메모리에서 누수된 객체 수집\n",
        "\n",
        "    # 메모리 통계 초기화\n",
        "    torch.cuda.reset_max_memory_allocated(device)\n",
        "    torch.cuda.reset_peak_memory_stats(device)\n",
        "\n",
        "    # GPU 메모리 상태 확인\n",
        "    total_memory = torch.cuda.get_device_properties(device).total_memory  # 전체 메모리\n",
        "    reserved_memory = torch.cuda.memory_reserved(device)  # 예약된 메모리\n",
        "    allocated_memory = torch.cuda.memory_allocated(device)  # 사용 중인 메모리\n",
        "    free_memory = reserved_memory - allocated_memory  # 예약된 메모리 중 사용 가능 메모리\n",
        "\n",
        "    print(f\"GPU {i} 메모리 리셋 완료!\")\n",
        "    print(f\"  전체 메모리: {total_memory / 1024 ** 2:.2f} MB\")\n",
        "    print(f\"  예약된 메모리: {reserved_memory / 1024 ** 2:.2f} MB\")\n",
        "    print(f\"  사용 중인 메모리: {allocated_memory / 1024 ** 2:.2f} MB\")\n",
        "    print(f\"  사용 가능 메모리: {free_memory / 1024 ** 2:.2f} MB\")\n",
        "#gc.collect()"
      ]
    },
    {
      "cell_type": "code",
      "execution_count": null,
      "id": "15264eeb",
      "metadata": {
        "execution": {
          "iopub.execute_input": "2024-11-22T19:40:11.628568Z",
          "iopub.status.busy": "2024-11-22T19:40:11.628236Z",
          "iopub.status.idle": "2024-11-22T19:40:11.633496Z",
          "shell.execute_reply": "2024-11-22T19:40:11.632625Z"
        },
        "papermill": {
          "duration": 2.285935,
          "end_time": "2024-11-22T19:40:11.635104",
          "exception": false,
          "start_time": "2024-11-22T19:40:09.349169",
          "status": "completed"
        },
        "tags": [],
        "id": "15264eeb",
        "outputId": "16f6d722-ca8c-4daf-ceb7-a4f35745eaf3"
      },
      "outputs": [
        {
          "name": "stdout",
          "output_type": "stream",
          "text": [
            "GPU 메모리 사용량 (할당): 2248.62 MB\n",
            "GPU 메모리 사용량 (예약): 2760.00 MB\n"
          ]
        }
      ],
      "source": [
        "print(f\"GPU 메모리 사용량 (할당): {torch.cuda.memory_allocated() / 1024**2:.2f} MB\")\n",
        "print(f\"GPU 메모리 사용량 (예약): {torch.cuda.memory_reserved() / 1024**2:.2f} MB\")\n"
      ]
    },
    {
      "cell_type": "code",
      "execution_count": null,
      "id": "830fbdd7",
      "metadata": {
        "execution": {
          "iopub.execute_input": "2024-11-22T19:40:16.336530Z",
          "iopub.status.busy": "2024-11-22T19:40:16.335442Z",
          "iopub.status.idle": "2024-11-22T19:40:16.522825Z",
          "shell.execute_reply": "2024-11-22T19:40:16.522022Z"
        },
        "papermill": {
          "duration": 2.513997,
          "end_time": "2024-11-22T19:40:16.524532",
          "exception": false,
          "start_time": "2024-11-22T19:40:14.010535",
          "status": "completed"
        },
        "tags": [],
        "id": "830fbdd7",
        "outputId": "7f03522f-edc5-4e9d-c2c3-467c2a5f7a0f"
      },
      "outputs": [
        {
          "data": {
            "text/plain": [
              "831"
            ]
          },
          "execution_count": 15,
          "metadata": {},
          "output_type": "execute_result"
        }
      ],
      "source": [
        "import gc\n",
        "gc.collect()"
      ]
    },
    {
      "cell_type": "code",
      "execution_count": null,
      "id": "9c09e4b4",
      "metadata": {
        "execution": {
          "iopub.execute_input": "2024-11-22T19:40:21.017341Z",
          "iopub.status.busy": "2024-11-22T19:40:21.016998Z",
          "iopub.status.idle": "2024-11-22T19:40:26.361727Z",
          "shell.execute_reply": "2024-11-22T19:40:26.360709Z"
        },
        "id": "9c09e4b4",
        "outputId": "1bae925b-9842-4f2c-f949-19e5249bed0f",
        "papermill": {
          "duration": 7.62069,
          "end_time": "2024-11-22T19:40:26.363436",
          "exception": false,
          "start_time": "2024-11-22T19:40:18.742746",
          "status": "completed"
        },
        "tags": []
      },
      "outputs": [
        {
          "name": "stderr",
          "output_type": "stream",
          "text": [
            "/opt/conda/lib/python3.10/site-packages/transformers/tokenization_utils_base.py:1617: FutureWarning: `clean_up_tokenization_spaces` was not set. It will be set to `True` by default. This behavior will be deprecated in transformers v4.45, and will be then set to `False` by default. For more details check this issue: https://github.com/huggingface/transformers/issues/31884\n",
            "  warnings.warn(\n"
          ]
        },
        {
          "name": "stdout",
          "output_type": "stream",
          "text": [
            "Prompt: <s> 질문: 자신의 강점은 무엇이라고 생각합니까? 답변:\n",
            "\n",
            "--- Response with Pretrained Weights ---\n",
            ": 자신이 어떻게 하면 돈을 벌 수 있을까요?\"\n",
            "\"그렇습니다만, 지금은 모든 것을 할 수 있는 기회를 갖지 못했습니다.\"\n",
            "결국 세 번째 질문은 결국 자신의 약점을 들추어내 자신의 부족한 점을 채워 나가는 쪽으로 옮겨갔다.\n",
            "\"자, 오늘은 점심시간인데 여기서 무엇을 먹을까요.\"\n",
            "이 질문에서는 가장 우선적인 점심을 먹어라.\n",
            "그리고 자신이 좋아하는 것은 무엇이든지 먹고 싶지 않은 사람은 아무 것도 먹지 말라는 것이었다.\n",
            "자신처럼 약한 사람은 결코 먹지 말라.\n",
            "그러면 약점만큼은 과감하게 버린다.\n",
            "그리고 그 약점은 자기 마음대로 되지 않도록 자신의 단점을 채워 나가야 한다.\n",
            "오늘은 햄버거와 함께 식사를 했다.\n",
            "점심은 쉐프와 함께 했다.\n",
            "첫 번째 질문을 할 때는 뭔가 잘못한 것이 있으면 지적해 주지 않을까 싶은 생각에 기분이 상했는데, 두번째 질문에는 아주 기분 좋게 웃으면서 대답을 하였다.\n",
            "그 후 두번째 질문을 할 때에는 자기가 좋아하는 것을 집어치우고\n"
          ]
        },
        {
          "name": "stderr",
          "output_type": "stream",
          "text": [
            "/tmp/ipykernel_23/585525791.py:47: FutureWarning: You are using `torch.load` with `weights_only=False` (the current default value), which uses the default pickle module implicitly. It is possible to construct malicious pickle data which will execute arbitrary code during unpickling (See https://github.com/pytorch/pytorch/blob/main/SECURITY.md#untrusted-models for more details). In a future release, the default value for `weights_only` will be flipped to `True`. This limits the functions that could be executed during unpickling. Arbitrary objects will no longer be allowed to be loaded via this mode unless they are explicitly allowlisted by the user via `torch.serialization.add_safe_globals`. We recommend you start setting `weights_only=True` for any use case where you don't have full control of the loaded file. Please open an issue on GitHub for any issues related to this experimental feature.\n",
            "  model.load_state_dict(torch.load('./best_model.pt', map_location=torch.device('cpu')))\n"
          ]
        },
        {
          "name": "stdout",
          "output_type": "stream",
          "text": [
            "\n",
            "--- Response with Custom Weights (best_model.pt) ---\n",
            ": 저의 강점과 단점에 대해 말씀드리겠습니다. 저는 우선 저에게 맞는 일을 찾아서 하는 것을 좋아합니다. 그리고 일을 빨리 처리하다 보면은 일의 속도도 빨라지고 시간도 단축되는 그런 장점이 있습니다. 그리고 저 같은 경우에는 업무를 할 때 항상 계획을 철저히 세워서 일을 하는 편입니다. 그리고 제가 그렇게 꼼꼼하게 일을 해 왔던 그런 기억이 있습니다. 그래서 그런 것들이 제가 일을 할 때에 장점이 되는 것 같습니다. 그리고 남들보다 꼼꼼한 편이라고 생각을 합니다. 그래서 저도 제가 이렇게 꼼꼼하고 꼼꼼하다는 점이 장점이 된다고 생각을 하고 그리고 그렇게 해서 일을 하게 되면 저 자신도 그 시간만 잘 버틸 수 있다면은 그것이 저한테는 가장 좋은 장점이 될 것 같아서 저에게는 장점이 되어질 것 같고 그리고 단점은 바로 체력이 약하다는 것입니다. 체격이 왜소하고 체력을 키워야 할 필요가 있습니다. 그렇기에 체력은 제 체력에 따라 많이 좌지우지 되는 편이고 그러다 보니 체력도 조금은 약해져 있는 그런 단\n"
          ]
        }
      ],
      "source": [
        "import torch\n",
        "from transformers import GPT2LMHeadModel, GPT2TokenizerFast\n",
        "\n",
        "# Load the tokenizer\n",
        "tokenizer = GPT2TokenizerFast.from_pretrained(\"skt/kogpt2-base-v2\",\n",
        "                                              bos_token='</s>',\n",
        "                                              eos_token='</s>',\n",
        "                                              unk_token='<unk>',\n",
        "                                              pad_token='<pad>',\n",
        "                                              mask_token='<mask>')\n",
        "\n",
        "# Load the pretrained model\n",
        "model = GPT2LMHeadModel.from_pretrained(\"skt/kogpt2-base-v2\")\n",
        "model.eval()\n",
        "\n",
        "# Move model to the appropriate device\n",
        "device = torch.device(\"cuda\" if torch.cuda.is_available() else \"cpu\")\n",
        "model.to(device)\n",
        "\n",
        "# Function to generate a response\n",
        "def generate_response(prompt, max_length=200):\n",
        "    input_ids = tokenizer.encode(prompt, return_tensors=\"pt\").to(device)\n",
        "    output = model.generate(\n",
        "        input_ids,\n",
        "        max_length=max_length,\n",
        "        num_return_sequences=1,\n",
        "        no_repeat_ngram_size=2,\n",
        "        top_k=50,\n",
        "        top_p=0.95,\n",
        "        temperature=0.8,\n",
        "        do_sample=True,\n",
        "        eos_token_id=tokenizer.eos_token_id\n",
        "    )\n",
        "    response = tokenizer.decode(output[0], skip_special_tokens=True)\n",
        "    return response\n",
        "\n",
        "# Example prompt\n",
        "prompt = \"<s> 질문: 자신의 강점은 무엇이라고 생각합니까? 답변:\"\n",
        "print(\"Prompt:\", prompt)\n",
        "\n",
        "# 1. Generate response with pretrained weights only\n",
        "print(\"\\n--- Response with Pretrained Weights ---\")\n",
        "response_pretrained = generate_response(prompt)\n",
        "print(response_pretrained.split('답변')[1])\n",
        "\n",
        "# 2. Load custom weights and generate response again\n",
        "model.load_state_dict(torch.load('./best_model.pt', map_location=torch.device('cpu')))\n",
        "model.eval()\n",
        "\n",
        "print(\"\\n--- Response with Custom Weights (best_model.pt) ---\")\n",
        "response_custom = generate_response(prompt)\n",
        "print(response_custom.split('답변')[1])\n"
      ]
    },
    {
      "cell_type": "code",
      "execution_count": null,
      "id": "46aff10e",
      "metadata": {
        "execution": {
          "iopub.execute_input": "2024-11-22T19:40:30.875318Z",
          "iopub.status.busy": "2024-11-22T19:40:30.875010Z",
          "iopub.status.idle": "2024-11-22T19:40:35.838483Z",
          "shell.execute_reply": "2024-11-22T19:40:35.837549Z"
        },
        "id": "46aff10e",
        "outputId": "23fc3a44-bf74-4a3f-d331-33203eb825a9",
        "papermill": {
          "duration": 7.18228,
          "end_time": "2024-11-22T19:40:35.840249",
          "exception": false,
          "start_time": "2024-11-22T19:40:28.657969",
          "status": "completed"
        },
        "tags": []
      },
      "outputs": [
        {
          "name": "stdout",
          "output_type": "stream",
          "text": [
            "Prompt: <s> 질문: 자신의 강점은 무엇이라고 생각합니까? 경력: 경력 직업: 경영관리 답변:\n",
            "\n",
            "--- Response with Pretrained Weights ---\n",
            ": 나의 강점과 단점이 무엇인가?\"\n",
            "이 질문에는 그 누구도 대답을 하지 않았다.\n",
            "그러나 그 질문에 대한 대답이 없었다.\n",
            "아무래도 답은 뭘 말하는 것이 좋을 것 같았다.\n",
            "\"제대로 된 답을 찾기가 쉽지 않군요.\"\n",
            "\"그럼 지금부터 당신은 그 대답에 대해 어떻게 생각하십니까. 당신이 지금까지 해온 일에 대해서 어떤 것을 말하는 게 좋을지 고민해봐야겠군.\"\n",
            "나는 잠시 침묵을 지키다가 다시 한 번 질문했다.\n",
            "\"당신이 말하는 그답이 무엇인지 찾아봐요? 그렇다면 저는 무엇을 말하는지 알고 싶습니다.\"\n",
            "나는 대답 대신 다른 대답으로 시간을 끌고는 말했다.\n",
            "\"여기서부터 다시 시작합니다.\"\n",
            "물론 나는 당신을 실망시키지 않았다.\n",
            "나는 그것을 깨달을 수 있었다.\n",
            "그것은 결코 내 개인적인 만족과 관련이 없는 것이었다.\n",
            "아무도 그것을 설명하지 않았기 때문에 나는 단지 당신에게만 만족할 뿐이었다.\n",
            "어차피 저\n"
          ]
        },
        {
          "name": "stderr",
          "output_type": "stream",
          "text": [
            "/tmp/ipykernel_23/814914237.py:47: FutureWarning: You are using `torch.load` with `weights_only=False` (the current default value), which uses the default pickle module implicitly. It is possible to construct malicious pickle data which will execute arbitrary code during unpickling (See https://github.com/pytorch/pytorch/blob/main/SECURITY.md#untrusted-models for more details). In a future release, the default value for `weights_only` will be flipped to `True`. This limits the functions that could be executed during unpickling. Arbitrary objects will no longer be allowed to be loaded via this mode unless they are explicitly allowlisted by the user via `torch.serialization.add_safe_globals`. We recommend you start setting `weights_only=True` for any use case where you don't have full control of the loaded file. Please open an issue on GitHub for any issues related to this experimental feature.\n",
            "  model.load_state_dict(torch.load('./best_model.pt', map_location=torch.device('cpu')))\n"
          ]
        },
        {
          "name": "stdout",
          "output_type": "stream",
          "text": [
            "\n",
            "--- Response with Custom Weights (best_model.pt) ---\n",
            ": 어 저는 경영 관리 쪽으로 봤을 때 저의 장점을 말씀드리고 싶습니다. 어 경영 관리는 이제 제가 경영 관리를 하는 것이 아니라 제가 이십 대 때 경영학과에 와서 공부를 했습니다. 이 경영과 관련된 전공을 하면서 제가 가지고 있는 역량을 잘 발휘했었습니다. 제가 가진 역량 그리고 어 제 능력들이 많이 이 접목될 수 있다고 생각을 해서 저한테 주어진 업무도 열심히 수행을 했고 그리고 제가 잘하는 업무들도 많이 수행을 했었는데요. 어 이런 경영 관리하는 부분이 저에게 있어서 굉장히 큰 장점이 될 수 있을 것 같습니다. 아무래도 경영 업무를 하다 보면은 어 책임감이 굉장한 비중을 차지하는데요. 이 책임감을 가지기 위해서는 굉장의 노력들이 필요합니다. 경영은 어떻게 보면 제가 맡은 업무지만 제가 하는 업무만 해도 굉장이 큰 비중을 차지하고 있고요. 그래서 제가 한 번 이 일을 수행을 했을 때 굉장을 자랑스러워 하고 이 회사의 일원으로서 인정을 받고\n"
          ]
        }
      ],
      "source": [
        "import torch\n",
        "from transformers import GPT2LMHeadModel, GPT2TokenizerFast\n",
        "\n",
        "# Load the tokenizer\n",
        "tokenizer = GPT2TokenizerFast.from_pretrained(\"skt/kogpt2-base-v2\",\n",
        "                                              bos_token='</s>',\n",
        "                                              eos_token='</s>',\n",
        "                                              unk_token='<unk>',\n",
        "                                              pad_token='<pad>',\n",
        "                                              mask_token='<mask>')\n",
        "\n",
        "# Load the pretrained model\n",
        "model = GPT2LMHeadModel.from_pretrained(\"skt/kogpt2-base-v2\")\n",
        "model.eval()\n",
        "\n",
        "# Move model to the appropriate device\n",
        "device = torch.device(\"cuda\" if torch.cuda.is_available() else \"cpu\")\n",
        "model.to(device)\n",
        "\n",
        "# Function to generate a response\n",
        "def generate_response(prompt, max_length=200):\n",
        "    input_ids = tokenizer.encode(prompt, return_tensors=\"pt\").to(device)\n",
        "    output = model.generate(\n",
        "        input_ids,\n",
        "        max_length=max_length,\n",
        "        num_return_sequences=1,\n",
        "        no_repeat_ngram_size=2,\n",
        "        top_k=50,\n",
        "        top_p=0.95,\n",
        "        temperature=0.8,\n",
        "        do_sample=True,\n",
        "        eos_token_id=tokenizer.eos_token_id\n",
        "    )\n",
        "    response = tokenizer.decode(output[0], skip_special_tokens=True)\n",
        "    return response\n",
        "\n",
        "# Example prompt\n",
        "prompt = \"<s> 질문: 자신의 강점은 무엇이라고 생각합니까? 경력: 경력 직업: 경영관리 답변:\"\n",
        "print(\"Prompt:\", prompt)\n",
        "\n",
        "# 1. Generate response with pretrained weights only\n",
        "print(\"\\n--- Response with Pretrained Weights ---\")\n",
        "response_pretrained = generate_response(prompt)\n",
        "print(response_pretrained.split('답변')[1])\n",
        "\n",
        "# 2. Load custom weights and generate response again\n",
        "model.load_state_dict(torch.load('./best_model.pt', map_location=torch.device('cpu')))\n",
        "model.eval()\n",
        "\n",
        "print(\"\\n--- Response with Custom Weights (best_model.pt) ---\")\n",
        "response_custom = generate_response(prompt)\n",
        "print(response_custom.split('답변')[1])"
      ]
    },
    {
      "cell_type": "code",
      "execution_count": null,
      "id": "782a8a0c",
      "metadata": {
        "id": "782a8a0c",
        "papermill": {
          "duration": 2.296477,
          "end_time": "2024-11-22T19:40:40.422633",
          "exception": false,
          "start_time": "2024-11-22T19:40:38.126156",
          "status": "completed"
        },
        "tags": []
      },
      "outputs": [],
      "source": []
    },
    {
      "cell_type": "markdown",
      "source": [
        "| Epoch | Training Loss | Validation Loss | BLEU | ROUGE-1 | ROUGE-2 | ROUGE-L | BERTScore P | BERTScore R | BERTScore F1 | Best Model |\n",
        "|-------|--------------|-----------------|------|----------|----------|----------|-------------|-------------|--------------|------------|\n",
        "| 1 | 2.4002 | 2.1743 | 0.9069 | 0.3575 | 0.1047 | 0.2837 | 0.7810 | 0.7703 | 0.7756 | ✓ |\n",
        "| 2 | 2.2077 | 2.1352 | 0.9555 | 0.3624 | 0.1085 | 0.2890 | 0.7837 | 0.7732 | 0.7784 | ✓ |\n",
        "| 3 | 2.1036 | 2.1215 | 0.9942 | 0.3651 | 0.1110 | 0.2917 | 0.7849 | 0.7757 | 0.7802 | ✓ |\n",
        "| 4 | 2.0253 | 2.1079 | 1.0156 | 0.3689 | 0.1128 | 0.2944 | 0.7867 | 0.7777 | 0.7821 | ✓ |\n",
        "| 5 | 1.9668 | 2.1088 | 1.0342 | 0.3701 | 0.1139 | 0.2951 | 0.7867 | 0.7785 | 0.7826 | |"
      ],
      "metadata": {
        "id": "fLVlyZ-8RUPv"
      },
      "id": "fLVlyZ-8RUPv"
    },
    {
      "cell_type": "code",
      "execution_count": 2,
      "id": "e737b4ff",
      "metadata": {
        "id": "e737b4ff",
        "outputId": "a706e504-182d-4c4b-a159-46b011293a66",
        "papermill": {
          "duration": 2.341303,
          "end_time": "2024-11-22T19:40:44.978372",
          "exception": false,
          "start_time": "2024-11-22T19:40:42.637069",
          "status": "completed"
        },
        "tags": [],
        "colab": {
          "base_uri": "https://localhost:8080/",
          "height": 761
        }
      },
      "outputs": [
        {
          "output_type": "display_data",
          "data": {
            "text/plain": [
              "<Figure size 1500x1200 with 4 Axes>"
            ],
            "image/png": "[encoded data removed]"
          },
          "metadata": {}
        }
      ],
      "source": [
        "import matplotlib.pyplot as plt\n",
        "import numpy as np\n",
        "\n",
        "# 데이터 준비\n",
        "epochs = np.arange(1, 6)\n",
        "train_loss = [2.4002, 2.2077, 2.1036, 2.0253, 1.9668]\n",
        "val_loss = [2.1743, 2.1352, 2.1215, 2.1079, 2.1088]\n",
        "bleu = [0.9069, 0.9555, 0.9942, 1.0156, 1.0342]\n",
        "rouge1 = [0.3575, 0.3624, 0.3651, 0.3689, 0.3701]\n",
        "rouge2 = [0.1047, 0.1085, 0.1110, 0.1128, 0.1139]\n",
        "rougeL = [0.2837, 0.2890, 0.2917, 0.2944, 0.2951]\n",
        "bert_p = [0.7810, 0.7837, 0.7849, 0.7867, 0.7867]\n",
        "bert_r = [0.7703, 0.7732, 0.7757, 0.7777, 0.7785]\n",
        "bert_f1 = [0.7756, 0.7784, 0.7802, 0.7821, 0.7826]\n",
        "\n",
        "# 그래프 설정\n",
        "fig, ((ax1, ax2), (ax3, ax4)) = plt.subplots(2, 2, figsize=(15, 12))\n",
        "fig.suptitle('Training Metrics Over Epochs', fontsize=16, y=0.95)\n",
        "\n",
        "# Loss plot\n",
        "ax1.plot(epochs, train_loss, 'b-o', label='Training Loss')\n",
        "ax1.plot(epochs, val_loss, 'r-o', label='Validation Loss')\n",
        "ax1.set_title('Loss Curves')\n",
        "ax1.set_xlabel('Epoch')\n",
        "ax1.set_ylabel('Loss')\n",
        "ax1.legend()\n",
        "ax1.grid(True)\n",
        "\n",
        "# BLEU score plot\n",
        "ax2.plot(epochs, bleu, 'g-o')\n",
        "ax2.set_title('BLEU Score')\n",
        "ax2.set_xlabel('Epoch')\n",
        "ax2.set_ylabel('BLEU')\n",
        "ax2.grid(True)\n",
        "\n",
        "# ROUGE scores plot\n",
        "ax3.plot(epochs, rouge1, 'b-o', label='ROUGE-1')\n",
        "ax3.plot(epochs, rouge2, 'r-o', label='ROUGE-2')\n",
        "ax3.plot(epochs, rougeL, 'g-o', label='ROUGE-L')\n",
        "ax3.set_title('ROUGE Scores')\n",
        "ax3.set_xlabel('Epoch')\n",
        "ax3.set_ylabel('Score')\n",
        "ax3.legend()\n",
        "ax3.grid(True)\n",
        "\n",
        "# BERTScore plot\n",
        "ax4.plot(epochs, bert_p, 'b-o', label='Precision')\n",
        "ax4.plot(epochs, bert_r, 'r-o', label='Recall')\n",
        "ax4.plot(epochs, bert_f1, 'g-o', label='F1')\n",
        "ax4.set_title('BERTScore Metrics')\n",
        "ax4.set_xlabel('Epoch')\n",
        "ax4.set_ylabel('Score')\n",
        "ax4.legend()\n",
        "ax4.grid(True)\n",
        "\n",
        "plt.tight_layout()\n",
        "plt.show()"
      ]
    },
    {
      "cell_type": "code",
      "execution_count": null,
      "id": "864e016e",
      "metadata": {
        "papermill": {
          "duration": 2.231173,
          "end_time": "2024-11-22T19:40:49.559385",
          "exception": false,
          "start_time": "2024-11-22T19:40:47.328212",
          "status": "completed"
        },
        "tags": [],
        "id": "864e016e"
      },
      "outputs": [],
      "source": []
    },
    {
      "cell_type": "code",
      "execution_count": null,
      "id": "7f28e9c0",
      "metadata": {
        "papermill": {
          "duration": 2.340598,
          "end_time": "2024-11-22T19:40:54.185389",
          "exception": false,
          "start_time": "2024-11-22T19:40:51.844791",
          "status": "completed"
        },
        "tags": [],
        "id": "7f28e9c0"
      },
      "outputs": [],
      "source": []
    }
  ],
  "metadata": {
    "colab": {
      "machine_shape": "hm",
      "provenance": [],
      "include_colab_link": true
    },
    "kaggle": {
      "accelerator": "nvidiaTeslaT4",
      "dataSources": [],
      "dockerImageVersionId": 30787,
      "isGpuEnabled": true,
      "isInternetEnabled": true,
      "language": "python",
      "sourceType": "notebook"
    },
    "kernelspec": {
      "display_name": "Python 3",
      "name": "python3"
    },
    "language_info": {
      "codemirror_mode": {
        "name": "ipython",
        "version": 3
      },
      "file_extension": ".py",
      "mimetype": "text/x-python",
      "name": "python",
      "nbconvert_exporter": "python",
      "pygments_lexer": "ipython3",
      "version": "3.10.14"
    },
    "papermill": {
      "default_parameters": {},
      "duration": 29942.98357,
      "end_time": "2024-11-22T19:40:58.131036",
      "environment_variables": {},
      "exception": null,
      "input_path": "__notebook__.ipynb",
      "output_path": "__notebook__.ipynb",
      "parameters": {},
      "start_time": "2024-11-22T11:21:55.147466",
      "version": "2.6.0"
    },
    "widgets": {
      "application/vnd.jupyter.widget-state+json": {}
    }
  },
  "nbformat": 4,
  "nbformat_minor": 5
}